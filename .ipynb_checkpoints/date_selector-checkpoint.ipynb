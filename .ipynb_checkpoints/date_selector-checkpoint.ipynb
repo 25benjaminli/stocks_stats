{
 "cells": [
  {
   "cell_type": "code",
   "execution_count": 45,
   "metadata": {},
   "outputs": [
    {
     "name": "stdout",
     "output_type": "stream",
     "text": [
      "The autoreload extension is already loaded. To reload it, use:\n",
      "  %reload_ext autoreload\n",
      "2019-05-19 2024-05-17\n"
     ]
    }
   ],
   "source": [
    "from stocksent import Sentiment\n",
    "import yfinance as yf\n",
    "import datetime\n",
    "from pandas_datareader import data as pdr\n",
    "import pandas as pd\n",
    "\n",
    "\n",
    "%load_ext autoreload\n",
    "%autoreload 2\n",
    "\n",
    "days_back = 1825\n",
    "diff = datetime.timedelta(days = days_back)\n",
    "start_date = datetime.datetime.strftime(datetime.datetime.now() - diff, \"%Y-%m-%d\")\n",
    "end_date = datetime.datetime.strftime(datetime.datetime.now(), \"%Y-%m-%d\")\n",
    "print(start_date, end_date)"
   ]
  },
  {
   "cell_type": "code",
   "execution_count": 58,
   "metadata": {},
   "outputs": [
    {
     "name": "stderr",
     "output_type": "stream",
     "text": [
      "[*********************100%%**********************]  1 of 1 completed\n"
     ]
    }
   ],
   "source": [
    "\n",
    "yf.pdr_override() # <== that's all it takes :-)\n",
    "\n",
    "\n",
    "# download dataframe\n",
    "data = pdr.get_data_yahoo(\"SPY\", start=start_date, end=end_date)\n",
    "days = data.axes[0]\n",
    "days_data = []\n",
    "for day in days:\n",
    "    days_data.append(datetime.datetime.strftime(day, \"%Y-%m-%d\"))\n",
    "days_df = pd.DataFrame(days_data)\n",
    "days_df.to_csv('all_days.csv',mode = 'w', index=False, header=False)"
   ]
  },
  {
   "cell_type": "code",
   "execution_count": 59,
   "metadata": {},
   "outputs": [
    {
     "data": {
      "text/html": [
       "<div>\n",
       "<style scoped>\n",
       "    .dataframe tbody tr th:only-of-type {\n",
       "        vertical-align: middle;\n",
       "    }\n",
       "\n",
       "    .dataframe tbody tr th {\n",
       "        vertical-align: top;\n",
       "    }\n",
       "\n",
       "    .dataframe thead th {\n",
       "        text-align: right;\n",
       "    }\n",
       "</style>\n",
       "<table border=\"1\" class=\"dataframe\">\n",
       "  <thead>\n",
       "    <tr style=\"text-align: right;\">\n",
       "      <th></th>\n",
       "      <th>0</th>\n",
       "    </tr>\n",
       "  </thead>\n",
       "  <tbody>\n",
       "    <tr>\n",
       "      <th>0</th>\n",
       "      <td>2019-05-20</td>\n",
       "    </tr>\n",
       "    <tr>\n",
       "      <th>1</th>\n",
       "      <td>2019-05-21</td>\n",
       "    </tr>\n",
       "    <tr>\n",
       "      <th>2</th>\n",
       "      <td>2019-05-22</td>\n",
       "    </tr>\n",
       "    <tr>\n",
       "      <th>3</th>\n",
       "      <td>2019-05-23</td>\n",
       "    </tr>\n",
       "    <tr>\n",
       "      <th>4</th>\n",
       "      <td>2019-05-24</td>\n",
       "    </tr>\n",
       "  </tbody>\n",
       "</table>\n",
       "</div>"
      ],
      "text/plain": [
       "            0\n",
       "0  2019-05-20\n",
       "1  2019-05-21\n",
       "2  2019-05-22\n",
       "3  2019-05-23\n",
       "4  2019-05-24"
      ]
     },
     "execution_count": 59,
     "metadata": {},
     "output_type": "execute_result"
    }
   ],
   "source": [
    "days_df.head()"
   ]
  },
  {
   "cell_type": "code",
   "execution_count": 60,
   "metadata": {},
   "outputs": [],
   "source": [
    "# randomly select 30 days of data\n",
    "import random\n",
    "import numpy as np\n",
    "\n",
    "random.seed(42)\n",
    "random_dates = random.sample(sorted(days), 30)\n",
    "random_dates = np.sort(random_dates)\n",
    "random_df = pd.DataFrame(random_dates)\n",
    "random_df.to_csv(\"random_days.csv\", mode = 'w', index=False, header=False)"
   ]
  },
  {
   "cell_type": "code",
   "execution_count": null,
   "metadata": {},
   "outputs": [],
   "source": []
  }
 ],
 "metadata": {
  "kernelspec": {
   "display_name": "Python 3 (ipykernel)",
   "language": "python",
   "name": "python3"
  },
  "language_info": {
   "codemirror_mode": {
    "name": "ipython",
    "version": 3
   },
   "file_extension": ".py",
   "mimetype": "text/x-python",
   "name": "python",
   "nbconvert_exporter": "python",
   "pygments_lexer": "ipython3",
   "version": "3.9.6"
  }
 },
 "nbformat": 4,
 "nbformat_minor": 4
}
