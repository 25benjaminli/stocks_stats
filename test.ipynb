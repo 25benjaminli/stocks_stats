{
 "cells": [
  {
   "cell_type": "code",
   "execution_count": 6,
   "metadata": {},
   "outputs": [],
   "source": [
    "import csv\n",
    "import requests\n",
    "from datetime import datetime, timedelta\n",
    "import pandas as pd\n",
    "def fetch_and_paginate_news(date):\n",
    "    all_news_data = []\n",
    "    next_page_token = None\n",
    "    actual_end_date = datetime.strptime(date, \"%Y-%m-%d\") - timedelta(days=1)\n",
    "    actual_end_date = actual_end_date.strftime(\"%Y-%m-%d\")\n",
    "\n",
    "    actual_start_date = datetime.strptime(date, \"%Y-%m-%d\") - timedelta(days=7)\n",
    "    actual_start_date = actual_start_date.strftime(\"%Y-%m-%d\")\n",
    "\n",
    "    print(\"start and end news collection\", actual_start_date, actual_end_date)\n",
    "\n",
    "    ticker_list = pd.read_csv(\"s&p.csv\")[\"Symbol\"].tolist()\n",
    "    # ticker_list = ['MSFT','AAPL']\n",
    "\n",
    "    print(\"length of ticker list\", len(ticker_list))\n",
    "    print(\",\".join(ticker_list))\n",
    "    \n",
    "\n",
    "    while True:\n",
    "        headers = {\n",
    "            \"accept\": \"application/json\",\n",
    "            \"APCA-API-KEY-ID\": \"PKCWWRQXRDUHA39IOI8N\",\n",
    "            \"APCA-API-SECRET-KEY\": \"5kSov913hC4g1U0YZxBwUrNf98vO4lKMlcrlqavv\"\n",
    "        }\n",
    "        \n",
    "        url = \"https://data.alpaca.markets/v1beta1/news\"\n",
    "        # actual_end_date is 1 day back from date\n",
    "        \n",
    "\n",
    "        \n",
    "        params = {\n",
    "            \"start\": actual_start_date,\n",
    "            \"end\": actual_end_date,\n",
    "            \"limit\": 50,\n",
    "            \"include_content\": False,\n",
    "            \"exclude_contentless\": False,\n",
    "            \"sort\" : \"asc\",\n",
    "            \"symbols\" : \",\".join(ticker_list),\n",
    "        }\n",
    "\n",
    "        if next_page_token:\n",
    "            params[\"page_token\"] = next_page_token\n",
    "        \n",
    "        # if next_page_token:\n",
    "        #     url += \"&page_token=\" + next_page_token\n",
    "\n",
    "        response = requests.get(url, params=params, headers=headers)\n",
    "        \n",
    "        data = response.json()\n",
    "        print(url, len(data['news']))\n",
    "        # if 'news' not in data:\n",
    "        #     print(\"error1\")\n",
    "        #     break\n",
    "        # print(len(data[\"news\"]))\n",
    "\n",
    "        all_news_data.extend(data['news'])\n",
    "        next_page_token = data.get('next_page_token')\n",
    "\n",
    "        if not next_page_token:\n",
    "            print(\"error2\")\n",
    "            break\n",
    "\n",
    "        # print(next_page_token)\n",
    "\n",
    "        # return data\n",
    "    \n",
    "    return all_news_data\n"
   ]
  },
  {
   "cell_type": "code",
   "execution_count": 7,
   "metadata": {},
   "outputs": [
    {
     "name": "stderr",
     "output_type": "stream",
     "text": [
      "  0%|          | 0/150 [00:00<?, ?it/s]"
     ]
    },
    {
     "name": "stdout",
     "output_type": "stream",
     "text": [
      "Fetching news for date: 2015-01-06\n",
      "start and end news collection 2014-12-30 2015-01-05\n",
      "length of ticker list 503\n",
      "MSFT,AAPL,NVDA,GOOG,GOOGL,AMZN,META,BRK-B,LLY,AVGO,JPM,TSLA,V,WMT,XOM,UNH,MA,PG,COST,JNJ,ORCL,MRK,HD,BAC,CVX,NFLX,ABBV,AMD,KO,CRM,PEP,QCOM,TMO,ADBE,WFC,LIN,DHR,TMUS,ACN,CSCO,MCD,DIS,GE,AMAT,TXN,ABT,AXP,CAT,INTU,VZ,AMGN,PFE,MS,NEE,IBM,PM,NOW,CMCSA,BX,GS,ISRG,MU,UNP,RTX,NKE,COP,SPGI,ETN,UBER,SCHW,INTC,HON,BKNG,SYK,LRCX,T,LOW,C,ELV,PGR,UPS,VRTX,BLK,TJX,ADI,LMT,BSX,REGN,MDT,CB,BA,KLAC,DE,PANW,MMC,ADP,PLD,ANET,CI,ABNB,MDLZ,SNPS,SBUX,FI,AMT,CMG,SO,WM,BMY,HCA,GD,GILD,APH,CDNS,DUK,ICE,MO,ZTS,CME,SHW,CL,TT,TDG,MCO,FCX,MCK,EQIX,CEG,ITW,NXPI,EOG,CVS,CTAS,NOC,PH,MAR,TGT,ECL,BDX,SLB,CSX,EMR,PYPL,MRNA,USB,MPC,PNC,AON,FDX,MSI,PSX,WELL,CARR,RSG,APD,ROP,ORLY,PCAR,SPG,MNST,MMM,AJG,OXY,VLO,EW,MCHP,COF,CPRT,AIG,SMCI,MET,TFC,NSC,HLT,DXCM,GM,AFL,JCI,WMB,TRV,GEV,NEM,F,PCG,SRE,AZO,PSA,ROST,DHI,GWW,DLR,OKE,AEP,FTNT,HES,KDP,TEL,ADSK,STZ,O,URI,EL,PAYX,KMB,D,BK,A,AMP,COR,KHC,ALL,FIS,LEN,PRU,IDXX,CCI,LHX,KMI,HUM,IQV,PWR,NUE,DOW,AME,HSY,CNC,OTIS,CHTR,MSCI,CMI,ACGL,YUM,CTVA,GIS,KR,IR,RCL,LULU,FAST,ODFL,PEG,KVUE,EXC,MPWR,GEHC,SYY,EA,VRSK,NDAQ,MLM,VST,CSGP,XYL,HWM,FANG,VMC,FICO,IT,CTSH,DD,DAL,LVS,ED,BKR,LYB,HPQ,HAL,DG,BIIB,MTD,GRMN,EXR,RMD,ON,GLW,CDW,DFS,PPG,DVN,TSCO,ROK,HIG,WAB,ADM,XEL,EFX,FSLR,VICI,ANSS,EIX,AVB,EBAY,CBRE,FTV,DECK,TTWO,TROW,GPN,RJF,CHD,WTW,BRO,WEC,FITB,TRGP,DOV,VLTO,DLTR,KEYS,MTB,AWK,EQR,IFF,WDC,WST,PHM,ZBH,HPE,NTAP,BR,IRM,CAH,DTE,ETR,NVR,STT,STE,TER,APTV,FE,ROL,LYV,HUBB,WY,PTC,BF-B,AXON,BALL,TSN,PPL,INVH,STLD,TYL,BLDR,K,ARE,LDOS,WRB,ES,GPC,SBAC,CTRA,WAT,HBAN,CCL,STX,MOH,MKC,PFG,ALGN,HRL,VTR,CBOE,TDY,AEE,WBD,CNP,COO,CPAY,OMC,CINF,ULTA,CMS,AVY,NRG,EQT,DRI,J,DPZ,RF,SYF,BAX,ESS,HOLX,VRSN,NTRS,ENPH,EG,UAL,ATO,ILMN,TXT,LH,ZBRA,CE,EXPD,FDS,L,PKG,CLX,IEX,JBHT,CFG,LUV,MAA,IP,DGX,GEN,BBY,NWS,NWSA,MAS,FOX,FOXA,ALB,AES,SWKS,BG,UDR,EXPE,CAG,JBL,MRO,AMCR,AKAM,SNA,CF,WRK,RVTY,POOL,TRMB,WBA,PNR,KEY,NDSN,CPB,DOC,SWK,HST,INCY,LW,LNT,TECH,PODD,NI,MGM,KIM,AOS,VTRS,JKHY,EVRG,BEN,DVA,IPG,UHS,EMN,SJM,LKQ,TAP,JNPR,CRL,CPT,REG,KMX,APA,RL,BBWI,ALLE,WYNN,BXP,EPAM,SOLV,CHRW,HII,FFIV,MOS,CTLT,PAYC,TFX,TPR,QRVO,HSIC,AAL,GNRC,DAY,AIZ,PNW,HAS,PARA,MKTX,FRT,BIO,BWA,MTCH,FMC,GL,MHK,CZR,ETSY,IVZ,RHI,NCLH,CMA\n",
      "https://data.alpaca.markets/v1beta1/news 50\n"
     ]
    },
    {
     "name": "stderr",
     "output_type": "stream",
     "text": [
      "  1%|          | 1/150 [00:00<01:37,  1.52it/s]"
     ]
    },
    {
     "name": "stdout",
     "output_type": "stream",
     "text": [
      "https://data.alpaca.markets/v1beta1/news 23\n",
      "error2\n",
      "Number of news articles: 73\n",
      "Fetching news for date: 2015-01-22\n",
      "start and end news collection 2015-01-15 2015-01-21\n",
      "length of ticker list 503\n",
      "MSFT,AAPL,NVDA,GOOG,GOOGL,AMZN,META,BRK-B,LLY,AVGO,JPM,TSLA,V,WMT,XOM,UNH,MA,PG,COST,JNJ,ORCL,MRK,HD,BAC,CVX,NFLX,ABBV,AMD,KO,CRM,PEP,QCOM,TMO,ADBE,WFC,LIN,DHR,TMUS,ACN,CSCO,MCD,DIS,GE,AMAT,TXN,ABT,AXP,CAT,INTU,VZ,AMGN,PFE,MS,NEE,IBM,PM,NOW,CMCSA,BX,GS,ISRG,MU,UNP,RTX,NKE,COP,SPGI,ETN,UBER,SCHW,INTC,HON,BKNG,SYK,LRCX,T,LOW,C,ELV,PGR,UPS,VRTX,BLK,TJX,ADI,LMT,BSX,REGN,MDT,CB,BA,KLAC,DE,PANW,MMC,ADP,PLD,ANET,CI,ABNB,MDLZ,SNPS,SBUX,FI,AMT,CMG,SO,WM,BMY,HCA,GD,GILD,APH,CDNS,DUK,ICE,MO,ZTS,CME,SHW,CL,TT,TDG,MCO,FCX,MCK,EQIX,CEG,ITW,NXPI,EOG,CVS,CTAS,NOC,PH,MAR,TGT,ECL,BDX,SLB,CSX,EMR,PYPL,MRNA,USB,MPC,PNC,AON,FDX,MSI,PSX,WELL,CARR,RSG,APD,ROP,ORLY,PCAR,SPG,MNST,MMM,AJG,OXY,VLO,EW,MCHP,COF,CPRT,AIG,SMCI,MET,TFC,NSC,HLT,DXCM,GM,AFL,JCI,WMB,TRV,GEV,NEM,F,PCG,SRE,AZO,PSA,ROST,DHI,GWW,DLR,OKE,AEP,FTNT,HES,KDP,TEL,ADSK,STZ,O,URI,EL,PAYX,KMB,D,BK,A,AMP,COR,KHC,ALL,FIS,LEN,PRU,IDXX,CCI,LHX,KMI,HUM,IQV,PWR,NUE,DOW,AME,HSY,CNC,OTIS,CHTR,MSCI,CMI,ACGL,YUM,CTVA,GIS,KR,IR,RCL,LULU,FAST,ODFL,PEG,KVUE,EXC,MPWR,GEHC,SYY,EA,VRSK,NDAQ,MLM,VST,CSGP,XYL,HWM,FANG,VMC,FICO,IT,CTSH,DD,DAL,LVS,ED,BKR,LYB,HPQ,HAL,DG,BIIB,MTD,GRMN,EXR,RMD,ON,GLW,CDW,DFS,PPG,DVN,TSCO,ROK,HIG,WAB,ADM,XEL,EFX,FSLR,VICI,ANSS,EIX,AVB,EBAY,CBRE,FTV,DECK,TTWO,TROW,GPN,RJF,CHD,WTW,BRO,WEC,FITB,TRGP,DOV,VLTO,DLTR,KEYS,MTB,AWK,EQR,IFF,WDC,WST,PHM,ZBH,HPE,NTAP,BR,IRM,CAH,DTE,ETR,NVR,STT,STE,TER,APTV,FE,ROL,LYV,HUBB,WY,PTC,BF-B,AXON,BALL,TSN,PPL,INVH,STLD,TYL,BLDR,K,ARE,LDOS,WRB,ES,GPC,SBAC,CTRA,WAT,HBAN,CCL,STX,MOH,MKC,PFG,ALGN,HRL,VTR,CBOE,TDY,AEE,WBD,CNP,COO,CPAY,OMC,CINF,ULTA,CMS,AVY,NRG,EQT,DRI,J,DPZ,RF,SYF,BAX,ESS,HOLX,VRSN,NTRS,ENPH,EG,UAL,ATO,ILMN,TXT,LH,ZBRA,CE,EXPD,FDS,L,PKG,CLX,IEX,JBHT,CFG,LUV,MAA,IP,DGX,GEN,BBY,NWS,NWSA,MAS,FOX,FOXA,ALB,AES,SWKS,BG,UDR,EXPE,CAG,JBL,MRO,AMCR,AKAM,SNA,CF,WRK,RVTY,POOL,TRMB,WBA,PNR,KEY,NDSN,CPB,DOC,SWK,HST,INCY,LW,LNT,TECH,PODD,NI,MGM,KIM,AOS,VTRS,JKHY,EVRG,BEN,DVA,IPG,UHS,EMN,SJM,LKQ,TAP,JNPR,CRL,CPT,REG,KMX,APA,RL,BBWI,ALLE,WYNN,BXP,EPAM,SOLV,CHRW,HII,FFIV,MOS,CTLT,PAYC,TFX,TPR,QRVO,HSIC,AAL,GNRC,DAY,AIZ,PNW,HAS,PARA,MKTX,FRT,BIO,BWA,MTCH,FMC,GL,MHK,CZR,ETSY,IVZ,RHI,NCLH,CMA\n",
      "https://data.alpaca.markets/v1beta1/news 50\n",
      "https://data.alpaca.markets/v1beta1/news 50\n",
      "https://data.alpaca.markets/v1beta1/news 50\n",
      "https://data.alpaca.markets/v1beta1/news 50\n",
      "https://data.alpaca.markets/v1beta1/news 50\n",
      "https://data.alpaca.markets/v1beta1/news 50\n",
      "https://data.alpaca.markets/v1beta1/news 50\n",
      "https://data.alpaca.markets/v1beta1/news 50\n",
      "https://data.alpaca.markets/v1beta1/news 50\n",
      "https://data.alpaca.markets/v1beta1/news 50\n",
      "https://data.alpaca.markets/v1beta1/news 50\n"
     ]
    },
    {
     "name": "stderr",
     "output_type": "stream",
     "text": [
      "  1%|▏         | 2/150 [00:04<06:57,  2.82s/it]"
     ]
    },
    {
     "name": "stdout",
     "output_type": "stream",
     "text": [
      "https://data.alpaca.markets/v1beta1/news 25\n",
      "error2\n",
      "Number of news articles: 575\n",
      "Fetching news for date: 2015-02-10\n",
      "start and end news collection 2015-02-03 2015-02-09\n",
      "length of ticker list 503\n",
      "MSFT,AAPL,NVDA,GOOG,GOOGL,AMZN,META,BRK-B,LLY,AVGO,JPM,TSLA,V,WMT,XOM,UNH,MA,PG,COST,JNJ,ORCL,MRK,HD,BAC,CVX,NFLX,ABBV,AMD,KO,CRM,PEP,QCOM,TMO,ADBE,WFC,LIN,DHR,TMUS,ACN,CSCO,MCD,DIS,GE,AMAT,TXN,ABT,AXP,CAT,INTU,VZ,AMGN,PFE,MS,NEE,IBM,PM,NOW,CMCSA,BX,GS,ISRG,MU,UNP,RTX,NKE,COP,SPGI,ETN,UBER,SCHW,INTC,HON,BKNG,SYK,LRCX,T,LOW,C,ELV,PGR,UPS,VRTX,BLK,TJX,ADI,LMT,BSX,REGN,MDT,CB,BA,KLAC,DE,PANW,MMC,ADP,PLD,ANET,CI,ABNB,MDLZ,SNPS,SBUX,FI,AMT,CMG,SO,WM,BMY,HCA,GD,GILD,APH,CDNS,DUK,ICE,MO,ZTS,CME,SHW,CL,TT,TDG,MCO,FCX,MCK,EQIX,CEG,ITW,NXPI,EOG,CVS,CTAS,NOC,PH,MAR,TGT,ECL,BDX,SLB,CSX,EMR,PYPL,MRNA,USB,MPC,PNC,AON,FDX,MSI,PSX,WELL,CARR,RSG,APD,ROP,ORLY,PCAR,SPG,MNST,MMM,AJG,OXY,VLO,EW,MCHP,COF,CPRT,AIG,SMCI,MET,TFC,NSC,HLT,DXCM,GM,AFL,JCI,WMB,TRV,GEV,NEM,F,PCG,SRE,AZO,PSA,ROST,DHI,GWW,DLR,OKE,AEP,FTNT,HES,KDP,TEL,ADSK,STZ,O,URI,EL,PAYX,KMB,D,BK,A,AMP,COR,KHC,ALL,FIS,LEN,PRU,IDXX,CCI,LHX,KMI,HUM,IQV,PWR,NUE,DOW,AME,HSY,CNC,OTIS,CHTR,MSCI,CMI,ACGL,YUM,CTVA,GIS,KR,IR,RCL,LULU,FAST,ODFL,PEG,KVUE,EXC,MPWR,GEHC,SYY,EA,VRSK,NDAQ,MLM,VST,CSGP,XYL,HWM,FANG,VMC,FICO,IT,CTSH,DD,DAL,LVS,ED,BKR,LYB,HPQ,HAL,DG,BIIB,MTD,GRMN,EXR,RMD,ON,GLW,CDW,DFS,PPG,DVN,TSCO,ROK,HIG,WAB,ADM,XEL,EFX,FSLR,VICI,ANSS,EIX,AVB,EBAY,CBRE,FTV,DECK,TTWO,TROW,GPN,RJF,CHD,WTW,BRO,WEC,FITB,TRGP,DOV,VLTO,DLTR,KEYS,MTB,AWK,EQR,IFF,WDC,WST,PHM,ZBH,HPE,NTAP,BR,IRM,CAH,DTE,ETR,NVR,STT,STE,TER,APTV,FE,ROL,LYV,HUBB,WY,PTC,BF-B,AXON,BALL,TSN,PPL,INVH,STLD,TYL,BLDR,K,ARE,LDOS,WRB,ES,GPC,SBAC,CTRA,WAT,HBAN,CCL,STX,MOH,MKC,PFG,ALGN,HRL,VTR,CBOE,TDY,AEE,WBD,CNP,COO,CPAY,OMC,CINF,ULTA,CMS,AVY,NRG,EQT,DRI,J,DPZ,RF,SYF,BAX,ESS,HOLX,VRSN,NTRS,ENPH,EG,UAL,ATO,ILMN,TXT,LH,ZBRA,CE,EXPD,FDS,L,PKG,CLX,IEX,JBHT,CFG,LUV,MAA,IP,DGX,GEN,BBY,NWS,NWSA,MAS,FOX,FOXA,ALB,AES,SWKS,BG,UDR,EXPE,CAG,JBL,MRO,AMCR,AKAM,SNA,CF,WRK,RVTY,POOL,TRMB,WBA,PNR,KEY,NDSN,CPB,DOC,SWK,HST,INCY,LW,LNT,TECH,PODD,NI,MGM,KIM,AOS,VTRS,JKHY,EVRG,BEN,DVA,IPG,UHS,EMN,SJM,LKQ,TAP,JNPR,CRL,CPT,REG,KMX,APA,RL,BBWI,ALLE,WYNN,BXP,EPAM,SOLV,CHRW,HII,FFIV,MOS,CTLT,PAYC,TFX,TPR,QRVO,HSIC,AAL,GNRC,DAY,AIZ,PNW,HAS,PARA,MKTX,FRT,BIO,BWA,MTCH,FMC,GL,MHK,CZR,ETSY,IVZ,RHI,NCLH,CMA\n",
      "https://data.alpaca.markets/v1beta1/news 50\n",
      "https://data.alpaca.markets/v1beta1/news 50\n",
      "https://data.alpaca.markets/v1beta1/news 50\n",
      "https://data.alpaca.markets/v1beta1/news 50\n",
      "https://data.alpaca.markets/v1beta1/news 50\n",
      "https://data.alpaca.markets/v1beta1/news 50\n",
      "https://data.alpaca.markets/v1beta1/news 50\n",
      "https://data.alpaca.markets/v1beta1/news 50\n",
      "https://data.alpaca.markets/v1beta1/news 50\n",
      "https://data.alpaca.markets/v1beta1/news 50\n",
      "https://data.alpaca.markets/v1beta1/news 50\n",
      "https://data.alpaca.markets/v1beta1/news 50\n",
      "https://data.alpaca.markets/v1beta1/news 50\n"
     ]
    },
    {
     "name": "stderr",
     "output_type": "stream",
     "text": [
      "  2%|▏         | 3/150 [00:10<09:29,  3.88s/it]"
     ]
    },
    {
     "name": "stdout",
     "output_type": "stream",
     "text": [
      "https://data.alpaca.markets/v1beta1/news 17\n",
      "error2\n",
      "Number of news articles: 667\n",
      "Fetching news for date: 2015-03-12\n",
      "start and end news collection 2015-03-05 2015-03-11\n",
      "length of ticker list 503\n",
      "MSFT,AAPL,NVDA,GOOG,GOOGL,AMZN,META,BRK-B,LLY,AVGO,JPM,TSLA,V,WMT,XOM,UNH,MA,PG,COST,JNJ,ORCL,MRK,HD,BAC,CVX,NFLX,ABBV,AMD,KO,CRM,PEP,QCOM,TMO,ADBE,WFC,LIN,DHR,TMUS,ACN,CSCO,MCD,DIS,GE,AMAT,TXN,ABT,AXP,CAT,INTU,VZ,AMGN,PFE,MS,NEE,IBM,PM,NOW,CMCSA,BX,GS,ISRG,MU,UNP,RTX,NKE,COP,SPGI,ETN,UBER,SCHW,INTC,HON,BKNG,SYK,LRCX,T,LOW,C,ELV,PGR,UPS,VRTX,BLK,TJX,ADI,LMT,BSX,REGN,MDT,CB,BA,KLAC,DE,PANW,MMC,ADP,PLD,ANET,CI,ABNB,MDLZ,SNPS,SBUX,FI,AMT,CMG,SO,WM,BMY,HCA,GD,GILD,APH,CDNS,DUK,ICE,MO,ZTS,CME,SHW,CL,TT,TDG,MCO,FCX,MCK,EQIX,CEG,ITW,NXPI,EOG,CVS,CTAS,NOC,PH,MAR,TGT,ECL,BDX,SLB,CSX,EMR,PYPL,MRNA,USB,MPC,PNC,AON,FDX,MSI,PSX,WELL,CARR,RSG,APD,ROP,ORLY,PCAR,SPG,MNST,MMM,AJG,OXY,VLO,EW,MCHP,COF,CPRT,AIG,SMCI,MET,TFC,NSC,HLT,DXCM,GM,AFL,JCI,WMB,TRV,GEV,NEM,F,PCG,SRE,AZO,PSA,ROST,DHI,GWW,DLR,OKE,AEP,FTNT,HES,KDP,TEL,ADSK,STZ,O,URI,EL,PAYX,KMB,D,BK,A,AMP,COR,KHC,ALL,FIS,LEN,PRU,IDXX,CCI,LHX,KMI,HUM,IQV,PWR,NUE,DOW,AME,HSY,CNC,OTIS,CHTR,MSCI,CMI,ACGL,YUM,CTVA,GIS,KR,IR,RCL,LULU,FAST,ODFL,PEG,KVUE,EXC,MPWR,GEHC,SYY,EA,VRSK,NDAQ,MLM,VST,CSGP,XYL,HWM,FANG,VMC,FICO,IT,CTSH,DD,DAL,LVS,ED,BKR,LYB,HPQ,HAL,DG,BIIB,MTD,GRMN,EXR,RMD,ON,GLW,CDW,DFS,PPG,DVN,TSCO,ROK,HIG,WAB,ADM,XEL,EFX,FSLR,VICI,ANSS,EIX,AVB,EBAY,CBRE,FTV,DECK,TTWO,TROW,GPN,RJF,CHD,WTW,BRO,WEC,FITB,TRGP,DOV,VLTO,DLTR,KEYS,MTB,AWK,EQR,IFF,WDC,WST,PHM,ZBH,HPE,NTAP,BR,IRM,CAH,DTE,ETR,NVR,STT,STE,TER,APTV,FE,ROL,LYV,HUBB,WY,PTC,BF-B,AXON,BALL,TSN,PPL,INVH,STLD,TYL,BLDR,K,ARE,LDOS,WRB,ES,GPC,SBAC,CTRA,WAT,HBAN,CCL,STX,MOH,MKC,PFG,ALGN,HRL,VTR,CBOE,TDY,AEE,WBD,CNP,COO,CPAY,OMC,CINF,ULTA,CMS,AVY,NRG,EQT,DRI,J,DPZ,RF,SYF,BAX,ESS,HOLX,VRSN,NTRS,ENPH,EG,UAL,ATO,ILMN,TXT,LH,ZBRA,CE,EXPD,FDS,L,PKG,CLX,IEX,JBHT,CFG,LUV,MAA,IP,DGX,GEN,BBY,NWS,NWSA,MAS,FOX,FOXA,ALB,AES,SWKS,BG,UDR,EXPE,CAG,JBL,MRO,AMCR,AKAM,SNA,CF,WRK,RVTY,POOL,TRMB,WBA,PNR,KEY,NDSN,CPB,DOC,SWK,HST,INCY,LW,LNT,TECH,PODD,NI,MGM,KIM,AOS,VTRS,JKHY,EVRG,BEN,DVA,IPG,UHS,EMN,SJM,LKQ,TAP,JNPR,CRL,CPT,REG,KMX,APA,RL,BBWI,ALLE,WYNN,BXP,EPAM,SOLV,CHRW,HII,FFIV,MOS,CTLT,PAYC,TFX,TPR,QRVO,HSIC,AAL,GNRC,DAY,AIZ,PNW,HAS,PARA,MKTX,FRT,BIO,BWA,MTCH,FMC,GL,MHK,CZR,ETSY,IVZ,RHI,NCLH,CMA\n",
      "https://data.alpaca.markets/v1beta1/news 50\n",
      "https://data.alpaca.markets/v1beta1/news 50\n",
      "https://data.alpaca.markets/v1beta1/news 50\n",
      "https://data.alpaca.markets/v1beta1/news 50\n",
      "https://data.alpaca.markets/v1beta1/news 50\n",
      "https://data.alpaca.markets/v1beta1/news 50\n",
      "https://data.alpaca.markets/v1beta1/news 50\n",
      "https://data.alpaca.markets/v1beta1/news 50\n",
      "https://data.alpaca.markets/v1beta1/news 50\n",
      "https://data.alpaca.markets/v1beta1/news 50\n",
      "https://data.alpaca.markets/v1beta1/news 50\n",
      "https://data.alpaca.markets/v1beta1/news 50\n"
     ]
    },
    {
     "name": "stderr",
     "output_type": "stream",
     "text": [
      "  3%|▎         | 4/150 [00:14<09:57,  4.09s/it]"
     ]
    },
    {
     "name": "stdout",
     "output_type": "stream",
     "text": [
      "https://data.alpaca.markets/v1beta1/news 20\n",
      "error2\n",
      "Number of news articles: 620\n",
      "Fetching news for date: 2015-04-28\n",
      "start and end news collection 2015-04-21 2015-04-27\n",
      "length of ticker list 503\n",
      "MSFT,AAPL,NVDA,GOOG,GOOGL,AMZN,META,BRK-B,LLY,AVGO,JPM,TSLA,V,WMT,XOM,UNH,MA,PG,COST,JNJ,ORCL,MRK,HD,BAC,CVX,NFLX,ABBV,AMD,KO,CRM,PEP,QCOM,TMO,ADBE,WFC,LIN,DHR,TMUS,ACN,CSCO,MCD,DIS,GE,AMAT,TXN,ABT,AXP,CAT,INTU,VZ,AMGN,PFE,MS,NEE,IBM,PM,NOW,CMCSA,BX,GS,ISRG,MU,UNP,RTX,NKE,COP,SPGI,ETN,UBER,SCHW,INTC,HON,BKNG,SYK,LRCX,T,LOW,C,ELV,PGR,UPS,VRTX,BLK,TJX,ADI,LMT,BSX,REGN,MDT,CB,BA,KLAC,DE,PANW,MMC,ADP,PLD,ANET,CI,ABNB,MDLZ,SNPS,SBUX,FI,AMT,CMG,SO,WM,BMY,HCA,GD,GILD,APH,CDNS,DUK,ICE,MO,ZTS,CME,SHW,CL,TT,TDG,MCO,FCX,MCK,EQIX,CEG,ITW,NXPI,EOG,CVS,CTAS,NOC,PH,MAR,TGT,ECL,BDX,SLB,CSX,EMR,PYPL,MRNA,USB,MPC,PNC,AON,FDX,MSI,PSX,WELL,CARR,RSG,APD,ROP,ORLY,PCAR,SPG,MNST,MMM,AJG,OXY,VLO,EW,MCHP,COF,CPRT,AIG,SMCI,MET,TFC,NSC,HLT,DXCM,GM,AFL,JCI,WMB,TRV,GEV,NEM,F,PCG,SRE,AZO,PSA,ROST,DHI,GWW,DLR,OKE,AEP,FTNT,HES,KDP,TEL,ADSK,STZ,O,URI,EL,PAYX,KMB,D,BK,A,AMP,COR,KHC,ALL,FIS,LEN,PRU,IDXX,CCI,LHX,KMI,HUM,IQV,PWR,NUE,DOW,AME,HSY,CNC,OTIS,CHTR,MSCI,CMI,ACGL,YUM,CTVA,GIS,KR,IR,RCL,LULU,FAST,ODFL,PEG,KVUE,EXC,MPWR,GEHC,SYY,EA,VRSK,NDAQ,MLM,VST,CSGP,XYL,HWM,FANG,VMC,FICO,IT,CTSH,DD,DAL,LVS,ED,BKR,LYB,HPQ,HAL,DG,BIIB,MTD,GRMN,EXR,RMD,ON,GLW,CDW,DFS,PPG,DVN,TSCO,ROK,HIG,WAB,ADM,XEL,EFX,FSLR,VICI,ANSS,EIX,AVB,EBAY,CBRE,FTV,DECK,TTWO,TROW,GPN,RJF,CHD,WTW,BRO,WEC,FITB,TRGP,DOV,VLTO,DLTR,KEYS,MTB,AWK,EQR,IFF,WDC,WST,PHM,ZBH,HPE,NTAP,BR,IRM,CAH,DTE,ETR,NVR,STT,STE,TER,APTV,FE,ROL,LYV,HUBB,WY,PTC,BF-B,AXON,BALL,TSN,PPL,INVH,STLD,TYL,BLDR,K,ARE,LDOS,WRB,ES,GPC,SBAC,CTRA,WAT,HBAN,CCL,STX,MOH,MKC,PFG,ALGN,HRL,VTR,CBOE,TDY,AEE,WBD,CNP,COO,CPAY,OMC,CINF,ULTA,CMS,AVY,NRG,EQT,DRI,J,DPZ,RF,SYF,BAX,ESS,HOLX,VRSN,NTRS,ENPH,EG,UAL,ATO,ILMN,TXT,LH,ZBRA,CE,EXPD,FDS,L,PKG,CLX,IEX,JBHT,CFG,LUV,MAA,IP,DGX,GEN,BBY,NWS,NWSA,MAS,FOX,FOXA,ALB,AES,SWKS,BG,UDR,EXPE,CAG,JBL,MRO,AMCR,AKAM,SNA,CF,WRK,RVTY,POOL,TRMB,WBA,PNR,KEY,NDSN,CPB,DOC,SWK,HST,INCY,LW,LNT,TECH,PODD,NI,MGM,KIM,AOS,VTRS,JKHY,EVRG,BEN,DVA,IPG,UHS,EMN,SJM,LKQ,TAP,JNPR,CRL,CPT,REG,KMX,APA,RL,BBWI,ALLE,WYNN,BXP,EPAM,SOLV,CHRW,HII,FFIV,MOS,CTLT,PAYC,TFX,TPR,QRVO,HSIC,AAL,GNRC,DAY,AIZ,PNW,HAS,PARA,MKTX,FRT,BIO,BWA,MTCH,FMC,GL,MHK,CZR,ETSY,IVZ,RHI,NCLH,CMA\n",
      "https://data.alpaca.markets/v1beta1/news 50\n",
      "https://data.alpaca.markets/v1beta1/news 50\n",
      "https://data.alpaca.markets/v1beta1/news 50\n",
      "https://data.alpaca.markets/v1beta1/news 50\n",
      "https://data.alpaca.markets/v1beta1/news 50\n",
      "https://data.alpaca.markets/v1beta1/news 50\n",
      "https://data.alpaca.markets/v1beta1/news 50\n",
      "https://data.alpaca.markets/v1beta1/news 50\n",
      "https://data.alpaca.markets/v1beta1/news 50\n",
      "https://data.alpaca.markets/v1beta1/news 50\n",
      "https://data.alpaca.markets/v1beta1/news 50\n",
      "https://data.alpaca.markets/v1beta1/news 50\n",
      "https://data.alpaca.markets/v1beta1/news 50\n",
      "https://data.alpaca.markets/v1beta1/news 50\n",
      "https://data.alpaca.markets/v1beta1/news 50\n",
      "https://data.alpaca.markets/v1beta1/news 50\n"
     ]
    },
    {
     "name": "stderr",
     "output_type": "stream",
     "text": [
      "  3%|▎         | 5/150 [00:19<11:04,  4.58s/it]"
     ]
    },
    {
     "name": "stdout",
     "output_type": "stream",
     "text": [
      "https://data.alpaca.markets/v1beta1/news 22\n",
      "error2\n",
      "Number of news articles: 822\n",
      "Fetching news for date: 2015-06-01\n",
      "start and end news collection 2015-05-25 2015-05-31\n",
      "length of ticker list 503\n",
      "MSFT,AAPL,NVDA,GOOG,GOOGL,AMZN,META,BRK-B,LLY,AVGO,JPM,TSLA,V,WMT,XOM,UNH,MA,PG,COST,JNJ,ORCL,MRK,HD,BAC,CVX,NFLX,ABBV,AMD,KO,CRM,PEP,QCOM,TMO,ADBE,WFC,LIN,DHR,TMUS,ACN,CSCO,MCD,DIS,GE,AMAT,TXN,ABT,AXP,CAT,INTU,VZ,AMGN,PFE,MS,NEE,IBM,PM,NOW,CMCSA,BX,GS,ISRG,MU,UNP,RTX,NKE,COP,SPGI,ETN,UBER,SCHW,INTC,HON,BKNG,SYK,LRCX,T,LOW,C,ELV,PGR,UPS,VRTX,BLK,TJX,ADI,LMT,BSX,REGN,MDT,CB,BA,KLAC,DE,PANW,MMC,ADP,PLD,ANET,CI,ABNB,MDLZ,SNPS,SBUX,FI,AMT,CMG,SO,WM,BMY,HCA,GD,GILD,APH,CDNS,DUK,ICE,MO,ZTS,CME,SHW,CL,TT,TDG,MCO,FCX,MCK,EQIX,CEG,ITW,NXPI,EOG,CVS,CTAS,NOC,PH,MAR,TGT,ECL,BDX,SLB,CSX,EMR,PYPL,MRNA,USB,MPC,PNC,AON,FDX,MSI,PSX,WELL,CARR,RSG,APD,ROP,ORLY,PCAR,SPG,MNST,MMM,AJG,OXY,VLO,EW,MCHP,COF,CPRT,AIG,SMCI,MET,TFC,NSC,HLT,DXCM,GM,AFL,JCI,WMB,TRV,GEV,NEM,F,PCG,SRE,AZO,PSA,ROST,DHI,GWW,DLR,OKE,AEP,FTNT,HES,KDP,TEL,ADSK,STZ,O,URI,EL,PAYX,KMB,D,BK,A,AMP,COR,KHC,ALL,FIS,LEN,PRU,IDXX,CCI,LHX,KMI,HUM,IQV,PWR,NUE,DOW,AME,HSY,CNC,OTIS,CHTR,MSCI,CMI,ACGL,YUM,CTVA,GIS,KR,IR,RCL,LULU,FAST,ODFL,PEG,KVUE,EXC,MPWR,GEHC,SYY,EA,VRSK,NDAQ,MLM,VST,CSGP,XYL,HWM,FANG,VMC,FICO,IT,CTSH,DD,DAL,LVS,ED,BKR,LYB,HPQ,HAL,DG,BIIB,MTD,GRMN,EXR,RMD,ON,GLW,CDW,DFS,PPG,DVN,TSCO,ROK,HIG,WAB,ADM,XEL,EFX,FSLR,VICI,ANSS,EIX,AVB,EBAY,CBRE,FTV,DECK,TTWO,TROW,GPN,RJF,CHD,WTW,BRO,WEC,FITB,TRGP,DOV,VLTO,DLTR,KEYS,MTB,AWK,EQR,IFF,WDC,WST,PHM,ZBH,HPE,NTAP,BR,IRM,CAH,DTE,ETR,NVR,STT,STE,TER,APTV,FE,ROL,LYV,HUBB,WY,PTC,BF-B,AXON,BALL,TSN,PPL,INVH,STLD,TYL,BLDR,K,ARE,LDOS,WRB,ES,GPC,SBAC,CTRA,WAT,HBAN,CCL,STX,MOH,MKC,PFG,ALGN,HRL,VTR,CBOE,TDY,AEE,WBD,CNP,COO,CPAY,OMC,CINF,ULTA,CMS,AVY,NRG,EQT,DRI,J,DPZ,RF,SYF,BAX,ESS,HOLX,VRSN,NTRS,ENPH,EG,UAL,ATO,ILMN,TXT,LH,ZBRA,CE,EXPD,FDS,L,PKG,CLX,IEX,JBHT,CFG,LUV,MAA,IP,DGX,GEN,BBY,NWS,NWSA,MAS,FOX,FOXA,ALB,AES,SWKS,BG,UDR,EXPE,CAG,JBL,MRO,AMCR,AKAM,SNA,CF,WRK,RVTY,POOL,TRMB,WBA,PNR,KEY,NDSN,CPB,DOC,SWK,HST,INCY,LW,LNT,TECH,PODD,NI,MGM,KIM,AOS,VTRS,JKHY,EVRG,BEN,DVA,IPG,UHS,EMN,SJM,LKQ,TAP,JNPR,CRL,CPT,REG,KMX,APA,RL,BBWI,ALLE,WYNN,BXP,EPAM,SOLV,CHRW,HII,FFIV,MOS,CTLT,PAYC,TFX,TPR,QRVO,HSIC,AAL,GNRC,DAY,AIZ,PNW,HAS,PARA,MKTX,FRT,BIO,BWA,MTCH,FMC,GL,MHK,CZR,ETSY,IVZ,RHI,NCLH,CMA\n",
      "https://data.alpaca.markets/v1beta1/news 50\n",
      "https://data.alpaca.markets/v1beta1/news 50\n",
      "https://data.alpaca.markets/v1beta1/news 50\n",
      "https://data.alpaca.markets/v1beta1/news 50\n",
      "https://data.alpaca.markets/v1beta1/news 50\n",
      "https://data.alpaca.markets/v1beta1/news 50\n",
      "https://data.alpaca.markets/v1beta1/news 50\n",
      "https://data.alpaca.markets/v1beta1/news 50\n",
      "https://data.alpaca.markets/v1beta1/news 50\n",
      "https://data.alpaca.markets/v1beta1/news 50\n",
      "https://data.alpaca.markets/v1beta1/news 50\n",
      "https://data.alpaca.markets/v1beta1/news 50\n"
     ]
    },
    {
     "name": "stderr",
     "output_type": "stream",
     "text": [
      "  4%|▍         | 6/150 [00:24<10:48,  4.50s/it]"
     ]
    },
    {
     "name": "stdout",
     "output_type": "stream",
     "text": [
      "https://data.alpaca.markets/v1beta1/news 27\n",
      "error2\n",
      "Number of news articles: 627\n",
      "Fetching news for date: 2015-06-09\n",
      "start and end news collection 2015-06-02 2015-06-08\n",
      "length of ticker list 503\n",
      "MSFT,AAPL,NVDA,GOOG,GOOGL,AMZN,META,BRK-B,LLY,AVGO,JPM,TSLA,V,WMT,XOM,UNH,MA,PG,COST,JNJ,ORCL,MRK,HD,BAC,CVX,NFLX,ABBV,AMD,KO,CRM,PEP,QCOM,TMO,ADBE,WFC,LIN,DHR,TMUS,ACN,CSCO,MCD,DIS,GE,AMAT,TXN,ABT,AXP,CAT,INTU,VZ,AMGN,PFE,MS,NEE,IBM,PM,NOW,CMCSA,BX,GS,ISRG,MU,UNP,RTX,NKE,COP,SPGI,ETN,UBER,SCHW,INTC,HON,BKNG,SYK,LRCX,T,LOW,C,ELV,PGR,UPS,VRTX,BLK,TJX,ADI,LMT,BSX,REGN,MDT,CB,BA,KLAC,DE,PANW,MMC,ADP,PLD,ANET,CI,ABNB,MDLZ,SNPS,SBUX,FI,AMT,CMG,SO,WM,BMY,HCA,GD,GILD,APH,CDNS,DUK,ICE,MO,ZTS,CME,SHW,CL,TT,TDG,MCO,FCX,MCK,EQIX,CEG,ITW,NXPI,EOG,CVS,CTAS,NOC,PH,MAR,TGT,ECL,BDX,SLB,CSX,EMR,PYPL,MRNA,USB,MPC,PNC,AON,FDX,MSI,PSX,WELL,CARR,RSG,APD,ROP,ORLY,PCAR,SPG,MNST,MMM,AJG,OXY,VLO,EW,MCHP,COF,CPRT,AIG,SMCI,MET,TFC,NSC,HLT,DXCM,GM,AFL,JCI,WMB,TRV,GEV,NEM,F,PCG,SRE,AZO,PSA,ROST,DHI,GWW,DLR,OKE,AEP,FTNT,HES,KDP,TEL,ADSK,STZ,O,URI,EL,PAYX,KMB,D,BK,A,AMP,COR,KHC,ALL,FIS,LEN,PRU,IDXX,CCI,LHX,KMI,HUM,IQV,PWR,NUE,DOW,AME,HSY,CNC,OTIS,CHTR,MSCI,CMI,ACGL,YUM,CTVA,GIS,KR,IR,RCL,LULU,FAST,ODFL,PEG,KVUE,EXC,MPWR,GEHC,SYY,EA,VRSK,NDAQ,MLM,VST,CSGP,XYL,HWM,FANG,VMC,FICO,IT,CTSH,DD,DAL,LVS,ED,BKR,LYB,HPQ,HAL,DG,BIIB,MTD,GRMN,EXR,RMD,ON,GLW,CDW,DFS,PPG,DVN,TSCO,ROK,HIG,WAB,ADM,XEL,EFX,FSLR,VICI,ANSS,EIX,AVB,EBAY,CBRE,FTV,DECK,TTWO,TROW,GPN,RJF,CHD,WTW,BRO,WEC,FITB,TRGP,DOV,VLTO,DLTR,KEYS,MTB,AWK,EQR,IFF,WDC,WST,PHM,ZBH,HPE,NTAP,BR,IRM,CAH,DTE,ETR,NVR,STT,STE,TER,APTV,FE,ROL,LYV,HUBB,WY,PTC,BF-B,AXON,BALL,TSN,PPL,INVH,STLD,TYL,BLDR,K,ARE,LDOS,WRB,ES,GPC,SBAC,CTRA,WAT,HBAN,CCL,STX,MOH,MKC,PFG,ALGN,HRL,VTR,CBOE,TDY,AEE,WBD,CNP,COO,CPAY,OMC,CINF,ULTA,CMS,AVY,NRG,EQT,DRI,J,DPZ,RF,SYF,BAX,ESS,HOLX,VRSN,NTRS,ENPH,EG,UAL,ATO,ILMN,TXT,LH,ZBRA,CE,EXPD,FDS,L,PKG,CLX,IEX,JBHT,CFG,LUV,MAA,IP,DGX,GEN,BBY,NWS,NWSA,MAS,FOX,FOXA,ALB,AES,SWKS,BG,UDR,EXPE,CAG,JBL,MRO,AMCR,AKAM,SNA,CF,WRK,RVTY,POOL,TRMB,WBA,PNR,KEY,NDSN,CPB,DOC,SWK,HST,INCY,LW,LNT,TECH,PODD,NI,MGM,KIM,AOS,VTRS,JKHY,EVRG,BEN,DVA,IPG,UHS,EMN,SJM,LKQ,TAP,JNPR,CRL,CPT,REG,KMX,APA,RL,BBWI,ALLE,WYNN,BXP,EPAM,SOLV,CHRW,HII,FFIV,MOS,CTLT,PAYC,TFX,TPR,QRVO,HSIC,AAL,GNRC,DAY,AIZ,PNW,HAS,PARA,MKTX,FRT,BIO,BWA,MTCH,FMC,GL,MHK,CZR,ETSY,IVZ,RHI,NCLH,CMA\n",
      "https://data.alpaca.markets/v1beta1/news 50\n",
      "https://data.alpaca.markets/v1beta1/news 50\n",
      "https://data.alpaca.markets/v1beta1/news 50\n",
      "https://data.alpaca.markets/v1beta1/news 50\n",
      "https://data.alpaca.markets/v1beta1/news 50\n",
      "https://data.alpaca.markets/v1beta1/news 50\n",
      "https://data.alpaca.markets/v1beta1/news 50\n",
      "https://data.alpaca.markets/v1beta1/news 50\n",
      "https://data.alpaca.markets/v1beta1/news 50\n",
      "https://data.alpaca.markets/v1beta1/news 50\n",
      "https://data.alpaca.markets/v1beta1/news 50\n"
     ]
    },
    {
     "name": "stderr",
     "output_type": "stream",
     "text": [
      "  5%|▍         | 7/150 [00:28<10:09,  4.26s/it]"
     ]
    },
    {
     "name": "stdout",
     "output_type": "stream",
     "text": [
      "https://data.alpaca.markets/v1beta1/news 3\n",
      "error2\n",
      "Number of news articles: 553\n",
      "Fetching news for date: 2015-06-29\n",
      "start and end news collection 2015-06-22 2015-06-28\n",
      "length of ticker list 503\n",
      "MSFT,AAPL,NVDA,GOOG,GOOGL,AMZN,META,BRK-B,LLY,AVGO,JPM,TSLA,V,WMT,XOM,UNH,MA,PG,COST,JNJ,ORCL,MRK,HD,BAC,CVX,NFLX,ABBV,AMD,KO,CRM,PEP,QCOM,TMO,ADBE,WFC,LIN,DHR,TMUS,ACN,CSCO,MCD,DIS,GE,AMAT,TXN,ABT,AXP,CAT,INTU,VZ,AMGN,PFE,MS,NEE,IBM,PM,NOW,CMCSA,BX,GS,ISRG,MU,UNP,RTX,NKE,COP,SPGI,ETN,UBER,SCHW,INTC,HON,BKNG,SYK,LRCX,T,LOW,C,ELV,PGR,UPS,VRTX,BLK,TJX,ADI,LMT,BSX,REGN,MDT,CB,BA,KLAC,DE,PANW,MMC,ADP,PLD,ANET,CI,ABNB,MDLZ,SNPS,SBUX,FI,AMT,CMG,SO,WM,BMY,HCA,GD,GILD,APH,CDNS,DUK,ICE,MO,ZTS,CME,SHW,CL,TT,TDG,MCO,FCX,MCK,EQIX,CEG,ITW,NXPI,EOG,CVS,CTAS,NOC,PH,MAR,TGT,ECL,BDX,SLB,CSX,EMR,PYPL,MRNA,USB,MPC,PNC,AON,FDX,MSI,PSX,WELL,CARR,RSG,APD,ROP,ORLY,PCAR,SPG,MNST,MMM,AJG,OXY,VLO,EW,MCHP,COF,CPRT,AIG,SMCI,MET,TFC,NSC,HLT,DXCM,GM,AFL,JCI,WMB,TRV,GEV,NEM,F,PCG,SRE,AZO,PSA,ROST,DHI,GWW,DLR,OKE,AEP,FTNT,HES,KDP,TEL,ADSK,STZ,O,URI,EL,PAYX,KMB,D,BK,A,AMP,COR,KHC,ALL,FIS,LEN,PRU,IDXX,CCI,LHX,KMI,HUM,IQV,PWR,NUE,DOW,AME,HSY,CNC,OTIS,CHTR,MSCI,CMI,ACGL,YUM,CTVA,GIS,KR,IR,RCL,LULU,FAST,ODFL,PEG,KVUE,EXC,MPWR,GEHC,SYY,EA,VRSK,NDAQ,MLM,VST,CSGP,XYL,HWM,FANG,VMC,FICO,IT,CTSH,DD,DAL,LVS,ED,BKR,LYB,HPQ,HAL,DG,BIIB,MTD,GRMN,EXR,RMD,ON,GLW,CDW,DFS,PPG,DVN,TSCO,ROK,HIG,WAB,ADM,XEL,EFX,FSLR,VICI,ANSS,EIX,AVB,EBAY,CBRE,FTV,DECK,TTWO,TROW,GPN,RJF,CHD,WTW,BRO,WEC,FITB,TRGP,DOV,VLTO,DLTR,KEYS,MTB,AWK,EQR,IFF,WDC,WST,PHM,ZBH,HPE,NTAP,BR,IRM,CAH,DTE,ETR,NVR,STT,STE,TER,APTV,FE,ROL,LYV,HUBB,WY,PTC,BF-B,AXON,BALL,TSN,PPL,INVH,STLD,TYL,BLDR,K,ARE,LDOS,WRB,ES,GPC,SBAC,CTRA,WAT,HBAN,CCL,STX,MOH,MKC,PFG,ALGN,HRL,VTR,CBOE,TDY,AEE,WBD,CNP,COO,CPAY,OMC,CINF,ULTA,CMS,AVY,NRG,EQT,DRI,J,DPZ,RF,SYF,BAX,ESS,HOLX,VRSN,NTRS,ENPH,EG,UAL,ATO,ILMN,TXT,LH,ZBRA,CE,EXPD,FDS,L,PKG,CLX,IEX,JBHT,CFG,LUV,MAA,IP,DGX,GEN,BBY,NWS,NWSA,MAS,FOX,FOXA,ALB,AES,SWKS,BG,UDR,EXPE,CAG,JBL,MRO,AMCR,AKAM,SNA,CF,WRK,RVTY,POOL,TRMB,WBA,PNR,KEY,NDSN,CPB,DOC,SWK,HST,INCY,LW,LNT,TECH,PODD,NI,MGM,KIM,AOS,VTRS,JKHY,EVRG,BEN,DVA,IPG,UHS,EMN,SJM,LKQ,TAP,JNPR,CRL,CPT,REG,KMX,APA,RL,BBWI,ALLE,WYNN,BXP,EPAM,SOLV,CHRW,HII,FFIV,MOS,CTLT,PAYC,TFX,TPR,QRVO,HSIC,AAL,GNRC,DAY,AIZ,PNW,HAS,PARA,MKTX,FRT,BIO,BWA,MTCH,FMC,GL,MHK,CZR,ETSY,IVZ,RHI,NCLH,CMA\n",
      "https://data.alpaca.markets/v1beta1/news 50\n",
      "https://data.alpaca.markets/v1beta1/news 50\n",
      "https://data.alpaca.markets/v1beta1/news 50\n",
      "https://data.alpaca.markets/v1beta1/news 50\n",
      "https://data.alpaca.markets/v1beta1/news 50\n",
      "https://data.alpaca.markets/v1beta1/news 50\n",
      "https://data.alpaca.markets/v1beta1/news 50\n",
      "https://data.alpaca.markets/v1beta1/news 50\n",
      "https://data.alpaca.markets/v1beta1/news 50\n",
      "https://data.alpaca.markets/v1beta1/news 50\n",
      "https://data.alpaca.markets/v1beta1/news 50\n",
      "https://data.alpaca.markets/v1beta1/news 50\n",
      "https://data.alpaca.markets/v1beta1/news 50\n",
      "https://data.alpaca.markets/v1beta1/news 50\n",
      "https://data.alpaca.markets/v1beta1/news 50\n"
     ]
    },
    {
     "name": "stderr",
     "output_type": "stream",
     "text": [
      "  5%|▌         | 8/150 [00:33<10:37,  4.49s/it]"
     ]
    },
    {
     "name": "stdout",
     "output_type": "stream",
     "text": [
      "https://data.alpaca.markets/v1beta1/news 31\n",
      "error2\n",
      "Number of news articles: 781\n",
      "Fetching news for date: 2015-07-10\n",
      "start and end news collection 2015-07-03 2015-07-09\n",
      "length of ticker list 503\n",
      "MSFT,AAPL,NVDA,GOOG,GOOGL,AMZN,META,BRK-B,LLY,AVGO,JPM,TSLA,V,WMT,XOM,UNH,MA,PG,COST,JNJ,ORCL,MRK,HD,BAC,CVX,NFLX,ABBV,AMD,KO,CRM,PEP,QCOM,TMO,ADBE,WFC,LIN,DHR,TMUS,ACN,CSCO,MCD,DIS,GE,AMAT,TXN,ABT,AXP,CAT,INTU,VZ,AMGN,PFE,MS,NEE,IBM,PM,NOW,CMCSA,BX,GS,ISRG,MU,UNP,RTX,NKE,COP,SPGI,ETN,UBER,SCHW,INTC,HON,BKNG,SYK,LRCX,T,LOW,C,ELV,PGR,UPS,VRTX,BLK,TJX,ADI,LMT,BSX,REGN,MDT,CB,BA,KLAC,DE,PANW,MMC,ADP,PLD,ANET,CI,ABNB,MDLZ,SNPS,SBUX,FI,AMT,CMG,SO,WM,BMY,HCA,GD,GILD,APH,CDNS,DUK,ICE,MO,ZTS,CME,SHW,CL,TT,TDG,MCO,FCX,MCK,EQIX,CEG,ITW,NXPI,EOG,CVS,CTAS,NOC,PH,MAR,TGT,ECL,BDX,SLB,CSX,EMR,PYPL,MRNA,USB,MPC,PNC,AON,FDX,MSI,PSX,WELL,CARR,RSG,APD,ROP,ORLY,PCAR,SPG,MNST,MMM,AJG,OXY,VLO,EW,MCHP,COF,CPRT,AIG,SMCI,MET,TFC,NSC,HLT,DXCM,GM,AFL,JCI,WMB,TRV,GEV,NEM,F,PCG,SRE,AZO,PSA,ROST,DHI,GWW,DLR,OKE,AEP,FTNT,HES,KDP,TEL,ADSK,STZ,O,URI,EL,PAYX,KMB,D,BK,A,AMP,COR,KHC,ALL,FIS,LEN,PRU,IDXX,CCI,LHX,KMI,HUM,IQV,PWR,NUE,DOW,AME,HSY,CNC,OTIS,CHTR,MSCI,CMI,ACGL,YUM,CTVA,GIS,KR,IR,RCL,LULU,FAST,ODFL,PEG,KVUE,EXC,MPWR,GEHC,SYY,EA,VRSK,NDAQ,MLM,VST,CSGP,XYL,HWM,FANG,VMC,FICO,IT,CTSH,DD,DAL,LVS,ED,BKR,LYB,HPQ,HAL,DG,BIIB,MTD,GRMN,EXR,RMD,ON,GLW,CDW,DFS,PPG,DVN,TSCO,ROK,HIG,WAB,ADM,XEL,EFX,FSLR,VICI,ANSS,EIX,AVB,EBAY,CBRE,FTV,DECK,TTWO,TROW,GPN,RJF,CHD,WTW,BRO,WEC,FITB,TRGP,DOV,VLTO,DLTR,KEYS,MTB,AWK,EQR,IFF,WDC,WST,PHM,ZBH,HPE,NTAP,BR,IRM,CAH,DTE,ETR,NVR,STT,STE,TER,APTV,FE,ROL,LYV,HUBB,WY,PTC,BF-B,AXON,BALL,TSN,PPL,INVH,STLD,TYL,BLDR,K,ARE,LDOS,WRB,ES,GPC,SBAC,CTRA,WAT,HBAN,CCL,STX,MOH,MKC,PFG,ALGN,HRL,VTR,CBOE,TDY,AEE,WBD,CNP,COO,CPAY,OMC,CINF,ULTA,CMS,AVY,NRG,EQT,DRI,J,DPZ,RF,SYF,BAX,ESS,HOLX,VRSN,NTRS,ENPH,EG,UAL,ATO,ILMN,TXT,LH,ZBRA,CE,EXPD,FDS,L,PKG,CLX,IEX,JBHT,CFG,LUV,MAA,IP,DGX,GEN,BBY,NWS,NWSA,MAS,FOX,FOXA,ALB,AES,SWKS,BG,UDR,EXPE,CAG,JBL,MRO,AMCR,AKAM,SNA,CF,WRK,RVTY,POOL,TRMB,WBA,PNR,KEY,NDSN,CPB,DOC,SWK,HST,INCY,LW,LNT,TECH,PODD,NI,MGM,KIM,AOS,VTRS,JKHY,EVRG,BEN,DVA,IPG,UHS,EMN,SJM,LKQ,TAP,JNPR,CRL,CPT,REG,KMX,APA,RL,BBWI,ALLE,WYNN,BXP,EPAM,SOLV,CHRW,HII,FFIV,MOS,CTLT,PAYC,TFX,TPR,QRVO,HSIC,AAL,GNRC,DAY,AIZ,PNW,HAS,PARA,MKTX,FRT,BIO,BWA,MTCH,FMC,GL,MHK,CZR,ETSY,IVZ,RHI,NCLH,CMA\n",
      "https://data.alpaca.markets/v1beta1/news 50\n",
      "https://data.alpaca.markets/v1beta1/news 50\n",
      "https://data.alpaca.markets/v1beta1/news 50\n",
      "https://data.alpaca.markets/v1beta1/news 50\n",
      "https://data.alpaca.markets/v1beta1/news 50\n",
      "https://data.alpaca.markets/v1beta1/news 50\n",
      "https://data.alpaca.markets/v1beta1/news 50\n",
      "https://data.alpaca.markets/v1beta1/news 50\n"
     ]
    },
    {
     "name": "stderr",
     "output_type": "stream",
     "text": [
      "  6%|▌         | 9/150 [00:36<09:33,  4.07s/it]"
     ]
    },
    {
     "name": "stdout",
     "output_type": "stream",
     "text": [
      "https://data.alpaca.markets/v1beta1/news 35\n",
      "error2\n",
      "Number of news articles: 435\n",
      "Fetching news for date: 2015-07-13\n",
      "start and end news collection 2015-07-06 2015-07-12\n",
      "length of ticker list 503\n",
      "MSFT,AAPL,NVDA,GOOG,GOOGL,AMZN,META,BRK-B,LLY,AVGO,JPM,TSLA,V,WMT,XOM,UNH,MA,PG,COST,JNJ,ORCL,MRK,HD,BAC,CVX,NFLX,ABBV,AMD,KO,CRM,PEP,QCOM,TMO,ADBE,WFC,LIN,DHR,TMUS,ACN,CSCO,MCD,DIS,GE,AMAT,TXN,ABT,AXP,CAT,INTU,VZ,AMGN,PFE,MS,NEE,IBM,PM,NOW,CMCSA,BX,GS,ISRG,MU,UNP,RTX,NKE,COP,SPGI,ETN,UBER,SCHW,INTC,HON,BKNG,SYK,LRCX,T,LOW,C,ELV,PGR,UPS,VRTX,BLK,TJX,ADI,LMT,BSX,REGN,MDT,CB,BA,KLAC,DE,PANW,MMC,ADP,PLD,ANET,CI,ABNB,MDLZ,SNPS,SBUX,FI,AMT,CMG,SO,WM,BMY,HCA,GD,GILD,APH,CDNS,DUK,ICE,MO,ZTS,CME,SHW,CL,TT,TDG,MCO,FCX,MCK,EQIX,CEG,ITW,NXPI,EOG,CVS,CTAS,NOC,PH,MAR,TGT,ECL,BDX,SLB,CSX,EMR,PYPL,MRNA,USB,MPC,PNC,AON,FDX,MSI,PSX,WELL,CARR,RSG,APD,ROP,ORLY,PCAR,SPG,MNST,MMM,AJG,OXY,VLO,EW,MCHP,COF,CPRT,AIG,SMCI,MET,TFC,NSC,HLT,DXCM,GM,AFL,JCI,WMB,TRV,GEV,NEM,F,PCG,SRE,AZO,PSA,ROST,DHI,GWW,DLR,OKE,AEP,FTNT,HES,KDP,TEL,ADSK,STZ,O,URI,EL,PAYX,KMB,D,BK,A,AMP,COR,KHC,ALL,FIS,LEN,PRU,IDXX,CCI,LHX,KMI,HUM,IQV,PWR,NUE,DOW,AME,HSY,CNC,OTIS,CHTR,MSCI,CMI,ACGL,YUM,CTVA,GIS,KR,IR,RCL,LULU,FAST,ODFL,PEG,KVUE,EXC,MPWR,GEHC,SYY,EA,VRSK,NDAQ,MLM,VST,CSGP,XYL,HWM,FANG,VMC,FICO,IT,CTSH,DD,DAL,LVS,ED,BKR,LYB,HPQ,HAL,DG,BIIB,MTD,GRMN,EXR,RMD,ON,GLW,CDW,DFS,PPG,DVN,TSCO,ROK,HIG,WAB,ADM,XEL,EFX,FSLR,VICI,ANSS,EIX,AVB,EBAY,CBRE,FTV,DECK,TTWO,TROW,GPN,RJF,CHD,WTW,BRO,WEC,FITB,TRGP,DOV,VLTO,DLTR,KEYS,MTB,AWK,EQR,IFF,WDC,WST,PHM,ZBH,HPE,NTAP,BR,IRM,CAH,DTE,ETR,NVR,STT,STE,TER,APTV,FE,ROL,LYV,HUBB,WY,PTC,BF-B,AXON,BALL,TSN,PPL,INVH,STLD,TYL,BLDR,K,ARE,LDOS,WRB,ES,GPC,SBAC,CTRA,WAT,HBAN,CCL,STX,MOH,MKC,PFG,ALGN,HRL,VTR,CBOE,TDY,AEE,WBD,CNP,COO,CPAY,OMC,CINF,ULTA,CMS,AVY,NRG,EQT,DRI,J,DPZ,RF,SYF,BAX,ESS,HOLX,VRSN,NTRS,ENPH,EG,UAL,ATO,ILMN,TXT,LH,ZBRA,CE,EXPD,FDS,L,PKG,CLX,IEX,JBHT,CFG,LUV,MAA,IP,DGX,GEN,BBY,NWS,NWSA,MAS,FOX,FOXA,ALB,AES,SWKS,BG,UDR,EXPE,CAG,JBL,MRO,AMCR,AKAM,SNA,CF,WRK,RVTY,POOL,TRMB,WBA,PNR,KEY,NDSN,CPB,DOC,SWK,HST,INCY,LW,LNT,TECH,PODD,NI,MGM,KIM,AOS,VTRS,JKHY,EVRG,BEN,DVA,IPG,UHS,EMN,SJM,LKQ,TAP,JNPR,CRL,CPT,REG,KMX,APA,RL,BBWI,ALLE,WYNN,BXP,EPAM,SOLV,CHRW,HII,FFIV,MOS,CTLT,PAYC,TFX,TPR,QRVO,HSIC,AAL,GNRC,DAY,AIZ,PNW,HAS,PARA,MKTX,FRT,BIO,BWA,MTCH,FMC,GL,MHK,CZR,ETSY,IVZ,RHI,NCLH,CMA\n",
      "https://data.alpaca.markets/v1beta1/news 50\n",
      "https://data.alpaca.markets/v1beta1/news 50\n",
      "https://data.alpaca.markets/v1beta1/news 50\n",
      "https://data.alpaca.markets/v1beta1/news 50\n",
      "https://data.alpaca.markets/v1beta1/news 50\n",
      "https://data.alpaca.markets/v1beta1/news 50\n",
      "https://data.alpaca.markets/v1beta1/news 50\n",
      "https://data.alpaca.markets/v1beta1/news 50\n",
      "https://data.alpaca.markets/v1beta1/news 50\n",
      "https://data.alpaca.markets/v1beta1/news 50\n",
      "https://data.alpaca.markets/v1beta1/news 50\n",
      "https://data.alpaca.markets/v1beta1/news 50\n",
      "https://data.alpaca.markets/v1beta1/news 50\n"
     ]
    },
    {
     "name": "stderr",
     "output_type": "stream",
     "text": [
      "  7%|▋         | 10/150 [00:40<09:36,  4.12s/it]"
     ]
    },
    {
     "name": "stdout",
     "output_type": "stream",
     "text": [
      "https://data.alpaca.markets/v1beta1/news 0\n",
      "error2\n",
      "Number of news articles: 650\n",
      "Fetching news for date: 2015-09-16\n",
      "start and end news collection 2015-09-09 2015-09-15\n",
      "length of ticker list 503\n",
      "MSFT,AAPL,NVDA,GOOG,GOOGL,AMZN,META,BRK-B,LLY,AVGO,JPM,TSLA,V,WMT,XOM,UNH,MA,PG,COST,JNJ,ORCL,MRK,HD,BAC,CVX,NFLX,ABBV,AMD,KO,CRM,PEP,QCOM,TMO,ADBE,WFC,LIN,DHR,TMUS,ACN,CSCO,MCD,DIS,GE,AMAT,TXN,ABT,AXP,CAT,INTU,VZ,AMGN,PFE,MS,NEE,IBM,PM,NOW,CMCSA,BX,GS,ISRG,MU,UNP,RTX,NKE,COP,SPGI,ETN,UBER,SCHW,INTC,HON,BKNG,SYK,LRCX,T,LOW,C,ELV,PGR,UPS,VRTX,BLK,TJX,ADI,LMT,BSX,REGN,MDT,CB,BA,KLAC,DE,PANW,MMC,ADP,PLD,ANET,CI,ABNB,MDLZ,SNPS,SBUX,FI,AMT,CMG,SO,WM,BMY,HCA,GD,GILD,APH,CDNS,DUK,ICE,MO,ZTS,CME,SHW,CL,TT,TDG,MCO,FCX,MCK,EQIX,CEG,ITW,NXPI,EOG,CVS,CTAS,NOC,PH,MAR,TGT,ECL,BDX,SLB,CSX,EMR,PYPL,MRNA,USB,MPC,PNC,AON,FDX,MSI,PSX,WELL,CARR,RSG,APD,ROP,ORLY,PCAR,SPG,MNST,MMM,AJG,OXY,VLO,EW,MCHP,COF,CPRT,AIG,SMCI,MET,TFC,NSC,HLT,DXCM,GM,AFL,JCI,WMB,TRV,GEV,NEM,F,PCG,SRE,AZO,PSA,ROST,DHI,GWW,DLR,OKE,AEP,FTNT,HES,KDP,TEL,ADSK,STZ,O,URI,EL,PAYX,KMB,D,BK,A,AMP,COR,KHC,ALL,FIS,LEN,PRU,IDXX,CCI,LHX,KMI,HUM,IQV,PWR,NUE,DOW,AME,HSY,CNC,OTIS,CHTR,MSCI,CMI,ACGL,YUM,CTVA,GIS,KR,IR,RCL,LULU,FAST,ODFL,PEG,KVUE,EXC,MPWR,GEHC,SYY,EA,VRSK,NDAQ,MLM,VST,CSGP,XYL,HWM,FANG,VMC,FICO,IT,CTSH,DD,DAL,LVS,ED,BKR,LYB,HPQ,HAL,DG,BIIB,MTD,GRMN,EXR,RMD,ON,GLW,CDW,DFS,PPG,DVN,TSCO,ROK,HIG,WAB,ADM,XEL,EFX,FSLR,VICI,ANSS,EIX,AVB,EBAY,CBRE,FTV,DECK,TTWO,TROW,GPN,RJF,CHD,WTW,BRO,WEC,FITB,TRGP,DOV,VLTO,DLTR,KEYS,MTB,AWK,EQR,IFF,WDC,WST,PHM,ZBH,HPE,NTAP,BR,IRM,CAH,DTE,ETR,NVR,STT,STE,TER,APTV,FE,ROL,LYV,HUBB,WY,PTC,BF-B,AXON,BALL,TSN,PPL,INVH,STLD,TYL,BLDR,K,ARE,LDOS,WRB,ES,GPC,SBAC,CTRA,WAT,HBAN,CCL,STX,MOH,MKC,PFG,ALGN,HRL,VTR,CBOE,TDY,AEE,WBD,CNP,COO,CPAY,OMC,CINF,ULTA,CMS,AVY,NRG,EQT,DRI,J,DPZ,RF,SYF,BAX,ESS,HOLX,VRSN,NTRS,ENPH,EG,UAL,ATO,ILMN,TXT,LH,ZBRA,CE,EXPD,FDS,L,PKG,CLX,IEX,JBHT,CFG,LUV,MAA,IP,DGX,GEN,BBY,NWS,NWSA,MAS,FOX,FOXA,ALB,AES,SWKS,BG,UDR,EXPE,CAG,JBL,MRO,AMCR,AKAM,SNA,CF,WRK,RVTY,POOL,TRMB,WBA,PNR,KEY,NDSN,CPB,DOC,SWK,HST,INCY,LW,LNT,TECH,PODD,NI,MGM,KIM,AOS,VTRS,JKHY,EVRG,BEN,DVA,IPG,UHS,EMN,SJM,LKQ,TAP,JNPR,CRL,CPT,REG,KMX,APA,RL,BBWI,ALLE,WYNN,BXP,EPAM,SOLV,CHRW,HII,FFIV,MOS,CTLT,PAYC,TFX,TPR,QRVO,HSIC,AAL,GNRC,DAY,AIZ,PNW,HAS,PARA,MKTX,FRT,BIO,BWA,MTCH,FMC,GL,MHK,CZR,ETSY,IVZ,RHI,NCLH,CMA\n",
      "https://data.alpaca.markets/v1beta1/news 50\n",
      "https://data.alpaca.markets/v1beta1/news 50\n",
      "https://data.alpaca.markets/v1beta1/news 50\n",
      "https://data.alpaca.markets/v1beta1/news 50\n",
      "https://data.alpaca.markets/v1beta1/news 50\n",
      "https://data.alpaca.markets/v1beta1/news 50\n",
      "https://data.alpaca.markets/v1beta1/news 50\n",
      "https://data.alpaca.markets/v1beta1/news 50\n",
      "https://data.alpaca.markets/v1beta1/news 50\n",
      "https://data.alpaca.markets/v1beta1/news 50\n"
     ]
    },
    {
     "name": "stderr",
     "output_type": "stream",
     "text": [
      "  7%|▋         | 11/150 [00:44<09:22,  4.05s/it]"
     ]
    },
    {
     "name": "stdout",
     "output_type": "stream",
     "text": [
      "https://data.alpaca.markets/v1beta1/news 3\n",
      "error2\n",
      "Number of news articles: 503\n",
      "Fetching news for date: 2015-09-30\n",
      "start and end news collection 2015-09-23 2015-09-29\n",
      "length of ticker list 503\n",
      "MSFT,AAPL,NVDA,GOOG,GOOGL,AMZN,META,BRK-B,LLY,AVGO,JPM,TSLA,V,WMT,XOM,UNH,MA,PG,COST,JNJ,ORCL,MRK,HD,BAC,CVX,NFLX,ABBV,AMD,KO,CRM,PEP,QCOM,TMO,ADBE,WFC,LIN,DHR,TMUS,ACN,CSCO,MCD,DIS,GE,AMAT,TXN,ABT,AXP,CAT,INTU,VZ,AMGN,PFE,MS,NEE,IBM,PM,NOW,CMCSA,BX,GS,ISRG,MU,UNP,RTX,NKE,COP,SPGI,ETN,UBER,SCHW,INTC,HON,BKNG,SYK,LRCX,T,LOW,C,ELV,PGR,UPS,VRTX,BLK,TJX,ADI,LMT,BSX,REGN,MDT,CB,BA,KLAC,DE,PANW,MMC,ADP,PLD,ANET,CI,ABNB,MDLZ,SNPS,SBUX,FI,AMT,CMG,SO,WM,BMY,HCA,GD,GILD,APH,CDNS,DUK,ICE,MO,ZTS,CME,SHW,CL,TT,TDG,MCO,FCX,MCK,EQIX,CEG,ITW,NXPI,EOG,CVS,CTAS,NOC,PH,MAR,TGT,ECL,BDX,SLB,CSX,EMR,PYPL,MRNA,USB,MPC,PNC,AON,FDX,MSI,PSX,WELL,CARR,RSG,APD,ROP,ORLY,PCAR,SPG,MNST,MMM,AJG,OXY,VLO,EW,MCHP,COF,CPRT,AIG,SMCI,MET,TFC,NSC,HLT,DXCM,GM,AFL,JCI,WMB,TRV,GEV,NEM,F,PCG,SRE,AZO,PSA,ROST,DHI,GWW,DLR,OKE,AEP,FTNT,HES,KDP,TEL,ADSK,STZ,O,URI,EL,PAYX,KMB,D,BK,A,AMP,COR,KHC,ALL,FIS,LEN,PRU,IDXX,CCI,LHX,KMI,HUM,IQV,PWR,NUE,DOW,AME,HSY,CNC,OTIS,CHTR,MSCI,CMI,ACGL,YUM,CTVA,GIS,KR,IR,RCL,LULU,FAST,ODFL,PEG,KVUE,EXC,MPWR,GEHC,SYY,EA,VRSK,NDAQ,MLM,VST,CSGP,XYL,HWM,FANG,VMC,FICO,IT,CTSH,DD,DAL,LVS,ED,BKR,LYB,HPQ,HAL,DG,BIIB,MTD,GRMN,EXR,RMD,ON,GLW,CDW,DFS,PPG,DVN,TSCO,ROK,HIG,WAB,ADM,XEL,EFX,FSLR,VICI,ANSS,EIX,AVB,EBAY,CBRE,FTV,DECK,TTWO,TROW,GPN,RJF,CHD,WTW,BRO,WEC,FITB,TRGP,DOV,VLTO,DLTR,KEYS,MTB,AWK,EQR,IFF,WDC,WST,PHM,ZBH,HPE,NTAP,BR,IRM,CAH,DTE,ETR,NVR,STT,STE,TER,APTV,FE,ROL,LYV,HUBB,WY,PTC,BF-B,AXON,BALL,TSN,PPL,INVH,STLD,TYL,BLDR,K,ARE,LDOS,WRB,ES,GPC,SBAC,CTRA,WAT,HBAN,CCL,STX,MOH,MKC,PFG,ALGN,HRL,VTR,CBOE,TDY,AEE,WBD,CNP,COO,CPAY,OMC,CINF,ULTA,CMS,AVY,NRG,EQT,DRI,J,DPZ,RF,SYF,BAX,ESS,HOLX,VRSN,NTRS,ENPH,EG,UAL,ATO,ILMN,TXT,LH,ZBRA,CE,EXPD,FDS,L,PKG,CLX,IEX,JBHT,CFG,LUV,MAA,IP,DGX,GEN,BBY,NWS,NWSA,MAS,FOX,FOXA,ALB,AES,SWKS,BG,UDR,EXPE,CAG,JBL,MRO,AMCR,AKAM,SNA,CF,WRK,RVTY,POOL,TRMB,WBA,PNR,KEY,NDSN,CPB,DOC,SWK,HST,INCY,LW,LNT,TECH,PODD,NI,MGM,KIM,AOS,VTRS,JKHY,EVRG,BEN,DVA,IPG,UHS,EMN,SJM,LKQ,TAP,JNPR,CRL,CPT,REG,KMX,APA,RL,BBWI,ALLE,WYNN,BXP,EPAM,SOLV,CHRW,HII,FFIV,MOS,CTLT,PAYC,TFX,TPR,QRVO,HSIC,AAL,GNRC,DAY,AIZ,PNW,HAS,PARA,MKTX,FRT,BIO,BWA,MTCH,FMC,GL,MHK,CZR,ETSY,IVZ,RHI,NCLH,CMA\n",
      "https://data.alpaca.markets/v1beta1/news 50\n",
      "https://data.alpaca.markets/v1beta1/news 50\n",
      "https://data.alpaca.markets/v1beta1/news 50\n",
      "https://data.alpaca.markets/v1beta1/news 50\n",
      "https://data.alpaca.markets/v1beta1/news 50\n",
      "https://data.alpaca.markets/v1beta1/news 50\n",
      "https://data.alpaca.markets/v1beta1/news 50\n",
      "https://data.alpaca.markets/v1beta1/news 50\n",
      "https://data.alpaca.markets/v1beta1/news 50\n"
     ]
    },
    {
     "name": "stderr",
     "output_type": "stream",
     "text": [
      "  8%|▊         | 12/150 [00:47<08:44,  3.80s/it]"
     ]
    },
    {
     "name": "stdout",
     "output_type": "stream",
     "text": [
      "https://data.alpaca.markets/v1beta1/news 25\n",
      "error2\n",
      "Number of news articles: 475\n",
      "Fetching news for date: 2015-10-07\n",
      "start and end news collection 2015-09-30 2015-10-06\n",
      "length of ticker list 503\n",
      "MSFT,AAPL,NVDA,GOOG,GOOGL,AMZN,META,BRK-B,LLY,AVGO,JPM,TSLA,V,WMT,XOM,UNH,MA,PG,COST,JNJ,ORCL,MRK,HD,BAC,CVX,NFLX,ABBV,AMD,KO,CRM,PEP,QCOM,TMO,ADBE,WFC,LIN,DHR,TMUS,ACN,CSCO,MCD,DIS,GE,AMAT,TXN,ABT,AXP,CAT,INTU,VZ,AMGN,PFE,MS,NEE,IBM,PM,NOW,CMCSA,BX,GS,ISRG,MU,UNP,RTX,NKE,COP,SPGI,ETN,UBER,SCHW,INTC,HON,BKNG,SYK,LRCX,T,LOW,C,ELV,PGR,UPS,VRTX,BLK,TJX,ADI,LMT,BSX,REGN,MDT,CB,BA,KLAC,DE,PANW,MMC,ADP,PLD,ANET,CI,ABNB,MDLZ,SNPS,SBUX,FI,AMT,CMG,SO,WM,BMY,HCA,GD,GILD,APH,CDNS,DUK,ICE,MO,ZTS,CME,SHW,CL,TT,TDG,MCO,FCX,MCK,EQIX,CEG,ITW,NXPI,EOG,CVS,CTAS,NOC,PH,MAR,TGT,ECL,BDX,SLB,CSX,EMR,PYPL,MRNA,USB,MPC,PNC,AON,FDX,MSI,PSX,WELL,CARR,RSG,APD,ROP,ORLY,PCAR,SPG,MNST,MMM,AJG,OXY,VLO,EW,MCHP,COF,CPRT,AIG,SMCI,MET,TFC,NSC,HLT,DXCM,GM,AFL,JCI,WMB,TRV,GEV,NEM,F,PCG,SRE,AZO,PSA,ROST,DHI,GWW,DLR,OKE,AEP,FTNT,HES,KDP,TEL,ADSK,STZ,O,URI,EL,PAYX,KMB,D,BK,A,AMP,COR,KHC,ALL,FIS,LEN,PRU,IDXX,CCI,LHX,KMI,HUM,IQV,PWR,NUE,DOW,AME,HSY,CNC,OTIS,CHTR,MSCI,CMI,ACGL,YUM,CTVA,GIS,KR,IR,RCL,LULU,FAST,ODFL,PEG,KVUE,EXC,MPWR,GEHC,SYY,EA,VRSK,NDAQ,MLM,VST,CSGP,XYL,HWM,FANG,VMC,FICO,IT,CTSH,DD,DAL,LVS,ED,BKR,LYB,HPQ,HAL,DG,BIIB,MTD,GRMN,EXR,RMD,ON,GLW,CDW,DFS,PPG,DVN,TSCO,ROK,HIG,WAB,ADM,XEL,EFX,FSLR,VICI,ANSS,EIX,AVB,EBAY,CBRE,FTV,DECK,TTWO,TROW,GPN,RJF,CHD,WTW,BRO,WEC,FITB,TRGP,DOV,VLTO,DLTR,KEYS,MTB,AWK,EQR,IFF,WDC,WST,PHM,ZBH,HPE,NTAP,BR,IRM,CAH,DTE,ETR,NVR,STT,STE,TER,APTV,FE,ROL,LYV,HUBB,WY,PTC,BF-B,AXON,BALL,TSN,PPL,INVH,STLD,TYL,BLDR,K,ARE,LDOS,WRB,ES,GPC,SBAC,CTRA,WAT,HBAN,CCL,STX,MOH,MKC,PFG,ALGN,HRL,VTR,CBOE,TDY,AEE,WBD,CNP,COO,CPAY,OMC,CINF,ULTA,CMS,AVY,NRG,EQT,DRI,J,DPZ,RF,SYF,BAX,ESS,HOLX,VRSN,NTRS,ENPH,EG,UAL,ATO,ILMN,TXT,LH,ZBRA,CE,EXPD,FDS,L,PKG,CLX,IEX,JBHT,CFG,LUV,MAA,IP,DGX,GEN,BBY,NWS,NWSA,MAS,FOX,FOXA,ALB,AES,SWKS,BG,UDR,EXPE,CAG,JBL,MRO,AMCR,AKAM,SNA,CF,WRK,RVTY,POOL,TRMB,WBA,PNR,KEY,NDSN,CPB,DOC,SWK,HST,INCY,LW,LNT,TECH,PODD,NI,MGM,KIM,AOS,VTRS,JKHY,EVRG,BEN,DVA,IPG,UHS,EMN,SJM,LKQ,TAP,JNPR,CRL,CPT,REG,KMX,APA,RL,BBWI,ALLE,WYNN,BXP,EPAM,SOLV,CHRW,HII,FFIV,MOS,CTLT,PAYC,TFX,TPR,QRVO,HSIC,AAL,GNRC,DAY,AIZ,PNW,HAS,PARA,MKTX,FRT,BIO,BWA,MTCH,FMC,GL,MHK,CZR,ETSY,IVZ,RHI,NCLH,CMA\n",
      "https://data.alpaca.markets/v1beta1/news 50\n",
      "https://data.alpaca.markets/v1beta1/news 50\n",
      "https://data.alpaca.markets/v1beta1/news 50\n",
      "https://data.alpaca.markets/v1beta1/news 50\n",
      "https://data.alpaca.markets/v1beta1/news 50\n",
      "https://data.alpaca.markets/v1beta1/news 50\n",
      "https://data.alpaca.markets/v1beta1/news 50\n",
      "https://data.alpaca.markets/v1beta1/news 50\n",
      "https://data.alpaca.markets/v1beta1/news 50\n",
      "https://data.alpaca.markets/v1beta1/news 50\n",
      "https://data.alpaca.markets/v1beta1/news 50\n"
     ]
    },
    {
     "name": "stderr",
     "output_type": "stream",
     "text": [
      "  9%|▊         | 13/150 [00:51<08:40,  3.80s/it]"
     ]
    },
    {
     "name": "stdout",
     "output_type": "stream",
     "text": [
      "https://data.alpaca.markets/v1beta1/news 10\n",
      "error2\n",
      "Number of news articles: 560\n",
      "Fetching news for date: 2015-11-30\n",
      "start and end news collection 2015-11-23 2015-11-29\n",
      "length of ticker list 503\n",
      "MSFT,AAPL,NVDA,GOOG,GOOGL,AMZN,META,BRK-B,LLY,AVGO,JPM,TSLA,V,WMT,XOM,UNH,MA,PG,COST,JNJ,ORCL,MRK,HD,BAC,CVX,NFLX,ABBV,AMD,KO,CRM,PEP,QCOM,TMO,ADBE,WFC,LIN,DHR,TMUS,ACN,CSCO,MCD,DIS,GE,AMAT,TXN,ABT,AXP,CAT,INTU,VZ,AMGN,PFE,MS,NEE,IBM,PM,NOW,CMCSA,BX,GS,ISRG,MU,UNP,RTX,NKE,COP,SPGI,ETN,UBER,SCHW,INTC,HON,BKNG,SYK,LRCX,T,LOW,C,ELV,PGR,UPS,VRTX,BLK,TJX,ADI,LMT,BSX,REGN,MDT,CB,BA,KLAC,DE,PANW,MMC,ADP,PLD,ANET,CI,ABNB,MDLZ,SNPS,SBUX,FI,AMT,CMG,SO,WM,BMY,HCA,GD,GILD,APH,CDNS,DUK,ICE,MO,ZTS,CME,SHW,CL,TT,TDG,MCO,FCX,MCK,EQIX,CEG,ITW,NXPI,EOG,CVS,CTAS,NOC,PH,MAR,TGT,ECL,BDX,SLB,CSX,EMR,PYPL,MRNA,USB,MPC,PNC,AON,FDX,MSI,PSX,WELL,CARR,RSG,APD,ROP,ORLY,PCAR,SPG,MNST,MMM,AJG,OXY,VLO,EW,MCHP,COF,CPRT,AIG,SMCI,MET,TFC,NSC,HLT,DXCM,GM,AFL,JCI,WMB,TRV,GEV,NEM,F,PCG,SRE,AZO,PSA,ROST,DHI,GWW,DLR,OKE,AEP,FTNT,HES,KDP,TEL,ADSK,STZ,O,URI,EL,PAYX,KMB,D,BK,A,AMP,COR,KHC,ALL,FIS,LEN,PRU,IDXX,CCI,LHX,KMI,HUM,IQV,PWR,NUE,DOW,AME,HSY,CNC,OTIS,CHTR,MSCI,CMI,ACGL,YUM,CTVA,GIS,KR,IR,RCL,LULU,FAST,ODFL,PEG,KVUE,EXC,MPWR,GEHC,SYY,EA,VRSK,NDAQ,MLM,VST,CSGP,XYL,HWM,FANG,VMC,FICO,IT,CTSH,DD,DAL,LVS,ED,BKR,LYB,HPQ,HAL,DG,BIIB,MTD,GRMN,EXR,RMD,ON,GLW,CDW,DFS,PPG,DVN,TSCO,ROK,HIG,WAB,ADM,XEL,EFX,FSLR,VICI,ANSS,EIX,AVB,EBAY,CBRE,FTV,DECK,TTWO,TROW,GPN,RJF,CHD,WTW,BRO,WEC,FITB,TRGP,DOV,VLTO,DLTR,KEYS,MTB,AWK,EQR,IFF,WDC,WST,PHM,ZBH,HPE,NTAP,BR,IRM,CAH,DTE,ETR,NVR,STT,STE,TER,APTV,FE,ROL,LYV,HUBB,WY,PTC,BF-B,AXON,BALL,TSN,PPL,INVH,STLD,TYL,BLDR,K,ARE,LDOS,WRB,ES,GPC,SBAC,CTRA,WAT,HBAN,CCL,STX,MOH,MKC,PFG,ALGN,HRL,VTR,CBOE,TDY,AEE,WBD,CNP,COO,CPAY,OMC,CINF,ULTA,CMS,AVY,NRG,EQT,DRI,J,DPZ,RF,SYF,BAX,ESS,HOLX,VRSN,NTRS,ENPH,EG,UAL,ATO,ILMN,TXT,LH,ZBRA,CE,EXPD,FDS,L,PKG,CLX,IEX,JBHT,CFG,LUV,MAA,IP,DGX,GEN,BBY,NWS,NWSA,MAS,FOX,FOXA,ALB,AES,SWKS,BG,UDR,EXPE,CAG,JBL,MRO,AMCR,AKAM,SNA,CF,WRK,RVTY,POOL,TRMB,WBA,PNR,KEY,NDSN,CPB,DOC,SWK,HST,INCY,LW,LNT,TECH,PODD,NI,MGM,KIM,AOS,VTRS,JKHY,EVRG,BEN,DVA,IPG,UHS,EMN,SJM,LKQ,TAP,JNPR,CRL,CPT,REG,KMX,APA,RL,BBWI,ALLE,WYNN,BXP,EPAM,SOLV,CHRW,HII,FFIV,MOS,CTLT,PAYC,TFX,TPR,QRVO,HSIC,AAL,GNRC,DAY,AIZ,PNW,HAS,PARA,MKTX,FRT,BIO,BWA,MTCH,FMC,GL,MHK,CZR,ETSY,IVZ,RHI,NCLH,CMA\n",
      "https://data.alpaca.markets/v1beta1/news 50\n",
      "https://data.alpaca.markets/v1beta1/news 50\n",
      "https://data.alpaca.markets/v1beta1/news 50\n",
      "https://data.alpaca.markets/v1beta1/news 50\n",
      "https://data.alpaca.markets/v1beta1/news 50\n",
      "https://data.alpaca.markets/v1beta1/news 50\n",
      "https://data.alpaca.markets/v1beta1/news 50\n"
     ]
    },
    {
     "name": "stderr",
     "output_type": "stream",
     "text": [
      "  9%|▉         | 14/150 [00:53<07:44,  3.41s/it]"
     ]
    },
    {
     "name": "stdout",
     "output_type": "stream",
     "text": [
      "https://data.alpaca.markets/v1beta1/news 45\n",
      "error2\n",
      "Number of news articles: 395\n",
      "Fetching news for date: 2015-12-10\n",
      "start and end news collection 2015-12-03 2015-12-09\n",
      "length of ticker list 503\n",
      "MSFT,AAPL,NVDA,GOOG,GOOGL,AMZN,META,BRK-B,LLY,AVGO,JPM,TSLA,V,WMT,XOM,UNH,MA,PG,COST,JNJ,ORCL,MRK,HD,BAC,CVX,NFLX,ABBV,AMD,KO,CRM,PEP,QCOM,TMO,ADBE,WFC,LIN,DHR,TMUS,ACN,CSCO,MCD,DIS,GE,AMAT,TXN,ABT,AXP,CAT,INTU,VZ,AMGN,PFE,MS,NEE,IBM,PM,NOW,CMCSA,BX,GS,ISRG,MU,UNP,RTX,NKE,COP,SPGI,ETN,UBER,SCHW,INTC,HON,BKNG,SYK,LRCX,T,LOW,C,ELV,PGR,UPS,VRTX,BLK,TJX,ADI,LMT,BSX,REGN,MDT,CB,BA,KLAC,DE,PANW,MMC,ADP,PLD,ANET,CI,ABNB,MDLZ,SNPS,SBUX,FI,AMT,CMG,SO,WM,BMY,HCA,GD,GILD,APH,CDNS,DUK,ICE,MO,ZTS,CME,SHW,CL,TT,TDG,MCO,FCX,MCK,EQIX,CEG,ITW,NXPI,EOG,CVS,CTAS,NOC,PH,MAR,TGT,ECL,BDX,SLB,CSX,EMR,PYPL,MRNA,USB,MPC,PNC,AON,FDX,MSI,PSX,WELL,CARR,RSG,APD,ROP,ORLY,PCAR,SPG,MNST,MMM,AJG,OXY,VLO,EW,MCHP,COF,CPRT,AIG,SMCI,MET,TFC,NSC,HLT,DXCM,GM,AFL,JCI,WMB,TRV,GEV,NEM,F,PCG,SRE,AZO,PSA,ROST,DHI,GWW,DLR,OKE,AEP,FTNT,HES,KDP,TEL,ADSK,STZ,O,URI,EL,PAYX,KMB,D,BK,A,AMP,COR,KHC,ALL,FIS,LEN,PRU,IDXX,CCI,LHX,KMI,HUM,IQV,PWR,NUE,DOW,AME,HSY,CNC,OTIS,CHTR,MSCI,CMI,ACGL,YUM,CTVA,GIS,KR,IR,RCL,LULU,FAST,ODFL,PEG,KVUE,EXC,MPWR,GEHC,SYY,EA,VRSK,NDAQ,MLM,VST,CSGP,XYL,HWM,FANG,VMC,FICO,IT,CTSH,DD,DAL,LVS,ED,BKR,LYB,HPQ,HAL,DG,BIIB,MTD,GRMN,EXR,RMD,ON,GLW,CDW,DFS,PPG,DVN,TSCO,ROK,HIG,WAB,ADM,XEL,EFX,FSLR,VICI,ANSS,EIX,AVB,EBAY,CBRE,FTV,DECK,TTWO,TROW,GPN,RJF,CHD,WTW,BRO,WEC,FITB,TRGP,DOV,VLTO,DLTR,KEYS,MTB,AWK,EQR,IFF,WDC,WST,PHM,ZBH,HPE,NTAP,BR,IRM,CAH,DTE,ETR,NVR,STT,STE,TER,APTV,FE,ROL,LYV,HUBB,WY,PTC,BF-B,AXON,BALL,TSN,PPL,INVH,STLD,TYL,BLDR,K,ARE,LDOS,WRB,ES,GPC,SBAC,CTRA,WAT,HBAN,CCL,STX,MOH,MKC,PFG,ALGN,HRL,VTR,CBOE,TDY,AEE,WBD,CNP,COO,CPAY,OMC,CINF,ULTA,CMS,AVY,NRG,EQT,DRI,J,DPZ,RF,SYF,BAX,ESS,HOLX,VRSN,NTRS,ENPH,EG,UAL,ATO,ILMN,TXT,LH,ZBRA,CE,EXPD,FDS,L,PKG,CLX,IEX,JBHT,CFG,LUV,MAA,IP,DGX,GEN,BBY,NWS,NWSA,MAS,FOX,FOXA,ALB,AES,SWKS,BG,UDR,EXPE,CAG,JBL,MRO,AMCR,AKAM,SNA,CF,WRK,RVTY,POOL,TRMB,WBA,PNR,KEY,NDSN,CPB,DOC,SWK,HST,INCY,LW,LNT,TECH,PODD,NI,MGM,KIM,AOS,VTRS,JKHY,EVRG,BEN,DVA,IPG,UHS,EMN,SJM,LKQ,TAP,JNPR,CRL,CPT,REG,KMX,APA,RL,BBWI,ALLE,WYNN,BXP,EPAM,SOLV,CHRW,HII,FFIV,MOS,CTLT,PAYC,TFX,TPR,QRVO,HSIC,AAL,GNRC,DAY,AIZ,PNW,HAS,PARA,MKTX,FRT,BIO,BWA,MTCH,FMC,GL,MHK,CZR,ETSY,IVZ,RHI,NCLH,CMA\n",
      "https://data.alpaca.markets/v1beta1/news 50\n",
      "https://data.alpaca.markets/v1beta1/news 50\n",
      "https://data.alpaca.markets/v1beta1/news 50\n",
      "https://data.alpaca.markets/v1beta1/news 50\n",
      "https://data.alpaca.markets/v1beta1/news 50\n",
      "https://data.alpaca.markets/v1beta1/news 50\n",
      "https://data.alpaca.markets/v1beta1/news 50\n",
      "https://data.alpaca.markets/v1beta1/news 50\n",
      "https://data.alpaca.markets/v1beta1/news 50\n",
      "https://data.alpaca.markets/v1beta1/news 50\n"
     ]
    },
    {
     "name": "stderr",
     "output_type": "stream",
     "text": [
      " 10%|█         | 15/150 [00:57<07:42,  3.42s/it]"
     ]
    },
    {
     "name": "stdout",
     "output_type": "stream",
     "text": [
      "https://data.alpaca.markets/v1beta1/news 49\n",
      "error2\n",
      "Number of news articles: 549\n",
      "Fetching news for date: 2016-01-14\n",
      "start and end news collection 2016-01-07 2016-01-13\n",
      "length of ticker list 503\n",
      "MSFT,AAPL,NVDA,GOOG,GOOGL,AMZN,META,BRK-B,LLY,AVGO,JPM,TSLA,V,WMT,XOM,UNH,MA,PG,COST,JNJ,ORCL,MRK,HD,BAC,CVX,NFLX,ABBV,AMD,KO,CRM,PEP,QCOM,TMO,ADBE,WFC,LIN,DHR,TMUS,ACN,CSCO,MCD,DIS,GE,AMAT,TXN,ABT,AXP,CAT,INTU,VZ,AMGN,PFE,MS,NEE,IBM,PM,NOW,CMCSA,BX,GS,ISRG,MU,UNP,RTX,NKE,COP,SPGI,ETN,UBER,SCHW,INTC,HON,BKNG,SYK,LRCX,T,LOW,C,ELV,PGR,UPS,VRTX,BLK,TJX,ADI,LMT,BSX,REGN,MDT,CB,BA,KLAC,DE,PANW,MMC,ADP,PLD,ANET,CI,ABNB,MDLZ,SNPS,SBUX,FI,AMT,CMG,SO,WM,BMY,HCA,GD,GILD,APH,CDNS,DUK,ICE,MO,ZTS,CME,SHW,CL,TT,TDG,MCO,FCX,MCK,EQIX,CEG,ITW,NXPI,EOG,CVS,CTAS,NOC,PH,MAR,TGT,ECL,BDX,SLB,CSX,EMR,PYPL,MRNA,USB,MPC,PNC,AON,FDX,MSI,PSX,WELL,CARR,RSG,APD,ROP,ORLY,PCAR,SPG,MNST,MMM,AJG,OXY,VLO,EW,MCHP,COF,CPRT,AIG,SMCI,MET,TFC,NSC,HLT,DXCM,GM,AFL,JCI,WMB,TRV,GEV,NEM,F,PCG,SRE,AZO,PSA,ROST,DHI,GWW,DLR,OKE,AEP,FTNT,HES,KDP,TEL,ADSK,STZ,O,URI,EL,PAYX,KMB,D,BK,A,AMP,COR,KHC,ALL,FIS,LEN,PRU,IDXX,CCI,LHX,KMI,HUM,IQV,PWR,NUE,DOW,AME,HSY,CNC,OTIS,CHTR,MSCI,CMI,ACGL,YUM,CTVA,GIS,KR,IR,RCL,LULU,FAST,ODFL,PEG,KVUE,EXC,MPWR,GEHC,SYY,EA,VRSK,NDAQ,MLM,VST,CSGP,XYL,HWM,FANG,VMC,FICO,IT,CTSH,DD,DAL,LVS,ED,BKR,LYB,HPQ,HAL,DG,BIIB,MTD,GRMN,EXR,RMD,ON,GLW,CDW,DFS,PPG,DVN,TSCO,ROK,HIG,WAB,ADM,XEL,EFX,FSLR,VICI,ANSS,EIX,AVB,EBAY,CBRE,FTV,DECK,TTWO,TROW,GPN,RJF,CHD,WTW,BRO,WEC,FITB,TRGP,DOV,VLTO,DLTR,KEYS,MTB,AWK,EQR,IFF,WDC,WST,PHM,ZBH,HPE,NTAP,BR,IRM,CAH,DTE,ETR,NVR,STT,STE,TER,APTV,FE,ROL,LYV,HUBB,WY,PTC,BF-B,AXON,BALL,TSN,PPL,INVH,STLD,TYL,BLDR,K,ARE,LDOS,WRB,ES,GPC,SBAC,CTRA,WAT,HBAN,CCL,STX,MOH,MKC,PFG,ALGN,HRL,VTR,CBOE,TDY,AEE,WBD,CNP,COO,CPAY,OMC,CINF,ULTA,CMS,AVY,NRG,EQT,DRI,J,DPZ,RF,SYF,BAX,ESS,HOLX,VRSN,NTRS,ENPH,EG,UAL,ATO,ILMN,TXT,LH,ZBRA,CE,EXPD,FDS,L,PKG,CLX,IEX,JBHT,CFG,LUV,MAA,IP,DGX,GEN,BBY,NWS,NWSA,MAS,FOX,FOXA,ALB,AES,SWKS,BG,UDR,EXPE,CAG,JBL,MRO,AMCR,AKAM,SNA,CF,WRK,RVTY,POOL,TRMB,WBA,PNR,KEY,NDSN,CPB,DOC,SWK,HST,INCY,LW,LNT,TECH,PODD,NI,MGM,KIM,AOS,VTRS,JKHY,EVRG,BEN,DVA,IPG,UHS,EMN,SJM,LKQ,TAP,JNPR,CRL,CPT,REG,KMX,APA,RL,BBWI,ALLE,WYNN,BXP,EPAM,SOLV,CHRW,HII,FFIV,MOS,CTLT,PAYC,TFX,TPR,QRVO,HSIC,AAL,GNRC,DAY,AIZ,PNW,HAS,PARA,MKTX,FRT,BIO,BWA,MTCH,FMC,GL,MHK,CZR,ETSY,IVZ,RHI,NCLH,CMA\n",
      "https://data.alpaca.markets/v1beta1/news 50\n",
      "https://data.alpaca.markets/v1beta1/news 50\n",
      "https://data.alpaca.markets/v1beta1/news 50\n",
      "https://data.alpaca.markets/v1beta1/news 50\n",
      "https://data.alpaca.markets/v1beta1/news 50\n",
      "https://data.alpaca.markets/v1beta1/news 50\n",
      "https://data.alpaca.markets/v1beta1/news 50\n",
      "https://data.alpaca.markets/v1beta1/news 50\n",
      "https://data.alpaca.markets/v1beta1/news 50\n",
      "https://data.alpaca.markets/v1beta1/news 50\n",
      "https://data.alpaca.markets/v1beta1/news 50\n",
      "https://data.alpaca.markets/v1beta1/news 50\n",
      "https://data.alpaca.markets/v1beta1/news 50\n",
      "https://data.alpaca.markets/v1beta1/news 50\n"
     ]
    },
    {
     "name": "stderr",
     "output_type": "stream",
     "text": [
      " 11%|█         | 16/150 [01:02<08:34,  3.84s/it]"
     ]
    },
    {
     "name": "stdout",
     "output_type": "stream",
     "text": [
      "https://data.alpaca.markets/v1beta1/news 7\n",
      "error2\n",
      "Number of news articles: 707\n",
      "Fetching news for date: 2016-02-01\n",
      "start and end news collection 2016-01-25 2016-01-31\n",
      "length of ticker list 503\n",
      "MSFT,AAPL,NVDA,GOOG,GOOGL,AMZN,META,BRK-B,LLY,AVGO,JPM,TSLA,V,WMT,XOM,UNH,MA,PG,COST,JNJ,ORCL,MRK,HD,BAC,CVX,NFLX,ABBV,AMD,KO,CRM,PEP,QCOM,TMO,ADBE,WFC,LIN,DHR,TMUS,ACN,CSCO,MCD,DIS,GE,AMAT,TXN,ABT,AXP,CAT,INTU,VZ,AMGN,PFE,MS,NEE,IBM,PM,NOW,CMCSA,BX,GS,ISRG,MU,UNP,RTX,NKE,COP,SPGI,ETN,UBER,SCHW,INTC,HON,BKNG,SYK,LRCX,T,LOW,C,ELV,PGR,UPS,VRTX,BLK,TJX,ADI,LMT,BSX,REGN,MDT,CB,BA,KLAC,DE,PANW,MMC,ADP,PLD,ANET,CI,ABNB,MDLZ,SNPS,SBUX,FI,AMT,CMG,SO,WM,BMY,HCA,GD,GILD,APH,CDNS,DUK,ICE,MO,ZTS,CME,SHW,CL,TT,TDG,MCO,FCX,MCK,EQIX,CEG,ITW,NXPI,EOG,CVS,CTAS,NOC,PH,MAR,TGT,ECL,BDX,SLB,CSX,EMR,PYPL,MRNA,USB,MPC,PNC,AON,FDX,MSI,PSX,WELL,CARR,RSG,APD,ROP,ORLY,PCAR,SPG,MNST,MMM,AJG,OXY,VLO,EW,MCHP,COF,CPRT,AIG,SMCI,MET,TFC,NSC,HLT,DXCM,GM,AFL,JCI,WMB,TRV,GEV,NEM,F,PCG,SRE,AZO,PSA,ROST,DHI,GWW,DLR,OKE,AEP,FTNT,HES,KDP,TEL,ADSK,STZ,O,URI,EL,PAYX,KMB,D,BK,A,AMP,COR,KHC,ALL,FIS,LEN,PRU,IDXX,CCI,LHX,KMI,HUM,IQV,PWR,NUE,DOW,AME,HSY,CNC,OTIS,CHTR,MSCI,CMI,ACGL,YUM,CTVA,GIS,KR,IR,RCL,LULU,FAST,ODFL,PEG,KVUE,EXC,MPWR,GEHC,SYY,EA,VRSK,NDAQ,MLM,VST,CSGP,XYL,HWM,FANG,VMC,FICO,IT,CTSH,DD,DAL,LVS,ED,BKR,LYB,HPQ,HAL,DG,BIIB,MTD,GRMN,EXR,RMD,ON,GLW,CDW,DFS,PPG,DVN,TSCO,ROK,HIG,WAB,ADM,XEL,EFX,FSLR,VICI,ANSS,EIX,AVB,EBAY,CBRE,FTV,DECK,TTWO,TROW,GPN,RJF,CHD,WTW,BRO,WEC,FITB,TRGP,DOV,VLTO,DLTR,KEYS,MTB,AWK,EQR,IFF,WDC,WST,PHM,ZBH,HPE,NTAP,BR,IRM,CAH,DTE,ETR,NVR,STT,STE,TER,APTV,FE,ROL,LYV,HUBB,WY,PTC,BF-B,AXON,BALL,TSN,PPL,INVH,STLD,TYL,BLDR,K,ARE,LDOS,WRB,ES,GPC,SBAC,CTRA,WAT,HBAN,CCL,STX,MOH,MKC,PFG,ALGN,HRL,VTR,CBOE,TDY,AEE,WBD,CNP,COO,CPAY,OMC,CINF,ULTA,CMS,AVY,NRG,EQT,DRI,J,DPZ,RF,SYF,BAX,ESS,HOLX,VRSN,NTRS,ENPH,EG,UAL,ATO,ILMN,TXT,LH,ZBRA,CE,EXPD,FDS,L,PKG,CLX,IEX,JBHT,CFG,LUV,MAA,IP,DGX,GEN,BBY,NWS,NWSA,MAS,FOX,FOXA,ALB,AES,SWKS,BG,UDR,EXPE,CAG,JBL,MRO,AMCR,AKAM,SNA,CF,WRK,RVTY,POOL,TRMB,WBA,PNR,KEY,NDSN,CPB,DOC,SWK,HST,INCY,LW,LNT,TECH,PODD,NI,MGM,KIM,AOS,VTRS,JKHY,EVRG,BEN,DVA,IPG,UHS,EMN,SJM,LKQ,TAP,JNPR,CRL,CPT,REG,KMX,APA,RL,BBWI,ALLE,WYNN,BXP,EPAM,SOLV,CHRW,HII,FFIV,MOS,CTLT,PAYC,TFX,TPR,QRVO,HSIC,AAL,GNRC,DAY,AIZ,PNW,HAS,PARA,MKTX,FRT,BIO,BWA,MTCH,FMC,GL,MHK,CZR,ETSY,IVZ,RHI,NCLH,CMA\n",
      "https://data.alpaca.markets/v1beta1/news 50\n",
      "https://data.alpaca.markets/v1beta1/news 50\n",
      "https://data.alpaca.markets/v1beta1/news 50\n",
      "https://data.alpaca.markets/v1beta1/news 50\n",
      "https://data.alpaca.markets/v1beta1/news 50\n",
      "https://data.alpaca.markets/v1beta1/news 50\n",
      "https://data.alpaca.markets/v1beta1/news 50\n",
      "https://data.alpaca.markets/v1beta1/news 50\n",
      "https://data.alpaca.markets/v1beta1/news 50\n",
      "https://data.alpaca.markets/v1beta1/news 50\n",
      "https://data.alpaca.markets/v1beta1/news 50\n",
      "https://data.alpaca.markets/v1beta1/news 50\n",
      "https://data.alpaca.markets/v1beta1/news 50\n",
      "https://data.alpaca.markets/v1beta1/news 50\n",
      "https://data.alpaca.markets/v1beta1/news 50\n",
      "https://data.alpaca.markets/v1beta1/news 50\n",
      "https://data.alpaca.markets/v1beta1/news 50\n",
      "https://data.alpaca.markets/v1beta1/news 50\n",
      "https://data.alpaca.markets/v1beta1/news 50\n",
      "https://data.alpaca.markets/v1beta1/news 50\n",
      "https://data.alpaca.markets/v1beta1/news 50\n",
      "https://data.alpaca.markets/v1beta1/news 50\n",
      "https://data.alpaca.markets/v1beta1/news 50\n"
     ]
    },
    {
     "name": "stderr",
     "output_type": "stream",
     "text": [
      " 11%|█▏        | 17/150 [01:09<11:01,  4.97s/it]"
     ]
    },
    {
     "name": "stdout",
     "output_type": "stream",
     "text": [
      "https://data.alpaca.markets/v1beta1/news 27\n",
      "error2\n",
      "Number of news articles: 1177\n",
      "Fetching news for date: 2016-02-18\n",
      "start and end news collection 2016-02-11 2016-02-17\n",
      "length of ticker list 503\n",
      "MSFT,AAPL,NVDA,GOOG,GOOGL,AMZN,META,BRK-B,LLY,AVGO,JPM,TSLA,V,WMT,XOM,UNH,MA,PG,COST,JNJ,ORCL,MRK,HD,BAC,CVX,NFLX,ABBV,AMD,KO,CRM,PEP,QCOM,TMO,ADBE,WFC,LIN,DHR,TMUS,ACN,CSCO,MCD,DIS,GE,AMAT,TXN,ABT,AXP,CAT,INTU,VZ,AMGN,PFE,MS,NEE,IBM,PM,NOW,CMCSA,BX,GS,ISRG,MU,UNP,RTX,NKE,COP,SPGI,ETN,UBER,SCHW,INTC,HON,BKNG,SYK,LRCX,T,LOW,C,ELV,PGR,UPS,VRTX,BLK,TJX,ADI,LMT,BSX,REGN,MDT,CB,BA,KLAC,DE,PANW,MMC,ADP,PLD,ANET,CI,ABNB,MDLZ,SNPS,SBUX,FI,AMT,CMG,SO,WM,BMY,HCA,GD,GILD,APH,CDNS,DUK,ICE,MO,ZTS,CME,SHW,CL,TT,TDG,MCO,FCX,MCK,EQIX,CEG,ITW,NXPI,EOG,CVS,CTAS,NOC,PH,MAR,TGT,ECL,BDX,SLB,CSX,EMR,PYPL,MRNA,USB,MPC,PNC,AON,FDX,MSI,PSX,WELL,CARR,RSG,APD,ROP,ORLY,PCAR,SPG,MNST,MMM,AJG,OXY,VLO,EW,MCHP,COF,CPRT,AIG,SMCI,MET,TFC,NSC,HLT,DXCM,GM,AFL,JCI,WMB,TRV,GEV,NEM,F,PCG,SRE,AZO,PSA,ROST,DHI,GWW,DLR,OKE,AEP,FTNT,HES,KDP,TEL,ADSK,STZ,O,URI,EL,PAYX,KMB,D,BK,A,AMP,COR,KHC,ALL,FIS,LEN,PRU,IDXX,CCI,LHX,KMI,HUM,IQV,PWR,NUE,DOW,AME,HSY,CNC,OTIS,CHTR,MSCI,CMI,ACGL,YUM,CTVA,GIS,KR,IR,RCL,LULU,FAST,ODFL,PEG,KVUE,EXC,MPWR,GEHC,SYY,EA,VRSK,NDAQ,MLM,VST,CSGP,XYL,HWM,FANG,VMC,FICO,IT,CTSH,DD,DAL,LVS,ED,BKR,LYB,HPQ,HAL,DG,BIIB,MTD,GRMN,EXR,RMD,ON,GLW,CDW,DFS,PPG,DVN,TSCO,ROK,HIG,WAB,ADM,XEL,EFX,FSLR,VICI,ANSS,EIX,AVB,EBAY,CBRE,FTV,DECK,TTWO,TROW,GPN,RJF,CHD,WTW,BRO,WEC,FITB,TRGP,DOV,VLTO,DLTR,KEYS,MTB,AWK,EQR,IFF,WDC,WST,PHM,ZBH,HPE,NTAP,BR,IRM,CAH,DTE,ETR,NVR,STT,STE,TER,APTV,FE,ROL,LYV,HUBB,WY,PTC,BF-B,AXON,BALL,TSN,PPL,INVH,STLD,TYL,BLDR,K,ARE,LDOS,WRB,ES,GPC,SBAC,CTRA,WAT,HBAN,CCL,STX,MOH,MKC,PFG,ALGN,HRL,VTR,CBOE,TDY,AEE,WBD,CNP,COO,CPAY,OMC,CINF,ULTA,CMS,AVY,NRG,EQT,DRI,J,DPZ,RF,SYF,BAX,ESS,HOLX,VRSN,NTRS,ENPH,EG,UAL,ATO,ILMN,TXT,LH,ZBRA,CE,EXPD,FDS,L,PKG,CLX,IEX,JBHT,CFG,LUV,MAA,IP,DGX,GEN,BBY,NWS,NWSA,MAS,FOX,FOXA,ALB,AES,SWKS,BG,UDR,EXPE,CAG,JBL,MRO,AMCR,AKAM,SNA,CF,WRK,RVTY,POOL,TRMB,WBA,PNR,KEY,NDSN,CPB,DOC,SWK,HST,INCY,LW,LNT,TECH,PODD,NI,MGM,KIM,AOS,VTRS,JKHY,EVRG,BEN,DVA,IPG,UHS,EMN,SJM,LKQ,TAP,JNPR,CRL,CPT,REG,KMX,APA,RL,BBWI,ALLE,WYNN,BXP,EPAM,SOLV,CHRW,HII,FFIV,MOS,CTLT,PAYC,TFX,TPR,QRVO,HSIC,AAL,GNRC,DAY,AIZ,PNW,HAS,PARA,MKTX,FRT,BIO,BWA,MTCH,FMC,GL,MHK,CZR,ETSY,IVZ,RHI,NCLH,CMA\n",
      "https://data.alpaca.markets/v1beta1/news 50\n",
      "https://data.alpaca.markets/v1beta1/news 50\n",
      "https://data.alpaca.markets/v1beta1/news 50\n",
      "https://data.alpaca.markets/v1beta1/news 50\n",
      "https://data.alpaca.markets/v1beta1/news 50\n",
      "https://data.alpaca.markets/v1beta1/news 50\n",
      "https://data.alpaca.markets/v1beta1/news 50\n",
      "https://data.alpaca.markets/v1beta1/news 50\n",
      "https://data.alpaca.markets/v1beta1/news 50\n",
      "https://data.alpaca.markets/v1beta1/news 50\n",
      "https://data.alpaca.markets/v1beta1/news 50\n"
     ]
    },
    {
     "name": "stderr",
     "output_type": "stream",
     "text": [
      " 12%|█▏        | 18/150 [01:13<10:12,  4.64s/it]"
     ]
    },
    {
     "name": "stdout",
     "output_type": "stream",
     "text": [
      "https://data.alpaca.markets/v1beta1/news 13\n",
      "error2\n",
      "Number of news articles: 563\n",
      "Fetching news for date: 2016-02-19\n",
      "start and end news collection 2016-02-12 2016-02-18\n",
      "length of ticker list 503\n",
      "MSFT,AAPL,NVDA,GOOG,GOOGL,AMZN,META,BRK-B,LLY,AVGO,JPM,TSLA,V,WMT,XOM,UNH,MA,PG,COST,JNJ,ORCL,MRK,HD,BAC,CVX,NFLX,ABBV,AMD,KO,CRM,PEP,QCOM,TMO,ADBE,WFC,LIN,DHR,TMUS,ACN,CSCO,MCD,DIS,GE,AMAT,TXN,ABT,AXP,CAT,INTU,VZ,AMGN,PFE,MS,NEE,IBM,PM,NOW,CMCSA,BX,GS,ISRG,MU,UNP,RTX,NKE,COP,SPGI,ETN,UBER,SCHW,INTC,HON,BKNG,SYK,LRCX,T,LOW,C,ELV,PGR,UPS,VRTX,BLK,TJX,ADI,LMT,BSX,REGN,MDT,CB,BA,KLAC,DE,PANW,MMC,ADP,PLD,ANET,CI,ABNB,MDLZ,SNPS,SBUX,FI,AMT,CMG,SO,WM,BMY,HCA,GD,GILD,APH,CDNS,DUK,ICE,MO,ZTS,CME,SHW,CL,TT,TDG,MCO,FCX,MCK,EQIX,CEG,ITW,NXPI,EOG,CVS,CTAS,NOC,PH,MAR,TGT,ECL,BDX,SLB,CSX,EMR,PYPL,MRNA,USB,MPC,PNC,AON,FDX,MSI,PSX,WELL,CARR,RSG,APD,ROP,ORLY,PCAR,SPG,MNST,MMM,AJG,OXY,VLO,EW,MCHP,COF,CPRT,AIG,SMCI,MET,TFC,NSC,HLT,DXCM,GM,AFL,JCI,WMB,TRV,GEV,NEM,F,PCG,SRE,AZO,PSA,ROST,DHI,GWW,DLR,OKE,AEP,FTNT,HES,KDP,TEL,ADSK,STZ,O,URI,EL,PAYX,KMB,D,BK,A,AMP,COR,KHC,ALL,FIS,LEN,PRU,IDXX,CCI,LHX,KMI,HUM,IQV,PWR,NUE,DOW,AME,HSY,CNC,OTIS,CHTR,MSCI,CMI,ACGL,YUM,CTVA,GIS,KR,IR,RCL,LULU,FAST,ODFL,PEG,KVUE,EXC,MPWR,GEHC,SYY,EA,VRSK,NDAQ,MLM,VST,CSGP,XYL,HWM,FANG,VMC,FICO,IT,CTSH,DD,DAL,LVS,ED,BKR,LYB,HPQ,HAL,DG,BIIB,MTD,GRMN,EXR,RMD,ON,GLW,CDW,DFS,PPG,DVN,TSCO,ROK,HIG,WAB,ADM,XEL,EFX,FSLR,VICI,ANSS,EIX,AVB,EBAY,CBRE,FTV,DECK,TTWO,TROW,GPN,RJF,CHD,WTW,BRO,WEC,FITB,TRGP,DOV,VLTO,DLTR,KEYS,MTB,AWK,EQR,IFF,WDC,WST,PHM,ZBH,HPE,NTAP,BR,IRM,CAH,DTE,ETR,NVR,STT,STE,TER,APTV,FE,ROL,LYV,HUBB,WY,PTC,BF-B,AXON,BALL,TSN,PPL,INVH,STLD,TYL,BLDR,K,ARE,LDOS,WRB,ES,GPC,SBAC,CTRA,WAT,HBAN,CCL,STX,MOH,MKC,PFG,ALGN,HRL,VTR,CBOE,TDY,AEE,WBD,CNP,COO,CPAY,OMC,CINF,ULTA,CMS,AVY,NRG,EQT,DRI,J,DPZ,RF,SYF,BAX,ESS,HOLX,VRSN,NTRS,ENPH,EG,UAL,ATO,ILMN,TXT,LH,ZBRA,CE,EXPD,FDS,L,PKG,CLX,IEX,JBHT,CFG,LUV,MAA,IP,DGX,GEN,BBY,NWS,NWSA,MAS,FOX,FOXA,ALB,AES,SWKS,BG,UDR,EXPE,CAG,JBL,MRO,AMCR,AKAM,SNA,CF,WRK,RVTY,POOL,TRMB,WBA,PNR,KEY,NDSN,CPB,DOC,SWK,HST,INCY,LW,LNT,TECH,PODD,NI,MGM,KIM,AOS,VTRS,JKHY,EVRG,BEN,DVA,IPG,UHS,EMN,SJM,LKQ,TAP,JNPR,CRL,CPT,REG,KMX,APA,RL,BBWI,ALLE,WYNN,BXP,EPAM,SOLV,CHRW,HII,FFIV,MOS,CTLT,PAYC,TFX,TPR,QRVO,HSIC,AAL,GNRC,DAY,AIZ,PNW,HAS,PARA,MKTX,FRT,BIO,BWA,MTCH,FMC,GL,MHK,CZR,ETSY,IVZ,RHI,NCLH,CMA\n",
      "https://data.alpaca.markets/v1beta1/news 50\n",
      "https://data.alpaca.markets/v1beta1/news 50\n",
      "https://data.alpaca.markets/v1beta1/news 50\n",
      "https://data.alpaca.markets/v1beta1/news 50\n",
      "https://data.alpaca.markets/v1beta1/news 50\n",
      "https://data.alpaca.markets/v1beta1/news 50\n",
      "https://data.alpaca.markets/v1beta1/news 50\n",
      "https://data.alpaca.markets/v1beta1/news 50\n",
      "https://data.alpaca.markets/v1beta1/news 50\n",
      "https://data.alpaca.markets/v1beta1/news 50\n",
      "https://data.alpaca.markets/v1beta1/news 50\n"
     ]
    },
    {
     "name": "stderr",
     "output_type": "stream",
     "text": [
      " 13%|█▎        | 19/150 [01:17<09:50,  4.51s/it]"
     ]
    },
    {
     "name": "stdout",
     "output_type": "stream",
     "text": [
      "https://data.alpaca.markets/v1beta1/news 41\n",
      "error2\n",
      "Number of news articles: 591\n",
      "Fetching news for date: 2016-03-02\n",
      "start and end news collection 2016-02-24 2016-03-01\n",
      "length of ticker list 503\n",
      "MSFT,AAPL,NVDA,GOOG,GOOGL,AMZN,META,BRK-B,LLY,AVGO,JPM,TSLA,V,WMT,XOM,UNH,MA,PG,COST,JNJ,ORCL,MRK,HD,BAC,CVX,NFLX,ABBV,AMD,KO,CRM,PEP,QCOM,TMO,ADBE,WFC,LIN,DHR,TMUS,ACN,CSCO,MCD,DIS,GE,AMAT,TXN,ABT,AXP,CAT,INTU,VZ,AMGN,PFE,MS,NEE,IBM,PM,NOW,CMCSA,BX,GS,ISRG,MU,UNP,RTX,NKE,COP,SPGI,ETN,UBER,SCHW,INTC,HON,BKNG,SYK,LRCX,T,LOW,C,ELV,PGR,UPS,VRTX,BLK,TJX,ADI,LMT,BSX,REGN,MDT,CB,BA,KLAC,DE,PANW,MMC,ADP,PLD,ANET,CI,ABNB,MDLZ,SNPS,SBUX,FI,AMT,CMG,SO,WM,BMY,HCA,GD,GILD,APH,CDNS,DUK,ICE,MO,ZTS,CME,SHW,CL,TT,TDG,MCO,FCX,MCK,EQIX,CEG,ITW,NXPI,EOG,CVS,CTAS,NOC,PH,MAR,TGT,ECL,BDX,SLB,CSX,EMR,PYPL,MRNA,USB,MPC,PNC,AON,FDX,MSI,PSX,WELL,CARR,RSG,APD,ROP,ORLY,PCAR,SPG,MNST,MMM,AJG,OXY,VLO,EW,MCHP,COF,CPRT,AIG,SMCI,MET,TFC,NSC,HLT,DXCM,GM,AFL,JCI,WMB,TRV,GEV,NEM,F,PCG,SRE,AZO,PSA,ROST,DHI,GWW,DLR,OKE,AEP,FTNT,HES,KDP,TEL,ADSK,STZ,O,URI,EL,PAYX,KMB,D,BK,A,AMP,COR,KHC,ALL,FIS,LEN,PRU,IDXX,CCI,LHX,KMI,HUM,IQV,PWR,NUE,DOW,AME,HSY,CNC,OTIS,CHTR,MSCI,CMI,ACGL,YUM,CTVA,GIS,KR,IR,RCL,LULU,FAST,ODFL,PEG,KVUE,EXC,MPWR,GEHC,SYY,EA,VRSK,NDAQ,MLM,VST,CSGP,XYL,HWM,FANG,VMC,FICO,IT,CTSH,DD,DAL,LVS,ED,BKR,LYB,HPQ,HAL,DG,BIIB,MTD,GRMN,EXR,RMD,ON,GLW,CDW,DFS,PPG,DVN,TSCO,ROK,HIG,WAB,ADM,XEL,EFX,FSLR,VICI,ANSS,EIX,AVB,EBAY,CBRE,FTV,DECK,TTWO,TROW,GPN,RJF,CHD,WTW,BRO,WEC,FITB,TRGP,DOV,VLTO,DLTR,KEYS,MTB,AWK,EQR,IFF,WDC,WST,PHM,ZBH,HPE,NTAP,BR,IRM,CAH,DTE,ETR,NVR,STT,STE,TER,APTV,FE,ROL,LYV,HUBB,WY,PTC,BF-B,AXON,BALL,TSN,PPL,INVH,STLD,TYL,BLDR,K,ARE,LDOS,WRB,ES,GPC,SBAC,CTRA,WAT,HBAN,CCL,STX,MOH,MKC,PFG,ALGN,HRL,VTR,CBOE,TDY,AEE,WBD,CNP,COO,CPAY,OMC,CINF,ULTA,CMS,AVY,NRG,EQT,DRI,J,DPZ,RF,SYF,BAX,ESS,HOLX,VRSN,NTRS,ENPH,EG,UAL,ATO,ILMN,TXT,LH,ZBRA,CE,EXPD,FDS,L,PKG,CLX,IEX,JBHT,CFG,LUV,MAA,IP,DGX,GEN,BBY,NWS,NWSA,MAS,FOX,FOXA,ALB,AES,SWKS,BG,UDR,EXPE,CAG,JBL,MRO,AMCR,AKAM,SNA,CF,WRK,RVTY,POOL,TRMB,WBA,PNR,KEY,NDSN,CPB,DOC,SWK,HST,INCY,LW,LNT,TECH,PODD,NI,MGM,KIM,AOS,VTRS,JKHY,EVRG,BEN,DVA,IPG,UHS,EMN,SJM,LKQ,TAP,JNPR,CRL,CPT,REG,KMX,APA,RL,BBWI,ALLE,WYNN,BXP,EPAM,SOLV,CHRW,HII,FFIV,MOS,CTLT,PAYC,TFX,TPR,QRVO,HSIC,AAL,GNRC,DAY,AIZ,PNW,HAS,PARA,MKTX,FRT,BIO,BWA,MTCH,FMC,GL,MHK,CZR,ETSY,IVZ,RHI,NCLH,CMA\n",
      "https://data.alpaca.markets/v1beta1/news 50\n",
      "https://data.alpaca.markets/v1beta1/news 50\n",
      "https://data.alpaca.markets/v1beta1/news 50\n",
      "https://data.alpaca.markets/v1beta1/news 50\n",
      "https://data.alpaca.markets/v1beta1/news 50\n",
      "https://data.alpaca.markets/v1beta1/news 50\n",
      "https://data.alpaca.markets/v1beta1/news 50\n",
      "https://data.alpaca.markets/v1beta1/news 50\n",
      "https://data.alpaca.markets/v1beta1/news 50\n",
      "https://data.alpaca.markets/v1beta1/news 50\n",
      "https://data.alpaca.markets/v1beta1/news 50\n"
     ]
    },
    {
     "name": "stderr",
     "output_type": "stream",
     "text": [
      " 13%|█▎        | 20/150 [01:22<09:35,  4.43s/it]"
     ]
    },
    {
     "name": "stdout",
     "output_type": "stream",
     "text": [
      "https://data.alpaca.markets/v1beta1/news 31\n",
      "error2\n",
      "Number of news articles: 581\n",
      "Fetching news for date: 2016-04-14\n",
      "start and end news collection 2016-04-07 2016-04-13\n",
      "length of ticker list 503\n",
      "MSFT,AAPL,NVDA,GOOG,GOOGL,AMZN,META,BRK-B,LLY,AVGO,JPM,TSLA,V,WMT,XOM,UNH,MA,PG,COST,JNJ,ORCL,MRK,HD,BAC,CVX,NFLX,ABBV,AMD,KO,CRM,PEP,QCOM,TMO,ADBE,WFC,LIN,DHR,TMUS,ACN,CSCO,MCD,DIS,GE,AMAT,TXN,ABT,AXP,CAT,INTU,VZ,AMGN,PFE,MS,NEE,IBM,PM,NOW,CMCSA,BX,GS,ISRG,MU,UNP,RTX,NKE,COP,SPGI,ETN,UBER,SCHW,INTC,HON,BKNG,SYK,LRCX,T,LOW,C,ELV,PGR,UPS,VRTX,BLK,TJX,ADI,LMT,BSX,REGN,MDT,CB,BA,KLAC,DE,PANW,MMC,ADP,PLD,ANET,CI,ABNB,MDLZ,SNPS,SBUX,FI,AMT,CMG,SO,WM,BMY,HCA,GD,GILD,APH,CDNS,DUK,ICE,MO,ZTS,CME,SHW,CL,TT,TDG,MCO,FCX,MCK,EQIX,CEG,ITW,NXPI,EOG,CVS,CTAS,NOC,PH,MAR,TGT,ECL,BDX,SLB,CSX,EMR,PYPL,MRNA,USB,MPC,PNC,AON,FDX,MSI,PSX,WELL,CARR,RSG,APD,ROP,ORLY,PCAR,SPG,MNST,MMM,AJG,OXY,VLO,EW,MCHP,COF,CPRT,AIG,SMCI,MET,TFC,NSC,HLT,DXCM,GM,AFL,JCI,WMB,TRV,GEV,NEM,F,PCG,SRE,AZO,PSA,ROST,DHI,GWW,DLR,OKE,AEP,FTNT,HES,KDP,TEL,ADSK,STZ,O,URI,EL,PAYX,KMB,D,BK,A,AMP,COR,KHC,ALL,FIS,LEN,PRU,IDXX,CCI,LHX,KMI,HUM,IQV,PWR,NUE,DOW,AME,HSY,CNC,OTIS,CHTR,MSCI,CMI,ACGL,YUM,CTVA,GIS,KR,IR,RCL,LULU,FAST,ODFL,PEG,KVUE,EXC,MPWR,GEHC,SYY,EA,VRSK,NDAQ,MLM,VST,CSGP,XYL,HWM,FANG,VMC,FICO,IT,CTSH,DD,DAL,LVS,ED,BKR,LYB,HPQ,HAL,DG,BIIB,MTD,GRMN,EXR,RMD,ON,GLW,CDW,DFS,PPG,DVN,TSCO,ROK,HIG,WAB,ADM,XEL,EFX,FSLR,VICI,ANSS,EIX,AVB,EBAY,CBRE,FTV,DECK,TTWO,TROW,GPN,RJF,CHD,WTW,BRO,WEC,FITB,TRGP,DOV,VLTO,DLTR,KEYS,MTB,AWK,EQR,IFF,WDC,WST,PHM,ZBH,HPE,NTAP,BR,IRM,CAH,DTE,ETR,NVR,STT,STE,TER,APTV,FE,ROL,LYV,HUBB,WY,PTC,BF-B,AXON,BALL,TSN,PPL,INVH,STLD,TYL,BLDR,K,ARE,LDOS,WRB,ES,GPC,SBAC,CTRA,WAT,HBAN,CCL,STX,MOH,MKC,PFG,ALGN,HRL,VTR,CBOE,TDY,AEE,WBD,CNP,COO,CPAY,OMC,CINF,ULTA,CMS,AVY,NRG,EQT,DRI,J,DPZ,RF,SYF,BAX,ESS,HOLX,VRSN,NTRS,ENPH,EG,UAL,ATO,ILMN,TXT,LH,ZBRA,CE,EXPD,FDS,L,PKG,CLX,IEX,JBHT,CFG,LUV,MAA,IP,DGX,GEN,BBY,NWS,NWSA,MAS,FOX,FOXA,ALB,AES,SWKS,BG,UDR,EXPE,CAG,JBL,MRO,AMCR,AKAM,SNA,CF,WRK,RVTY,POOL,TRMB,WBA,PNR,KEY,NDSN,CPB,DOC,SWK,HST,INCY,LW,LNT,TECH,PODD,NI,MGM,KIM,AOS,VTRS,JKHY,EVRG,BEN,DVA,IPG,UHS,EMN,SJM,LKQ,TAP,JNPR,CRL,CPT,REG,KMX,APA,RL,BBWI,ALLE,WYNN,BXP,EPAM,SOLV,CHRW,HII,FFIV,MOS,CTLT,PAYC,TFX,TPR,QRVO,HSIC,AAL,GNRC,DAY,AIZ,PNW,HAS,PARA,MKTX,FRT,BIO,BWA,MTCH,FMC,GL,MHK,CZR,ETSY,IVZ,RHI,NCLH,CMA\n",
      "https://data.alpaca.markets/v1beta1/news 50\n",
      "https://data.alpaca.markets/v1beta1/news 50\n",
      "https://data.alpaca.markets/v1beta1/news 50\n",
      "https://data.alpaca.markets/v1beta1/news 50\n",
      "https://data.alpaca.markets/v1beta1/news 50\n",
      "https://data.alpaca.markets/v1beta1/news 50\n",
      "https://data.alpaca.markets/v1beta1/news 50\n",
      "https://data.alpaca.markets/v1beta1/news 50\n",
      "https://data.alpaca.markets/v1beta1/news 50\n",
      "https://data.alpaca.markets/v1beta1/news 50\n"
     ]
    },
    {
     "name": "stderr",
     "output_type": "stream",
     "text": [
      " 14%|█▍        | 21/150 [01:25<09:02,  4.21s/it]"
     ]
    },
    {
     "name": "stdout",
     "output_type": "stream",
     "text": [
      "https://data.alpaca.markets/v1beta1/news 21\n",
      "error2\n",
      "Number of news articles: 521\n",
      "Fetching news for date: 2016-04-20\n",
      "start and end news collection 2016-04-13 2016-04-19\n",
      "length of ticker list 503\n",
      "MSFT,AAPL,NVDA,GOOG,GOOGL,AMZN,META,BRK-B,LLY,AVGO,JPM,TSLA,V,WMT,XOM,UNH,MA,PG,COST,JNJ,ORCL,MRK,HD,BAC,CVX,NFLX,ABBV,AMD,KO,CRM,PEP,QCOM,TMO,ADBE,WFC,LIN,DHR,TMUS,ACN,CSCO,MCD,DIS,GE,AMAT,TXN,ABT,AXP,CAT,INTU,VZ,AMGN,PFE,MS,NEE,IBM,PM,NOW,CMCSA,BX,GS,ISRG,MU,UNP,RTX,NKE,COP,SPGI,ETN,UBER,SCHW,INTC,HON,BKNG,SYK,LRCX,T,LOW,C,ELV,PGR,UPS,VRTX,BLK,TJX,ADI,LMT,BSX,REGN,MDT,CB,BA,KLAC,DE,PANW,MMC,ADP,PLD,ANET,CI,ABNB,MDLZ,SNPS,SBUX,FI,AMT,CMG,SO,WM,BMY,HCA,GD,GILD,APH,CDNS,DUK,ICE,MO,ZTS,CME,SHW,CL,TT,TDG,MCO,FCX,MCK,EQIX,CEG,ITW,NXPI,EOG,CVS,CTAS,NOC,PH,MAR,TGT,ECL,BDX,SLB,CSX,EMR,PYPL,MRNA,USB,MPC,PNC,AON,FDX,MSI,PSX,WELL,CARR,RSG,APD,ROP,ORLY,PCAR,SPG,MNST,MMM,AJG,OXY,VLO,EW,MCHP,COF,CPRT,AIG,SMCI,MET,TFC,NSC,HLT,DXCM,GM,AFL,JCI,WMB,TRV,GEV,NEM,F,PCG,SRE,AZO,PSA,ROST,DHI,GWW,DLR,OKE,AEP,FTNT,HES,KDP,TEL,ADSK,STZ,O,URI,EL,PAYX,KMB,D,BK,A,AMP,COR,KHC,ALL,FIS,LEN,PRU,IDXX,CCI,LHX,KMI,HUM,IQV,PWR,NUE,DOW,AME,HSY,CNC,OTIS,CHTR,MSCI,CMI,ACGL,YUM,CTVA,GIS,KR,IR,RCL,LULU,FAST,ODFL,PEG,KVUE,EXC,MPWR,GEHC,SYY,EA,VRSK,NDAQ,MLM,VST,CSGP,XYL,HWM,FANG,VMC,FICO,IT,CTSH,DD,DAL,LVS,ED,BKR,LYB,HPQ,HAL,DG,BIIB,MTD,GRMN,EXR,RMD,ON,GLW,CDW,DFS,PPG,DVN,TSCO,ROK,HIG,WAB,ADM,XEL,EFX,FSLR,VICI,ANSS,EIX,AVB,EBAY,CBRE,FTV,DECK,TTWO,TROW,GPN,RJF,CHD,WTW,BRO,WEC,FITB,TRGP,DOV,VLTO,DLTR,KEYS,MTB,AWK,EQR,IFF,WDC,WST,PHM,ZBH,HPE,NTAP,BR,IRM,CAH,DTE,ETR,NVR,STT,STE,TER,APTV,FE,ROL,LYV,HUBB,WY,PTC,BF-B,AXON,BALL,TSN,PPL,INVH,STLD,TYL,BLDR,K,ARE,LDOS,WRB,ES,GPC,SBAC,CTRA,WAT,HBAN,CCL,STX,MOH,MKC,PFG,ALGN,HRL,VTR,CBOE,TDY,AEE,WBD,CNP,COO,CPAY,OMC,CINF,ULTA,CMS,AVY,NRG,EQT,DRI,J,DPZ,RF,SYF,BAX,ESS,HOLX,VRSN,NTRS,ENPH,EG,UAL,ATO,ILMN,TXT,LH,ZBRA,CE,EXPD,FDS,L,PKG,CLX,IEX,JBHT,CFG,LUV,MAA,IP,DGX,GEN,BBY,NWS,NWSA,MAS,FOX,FOXA,ALB,AES,SWKS,BG,UDR,EXPE,CAG,JBL,MRO,AMCR,AKAM,SNA,CF,WRK,RVTY,POOL,TRMB,WBA,PNR,KEY,NDSN,CPB,DOC,SWK,HST,INCY,LW,LNT,TECH,PODD,NI,MGM,KIM,AOS,VTRS,JKHY,EVRG,BEN,DVA,IPG,UHS,EMN,SJM,LKQ,TAP,JNPR,CRL,CPT,REG,KMX,APA,RL,BBWI,ALLE,WYNN,BXP,EPAM,SOLV,CHRW,HII,FFIV,MOS,CTLT,PAYC,TFX,TPR,QRVO,HSIC,AAL,GNRC,DAY,AIZ,PNW,HAS,PARA,MKTX,FRT,BIO,BWA,MTCH,FMC,GL,MHK,CZR,ETSY,IVZ,RHI,NCLH,CMA\n",
      "https://data.alpaca.markets/v1beta1/news 50\n",
      "https://data.alpaca.markets/v1beta1/news 50\n",
      "https://data.alpaca.markets/v1beta1/news 50\n",
      "https://data.alpaca.markets/v1beta1/news 50\n",
      "https://data.alpaca.markets/v1beta1/news 50\n",
      "https://data.alpaca.markets/v1beta1/news 50\n",
      "https://data.alpaca.markets/v1beta1/news 50\n",
      "https://data.alpaca.markets/v1beta1/news 50\n",
      "https://data.alpaca.markets/v1beta1/news 50\n",
      "https://data.alpaca.markets/v1beta1/news 50\n",
      "https://data.alpaca.markets/v1beta1/news 50\n",
      "https://data.alpaca.markets/v1beta1/news 50\n"
     ]
    },
    {
     "name": "stderr",
     "output_type": "stream",
     "text": [
      " 15%|█▍        | 22/150 [01:30<08:59,  4.21s/it]"
     ]
    },
    {
     "name": "stdout",
     "output_type": "stream",
     "text": [
      "https://data.alpaca.markets/v1beta1/news 23\n",
      "error2\n",
      "Number of news articles: 623\n",
      "Fetching news for date: 2016-05-24\n",
      "start and end news collection 2016-05-17 2016-05-23\n",
      "length of ticker list 503\n",
      "MSFT,AAPL,NVDA,GOOG,GOOGL,AMZN,META,BRK-B,LLY,AVGO,JPM,TSLA,V,WMT,XOM,UNH,MA,PG,COST,JNJ,ORCL,MRK,HD,BAC,CVX,NFLX,ABBV,AMD,KO,CRM,PEP,QCOM,TMO,ADBE,WFC,LIN,DHR,TMUS,ACN,CSCO,MCD,DIS,GE,AMAT,TXN,ABT,AXP,CAT,INTU,VZ,AMGN,PFE,MS,NEE,IBM,PM,NOW,CMCSA,BX,GS,ISRG,MU,UNP,RTX,NKE,COP,SPGI,ETN,UBER,SCHW,INTC,HON,BKNG,SYK,LRCX,T,LOW,C,ELV,PGR,UPS,VRTX,BLK,TJX,ADI,LMT,BSX,REGN,MDT,CB,BA,KLAC,DE,PANW,MMC,ADP,PLD,ANET,CI,ABNB,MDLZ,SNPS,SBUX,FI,AMT,CMG,SO,WM,BMY,HCA,GD,GILD,APH,CDNS,DUK,ICE,MO,ZTS,CME,SHW,CL,TT,TDG,MCO,FCX,MCK,EQIX,CEG,ITW,NXPI,EOG,CVS,CTAS,NOC,PH,MAR,TGT,ECL,BDX,SLB,CSX,EMR,PYPL,MRNA,USB,MPC,PNC,AON,FDX,MSI,PSX,WELL,CARR,RSG,APD,ROP,ORLY,PCAR,SPG,MNST,MMM,AJG,OXY,VLO,EW,MCHP,COF,CPRT,AIG,SMCI,MET,TFC,NSC,HLT,DXCM,GM,AFL,JCI,WMB,TRV,GEV,NEM,F,PCG,SRE,AZO,PSA,ROST,DHI,GWW,DLR,OKE,AEP,FTNT,HES,KDP,TEL,ADSK,STZ,O,URI,EL,PAYX,KMB,D,BK,A,AMP,COR,KHC,ALL,FIS,LEN,PRU,IDXX,CCI,LHX,KMI,HUM,IQV,PWR,NUE,DOW,AME,HSY,CNC,OTIS,CHTR,MSCI,CMI,ACGL,YUM,CTVA,GIS,KR,IR,RCL,LULU,FAST,ODFL,PEG,KVUE,EXC,MPWR,GEHC,SYY,EA,VRSK,NDAQ,MLM,VST,CSGP,XYL,HWM,FANG,VMC,FICO,IT,CTSH,DD,DAL,LVS,ED,BKR,LYB,HPQ,HAL,DG,BIIB,MTD,GRMN,EXR,RMD,ON,GLW,CDW,DFS,PPG,DVN,TSCO,ROK,HIG,WAB,ADM,XEL,EFX,FSLR,VICI,ANSS,EIX,AVB,EBAY,CBRE,FTV,DECK,TTWO,TROW,GPN,RJF,CHD,WTW,BRO,WEC,FITB,TRGP,DOV,VLTO,DLTR,KEYS,MTB,AWK,EQR,IFF,WDC,WST,PHM,ZBH,HPE,NTAP,BR,IRM,CAH,DTE,ETR,NVR,STT,STE,TER,APTV,FE,ROL,LYV,HUBB,WY,PTC,BF-B,AXON,BALL,TSN,PPL,INVH,STLD,TYL,BLDR,K,ARE,LDOS,WRB,ES,GPC,SBAC,CTRA,WAT,HBAN,CCL,STX,MOH,MKC,PFG,ALGN,HRL,VTR,CBOE,TDY,AEE,WBD,CNP,COO,CPAY,OMC,CINF,ULTA,CMS,AVY,NRG,EQT,DRI,J,DPZ,RF,SYF,BAX,ESS,HOLX,VRSN,NTRS,ENPH,EG,UAL,ATO,ILMN,TXT,LH,ZBRA,CE,EXPD,FDS,L,PKG,CLX,IEX,JBHT,CFG,LUV,MAA,IP,DGX,GEN,BBY,NWS,NWSA,MAS,FOX,FOXA,ALB,AES,SWKS,BG,UDR,EXPE,CAG,JBL,MRO,AMCR,AKAM,SNA,CF,WRK,RVTY,POOL,TRMB,WBA,PNR,KEY,NDSN,CPB,DOC,SWK,HST,INCY,LW,LNT,TECH,PODD,NI,MGM,KIM,AOS,VTRS,JKHY,EVRG,BEN,DVA,IPG,UHS,EMN,SJM,LKQ,TAP,JNPR,CRL,CPT,REG,KMX,APA,RL,BBWI,ALLE,WYNN,BXP,EPAM,SOLV,CHRW,HII,FFIV,MOS,CTLT,PAYC,TFX,TPR,QRVO,HSIC,AAL,GNRC,DAY,AIZ,PNW,HAS,PARA,MKTX,FRT,BIO,BWA,MTCH,FMC,GL,MHK,CZR,ETSY,IVZ,RHI,NCLH,CMA\n",
      "https://data.alpaca.markets/v1beta1/news 50\n",
      "https://data.alpaca.markets/v1beta1/news 50\n",
      "https://data.alpaca.markets/v1beta1/news 50\n",
      "https://data.alpaca.markets/v1beta1/news 50\n",
      "https://data.alpaca.markets/v1beta1/news 50\n",
      "https://data.alpaca.markets/v1beta1/news 50\n",
      "https://data.alpaca.markets/v1beta1/news 50\n",
      "https://data.alpaca.markets/v1beta1/news 50\n",
      "https://data.alpaca.markets/v1beta1/news 50\n",
      "https://data.alpaca.markets/v1beta1/news 50\n",
      "https://data.alpaca.markets/v1beta1/news 50\n"
     ]
    },
    {
     "name": "stderr",
     "output_type": "stream",
     "text": [
      " 15%|█▌        | 23/150 [01:33<08:41,  4.11s/it]"
     ]
    },
    {
     "name": "stdout",
     "output_type": "stream",
     "text": [
      "https://data.alpaca.markets/v1beta1/news 36\n",
      "error2\n",
      "Number of news articles: 586\n",
      "Fetching news for date: 2016-06-02\n",
      "start and end news collection 2016-05-26 2016-06-01\n",
      "length of ticker list 503\n",
      "MSFT,AAPL,NVDA,GOOG,GOOGL,AMZN,META,BRK-B,LLY,AVGO,JPM,TSLA,V,WMT,XOM,UNH,MA,PG,COST,JNJ,ORCL,MRK,HD,BAC,CVX,NFLX,ABBV,AMD,KO,CRM,PEP,QCOM,TMO,ADBE,WFC,LIN,DHR,TMUS,ACN,CSCO,MCD,DIS,GE,AMAT,TXN,ABT,AXP,CAT,INTU,VZ,AMGN,PFE,MS,NEE,IBM,PM,NOW,CMCSA,BX,GS,ISRG,MU,UNP,RTX,NKE,COP,SPGI,ETN,UBER,SCHW,INTC,HON,BKNG,SYK,LRCX,T,LOW,C,ELV,PGR,UPS,VRTX,BLK,TJX,ADI,LMT,BSX,REGN,MDT,CB,BA,KLAC,DE,PANW,MMC,ADP,PLD,ANET,CI,ABNB,MDLZ,SNPS,SBUX,FI,AMT,CMG,SO,WM,BMY,HCA,GD,GILD,APH,CDNS,DUK,ICE,MO,ZTS,CME,SHW,CL,TT,TDG,MCO,FCX,MCK,EQIX,CEG,ITW,NXPI,EOG,CVS,CTAS,NOC,PH,MAR,TGT,ECL,BDX,SLB,CSX,EMR,PYPL,MRNA,USB,MPC,PNC,AON,FDX,MSI,PSX,WELL,CARR,RSG,APD,ROP,ORLY,PCAR,SPG,MNST,MMM,AJG,OXY,VLO,EW,MCHP,COF,CPRT,AIG,SMCI,MET,TFC,NSC,HLT,DXCM,GM,AFL,JCI,WMB,TRV,GEV,NEM,F,PCG,SRE,AZO,PSA,ROST,DHI,GWW,DLR,OKE,AEP,FTNT,HES,KDP,TEL,ADSK,STZ,O,URI,EL,PAYX,KMB,D,BK,A,AMP,COR,KHC,ALL,FIS,LEN,PRU,IDXX,CCI,LHX,KMI,HUM,IQV,PWR,NUE,DOW,AME,HSY,CNC,OTIS,CHTR,MSCI,CMI,ACGL,YUM,CTVA,GIS,KR,IR,RCL,LULU,FAST,ODFL,PEG,KVUE,EXC,MPWR,GEHC,SYY,EA,VRSK,NDAQ,MLM,VST,CSGP,XYL,HWM,FANG,VMC,FICO,IT,CTSH,DD,DAL,LVS,ED,BKR,LYB,HPQ,HAL,DG,BIIB,MTD,GRMN,EXR,RMD,ON,GLW,CDW,DFS,PPG,DVN,TSCO,ROK,HIG,WAB,ADM,XEL,EFX,FSLR,VICI,ANSS,EIX,AVB,EBAY,CBRE,FTV,DECK,TTWO,TROW,GPN,RJF,CHD,WTW,BRO,WEC,FITB,TRGP,DOV,VLTO,DLTR,KEYS,MTB,AWK,EQR,IFF,WDC,WST,PHM,ZBH,HPE,NTAP,BR,IRM,CAH,DTE,ETR,NVR,STT,STE,TER,APTV,FE,ROL,LYV,HUBB,WY,PTC,BF-B,AXON,BALL,TSN,PPL,INVH,STLD,TYL,BLDR,K,ARE,LDOS,WRB,ES,GPC,SBAC,CTRA,WAT,HBAN,CCL,STX,MOH,MKC,PFG,ALGN,HRL,VTR,CBOE,TDY,AEE,WBD,CNP,COO,CPAY,OMC,CINF,ULTA,CMS,AVY,NRG,EQT,DRI,J,DPZ,RF,SYF,BAX,ESS,HOLX,VRSN,NTRS,ENPH,EG,UAL,ATO,ILMN,TXT,LH,ZBRA,CE,EXPD,FDS,L,PKG,CLX,IEX,JBHT,CFG,LUV,MAA,IP,DGX,GEN,BBY,NWS,NWSA,MAS,FOX,FOXA,ALB,AES,SWKS,BG,UDR,EXPE,CAG,JBL,MRO,AMCR,AKAM,SNA,CF,WRK,RVTY,POOL,TRMB,WBA,PNR,KEY,NDSN,CPB,DOC,SWK,HST,INCY,LW,LNT,TECH,PODD,NI,MGM,KIM,AOS,VTRS,JKHY,EVRG,BEN,DVA,IPG,UHS,EMN,SJM,LKQ,TAP,JNPR,CRL,CPT,REG,KMX,APA,RL,BBWI,ALLE,WYNN,BXP,EPAM,SOLV,CHRW,HII,FFIV,MOS,CTLT,PAYC,TFX,TPR,QRVO,HSIC,AAL,GNRC,DAY,AIZ,PNW,HAS,PARA,MKTX,FRT,BIO,BWA,MTCH,FMC,GL,MHK,CZR,ETSY,IVZ,RHI,NCLH,CMA\n",
      "https://data.alpaca.markets/v1beta1/news 50\n",
      "https://data.alpaca.markets/v1beta1/news 50\n",
      "https://data.alpaca.markets/v1beta1/news 50\n",
      "https://data.alpaca.markets/v1beta1/news 50\n",
      "https://data.alpaca.markets/v1beta1/news 50\n",
      "https://data.alpaca.markets/v1beta1/news 50\n"
     ]
    },
    {
     "name": "stderr",
     "output_type": "stream",
     "text": [
      " 16%|█▌        | 24/150 [01:36<07:25,  3.53s/it]"
     ]
    },
    {
     "name": "stdout",
     "output_type": "stream",
     "text": [
      "https://data.alpaca.markets/v1beta1/news 34\n",
      "error2\n",
      "Number of news articles: 334\n",
      "Fetching news for date: 2016-06-24\n",
      "start and end news collection 2016-06-17 2016-06-23\n",
      "length of ticker list 503\n",
      "MSFT,AAPL,NVDA,GOOG,GOOGL,AMZN,META,BRK-B,LLY,AVGO,JPM,TSLA,V,WMT,XOM,UNH,MA,PG,COST,JNJ,ORCL,MRK,HD,BAC,CVX,NFLX,ABBV,AMD,KO,CRM,PEP,QCOM,TMO,ADBE,WFC,LIN,DHR,TMUS,ACN,CSCO,MCD,DIS,GE,AMAT,TXN,ABT,AXP,CAT,INTU,VZ,AMGN,PFE,MS,NEE,IBM,PM,NOW,CMCSA,BX,GS,ISRG,MU,UNP,RTX,NKE,COP,SPGI,ETN,UBER,SCHW,INTC,HON,BKNG,SYK,LRCX,T,LOW,C,ELV,PGR,UPS,VRTX,BLK,TJX,ADI,LMT,BSX,REGN,MDT,CB,BA,KLAC,DE,PANW,MMC,ADP,PLD,ANET,CI,ABNB,MDLZ,SNPS,SBUX,FI,AMT,CMG,SO,WM,BMY,HCA,GD,GILD,APH,CDNS,DUK,ICE,MO,ZTS,CME,SHW,CL,TT,TDG,MCO,FCX,MCK,EQIX,CEG,ITW,NXPI,EOG,CVS,CTAS,NOC,PH,MAR,TGT,ECL,BDX,SLB,CSX,EMR,PYPL,MRNA,USB,MPC,PNC,AON,FDX,MSI,PSX,WELL,CARR,RSG,APD,ROP,ORLY,PCAR,SPG,MNST,MMM,AJG,OXY,VLO,EW,MCHP,COF,CPRT,AIG,SMCI,MET,TFC,NSC,HLT,DXCM,GM,AFL,JCI,WMB,TRV,GEV,NEM,F,PCG,SRE,AZO,PSA,ROST,DHI,GWW,DLR,OKE,AEP,FTNT,HES,KDP,TEL,ADSK,STZ,O,URI,EL,PAYX,KMB,D,BK,A,AMP,COR,KHC,ALL,FIS,LEN,PRU,IDXX,CCI,LHX,KMI,HUM,IQV,PWR,NUE,DOW,AME,HSY,CNC,OTIS,CHTR,MSCI,CMI,ACGL,YUM,CTVA,GIS,KR,IR,RCL,LULU,FAST,ODFL,PEG,KVUE,EXC,MPWR,GEHC,SYY,EA,VRSK,NDAQ,MLM,VST,CSGP,XYL,HWM,FANG,VMC,FICO,IT,CTSH,DD,DAL,LVS,ED,BKR,LYB,HPQ,HAL,DG,BIIB,MTD,GRMN,EXR,RMD,ON,GLW,CDW,DFS,PPG,DVN,TSCO,ROK,HIG,WAB,ADM,XEL,EFX,FSLR,VICI,ANSS,EIX,AVB,EBAY,CBRE,FTV,DECK,TTWO,TROW,GPN,RJF,CHD,WTW,BRO,WEC,FITB,TRGP,DOV,VLTO,DLTR,KEYS,MTB,AWK,EQR,IFF,WDC,WST,PHM,ZBH,HPE,NTAP,BR,IRM,CAH,DTE,ETR,NVR,STT,STE,TER,APTV,FE,ROL,LYV,HUBB,WY,PTC,BF-B,AXON,BALL,TSN,PPL,INVH,STLD,TYL,BLDR,K,ARE,LDOS,WRB,ES,GPC,SBAC,CTRA,WAT,HBAN,CCL,STX,MOH,MKC,PFG,ALGN,HRL,VTR,CBOE,TDY,AEE,WBD,CNP,COO,CPAY,OMC,CINF,ULTA,CMS,AVY,NRG,EQT,DRI,J,DPZ,RF,SYF,BAX,ESS,HOLX,VRSN,NTRS,ENPH,EG,UAL,ATO,ILMN,TXT,LH,ZBRA,CE,EXPD,FDS,L,PKG,CLX,IEX,JBHT,CFG,LUV,MAA,IP,DGX,GEN,BBY,NWS,NWSA,MAS,FOX,FOXA,ALB,AES,SWKS,BG,UDR,EXPE,CAG,JBL,MRO,AMCR,AKAM,SNA,CF,WRK,RVTY,POOL,TRMB,WBA,PNR,KEY,NDSN,CPB,DOC,SWK,HST,INCY,LW,LNT,TECH,PODD,NI,MGM,KIM,AOS,VTRS,JKHY,EVRG,BEN,DVA,IPG,UHS,EMN,SJM,LKQ,TAP,JNPR,CRL,CPT,REG,KMX,APA,RL,BBWI,ALLE,WYNN,BXP,EPAM,SOLV,CHRW,HII,FFIV,MOS,CTLT,PAYC,TFX,TPR,QRVO,HSIC,AAL,GNRC,DAY,AIZ,PNW,HAS,PARA,MKTX,FRT,BIO,BWA,MTCH,FMC,GL,MHK,CZR,ETSY,IVZ,RHI,NCLH,CMA\n",
      "https://data.alpaca.markets/v1beta1/news 50\n",
      "https://data.alpaca.markets/v1beta1/news 50\n",
      "https://data.alpaca.markets/v1beta1/news 50\n",
      "https://data.alpaca.markets/v1beta1/news 50\n",
      "https://data.alpaca.markets/v1beta1/news 50\n",
      "https://data.alpaca.markets/v1beta1/news 50\n",
      "https://data.alpaca.markets/v1beta1/news 50\n",
      "https://data.alpaca.markets/v1beta1/news 50\n",
      "https://data.alpaca.markets/v1beta1/news 50\n",
      "https://data.alpaca.markets/v1beta1/news 50\n",
      "https://data.alpaca.markets/v1beta1/news 50\n",
      "https://data.alpaca.markets/v1beta1/news 50\n"
     ]
    },
    {
     "name": "stderr",
     "output_type": "stream",
     "text": [
      " 17%|█▋        | 25/150 [01:40<08:05,  3.88s/it]"
     ]
    },
    {
     "name": "stdout",
     "output_type": "stream",
     "text": [
      "https://data.alpaca.markets/v1beta1/news 3\n",
      "error2\n",
      "Number of news articles: 603\n",
      "Fetching news for date: 2016-07-06\n",
      "start and end news collection 2016-06-29 2016-07-05\n",
      "length of ticker list 503\n",
      "MSFT,AAPL,NVDA,GOOG,GOOGL,AMZN,META,BRK-B,LLY,AVGO,JPM,TSLA,V,WMT,XOM,UNH,MA,PG,COST,JNJ,ORCL,MRK,HD,BAC,CVX,NFLX,ABBV,AMD,KO,CRM,PEP,QCOM,TMO,ADBE,WFC,LIN,DHR,TMUS,ACN,CSCO,MCD,DIS,GE,AMAT,TXN,ABT,AXP,CAT,INTU,VZ,AMGN,PFE,MS,NEE,IBM,PM,NOW,CMCSA,BX,GS,ISRG,MU,UNP,RTX,NKE,COP,SPGI,ETN,UBER,SCHW,INTC,HON,BKNG,SYK,LRCX,T,LOW,C,ELV,PGR,UPS,VRTX,BLK,TJX,ADI,LMT,BSX,REGN,MDT,CB,BA,KLAC,DE,PANW,MMC,ADP,PLD,ANET,CI,ABNB,MDLZ,SNPS,SBUX,FI,AMT,CMG,SO,WM,BMY,HCA,GD,GILD,APH,CDNS,DUK,ICE,MO,ZTS,CME,SHW,CL,TT,TDG,MCO,FCX,MCK,EQIX,CEG,ITW,NXPI,EOG,CVS,CTAS,NOC,PH,MAR,TGT,ECL,BDX,SLB,CSX,EMR,PYPL,MRNA,USB,MPC,PNC,AON,FDX,MSI,PSX,WELL,CARR,RSG,APD,ROP,ORLY,PCAR,SPG,MNST,MMM,AJG,OXY,VLO,EW,MCHP,COF,CPRT,AIG,SMCI,MET,TFC,NSC,HLT,DXCM,GM,AFL,JCI,WMB,TRV,GEV,NEM,F,PCG,SRE,AZO,PSA,ROST,DHI,GWW,DLR,OKE,AEP,FTNT,HES,KDP,TEL,ADSK,STZ,O,URI,EL,PAYX,KMB,D,BK,A,AMP,COR,KHC,ALL,FIS,LEN,PRU,IDXX,CCI,LHX,KMI,HUM,IQV,PWR,NUE,DOW,AME,HSY,CNC,OTIS,CHTR,MSCI,CMI,ACGL,YUM,CTVA,GIS,KR,IR,RCL,LULU,FAST,ODFL,PEG,KVUE,EXC,MPWR,GEHC,SYY,EA,VRSK,NDAQ,MLM,VST,CSGP,XYL,HWM,FANG,VMC,FICO,IT,CTSH,DD,DAL,LVS,ED,BKR,LYB,HPQ,HAL,DG,BIIB,MTD,GRMN,EXR,RMD,ON,GLW,CDW,DFS,PPG,DVN,TSCO,ROK,HIG,WAB,ADM,XEL,EFX,FSLR,VICI,ANSS,EIX,AVB,EBAY,CBRE,FTV,DECK,TTWO,TROW,GPN,RJF,CHD,WTW,BRO,WEC,FITB,TRGP,DOV,VLTO,DLTR,KEYS,MTB,AWK,EQR,IFF,WDC,WST,PHM,ZBH,HPE,NTAP,BR,IRM,CAH,DTE,ETR,NVR,STT,STE,TER,APTV,FE,ROL,LYV,HUBB,WY,PTC,BF-B,AXON,BALL,TSN,PPL,INVH,STLD,TYL,BLDR,K,ARE,LDOS,WRB,ES,GPC,SBAC,CTRA,WAT,HBAN,CCL,STX,MOH,MKC,PFG,ALGN,HRL,VTR,CBOE,TDY,AEE,WBD,CNP,COO,CPAY,OMC,CINF,ULTA,CMS,AVY,NRG,EQT,DRI,J,DPZ,RF,SYF,BAX,ESS,HOLX,VRSN,NTRS,ENPH,EG,UAL,ATO,ILMN,TXT,LH,ZBRA,CE,EXPD,FDS,L,PKG,CLX,IEX,JBHT,CFG,LUV,MAA,IP,DGX,GEN,BBY,NWS,NWSA,MAS,FOX,FOXA,ALB,AES,SWKS,BG,UDR,EXPE,CAG,JBL,MRO,AMCR,AKAM,SNA,CF,WRK,RVTY,POOL,TRMB,WBA,PNR,KEY,NDSN,CPB,DOC,SWK,HST,INCY,LW,LNT,TECH,PODD,NI,MGM,KIM,AOS,VTRS,JKHY,EVRG,BEN,DVA,IPG,UHS,EMN,SJM,LKQ,TAP,JNPR,CRL,CPT,REG,KMX,APA,RL,BBWI,ALLE,WYNN,BXP,EPAM,SOLV,CHRW,HII,FFIV,MOS,CTLT,PAYC,TFX,TPR,QRVO,HSIC,AAL,GNRC,DAY,AIZ,PNW,HAS,PARA,MKTX,FRT,BIO,BWA,MTCH,FMC,GL,MHK,CZR,ETSY,IVZ,RHI,NCLH,CMA\n",
      "https://data.alpaca.markets/v1beta1/news 50\n",
      "https://data.alpaca.markets/v1beta1/news 50\n",
      "https://data.alpaca.markets/v1beta1/news 50\n",
      "https://data.alpaca.markets/v1beta1/news 50\n",
      "https://data.alpaca.markets/v1beta1/news 50\n",
      "https://data.alpaca.markets/v1beta1/news 50\n",
      "https://data.alpaca.markets/v1beta1/news 50\n",
      "https://data.alpaca.markets/v1beta1/news 50\n",
      "https://data.alpaca.markets/v1beta1/news 50\n",
      "https://data.alpaca.markets/v1beta1/news 50\n"
     ]
    },
    {
     "name": "stderr",
     "output_type": "stream",
     "text": [
      " 17%|█▋        | 26/150 [01:45<08:35,  4.16s/it]"
     ]
    },
    {
     "name": "stdout",
     "output_type": "stream",
     "text": [
      "https://data.alpaca.markets/v1beta1/news 34\n",
      "error2\n",
      "Number of news articles: 534\n",
      "Fetching news for date: 2016-07-12\n",
      "start and end news collection 2016-07-05 2016-07-11\n",
      "length of ticker list 503\n",
      "MSFT,AAPL,NVDA,GOOG,GOOGL,AMZN,META,BRK-B,LLY,AVGO,JPM,TSLA,V,WMT,XOM,UNH,MA,PG,COST,JNJ,ORCL,MRK,HD,BAC,CVX,NFLX,ABBV,AMD,KO,CRM,PEP,QCOM,TMO,ADBE,WFC,LIN,DHR,TMUS,ACN,CSCO,MCD,DIS,GE,AMAT,TXN,ABT,AXP,CAT,INTU,VZ,AMGN,PFE,MS,NEE,IBM,PM,NOW,CMCSA,BX,GS,ISRG,MU,UNP,RTX,NKE,COP,SPGI,ETN,UBER,SCHW,INTC,HON,BKNG,SYK,LRCX,T,LOW,C,ELV,PGR,UPS,VRTX,BLK,TJX,ADI,LMT,BSX,REGN,MDT,CB,BA,KLAC,DE,PANW,MMC,ADP,PLD,ANET,CI,ABNB,MDLZ,SNPS,SBUX,FI,AMT,CMG,SO,WM,BMY,HCA,GD,GILD,APH,CDNS,DUK,ICE,MO,ZTS,CME,SHW,CL,TT,TDG,MCO,FCX,MCK,EQIX,CEG,ITW,NXPI,EOG,CVS,CTAS,NOC,PH,MAR,TGT,ECL,BDX,SLB,CSX,EMR,PYPL,MRNA,USB,MPC,PNC,AON,FDX,MSI,PSX,WELL,CARR,RSG,APD,ROP,ORLY,PCAR,SPG,MNST,MMM,AJG,OXY,VLO,EW,MCHP,COF,CPRT,AIG,SMCI,MET,TFC,NSC,HLT,DXCM,GM,AFL,JCI,WMB,TRV,GEV,NEM,F,PCG,SRE,AZO,PSA,ROST,DHI,GWW,DLR,OKE,AEP,FTNT,HES,KDP,TEL,ADSK,STZ,O,URI,EL,PAYX,KMB,D,BK,A,AMP,COR,KHC,ALL,FIS,LEN,PRU,IDXX,CCI,LHX,KMI,HUM,IQV,PWR,NUE,DOW,AME,HSY,CNC,OTIS,CHTR,MSCI,CMI,ACGL,YUM,CTVA,GIS,KR,IR,RCL,LULU,FAST,ODFL,PEG,KVUE,EXC,MPWR,GEHC,SYY,EA,VRSK,NDAQ,MLM,VST,CSGP,XYL,HWM,FANG,VMC,FICO,IT,CTSH,DD,DAL,LVS,ED,BKR,LYB,HPQ,HAL,DG,BIIB,MTD,GRMN,EXR,RMD,ON,GLW,CDW,DFS,PPG,DVN,TSCO,ROK,HIG,WAB,ADM,XEL,EFX,FSLR,VICI,ANSS,EIX,AVB,EBAY,CBRE,FTV,DECK,TTWO,TROW,GPN,RJF,CHD,WTW,BRO,WEC,FITB,TRGP,DOV,VLTO,DLTR,KEYS,MTB,AWK,EQR,IFF,WDC,WST,PHM,ZBH,HPE,NTAP,BR,IRM,CAH,DTE,ETR,NVR,STT,STE,TER,APTV,FE,ROL,LYV,HUBB,WY,PTC,BF-B,AXON,BALL,TSN,PPL,INVH,STLD,TYL,BLDR,K,ARE,LDOS,WRB,ES,GPC,SBAC,CTRA,WAT,HBAN,CCL,STX,MOH,MKC,PFG,ALGN,HRL,VTR,CBOE,TDY,AEE,WBD,CNP,COO,CPAY,OMC,CINF,ULTA,CMS,AVY,NRG,EQT,DRI,J,DPZ,RF,SYF,BAX,ESS,HOLX,VRSN,NTRS,ENPH,EG,UAL,ATO,ILMN,TXT,LH,ZBRA,CE,EXPD,FDS,L,PKG,CLX,IEX,JBHT,CFG,LUV,MAA,IP,DGX,GEN,BBY,NWS,NWSA,MAS,FOX,FOXA,ALB,AES,SWKS,BG,UDR,EXPE,CAG,JBL,MRO,AMCR,AKAM,SNA,CF,WRK,RVTY,POOL,TRMB,WBA,PNR,KEY,NDSN,CPB,DOC,SWK,HST,INCY,LW,LNT,TECH,PODD,NI,MGM,KIM,AOS,VTRS,JKHY,EVRG,BEN,DVA,IPG,UHS,EMN,SJM,LKQ,TAP,JNPR,CRL,CPT,REG,KMX,APA,RL,BBWI,ALLE,WYNN,BXP,EPAM,SOLV,CHRW,HII,FFIV,MOS,CTLT,PAYC,TFX,TPR,QRVO,HSIC,AAL,GNRC,DAY,AIZ,PNW,HAS,PARA,MKTX,FRT,BIO,BWA,MTCH,FMC,GL,MHK,CZR,ETSY,IVZ,RHI,NCLH,CMA\n",
      "https://data.alpaca.markets/v1beta1/news 50\n",
      "https://data.alpaca.markets/v1beta1/news 50\n",
      "https://data.alpaca.markets/v1beta1/news 50\n",
      "https://data.alpaca.markets/v1beta1/news 50\n",
      "https://data.alpaca.markets/v1beta1/news 50\n",
      "https://data.alpaca.markets/v1beta1/news 50\n",
      "https://data.alpaca.markets/v1beta1/news 50\n",
      "https://data.alpaca.markets/v1beta1/news 50\n",
      "https://data.alpaca.markets/v1beta1/news 50\n",
      "https://data.alpaca.markets/v1beta1/news 50\n"
     ]
    },
    {
     "name": "stderr",
     "output_type": "stream",
     "text": [
      " 18%|█▊        | 27/150 [01:49<08:06,  3.95s/it]"
     ]
    },
    {
     "name": "stdout",
     "output_type": "stream",
     "text": [
      "https://data.alpaca.markets/v1beta1/news 23\n",
      "error2\n",
      "Number of news articles: 523\n",
      "Fetching news for date: 2016-07-29\n",
      "start and end news collection 2016-07-22 2016-07-28\n",
      "length of ticker list 503\n",
      "MSFT,AAPL,NVDA,GOOG,GOOGL,AMZN,META,BRK-B,LLY,AVGO,JPM,TSLA,V,WMT,XOM,UNH,MA,PG,COST,JNJ,ORCL,MRK,HD,BAC,CVX,NFLX,ABBV,AMD,KO,CRM,PEP,QCOM,TMO,ADBE,WFC,LIN,DHR,TMUS,ACN,CSCO,MCD,DIS,GE,AMAT,TXN,ABT,AXP,CAT,INTU,VZ,AMGN,PFE,MS,NEE,IBM,PM,NOW,CMCSA,BX,GS,ISRG,MU,UNP,RTX,NKE,COP,SPGI,ETN,UBER,SCHW,INTC,HON,BKNG,SYK,LRCX,T,LOW,C,ELV,PGR,UPS,VRTX,BLK,TJX,ADI,LMT,BSX,REGN,MDT,CB,BA,KLAC,DE,PANW,MMC,ADP,PLD,ANET,CI,ABNB,MDLZ,SNPS,SBUX,FI,AMT,CMG,SO,WM,BMY,HCA,GD,GILD,APH,CDNS,DUK,ICE,MO,ZTS,CME,SHW,CL,TT,TDG,MCO,FCX,MCK,EQIX,CEG,ITW,NXPI,EOG,CVS,CTAS,NOC,PH,MAR,TGT,ECL,BDX,SLB,CSX,EMR,PYPL,MRNA,USB,MPC,PNC,AON,FDX,MSI,PSX,WELL,CARR,RSG,APD,ROP,ORLY,PCAR,SPG,MNST,MMM,AJG,OXY,VLO,EW,MCHP,COF,CPRT,AIG,SMCI,MET,TFC,NSC,HLT,DXCM,GM,AFL,JCI,WMB,TRV,GEV,NEM,F,PCG,SRE,AZO,PSA,ROST,DHI,GWW,DLR,OKE,AEP,FTNT,HES,KDP,TEL,ADSK,STZ,O,URI,EL,PAYX,KMB,D,BK,A,AMP,COR,KHC,ALL,FIS,LEN,PRU,IDXX,CCI,LHX,KMI,HUM,IQV,PWR,NUE,DOW,AME,HSY,CNC,OTIS,CHTR,MSCI,CMI,ACGL,YUM,CTVA,GIS,KR,IR,RCL,LULU,FAST,ODFL,PEG,KVUE,EXC,MPWR,GEHC,SYY,EA,VRSK,NDAQ,MLM,VST,CSGP,XYL,HWM,FANG,VMC,FICO,IT,CTSH,DD,DAL,LVS,ED,BKR,LYB,HPQ,HAL,DG,BIIB,MTD,GRMN,EXR,RMD,ON,GLW,CDW,DFS,PPG,DVN,TSCO,ROK,HIG,WAB,ADM,XEL,EFX,FSLR,VICI,ANSS,EIX,AVB,EBAY,CBRE,FTV,DECK,TTWO,TROW,GPN,RJF,CHD,WTW,BRO,WEC,FITB,TRGP,DOV,VLTO,DLTR,KEYS,MTB,AWK,EQR,IFF,WDC,WST,PHM,ZBH,HPE,NTAP,BR,IRM,CAH,DTE,ETR,NVR,STT,STE,TER,APTV,FE,ROL,LYV,HUBB,WY,PTC,BF-B,AXON,BALL,TSN,PPL,INVH,STLD,TYL,BLDR,K,ARE,LDOS,WRB,ES,GPC,SBAC,CTRA,WAT,HBAN,CCL,STX,MOH,MKC,PFG,ALGN,HRL,VTR,CBOE,TDY,AEE,WBD,CNP,COO,CPAY,OMC,CINF,ULTA,CMS,AVY,NRG,EQT,DRI,J,DPZ,RF,SYF,BAX,ESS,HOLX,VRSN,NTRS,ENPH,EG,UAL,ATO,ILMN,TXT,LH,ZBRA,CE,EXPD,FDS,L,PKG,CLX,IEX,JBHT,CFG,LUV,MAA,IP,DGX,GEN,BBY,NWS,NWSA,MAS,FOX,FOXA,ALB,AES,SWKS,BG,UDR,EXPE,CAG,JBL,MRO,AMCR,AKAM,SNA,CF,WRK,RVTY,POOL,TRMB,WBA,PNR,KEY,NDSN,CPB,DOC,SWK,HST,INCY,LW,LNT,TECH,PODD,NI,MGM,KIM,AOS,VTRS,JKHY,EVRG,BEN,DVA,IPG,UHS,EMN,SJM,LKQ,TAP,JNPR,CRL,CPT,REG,KMX,APA,RL,BBWI,ALLE,WYNN,BXP,EPAM,SOLV,CHRW,HII,FFIV,MOS,CTLT,PAYC,TFX,TPR,QRVO,HSIC,AAL,GNRC,DAY,AIZ,PNW,HAS,PARA,MKTX,FRT,BIO,BWA,MTCH,FMC,GL,MHK,CZR,ETSY,IVZ,RHI,NCLH,CMA\n",
      "https://data.alpaca.markets/v1beta1/news 50\n",
      "https://data.alpaca.markets/v1beta1/news 50\n",
      "https://data.alpaca.markets/v1beta1/news 50\n",
      "https://data.alpaca.markets/v1beta1/news 50\n",
      "https://data.alpaca.markets/v1beta1/news 50\n",
      "https://data.alpaca.markets/v1beta1/news 50\n",
      "https://data.alpaca.markets/v1beta1/news 50\n",
      "https://data.alpaca.markets/v1beta1/news 50\n",
      "https://data.alpaca.markets/v1beta1/news 50\n",
      "https://data.alpaca.markets/v1beta1/news 50\n",
      "https://data.alpaca.markets/v1beta1/news 50\n",
      "https://data.alpaca.markets/v1beta1/news 50\n",
      "https://data.alpaca.markets/v1beta1/news 50\n",
      "https://data.alpaca.markets/v1beta1/news 50\n",
      "https://data.alpaca.markets/v1beta1/news 50\n"
     ]
    },
    {
     "name": "stderr",
     "output_type": "stream",
     "text": [
      " 19%|█▊        | 28/150 [01:54<08:43,  4.29s/it]"
     ]
    },
    {
     "name": "stdout",
     "output_type": "stream",
     "text": [
      "https://data.alpaca.markets/v1beta1/news 25\n",
      "error2\n",
      "Number of news articles: 775\n",
      "Fetching news for date: 2016-08-23\n",
      "start and end news collection 2016-08-16 2016-08-22\n",
      "length of ticker list 503\n",
      "MSFT,AAPL,NVDA,GOOG,GOOGL,AMZN,META,BRK-B,LLY,AVGO,JPM,TSLA,V,WMT,XOM,UNH,MA,PG,COST,JNJ,ORCL,MRK,HD,BAC,CVX,NFLX,ABBV,AMD,KO,CRM,PEP,QCOM,TMO,ADBE,WFC,LIN,DHR,TMUS,ACN,CSCO,MCD,DIS,GE,AMAT,TXN,ABT,AXP,CAT,INTU,VZ,AMGN,PFE,MS,NEE,IBM,PM,NOW,CMCSA,BX,GS,ISRG,MU,UNP,RTX,NKE,COP,SPGI,ETN,UBER,SCHW,INTC,HON,BKNG,SYK,LRCX,T,LOW,C,ELV,PGR,UPS,VRTX,BLK,TJX,ADI,LMT,BSX,REGN,MDT,CB,BA,KLAC,DE,PANW,MMC,ADP,PLD,ANET,CI,ABNB,MDLZ,SNPS,SBUX,FI,AMT,CMG,SO,WM,BMY,HCA,GD,GILD,APH,CDNS,DUK,ICE,MO,ZTS,CME,SHW,CL,TT,TDG,MCO,FCX,MCK,EQIX,CEG,ITW,NXPI,EOG,CVS,CTAS,NOC,PH,MAR,TGT,ECL,BDX,SLB,CSX,EMR,PYPL,MRNA,USB,MPC,PNC,AON,FDX,MSI,PSX,WELL,CARR,RSG,APD,ROP,ORLY,PCAR,SPG,MNST,MMM,AJG,OXY,VLO,EW,MCHP,COF,CPRT,AIG,SMCI,MET,TFC,NSC,HLT,DXCM,GM,AFL,JCI,WMB,TRV,GEV,NEM,F,PCG,SRE,AZO,PSA,ROST,DHI,GWW,DLR,OKE,AEP,FTNT,HES,KDP,TEL,ADSK,STZ,O,URI,EL,PAYX,KMB,D,BK,A,AMP,COR,KHC,ALL,FIS,LEN,PRU,IDXX,CCI,LHX,KMI,HUM,IQV,PWR,NUE,DOW,AME,HSY,CNC,OTIS,CHTR,MSCI,CMI,ACGL,YUM,CTVA,GIS,KR,IR,RCL,LULU,FAST,ODFL,PEG,KVUE,EXC,MPWR,GEHC,SYY,EA,VRSK,NDAQ,MLM,VST,CSGP,XYL,HWM,FANG,VMC,FICO,IT,CTSH,DD,DAL,LVS,ED,BKR,LYB,HPQ,HAL,DG,BIIB,MTD,GRMN,EXR,RMD,ON,GLW,CDW,DFS,PPG,DVN,TSCO,ROK,HIG,WAB,ADM,XEL,EFX,FSLR,VICI,ANSS,EIX,AVB,EBAY,CBRE,FTV,DECK,TTWO,TROW,GPN,RJF,CHD,WTW,BRO,WEC,FITB,TRGP,DOV,VLTO,DLTR,KEYS,MTB,AWK,EQR,IFF,WDC,WST,PHM,ZBH,HPE,NTAP,BR,IRM,CAH,DTE,ETR,NVR,STT,STE,TER,APTV,FE,ROL,LYV,HUBB,WY,PTC,BF-B,AXON,BALL,TSN,PPL,INVH,STLD,TYL,BLDR,K,ARE,LDOS,WRB,ES,GPC,SBAC,CTRA,WAT,HBAN,CCL,STX,MOH,MKC,PFG,ALGN,HRL,VTR,CBOE,TDY,AEE,WBD,CNP,COO,CPAY,OMC,CINF,ULTA,CMS,AVY,NRG,EQT,DRI,J,DPZ,RF,SYF,BAX,ESS,HOLX,VRSN,NTRS,ENPH,EG,UAL,ATO,ILMN,TXT,LH,ZBRA,CE,EXPD,FDS,L,PKG,CLX,IEX,JBHT,CFG,LUV,MAA,IP,DGX,GEN,BBY,NWS,NWSA,MAS,FOX,FOXA,ALB,AES,SWKS,BG,UDR,EXPE,CAG,JBL,MRO,AMCR,AKAM,SNA,CF,WRK,RVTY,POOL,TRMB,WBA,PNR,KEY,NDSN,CPB,DOC,SWK,HST,INCY,LW,LNT,TECH,PODD,NI,MGM,KIM,AOS,VTRS,JKHY,EVRG,BEN,DVA,IPG,UHS,EMN,SJM,LKQ,TAP,JNPR,CRL,CPT,REG,KMX,APA,RL,BBWI,ALLE,WYNN,BXP,EPAM,SOLV,CHRW,HII,FFIV,MOS,CTLT,PAYC,TFX,TPR,QRVO,HSIC,AAL,GNRC,DAY,AIZ,PNW,HAS,PARA,MKTX,FRT,BIO,BWA,MTCH,FMC,GL,MHK,CZR,ETSY,IVZ,RHI,NCLH,CMA\n",
      "https://data.alpaca.markets/v1beta1/news 50\n",
      "https://data.alpaca.markets/v1beta1/news 50\n",
      "https://data.alpaca.markets/v1beta1/news 50\n",
      "https://data.alpaca.markets/v1beta1/news 50\n",
      "https://data.alpaca.markets/v1beta1/news 50\n",
      "https://data.alpaca.markets/v1beta1/news 50\n",
      "https://data.alpaca.markets/v1beta1/news 50\n",
      "https://data.alpaca.markets/v1beta1/news 50\n",
      "https://data.alpaca.markets/v1beta1/news 50\n"
     ]
    },
    {
     "name": "stderr",
     "output_type": "stream",
     "text": [
      " 19%|█▉        | 29/150 [01:57<08:02,  3.98s/it]"
     ]
    },
    {
     "name": "stdout",
     "output_type": "stream",
     "text": [
      "https://data.alpaca.markets/v1beta1/news 21\n",
      "error2\n",
      "Number of news articles: 471\n",
      "Fetching news for date: 2016-08-30\n",
      "start and end news collection 2016-08-23 2016-08-29\n",
      "length of ticker list 503\n",
      "MSFT,AAPL,NVDA,GOOG,GOOGL,AMZN,META,BRK-B,LLY,AVGO,JPM,TSLA,V,WMT,XOM,UNH,MA,PG,COST,JNJ,ORCL,MRK,HD,BAC,CVX,NFLX,ABBV,AMD,KO,CRM,PEP,QCOM,TMO,ADBE,WFC,LIN,DHR,TMUS,ACN,CSCO,MCD,DIS,GE,AMAT,TXN,ABT,AXP,CAT,INTU,VZ,AMGN,PFE,MS,NEE,IBM,PM,NOW,CMCSA,BX,GS,ISRG,MU,UNP,RTX,NKE,COP,SPGI,ETN,UBER,SCHW,INTC,HON,BKNG,SYK,LRCX,T,LOW,C,ELV,PGR,UPS,VRTX,BLK,TJX,ADI,LMT,BSX,REGN,MDT,CB,BA,KLAC,DE,PANW,MMC,ADP,PLD,ANET,CI,ABNB,MDLZ,SNPS,SBUX,FI,AMT,CMG,SO,WM,BMY,HCA,GD,GILD,APH,CDNS,DUK,ICE,MO,ZTS,CME,SHW,CL,TT,TDG,MCO,FCX,MCK,EQIX,CEG,ITW,NXPI,EOG,CVS,CTAS,NOC,PH,MAR,TGT,ECL,BDX,SLB,CSX,EMR,PYPL,MRNA,USB,MPC,PNC,AON,FDX,MSI,PSX,WELL,CARR,RSG,APD,ROP,ORLY,PCAR,SPG,MNST,MMM,AJG,OXY,VLO,EW,MCHP,COF,CPRT,AIG,SMCI,MET,TFC,NSC,HLT,DXCM,GM,AFL,JCI,WMB,TRV,GEV,NEM,F,PCG,SRE,AZO,PSA,ROST,DHI,GWW,DLR,OKE,AEP,FTNT,HES,KDP,TEL,ADSK,STZ,O,URI,EL,PAYX,KMB,D,BK,A,AMP,COR,KHC,ALL,FIS,LEN,PRU,IDXX,CCI,LHX,KMI,HUM,IQV,PWR,NUE,DOW,AME,HSY,CNC,OTIS,CHTR,MSCI,CMI,ACGL,YUM,CTVA,GIS,KR,IR,RCL,LULU,FAST,ODFL,PEG,KVUE,EXC,MPWR,GEHC,SYY,EA,VRSK,NDAQ,MLM,VST,CSGP,XYL,HWM,FANG,VMC,FICO,IT,CTSH,DD,DAL,LVS,ED,BKR,LYB,HPQ,HAL,DG,BIIB,MTD,GRMN,EXR,RMD,ON,GLW,CDW,DFS,PPG,DVN,TSCO,ROK,HIG,WAB,ADM,XEL,EFX,FSLR,VICI,ANSS,EIX,AVB,EBAY,CBRE,FTV,DECK,TTWO,TROW,GPN,RJF,CHD,WTW,BRO,WEC,FITB,TRGP,DOV,VLTO,DLTR,KEYS,MTB,AWK,EQR,IFF,WDC,WST,PHM,ZBH,HPE,NTAP,BR,IRM,CAH,DTE,ETR,NVR,STT,STE,TER,APTV,FE,ROL,LYV,HUBB,WY,PTC,BF-B,AXON,BALL,TSN,PPL,INVH,STLD,TYL,BLDR,K,ARE,LDOS,WRB,ES,GPC,SBAC,CTRA,WAT,HBAN,CCL,STX,MOH,MKC,PFG,ALGN,HRL,VTR,CBOE,TDY,AEE,WBD,CNP,COO,CPAY,OMC,CINF,ULTA,CMS,AVY,NRG,EQT,DRI,J,DPZ,RF,SYF,BAX,ESS,HOLX,VRSN,NTRS,ENPH,EG,UAL,ATO,ILMN,TXT,LH,ZBRA,CE,EXPD,FDS,L,PKG,CLX,IEX,JBHT,CFG,LUV,MAA,IP,DGX,GEN,BBY,NWS,NWSA,MAS,FOX,FOXA,ALB,AES,SWKS,BG,UDR,EXPE,CAG,JBL,MRO,AMCR,AKAM,SNA,CF,WRK,RVTY,POOL,TRMB,WBA,PNR,KEY,NDSN,CPB,DOC,SWK,HST,INCY,LW,LNT,TECH,PODD,NI,MGM,KIM,AOS,VTRS,JKHY,EVRG,BEN,DVA,IPG,UHS,EMN,SJM,LKQ,TAP,JNPR,CRL,CPT,REG,KMX,APA,RL,BBWI,ALLE,WYNN,BXP,EPAM,SOLV,CHRW,HII,FFIV,MOS,CTLT,PAYC,TFX,TPR,QRVO,HSIC,AAL,GNRC,DAY,AIZ,PNW,HAS,PARA,MKTX,FRT,BIO,BWA,MTCH,FMC,GL,MHK,CZR,ETSY,IVZ,RHI,NCLH,CMA\n",
      "https://data.alpaca.markets/v1beta1/news 50\n",
      "https://data.alpaca.markets/v1beta1/news 50\n",
      "https://data.alpaca.markets/v1beta1/news 50\n",
      "https://data.alpaca.markets/v1beta1/news 50\n",
      "https://data.alpaca.markets/v1beta1/news 50\n",
      "https://data.alpaca.markets/v1beta1/news 50\n",
      "https://data.alpaca.markets/v1beta1/news 50\n",
      "https://data.alpaca.markets/v1beta1/news 50\n",
      "https://data.alpaca.markets/v1beta1/news 50\n"
     ]
    },
    {
     "name": "stderr",
     "output_type": "stream",
     "text": [
      " 20%|██        | 30/150 [02:00<07:35,  3.80s/it]"
     ]
    },
    {
     "name": "stdout",
     "output_type": "stream",
     "text": [
      "https://data.alpaca.markets/v1beta1/news 31\n",
      "error2\n",
      "Number of news articles: 481\n",
      "Fetching news for date: 2016-08-31\n",
      "start and end news collection 2016-08-24 2016-08-30\n",
      "length of ticker list 503\n",
      "MSFT,AAPL,NVDA,GOOG,GOOGL,AMZN,META,BRK-B,LLY,AVGO,JPM,TSLA,V,WMT,XOM,UNH,MA,PG,COST,JNJ,ORCL,MRK,HD,BAC,CVX,NFLX,ABBV,AMD,KO,CRM,PEP,QCOM,TMO,ADBE,WFC,LIN,DHR,TMUS,ACN,CSCO,MCD,DIS,GE,AMAT,TXN,ABT,AXP,CAT,INTU,VZ,AMGN,PFE,MS,NEE,IBM,PM,NOW,CMCSA,BX,GS,ISRG,MU,UNP,RTX,NKE,COP,SPGI,ETN,UBER,SCHW,INTC,HON,BKNG,SYK,LRCX,T,LOW,C,ELV,PGR,UPS,VRTX,BLK,TJX,ADI,LMT,BSX,REGN,MDT,CB,BA,KLAC,DE,PANW,MMC,ADP,PLD,ANET,CI,ABNB,MDLZ,SNPS,SBUX,FI,AMT,CMG,SO,WM,BMY,HCA,GD,GILD,APH,CDNS,DUK,ICE,MO,ZTS,CME,SHW,CL,TT,TDG,MCO,FCX,MCK,EQIX,CEG,ITW,NXPI,EOG,CVS,CTAS,NOC,PH,MAR,TGT,ECL,BDX,SLB,CSX,EMR,PYPL,MRNA,USB,MPC,PNC,AON,FDX,MSI,PSX,WELL,CARR,RSG,APD,ROP,ORLY,PCAR,SPG,MNST,MMM,AJG,OXY,VLO,EW,MCHP,COF,CPRT,AIG,SMCI,MET,TFC,NSC,HLT,DXCM,GM,AFL,JCI,WMB,TRV,GEV,NEM,F,PCG,SRE,AZO,PSA,ROST,DHI,GWW,DLR,OKE,AEP,FTNT,HES,KDP,TEL,ADSK,STZ,O,URI,EL,PAYX,KMB,D,BK,A,AMP,COR,KHC,ALL,FIS,LEN,PRU,IDXX,CCI,LHX,KMI,HUM,IQV,PWR,NUE,DOW,AME,HSY,CNC,OTIS,CHTR,MSCI,CMI,ACGL,YUM,CTVA,GIS,KR,IR,RCL,LULU,FAST,ODFL,PEG,KVUE,EXC,MPWR,GEHC,SYY,EA,VRSK,NDAQ,MLM,VST,CSGP,XYL,HWM,FANG,VMC,FICO,IT,CTSH,DD,DAL,LVS,ED,BKR,LYB,HPQ,HAL,DG,BIIB,MTD,GRMN,EXR,RMD,ON,GLW,CDW,DFS,PPG,DVN,TSCO,ROK,HIG,WAB,ADM,XEL,EFX,FSLR,VICI,ANSS,EIX,AVB,EBAY,CBRE,FTV,DECK,TTWO,TROW,GPN,RJF,CHD,WTW,BRO,WEC,FITB,TRGP,DOV,VLTO,DLTR,KEYS,MTB,AWK,EQR,IFF,WDC,WST,PHM,ZBH,HPE,NTAP,BR,IRM,CAH,DTE,ETR,NVR,STT,STE,TER,APTV,FE,ROL,LYV,HUBB,WY,PTC,BF-B,AXON,BALL,TSN,PPL,INVH,STLD,TYL,BLDR,K,ARE,LDOS,WRB,ES,GPC,SBAC,CTRA,WAT,HBAN,CCL,STX,MOH,MKC,PFG,ALGN,HRL,VTR,CBOE,TDY,AEE,WBD,CNP,COO,CPAY,OMC,CINF,ULTA,CMS,AVY,NRG,EQT,DRI,J,DPZ,RF,SYF,BAX,ESS,HOLX,VRSN,NTRS,ENPH,EG,UAL,ATO,ILMN,TXT,LH,ZBRA,CE,EXPD,FDS,L,PKG,CLX,IEX,JBHT,CFG,LUV,MAA,IP,DGX,GEN,BBY,NWS,NWSA,MAS,FOX,FOXA,ALB,AES,SWKS,BG,UDR,EXPE,CAG,JBL,MRO,AMCR,AKAM,SNA,CF,WRK,RVTY,POOL,TRMB,WBA,PNR,KEY,NDSN,CPB,DOC,SWK,HST,INCY,LW,LNT,TECH,PODD,NI,MGM,KIM,AOS,VTRS,JKHY,EVRG,BEN,DVA,IPG,UHS,EMN,SJM,LKQ,TAP,JNPR,CRL,CPT,REG,KMX,APA,RL,BBWI,ALLE,WYNN,BXP,EPAM,SOLV,CHRW,HII,FFIV,MOS,CTLT,PAYC,TFX,TPR,QRVO,HSIC,AAL,GNRC,DAY,AIZ,PNW,HAS,PARA,MKTX,FRT,BIO,BWA,MTCH,FMC,GL,MHK,CZR,ETSY,IVZ,RHI,NCLH,CMA\n",
      "https://data.alpaca.markets/v1beta1/news 50\n",
      "https://data.alpaca.markets/v1beta1/news 50\n",
      "https://data.alpaca.markets/v1beta1/news 50\n",
      "https://data.alpaca.markets/v1beta1/news 50\n",
      "https://data.alpaca.markets/v1beta1/news 50\n",
      "https://data.alpaca.markets/v1beta1/news 50\n",
      "https://data.alpaca.markets/v1beta1/news 50\n",
      "https://data.alpaca.markets/v1beta1/news 50\n",
      "https://data.alpaca.markets/v1beta1/news 50\n"
     ]
    },
    {
     "name": "stderr",
     "output_type": "stream",
     "text": [
      " 21%|██        | 31/150 [02:04<07:14,  3.65s/it]"
     ]
    },
    {
     "name": "stdout",
     "output_type": "stream",
     "text": [
      "https://data.alpaca.markets/v1beta1/news 0\n",
      "error2\n",
      "Number of news articles: 450\n",
      "Fetching news for date: 2016-09-23\n",
      "start and end news collection 2016-09-16 2016-09-22\n",
      "length of ticker list 503\n",
      "MSFT,AAPL,NVDA,GOOG,GOOGL,AMZN,META,BRK-B,LLY,AVGO,JPM,TSLA,V,WMT,XOM,UNH,MA,PG,COST,JNJ,ORCL,MRK,HD,BAC,CVX,NFLX,ABBV,AMD,KO,CRM,PEP,QCOM,TMO,ADBE,WFC,LIN,DHR,TMUS,ACN,CSCO,MCD,DIS,GE,AMAT,TXN,ABT,AXP,CAT,INTU,VZ,AMGN,PFE,MS,NEE,IBM,PM,NOW,CMCSA,BX,GS,ISRG,MU,UNP,RTX,NKE,COP,SPGI,ETN,UBER,SCHW,INTC,HON,BKNG,SYK,LRCX,T,LOW,C,ELV,PGR,UPS,VRTX,BLK,TJX,ADI,LMT,BSX,REGN,MDT,CB,BA,KLAC,DE,PANW,MMC,ADP,PLD,ANET,CI,ABNB,MDLZ,SNPS,SBUX,FI,AMT,CMG,SO,WM,BMY,HCA,GD,GILD,APH,CDNS,DUK,ICE,MO,ZTS,CME,SHW,CL,TT,TDG,MCO,FCX,MCK,EQIX,CEG,ITW,NXPI,EOG,CVS,CTAS,NOC,PH,MAR,TGT,ECL,BDX,SLB,CSX,EMR,PYPL,MRNA,USB,MPC,PNC,AON,FDX,MSI,PSX,WELL,CARR,RSG,APD,ROP,ORLY,PCAR,SPG,MNST,MMM,AJG,OXY,VLO,EW,MCHP,COF,CPRT,AIG,SMCI,MET,TFC,NSC,HLT,DXCM,GM,AFL,JCI,WMB,TRV,GEV,NEM,F,PCG,SRE,AZO,PSA,ROST,DHI,GWW,DLR,OKE,AEP,FTNT,HES,KDP,TEL,ADSK,STZ,O,URI,EL,PAYX,KMB,D,BK,A,AMP,COR,KHC,ALL,FIS,LEN,PRU,IDXX,CCI,LHX,KMI,HUM,IQV,PWR,NUE,DOW,AME,HSY,CNC,OTIS,CHTR,MSCI,CMI,ACGL,YUM,CTVA,GIS,KR,IR,RCL,LULU,FAST,ODFL,PEG,KVUE,EXC,MPWR,GEHC,SYY,EA,VRSK,NDAQ,MLM,VST,CSGP,XYL,HWM,FANG,VMC,FICO,IT,CTSH,DD,DAL,LVS,ED,BKR,LYB,HPQ,HAL,DG,BIIB,MTD,GRMN,EXR,RMD,ON,GLW,CDW,DFS,PPG,DVN,TSCO,ROK,HIG,WAB,ADM,XEL,EFX,FSLR,VICI,ANSS,EIX,AVB,EBAY,CBRE,FTV,DECK,TTWO,TROW,GPN,RJF,CHD,WTW,BRO,WEC,FITB,TRGP,DOV,VLTO,DLTR,KEYS,MTB,AWK,EQR,IFF,WDC,WST,PHM,ZBH,HPE,NTAP,BR,IRM,CAH,DTE,ETR,NVR,STT,STE,TER,APTV,FE,ROL,LYV,HUBB,WY,PTC,BF-B,AXON,BALL,TSN,PPL,INVH,STLD,TYL,BLDR,K,ARE,LDOS,WRB,ES,GPC,SBAC,CTRA,WAT,HBAN,CCL,STX,MOH,MKC,PFG,ALGN,HRL,VTR,CBOE,TDY,AEE,WBD,CNP,COO,CPAY,OMC,CINF,ULTA,CMS,AVY,NRG,EQT,DRI,J,DPZ,RF,SYF,BAX,ESS,HOLX,VRSN,NTRS,ENPH,EG,UAL,ATO,ILMN,TXT,LH,ZBRA,CE,EXPD,FDS,L,PKG,CLX,IEX,JBHT,CFG,LUV,MAA,IP,DGX,GEN,BBY,NWS,NWSA,MAS,FOX,FOXA,ALB,AES,SWKS,BG,UDR,EXPE,CAG,JBL,MRO,AMCR,AKAM,SNA,CF,WRK,RVTY,POOL,TRMB,WBA,PNR,KEY,NDSN,CPB,DOC,SWK,HST,INCY,LW,LNT,TECH,PODD,NI,MGM,KIM,AOS,VTRS,JKHY,EVRG,BEN,DVA,IPG,UHS,EMN,SJM,LKQ,TAP,JNPR,CRL,CPT,REG,KMX,APA,RL,BBWI,ALLE,WYNN,BXP,EPAM,SOLV,CHRW,HII,FFIV,MOS,CTLT,PAYC,TFX,TPR,QRVO,HSIC,AAL,GNRC,DAY,AIZ,PNW,HAS,PARA,MKTX,FRT,BIO,BWA,MTCH,FMC,GL,MHK,CZR,ETSY,IVZ,RHI,NCLH,CMA\n",
      "https://data.alpaca.markets/v1beta1/news 50\n",
      "https://data.alpaca.markets/v1beta1/news 50\n",
      "https://data.alpaca.markets/v1beta1/news 50\n",
      "https://data.alpaca.markets/v1beta1/news 50\n",
      "https://data.alpaca.markets/v1beta1/news 50\n",
      "https://data.alpaca.markets/v1beta1/news 50\n",
      "https://data.alpaca.markets/v1beta1/news 50\n",
      "https://data.alpaca.markets/v1beta1/news 50\n",
      "https://data.alpaca.markets/v1beta1/news 50\n",
      "https://data.alpaca.markets/v1beta1/news 50\n"
     ]
    },
    {
     "name": "stderr",
     "output_type": "stream",
     "text": [
      " 21%|██▏       | 32/150 [02:08<07:45,  3.94s/it]"
     ]
    },
    {
     "name": "stdout",
     "output_type": "stream",
     "text": [
      "https://data.alpaca.markets/v1beta1/news 39\n",
      "error2\n",
      "Number of news articles: 539\n",
      "Fetching news for date: 2016-10-13\n",
      "start and end news collection 2016-10-06 2016-10-12\n",
      "length of ticker list 503\n",
      "MSFT,AAPL,NVDA,GOOG,GOOGL,AMZN,META,BRK-B,LLY,AVGO,JPM,TSLA,V,WMT,XOM,UNH,MA,PG,COST,JNJ,ORCL,MRK,HD,BAC,CVX,NFLX,ABBV,AMD,KO,CRM,PEP,QCOM,TMO,ADBE,WFC,LIN,DHR,TMUS,ACN,CSCO,MCD,DIS,GE,AMAT,TXN,ABT,AXP,CAT,INTU,VZ,AMGN,PFE,MS,NEE,IBM,PM,NOW,CMCSA,BX,GS,ISRG,MU,UNP,RTX,NKE,COP,SPGI,ETN,UBER,SCHW,INTC,HON,BKNG,SYK,LRCX,T,LOW,C,ELV,PGR,UPS,VRTX,BLK,TJX,ADI,LMT,BSX,REGN,MDT,CB,BA,KLAC,DE,PANW,MMC,ADP,PLD,ANET,CI,ABNB,MDLZ,SNPS,SBUX,FI,AMT,CMG,SO,WM,BMY,HCA,GD,GILD,APH,CDNS,DUK,ICE,MO,ZTS,CME,SHW,CL,TT,TDG,MCO,FCX,MCK,EQIX,CEG,ITW,NXPI,EOG,CVS,CTAS,NOC,PH,MAR,TGT,ECL,BDX,SLB,CSX,EMR,PYPL,MRNA,USB,MPC,PNC,AON,FDX,MSI,PSX,WELL,CARR,RSG,APD,ROP,ORLY,PCAR,SPG,MNST,MMM,AJG,OXY,VLO,EW,MCHP,COF,CPRT,AIG,SMCI,MET,TFC,NSC,HLT,DXCM,GM,AFL,JCI,WMB,TRV,GEV,NEM,F,PCG,SRE,AZO,PSA,ROST,DHI,GWW,DLR,OKE,AEP,FTNT,HES,KDP,TEL,ADSK,STZ,O,URI,EL,PAYX,KMB,D,BK,A,AMP,COR,KHC,ALL,FIS,LEN,PRU,IDXX,CCI,LHX,KMI,HUM,IQV,PWR,NUE,DOW,AME,HSY,CNC,OTIS,CHTR,MSCI,CMI,ACGL,YUM,CTVA,GIS,KR,IR,RCL,LULU,FAST,ODFL,PEG,KVUE,EXC,MPWR,GEHC,SYY,EA,VRSK,NDAQ,MLM,VST,CSGP,XYL,HWM,FANG,VMC,FICO,IT,CTSH,DD,DAL,LVS,ED,BKR,LYB,HPQ,HAL,DG,BIIB,MTD,GRMN,EXR,RMD,ON,GLW,CDW,DFS,PPG,DVN,TSCO,ROK,HIG,WAB,ADM,XEL,EFX,FSLR,VICI,ANSS,EIX,AVB,EBAY,CBRE,FTV,DECK,TTWO,TROW,GPN,RJF,CHD,WTW,BRO,WEC,FITB,TRGP,DOV,VLTO,DLTR,KEYS,MTB,AWK,EQR,IFF,WDC,WST,PHM,ZBH,HPE,NTAP,BR,IRM,CAH,DTE,ETR,NVR,STT,STE,TER,APTV,FE,ROL,LYV,HUBB,WY,PTC,BF-B,AXON,BALL,TSN,PPL,INVH,STLD,TYL,BLDR,K,ARE,LDOS,WRB,ES,GPC,SBAC,CTRA,WAT,HBAN,CCL,STX,MOH,MKC,PFG,ALGN,HRL,VTR,CBOE,TDY,AEE,WBD,CNP,COO,CPAY,OMC,CINF,ULTA,CMS,AVY,NRG,EQT,DRI,J,DPZ,RF,SYF,BAX,ESS,HOLX,VRSN,NTRS,ENPH,EG,UAL,ATO,ILMN,TXT,LH,ZBRA,CE,EXPD,FDS,L,PKG,CLX,IEX,JBHT,CFG,LUV,MAA,IP,DGX,GEN,BBY,NWS,NWSA,MAS,FOX,FOXA,ALB,AES,SWKS,BG,UDR,EXPE,CAG,JBL,MRO,AMCR,AKAM,SNA,CF,WRK,RVTY,POOL,TRMB,WBA,PNR,KEY,NDSN,CPB,DOC,SWK,HST,INCY,LW,LNT,TECH,PODD,NI,MGM,KIM,AOS,VTRS,JKHY,EVRG,BEN,DVA,IPG,UHS,EMN,SJM,LKQ,TAP,JNPR,CRL,CPT,REG,KMX,APA,RL,BBWI,ALLE,WYNN,BXP,EPAM,SOLV,CHRW,HII,FFIV,MOS,CTLT,PAYC,TFX,TPR,QRVO,HSIC,AAL,GNRC,DAY,AIZ,PNW,HAS,PARA,MKTX,FRT,BIO,BWA,MTCH,FMC,GL,MHK,CZR,ETSY,IVZ,RHI,NCLH,CMA\n",
      "https://data.alpaca.markets/v1beta1/news 50\n",
      "https://data.alpaca.markets/v1beta1/news 50\n",
      "https://data.alpaca.markets/v1beta1/news 50\n",
      "https://data.alpaca.markets/v1beta1/news 50\n",
      "https://data.alpaca.markets/v1beta1/news 50\n",
      "https://data.alpaca.markets/v1beta1/news 50\n",
      "https://data.alpaca.markets/v1beta1/news 50\n",
      "https://data.alpaca.markets/v1beta1/news 50\n",
      "https://data.alpaca.markets/v1beta1/news 50\n",
      "https://data.alpaca.markets/v1beta1/news 50\n",
      "https://data.alpaca.markets/v1beta1/news 50\n",
      "https://data.alpaca.markets/v1beta1/news 50\n",
      "https://data.alpaca.markets/v1beta1/news 50\n"
     ]
    },
    {
     "name": "stderr",
     "output_type": "stream",
     "text": [
      " 22%|██▏       | 33/150 [02:13<08:07,  4.16s/it]"
     ]
    },
    {
     "name": "stdout",
     "output_type": "stream",
     "text": [
      "https://data.alpaca.markets/v1beta1/news 32\n",
      "error2\n",
      "Number of news articles: 682\n",
      "Fetching news for date: 2016-10-24\n",
      "start and end news collection 2016-10-17 2016-10-23\n",
      "length of ticker list 503\n",
      "MSFT,AAPL,NVDA,GOOG,GOOGL,AMZN,META,BRK-B,LLY,AVGO,JPM,TSLA,V,WMT,XOM,UNH,MA,PG,COST,JNJ,ORCL,MRK,HD,BAC,CVX,NFLX,ABBV,AMD,KO,CRM,PEP,QCOM,TMO,ADBE,WFC,LIN,DHR,TMUS,ACN,CSCO,MCD,DIS,GE,AMAT,TXN,ABT,AXP,CAT,INTU,VZ,AMGN,PFE,MS,NEE,IBM,PM,NOW,CMCSA,BX,GS,ISRG,MU,UNP,RTX,NKE,COP,SPGI,ETN,UBER,SCHW,INTC,HON,BKNG,SYK,LRCX,T,LOW,C,ELV,PGR,UPS,VRTX,BLK,TJX,ADI,LMT,BSX,REGN,MDT,CB,BA,KLAC,DE,PANW,MMC,ADP,PLD,ANET,CI,ABNB,MDLZ,SNPS,SBUX,FI,AMT,CMG,SO,WM,BMY,HCA,GD,GILD,APH,CDNS,DUK,ICE,MO,ZTS,CME,SHW,CL,TT,TDG,MCO,FCX,MCK,EQIX,CEG,ITW,NXPI,EOG,CVS,CTAS,NOC,PH,MAR,TGT,ECL,BDX,SLB,CSX,EMR,PYPL,MRNA,USB,MPC,PNC,AON,FDX,MSI,PSX,WELL,CARR,RSG,APD,ROP,ORLY,PCAR,SPG,MNST,MMM,AJG,OXY,VLO,EW,MCHP,COF,CPRT,AIG,SMCI,MET,TFC,NSC,HLT,DXCM,GM,AFL,JCI,WMB,TRV,GEV,NEM,F,PCG,SRE,AZO,PSA,ROST,DHI,GWW,DLR,OKE,AEP,FTNT,HES,KDP,TEL,ADSK,STZ,O,URI,EL,PAYX,KMB,D,BK,A,AMP,COR,KHC,ALL,FIS,LEN,PRU,IDXX,CCI,LHX,KMI,HUM,IQV,PWR,NUE,DOW,AME,HSY,CNC,OTIS,CHTR,MSCI,CMI,ACGL,YUM,CTVA,GIS,KR,IR,RCL,LULU,FAST,ODFL,PEG,KVUE,EXC,MPWR,GEHC,SYY,EA,VRSK,NDAQ,MLM,VST,CSGP,XYL,HWM,FANG,VMC,FICO,IT,CTSH,DD,DAL,LVS,ED,BKR,LYB,HPQ,HAL,DG,BIIB,MTD,GRMN,EXR,RMD,ON,GLW,CDW,DFS,PPG,DVN,TSCO,ROK,HIG,WAB,ADM,XEL,EFX,FSLR,VICI,ANSS,EIX,AVB,EBAY,CBRE,FTV,DECK,TTWO,TROW,GPN,RJF,CHD,WTW,BRO,WEC,FITB,TRGP,DOV,VLTO,DLTR,KEYS,MTB,AWK,EQR,IFF,WDC,WST,PHM,ZBH,HPE,NTAP,BR,IRM,CAH,DTE,ETR,NVR,STT,STE,TER,APTV,FE,ROL,LYV,HUBB,WY,PTC,BF-B,AXON,BALL,TSN,PPL,INVH,STLD,TYL,BLDR,K,ARE,LDOS,WRB,ES,GPC,SBAC,CTRA,WAT,HBAN,CCL,STX,MOH,MKC,PFG,ALGN,HRL,VTR,CBOE,TDY,AEE,WBD,CNP,COO,CPAY,OMC,CINF,ULTA,CMS,AVY,NRG,EQT,DRI,J,DPZ,RF,SYF,BAX,ESS,HOLX,VRSN,NTRS,ENPH,EG,UAL,ATO,ILMN,TXT,LH,ZBRA,CE,EXPD,FDS,L,PKG,CLX,IEX,JBHT,CFG,LUV,MAA,IP,DGX,GEN,BBY,NWS,NWSA,MAS,FOX,FOXA,ALB,AES,SWKS,BG,UDR,EXPE,CAG,JBL,MRO,AMCR,AKAM,SNA,CF,WRK,RVTY,POOL,TRMB,WBA,PNR,KEY,NDSN,CPB,DOC,SWK,HST,INCY,LW,LNT,TECH,PODD,NI,MGM,KIM,AOS,VTRS,JKHY,EVRG,BEN,DVA,IPG,UHS,EMN,SJM,LKQ,TAP,JNPR,CRL,CPT,REG,KMX,APA,RL,BBWI,ALLE,WYNN,BXP,EPAM,SOLV,CHRW,HII,FFIV,MOS,CTLT,PAYC,TFX,TPR,QRVO,HSIC,AAL,GNRC,DAY,AIZ,PNW,HAS,PARA,MKTX,FRT,BIO,BWA,MTCH,FMC,GL,MHK,CZR,ETSY,IVZ,RHI,NCLH,CMA\n",
      "https://data.alpaca.markets/v1beta1/news 50\n",
      "https://data.alpaca.markets/v1beta1/news 50\n",
      "https://data.alpaca.markets/v1beta1/news 50\n",
      "https://data.alpaca.markets/v1beta1/news 50\n",
      "https://data.alpaca.markets/v1beta1/news 50\n",
      "https://data.alpaca.markets/v1beta1/news 50\n",
      "https://data.alpaca.markets/v1beta1/news 50\n",
      "https://data.alpaca.markets/v1beta1/news 50\n",
      "https://data.alpaca.markets/v1beta1/news 50\n",
      "https://data.alpaca.markets/v1beta1/news 50\n",
      "https://data.alpaca.markets/v1beta1/news 50\n",
      "https://data.alpaca.markets/v1beta1/news 50\n",
      "https://data.alpaca.markets/v1beta1/news 50\n",
      "https://data.alpaca.markets/v1beta1/news 50\n",
      "https://data.alpaca.markets/v1beta1/news 50\n",
      "https://data.alpaca.markets/v1beta1/news 50\n",
      "https://data.alpaca.markets/v1beta1/news 50\n",
      "https://data.alpaca.markets/v1beta1/news 50\n",
      "https://data.alpaca.markets/v1beta1/news 50\n"
     ]
    },
    {
     "name": "stderr",
     "output_type": "stream",
     "text": [
      " 23%|██▎       | 34/150 [02:19<09:23,  4.86s/it]"
     ]
    },
    {
     "name": "stdout",
     "output_type": "stream",
     "text": [
      "https://data.alpaca.markets/v1beta1/news 12\n",
      "error2\n",
      "Number of news articles: 962\n",
      "Fetching news for date: 2016-10-26\n",
      "start and end news collection 2016-10-19 2016-10-25\n",
      "length of ticker list 503\n",
      "MSFT,AAPL,NVDA,GOOG,GOOGL,AMZN,META,BRK-B,LLY,AVGO,JPM,TSLA,V,WMT,XOM,UNH,MA,PG,COST,JNJ,ORCL,MRK,HD,BAC,CVX,NFLX,ABBV,AMD,KO,CRM,PEP,QCOM,TMO,ADBE,WFC,LIN,DHR,TMUS,ACN,CSCO,MCD,DIS,GE,AMAT,TXN,ABT,AXP,CAT,INTU,VZ,AMGN,PFE,MS,NEE,IBM,PM,NOW,CMCSA,BX,GS,ISRG,MU,UNP,RTX,NKE,COP,SPGI,ETN,UBER,SCHW,INTC,HON,BKNG,SYK,LRCX,T,LOW,C,ELV,PGR,UPS,VRTX,BLK,TJX,ADI,LMT,BSX,REGN,MDT,CB,BA,KLAC,DE,PANW,MMC,ADP,PLD,ANET,CI,ABNB,MDLZ,SNPS,SBUX,FI,AMT,CMG,SO,WM,BMY,HCA,GD,GILD,APH,CDNS,DUK,ICE,MO,ZTS,CME,SHW,CL,TT,TDG,MCO,FCX,MCK,EQIX,CEG,ITW,NXPI,EOG,CVS,CTAS,NOC,PH,MAR,TGT,ECL,BDX,SLB,CSX,EMR,PYPL,MRNA,USB,MPC,PNC,AON,FDX,MSI,PSX,WELL,CARR,RSG,APD,ROP,ORLY,PCAR,SPG,MNST,MMM,AJG,OXY,VLO,EW,MCHP,COF,CPRT,AIG,SMCI,MET,TFC,NSC,HLT,DXCM,GM,AFL,JCI,WMB,TRV,GEV,NEM,F,PCG,SRE,AZO,PSA,ROST,DHI,GWW,DLR,OKE,AEP,FTNT,HES,KDP,TEL,ADSK,STZ,O,URI,EL,PAYX,KMB,D,BK,A,AMP,COR,KHC,ALL,FIS,LEN,PRU,IDXX,CCI,LHX,KMI,HUM,IQV,PWR,NUE,DOW,AME,HSY,CNC,OTIS,CHTR,MSCI,CMI,ACGL,YUM,CTVA,GIS,KR,IR,RCL,LULU,FAST,ODFL,PEG,KVUE,EXC,MPWR,GEHC,SYY,EA,VRSK,NDAQ,MLM,VST,CSGP,XYL,HWM,FANG,VMC,FICO,IT,CTSH,DD,DAL,LVS,ED,BKR,LYB,HPQ,HAL,DG,BIIB,MTD,GRMN,EXR,RMD,ON,GLW,CDW,DFS,PPG,DVN,TSCO,ROK,HIG,WAB,ADM,XEL,EFX,FSLR,VICI,ANSS,EIX,AVB,EBAY,CBRE,FTV,DECK,TTWO,TROW,GPN,RJF,CHD,WTW,BRO,WEC,FITB,TRGP,DOV,VLTO,DLTR,KEYS,MTB,AWK,EQR,IFF,WDC,WST,PHM,ZBH,HPE,NTAP,BR,IRM,CAH,DTE,ETR,NVR,STT,STE,TER,APTV,FE,ROL,LYV,HUBB,WY,PTC,BF-B,AXON,BALL,TSN,PPL,INVH,STLD,TYL,BLDR,K,ARE,LDOS,WRB,ES,GPC,SBAC,CTRA,WAT,HBAN,CCL,STX,MOH,MKC,PFG,ALGN,HRL,VTR,CBOE,TDY,AEE,WBD,CNP,COO,CPAY,OMC,CINF,ULTA,CMS,AVY,NRG,EQT,DRI,J,DPZ,RF,SYF,BAX,ESS,HOLX,VRSN,NTRS,ENPH,EG,UAL,ATO,ILMN,TXT,LH,ZBRA,CE,EXPD,FDS,L,PKG,CLX,IEX,JBHT,CFG,LUV,MAA,IP,DGX,GEN,BBY,NWS,NWSA,MAS,FOX,FOXA,ALB,AES,SWKS,BG,UDR,EXPE,CAG,JBL,MRO,AMCR,AKAM,SNA,CF,WRK,RVTY,POOL,TRMB,WBA,PNR,KEY,NDSN,CPB,DOC,SWK,HST,INCY,LW,LNT,TECH,PODD,NI,MGM,KIM,AOS,VTRS,JKHY,EVRG,BEN,DVA,IPG,UHS,EMN,SJM,LKQ,TAP,JNPR,CRL,CPT,REG,KMX,APA,RL,BBWI,ALLE,WYNN,BXP,EPAM,SOLV,CHRW,HII,FFIV,MOS,CTLT,PAYC,TFX,TPR,QRVO,HSIC,AAL,GNRC,DAY,AIZ,PNW,HAS,PARA,MKTX,FRT,BIO,BWA,MTCH,FMC,GL,MHK,CZR,ETSY,IVZ,RHI,NCLH,CMA\n",
      "https://data.alpaca.markets/v1beta1/news 50\n",
      "https://data.alpaca.markets/v1beta1/news 50\n",
      "https://data.alpaca.markets/v1beta1/news 50\n",
      "https://data.alpaca.markets/v1beta1/news 50\n",
      "https://data.alpaca.markets/v1beta1/news 50\n",
      "https://data.alpaca.markets/v1beta1/news 50\n",
      "https://data.alpaca.markets/v1beta1/news 50\n",
      "https://data.alpaca.markets/v1beta1/news 50\n",
      "https://data.alpaca.markets/v1beta1/news 50\n",
      "https://data.alpaca.markets/v1beta1/news 50\n",
      "https://data.alpaca.markets/v1beta1/news 50\n",
      "https://data.alpaca.markets/v1beta1/news 50\n",
      "https://data.alpaca.markets/v1beta1/news 50\n",
      "https://data.alpaca.markets/v1beta1/news 50\n",
      "https://data.alpaca.markets/v1beta1/news 50\n"
     ]
    },
    {
     "name": "stderr",
     "output_type": "stream",
     "text": [
      " 23%|██▎       | 35/150 [02:25<09:41,  5.05s/it]"
     ]
    },
    {
     "name": "stdout",
     "output_type": "stream",
     "text": [
      "https://data.alpaca.markets/v1beta1/news 28\n",
      "error2\n",
      "Number of news articles: 778\n",
      "Fetching news for date: 2016-11-10\n",
      "start and end news collection 2016-11-03 2016-11-09\n",
      "length of ticker list 503\n",
      "MSFT,AAPL,NVDA,GOOG,GOOGL,AMZN,META,BRK-B,LLY,AVGO,JPM,TSLA,V,WMT,XOM,UNH,MA,PG,COST,JNJ,ORCL,MRK,HD,BAC,CVX,NFLX,ABBV,AMD,KO,CRM,PEP,QCOM,TMO,ADBE,WFC,LIN,DHR,TMUS,ACN,CSCO,MCD,DIS,GE,AMAT,TXN,ABT,AXP,CAT,INTU,VZ,AMGN,PFE,MS,NEE,IBM,PM,NOW,CMCSA,BX,GS,ISRG,MU,UNP,RTX,NKE,COP,SPGI,ETN,UBER,SCHW,INTC,HON,BKNG,SYK,LRCX,T,LOW,C,ELV,PGR,UPS,VRTX,BLK,TJX,ADI,LMT,BSX,REGN,MDT,CB,BA,KLAC,DE,PANW,MMC,ADP,PLD,ANET,CI,ABNB,MDLZ,SNPS,SBUX,FI,AMT,CMG,SO,WM,BMY,HCA,GD,GILD,APH,CDNS,DUK,ICE,MO,ZTS,CME,SHW,CL,TT,TDG,MCO,FCX,MCK,EQIX,CEG,ITW,NXPI,EOG,CVS,CTAS,NOC,PH,MAR,TGT,ECL,BDX,SLB,CSX,EMR,PYPL,MRNA,USB,MPC,PNC,AON,FDX,MSI,PSX,WELL,CARR,RSG,APD,ROP,ORLY,PCAR,SPG,MNST,MMM,AJG,OXY,VLO,EW,MCHP,COF,CPRT,AIG,SMCI,MET,TFC,NSC,HLT,DXCM,GM,AFL,JCI,WMB,TRV,GEV,NEM,F,PCG,SRE,AZO,PSA,ROST,DHI,GWW,DLR,OKE,AEP,FTNT,HES,KDP,TEL,ADSK,STZ,O,URI,EL,PAYX,KMB,D,BK,A,AMP,COR,KHC,ALL,FIS,LEN,PRU,IDXX,CCI,LHX,KMI,HUM,IQV,PWR,NUE,DOW,AME,HSY,CNC,OTIS,CHTR,MSCI,CMI,ACGL,YUM,CTVA,GIS,KR,IR,RCL,LULU,FAST,ODFL,PEG,KVUE,EXC,MPWR,GEHC,SYY,EA,VRSK,NDAQ,MLM,VST,CSGP,XYL,HWM,FANG,VMC,FICO,IT,CTSH,DD,DAL,LVS,ED,BKR,LYB,HPQ,HAL,DG,BIIB,MTD,GRMN,EXR,RMD,ON,GLW,CDW,DFS,PPG,DVN,TSCO,ROK,HIG,WAB,ADM,XEL,EFX,FSLR,VICI,ANSS,EIX,AVB,EBAY,CBRE,FTV,DECK,TTWO,TROW,GPN,RJF,CHD,WTW,BRO,WEC,FITB,TRGP,DOV,VLTO,DLTR,KEYS,MTB,AWK,EQR,IFF,WDC,WST,PHM,ZBH,HPE,NTAP,BR,IRM,CAH,DTE,ETR,NVR,STT,STE,TER,APTV,FE,ROL,LYV,HUBB,WY,PTC,BF-B,AXON,BALL,TSN,PPL,INVH,STLD,TYL,BLDR,K,ARE,LDOS,WRB,ES,GPC,SBAC,CTRA,WAT,HBAN,CCL,STX,MOH,MKC,PFG,ALGN,HRL,VTR,CBOE,TDY,AEE,WBD,CNP,COO,CPAY,OMC,CINF,ULTA,CMS,AVY,NRG,EQT,DRI,J,DPZ,RF,SYF,BAX,ESS,HOLX,VRSN,NTRS,ENPH,EG,UAL,ATO,ILMN,TXT,LH,ZBRA,CE,EXPD,FDS,L,PKG,CLX,IEX,JBHT,CFG,LUV,MAA,IP,DGX,GEN,BBY,NWS,NWSA,MAS,FOX,FOXA,ALB,AES,SWKS,BG,UDR,EXPE,CAG,JBL,MRO,AMCR,AKAM,SNA,CF,WRK,RVTY,POOL,TRMB,WBA,PNR,KEY,NDSN,CPB,DOC,SWK,HST,INCY,LW,LNT,TECH,PODD,NI,MGM,KIM,AOS,VTRS,JKHY,EVRG,BEN,DVA,IPG,UHS,EMN,SJM,LKQ,TAP,JNPR,CRL,CPT,REG,KMX,APA,RL,BBWI,ALLE,WYNN,BXP,EPAM,SOLV,CHRW,HII,FFIV,MOS,CTLT,PAYC,TFX,TPR,QRVO,HSIC,AAL,GNRC,DAY,AIZ,PNW,HAS,PARA,MKTX,FRT,BIO,BWA,MTCH,FMC,GL,MHK,CZR,ETSY,IVZ,RHI,NCLH,CMA\n",
      "https://data.alpaca.markets/v1beta1/news 50\n",
      "https://data.alpaca.markets/v1beta1/news 50\n",
      "https://data.alpaca.markets/v1beta1/news 50\n",
      "https://data.alpaca.markets/v1beta1/news 50\n",
      "https://data.alpaca.markets/v1beta1/news 50\n",
      "https://data.alpaca.markets/v1beta1/news 50\n",
      "https://data.alpaca.markets/v1beta1/news 50\n",
      "https://data.alpaca.markets/v1beta1/news 50\n",
      "https://data.alpaca.markets/v1beta1/news 50\n",
      "https://data.alpaca.markets/v1beta1/news 50\n"
     ]
    },
    {
     "name": "stderr",
     "output_type": "stream",
     "text": [
      " 24%|██▍       | 36/150 [02:29<09:00,  4.74s/it]"
     ]
    },
    {
     "name": "stdout",
     "output_type": "stream",
     "text": [
      "https://data.alpaca.markets/v1beta1/news 28\n",
      "error2\n",
      "Number of news articles: 528\n",
      "Fetching news for date: 2017-01-12\n",
      "start and end news collection 2017-01-05 2017-01-11\n",
      "length of ticker list 503\n",
      "MSFT,AAPL,NVDA,GOOG,GOOGL,AMZN,META,BRK-B,LLY,AVGO,JPM,TSLA,V,WMT,XOM,UNH,MA,PG,COST,JNJ,ORCL,MRK,HD,BAC,CVX,NFLX,ABBV,AMD,KO,CRM,PEP,QCOM,TMO,ADBE,WFC,LIN,DHR,TMUS,ACN,CSCO,MCD,DIS,GE,AMAT,TXN,ABT,AXP,CAT,INTU,VZ,AMGN,PFE,MS,NEE,IBM,PM,NOW,CMCSA,BX,GS,ISRG,MU,UNP,RTX,NKE,COP,SPGI,ETN,UBER,SCHW,INTC,HON,BKNG,SYK,LRCX,T,LOW,C,ELV,PGR,UPS,VRTX,BLK,TJX,ADI,LMT,BSX,REGN,MDT,CB,BA,KLAC,DE,PANW,MMC,ADP,PLD,ANET,CI,ABNB,MDLZ,SNPS,SBUX,FI,AMT,CMG,SO,WM,BMY,HCA,GD,GILD,APH,CDNS,DUK,ICE,MO,ZTS,CME,SHW,CL,TT,TDG,MCO,FCX,MCK,EQIX,CEG,ITW,NXPI,EOG,CVS,CTAS,NOC,PH,MAR,TGT,ECL,BDX,SLB,CSX,EMR,PYPL,MRNA,USB,MPC,PNC,AON,FDX,MSI,PSX,WELL,CARR,RSG,APD,ROP,ORLY,PCAR,SPG,MNST,MMM,AJG,OXY,VLO,EW,MCHP,COF,CPRT,AIG,SMCI,MET,TFC,NSC,HLT,DXCM,GM,AFL,JCI,WMB,TRV,GEV,NEM,F,PCG,SRE,AZO,PSA,ROST,DHI,GWW,DLR,OKE,AEP,FTNT,HES,KDP,TEL,ADSK,STZ,O,URI,EL,PAYX,KMB,D,BK,A,AMP,COR,KHC,ALL,FIS,LEN,PRU,IDXX,CCI,LHX,KMI,HUM,IQV,PWR,NUE,DOW,AME,HSY,CNC,OTIS,CHTR,MSCI,CMI,ACGL,YUM,CTVA,GIS,KR,IR,RCL,LULU,FAST,ODFL,PEG,KVUE,EXC,MPWR,GEHC,SYY,EA,VRSK,NDAQ,MLM,VST,CSGP,XYL,HWM,FANG,VMC,FICO,IT,CTSH,DD,DAL,LVS,ED,BKR,LYB,HPQ,HAL,DG,BIIB,MTD,GRMN,EXR,RMD,ON,GLW,CDW,DFS,PPG,DVN,TSCO,ROK,HIG,WAB,ADM,XEL,EFX,FSLR,VICI,ANSS,EIX,AVB,EBAY,CBRE,FTV,DECK,TTWO,TROW,GPN,RJF,CHD,WTW,BRO,WEC,FITB,TRGP,DOV,VLTO,DLTR,KEYS,MTB,AWK,EQR,IFF,WDC,WST,PHM,ZBH,HPE,NTAP,BR,IRM,CAH,DTE,ETR,NVR,STT,STE,TER,APTV,FE,ROL,LYV,HUBB,WY,PTC,BF-B,AXON,BALL,TSN,PPL,INVH,STLD,TYL,BLDR,K,ARE,LDOS,WRB,ES,GPC,SBAC,CTRA,WAT,HBAN,CCL,STX,MOH,MKC,PFG,ALGN,HRL,VTR,CBOE,TDY,AEE,WBD,CNP,COO,CPAY,OMC,CINF,ULTA,CMS,AVY,NRG,EQT,DRI,J,DPZ,RF,SYF,BAX,ESS,HOLX,VRSN,NTRS,ENPH,EG,UAL,ATO,ILMN,TXT,LH,ZBRA,CE,EXPD,FDS,L,PKG,CLX,IEX,JBHT,CFG,LUV,MAA,IP,DGX,GEN,BBY,NWS,NWSA,MAS,FOX,FOXA,ALB,AES,SWKS,BG,UDR,EXPE,CAG,JBL,MRO,AMCR,AKAM,SNA,CF,WRK,RVTY,POOL,TRMB,WBA,PNR,KEY,NDSN,CPB,DOC,SWK,HST,INCY,LW,LNT,TECH,PODD,NI,MGM,KIM,AOS,VTRS,JKHY,EVRG,BEN,DVA,IPG,UHS,EMN,SJM,LKQ,TAP,JNPR,CRL,CPT,REG,KMX,APA,RL,BBWI,ALLE,WYNN,BXP,EPAM,SOLV,CHRW,HII,FFIV,MOS,CTLT,PAYC,TFX,TPR,QRVO,HSIC,AAL,GNRC,DAY,AIZ,PNW,HAS,PARA,MKTX,FRT,BIO,BWA,MTCH,FMC,GL,MHK,CZR,ETSY,IVZ,RHI,NCLH,CMA\n",
      "https://data.alpaca.markets/v1beta1/news 50\n",
      "https://data.alpaca.markets/v1beta1/news 50\n",
      "https://data.alpaca.markets/v1beta1/news 50\n",
      "https://data.alpaca.markets/v1beta1/news 50\n",
      "https://data.alpaca.markets/v1beta1/news 50\n",
      "https://data.alpaca.markets/v1beta1/news 50\n",
      "https://data.alpaca.markets/v1beta1/news 50\n",
      "https://data.alpaca.markets/v1beta1/news 50\n",
      "https://data.alpaca.markets/v1beta1/news 50\n",
      "https://data.alpaca.markets/v1beta1/news 50\n",
      "https://data.alpaca.markets/v1beta1/news 50\n"
     ]
    },
    {
     "name": "stderr",
     "output_type": "stream",
     "text": [
      " 25%|██▍       | 37/150 [02:33<08:19,  4.42s/it]"
     ]
    },
    {
     "name": "stdout",
     "output_type": "stream",
     "text": [
      "https://data.alpaca.markets/v1beta1/news 16\n",
      "error2\n",
      "Number of news articles: 566\n",
      "Fetching news for date: 2017-01-19\n",
      "start and end news collection 2017-01-12 2017-01-18\n",
      "length of ticker list 503\n",
      "MSFT,AAPL,NVDA,GOOG,GOOGL,AMZN,META,BRK-B,LLY,AVGO,JPM,TSLA,V,WMT,XOM,UNH,MA,PG,COST,JNJ,ORCL,MRK,HD,BAC,CVX,NFLX,ABBV,AMD,KO,CRM,PEP,QCOM,TMO,ADBE,WFC,LIN,DHR,TMUS,ACN,CSCO,MCD,DIS,GE,AMAT,TXN,ABT,AXP,CAT,INTU,VZ,AMGN,PFE,MS,NEE,IBM,PM,NOW,CMCSA,BX,GS,ISRG,MU,UNP,RTX,NKE,COP,SPGI,ETN,UBER,SCHW,INTC,HON,BKNG,SYK,LRCX,T,LOW,C,ELV,PGR,UPS,VRTX,BLK,TJX,ADI,LMT,BSX,REGN,MDT,CB,BA,KLAC,DE,PANW,MMC,ADP,PLD,ANET,CI,ABNB,MDLZ,SNPS,SBUX,FI,AMT,CMG,SO,WM,BMY,HCA,GD,GILD,APH,CDNS,DUK,ICE,MO,ZTS,CME,SHW,CL,TT,TDG,MCO,FCX,MCK,EQIX,CEG,ITW,NXPI,EOG,CVS,CTAS,NOC,PH,MAR,TGT,ECL,BDX,SLB,CSX,EMR,PYPL,MRNA,USB,MPC,PNC,AON,FDX,MSI,PSX,WELL,CARR,RSG,APD,ROP,ORLY,PCAR,SPG,MNST,MMM,AJG,OXY,VLO,EW,MCHP,COF,CPRT,AIG,SMCI,MET,TFC,NSC,HLT,DXCM,GM,AFL,JCI,WMB,TRV,GEV,NEM,F,PCG,SRE,AZO,PSA,ROST,DHI,GWW,DLR,OKE,AEP,FTNT,HES,KDP,TEL,ADSK,STZ,O,URI,EL,PAYX,KMB,D,BK,A,AMP,COR,KHC,ALL,FIS,LEN,PRU,IDXX,CCI,LHX,KMI,HUM,IQV,PWR,NUE,DOW,AME,HSY,CNC,OTIS,CHTR,MSCI,CMI,ACGL,YUM,CTVA,GIS,KR,IR,RCL,LULU,FAST,ODFL,PEG,KVUE,EXC,MPWR,GEHC,SYY,EA,VRSK,NDAQ,MLM,VST,CSGP,XYL,HWM,FANG,VMC,FICO,IT,CTSH,DD,DAL,LVS,ED,BKR,LYB,HPQ,HAL,DG,BIIB,MTD,GRMN,EXR,RMD,ON,GLW,CDW,DFS,PPG,DVN,TSCO,ROK,HIG,WAB,ADM,XEL,EFX,FSLR,VICI,ANSS,EIX,AVB,EBAY,CBRE,FTV,DECK,TTWO,TROW,GPN,RJF,CHD,WTW,BRO,WEC,FITB,TRGP,DOV,VLTO,DLTR,KEYS,MTB,AWK,EQR,IFF,WDC,WST,PHM,ZBH,HPE,NTAP,BR,IRM,CAH,DTE,ETR,NVR,STT,STE,TER,APTV,FE,ROL,LYV,HUBB,WY,PTC,BF-B,AXON,BALL,TSN,PPL,INVH,STLD,TYL,BLDR,K,ARE,LDOS,WRB,ES,GPC,SBAC,CTRA,WAT,HBAN,CCL,STX,MOH,MKC,PFG,ALGN,HRL,VTR,CBOE,TDY,AEE,WBD,CNP,COO,CPAY,OMC,CINF,ULTA,CMS,AVY,NRG,EQT,DRI,J,DPZ,RF,SYF,BAX,ESS,HOLX,VRSN,NTRS,ENPH,EG,UAL,ATO,ILMN,TXT,LH,ZBRA,CE,EXPD,FDS,L,PKG,CLX,IEX,JBHT,CFG,LUV,MAA,IP,DGX,GEN,BBY,NWS,NWSA,MAS,FOX,FOXA,ALB,AES,SWKS,BG,UDR,EXPE,CAG,JBL,MRO,AMCR,AKAM,SNA,CF,WRK,RVTY,POOL,TRMB,WBA,PNR,KEY,NDSN,CPB,DOC,SWK,HST,INCY,LW,LNT,TECH,PODD,NI,MGM,KIM,AOS,VTRS,JKHY,EVRG,BEN,DVA,IPG,UHS,EMN,SJM,LKQ,TAP,JNPR,CRL,CPT,REG,KMX,APA,RL,BBWI,ALLE,WYNN,BXP,EPAM,SOLV,CHRW,HII,FFIV,MOS,CTLT,PAYC,TFX,TPR,QRVO,HSIC,AAL,GNRC,DAY,AIZ,PNW,HAS,PARA,MKTX,FRT,BIO,BWA,MTCH,FMC,GL,MHK,CZR,ETSY,IVZ,RHI,NCLH,CMA\n",
      "https://data.alpaca.markets/v1beta1/news 50\n",
      "https://data.alpaca.markets/v1beta1/news 50\n",
      "https://data.alpaca.markets/v1beta1/news 50\n",
      "https://data.alpaca.markets/v1beta1/news 50\n",
      "https://data.alpaca.markets/v1beta1/news 50\n",
      "https://data.alpaca.markets/v1beta1/news 50\n",
      "https://data.alpaca.markets/v1beta1/news 50\n"
     ]
    },
    {
     "name": "stderr",
     "output_type": "stream",
     "text": [
      " 25%|██▌       | 38/150 [02:35<07:10,  3.84s/it]"
     ]
    },
    {
     "name": "stdout",
     "output_type": "stream",
     "text": [
      "https://data.alpaca.markets/v1beta1/news 49\n",
      "error2\n",
      "Number of news articles: 399\n",
      "Fetching news for date: 2017-02-02\n",
      "start and end news collection 2017-01-26 2017-02-01\n",
      "length of ticker list 503\n",
      "MSFT,AAPL,NVDA,GOOG,GOOGL,AMZN,META,BRK-B,LLY,AVGO,JPM,TSLA,V,WMT,XOM,UNH,MA,PG,COST,JNJ,ORCL,MRK,HD,BAC,CVX,NFLX,ABBV,AMD,KO,CRM,PEP,QCOM,TMO,ADBE,WFC,LIN,DHR,TMUS,ACN,CSCO,MCD,DIS,GE,AMAT,TXN,ABT,AXP,CAT,INTU,VZ,AMGN,PFE,MS,NEE,IBM,PM,NOW,CMCSA,BX,GS,ISRG,MU,UNP,RTX,NKE,COP,SPGI,ETN,UBER,SCHW,INTC,HON,BKNG,SYK,LRCX,T,LOW,C,ELV,PGR,UPS,VRTX,BLK,TJX,ADI,LMT,BSX,REGN,MDT,CB,BA,KLAC,DE,PANW,MMC,ADP,PLD,ANET,CI,ABNB,MDLZ,SNPS,SBUX,FI,AMT,CMG,SO,WM,BMY,HCA,GD,GILD,APH,CDNS,DUK,ICE,MO,ZTS,CME,SHW,CL,TT,TDG,MCO,FCX,MCK,EQIX,CEG,ITW,NXPI,EOG,CVS,CTAS,NOC,PH,MAR,TGT,ECL,BDX,SLB,CSX,EMR,PYPL,MRNA,USB,MPC,PNC,AON,FDX,MSI,PSX,WELL,CARR,RSG,APD,ROP,ORLY,PCAR,SPG,MNST,MMM,AJG,OXY,VLO,EW,MCHP,COF,CPRT,AIG,SMCI,MET,TFC,NSC,HLT,DXCM,GM,AFL,JCI,WMB,TRV,GEV,NEM,F,PCG,SRE,AZO,PSA,ROST,DHI,GWW,DLR,OKE,AEP,FTNT,HES,KDP,TEL,ADSK,STZ,O,URI,EL,PAYX,KMB,D,BK,A,AMP,COR,KHC,ALL,FIS,LEN,PRU,IDXX,CCI,LHX,KMI,HUM,IQV,PWR,NUE,DOW,AME,HSY,CNC,OTIS,CHTR,MSCI,CMI,ACGL,YUM,CTVA,GIS,KR,IR,RCL,LULU,FAST,ODFL,PEG,KVUE,EXC,MPWR,GEHC,SYY,EA,VRSK,NDAQ,MLM,VST,CSGP,XYL,HWM,FANG,VMC,FICO,IT,CTSH,DD,DAL,LVS,ED,BKR,LYB,HPQ,HAL,DG,BIIB,MTD,GRMN,EXR,RMD,ON,GLW,CDW,DFS,PPG,DVN,TSCO,ROK,HIG,WAB,ADM,XEL,EFX,FSLR,VICI,ANSS,EIX,AVB,EBAY,CBRE,FTV,DECK,TTWO,TROW,GPN,RJF,CHD,WTW,BRO,WEC,FITB,TRGP,DOV,VLTO,DLTR,KEYS,MTB,AWK,EQR,IFF,WDC,WST,PHM,ZBH,HPE,NTAP,BR,IRM,CAH,DTE,ETR,NVR,STT,STE,TER,APTV,FE,ROL,LYV,HUBB,WY,PTC,BF-B,AXON,BALL,TSN,PPL,INVH,STLD,TYL,BLDR,K,ARE,LDOS,WRB,ES,GPC,SBAC,CTRA,WAT,HBAN,CCL,STX,MOH,MKC,PFG,ALGN,HRL,VTR,CBOE,TDY,AEE,WBD,CNP,COO,CPAY,OMC,CINF,ULTA,CMS,AVY,NRG,EQT,DRI,J,DPZ,RF,SYF,BAX,ESS,HOLX,VRSN,NTRS,ENPH,EG,UAL,ATO,ILMN,TXT,LH,ZBRA,CE,EXPD,FDS,L,PKG,CLX,IEX,JBHT,CFG,LUV,MAA,IP,DGX,GEN,BBY,NWS,NWSA,MAS,FOX,FOXA,ALB,AES,SWKS,BG,UDR,EXPE,CAG,JBL,MRO,AMCR,AKAM,SNA,CF,WRK,RVTY,POOL,TRMB,WBA,PNR,KEY,NDSN,CPB,DOC,SWK,HST,INCY,LW,LNT,TECH,PODD,NI,MGM,KIM,AOS,VTRS,JKHY,EVRG,BEN,DVA,IPG,UHS,EMN,SJM,LKQ,TAP,JNPR,CRL,CPT,REG,KMX,APA,RL,BBWI,ALLE,WYNN,BXP,EPAM,SOLV,CHRW,HII,FFIV,MOS,CTLT,PAYC,TFX,TPR,QRVO,HSIC,AAL,GNRC,DAY,AIZ,PNW,HAS,PARA,MKTX,FRT,BIO,BWA,MTCH,FMC,GL,MHK,CZR,ETSY,IVZ,RHI,NCLH,CMA\n",
      "https://data.alpaca.markets/v1beta1/news 50\n",
      "https://data.alpaca.markets/v1beta1/news 50\n",
      "https://data.alpaca.markets/v1beta1/news 50\n",
      "https://data.alpaca.markets/v1beta1/news 50\n",
      "https://data.alpaca.markets/v1beta1/news 50\n",
      "https://data.alpaca.markets/v1beta1/news 50\n",
      "https://data.alpaca.markets/v1beta1/news 50\n",
      "https://data.alpaca.markets/v1beta1/news 50\n",
      "https://data.alpaca.markets/v1beta1/news 50\n",
      "https://data.alpaca.markets/v1beta1/news 50\n",
      "https://data.alpaca.markets/v1beta1/news 50\n",
      "https://data.alpaca.markets/v1beta1/news 50\n"
     ]
    },
    {
     "name": "stderr",
     "output_type": "stream",
     "text": [
      " 26%|██▌       | 39/150 [02:39<07:20,  3.97s/it]"
     ]
    },
    {
     "name": "stdout",
     "output_type": "stream",
     "text": [
      "https://data.alpaca.markets/v1beta1/news 35\n",
      "error2\n",
      "Number of news articles: 635\n",
      "Fetching news for date: 2017-04-03\n",
      "start and end news collection 2017-03-27 2017-04-02\n",
      "length of ticker list 503\n",
      "MSFT,AAPL,NVDA,GOOG,GOOGL,AMZN,META,BRK-B,LLY,AVGO,JPM,TSLA,V,WMT,XOM,UNH,MA,PG,COST,JNJ,ORCL,MRK,HD,BAC,CVX,NFLX,ABBV,AMD,KO,CRM,PEP,QCOM,TMO,ADBE,WFC,LIN,DHR,TMUS,ACN,CSCO,MCD,DIS,GE,AMAT,TXN,ABT,AXP,CAT,INTU,VZ,AMGN,PFE,MS,NEE,IBM,PM,NOW,CMCSA,BX,GS,ISRG,MU,UNP,RTX,NKE,COP,SPGI,ETN,UBER,SCHW,INTC,HON,BKNG,SYK,LRCX,T,LOW,C,ELV,PGR,UPS,VRTX,BLK,TJX,ADI,LMT,BSX,REGN,MDT,CB,BA,KLAC,DE,PANW,MMC,ADP,PLD,ANET,CI,ABNB,MDLZ,SNPS,SBUX,FI,AMT,CMG,SO,WM,BMY,HCA,GD,GILD,APH,CDNS,DUK,ICE,MO,ZTS,CME,SHW,CL,TT,TDG,MCO,FCX,MCK,EQIX,CEG,ITW,NXPI,EOG,CVS,CTAS,NOC,PH,MAR,TGT,ECL,BDX,SLB,CSX,EMR,PYPL,MRNA,USB,MPC,PNC,AON,FDX,MSI,PSX,WELL,CARR,RSG,APD,ROP,ORLY,PCAR,SPG,MNST,MMM,AJG,OXY,VLO,EW,MCHP,COF,CPRT,AIG,SMCI,MET,TFC,NSC,HLT,DXCM,GM,AFL,JCI,WMB,TRV,GEV,NEM,F,PCG,SRE,AZO,PSA,ROST,DHI,GWW,DLR,OKE,AEP,FTNT,HES,KDP,TEL,ADSK,STZ,O,URI,EL,PAYX,KMB,D,BK,A,AMP,COR,KHC,ALL,FIS,LEN,PRU,IDXX,CCI,LHX,KMI,HUM,IQV,PWR,NUE,DOW,AME,HSY,CNC,OTIS,CHTR,MSCI,CMI,ACGL,YUM,CTVA,GIS,KR,IR,RCL,LULU,FAST,ODFL,PEG,KVUE,EXC,MPWR,GEHC,SYY,EA,VRSK,NDAQ,MLM,VST,CSGP,XYL,HWM,FANG,VMC,FICO,IT,CTSH,DD,DAL,LVS,ED,BKR,LYB,HPQ,HAL,DG,BIIB,MTD,GRMN,EXR,RMD,ON,GLW,CDW,DFS,PPG,DVN,TSCO,ROK,HIG,WAB,ADM,XEL,EFX,FSLR,VICI,ANSS,EIX,AVB,EBAY,CBRE,FTV,DECK,TTWO,TROW,GPN,RJF,CHD,WTW,BRO,WEC,FITB,TRGP,DOV,VLTO,DLTR,KEYS,MTB,AWK,EQR,IFF,WDC,WST,PHM,ZBH,HPE,NTAP,BR,IRM,CAH,DTE,ETR,NVR,STT,STE,TER,APTV,FE,ROL,LYV,HUBB,WY,PTC,BF-B,AXON,BALL,TSN,PPL,INVH,STLD,TYL,BLDR,K,ARE,LDOS,WRB,ES,GPC,SBAC,CTRA,WAT,HBAN,CCL,STX,MOH,MKC,PFG,ALGN,HRL,VTR,CBOE,TDY,AEE,WBD,CNP,COO,CPAY,OMC,CINF,ULTA,CMS,AVY,NRG,EQT,DRI,J,DPZ,RF,SYF,BAX,ESS,HOLX,VRSN,NTRS,ENPH,EG,UAL,ATO,ILMN,TXT,LH,ZBRA,CE,EXPD,FDS,L,PKG,CLX,IEX,JBHT,CFG,LUV,MAA,IP,DGX,GEN,BBY,NWS,NWSA,MAS,FOX,FOXA,ALB,AES,SWKS,BG,UDR,EXPE,CAG,JBL,MRO,AMCR,AKAM,SNA,CF,WRK,RVTY,POOL,TRMB,WBA,PNR,KEY,NDSN,CPB,DOC,SWK,HST,INCY,LW,LNT,TECH,PODD,NI,MGM,KIM,AOS,VTRS,JKHY,EVRG,BEN,DVA,IPG,UHS,EMN,SJM,LKQ,TAP,JNPR,CRL,CPT,REG,KMX,APA,RL,BBWI,ALLE,WYNN,BXP,EPAM,SOLV,CHRW,HII,FFIV,MOS,CTLT,PAYC,TFX,TPR,QRVO,HSIC,AAL,GNRC,DAY,AIZ,PNW,HAS,PARA,MKTX,FRT,BIO,BWA,MTCH,FMC,GL,MHK,CZR,ETSY,IVZ,RHI,NCLH,CMA\n",
      "https://data.alpaca.markets/v1beta1/news 50\n",
      "https://data.alpaca.markets/v1beta1/news 50\n",
      "https://data.alpaca.markets/v1beta1/news 50\n",
      "https://data.alpaca.markets/v1beta1/news 50\n",
      "https://data.alpaca.markets/v1beta1/news 50\n",
      "https://data.alpaca.markets/v1beta1/news 50\n",
      "https://data.alpaca.markets/v1beta1/news 50\n",
      "https://data.alpaca.markets/v1beta1/news 50\n",
      "https://data.alpaca.markets/v1beta1/news 50\n",
      "https://data.alpaca.markets/v1beta1/news 50\n"
     ]
    },
    {
     "name": "stderr",
     "output_type": "stream",
     "text": [
      " 27%|██▋       | 40/150 [02:43<07:01,  3.84s/it]"
     ]
    },
    {
     "name": "stdout",
     "output_type": "stream",
     "text": [
      "https://data.alpaca.markets/v1beta1/news 24\n",
      "error2\n",
      "Number of news articles: 524\n",
      "Fetching news for date: 2017-04-10\n",
      "start and end news collection 2017-04-03 2017-04-09\n",
      "length of ticker list 503\n",
      "MSFT,AAPL,NVDA,GOOG,GOOGL,AMZN,META,BRK-B,LLY,AVGO,JPM,TSLA,V,WMT,XOM,UNH,MA,PG,COST,JNJ,ORCL,MRK,HD,BAC,CVX,NFLX,ABBV,AMD,KO,CRM,PEP,QCOM,TMO,ADBE,WFC,LIN,DHR,TMUS,ACN,CSCO,MCD,DIS,GE,AMAT,TXN,ABT,AXP,CAT,INTU,VZ,AMGN,PFE,MS,NEE,IBM,PM,NOW,CMCSA,BX,GS,ISRG,MU,UNP,RTX,NKE,COP,SPGI,ETN,UBER,SCHW,INTC,HON,BKNG,SYK,LRCX,T,LOW,C,ELV,PGR,UPS,VRTX,BLK,TJX,ADI,LMT,BSX,REGN,MDT,CB,BA,KLAC,DE,PANW,MMC,ADP,PLD,ANET,CI,ABNB,MDLZ,SNPS,SBUX,FI,AMT,CMG,SO,WM,BMY,HCA,GD,GILD,APH,CDNS,DUK,ICE,MO,ZTS,CME,SHW,CL,TT,TDG,MCO,FCX,MCK,EQIX,CEG,ITW,NXPI,EOG,CVS,CTAS,NOC,PH,MAR,TGT,ECL,BDX,SLB,CSX,EMR,PYPL,MRNA,USB,MPC,PNC,AON,FDX,MSI,PSX,WELL,CARR,RSG,APD,ROP,ORLY,PCAR,SPG,MNST,MMM,AJG,OXY,VLO,EW,MCHP,COF,CPRT,AIG,SMCI,MET,TFC,NSC,HLT,DXCM,GM,AFL,JCI,WMB,TRV,GEV,NEM,F,PCG,SRE,AZO,PSA,ROST,DHI,GWW,DLR,OKE,AEP,FTNT,HES,KDP,TEL,ADSK,STZ,O,URI,EL,PAYX,KMB,D,BK,A,AMP,COR,KHC,ALL,FIS,LEN,PRU,IDXX,CCI,LHX,KMI,HUM,IQV,PWR,NUE,DOW,AME,HSY,CNC,OTIS,CHTR,MSCI,CMI,ACGL,YUM,CTVA,GIS,KR,IR,RCL,LULU,FAST,ODFL,PEG,KVUE,EXC,MPWR,GEHC,SYY,EA,VRSK,NDAQ,MLM,VST,CSGP,XYL,HWM,FANG,VMC,FICO,IT,CTSH,DD,DAL,LVS,ED,BKR,LYB,HPQ,HAL,DG,BIIB,MTD,GRMN,EXR,RMD,ON,GLW,CDW,DFS,PPG,DVN,TSCO,ROK,HIG,WAB,ADM,XEL,EFX,FSLR,VICI,ANSS,EIX,AVB,EBAY,CBRE,FTV,DECK,TTWO,TROW,GPN,RJF,CHD,WTW,BRO,WEC,FITB,TRGP,DOV,VLTO,DLTR,KEYS,MTB,AWK,EQR,IFF,WDC,WST,PHM,ZBH,HPE,NTAP,BR,IRM,CAH,DTE,ETR,NVR,STT,STE,TER,APTV,FE,ROL,LYV,HUBB,WY,PTC,BF-B,AXON,BALL,TSN,PPL,INVH,STLD,TYL,BLDR,K,ARE,LDOS,WRB,ES,GPC,SBAC,CTRA,WAT,HBAN,CCL,STX,MOH,MKC,PFG,ALGN,HRL,VTR,CBOE,TDY,AEE,WBD,CNP,COO,CPAY,OMC,CINF,ULTA,CMS,AVY,NRG,EQT,DRI,J,DPZ,RF,SYF,BAX,ESS,HOLX,VRSN,NTRS,ENPH,EG,UAL,ATO,ILMN,TXT,LH,ZBRA,CE,EXPD,FDS,L,PKG,CLX,IEX,JBHT,CFG,LUV,MAA,IP,DGX,GEN,BBY,NWS,NWSA,MAS,FOX,FOXA,ALB,AES,SWKS,BG,UDR,EXPE,CAG,JBL,MRO,AMCR,AKAM,SNA,CF,WRK,RVTY,POOL,TRMB,WBA,PNR,KEY,NDSN,CPB,DOC,SWK,HST,INCY,LW,LNT,TECH,PODD,NI,MGM,KIM,AOS,VTRS,JKHY,EVRG,BEN,DVA,IPG,UHS,EMN,SJM,LKQ,TAP,JNPR,CRL,CPT,REG,KMX,APA,RL,BBWI,ALLE,WYNN,BXP,EPAM,SOLV,CHRW,HII,FFIV,MOS,CTLT,PAYC,TFX,TPR,QRVO,HSIC,AAL,GNRC,DAY,AIZ,PNW,HAS,PARA,MKTX,FRT,BIO,BWA,MTCH,FMC,GL,MHK,CZR,ETSY,IVZ,RHI,NCLH,CMA\n",
      "https://data.alpaca.markets/v1beta1/news 50\n",
      "https://data.alpaca.markets/v1beta1/news 50\n",
      "https://data.alpaca.markets/v1beta1/news 50\n",
      "https://data.alpaca.markets/v1beta1/news 50\n",
      "https://data.alpaca.markets/v1beta1/news 50\n",
      "https://data.alpaca.markets/v1beta1/news 50\n",
      "https://data.alpaca.markets/v1beta1/news 50\n",
      "https://data.alpaca.markets/v1beta1/news 50\n",
      "https://data.alpaca.markets/v1beta1/news 50\n",
      "https://data.alpaca.markets/v1beta1/news 50\n"
     ]
    },
    {
     "name": "stderr",
     "output_type": "stream",
     "text": [
      " 27%|██▋       | 41/150 [02:46<06:43,  3.70s/it]"
     ]
    },
    {
     "name": "stdout",
     "output_type": "stream",
     "text": [
      "https://data.alpaca.markets/v1beta1/news 8\n",
      "error2\n",
      "Number of news articles: 508\n",
      "Fetching news for date: 2017-05-01\n",
      "start and end news collection 2017-04-24 2017-04-30\n",
      "length of ticker list 503\n",
      "MSFT,AAPL,NVDA,GOOG,GOOGL,AMZN,META,BRK-B,LLY,AVGO,JPM,TSLA,V,WMT,XOM,UNH,MA,PG,COST,JNJ,ORCL,MRK,HD,BAC,CVX,NFLX,ABBV,AMD,KO,CRM,PEP,QCOM,TMO,ADBE,WFC,LIN,DHR,TMUS,ACN,CSCO,MCD,DIS,GE,AMAT,TXN,ABT,AXP,CAT,INTU,VZ,AMGN,PFE,MS,NEE,IBM,PM,NOW,CMCSA,BX,GS,ISRG,MU,UNP,RTX,NKE,COP,SPGI,ETN,UBER,SCHW,INTC,HON,BKNG,SYK,LRCX,T,LOW,C,ELV,PGR,UPS,VRTX,BLK,TJX,ADI,LMT,BSX,REGN,MDT,CB,BA,KLAC,DE,PANW,MMC,ADP,PLD,ANET,CI,ABNB,MDLZ,SNPS,SBUX,FI,AMT,CMG,SO,WM,BMY,HCA,GD,GILD,APH,CDNS,DUK,ICE,MO,ZTS,CME,SHW,CL,TT,TDG,MCO,FCX,MCK,EQIX,CEG,ITW,NXPI,EOG,CVS,CTAS,NOC,PH,MAR,TGT,ECL,BDX,SLB,CSX,EMR,PYPL,MRNA,USB,MPC,PNC,AON,FDX,MSI,PSX,WELL,CARR,RSG,APD,ROP,ORLY,PCAR,SPG,MNST,MMM,AJG,OXY,VLO,EW,MCHP,COF,CPRT,AIG,SMCI,MET,TFC,NSC,HLT,DXCM,GM,AFL,JCI,WMB,TRV,GEV,NEM,F,PCG,SRE,AZO,PSA,ROST,DHI,GWW,DLR,OKE,AEP,FTNT,HES,KDP,TEL,ADSK,STZ,O,URI,EL,PAYX,KMB,D,BK,A,AMP,COR,KHC,ALL,FIS,LEN,PRU,IDXX,CCI,LHX,KMI,HUM,IQV,PWR,NUE,DOW,AME,HSY,CNC,OTIS,CHTR,MSCI,CMI,ACGL,YUM,CTVA,GIS,KR,IR,RCL,LULU,FAST,ODFL,PEG,KVUE,EXC,MPWR,GEHC,SYY,EA,VRSK,NDAQ,MLM,VST,CSGP,XYL,HWM,FANG,VMC,FICO,IT,CTSH,DD,DAL,LVS,ED,BKR,LYB,HPQ,HAL,DG,BIIB,MTD,GRMN,EXR,RMD,ON,GLW,CDW,DFS,PPG,DVN,TSCO,ROK,HIG,WAB,ADM,XEL,EFX,FSLR,VICI,ANSS,EIX,AVB,EBAY,CBRE,FTV,DECK,TTWO,TROW,GPN,RJF,CHD,WTW,BRO,WEC,FITB,TRGP,DOV,VLTO,DLTR,KEYS,MTB,AWK,EQR,IFF,WDC,WST,PHM,ZBH,HPE,NTAP,BR,IRM,CAH,DTE,ETR,NVR,STT,STE,TER,APTV,FE,ROL,LYV,HUBB,WY,PTC,BF-B,AXON,BALL,TSN,PPL,INVH,STLD,TYL,BLDR,K,ARE,LDOS,WRB,ES,GPC,SBAC,CTRA,WAT,HBAN,CCL,STX,MOH,MKC,PFG,ALGN,HRL,VTR,CBOE,TDY,AEE,WBD,CNP,COO,CPAY,OMC,CINF,ULTA,CMS,AVY,NRG,EQT,DRI,J,DPZ,RF,SYF,BAX,ESS,HOLX,VRSN,NTRS,ENPH,EG,UAL,ATO,ILMN,TXT,LH,ZBRA,CE,EXPD,FDS,L,PKG,CLX,IEX,JBHT,CFG,LUV,MAA,IP,DGX,GEN,BBY,NWS,NWSA,MAS,FOX,FOXA,ALB,AES,SWKS,BG,UDR,EXPE,CAG,JBL,MRO,AMCR,AKAM,SNA,CF,WRK,RVTY,POOL,TRMB,WBA,PNR,KEY,NDSN,CPB,DOC,SWK,HST,INCY,LW,LNT,TECH,PODD,NI,MGM,KIM,AOS,VTRS,JKHY,EVRG,BEN,DVA,IPG,UHS,EMN,SJM,LKQ,TAP,JNPR,CRL,CPT,REG,KMX,APA,RL,BBWI,ALLE,WYNN,BXP,EPAM,SOLV,CHRW,HII,FFIV,MOS,CTLT,PAYC,TFX,TPR,QRVO,HSIC,AAL,GNRC,DAY,AIZ,PNW,HAS,PARA,MKTX,FRT,BIO,BWA,MTCH,FMC,GL,MHK,CZR,ETSY,IVZ,RHI,NCLH,CMA\n",
      "https://data.alpaca.markets/v1beta1/news 50\n",
      "https://data.alpaca.markets/v1beta1/news 50\n",
      "https://data.alpaca.markets/v1beta1/news 50\n",
      "https://data.alpaca.markets/v1beta1/news 50\n",
      "https://data.alpaca.markets/v1beta1/news 50\n",
      "https://data.alpaca.markets/v1beta1/news 50\n",
      "https://data.alpaca.markets/v1beta1/news 50\n",
      "https://data.alpaca.markets/v1beta1/news 50\n",
      "https://data.alpaca.markets/v1beta1/news 50\n",
      "https://data.alpaca.markets/v1beta1/news 50\n",
      "https://data.alpaca.markets/v1beta1/news 50\n",
      "https://data.alpaca.markets/v1beta1/news 50\n",
      "https://data.alpaca.markets/v1beta1/news 50\n",
      "https://data.alpaca.markets/v1beta1/news 50\n",
      "https://data.alpaca.markets/v1beta1/news 50\n"
     ]
    },
    {
     "name": "stderr",
     "output_type": "stream",
     "text": [
      " 28%|██▊       | 42/150 [02:51<07:28,  4.15s/it]"
     ]
    },
    {
     "name": "stdout",
     "output_type": "stream",
     "text": [
      "https://data.alpaca.markets/v1beta1/news 30\n",
      "error2\n",
      "Number of news articles: 780\n",
      "Fetching news for date: 2017-06-28\n",
      "start and end news collection 2017-06-21 2017-06-27\n",
      "length of ticker list 503\n",
      "MSFT,AAPL,NVDA,GOOG,GOOGL,AMZN,META,BRK-B,LLY,AVGO,JPM,TSLA,V,WMT,XOM,UNH,MA,PG,COST,JNJ,ORCL,MRK,HD,BAC,CVX,NFLX,ABBV,AMD,KO,CRM,PEP,QCOM,TMO,ADBE,WFC,LIN,DHR,TMUS,ACN,CSCO,MCD,DIS,GE,AMAT,TXN,ABT,AXP,CAT,INTU,VZ,AMGN,PFE,MS,NEE,IBM,PM,NOW,CMCSA,BX,GS,ISRG,MU,UNP,RTX,NKE,COP,SPGI,ETN,UBER,SCHW,INTC,HON,BKNG,SYK,LRCX,T,LOW,C,ELV,PGR,UPS,VRTX,BLK,TJX,ADI,LMT,BSX,REGN,MDT,CB,BA,KLAC,DE,PANW,MMC,ADP,PLD,ANET,CI,ABNB,MDLZ,SNPS,SBUX,FI,AMT,CMG,SO,WM,BMY,HCA,GD,GILD,APH,CDNS,DUK,ICE,MO,ZTS,CME,SHW,CL,TT,TDG,MCO,FCX,MCK,EQIX,CEG,ITW,NXPI,EOG,CVS,CTAS,NOC,PH,MAR,TGT,ECL,BDX,SLB,CSX,EMR,PYPL,MRNA,USB,MPC,PNC,AON,FDX,MSI,PSX,WELL,CARR,RSG,APD,ROP,ORLY,PCAR,SPG,MNST,MMM,AJG,OXY,VLO,EW,MCHP,COF,CPRT,AIG,SMCI,MET,TFC,NSC,HLT,DXCM,GM,AFL,JCI,WMB,TRV,GEV,NEM,F,PCG,SRE,AZO,PSA,ROST,DHI,GWW,DLR,OKE,AEP,FTNT,HES,KDP,TEL,ADSK,STZ,O,URI,EL,PAYX,KMB,D,BK,A,AMP,COR,KHC,ALL,FIS,LEN,PRU,IDXX,CCI,LHX,KMI,HUM,IQV,PWR,NUE,DOW,AME,HSY,CNC,OTIS,CHTR,MSCI,CMI,ACGL,YUM,CTVA,GIS,KR,IR,RCL,LULU,FAST,ODFL,PEG,KVUE,EXC,MPWR,GEHC,SYY,EA,VRSK,NDAQ,MLM,VST,CSGP,XYL,HWM,FANG,VMC,FICO,IT,CTSH,DD,DAL,LVS,ED,BKR,LYB,HPQ,HAL,DG,BIIB,MTD,GRMN,EXR,RMD,ON,GLW,CDW,DFS,PPG,DVN,TSCO,ROK,HIG,WAB,ADM,XEL,EFX,FSLR,VICI,ANSS,EIX,AVB,EBAY,CBRE,FTV,DECK,TTWO,TROW,GPN,RJF,CHD,WTW,BRO,WEC,FITB,TRGP,DOV,VLTO,DLTR,KEYS,MTB,AWK,EQR,IFF,WDC,WST,PHM,ZBH,HPE,NTAP,BR,IRM,CAH,DTE,ETR,NVR,STT,STE,TER,APTV,FE,ROL,LYV,HUBB,WY,PTC,BF-B,AXON,BALL,TSN,PPL,INVH,STLD,TYL,BLDR,K,ARE,LDOS,WRB,ES,GPC,SBAC,CTRA,WAT,HBAN,CCL,STX,MOH,MKC,PFG,ALGN,HRL,VTR,CBOE,TDY,AEE,WBD,CNP,COO,CPAY,OMC,CINF,ULTA,CMS,AVY,NRG,EQT,DRI,J,DPZ,RF,SYF,BAX,ESS,HOLX,VRSN,NTRS,ENPH,EG,UAL,ATO,ILMN,TXT,LH,ZBRA,CE,EXPD,FDS,L,PKG,CLX,IEX,JBHT,CFG,LUV,MAA,IP,DGX,GEN,BBY,NWS,NWSA,MAS,FOX,FOXA,ALB,AES,SWKS,BG,UDR,EXPE,CAG,JBL,MRO,AMCR,AKAM,SNA,CF,WRK,RVTY,POOL,TRMB,WBA,PNR,KEY,NDSN,CPB,DOC,SWK,HST,INCY,LW,LNT,TECH,PODD,NI,MGM,KIM,AOS,VTRS,JKHY,EVRG,BEN,DVA,IPG,UHS,EMN,SJM,LKQ,TAP,JNPR,CRL,CPT,REG,KMX,APA,RL,BBWI,ALLE,WYNN,BXP,EPAM,SOLV,CHRW,HII,FFIV,MOS,CTLT,PAYC,TFX,TPR,QRVO,HSIC,AAL,GNRC,DAY,AIZ,PNW,HAS,PARA,MKTX,FRT,BIO,BWA,MTCH,FMC,GL,MHK,CZR,ETSY,IVZ,RHI,NCLH,CMA\n",
      "https://data.alpaca.markets/v1beta1/news 50\n",
      "https://data.alpaca.markets/v1beta1/news 50\n",
      "https://data.alpaca.markets/v1beta1/news 50\n",
      "https://data.alpaca.markets/v1beta1/news 50\n",
      "https://data.alpaca.markets/v1beta1/news 50\n",
      "https://data.alpaca.markets/v1beta1/news 50\n",
      "https://data.alpaca.markets/v1beta1/news 50\n",
      "https://data.alpaca.markets/v1beta1/news 50\n",
      "https://data.alpaca.markets/v1beta1/news 50\n",
      "https://data.alpaca.markets/v1beta1/news 50\n",
      "https://data.alpaca.markets/v1beta1/news 50\n",
      "https://data.alpaca.markets/v1beta1/news 50\n"
     ]
    },
    {
     "name": "stderr",
     "output_type": "stream",
     "text": [
      " 29%|██▊       | 43/150 [02:56<07:22,  4.13s/it]"
     ]
    },
    {
     "name": "stdout",
     "output_type": "stream",
     "text": [
      "https://data.alpaca.markets/v1beta1/news 16\n",
      "error2\n",
      "Number of news articles: 616\n",
      "Fetching news for date: 2017-07-13\n",
      "start and end news collection 2017-07-06 2017-07-12\n",
      "length of ticker list 503\n",
      "MSFT,AAPL,NVDA,GOOG,GOOGL,AMZN,META,BRK-B,LLY,AVGO,JPM,TSLA,V,WMT,XOM,UNH,MA,PG,COST,JNJ,ORCL,MRK,HD,BAC,CVX,NFLX,ABBV,AMD,KO,CRM,PEP,QCOM,TMO,ADBE,WFC,LIN,DHR,TMUS,ACN,CSCO,MCD,DIS,GE,AMAT,TXN,ABT,AXP,CAT,INTU,VZ,AMGN,PFE,MS,NEE,IBM,PM,NOW,CMCSA,BX,GS,ISRG,MU,UNP,RTX,NKE,COP,SPGI,ETN,UBER,SCHW,INTC,HON,BKNG,SYK,LRCX,T,LOW,C,ELV,PGR,UPS,VRTX,BLK,TJX,ADI,LMT,BSX,REGN,MDT,CB,BA,KLAC,DE,PANW,MMC,ADP,PLD,ANET,CI,ABNB,MDLZ,SNPS,SBUX,FI,AMT,CMG,SO,WM,BMY,HCA,GD,GILD,APH,CDNS,DUK,ICE,MO,ZTS,CME,SHW,CL,TT,TDG,MCO,FCX,MCK,EQIX,CEG,ITW,NXPI,EOG,CVS,CTAS,NOC,PH,MAR,TGT,ECL,BDX,SLB,CSX,EMR,PYPL,MRNA,USB,MPC,PNC,AON,FDX,MSI,PSX,WELL,CARR,RSG,APD,ROP,ORLY,PCAR,SPG,MNST,MMM,AJG,OXY,VLO,EW,MCHP,COF,CPRT,AIG,SMCI,MET,TFC,NSC,HLT,DXCM,GM,AFL,JCI,WMB,TRV,GEV,NEM,F,PCG,SRE,AZO,PSA,ROST,DHI,GWW,DLR,OKE,AEP,FTNT,HES,KDP,TEL,ADSK,STZ,O,URI,EL,PAYX,KMB,D,BK,A,AMP,COR,KHC,ALL,FIS,LEN,PRU,IDXX,CCI,LHX,KMI,HUM,IQV,PWR,NUE,DOW,AME,HSY,CNC,OTIS,CHTR,MSCI,CMI,ACGL,YUM,CTVA,GIS,KR,IR,RCL,LULU,FAST,ODFL,PEG,KVUE,EXC,MPWR,GEHC,SYY,EA,VRSK,NDAQ,MLM,VST,CSGP,XYL,HWM,FANG,VMC,FICO,IT,CTSH,DD,DAL,LVS,ED,BKR,LYB,HPQ,HAL,DG,BIIB,MTD,GRMN,EXR,RMD,ON,GLW,CDW,DFS,PPG,DVN,TSCO,ROK,HIG,WAB,ADM,XEL,EFX,FSLR,VICI,ANSS,EIX,AVB,EBAY,CBRE,FTV,DECK,TTWO,TROW,GPN,RJF,CHD,WTW,BRO,WEC,FITB,TRGP,DOV,VLTO,DLTR,KEYS,MTB,AWK,EQR,IFF,WDC,WST,PHM,ZBH,HPE,NTAP,BR,IRM,CAH,DTE,ETR,NVR,STT,STE,TER,APTV,FE,ROL,LYV,HUBB,WY,PTC,BF-B,AXON,BALL,TSN,PPL,INVH,STLD,TYL,BLDR,K,ARE,LDOS,WRB,ES,GPC,SBAC,CTRA,WAT,HBAN,CCL,STX,MOH,MKC,PFG,ALGN,HRL,VTR,CBOE,TDY,AEE,WBD,CNP,COO,CPAY,OMC,CINF,ULTA,CMS,AVY,NRG,EQT,DRI,J,DPZ,RF,SYF,BAX,ESS,HOLX,VRSN,NTRS,ENPH,EG,UAL,ATO,ILMN,TXT,LH,ZBRA,CE,EXPD,FDS,L,PKG,CLX,IEX,JBHT,CFG,LUV,MAA,IP,DGX,GEN,BBY,NWS,NWSA,MAS,FOX,FOXA,ALB,AES,SWKS,BG,UDR,EXPE,CAG,JBL,MRO,AMCR,AKAM,SNA,CF,WRK,RVTY,POOL,TRMB,WBA,PNR,KEY,NDSN,CPB,DOC,SWK,HST,INCY,LW,LNT,TECH,PODD,NI,MGM,KIM,AOS,VTRS,JKHY,EVRG,BEN,DVA,IPG,UHS,EMN,SJM,LKQ,TAP,JNPR,CRL,CPT,REG,KMX,APA,RL,BBWI,ALLE,WYNN,BXP,EPAM,SOLV,CHRW,HII,FFIV,MOS,CTLT,PAYC,TFX,TPR,QRVO,HSIC,AAL,GNRC,DAY,AIZ,PNW,HAS,PARA,MKTX,FRT,BIO,BWA,MTCH,FMC,GL,MHK,CZR,ETSY,IVZ,RHI,NCLH,CMA\n",
      "https://data.alpaca.markets/v1beta1/news 50\n",
      "https://data.alpaca.markets/v1beta1/news 50\n",
      "https://data.alpaca.markets/v1beta1/news 50\n",
      "https://data.alpaca.markets/v1beta1/news 50\n",
      "https://data.alpaca.markets/v1beta1/news 50\n",
      "https://data.alpaca.markets/v1beta1/news 50\n",
      "https://data.alpaca.markets/v1beta1/news 50\n"
     ]
    },
    {
     "name": "stderr",
     "output_type": "stream",
     "text": [
      " 29%|██▉       | 44/150 [02:58<06:24,  3.63s/it]"
     ]
    },
    {
     "name": "stdout",
     "output_type": "stream",
     "text": [
      "https://data.alpaca.markets/v1beta1/news 19\n",
      "error2\n",
      "Number of news articles: 369\n",
      "Fetching news for date: 2017-07-28\n",
      "start and end news collection 2017-07-21 2017-07-27\n",
      "length of ticker list 503\n",
      "MSFT,AAPL,NVDA,GOOG,GOOGL,AMZN,META,BRK-B,LLY,AVGO,JPM,TSLA,V,WMT,XOM,UNH,MA,PG,COST,JNJ,ORCL,MRK,HD,BAC,CVX,NFLX,ABBV,AMD,KO,CRM,PEP,QCOM,TMO,ADBE,WFC,LIN,DHR,TMUS,ACN,CSCO,MCD,DIS,GE,AMAT,TXN,ABT,AXP,CAT,INTU,VZ,AMGN,PFE,MS,NEE,IBM,PM,NOW,CMCSA,BX,GS,ISRG,MU,UNP,RTX,NKE,COP,SPGI,ETN,UBER,SCHW,INTC,HON,BKNG,SYK,LRCX,T,LOW,C,ELV,PGR,UPS,VRTX,BLK,TJX,ADI,LMT,BSX,REGN,MDT,CB,BA,KLAC,DE,PANW,MMC,ADP,PLD,ANET,CI,ABNB,MDLZ,SNPS,SBUX,FI,AMT,CMG,SO,WM,BMY,HCA,GD,GILD,APH,CDNS,DUK,ICE,MO,ZTS,CME,SHW,CL,TT,TDG,MCO,FCX,MCK,EQIX,CEG,ITW,NXPI,EOG,CVS,CTAS,NOC,PH,MAR,TGT,ECL,BDX,SLB,CSX,EMR,PYPL,MRNA,USB,MPC,PNC,AON,FDX,MSI,PSX,WELL,CARR,RSG,APD,ROP,ORLY,PCAR,SPG,MNST,MMM,AJG,OXY,VLO,EW,MCHP,COF,CPRT,AIG,SMCI,MET,TFC,NSC,HLT,DXCM,GM,AFL,JCI,WMB,TRV,GEV,NEM,F,PCG,SRE,AZO,PSA,ROST,DHI,GWW,DLR,OKE,AEP,FTNT,HES,KDP,TEL,ADSK,STZ,O,URI,EL,PAYX,KMB,D,BK,A,AMP,COR,KHC,ALL,FIS,LEN,PRU,IDXX,CCI,LHX,KMI,HUM,IQV,PWR,NUE,DOW,AME,HSY,CNC,OTIS,CHTR,MSCI,CMI,ACGL,YUM,CTVA,GIS,KR,IR,RCL,LULU,FAST,ODFL,PEG,KVUE,EXC,MPWR,GEHC,SYY,EA,VRSK,NDAQ,MLM,VST,CSGP,XYL,HWM,FANG,VMC,FICO,IT,CTSH,DD,DAL,LVS,ED,BKR,LYB,HPQ,HAL,DG,BIIB,MTD,GRMN,EXR,RMD,ON,GLW,CDW,DFS,PPG,DVN,TSCO,ROK,HIG,WAB,ADM,XEL,EFX,FSLR,VICI,ANSS,EIX,AVB,EBAY,CBRE,FTV,DECK,TTWO,TROW,GPN,RJF,CHD,WTW,BRO,WEC,FITB,TRGP,DOV,VLTO,DLTR,KEYS,MTB,AWK,EQR,IFF,WDC,WST,PHM,ZBH,HPE,NTAP,BR,IRM,CAH,DTE,ETR,NVR,STT,STE,TER,APTV,FE,ROL,LYV,HUBB,WY,PTC,BF-B,AXON,BALL,TSN,PPL,INVH,STLD,TYL,BLDR,K,ARE,LDOS,WRB,ES,GPC,SBAC,CTRA,WAT,HBAN,CCL,STX,MOH,MKC,PFG,ALGN,HRL,VTR,CBOE,TDY,AEE,WBD,CNP,COO,CPAY,OMC,CINF,ULTA,CMS,AVY,NRG,EQT,DRI,J,DPZ,RF,SYF,BAX,ESS,HOLX,VRSN,NTRS,ENPH,EG,UAL,ATO,ILMN,TXT,LH,ZBRA,CE,EXPD,FDS,L,PKG,CLX,IEX,JBHT,CFG,LUV,MAA,IP,DGX,GEN,BBY,NWS,NWSA,MAS,FOX,FOXA,ALB,AES,SWKS,BG,UDR,EXPE,CAG,JBL,MRO,AMCR,AKAM,SNA,CF,WRK,RVTY,POOL,TRMB,WBA,PNR,KEY,NDSN,CPB,DOC,SWK,HST,INCY,LW,LNT,TECH,PODD,NI,MGM,KIM,AOS,VTRS,JKHY,EVRG,BEN,DVA,IPG,UHS,EMN,SJM,LKQ,TAP,JNPR,CRL,CPT,REG,KMX,APA,RL,BBWI,ALLE,WYNN,BXP,EPAM,SOLV,CHRW,HII,FFIV,MOS,CTLT,PAYC,TFX,TPR,QRVO,HSIC,AAL,GNRC,DAY,AIZ,PNW,HAS,PARA,MKTX,FRT,BIO,BWA,MTCH,FMC,GL,MHK,CZR,ETSY,IVZ,RHI,NCLH,CMA\n",
      "https://data.alpaca.markets/v1beta1/news 50\n",
      "https://data.alpaca.markets/v1beta1/news 50\n",
      "https://data.alpaca.markets/v1beta1/news 50\n",
      "https://data.alpaca.markets/v1beta1/news 50\n",
      "https://data.alpaca.markets/v1beta1/news 50\n",
      "https://data.alpaca.markets/v1beta1/news 50\n",
      "https://data.alpaca.markets/v1beta1/news 50\n",
      "https://data.alpaca.markets/v1beta1/news 50\n",
      "https://data.alpaca.markets/v1beta1/news 50\n",
      "https://data.alpaca.markets/v1beta1/news 50\n",
      "https://data.alpaca.markets/v1beta1/news 50\n",
      "https://data.alpaca.markets/v1beta1/news 50\n",
      "https://data.alpaca.markets/v1beta1/news 50\n"
     ]
    },
    {
     "name": "stderr",
     "output_type": "stream",
     "text": [
      " 30%|███       | 45/150 [03:03<06:56,  3.96s/it]"
     ]
    },
    {
     "name": "stdout",
     "output_type": "stream",
     "text": [
      "https://data.alpaca.markets/v1beta1/news 20\n",
      "error2\n",
      "Number of news articles: 670\n",
      "Fetching news for date: 2017-08-07\n",
      "start and end news collection 2017-07-31 2017-08-06\n",
      "length of ticker list 503\n",
      "MSFT,AAPL,NVDA,GOOG,GOOGL,AMZN,META,BRK-B,LLY,AVGO,JPM,TSLA,V,WMT,XOM,UNH,MA,PG,COST,JNJ,ORCL,MRK,HD,BAC,CVX,NFLX,ABBV,AMD,KO,CRM,PEP,QCOM,TMO,ADBE,WFC,LIN,DHR,TMUS,ACN,CSCO,MCD,DIS,GE,AMAT,TXN,ABT,AXP,CAT,INTU,VZ,AMGN,PFE,MS,NEE,IBM,PM,NOW,CMCSA,BX,GS,ISRG,MU,UNP,RTX,NKE,COP,SPGI,ETN,UBER,SCHW,INTC,HON,BKNG,SYK,LRCX,T,LOW,C,ELV,PGR,UPS,VRTX,BLK,TJX,ADI,LMT,BSX,REGN,MDT,CB,BA,KLAC,DE,PANW,MMC,ADP,PLD,ANET,CI,ABNB,MDLZ,SNPS,SBUX,FI,AMT,CMG,SO,WM,BMY,HCA,GD,GILD,APH,CDNS,DUK,ICE,MO,ZTS,CME,SHW,CL,TT,TDG,MCO,FCX,MCK,EQIX,CEG,ITW,NXPI,EOG,CVS,CTAS,NOC,PH,MAR,TGT,ECL,BDX,SLB,CSX,EMR,PYPL,MRNA,USB,MPC,PNC,AON,FDX,MSI,PSX,WELL,CARR,RSG,APD,ROP,ORLY,PCAR,SPG,MNST,MMM,AJG,OXY,VLO,EW,MCHP,COF,CPRT,AIG,SMCI,MET,TFC,NSC,HLT,DXCM,GM,AFL,JCI,WMB,TRV,GEV,NEM,F,PCG,SRE,AZO,PSA,ROST,DHI,GWW,DLR,OKE,AEP,FTNT,HES,KDP,TEL,ADSK,STZ,O,URI,EL,PAYX,KMB,D,BK,A,AMP,COR,KHC,ALL,FIS,LEN,PRU,IDXX,CCI,LHX,KMI,HUM,IQV,PWR,NUE,DOW,AME,HSY,CNC,OTIS,CHTR,MSCI,CMI,ACGL,YUM,CTVA,GIS,KR,IR,RCL,LULU,FAST,ODFL,PEG,KVUE,EXC,MPWR,GEHC,SYY,EA,VRSK,NDAQ,MLM,VST,CSGP,XYL,HWM,FANG,VMC,FICO,IT,CTSH,DD,DAL,LVS,ED,BKR,LYB,HPQ,HAL,DG,BIIB,MTD,GRMN,EXR,RMD,ON,GLW,CDW,DFS,PPG,DVN,TSCO,ROK,HIG,WAB,ADM,XEL,EFX,FSLR,VICI,ANSS,EIX,AVB,EBAY,CBRE,FTV,DECK,TTWO,TROW,GPN,RJF,CHD,WTW,BRO,WEC,FITB,TRGP,DOV,VLTO,DLTR,KEYS,MTB,AWK,EQR,IFF,WDC,WST,PHM,ZBH,HPE,NTAP,BR,IRM,CAH,DTE,ETR,NVR,STT,STE,TER,APTV,FE,ROL,LYV,HUBB,WY,PTC,BF-B,AXON,BALL,TSN,PPL,INVH,STLD,TYL,BLDR,K,ARE,LDOS,WRB,ES,GPC,SBAC,CTRA,WAT,HBAN,CCL,STX,MOH,MKC,PFG,ALGN,HRL,VTR,CBOE,TDY,AEE,WBD,CNP,COO,CPAY,OMC,CINF,ULTA,CMS,AVY,NRG,EQT,DRI,J,DPZ,RF,SYF,BAX,ESS,HOLX,VRSN,NTRS,ENPH,EG,UAL,ATO,ILMN,TXT,LH,ZBRA,CE,EXPD,FDS,L,PKG,CLX,IEX,JBHT,CFG,LUV,MAA,IP,DGX,GEN,BBY,NWS,NWSA,MAS,FOX,FOXA,ALB,AES,SWKS,BG,UDR,EXPE,CAG,JBL,MRO,AMCR,AKAM,SNA,CF,WRK,RVTY,POOL,TRMB,WBA,PNR,KEY,NDSN,CPB,DOC,SWK,HST,INCY,LW,LNT,TECH,PODD,NI,MGM,KIM,AOS,VTRS,JKHY,EVRG,BEN,DVA,IPG,UHS,EMN,SJM,LKQ,TAP,JNPR,CRL,CPT,REG,KMX,APA,RL,BBWI,ALLE,WYNN,BXP,EPAM,SOLV,CHRW,HII,FFIV,MOS,CTLT,PAYC,TFX,TPR,QRVO,HSIC,AAL,GNRC,DAY,AIZ,PNW,HAS,PARA,MKTX,FRT,BIO,BWA,MTCH,FMC,GL,MHK,CZR,ETSY,IVZ,RHI,NCLH,CMA\n",
      "https://data.alpaca.markets/v1beta1/news 50\n",
      "https://data.alpaca.markets/v1beta1/news 50\n",
      "https://data.alpaca.markets/v1beta1/news 50\n",
      "https://data.alpaca.markets/v1beta1/news 50\n",
      "https://data.alpaca.markets/v1beta1/news 50\n",
      "https://data.alpaca.markets/v1beta1/news 50\n",
      "https://data.alpaca.markets/v1beta1/news 50\n",
      "https://data.alpaca.markets/v1beta1/news 50\n",
      "https://data.alpaca.markets/v1beta1/news 50\n",
      "https://data.alpaca.markets/v1beta1/news 50\n",
      "https://data.alpaca.markets/v1beta1/news 50\n",
      "https://data.alpaca.markets/v1beta1/news 50\n",
      "https://data.alpaca.markets/v1beta1/news 50\n"
     ]
    },
    {
     "name": "stderr",
     "output_type": "stream",
     "text": [
      " 31%|███       | 46/150 [03:07<07:06,  4.10s/it]"
     ]
    },
    {
     "name": "stdout",
     "output_type": "stream",
     "text": [
      "https://data.alpaca.markets/v1beta1/news 11\n",
      "error2\n",
      "Number of news articles: 661\n",
      "Fetching news for date: 2017-08-09\n",
      "start and end news collection 2017-08-02 2017-08-08\n",
      "length of ticker list 503\n",
      "MSFT,AAPL,NVDA,GOOG,GOOGL,AMZN,META,BRK-B,LLY,AVGO,JPM,TSLA,V,WMT,XOM,UNH,MA,PG,COST,JNJ,ORCL,MRK,HD,BAC,CVX,NFLX,ABBV,AMD,KO,CRM,PEP,QCOM,TMO,ADBE,WFC,LIN,DHR,TMUS,ACN,CSCO,MCD,DIS,GE,AMAT,TXN,ABT,AXP,CAT,INTU,VZ,AMGN,PFE,MS,NEE,IBM,PM,NOW,CMCSA,BX,GS,ISRG,MU,UNP,RTX,NKE,COP,SPGI,ETN,UBER,SCHW,INTC,HON,BKNG,SYK,LRCX,T,LOW,C,ELV,PGR,UPS,VRTX,BLK,TJX,ADI,LMT,BSX,REGN,MDT,CB,BA,KLAC,DE,PANW,MMC,ADP,PLD,ANET,CI,ABNB,MDLZ,SNPS,SBUX,FI,AMT,CMG,SO,WM,BMY,HCA,GD,GILD,APH,CDNS,DUK,ICE,MO,ZTS,CME,SHW,CL,TT,TDG,MCO,FCX,MCK,EQIX,CEG,ITW,NXPI,EOG,CVS,CTAS,NOC,PH,MAR,TGT,ECL,BDX,SLB,CSX,EMR,PYPL,MRNA,USB,MPC,PNC,AON,FDX,MSI,PSX,WELL,CARR,RSG,APD,ROP,ORLY,PCAR,SPG,MNST,MMM,AJG,OXY,VLO,EW,MCHP,COF,CPRT,AIG,SMCI,MET,TFC,NSC,HLT,DXCM,GM,AFL,JCI,WMB,TRV,GEV,NEM,F,PCG,SRE,AZO,PSA,ROST,DHI,GWW,DLR,OKE,AEP,FTNT,HES,KDP,TEL,ADSK,STZ,O,URI,EL,PAYX,KMB,D,BK,A,AMP,COR,KHC,ALL,FIS,LEN,PRU,IDXX,CCI,LHX,KMI,HUM,IQV,PWR,NUE,DOW,AME,HSY,CNC,OTIS,CHTR,MSCI,CMI,ACGL,YUM,CTVA,GIS,KR,IR,RCL,LULU,FAST,ODFL,PEG,KVUE,EXC,MPWR,GEHC,SYY,EA,VRSK,NDAQ,MLM,VST,CSGP,XYL,HWM,FANG,VMC,FICO,IT,CTSH,DD,DAL,LVS,ED,BKR,LYB,HPQ,HAL,DG,BIIB,MTD,GRMN,EXR,RMD,ON,GLW,CDW,DFS,PPG,DVN,TSCO,ROK,HIG,WAB,ADM,XEL,EFX,FSLR,VICI,ANSS,EIX,AVB,EBAY,CBRE,FTV,DECK,TTWO,TROW,GPN,RJF,CHD,WTW,BRO,WEC,FITB,TRGP,DOV,VLTO,DLTR,KEYS,MTB,AWK,EQR,IFF,WDC,WST,PHM,ZBH,HPE,NTAP,BR,IRM,CAH,DTE,ETR,NVR,STT,STE,TER,APTV,FE,ROL,LYV,HUBB,WY,PTC,BF-B,AXON,BALL,TSN,PPL,INVH,STLD,TYL,BLDR,K,ARE,LDOS,WRB,ES,GPC,SBAC,CTRA,WAT,HBAN,CCL,STX,MOH,MKC,PFG,ALGN,HRL,VTR,CBOE,TDY,AEE,WBD,CNP,COO,CPAY,OMC,CINF,ULTA,CMS,AVY,NRG,EQT,DRI,J,DPZ,RF,SYF,BAX,ESS,HOLX,VRSN,NTRS,ENPH,EG,UAL,ATO,ILMN,TXT,LH,ZBRA,CE,EXPD,FDS,L,PKG,CLX,IEX,JBHT,CFG,LUV,MAA,IP,DGX,GEN,BBY,NWS,NWSA,MAS,FOX,FOXA,ALB,AES,SWKS,BG,UDR,EXPE,CAG,JBL,MRO,AMCR,AKAM,SNA,CF,WRK,RVTY,POOL,TRMB,WBA,PNR,KEY,NDSN,CPB,DOC,SWK,HST,INCY,LW,LNT,TECH,PODD,NI,MGM,KIM,AOS,VTRS,JKHY,EVRG,BEN,DVA,IPG,UHS,EMN,SJM,LKQ,TAP,JNPR,CRL,CPT,REG,KMX,APA,RL,BBWI,ALLE,WYNN,BXP,EPAM,SOLV,CHRW,HII,FFIV,MOS,CTLT,PAYC,TFX,TPR,QRVO,HSIC,AAL,GNRC,DAY,AIZ,PNW,HAS,PARA,MKTX,FRT,BIO,BWA,MTCH,FMC,GL,MHK,CZR,ETSY,IVZ,RHI,NCLH,CMA\n",
      "https://data.alpaca.markets/v1beta1/news 50\n",
      "https://data.alpaca.markets/v1beta1/news 50\n",
      "https://data.alpaca.markets/v1beta1/news 50\n",
      "https://data.alpaca.markets/v1beta1/news 50\n",
      "https://data.alpaca.markets/v1beta1/news 50\n",
      "https://data.alpaca.markets/v1beta1/news 50\n",
      "https://data.alpaca.markets/v1beta1/news 50\n",
      "https://data.alpaca.markets/v1beta1/news 50\n",
      "https://data.alpaca.markets/v1beta1/news 50\n",
      "https://data.alpaca.markets/v1beta1/news 50\n"
     ]
    },
    {
     "name": "stderr",
     "output_type": "stream",
     "text": [
      " 31%|███▏      | 47/150 [03:11<06:41,  3.90s/it]"
     ]
    },
    {
     "name": "stdout",
     "output_type": "stream",
     "text": [
      "https://data.alpaca.markets/v1beta1/news 16\n",
      "error2\n",
      "Number of news articles: 516\n",
      "Fetching news for date: 2017-08-17\n",
      "start and end news collection 2017-08-10 2017-08-16\n",
      "length of ticker list 503\n",
      "MSFT,AAPL,NVDA,GOOG,GOOGL,AMZN,META,BRK-B,LLY,AVGO,JPM,TSLA,V,WMT,XOM,UNH,MA,PG,COST,JNJ,ORCL,MRK,HD,BAC,CVX,NFLX,ABBV,AMD,KO,CRM,PEP,QCOM,TMO,ADBE,WFC,LIN,DHR,TMUS,ACN,CSCO,MCD,DIS,GE,AMAT,TXN,ABT,AXP,CAT,INTU,VZ,AMGN,PFE,MS,NEE,IBM,PM,NOW,CMCSA,BX,GS,ISRG,MU,UNP,RTX,NKE,COP,SPGI,ETN,UBER,SCHW,INTC,HON,BKNG,SYK,LRCX,T,LOW,C,ELV,PGR,UPS,VRTX,BLK,TJX,ADI,LMT,BSX,REGN,MDT,CB,BA,KLAC,DE,PANW,MMC,ADP,PLD,ANET,CI,ABNB,MDLZ,SNPS,SBUX,FI,AMT,CMG,SO,WM,BMY,HCA,GD,GILD,APH,CDNS,DUK,ICE,MO,ZTS,CME,SHW,CL,TT,TDG,MCO,FCX,MCK,EQIX,CEG,ITW,NXPI,EOG,CVS,CTAS,NOC,PH,MAR,TGT,ECL,BDX,SLB,CSX,EMR,PYPL,MRNA,USB,MPC,PNC,AON,FDX,MSI,PSX,WELL,CARR,RSG,APD,ROP,ORLY,PCAR,SPG,MNST,MMM,AJG,OXY,VLO,EW,MCHP,COF,CPRT,AIG,SMCI,MET,TFC,NSC,HLT,DXCM,GM,AFL,JCI,WMB,TRV,GEV,NEM,F,PCG,SRE,AZO,PSA,ROST,DHI,GWW,DLR,OKE,AEP,FTNT,HES,KDP,TEL,ADSK,STZ,O,URI,EL,PAYX,KMB,D,BK,A,AMP,COR,KHC,ALL,FIS,LEN,PRU,IDXX,CCI,LHX,KMI,HUM,IQV,PWR,NUE,DOW,AME,HSY,CNC,OTIS,CHTR,MSCI,CMI,ACGL,YUM,CTVA,GIS,KR,IR,RCL,LULU,FAST,ODFL,PEG,KVUE,EXC,MPWR,GEHC,SYY,EA,VRSK,NDAQ,MLM,VST,CSGP,XYL,HWM,FANG,VMC,FICO,IT,CTSH,DD,DAL,LVS,ED,BKR,LYB,HPQ,HAL,DG,BIIB,MTD,GRMN,EXR,RMD,ON,GLW,CDW,DFS,PPG,DVN,TSCO,ROK,HIG,WAB,ADM,XEL,EFX,FSLR,VICI,ANSS,EIX,AVB,EBAY,CBRE,FTV,DECK,TTWO,TROW,GPN,RJF,CHD,WTW,BRO,WEC,FITB,TRGP,DOV,VLTO,DLTR,KEYS,MTB,AWK,EQR,IFF,WDC,WST,PHM,ZBH,HPE,NTAP,BR,IRM,CAH,DTE,ETR,NVR,STT,STE,TER,APTV,FE,ROL,LYV,HUBB,WY,PTC,BF-B,AXON,BALL,TSN,PPL,INVH,STLD,TYL,BLDR,K,ARE,LDOS,WRB,ES,GPC,SBAC,CTRA,WAT,HBAN,CCL,STX,MOH,MKC,PFG,ALGN,HRL,VTR,CBOE,TDY,AEE,WBD,CNP,COO,CPAY,OMC,CINF,ULTA,CMS,AVY,NRG,EQT,DRI,J,DPZ,RF,SYF,BAX,ESS,HOLX,VRSN,NTRS,ENPH,EG,UAL,ATO,ILMN,TXT,LH,ZBRA,CE,EXPD,FDS,L,PKG,CLX,IEX,JBHT,CFG,LUV,MAA,IP,DGX,GEN,BBY,NWS,NWSA,MAS,FOX,FOXA,ALB,AES,SWKS,BG,UDR,EXPE,CAG,JBL,MRO,AMCR,AKAM,SNA,CF,WRK,RVTY,POOL,TRMB,WBA,PNR,KEY,NDSN,CPB,DOC,SWK,HST,INCY,LW,LNT,TECH,PODD,NI,MGM,KIM,AOS,VTRS,JKHY,EVRG,BEN,DVA,IPG,UHS,EMN,SJM,LKQ,TAP,JNPR,CRL,CPT,REG,KMX,APA,RL,BBWI,ALLE,WYNN,BXP,EPAM,SOLV,CHRW,HII,FFIV,MOS,CTLT,PAYC,TFX,TPR,QRVO,HSIC,AAL,GNRC,DAY,AIZ,PNW,HAS,PARA,MKTX,FRT,BIO,BWA,MTCH,FMC,GL,MHK,CZR,ETSY,IVZ,RHI,NCLH,CMA\n",
      "https://data.alpaca.markets/v1beta1/news 50\n",
      "https://data.alpaca.markets/v1beta1/news 50\n",
      "https://data.alpaca.markets/v1beta1/news 50\n",
      "https://data.alpaca.markets/v1beta1/news 50\n",
      "https://data.alpaca.markets/v1beta1/news 50\n",
      "https://data.alpaca.markets/v1beta1/news 50\n",
      "https://data.alpaca.markets/v1beta1/news 50\n"
     ]
    },
    {
     "name": "stderr",
     "output_type": "stream",
     "text": [
      " 32%|███▏      | 48/150 [03:14<06:29,  3.82s/it]"
     ]
    },
    {
     "name": "stdout",
     "output_type": "stream",
     "text": [
      "https://data.alpaca.markets/v1beta1/news 36\n",
      "error2\n",
      "Number of news articles: 386\n",
      "Fetching news for date: 2017-08-24\n",
      "start and end news collection 2017-08-17 2017-08-23\n",
      "length of ticker list 503\n",
      "MSFT,AAPL,NVDA,GOOG,GOOGL,AMZN,META,BRK-B,LLY,AVGO,JPM,TSLA,V,WMT,XOM,UNH,MA,PG,COST,JNJ,ORCL,MRK,HD,BAC,CVX,NFLX,ABBV,AMD,KO,CRM,PEP,QCOM,TMO,ADBE,WFC,LIN,DHR,TMUS,ACN,CSCO,MCD,DIS,GE,AMAT,TXN,ABT,AXP,CAT,INTU,VZ,AMGN,PFE,MS,NEE,IBM,PM,NOW,CMCSA,BX,GS,ISRG,MU,UNP,RTX,NKE,COP,SPGI,ETN,UBER,SCHW,INTC,HON,BKNG,SYK,LRCX,T,LOW,C,ELV,PGR,UPS,VRTX,BLK,TJX,ADI,LMT,BSX,REGN,MDT,CB,BA,KLAC,DE,PANW,MMC,ADP,PLD,ANET,CI,ABNB,MDLZ,SNPS,SBUX,FI,AMT,CMG,SO,WM,BMY,HCA,GD,GILD,APH,CDNS,DUK,ICE,MO,ZTS,CME,SHW,CL,TT,TDG,MCO,FCX,MCK,EQIX,CEG,ITW,NXPI,EOG,CVS,CTAS,NOC,PH,MAR,TGT,ECL,BDX,SLB,CSX,EMR,PYPL,MRNA,USB,MPC,PNC,AON,FDX,MSI,PSX,WELL,CARR,RSG,APD,ROP,ORLY,PCAR,SPG,MNST,MMM,AJG,OXY,VLO,EW,MCHP,COF,CPRT,AIG,SMCI,MET,TFC,NSC,HLT,DXCM,GM,AFL,JCI,WMB,TRV,GEV,NEM,F,PCG,SRE,AZO,PSA,ROST,DHI,GWW,DLR,OKE,AEP,FTNT,HES,KDP,TEL,ADSK,STZ,O,URI,EL,PAYX,KMB,D,BK,A,AMP,COR,KHC,ALL,FIS,LEN,PRU,IDXX,CCI,LHX,KMI,HUM,IQV,PWR,NUE,DOW,AME,HSY,CNC,OTIS,CHTR,MSCI,CMI,ACGL,YUM,CTVA,GIS,KR,IR,RCL,LULU,FAST,ODFL,PEG,KVUE,EXC,MPWR,GEHC,SYY,EA,VRSK,NDAQ,MLM,VST,CSGP,XYL,HWM,FANG,VMC,FICO,IT,CTSH,DD,DAL,LVS,ED,BKR,LYB,HPQ,HAL,DG,BIIB,MTD,GRMN,EXR,RMD,ON,GLW,CDW,DFS,PPG,DVN,TSCO,ROK,HIG,WAB,ADM,XEL,EFX,FSLR,VICI,ANSS,EIX,AVB,EBAY,CBRE,FTV,DECK,TTWO,TROW,GPN,RJF,CHD,WTW,BRO,WEC,FITB,TRGP,DOV,VLTO,DLTR,KEYS,MTB,AWK,EQR,IFF,WDC,WST,PHM,ZBH,HPE,NTAP,BR,IRM,CAH,DTE,ETR,NVR,STT,STE,TER,APTV,FE,ROL,LYV,HUBB,WY,PTC,BF-B,AXON,BALL,TSN,PPL,INVH,STLD,TYL,BLDR,K,ARE,LDOS,WRB,ES,GPC,SBAC,CTRA,WAT,HBAN,CCL,STX,MOH,MKC,PFG,ALGN,HRL,VTR,CBOE,TDY,AEE,WBD,CNP,COO,CPAY,OMC,CINF,ULTA,CMS,AVY,NRG,EQT,DRI,J,DPZ,RF,SYF,BAX,ESS,HOLX,VRSN,NTRS,ENPH,EG,UAL,ATO,ILMN,TXT,LH,ZBRA,CE,EXPD,FDS,L,PKG,CLX,IEX,JBHT,CFG,LUV,MAA,IP,DGX,GEN,BBY,NWS,NWSA,MAS,FOX,FOXA,ALB,AES,SWKS,BG,UDR,EXPE,CAG,JBL,MRO,AMCR,AKAM,SNA,CF,WRK,RVTY,POOL,TRMB,WBA,PNR,KEY,NDSN,CPB,DOC,SWK,HST,INCY,LW,LNT,TECH,PODD,NI,MGM,KIM,AOS,VTRS,JKHY,EVRG,BEN,DVA,IPG,UHS,EMN,SJM,LKQ,TAP,JNPR,CRL,CPT,REG,KMX,APA,RL,BBWI,ALLE,WYNN,BXP,EPAM,SOLV,CHRW,HII,FFIV,MOS,CTLT,PAYC,TFX,TPR,QRVO,HSIC,AAL,GNRC,DAY,AIZ,PNW,HAS,PARA,MKTX,FRT,BIO,BWA,MTCH,FMC,GL,MHK,CZR,ETSY,IVZ,RHI,NCLH,CMA\n",
      "https://data.alpaca.markets/v1beta1/news 50\n",
      "https://data.alpaca.markets/v1beta1/news 50\n",
      "https://data.alpaca.markets/v1beta1/news 50\n",
      "https://data.alpaca.markets/v1beta1/news 50\n",
      "https://data.alpaca.markets/v1beta1/news 50\n"
     ]
    },
    {
     "name": "stderr",
     "output_type": "stream",
     "text": [
      " 33%|███▎      | 49/150 [03:16<05:27,  3.24s/it]"
     ]
    },
    {
     "name": "stdout",
     "output_type": "stream",
     "text": [
      "https://data.alpaca.markets/v1beta1/news 48\n",
      "error2\n",
      "Number of news articles: 298\n",
      "Fetching news for date: 2017-08-29\n",
      "start and end news collection 2017-08-22 2017-08-28\n",
      "length of ticker list 503\n",
      "MSFT,AAPL,NVDA,GOOG,GOOGL,AMZN,META,BRK-B,LLY,AVGO,JPM,TSLA,V,WMT,XOM,UNH,MA,PG,COST,JNJ,ORCL,MRK,HD,BAC,CVX,NFLX,ABBV,AMD,KO,CRM,PEP,QCOM,TMO,ADBE,WFC,LIN,DHR,TMUS,ACN,CSCO,MCD,DIS,GE,AMAT,TXN,ABT,AXP,CAT,INTU,VZ,AMGN,PFE,MS,NEE,IBM,PM,NOW,CMCSA,BX,GS,ISRG,MU,UNP,RTX,NKE,COP,SPGI,ETN,UBER,SCHW,INTC,HON,BKNG,SYK,LRCX,T,LOW,C,ELV,PGR,UPS,VRTX,BLK,TJX,ADI,LMT,BSX,REGN,MDT,CB,BA,KLAC,DE,PANW,MMC,ADP,PLD,ANET,CI,ABNB,MDLZ,SNPS,SBUX,FI,AMT,CMG,SO,WM,BMY,HCA,GD,GILD,APH,CDNS,DUK,ICE,MO,ZTS,CME,SHW,CL,TT,TDG,MCO,FCX,MCK,EQIX,CEG,ITW,NXPI,EOG,CVS,CTAS,NOC,PH,MAR,TGT,ECL,BDX,SLB,CSX,EMR,PYPL,MRNA,USB,MPC,PNC,AON,FDX,MSI,PSX,WELL,CARR,RSG,APD,ROP,ORLY,PCAR,SPG,MNST,MMM,AJG,OXY,VLO,EW,MCHP,COF,CPRT,AIG,SMCI,MET,TFC,NSC,HLT,DXCM,GM,AFL,JCI,WMB,TRV,GEV,NEM,F,PCG,SRE,AZO,PSA,ROST,DHI,GWW,DLR,OKE,AEP,FTNT,HES,KDP,TEL,ADSK,STZ,O,URI,EL,PAYX,KMB,D,BK,A,AMP,COR,KHC,ALL,FIS,LEN,PRU,IDXX,CCI,LHX,KMI,HUM,IQV,PWR,NUE,DOW,AME,HSY,CNC,OTIS,CHTR,MSCI,CMI,ACGL,YUM,CTVA,GIS,KR,IR,RCL,LULU,FAST,ODFL,PEG,KVUE,EXC,MPWR,GEHC,SYY,EA,VRSK,NDAQ,MLM,VST,CSGP,XYL,HWM,FANG,VMC,FICO,IT,CTSH,DD,DAL,LVS,ED,BKR,LYB,HPQ,HAL,DG,BIIB,MTD,GRMN,EXR,RMD,ON,GLW,CDW,DFS,PPG,DVN,TSCO,ROK,HIG,WAB,ADM,XEL,EFX,FSLR,VICI,ANSS,EIX,AVB,EBAY,CBRE,FTV,DECK,TTWO,TROW,GPN,RJF,CHD,WTW,BRO,WEC,FITB,TRGP,DOV,VLTO,DLTR,KEYS,MTB,AWK,EQR,IFF,WDC,WST,PHM,ZBH,HPE,NTAP,BR,IRM,CAH,DTE,ETR,NVR,STT,STE,TER,APTV,FE,ROL,LYV,HUBB,WY,PTC,BF-B,AXON,BALL,TSN,PPL,INVH,STLD,TYL,BLDR,K,ARE,LDOS,WRB,ES,GPC,SBAC,CTRA,WAT,HBAN,CCL,STX,MOH,MKC,PFG,ALGN,HRL,VTR,CBOE,TDY,AEE,WBD,CNP,COO,CPAY,OMC,CINF,ULTA,CMS,AVY,NRG,EQT,DRI,J,DPZ,RF,SYF,BAX,ESS,HOLX,VRSN,NTRS,ENPH,EG,UAL,ATO,ILMN,TXT,LH,ZBRA,CE,EXPD,FDS,L,PKG,CLX,IEX,JBHT,CFG,LUV,MAA,IP,DGX,GEN,BBY,NWS,NWSA,MAS,FOX,FOXA,ALB,AES,SWKS,BG,UDR,EXPE,CAG,JBL,MRO,AMCR,AKAM,SNA,CF,WRK,RVTY,POOL,TRMB,WBA,PNR,KEY,NDSN,CPB,DOC,SWK,HST,INCY,LW,LNT,TECH,PODD,NI,MGM,KIM,AOS,VTRS,JKHY,EVRG,BEN,DVA,IPG,UHS,EMN,SJM,LKQ,TAP,JNPR,CRL,CPT,REG,KMX,APA,RL,BBWI,ALLE,WYNN,BXP,EPAM,SOLV,CHRW,HII,FFIV,MOS,CTLT,PAYC,TFX,TPR,QRVO,HSIC,AAL,GNRC,DAY,AIZ,PNW,HAS,PARA,MKTX,FRT,BIO,BWA,MTCH,FMC,GL,MHK,CZR,ETSY,IVZ,RHI,NCLH,CMA\n",
      "https://data.alpaca.markets/v1beta1/news 50\n",
      "https://data.alpaca.markets/v1beta1/news 50\n",
      "https://data.alpaca.markets/v1beta1/news 50\n",
      "https://data.alpaca.markets/v1beta1/news 50\n",
      "https://data.alpaca.markets/v1beta1/news 50\n",
      "https://data.alpaca.markets/v1beta1/news 50\n"
     ]
    },
    {
     "name": "stderr",
     "output_type": "stream",
     "text": [
      " 33%|███▎      | 50/150 [03:18<04:53,  2.94s/it]"
     ]
    },
    {
     "name": "stdout",
     "output_type": "stream",
     "text": [
      "https://data.alpaca.markets/v1beta1/news 39\n",
      "error2\n",
      "Number of news articles: 339\n",
      "Fetching news for date: 2017-10-12\n",
      "start and end news collection 2017-10-05 2017-10-11\n",
      "length of ticker list 503\n",
      "MSFT,AAPL,NVDA,GOOG,GOOGL,AMZN,META,BRK-B,LLY,AVGO,JPM,TSLA,V,WMT,XOM,UNH,MA,PG,COST,JNJ,ORCL,MRK,HD,BAC,CVX,NFLX,ABBV,AMD,KO,CRM,PEP,QCOM,TMO,ADBE,WFC,LIN,DHR,TMUS,ACN,CSCO,MCD,DIS,GE,AMAT,TXN,ABT,AXP,CAT,INTU,VZ,AMGN,PFE,MS,NEE,IBM,PM,NOW,CMCSA,BX,GS,ISRG,MU,UNP,RTX,NKE,COP,SPGI,ETN,UBER,SCHW,INTC,HON,BKNG,SYK,LRCX,T,LOW,C,ELV,PGR,UPS,VRTX,BLK,TJX,ADI,LMT,BSX,REGN,MDT,CB,BA,KLAC,DE,PANW,MMC,ADP,PLD,ANET,CI,ABNB,MDLZ,SNPS,SBUX,FI,AMT,CMG,SO,WM,BMY,HCA,GD,GILD,APH,CDNS,DUK,ICE,MO,ZTS,CME,SHW,CL,TT,TDG,MCO,FCX,MCK,EQIX,CEG,ITW,NXPI,EOG,CVS,CTAS,NOC,PH,MAR,TGT,ECL,BDX,SLB,CSX,EMR,PYPL,MRNA,USB,MPC,PNC,AON,FDX,MSI,PSX,WELL,CARR,RSG,APD,ROP,ORLY,PCAR,SPG,MNST,MMM,AJG,OXY,VLO,EW,MCHP,COF,CPRT,AIG,SMCI,MET,TFC,NSC,HLT,DXCM,GM,AFL,JCI,WMB,TRV,GEV,NEM,F,PCG,SRE,AZO,PSA,ROST,DHI,GWW,DLR,OKE,AEP,FTNT,HES,KDP,TEL,ADSK,STZ,O,URI,EL,PAYX,KMB,D,BK,A,AMP,COR,KHC,ALL,FIS,LEN,PRU,IDXX,CCI,LHX,KMI,HUM,IQV,PWR,NUE,DOW,AME,HSY,CNC,OTIS,CHTR,MSCI,CMI,ACGL,YUM,CTVA,GIS,KR,IR,RCL,LULU,FAST,ODFL,PEG,KVUE,EXC,MPWR,GEHC,SYY,EA,VRSK,NDAQ,MLM,VST,CSGP,XYL,HWM,FANG,VMC,FICO,IT,CTSH,DD,DAL,LVS,ED,BKR,LYB,HPQ,HAL,DG,BIIB,MTD,GRMN,EXR,RMD,ON,GLW,CDW,DFS,PPG,DVN,TSCO,ROK,HIG,WAB,ADM,XEL,EFX,FSLR,VICI,ANSS,EIX,AVB,EBAY,CBRE,FTV,DECK,TTWO,TROW,GPN,RJF,CHD,WTW,BRO,WEC,FITB,TRGP,DOV,VLTO,DLTR,KEYS,MTB,AWK,EQR,IFF,WDC,WST,PHM,ZBH,HPE,NTAP,BR,IRM,CAH,DTE,ETR,NVR,STT,STE,TER,APTV,FE,ROL,LYV,HUBB,WY,PTC,BF-B,AXON,BALL,TSN,PPL,INVH,STLD,TYL,BLDR,K,ARE,LDOS,WRB,ES,GPC,SBAC,CTRA,WAT,HBAN,CCL,STX,MOH,MKC,PFG,ALGN,HRL,VTR,CBOE,TDY,AEE,WBD,CNP,COO,CPAY,OMC,CINF,ULTA,CMS,AVY,NRG,EQT,DRI,J,DPZ,RF,SYF,BAX,ESS,HOLX,VRSN,NTRS,ENPH,EG,UAL,ATO,ILMN,TXT,LH,ZBRA,CE,EXPD,FDS,L,PKG,CLX,IEX,JBHT,CFG,LUV,MAA,IP,DGX,GEN,BBY,NWS,NWSA,MAS,FOX,FOXA,ALB,AES,SWKS,BG,UDR,EXPE,CAG,JBL,MRO,AMCR,AKAM,SNA,CF,WRK,RVTY,POOL,TRMB,WBA,PNR,KEY,NDSN,CPB,DOC,SWK,HST,INCY,LW,LNT,TECH,PODD,NI,MGM,KIM,AOS,VTRS,JKHY,EVRG,BEN,DVA,IPG,UHS,EMN,SJM,LKQ,TAP,JNPR,CRL,CPT,REG,KMX,APA,RL,BBWI,ALLE,WYNN,BXP,EPAM,SOLV,CHRW,HII,FFIV,MOS,CTLT,PAYC,TFX,TPR,QRVO,HSIC,AAL,GNRC,DAY,AIZ,PNW,HAS,PARA,MKTX,FRT,BIO,BWA,MTCH,FMC,GL,MHK,CZR,ETSY,IVZ,RHI,NCLH,CMA\n",
      "https://data.alpaca.markets/v1beta1/news 50\n",
      "https://data.alpaca.markets/v1beta1/news 50\n",
      "https://data.alpaca.markets/v1beta1/news 50\n",
      "https://data.alpaca.markets/v1beta1/news 50\n",
      "https://data.alpaca.markets/v1beta1/news 50\n",
      "https://data.alpaca.markets/v1beta1/news 50\n",
      "https://data.alpaca.markets/v1beta1/news 50\n",
      "https://data.alpaca.markets/v1beta1/news 50\n"
     ]
    },
    {
     "name": "stderr",
     "output_type": "stream",
     "text": [
      " 34%|███▍      | 51/150 [03:21<04:46,  2.90s/it]"
     ]
    },
    {
     "name": "stdout",
     "output_type": "stream",
     "text": [
      "https://data.alpaca.markets/v1beta1/news 32\n",
      "error2\n",
      "Number of news articles: 432\n",
      "Fetching news for date: 2017-11-27\n",
      "start and end news collection 2017-11-20 2017-11-26\n",
      "length of ticker list 503\n",
      "MSFT,AAPL,NVDA,GOOG,GOOGL,AMZN,META,BRK-B,LLY,AVGO,JPM,TSLA,V,WMT,XOM,UNH,MA,PG,COST,JNJ,ORCL,MRK,HD,BAC,CVX,NFLX,ABBV,AMD,KO,CRM,PEP,QCOM,TMO,ADBE,WFC,LIN,DHR,TMUS,ACN,CSCO,MCD,DIS,GE,AMAT,TXN,ABT,AXP,CAT,INTU,VZ,AMGN,PFE,MS,NEE,IBM,PM,NOW,CMCSA,BX,GS,ISRG,MU,UNP,RTX,NKE,COP,SPGI,ETN,UBER,SCHW,INTC,HON,BKNG,SYK,LRCX,T,LOW,C,ELV,PGR,UPS,VRTX,BLK,TJX,ADI,LMT,BSX,REGN,MDT,CB,BA,KLAC,DE,PANW,MMC,ADP,PLD,ANET,CI,ABNB,MDLZ,SNPS,SBUX,FI,AMT,CMG,SO,WM,BMY,HCA,GD,GILD,APH,CDNS,DUK,ICE,MO,ZTS,CME,SHW,CL,TT,TDG,MCO,FCX,MCK,EQIX,CEG,ITW,NXPI,EOG,CVS,CTAS,NOC,PH,MAR,TGT,ECL,BDX,SLB,CSX,EMR,PYPL,MRNA,USB,MPC,PNC,AON,FDX,MSI,PSX,WELL,CARR,RSG,APD,ROP,ORLY,PCAR,SPG,MNST,MMM,AJG,OXY,VLO,EW,MCHP,COF,CPRT,AIG,SMCI,MET,TFC,NSC,HLT,DXCM,GM,AFL,JCI,WMB,TRV,GEV,NEM,F,PCG,SRE,AZO,PSA,ROST,DHI,GWW,DLR,OKE,AEP,FTNT,HES,KDP,TEL,ADSK,STZ,O,URI,EL,PAYX,KMB,D,BK,A,AMP,COR,KHC,ALL,FIS,LEN,PRU,IDXX,CCI,LHX,KMI,HUM,IQV,PWR,NUE,DOW,AME,HSY,CNC,OTIS,CHTR,MSCI,CMI,ACGL,YUM,CTVA,GIS,KR,IR,RCL,LULU,FAST,ODFL,PEG,KVUE,EXC,MPWR,GEHC,SYY,EA,VRSK,NDAQ,MLM,VST,CSGP,XYL,HWM,FANG,VMC,FICO,IT,CTSH,DD,DAL,LVS,ED,BKR,LYB,HPQ,HAL,DG,BIIB,MTD,GRMN,EXR,RMD,ON,GLW,CDW,DFS,PPG,DVN,TSCO,ROK,HIG,WAB,ADM,XEL,EFX,FSLR,VICI,ANSS,EIX,AVB,EBAY,CBRE,FTV,DECK,TTWO,TROW,GPN,RJF,CHD,WTW,BRO,WEC,FITB,TRGP,DOV,VLTO,DLTR,KEYS,MTB,AWK,EQR,IFF,WDC,WST,PHM,ZBH,HPE,NTAP,BR,IRM,CAH,DTE,ETR,NVR,STT,STE,TER,APTV,FE,ROL,LYV,HUBB,WY,PTC,BF-B,AXON,BALL,TSN,PPL,INVH,STLD,TYL,BLDR,K,ARE,LDOS,WRB,ES,GPC,SBAC,CTRA,WAT,HBAN,CCL,STX,MOH,MKC,PFG,ALGN,HRL,VTR,CBOE,TDY,AEE,WBD,CNP,COO,CPAY,OMC,CINF,ULTA,CMS,AVY,NRG,EQT,DRI,J,DPZ,RF,SYF,BAX,ESS,HOLX,VRSN,NTRS,ENPH,EG,UAL,ATO,ILMN,TXT,LH,ZBRA,CE,EXPD,FDS,L,PKG,CLX,IEX,JBHT,CFG,LUV,MAA,IP,DGX,GEN,BBY,NWS,NWSA,MAS,FOX,FOXA,ALB,AES,SWKS,BG,UDR,EXPE,CAG,JBL,MRO,AMCR,AKAM,SNA,CF,WRK,RVTY,POOL,TRMB,WBA,PNR,KEY,NDSN,CPB,DOC,SWK,HST,INCY,LW,LNT,TECH,PODD,NI,MGM,KIM,AOS,VTRS,JKHY,EVRG,BEN,DVA,IPG,UHS,EMN,SJM,LKQ,TAP,JNPR,CRL,CPT,REG,KMX,APA,RL,BBWI,ALLE,WYNN,BXP,EPAM,SOLV,CHRW,HII,FFIV,MOS,CTLT,PAYC,TFX,TPR,QRVO,HSIC,AAL,GNRC,DAY,AIZ,PNW,HAS,PARA,MKTX,FRT,BIO,BWA,MTCH,FMC,GL,MHK,CZR,ETSY,IVZ,RHI,NCLH,CMA\n",
      "https://data.alpaca.markets/v1beta1/news 50\n",
      "https://data.alpaca.markets/v1beta1/news 50\n",
      "https://data.alpaca.markets/v1beta1/news 50\n",
      "https://data.alpaca.markets/v1beta1/news 50\n",
      "https://data.alpaca.markets/v1beta1/news 50\n"
     ]
    },
    {
     "name": "stderr",
     "output_type": "stream",
     "text": [
      " 35%|███▍      | 52/150 [03:23<04:16,  2.62s/it]"
     ]
    },
    {
     "name": "stdout",
     "output_type": "stream",
     "text": [
      "https://data.alpaca.markets/v1beta1/news 39\n",
      "error2\n",
      "Number of news articles: 289\n",
      "Fetching news for date: 2018-02-16\n",
      "start and end news collection 2018-02-09 2018-02-15\n",
      "length of ticker list 503\n",
      "MSFT,AAPL,NVDA,GOOG,GOOGL,AMZN,META,BRK-B,LLY,AVGO,JPM,TSLA,V,WMT,XOM,UNH,MA,PG,COST,JNJ,ORCL,MRK,HD,BAC,CVX,NFLX,ABBV,AMD,KO,CRM,PEP,QCOM,TMO,ADBE,WFC,LIN,DHR,TMUS,ACN,CSCO,MCD,DIS,GE,AMAT,TXN,ABT,AXP,CAT,INTU,VZ,AMGN,PFE,MS,NEE,IBM,PM,NOW,CMCSA,BX,GS,ISRG,MU,UNP,RTX,NKE,COP,SPGI,ETN,UBER,SCHW,INTC,HON,BKNG,SYK,LRCX,T,LOW,C,ELV,PGR,UPS,VRTX,BLK,TJX,ADI,LMT,BSX,REGN,MDT,CB,BA,KLAC,DE,PANW,MMC,ADP,PLD,ANET,CI,ABNB,MDLZ,SNPS,SBUX,FI,AMT,CMG,SO,WM,BMY,HCA,GD,GILD,APH,CDNS,DUK,ICE,MO,ZTS,CME,SHW,CL,TT,TDG,MCO,FCX,MCK,EQIX,CEG,ITW,NXPI,EOG,CVS,CTAS,NOC,PH,MAR,TGT,ECL,BDX,SLB,CSX,EMR,PYPL,MRNA,USB,MPC,PNC,AON,FDX,MSI,PSX,WELL,CARR,RSG,APD,ROP,ORLY,PCAR,SPG,MNST,MMM,AJG,OXY,VLO,EW,MCHP,COF,CPRT,AIG,SMCI,MET,TFC,NSC,HLT,DXCM,GM,AFL,JCI,WMB,TRV,GEV,NEM,F,PCG,SRE,AZO,PSA,ROST,DHI,GWW,DLR,OKE,AEP,FTNT,HES,KDP,TEL,ADSK,STZ,O,URI,EL,PAYX,KMB,D,BK,A,AMP,COR,KHC,ALL,FIS,LEN,PRU,IDXX,CCI,LHX,KMI,HUM,IQV,PWR,NUE,DOW,AME,HSY,CNC,OTIS,CHTR,MSCI,CMI,ACGL,YUM,CTVA,GIS,KR,IR,RCL,LULU,FAST,ODFL,PEG,KVUE,EXC,MPWR,GEHC,SYY,EA,VRSK,NDAQ,MLM,VST,CSGP,XYL,HWM,FANG,VMC,FICO,IT,CTSH,DD,DAL,LVS,ED,BKR,LYB,HPQ,HAL,DG,BIIB,MTD,GRMN,EXR,RMD,ON,GLW,CDW,DFS,PPG,DVN,TSCO,ROK,HIG,WAB,ADM,XEL,EFX,FSLR,VICI,ANSS,EIX,AVB,EBAY,CBRE,FTV,DECK,TTWO,TROW,GPN,RJF,CHD,WTW,BRO,WEC,FITB,TRGP,DOV,VLTO,DLTR,KEYS,MTB,AWK,EQR,IFF,WDC,WST,PHM,ZBH,HPE,NTAP,BR,IRM,CAH,DTE,ETR,NVR,STT,STE,TER,APTV,FE,ROL,LYV,HUBB,WY,PTC,BF-B,AXON,BALL,TSN,PPL,INVH,STLD,TYL,BLDR,K,ARE,LDOS,WRB,ES,GPC,SBAC,CTRA,WAT,HBAN,CCL,STX,MOH,MKC,PFG,ALGN,HRL,VTR,CBOE,TDY,AEE,WBD,CNP,COO,CPAY,OMC,CINF,ULTA,CMS,AVY,NRG,EQT,DRI,J,DPZ,RF,SYF,BAX,ESS,HOLX,VRSN,NTRS,ENPH,EG,UAL,ATO,ILMN,TXT,LH,ZBRA,CE,EXPD,FDS,L,PKG,CLX,IEX,JBHT,CFG,LUV,MAA,IP,DGX,GEN,BBY,NWS,NWSA,MAS,FOX,FOXA,ALB,AES,SWKS,BG,UDR,EXPE,CAG,JBL,MRO,AMCR,AKAM,SNA,CF,WRK,RVTY,POOL,TRMB,WBA,PNR,KEY,NDSN,CPB,DOC,SWK,HST,INCY,LW,LNT,TECH,PODD,NI,MGM,KIM,AOS,VTRS,JKHY,EVRG,BEN,DVA,IPG,UHS,EMN,SJM,LKQ,TAP,JNPR,CRL,CPT,REG,KMX,APA,RL,BBWI,ALLE,WYNN,BXP,EPAM,SOLV,CHRW,HII,FFIV,MOS,CTLT,PAYC,TFX,TPR,QRVO,HSIC,AAL,GNRC,DAY,AIZ,PNW,HAS,PARA,MKTX,FRT,BIO,BWA,MTCH,FMC,GL,MHK,CZR,ETSY,IVZ,RHI,NCLH,CMA\n",
      "https://data.alpaca.markets/v1beta1/news 50\n",
      "https://data.alpaca.markets/v1beta1/news 50\n",
      "https://data.alpaca.markets/v1beta1/news 50\n",
      "https://data.alpaca.markets/v1beta1/news 50\n",
      "https://data.alpaca.markets/v1beta1/news 50\n",
      "https://data.alpaca.markets/v1beta1/news 50\n",
      "https://data.alpaca.markets/v1beta1/news 50\n",
      "https://data.alpaca.markets/v1beta1/news 50\n",
      "https://data.alpaca.markets/v1beta1/news 50\n",
      "https://data.alpaca.markets/v1beta1/news 50\n",
      "https://data.alpaca.markets/v1beta1/news 50\n",
      "https://data.alpaca.markets/v1beta1/news 50\n"
     ]
    },
    {
     "name": "stderr",
     "output_type": "stream",
     "text": [
      " 35%|███▌      | 53/150 [03:27<04:55,  3.05s/it]"
     ]
    },
    {
     "name": "stdout",
     "output_type": "stream",
     "text": [
      "https://data.alpaca.markets/v1beta1/news 34\n",
      "error2\n",
      "Number of news articles: 634\n",
      "Fetching news for date: 2018-03-28\n",
      "start and end news collection 2018-03-21 2018-03-27\n",
      "length of ticker list 503\n",
      "MSFT,AAPL,NVDA,GOOG,GOOGL,AMZN,META,BRK-B,LLY,AVGO,JPM,TSLA,V,WMT,XOM,UNH,MA,PG,COST,JNJ,ORCL,MRK,HD,BAC,CVX,NFLX,ABBV,AMD,KO,CRM,PEP,QCOM,TMO,ADBE,WFC,LIN,DHR,TMUS,ACN,CSCO,MCD,DIS,GE,AMAT,TXN,ABT,AXP,CAT,INTU,VZ,AMGN,PFE,MS,NEE,IBM,PM,NOW,CMCSA,BX,GS,ISRG,MU,UNP,RTX,NKE,COP,SPGI,ETN,UBER,SCHW,INTC,HON,BKNG,SYK,LRCX,T,LOW,C,ELV,PGR,UPS,VRTX,BLK,TJX,ADI,LMT,BSX,REGN,MDT,CB,BA,KLAC,DE,PANW,MMC,ADP,PLD,ANET,CI,ABNB,MDLZ,SNPS,SBUX,FI,AMT,CMG,SO,WM,BMY,HCA,GD,GILD,APH,CDNS,DUK,ICE,MO,ZTS,CME,SHW,CL,TT,TDG,MCO,FCX,MCK,EQIX,CEG,ITW,NXPI,EOG,CVS,CTAS,NOC,PH,MAR,TGT,ECL,BDX,SLB,CSX,EMR,PYPL,MRNA,USB,MPC,PNC,AON,FDX,MSI,PSX,WELL,CARR,RSG,APD,ROP,ORLY,PCAR,SPG,MNST,MMM,AJG,OXY,VLO,EW,MCHP,COF,CPRT,AIG,SMCI,MET,TFC,NSC,HLT,DXCM,GM,AFL,JCI,WMB,TRV,GEV,NEM,F,PCG,SRE,AZO,PSA,ROST,DHI,GWW,DLR,OKE,AEP,FTNT,HES,KDP,TEL,ADSK,STZ,O,URI,EL,PAYX,KMB,D,BK,A,AMP,COR,KHC,ALL,FIS,LEN,PRU,IDXX,CCI,LHX,KMI,HUM,IQV,PWR,NUE,DOW,AME,HSY,CNC,OTIS,CHTR,MSCI,CMI,ACGL,YUM,CTVA,GIS,KR,IR,RCL,LULU,FAST,ODFL,PEG,KVUE,EXC,MPWR,GEHC,SYY,EA,VRSK,NDAQ,MLM,VST,CSGP,XYL,HWM,FANG,VMC,FICO,IT,CTSH,DD,DAL,LVS,ED,BKR,LYB,HPQ,HAL,DG,BIIB,MTD,GRMN,EXR,RMD,ON,GLW,CDW,DFS,PPG,DVN,TSCO,ROK,HIG,WAB,ADM,XEL,EFX,FSLR,VICI,ANSS,EIX,AVB,EBAY,CBRE,FTV,DECK,TTWO,TROW,GPN,RJF,CHD,WTW,BRO,WEC,FITB,TRGP,DOV,VLTO,DLTR,KEYS,MTB,AWK,EQR,IFF,WDC,WST,PHM,ZBH,HPE,NTAP,BR,IRM,CAH,DTE,ETR,NVR,STT,STE,TER,APTV,FE,ROL,LYV,HUBB,WY,PTC,BF-B,AXON,BALL,TSN,PPL,INVH,STLD,TYL,BLDR,K,ARE,LDOS,WRB,ES,GPC,SBAC,CTRA,WAT,HBAN,CCL,STX,MOH,MKC,PFG,ALGN,HRL,VTR,CBOE,TDY,AEE,WBD,CNP,COO,CPAY,OMC,CINF,ULTA,CMS,AVY,NRG,EQT,DRI,J,DPZ,RF,SYF,BAX,ESS,HOLX,VRSN,NTRS,ENPH,EG,UAL,ATO,ILMN,TXT,LH,ZBRA,CE,EXPD,FDS,L,PKG,CLX,IEX,JBHT,CFG,LUV,MAA,IP,DGX,GEN,BBY,NWS,NWSA,MAS,FOX,FOXA,ALB,AES,SWKS,BG,UDR,EXPE,CAG,JBL,MRO,AMCR,AKAM,SNA,CF,WRK,RVTY,POOL,TRMB,WBA,PNR,KEY,NDSN,CPB,DOC,SWK,HST,INCY,LW,LNT,TECH,PODD,NI,MGM,KIM,AOS,VTRS,JKHY,EVRG,BEN,DVA,IPG,UHS,EMN,SJM,LKQ,TAP,JNPR,CRL,CPT,REG,KMX,APA,RL,BBWI,ALLE,WYNN,BXP,EPAM,SOLV,CHRW,HII,FFIV,MOS,CTLT,PAYC,TFX,TPR,QRVO,HSIC,AAL,GNRC,DAY,AIZ,PNW,HAS,PARA,MKTX,FRT,BIO,BWA,MTCH,FMC,GL,MHK,CZR,ETSY,IVZ,RHI,NCLH,CMA\n",
      "https://data.alpaca.markets/v1beta1/news 50\n",
      "https://data.alpaca.markets/v1beta1/news 50\n",
      "https://data.alpaca.markets/v1beta1/news 50\n",
      "https://data.alpaca.markets/v1beta1/news 50\n",
      "https://data.alpaca.markets/v1beta1/news 50\n",
      "https://data.alpaca.markets/v1beta1/news 50\n",
      "https://data.alpaca.markets/v1beta1/news 50\n"
     ]
    },
    {
     "name": "stderr",
     "output_type": "stream",
     "text": [
      " 36%|███▌      | 54/150 [03:30<04:40,  2.92s/it]"
     ]
    },
    {
     "name": "stdout",
     "output_type": "stream",
     "text": [
      "https://data.alpaca.markets/v1beta1/news 34\n",
      "error2\n",
      "Number of news articles: 384\n",
      "Fetching news for date: 2018-05-31\n",
      "start and end news collection 2018-05-24 2018-05-30\n",
      "length of ticker list 503\n",
      "MSFT,AAPL,NVDA,GOOG,GOOGL,AMZN,META,BRK-B,LLY,AVGO,JPM,TSLA,V,WMT,XOM,UNH,MA,PG,COST,JNJ,ORCL,MRK,HD,BAC,CVX,NFLX,ABBV,AMD,KO,CRM,PEP,QCOM,TMO,ADBE,WFC,LIN,DHR,TMUS,ACN,CSCO,MCD,DIS,GE,AMAT,TXN,ABT,AXP,CAT,INTU,VZ,AMGN,PFE,MS,NEE,IBM,PM,NOW,CMCSA,BX,GS,ISRG,MU,UNP,RTX,NKE,COP,SPGI,ETN,UBER,SCHW,INTC,HON,BKNG,SYK,LRCX,T,LOW,C,ELV,PGR,UPS,VRTX,BLK,TJX,ADI,LMT,BSX,REGN,MDT,CB,BA,KLAC,DE,PANW,MMC,ADP,PLD,ANET,CI,ABNB,MDLZ,SNPS,SBUX,FI,AMT,CMG,SO,WM,BMY,HCA,GD,GILD,APH,CDNS,DUK,ICE,MO,ZTS,CME,SHW,CL,TT,TDG,MCO,FCX,MCK,EQIX,CEG,ITW,NXPI,EOG,CVS,CTAS,NOC,PH,MAR,TGT,ECL,BDX,SLB,CSX,EMR,PYPL,MRNA,USB,MPC,PNC,AON,FDX,MSI,PSX,WELL,CARR,RSG,APD,ROP,ORLY,PCAR,SPG,MNST,MMM,AJG,OXY,VLO,EW,MCHP,COF,CPRT,AIG,SMCI,MET,TFC,NSC,HLT,DXCM,GM,AFL,JCI,WMB,TRV,GEV,NEM,F,PCG,SRE,AZO,PSA,ROST,DHI,GWW,DLR,OKE,AEP,FTNT,HES,KDP,TEL,ADSK,STZ,O,URI,EL,PAYX,KMB,D,BK,A,AMP,COR,KHC,ALL,FIS,LEN,PRU,IDXX,CCI,LHX,KMI,HUM,IQV,PWR,NUE,DOW,AME,HSY,CNC,OTIS,CHTR,MSCI,CMI,ACGL,YUM,CTVA,GIS,KR,IR,RCL,LULU,FAST,ODFL,PEG,KVUE,EXC,MPWR,GEHC,SYY,EA,VRSK,NDAQ,MLM,VST,CSGP,XYL,HWM,FANG,VMC,FICO,IT,CTSH,DD,DAL,LVS,ED,BKR,LYB,HPQ,HAL,DG,BIIB,MTD,GRMN,EXR,RMD,ON,GLW,CDW,DFS,PPG,DVN,TSCO,ROK,HIG,WAB,ADM,XEL,EFX,FSLR,VICI,ANSS,EIX,AVB,EBAY,CBRE,FTV,DECK,TTWO,TROW,GPN,RJF,CHD,WTW,BRO,WEC,FITB,TRGP,DOV,VLTO,DLTR,KEYS,MTB,AWK,EQR,IFF,WDC,WST,PHM,ZBH,HPE,NTAP,BR,IRM,CAH,DTE,ETR,NVR,STT,STE,TER,APTV,FE,ROL,LYV,HUBB,WY,PTC,BF-B,AXON,BALL,TSN,PPL,INVH,STLD,TYL,BLDR,K,ARE,LDOS,WRB,ES,GPC,SBAC,CTRA,WAT,HBAN,CCL,STX,MOH,MKC,PFG,ALGN,HRL,VTR,CBOE,TDY,AEE,WBD,CNP,COO,CPAY,OMC,CINF,ULTA,CMS,AVY,NRG,EQT,DRI,J,DPZ,RF,SYF,BAX,ESS,HOLX,VRSN,NTRS,ENPH,EG,UAL,ATO,ILMN,TXT,LH,ZBRA,CE,EXPD,FDS,L,PKG,CLX,IEX,JBHT,CFG,LUV,MAA,IP,DGX,GEN,BBY,NWS,NWSA,MAS,FOX,FOXA,ALB,AES,SWKS,BG,UDR,EXPE,CAG,JBL,MRO,AMCR,AKAM,SNA,CF,WRK,RVTY,POOL,TRMB,WBA,PNR,KEY,NDSN,CPB,DOC,SWK,HST,INCY,LW,LNT,TECH,PODD,NI,MGM,KIM,AOS,VTRS,JKHY,EVRG,BEN,DVA,IPG,UHS,EMN,SJM,LKQ,TAP,JNPR,CRL,CPT,REG,KMX,APA,RL,BBWI,ALLE,WYNN,BXP,EPAM,SOLV,CHRW,HII,FFIV,MOS,CTLT,PAYC,TFX,TPR,QRVO,HSIC,AAL,GNRC,DAY,AIZ,PNW,HAS,PARA,MKTX,FRT,BIO,BWA,MTCH,FMC,GL,MHK,CZR,ETSY,IVZ,RHI,NCLH,CMA\n",
      "https://data.alpaca.markets/v1beta1/news 50\n",
      "https://data.alpaca.markets/v1beta1/news 50\n",
      "https://data.alpaca.markets/v1beta1/news 50\n",
      "https://data.alpaca.markets/v1beta1/news 50\n",
      "https://data.alpaca.markets/v1beta1/news 50\n"
     ]
    },
    {
     "name": "stderr",
     "output_type": "stream",
     "text": [
      " 37%|███▋      | 55/150 [03:32<04:10,  2.64s/it]"
     ]
    },
    {
     "name": "stdout",
     "output_type": "stream",
     "text": [
      "https://data.alpaca.markets/v1beta1/news 2\n",
      "error2\n",
      "Number of news articles: 252\n",
      "Fetching news for date: 2018-06-08\n",
      "start and end news collection 2018-06-01 2018-06-07\n",
      "length of ticker list 503\n",
      "MSFT,AAPL,NVDA,GOOG,GOOGL,AMZN,META,BRK-B,LLY,AVGO,JPM,TSLA,V,WMT,XOM,UNH,MA,PG,COST,JNJ,ORCL,MRK,HD,BAC,CVX,NFLX,ABBV,AMD,KO,CRM,PEP,QCOM,TMO,ADBE,WFC,LIN,DHR,TMUS,ACN,CSCO,MCD,DIS,GE,AMAT,TXN,ABT,AXP,CAT,INTU,VZ,AMGN,PFE,MS,NEE,IBM,PM,NOW,CMCSA,BX,GS,ISRG,MU,UNP,RTX,NKE,COP,SPGI,ETN,UBER,SCHW,INTC,HON,BKNG,SYK,LRCX,T,LOW,C,ELV,PGR,UPS,VRTX,BLK,TJX,ADI,LMT,BSX,REGN,MDT,CB,BA,KLAC,DE,PANW,MMC,ADP,PLD,ANET,CI,ABNB,MDLZ,SNPS,SBUX,FI,AMT,CMG,SO,WM,BMY,HCA,GD,GILD,APH,CDNS,DUK,ICE,MO,ZTS,CME,SHW,CL,TT,TDG,MCO,FCX,MCK,EQIX,CEG,ITW,NXPI,EOG,CVS,CTAS,NOC,PH,MAR,TGT,ECL,BDX,SLB,CSX,EMR,PYPL,MRNA,USB,MPC,PNC,AON,FDX,MSI,PSX,WELL,CARR,RSG,APD,ROP,ORLY,PCAR,SPG,MNST,MMM,AJG,OXY,VLO,EW,MCHP,COF,CPRT,AIG,SMCI,MET,TFC,NSC,HLT,DXCM,GM,AFL,JCI,WMB,TRV,GEV,NEM,F,PCG,SRE,AZO,PSA,ROST,DHI,GWW,DLR,OKE,AEP,FTNT,HES,KDP,TEL,ADSK,STZ,O,URI,EL,PAYX,KMB,D,BK,A,AMP,COR,KHC,ALL,FIS,LEN,PRU,IDXX,CCI,LHX,KMI,HUM,IQV,PWR,NUE,DOW,AME,HSY,CNC,OTIS,CHTR,MSCI,CMI,ACGL,YUM,CTVA,GIS,KR,IR,RCL,LULU,FAST,ODFL,PEG,KVUE,EXC,MPWR,GEHC,SYY,EA,VRSK,NDAQ,MLM,VST,CSGP,XYL,HWM,FANG,VMC,FICO,IT,CTSH,DD,DAL,LVS,ED,BKR,LYB,HPQ,HAL,DG,BIIB,MTD,GRMN,EXR,RMD,ON,GLW,CDW,DFS,PPG,DVN,TSCO,ROK,HIG,WAB,ADM,XEL,EFX,FSLR,VICI,ANSS,EIX,AVB,EBAY,CBRE,FTV,DECK,TTWO,TROW,GPN,RJF,CHD,WTW,BRO,WEC,FITB,TRGP,DOV,VLTO,DLTR,KEYS,MTB,AWK,EQR,IFF,WDC,WST,PHM,ZBH,HPE,NTAP,BR,IRM,CAH,DTE,ETR,NVR,STT,STE,TER,APTV,FE,ROL,LYV,HUBB,WY,PTC,BF-B,AXON,BALL,TSN,PPL,INVH,STLD,TYL,BLDR,K,ARE,LDOS,WRB,ES,GPC,SBAC,CTRA,WAT,HBAN,CCL,STX,MOH,MKC,PFG,ALGN,HRL,VTR,CBOE,TDY,AEE,WBD,CNP,COO,CPAY,OMC,CINF,ULTA,CMS,AVY,NRG,EQT,DRI,J,DPZ,RF,SYF,BAX,ESS,HOLX,VRSN,NTRS,ENPH,EG,UAL,ATO,ILMN,TXT,LH,ZBRA,CE,EXPD,FDS,L,PKG,CLX,IEX,JBHT,CFG,LUV,MAA,IP,DGX,GEN,BBY,NWS,NWSA,MAS,FOX,FOXA,ALB,AES,SWKS,BG,UDR,EXPE,CAG,JBL,MRO,AMCR,AKAM,SNA,CF,WRK,RVTY,POOL,TRMB,WBA,PNR,KEY,NDSN,CPB,DOC,SWK,HST,INCY,LW,LNT,TECH,PODD,NI,MGM,KIM,AOS,VTRS,JKHY,EVRG,BEN,DVA,IPG,UHS,EMN,SJM,LKQ,TAP,JNPR,CRL,CPT,REG,KMX,APA,RL,BBWI,ALLE,WYNN,BXP,EPAM,SOLV,CHRW,HII,FFIV,MOS,CTLT,PAYC,TFX,TPR,QRVO,HSIC,AAL,GNRC,DAY,AIZ,PNW,HAS,PARA,MKTX,FRT,BIO,BWA,MTCH,FMC,GL,MHK,CZR,ETSY,IVZ,RHI,NCLH,CMA\n",
      "https://data.alpaca.markets/v1beta1/news 50\n",
      "https://data.alpaca.markets/v1beta1/news 50\n",
      "https://data.alpaca.markets/v1beta1/news 50\n",
      "https://data.alpaca.markets/v1beta1/news 50\n",
      "https://data.alpaca.markets/v1beta1/news 50\n",
      "https://data.alpaca.markets/v1beta1/news 50\n",
      "https://data.alpaca.markets/v1beta1/news 50\n",
      "https://data.alpaca.markets/v1beta1/news 50\n",
      "https://data.alpaca.markets/v1beta1/news 50\n"
     ]
    },
    {
     "name": "stderr",
     "output_type": "stream",
     "text": [
      " 37%|███▋      | 56/150 [03:35<04:39,  2.97s/it]"
     ]
    },
    {
     "name": "stdout",
     "output_type": "stream",
     "text": [
      "https://data.alpaca.markets/v1beta1/news 29\n",
      "error2\n",
      "Number of news articles: 479\n",
      "Fetching news for date: 2018-06-18\n",
      "start and end news collection 2018-06-11 2018-06-17\n",
      "length of ticker list 503\n",
      "MSFT,AAPL,NVDA,GOOG,GOOGL,AMZN,META,BRK-B,LLY,AVGO,JPM,TSLA,V,WMT,XOM,UNH,MA,PG,COST,JNJ,ORCL,MRK,HD,BAC,CVX,NFLX,ABBV,AMD,KO,CRM,PEP,QCOM,TMO,ADBE,WFC,LIN,DHR,TMUS,ACN,CSCO,MCD,DIS,GE,AMAT,TXN,ABT,AXP,CAT,INTU,VZ,AMGN,PFE,MS,NEE,IBM,PM,NOW,CMCSA,BX,GS,ISRG,MU,UNP,RTX,NKE,COP,SPGI,ETN,UBER,SCHW,INTC,HON,BKNG,SYK,LRCX,T,LOW,C,ELV,PGR,UPS,VRTX,BLK,TJX,ADI,LMT,BSX,REGN,MDT,CB,BA,KLAC,DE,PANW,MMC,ADP,PLD,ANET,CI,ABNB,MDLZ,SNPS,SBUX,FI,AMT,CMG,SO,WM,BMY,HCA,GD,GILD,APH,CDNS,DUK,ICE,MO,ZTS,CME,SHW,CL,TT,TDG,MCO,FCX,MCK,EQIX,CEG,ITW,NXPI,EOG,CVS,CTAS,NOC,PH,MAR,TGT,ECL,BDX,SLB,CSX,EMR,PYPL,MRNA,USB,MPC,PNC,AON,FDX,MSI,PSX,WELL,CARR,RSG,APD,ROP,ORLY,PCAR,SPG,MNST,MMM,AJG,OXY,VLO,EW,MCHP,COF,CPRT,AIG,SMCI,MET,TFC,NSC,HLT,DXCM,GM,AFL,JCI,WMB,TRV,GEV,NEM,F,PCG,SRE,AZO,PSA,ROST,DHI,GWW,DLR,OKE,AEP,FTNT,HES,KDP,TEL,ADSK,STZ,O,URI,EL,PAYX,KMB,D,BK,A,AMP,COR,KHC,ALL,FIS,LEN,PRU,IDXX,CCI,LHX,KMI,HUM,IQV,PWR,NUE,DOW,AME,HSY,CNC,OTIS,CHTR,MSCI,CMI,ACGL,YUM,CTVA,GIS,KR,IR,RCL,LULU,FAST,ODFL,PEG,KVUE,EXC,MPWR,GEHC,SYY,EA,VRSK,NDAQ,MLM,VST,CSGP,XYL,HWM,FANG,VMC,FICO,IT,CTSH,DD,DAL,LVS,ED,BKR,LYB,HPQ,HAL,DG,BIIB,MTD,GRMN,EXR,RMD,ON,GLW,CDW,DFS,PPG,DVN,TSCO,ROK,HIG,WAB,ADM,XEL,EFX,FSLR,VICI,ANSS,EIX,AVB,EBAY,CBRE,FTV,DECK,TTWO,TROW,GPN,RJF,CHD,WTW,BRO,WEC,FITB,TRGP,DOV,VLTO,DLTR,KEYS,MTB,AWK,EQR,IFF,WDC,WST,PHM,ZBH,HPE,NTAP,BR,IRM,CAH,DTE,ETR,NVR,STT,STE,TER,APTV,FE,ROL,LYV,HUBB,WY,PTC,BF-B,AXON,BALL,TSN,PPL,INVH,STLD,TYL,BLDR,K,ARE,LDOS,WRB,ES,GPC,SBAC,CTRA,WAT,HBAN,CCL,STX,MOH,MKC,PFG,ALGN,HRL,VTR,CBOE,TDY,AEE,WBD,CNP,COO,CPAY,OMC,CINF,ULTA,CMS,AVY,NRG,EQT,DRI,J,DPZ,RF,SYF,BAX,ESS,HOLX,VRSN,NTRS,ENPH,EG,UAL,ATO,ILMN,TXT,LH,ZBRA,CE,EXPD,FDS,L,PKG,CLX,IEX,JBHT,CFG,LUV,MAA,IP,DGX,GEN,BBY,NWS,NWSA,MAS,FOX,FOXA,ALB,AES,SWKS,BG,UDR,EXPE,CAG,JBL,MRO,AMCR,AKAM,SNA,CF,WRK,RVTY,POOL,TRMB,WBA,PNR,KEY,NDSN,CPB,DOC,SWK,HST,INCY,LW,LNT,TECH,PODD,NI,MGM,KIM,AOS,VTRS,JKHY,EVRG,BEN,DVA,IPG,UHS,EMN,SJM,LKQ,TAP,JNPR,CRL,CPT,REG,KMX,APA,RL,BBWI,ALLE,WYNN,BXP,EPAM,SOLV,CHRW,HII,FFIV,MOS,CTLT,PAYC,TFX,TPR,QRVO,HSIC,AAL,GNRC,DAY,AIZ,PNW,HAS,PARA,MKTX,FRT,BIO,BWA,MTCH,FMC,GL,MHK,CZR,ETSY,IVZ,RHI,NCLH,CMA\n",
      "https://data.alpaca.markets/v1beta1/news 50\n",
      "https://data.alpaca.markets/v1beta1/news 50\n",
      "https://data.alpaca.markets/v1beta1/news 50\n",
      "https://data.alpaca.markets/v1beta1/news 50\n",
      "https://data.alpaca.markets/v1beta1/news 50\n",
      "https://data.alpaca.markets/v1beta1/news 50\n",
      "https://data.alpaca.markets/v1beta1/news 50\n",
      "https://data.alpaca.markets/v1beta1/news 50\n",
      "https://data.alpaca.markets/v1beta1/news 50\n",
      "https://data.alpaca.markets/v1beta1/news 50\n"
     ]
    },
    {
     "name": "stderr",
     "output_type": "stream",
     "text": [
      " 38%|███▊      | 57/150 [03:39<05:05,  3.28s/it]"
     ]
    },
    {
     "name": "stdout",
     "output_type": "stream",
     "text": [
      "https://data.alpaca.markets/v1beta1/news 13\n",
      "error2\n",
      "Number of news articles: 513\n",
      "Fetching news for date: 2018-07-03\n",
      "start and end news collection 2018-06-26 2018-07-02\n",
      "length of ticker list 503\n",
      "MSFT,AAPL,NVDA,GOOG,GOOGL,AMZN,META,BRK-B,LLY,AVGO,JPM,TSLA,V,WMT,XOM,UNH,MA,PG,COST,JNJ,ORCL,MRK,HD,BAC,CVX,NFLX,ABBV,AMD,KO,CRM,PEP,QCOM,TMO,ADBE,WFC,LIN,DHR,TMUS,ACN,CSCO,MCD,DIS,GE,AMAT,TXN,ABT,AXP,CAT,INTU,VZ,AMGN,PFE,MS,NEE,IBM,PM,NOW,CMCSA,BX,GS,ISRG,MU,UNP,RTX,NKE,COP,SPGI,ETN,UBER,SCHW,INTC,HON,BKNG,SYK,LRCX,T,LOW,C,ELV,PGR,UPS,VRTX,BLK,TJX,ADI,LMT,BSX,REGN,MDT,CB,BA,KLAC,DE,PANW,MMC,ADP,PLD,ANET,CI,ABNB,MDLZ,SNPS,SBUX,FI,AMT,CMG,SO,WM,BMY,HCA,GD,GILD,APH,CDNS,DUK,ICE,MO,ZTS,CME,SHW,CL,TT,TDG,MCO,FCX,MCK,EQIX,CEG,ITW,NXPI,EOG,CVS,CTAS,NOC,PH,MAR,TGT,ECL,BDX,SLB,CSX,EMR,PYPL,MRNA,USB,MPC,PNC,AON,FDX,MSI,PSX,WELL,CARR,RSG,APD,ROP,ORLY,PCAR,SPG,MNST,MMM,AJG,OXY,VLO,EW,MCHP,COF,CPRT,AIG,SMCI,MET,TFC,NSC,HLT,DXCM,GM,AFL,JCI,WMB,TRV,GEV,NEM,F,PCG,SRE,AZO,PSA,ROST,DHI,GWW,DLR,OKE,AEP,FTNT,HES,KDP,TEL,ADSK,STZ,O,URI,EL,PAYX,KMB,D,BK,A,AMP,COR,KHC,ALL,FIS,LEN,PRU,IDXX,CCI,LHX,KMI,HUM,IQV,PWR,NUE,DOW,AME,HSY,CNC,OTIS,CHTR,MSCI,CMI,ACGL,YUM,CTVA,GIS,KR,IR,RCL,LULU,FAST,ODFL,PEG,KVUE,EXC,MPWR,GEHC,SYY,EA,VRSK,NDAQ,MLM,VST,CSGP,XYL,HWM,FANG,VMC,FICO,IT,CTSH,DD,DAL,LVS,ED,BKR,LYB,HPQ,HAL,DG,BIIB,MTD,GRMN,EXR,RMD,ON,GLW,CDW,DFS,PPG,DVN,TSCO,ROK,HIG,WAB,ADM,XEL,EFX,FSLR,VICI,ANSS,EIX,AVB,EBAY,CBRE,FTV,DECK,TTWO,TROW,GPN,RJF,CHD,WTW,BRO,WEC,FITB,TRGP,DOV,VLTO,DLTR,KEYS,MTB,AWK,EQR,IFF,WDC,WST,PHM,ZBH,HPE,NTAP,BR,IRM,CAH,DTE,ETR,NVR,STT,STE,TER,APTV,FE,ROL,LYV,HUBB,WY,PTC,BF-B,AXON,BALL,TSN,PPL,INVH,STLD,TYL,BLDR,K,ARE,LDOS,WRB,ES,GPC,SBAC,CTRA,WAT,HBAN,CCL,STX,MOH,MKC,PFG,ALGN,HRL,VTR,CBOE,TDY,AEE,WBD,CNP,COO,CPAY,OMC,CINF,ULTA,CMS,AVY,NRG,EQT,DRI,J,DPZ,RF,SYF,BAX,ESS,HOLX,VRSN,NTRS,ENPH,EG,UAL,ATO,ILMN,TXT,LH,ZBRA,CE,EXPD,FDS,L,PKG,CLX,IEX,JBHT,CFG,LUV,MAA,IP,DGX,GEN,BBY,NWS,NWSA,MAS,FOX,FOXA,ALB,AES,SWKS,BG,UDR,EXPE,CAG,JBL,MRO,AMCR,AKAM,SNA,CF,WRK,RVTY,POOL,TRMB,WBA,PNR,KEY,NDSN,CPB,DOC,SWK,HST,INCY,LW,LNT,TECH,PODD,NI,MGM,KIM,AOS,VTRS,JKHY,EVRG,BEN,DVA,IPG,UHS,EMN,SJM,LKQ,TAP,JNPR,CRL,CPT,REG,KMX,APA,RL,BBWI,ALLE,WYNN,BXP,EPAM,SOLV,CHRW,HII,FFIV,MOS,CTLT,PAYC,TFX,TPR,QRVO,HSIC,AAL,GNRC,DAY,AIZ,PNW,HAS,PARA,MKTX,FRT,BIO,BWA,MTCH,FMC,GL,MHK,CZR,ETSY,IVZ,RHI,NCLH,CMA\n",
      "https://data.alpaca.markets/v1beta1/news 50\n",
      "https://data.alpaca.markets/v1beta1/news 50\n",
      "https://data.alpaca.markets/v1beta1/news 50\n",
      "https://data.alpaca.markets/v1beta1/news 50\n",
      "https://data.alpaca.markets/v1beta1/news 50\n",
      "https://data.alpaca.markets/v1beta1/news 50\n",
      "https://data.alpaca.markets/v1beta1/news 50\n",
      "https://data.alpaca.markets/v1beta1/news 50\n",
      "https://data.alpaca.markets/v1beta1/news 50\n"
     ]
    },
    {
     "name": "stderr",
     "output_type": "stream",
     "text": [
      " 39%|███▊      | 58/150 [03:43<05:09,  3.37s/it]"
     ]
    },
    {
     "name": "stdout",
     "output_type": "stream",
     "text": [
      "https://data.alpaca.markets/v1beta1/news 16\n",
      "error2\n",
      "Number of news articles: 466\n",
      "Fetching news for date: 2018-07-24\n",
      "start and end news collection 2018-07-17 2018-07-23\n",
      "length of ticker list 503\n",
      "MSFT,AAPL,NVDA,GOOG,GOOGL,AMZN,META,BRK-B,LLY,AVGO,JPM,TSLA,V,WMT,XOM,UNH,MA,PG,COST,JNJ,ORCL,MRK,HD,BAC,CVX,NFLX,ABBV,AMD,KO,CRM,PEP,QCOM,TMO,ADBE,WFC,LIN,DHR,TMUS,ACN,CSCO,MCD,DIS,GE,AMAT,TXN,ABT,AXP,CAT,INTU,VZ,AMGN,PFE,MS,NEE,IBM,PM,NOW,CMCSA,BX,GS,ISRG,MU,UNP,RTX,NKE,COP,SPGI,ETN,UBER,SCHW,INTC,HON,BKNG,SYK,LRCX,T,LOW,C,ELV,PGR,UPS,VRTX,BLK,TJX,ADI,LMT,BSX,REGN,MDT,CB,BA,KLAC,DE,PANW,MMC,ADP,PLD,ANET,CI,ABNB,MDLZ,SNPS,SBUX,FI,AMT,CMG,SO,WM,BMY,HCA,GD,GILD,APH,CDNS,DUK,ICE,MO,ZTS,CME,SHW,CL,TT,TDG,MCO,FCX,MCK,EQIX,CEG,ITW,NXPI,EOG,CVS,CTAS,NOC,PH,MAR,TGT,ECL,BDX,SLB,CSX,EMR,PYPL,MRNA,USB,MPC,PNC,AON,FDX,MSI,PSX,WELL,CARR,RSG,APD,ROP,ORLY,PCAR,SPG,MNST,MMM,AJG,OXY,VLO,EW,MCHP,COF,CPRT,AIG,SMCI,MET,TFC,NSC,HLT,DXCM,GM,AFL,JCI,WMB,TRV,GEV,NEM,F,PCG,SRE,AZO,PSA,ROST,DHI,GWW,DLR,OKE,AEP,FTNT,HES,KDP,TEL,ADSK,STZ,O,URI,EL,PAYX,KMB,D,BK,A,AMP,COR,KHC,ALL,FIS,LEN,PRU,IDXX,CCI,LHX,KMI,HUM,IQV,PWR,NUE,DOW,AME,HSY,CNC,OTIS,CHTR,MSCI,CMI,ACGL,YUM,CTVA,GIS,KR,IR,RCL,LULU,FAST,ODFL,PEG,KVUE,EXC,MPWR,GEHC,SYY,EA,VRSK,NDAQ,MLM,VST,CSGP,XYL,HWM,FANG,VMC,FICO,IT,CTSH,DD,DAL,LVS,ED,BKR,LYB,HPQ,HAL,DG,BIIB,MTD,GRMN,EXR,RMD,ON,GLW,CDW,DFS,PPG,DVN,TSCO,ROK,HIG,WAB,ADM,XEL,EFX,FSLR,VICI,ANSS,EIX,AVB,EBAY,CBRE,FTV,DECK,TTWO,TROW,GPN,RJF,CHD,WTW,BRO,WEC,FITB,TRGP,DOV,VLTO,DLTR,KEYS,MTB,AWK,EQR,IFF,WDC,WST,PHM,ZBH,HPE,NTAP,BR,IRM,CAH,DTE,ETR,NVR,STT,STE,TER,APTV,FE,ROL,LYV,HUBB,WY,PTC,BF-B,AXON,BALL,TSN,PPL,INVH,STLD,TYL,BLDR,K,ARE,LDOS,WRB,ES,GPC,SBAC,CTRA,WAT,HBAN,CCL,STX,MOH,MKC,PFG,ALGN,HRL,VTR,CBOE,TDY,AEE,WBD,CNP,COO,CPAY,OMC,CINF,ULTA,CMS,AVY,NRG,EQT,DRI,J,DPZ,RF,SYF,BAX,ESS,HOLX,VRSN,NTRS,ENPH,EG,UAL,ATO,ILMN,TXT,LH,ZBRA,CE,EXPD,FDS,L,PKG,CLX,IEX,JBHT,CFG,LUV,MAA,IP,DGX,GEN,BBY,NWS,NWSA,MAS,FOX,FOXA,ALB,AES,SWKS,BG,UDR,EXPE,CAG,JBL,MRO,AMCR,AKAM,SNA,CF,WRK,RVTY,POOL,TRMB,WBA,PNR,KEY,NDSN,CPB,DOC,SWK,HST,INCY,LW,LNT,TECH,PODD,NI,MGM,KIM,AOS,VTRS,JKHY,EVRG,BEN,DVA,IPG,UHS,EMN,SJM,LKQ,TAP,JNPR,CRL,CPT,REG,KMX,APA,RL,BBWI,ALLE,WYNN,BXP,EPAM,SOLV,CHRW,HII,FFIV,MOS,CTLT,PAYC,TFX,TPR,QRVO,HSIC,AAL,GNRC,DAY,AIZ,PNW,HAS,PARA,MKTX,FRT,BIO,BWA,MTCH,FMC,GL,MHK,CZR,ETSY,IVZ,RHI,NCLH,CMA\n",
      "https://data.alpaca.markets/v1beta1/news 50\n",
      "https://data.alpaca.markets/v1beta1/news 50\n",
      "https://data.alpaca.markets/v1beta1/news 50\n",
      "https://data.alpaca.markets/v1beta1/news 50\n",
      "https://data.alpaca.markets/v1beta1/news 50\n",
      "https://data.alpaca.markets/v1beta1/news 50\n",
      "https://data.alpaca.markets/v1beta1/news 50\n",
      "https://data.alpaca.markets/v1beta1/news 50\n",
      "https://data.alpaca.markets/v1beta1/news 50\n",
      "https://data.alpaca.markets/v1beta1/news 50\n",
      "https://data.alpaca.markets/v1beta1/news 50\n",
      "https://data.alpaca.markets/v1beta1/news 50\n"
     ]
    },
    {
     "name": "stderr",
     "output_type": "stream",
     "text": [
      " 39%|███▉      | 59/150 [03:47<05:31,  3.65s/it]"
     ]
    },
    {
     "name": "stdout",
     "output_type": "stream",
     "text": [
      "https://data.alpaca.markets/v1beta1/news 36\n",
      "error2\n",
      "Number of news articles: 636\n",
      "Fetching news for date: 2018-07-27\n",
      "start and end news collection 2018-07-20 2018-07-26\n",
      "length of ticker list 503\n",
      "MSFT,AAPL,NVDA,GOOG,GOOGL,AMZN,META,BRK-B,LLY,AVGO,JPM,TSLA,V,WMT,XOM,UNH,MA,PG,COST,JNJ,ORCL,MRK,HD,BAC,CVX,NFLX,ABBV,AMD,KO,CRM,PEP,QCOM,TMO,ADBE,WFC,LIN,DHR,TMUS,ACN,CSCO,MCD,DIS,GE,AMAT,TXN,ABT,AXP,CAT,INTU,VZ,AMGN,PFE,MS,NEE,IBM,PM,NOW,CMCSA,BX,GS,ISRG,MU,UNP,RTX,NKE,COP,SPGI,ETN,UBER,SCHW,INTC,HON,BKNG,SYK,LRCX,T,LOW,C,ELV,PGR,UPS,VRTX,BLK,TJX,ADI,LMT,BSX,REGN,MDT,CB,BA,KLAC,DE,PANW,MMC,ADP,PLD,ANET,CI,ABNB,MDLZ,SNPS,SBUX,FI,AMT,CMG,SO,WM,BMY,HCA,GD,GILD,APH,CDNS,DUK,ICE,MO,ZTS,CME,SHW,CL,TT,TDG,MCO,FCX,MCK,EQIX,CEG,ITW,NXPI,EOG,CVS,CTAS,NOC,PH,MAR,TGT,ECL,BDX,SLB,CSX,EMR,PYPL,MRNA,USB,MPC,PNC,AON,FDX,MSI,PSX,WELL,CARR,RSG,APD,ROP,ORLY,PCAR,SPG,MNST,MMM,AJG,OXY,VLO,EW,MCHP,COF,CPRT,AIG,SMCI,MET,TFC,NSC,HLT,DXCM,GM,AFL,JCI,WMB,TRV,GEV,NEM,F,PCG,SRE,AZO,PSA,ROST,DHI,GWW,DLR,OKE,AEP,FTNT,HES,KDP,TEL,ADSK,STZ,O,URI,EL,PAYX,KMB,D,BK,A,AMP,COR,KHC,ALL,FIS,LEN,PRU,IDXX,CCI,LHX,KMI,HUM,IQV,PWR,NUE,DOW,AME,HSY,CNC,OTIS,CHTR,MSCI,CMI,ACGL,YUM,CTVA,GIS,KR,IR,RCL,LULU,FAST,ODFL,PEG,KVUE,EXC,MPWR,GEHC,SYY,EA,VRSK,NDAQ,MLM,VST,CSGP,XYL,HWM,FANG,VMC,FICO,IT,CTSH,DD,DAL,LVS,ED,BKR,LYB,HPQ,HAL,DG,BIIB,MTD,GRMN,EXR,RMD,ON,GLW,CDW,DFS,PPG,DVN,TSCO,ROK,HIG,WAB,ADM,XEL,EFX,FSLR,VICI,ANSS,EIX,AVB,EBAY,CBRE,FTV,DECK,TTWO,TROW,GPN,RJF,CHD,WTW,BRO,WEC,FITB,TRGP,DOV,VLTO,DLTR,KEYS,MTB,AWK,EQR,IFF,WDC,WST,PHM,ZBH,HPE,NTAP,BR,IRM,CAH,DTE,ETR,NVR,STT,STE,TER,APTV,FE,ROL,LYV,HUBB,WY,PTC,BF-B,AXON,BALL,TSN,PPL,INVH,STLD,TYL,BLDR,K,ARE,LDOS,WRB,ES,GPC,SBAC,CTRA,WAT,HBAN,CCL,STX,MOH,MKC,PFG,ALGN,HRL,VTR,CBOE,TDY,AEE,WBD,CNP,COO,CPAY,OMC,CINF,ULTA,CMS,AVY,NRG,EQT,DRI,J,DPZ,RF,SYF,BAX,ESS,HOLX,VRSN,NTRS,ENPH,EG,UAL,ATO,ILMN,TXT,LH,ZBRA,CE,EXPD,FDS,L,PKG,CLX,IEX,JBHT,CFG,LUV,MAA,IP,DGX,GEN,BBY,NWS,NWSA,MAS,FOX,FOXA,ALB,AES,SWKS,BG,UDR,EXPE,CAG,JBL,MRO,AMCR,AKAM,SNA,CF,WRK,RVTY,POOL,TRMB,WBA,PNR,KEY,NDSN,CPB,DOC,SWK,HST,INCY,LW,LNT,TECH,PODD,NI,MGM,KIM,AOS,VTRS,JKHY,EVRG,BEN,DVA,IPG,UHS,EMN,SJM,LKQ,TAP,JNPR,CRL,CPT,REG,KMX,APA,RL,BBWI,ALLE,WYNN,BXP,EPAM,SOLV,CHRW,HII,FFIV,MOS,CTLT,PAYC,TFX,TPR,QRVO,HSIC,AAL,GNRC,DAY,AIZ,PNW,HAS,PARA,MKTX,FRT,BIO,BWA,MTCH,FMC,GL,MHK,CZR,ETSY,IVZ,RHI,NCLH,CMA\n",
      "https://data.alpaca.markets/v1beta1/news 50\n",
      "https://data.alpaca.markets/v1beta1/news 50\n",
      "https://data.alpaca.markets/v1beta1/news 50\n",
      "https://data.alpaca.markets/v1beta1/news 50\n",
      "https://data.alpaca.markets/v1beta1/news 50\n",
      "https://data.alpaca.markets/v1beta1/news 50\n",
      "https://data.alpaca.markets/v1beta1/news 50\n",
      "https://data.alpaca.markets/v1beta1/news 50\n",
      "https://data.alpaca.markets/v1beta1/news 50\n",
      "https://data.alpaca.markets/v1beta1/news 50\n",
      "https://data.alpaca.markets/v1beta1/news 50\n",
      "https://data.alpaca.markets/v1beta1/news 50\n",
      "https://data.alpaca.markets/v1beta1/news 50\n",
      "https://data.alpaca.markets/v1beta1/news 50\n",
      "https://data.alpaca.markets/v1beta1/news 50\n"
     ]
    },
    {
     "name": "stderr",
     "output_type": "stream",
     "text": [
      " 40%|████      | 60/150 [03:52<06:00,  4.00s/it]"
     ]
    },
    {
     "name": "stdout",
     "output_type": "stream",
     "text": [
      "https://data.alpaca.markets/v1beta1/news 23\n",
      "error2\n",
      "Number of news articles: 773\n",
      "Fetching news for date: 2018-07-30\n",
      "start and end news collection 2018-07-23 2018-07-29\n",
      "length of ticker list 503\n",
      "MSFT,AAPL,NVDA,GOOG,GOOGL,AMZN,META,BRK-B,LLY,AVGO,JPM,TSLA,V,WMT,XOM,UNH,MA,PG,COST,JNJ,ORCL,MRK,HD,BAC,CVX,NFLX,ABBV,AMD,KO,CRM,PEP,QCOM,TMO,ADBE,WFC,LIN,DHR,TMUS,ACN,CSCO,MCD,DIS,GE,AMAT,TXN,ABT,AXP,CAT,INTU,VZ,AMGN,PFE,MS,NEE,IBM,PM,NOW,CMCSA,BX,GS,ISRG,MU,UNP,RTX,NKE,COP,SPGI,ETN,UBER,SCHW,INTC,HON,BKNG,SYK,LRCX,T,LOW,C,ELV,PGR,UPS,VRTX,BLK,TJX,ADI,LMT,BSX,REGN,MDT,CB,BA,KLAC,DE,PANW,MMC,ADP,PLD,ANET,CI,ABNB,MDLZ,SNPS,SBUX,FI,AMT,CMG,SO,WM,BMY,HCA,GD,GILD,APH,CDNS,DUK,ICE,MO,ZTS,CME,SHW,CL,TT,TDG,MCO,FCX,MCK,EQIX,CEG,ITW,NXPI,EOG,CVS,CTAS,NOC,PH,MAR,TGT,ECL,BDX,SLB,CSX,EMR,PYPL,MRNA,USB,MPC,PNC,AON,FDX,MSI,PSX,WELL,CARR,RSG,APD,ROP,ORLY,PCAR,SPG,MNST,MMM,AJG,OXY,VLO,EW,MCHP,COF,CPRT,AIG,SMCI,MET,TFC,NSC,HLT,DXCM,GM,AFL,JCI,WMB,TRV,GEV,NEM,F,PCG,SRE,AZO,PSA,ROST,DHI,GWW,DLR,OKE,AEP,FTNT,HES,KDP,TEL,ADSK,STZ,O,URI,EL,PAYX,KMB,D,BK,A,AMP,COR,KHC,ALL,FIS,LEN,PRU,IDXX,CCI,LHX,KMI,HUM,IQV,PWR,NUE,DOW,AME,HSY,CNC,OTIS,CHTR,MSCI,CMI,ACGL,YUM,CTVA,GIS,KR,IR,RCL,LULU,FAST,ODFL,PEG,KVUE,EXC,MPWR,GEHC,SYY,EA,VRSK,NDAQ,MLM,VST,CSGP,XYL,HWM,FANG,VMC,FICO,IT,CTSH,DD,DAL,LVS,ED,BKR,LYB,HPQ,HAL,DG,BIIB,MTD,GRMN,EXR,RMD,ON,GLW,CDW,DFS,PPG,DVN,TSCO,ROK,HIG,WAB,ADM,XEL,EFX,FSLR,VICI,ANSS,EIX,AVB,EBAY,CBRE,FTV,DECK,TTWO,TROW,GPN,RJF,CHD,WTW,BRO,WEC,FITB,TRGP,DOV,VLTO,DLTR,KEYS,MTB,AWK,EQR,IFF,WDC,WST,PHM,ZBH,HPE,NTAP,BR,IRM,CAH,DTE,ETR,NVR,STT,STE,TER,APTV,FE,ROL,LYV,HUBB,WY,PTC,BF-B,AXON,BALL,TSN,PPL,INVH,STLD,TYL,BLDR,K,ARE,LDOS,WRB,ES,GPC,SBAC,CTRA,WAT,HBAN,CCL,STX,MOH,MKC,PFG,ALGN,HRL,VTR,CBOE,TDY,AEE,WBD,CNP,COO,CPAY,OMC,CINF,ULTA,CMS,AVY,NRG,EQT,DRI,J,DPZ,RF,SYF,BAX,ESS,HOLX,VRSN,NTRS,ENPH,EG,UAL,ATO,ILMN,TXT,LH,ZBRA,CE,EXPD,FDS,L,PKG,CLX,IEX,JBHT,CFG,LUV,MAA,IP,DGX,GEN,BBY,NWS,NWSA,MAS,FOX,FOXA,ALB,AES,SWKS,BG,UDR,EXPE,CAG,JBL,MRO,AMCR,AKAM,SNA,CF,WRK,RVTY,POOL,TRMB,WBA,PNR,KEY,NDSN,CPB,DOC,SWK,HST,INCY,LW,LNT,TECH,PODD,NI,MGM,KIM,AOS,VTRS,JKHY,EVRG,BEN,DVA,IPG,UHS,EMN,SJM,LKQ,TAP,JNPR,CRL,CPT,REG,KMX,APA,RL,BBWI,ALLE,WYNN,BXP,EPAM,SOLV,CHRW,HII,FFIV,MOS,CTLT,PAYC,TFX,TPR,QRVO,HSIC,AAL,GNRC,DAY,AIZ,PNW,HAS,PARA,MKTX,FRT,BIO,BWA,MTCH,FMC,GL,MHK,CZR,ETSY,IVZ,RHI,NCLH,CMA\n",
      "https://data.alpaca.markets/v1beta1/news 50\n",
      "https://data.alpaca.markets/v1beta1/news 50\n",
      "https://data.alpaca.markets/v1beta1/news 50\n",
      "https://data.alpaca.markets/v1beta1/news 50\n",
      "https://data.alpaca.markets/v1beta1/news 50\n",
      "https://data.alpaca.markets/v1beta1/news 50\n",
      "https://data.alpaca.markets/v1beta1/news 50\n",
      "https://data.alpaca.markets/v1beta1/news 50\n",
      "https://data.alpaca.markets/v1beta1/news 50\n",
      "https://data.alpaca.markets/v1beta1/news 50\n",
      "https://data.alpaca.markets/v1beta1/news 50\n",
      "https://data.alpaca.markets/v1beta1/news 50\n",
      "https://data.alpaca.markets/v1beta1/news 50\n",
      "https://data.alpaca.markets/v1beta1/news 50\n",
      "https://data.alpaca.markets/v1beta1/news 50\n",
      "https://data.alpaca.markets/v1beta1/news 50\n",
      "https://data.alpaca.markets/v1beta1/news 50\n",
      "https://data.alpaca.markets/v1beta1/news 50\n",
      "https://data.alpaca.markets/v1beta1/news 50\n",
      "https://data.alpaca.markets/v1beta1/news 50\n",
      "https://data.alpaca.markets/v1beta1/news 50\n",
      "https://data.alpaca.markets/v1beta1/news 50\n"
     ]
    },
    {
     "name": "stderr",
     "output_type": "stream",
     "text": [
      " 41%|████      | 61/150 [04:00<07:35,  5.12s/it]"
     ]
    },
    {
     "name": "stdout",
     "output_type": "stream",
     "text": [
      "https://data.alpaca.markets/v1beta1/news 4\n",
      "error2\n",
      "Number of news articles: 1104\n",
      "Fetching news for date: 2018-08-02\n",
      "start and end news collection 2018-07-26 2018-08-01\n",
      "length of ticker list 503\n",
      "MSFT,AAPL,NVDA,GOOG,GOOGL,AMZN,META,BRK-B,LLY,AVGO,JPM,TSLA,V,WMT,XOM,UNH,MA,PG,COST,JNJ,ORCL,MRK,HD,BAC,CVX,NFLX,ABBV,AMD,KO,CRM,PEP,QCOM,TMO,ADBE,WFC,LIN,DHR,TMUS,ACN,CSCO,MCD,DIS,GE,AMAT,TXN,ABT,AXP,CAT,INTU,VZ,AMGN,PFE,MS,NEE,IBM,PM,NOW,CMCSA,BX,GS,ISRG,MU,UNP,RTX,NKE,COP,SPGI,ETN,UBER,SCHW,INTC,HON,BKNG,SYK,LRCX,T,LOW,C,ELV,PGR,UPS,VRTX,BLK,TJX,ADI,LMT,BSX,REGN,MDT,CB,BA,KLAC,DE,PANW,MMC,ADP,PLD,ANET,CI,ABNB,MDLZ,SNPS,SBUX,FI,AMT,CMG,SO,WM,BMY,HCA,GD,GILD,APH,CDNS,DUK,ICE,MO,ZTS,CME,SHW,CL,TT,TDG,MCO,FCX,MCK,EQIX,CEG,ITW,NXPI,EOG,CVS,CTAS,NOC,PH,MAR,TGT,ECL,BDX,SLB,CSX,EMR,PYPL,MRNA,USB,MPC,PNC,AON,FDX,MSI,PSX,WELL,CARR,RSG,APD,ROP,ORLY,PCAR,SPG,MNST,MMM,AJG,OXY,VLO,EW,MCHP,COF,CPRT,AIG,SMCI,MET,TFC,NSC,HLT,DXCM,GM,AFL,JCI,WMB,TRV,GEV,NEM,F,PCG,SRE,AZO,PSA,ROST,DHI,GWW,DLR,OKE,AEP,FTNT,HES,KDP,TEL,ADSK,STZ,O,URI,EL,PAYX,KMB,D,BK,A,AMP,COR,KHC,ALL,FIS,LEN,PRU,IDXX,CCI,LHX,KMI,HUM,IQV,PWR,NUE,DOW,AME,HSY,CNC,OTIS,CHTR,MSCI,CMI,ACGL,YUM,CTVA,GIS,KR,IR,RCL,LULU,FAST,ODFL,PEG,KVUE,EXC,MPWR,GEHC,SYY,EA,VRSK,NDAQ,MLM,VST,CSGP,XYL,HWM,FANG,VMC,FICO,IT,CTSH,DD,DAL,LVS,ED,BKR,LYB,HPQ,HAL,DG,BIIB,MTD,GRMN,EXR,RMD,ON,GLW,CDW,DFS,PPG,DVN,TSCO,ROK,HIG,WAB,ADM,XEL,EFX,FSLR,VICI,ANSS,EIX,AVB,EBAY,CBRE,FTV,DECK,TTWO,TROW,GPN,RJF,CHD,WTW,BRO,WEC,FITB,TRGP,DOV,VLTO,DLTR,KEYS,MTB,AWK,EQR,IFF,WDC,WST,PHM,ZBH,HPE,NTAP,BR,IRM,CAH,DTE,ETR,NVR,STT,STE,TER,APTV,FE,ROL,LYV,HUBB,WY,PTC,BF-B,AXON,BALL,TSN,PPL,INVH,STLD,TYL,BLDR,K,ARE,LDOS,WRB,ES,GPC,SBAC,CTRA,WAT,HBAN,CCL,STX,MOH,MKC,PFG,ALGN,HRL,VTR,CBOE,TDY,AEE,WBD,CNP,COO,CPAY,OMC,CINF,ULTA,CMS,AVY,NRG,EQT,DRI,J,DPZ,RF,SYF,BAX,ESS,HOLX,VRSN,NTRS,ENPH,EG,UAL,ATO,ILMN,TXT,LH,ZBRA,CE,EXPD,FDS,L,PKG,CLX,IEX,JBHT,CFG,LUV,MAA,IP,DGX,GEN,BBY,NWS,NWSA,MAS,FOX,FOXA,ALB,AES,SWKS,BG,UDR,EXPE,CAG,JBL,MRO,AMCR,AKAM,SNA,CF,WRK,RVTY,POOL,TRMB,WBA,PNR,KEY,NDSN,CPB,DOC,SWK,HST,INCY,LW,LNT,TECH,PODD,NI,MGM,KIM,AOS,VTRS,JKHY,EVRG,BEN,DVA,IPG,UHS,EMN,SJM,LKQ,TAP,JNPR,CRL,CPT,REG,KMX,APA,RL,BBWI,ALLE,WYNN,BXP,EPAM,SOLV,CHRW,HII,FFIV,MOS,CTLT,PAYC,TFX,TPR,QRVO,HSIC,AAL,GNRC,DAY,AIZ,PNW,HAS,PARA,MKTX,FRT,BIO,BWA,MTCH,FMC,GL,MHK,CZR,ETSY,IVZ,RHI,NCLH,CMA\n",
      "https://data.alpaca.markets/v1beta1/news 50\n",
      "https://data.alpaca.markets/v1beta1/news 50\n",
      "https://data.alpaca.markets/v1beta1/news 50\n",
      "https://data.alpaca.markets/v1beta1/news 50\n",
      "https://data.alpaca.markets/v1beta1/news 50\n",
      "https://data.alpaca.markets/v1beta1/news 50\n",
      "https://data.alpaca.markets/v1beta1/news 50\n",
      "https://data.alpaca.markets/v1beta1/news 50\n",
      "https://data.alpaca.markets/v1beta1/news 50\n",
      "https://data.alpaca.markets/v1beta1/news 50\n",
      "https://data.alpaca.markets/v1beta1/news 50\n",
      "https://data.alpaca.markets/v1beta1/news 50\n",
      "https://data.alpaca.markets/v1beta1/news 50\n",
      "https://data.alpaca.markets/v1beta1/news 50\n",
      "https://data.alpaca.markets/v1beta1/news 50\n",
      "https://data.alpaca.markets/v1beta1/news 50\n",
      "https://data.alpaca.markets/v1beta1/news 50\n"
     ]
    },
    {
     "name": "stderr",
     "output_type": "stream",
     "text": [
      " 41%|████▏     | 62/150 [04:05<07:42,  5.26s/it]"
     ]
    },
    {
     "name": "stdout",
     "output_type": "stream",
     "text": [
      "https://data.alpaca.markets/v1beta1/news 6\n",
      "error2\n",
      "Number of news articles: 856\n",
      "Fetching news for date: 2018-08-20\n",
      "start and end news collection 2018-08-13 2018-08-19\n",
      "length of ticker list 503\n",
      "MSFT,AAPL,NVDA,GOOG,GOOGL,AMZN,META,BRK-B,LLY,AVGO,JPM,TSLA,V,WMT,XOM,UNH,MA,PG,COST,JNJ,ORCL,MRK,HD,BAC,CVX,NFLX,ABBV,AMD,KO,CRM,PEP,QCOM,TMO,ADBE,WFC,LIN,DHR,TMUS,ACN,CSCO,MCD,DIS,GE,AMAT,TXN,ABT,AXP,CAT,INTU,VZ,AMGN,PFE,MS,NEE,IBM,PM,NOW,CMCSA,BX,GS,ISRG,MU,UNP,RTX,NKE,COP,SPGI,ETN,UBER,SCHW,INTC,HON,BKNG,SYK,LRCX,T,LOW,C,ELV,PGR,UPS,VRTX,BLK,TJX,ADI,LMT,BSX,REGN,MDT,CB,BA,KLAC,DE,PANW,MMC,ADP,PLD,ANET,CI,ABNB,MDLZ,SNPS,SBUX,FI,AMT,CMG,SO,WM,BMY,HCA,GD,GILD,APH,CDNS,DUK,ICE,MO,ZTS,CME,SHW,CL,TT,TDG,MCO,FCX,MCK,EQIX,CEG,ITW,NXPI,EOG,CVS,CTAS,NOC,PH,MAR,TGT,ECL,BDX,SLB,CSX,EMR,PYPL,MRNA,USB,MPC,PNC,AON,FDX,MSI,PSX,WELL,CARR,RSG,APD,ROP,ORLY,PCAR,SPG,MNST,MMM,AJG,OXY,VLO,EW,MCHP,COF,CPRT,AIG,SMCI,MET,TFC,NSC,HLT,DXCM,GM,AFL,JCI,WMB,TRV,GEV,NEM,F,PCG,SRE,AZO,PSA,ROST,DHI,GWW,DLR,OKE,AEP,FTNT,HES,KDP,TEL,ADSK,STZ,O,URI,EL,PAYX,KMB,D,BK,A,AMP,COR,KHC,ALL,FIS,LEN,PRU,IDXX,CCI,LHX,KMI,HUM,IQV,PWR,NUE,DOW,AME,HSY,CNC,OTIS,CHTR,MSCI,CMI,ACGL,YUM,CTVA,GIS,KR,IR,RCL,LULU,FAST,ODFL,PEG,KVUE,EXC,MPWR,GEHC,SYY,EA,VRSK,NDAQ,MLM,VST,CSGP,XYL,HWM,FANG,VMC,FICO,IT,CTSH,DD,DAL,LVS,ED,BKR,LYB,HPQ,HAL,DG,BIIB,MTD,GRMN,EXR,RMD,ON,GLW,CDW,DFS,PPG,DVN,TSCO,ROK,HIG,WAB,ADM,XEL,EFX,FSLR,VICI,ANSS,EIX,AVB,EBAY,CBRE,FTV,DECK,TTWO,TROW,GPN,RJF,CHD,WTW,BRO,WEC,FITB,TRGP,DOV,VLTO,DLTR,KEYS,MTB,AWK,EQR,IFF,WDC,WST,PHM,ZBH,HPE,NTAP,BR,IRM,CAH,DTE,ETR,NVR,STT,STE,TER,APTV,FE,ROL,LYV,HUBB,WY,PTC,BF-B,AXON,BALL,TSN,PPL,INVH,STLD,TYL,BLDR,K,ARE,LDOS,WRB,ES,GPC,SBAC,CTRA,WAT,HBAN,CCL,STX,MOH,MKC,PFG,ALGN,HRL,VTR,CBOE,TDY,AEE,WBD,CNP,COO,CPAY,OMC,CINF,ULTA,CMS,AVY,NRG,EQT,DRI,J,DPZ,RF,SYF,BAX,ESS,HOLX,VRSN,NTRS,ENPH,EG,UAL,ATO,ILMN,TXT,LH,ZBRA,CE,EXPD,FDS,L,PKG,CLX,IEX,JBHT,CFG,LUV,MAA,IP,DGX,GEN,BBY,NWS,NWSA,MAS,FOX,FOXA,ALB,AES,SWKS,BG,UDR,EXPE,CAG,JBL,MRO,AMCR,AKAM,SNA,CF,WRK,RVTY,POOL,TRMB,WBA,PNR,KEY,NDSN,CPB,DOC,SWK,HST,INCY,LW,LNT,TECH,PODD,NI,MGM,KIM,AOS,VTRS,JKHY,EVRG,BEN,DVA,IPG,UHS,EMN,SJM,LKQ,TAP,JNPR,CRL,CPT,REG,KMX,APA,RL,BBWI,ALLE,WYNN,BXP,EPAM,SOLV,CHRW,HII,FFIV,MOS,CTLT,PAYC,TFX,TPR,QRVO,HSIC,AAL,GNRC,DAY,AIZ,PNW,HAS,PARA,MKTX,FRT,BIO,BWA,MTCH,FMC,GL,MHK,CZR,ETSY,IVZ,RHI,NCLH,CMA\n",
      "https://data.alpaca.markets/v1beta1/news 50\n",
      "https://data.alpaca.markets/v1beta1/news 50\n",
      "https://data.alpaca.markets/v1beta1/news 50\n",
      "https://data.alpaca.markets/v1beta1/news 50\n",
      "https://data.alpaca.markets/v1beta1/news 50\n",
      "https://data.alpaca.markets/v1beta1/news 50\n",
      "https://data.alpaca.markets/v1beta1/news 50\n",
      "https://data.alpaca.markets/v1beta1/news 50\n",
      "https://data.alpaca.markets/v1beta1/news 50\n",
      "https://data.alpaca.markets/v1beta1/news 50\n",
      "https://data.alpaca.markets/v1beta1/news 50\n"
     ]
    },
    {
     "name": "stderr",
     "output_type": "stream",
     "text": [
      " 42%|████▏     | 63/150 [04:09<06:57,  4.80s/it]"
     ]
    },
    {
     "name": "stdout",
     "output_type": "stream",
     "text": [
      "https://data.alpaca.markets/v1beta1/news 45\n",
      "error2\n",
      "Number of news articles: 595\n",
      "Fetching news for date: 2018-09-17\n",
      "start and end news collection 2018-09-10 2018-09-16\n",
      "length of ticker list 503\n",
      "MSFT,AAPL,NVDA,GOOG,GOOGL,AMZN,META,BRK-B,LLY,AVGO,JPM,TSLA,V,WMT,XOM,UNH,MA,PG,COST,JNJ,ORCL,MRK,HD,BAC,CVX,NFLX,ABBV,AMD,KO,CRM,PEP,QCOM,TMO,ADBE,WFC,LIN,DHR,TMUS,ACN,CSCO,MCD,DIS,GE,AMAT,TXN,ABT,AXP,CAT,INTU,VZ,AMGN,PFE,MS,NEE,IBM,PM,NOW,CMCSA,BX,GS,ISRG,MU,UNP,RTX,NKE,COP,SPGI,ETN,UBER,SCHW,INTC,HON,BKNG,SYK,LRCX,T,LOW,C,ELV,PGR,UPS,VRTX,BLK,TJX,ADI,LMT,BSX,REGN,MDT,CB,BA,KLAC,DE,PANW,MMC,ADP,PLD,ANET,CI,ABNB,MDLZ,SNPS,SBUX,FI,AMT,CMG,SO,WM,BMY,HCA,GD,GILD,APH,CDNS,DUK,ICE,MO,ZTS,CME,SHW,CL,TT,TDG,MCO,FCX,MCK,EQIX,CEG,ITW,NXPI,EOG,CVS,CTAS,NOC,PH,MAR,TGT,ECL,BDX,SLB,CSX,EMR,PYPL,MRNA,USB,MPC,PNC,AON,FDX,MSI,PSX,WELL,CARR,RSG,APD,ROP,ORLY,PCAR,SPG,MNST,MMM,AJG,OXY,VLO,EW,MCHP,COF,CPRT,AIG,SMCI,MET,TFC,NSC,HLT,DXCM,GM,AFL,JCI,WMB,TRV,GEV,NEM,F,PCG,SRE,AZO,PSA,ROST,DHI,GWW,DLR,OKE,AEP,FTNT,HES,KDP,TEL,ADSK,STZ,O,URI,EL,PAYX,KMB,D,BK,A,AMP,COR,KHC,ALL,FIS,LEN,PRU,IDXX,CCI,LHX,KMI,HUM,IQV,PWR,NUE,DOW,AME,HSY,CNC,OTIS,CHTR,MSCI,CMI,ACGL,YUM,CTVA,GIS,KR,IR,RCL,LULU,FAST,ODFL,PEG,KVUE,EXC,MPWR,GEHC,SYY,EA,VRSK,NDAQ,MLM,VST,CSGP,XYL,HWM,FANG,VMC,FICO,IT,CTSH,DD,DAL,LVS,ED,BKR,LYB,HPQ,HAL,DG,BIIB,MTD,GRMN,EXR,RMD,ON,GLW,CDW,DFS,PPG,DVN,TSCO,ROK,HIG,WAB,ADM,XEL,EFX,FSLR,VICI,ANSS,EIX,AVB,EBAY,CBRE,FTV,DECK,TTWO,TROW,GPN,RJF,CHD,WTW,BRO,WEC,FITB,TRGP,DOV,VLTO,DLTR,KEYS,MTB,AWK,EQR,IFF,WDC,WST,PHM,ZBH,HPE,NTAP,BR,IRM,CAH,DTE,ETR,NVR,STT,STE,TER,APTV,FE,ROL,LYV,HUBB,WY,PTC,BF-B,AXON,BALL,TSN,PPL,INVH,STLD,TYL,BLDR,K,ARE,LDOS,WRB,ES,GPC,SBAC,CTRA,WAT,HBAN,CCL,STX,MOH,MKC,PFG,ALGN,HRL,VTR,CBOE,TDY,AEE,WBD,CNP,COO,CPAY,OMC,CINF,ULTA,CMS,AVY,NRG,EQT,DRI,J,DPZ,RF,SYF,BAX,ESS,HOLX,VRSN,NTRS,ENPH,EG,UAL,ATO,ILMN,TXT,LH,ZBRA,CE,EXPD,FDS,L,PKG,CLX,IEX,JBHT,CFG,LUV,MAA,IP,DGX,GEN,BBY,NWS,NWSA,MAS,FOX,FOXA,ALB,AES,SWKS,BG,UDR,EXPE,CAG,JBL,MRO,AMCR,AKAM,SNA,CF,WRK,RVTY,POOL,TRMB,WBA,PNR,KEY,NDSN,CPB,DOC,SWK,HST,INCY,LW,LNT,TECH,PODD,NI,MGM,KIM,AOS,VTRS,JKHY,EVRG,BEN,DVA,IPG,UHS,EMN,SJM,LKQ,TAP,JNPR,CRL,CPT,REG,KMX,APA,RL,BBWI,ALLE,WYNN,BXP,EPAM,SOLV,CHRW,HII,FFIV,MOS,CTLT,PAYC,TFX,TPR,QRVO,HSIC,AAL,GNRC,DAY,AIZ,PNW,HAS,PARA,MKTX,FRT,BIO,BWA,MTCH,FMC,GL,MHK,CZR,ETSY,IVZ,RHI,NCLH,CMA\n",
      "https://data.alpaca.markets/v1beta1/news 50\n",
      "https://data.alpaca.markets/v1beta1/news 50\n",
      "https://data.alpaca.markets/v1beta1/news 50\n",
      "https://data.alpaca.markets/v1beta1/news 50\n",
      "https://data.alpaca.markets/v1beta1/news 50\n",
      "https://data.alpaca.markets/v1beta1/news 50\n",
      "https://data.alpaca.markets/v1beta1/news 50\n",
      "https://data.alpaca.markets/v1beta1/news 50\n",
      "https://data.alpaca.markets/v1beta1/news 50\n",
      "https://data.alpaca.markets/v1beta1/news 50\n",
      "https://data.alpaca.markets/v1beta1/news 50\n"
     ]
    },
    {
     "name": "stderr",
     "output_type": "stream",
     "text": [
      " 43%|████▎     | 64/150 [04:13<06:25,  4.48s/it]"
     ]
    },
    {
     "name": "stdout",
     "output_type": "stream",
     "text": [
      "https://data.alpaca.markets/v1beta1/news 4\n",
      "error2\n",
      "Number of news articles: 554\n",
      "Fetching news for date: 2018-09-24\n",
      "start and end news collection 2018-09-17 2018-09-23\n",
      "length of ticker list 503\n",
      "MSFT,AAPL,NVDA,GOOG,GOOGL,AMZN,META,BRK-B,LLY,AVGO,JPM,TSLA,V,WMT,XOM,UNH,MA,PG,COST,JNJ,ORCL,MRK,HD,BAC,CVX,NFLX,ABBV,AMD,KO,CRM,PEP,QCOM,TMO,ADBE,WFC,LIN,DHR,TMUS,ACN,CSCO,MCD,DIS,GE,AMAT,TXN,ABT,AXP,CAT,INTU,VZ,AMGN,PFE,MS,NEE,IBM,PM,NOW,CMCSA,BX,GS,ISRG,MU,UNP,RTX,NKE,COP,SPGI,ETN,UBER,SCHW,INTC,HON,BKNG,SYK,LRCX,T,LOW,C,ELV,PGR,UPS,VRTX,BLK,TJX,ADI,LMT,BSX,REGN,MDT,CB,BA,KLAC,DE,PANW,MMC,ADP,PLD,ANET,CI,ABNB,MDLZ,SNPS,SBUX,FI,AMT,CMG,SO,WM,BMY,HCA,GD,GILD,APH,CDNS,DUK,ICE,MO,ZTS,CME,SHW,CL,TT,TDG,MCO,FCX,MCK,EQIX,CEG,ITW,NXPI,EOG,CVS,CTAS,NOC,PH,MAR,TGT,ECL,BDX,SLB,CSX,EMR,PYPL,MRNA,USB,MPC,PNC,AON,FDX,MSI,PSX,WELL,CARR,RSG,APD,ROP,ORLY,PCAR,SPG,MNST,MMM,AJG,OXY,VLO,EW,MCHP,COF,CPRT,AIG,SMCI,MET,TFC,NSC,HLT,DXCM,GM,AFL,JCI,WMB,TRV,GEV,NEM,F,PCG,SRE,AZO,PSA,ROST,DHI,GWW,DLR,OKE,AEP,FTNT,HES,KDP,TEL,ADSK,STZ,O,URI,EL,PAYX,KMB,D,BK,A,AMP,COR,KHC,ALL,FIS,LEN,PRU,IDXX,CCI,LHX,KMI,HUM,IQV,PWR,NUE,DOW,AME,HSY,CNC,OTIS,CHTR,MSCI,CMI,ACGL,YUM,CTVA,GIS,KR,IR,RCL,LULU,FAST,ODFL,PEG,KVUE,EXC,MPWR,GEHC,SYY,EA,VRSK,NDAQ,MLM,VST,CSGP,XYL,HWM,FANG,VMC,FICO,IT,CTSH,DD,DAL,LVS,ED,BKR,LYB,HPQ,HAL,DG,BIIB,MTD,GRMN,EXR,RMD,ON,GLW,CDW,DFS,PPG,DVN,TSCO,ROK,HIG,WAB,ADM,XEL,EFX,FSLR,VICI,ANSS,EIX,AVB,EBAY,CBRE,FTV,DECK,TTWO,TROW,GPN,RJF,CHD,WTW,BRO,WEC,FITB,TRGP,DOV,VLTO,DLTR,KEYS,MTB,AWK,EQR,IFF,WDC,WST,PHM,ZBH,HPE,NTAP,BR,IRM,CAH,DTE,ETR,NVR,STT,STE,TER,APTV,FE,ROL,LYV,HUBB,WY,PTC,BF-B,AXON,BALL,TSN,PPL,INVH,STLD,TYL,BLDR,K,ARE,LDOS,WRB,ES,GPC,SBAC,CTRA,WAT,HBAN,CCL,STX,MOH,MKC,PFG,ALGN,HRL,VTR,CBOE,TDY,AEE,WBD,CNP,COO,CPAY,OMC,CINF,ULTA,CMS,AVY,NRG,EQT,DRI,J,DPZ,RF,SYF,BAX,ESS,HOLX,VRSN,NTRS,ENPH,EG,UAL,ATO,ILMN,TXT,LH,ZBRA,CE,EXPD,FDS,L,PKG,CLX,IEX,JBHT,CFG,LUV,MAA,IP,DGX,GEN,BBY,NWS,NWSA,MAS,FOX,FOXA,ALB,AES,SWKS,BG,UDR,EXPE,CAG,JBL,MRO,AMCR,AKAM,SNA,CF,WRK,RVTY,POOL,TRMB,WBA,PNR,KEY,NDSN,CPB,DOC,SWK,HST,INCY,LW,LNT,TECH,PODD,NI,MGM,KIM,AOS,VTRS,JKHY,EVRG,BEN,DVA,IPG,UHS,EMN,SJM,LKQ,TAP,JNPR,CRL,CPT,REG,KMX,APA,RL,BBWI,ALLE,WYNN,BXP,EPAM,SOLV,CHRW,HII,FFIV,MOS,CTLT,PAYC,TFX,TPR,QRVO,HSIC,AAL,GNRC,DAY,AIZ,PNW,HAS,PARA,MKTX,FRT,BIO,BWA,MTCH,FMC,GL,MHK,CZR,ETSY,IVZ,RHI,NCLH,CMA\n",
      "https://data.alpaca.markets/v1beta1/news 50\n",
      "https://data.alpaca.markets/v1beta1/news 50\n",
      "https://data.alpaca.markets/v1beta1/news 50\n",
      "https://data.alpaca.markets/v1beta1/news 50\n",
      "https://data.alpaca.markets/v1beta1/news 50\n",
      "https://data.alpaca.markets/v1beta1/news 50\n",
      "https://data.alpaca.markets/v1beta1/news 50\n",
      "https://data.alpaca.markets/v1beta1/news 50\n",
      "https://data.alpaca.markets/v1beta1/news 50\n",
      "https://data.alpaca.markets/v1beta1/news 50\n",
      "https://data.alpaca.markets/v1beta1/news 50\n"
     ]
    },
    {
     "name": "stderr",
     "output_type": "stream",
     "text": [
      " 43%|████▎     | 65/150 [04:17<06:08,  4.34s/it]"
     ]
    },
    {
     "name": "stdout",
     "output_type": "stream",
     "text": [
      "https://data.alpaca.markets/v1beta1/news 16\n",
      "error2\n",
      "Number of news articles: 566\n",
      "Fetching news for date: 2018-10-12\n",
      "start and end news collection 2018-10-05 2018-10-11\n",
      "length of ticker list 503\n",
      "MSFT,AAPL,NVDA,GOOG,GOOGL,AMZN,META,BRK-B,LLY,AVGO,JPM,TSLA,V,WMT,XOM,UNH,MA,PG,COST,JNJ,ORCL,MRK,HD,BAC,CVX,NFLX,ABBV,AMD,KO,CRM,PEP,QCOM,TMO,ADBE,WFC,LIN,DHR,TMUS,ACN,CSCO,MCD,DIS,GE,AMAT,TXN,ABT,AXP,CAT,INTU,VZ,AMGN,PFE,MS,NEE,IBM,PM,NOW,CMCSA,BX,GS,ISRG,MU,UNP,RTX,NKE,COP,SPGI,ETN,UBER,SCHW,INTC,HON,BKNG,SYK,LRCX,T,LOW,C,ELV,PGR,UPS,VRTX,BLK,TJX,ADI,LMT,BSX,REGN,MDT,CB,BA,KLAC,DE,PANW,MMC,ADP,PLD,ANET,CI,ABNB,MDLZ,SNPS,SBUX,FI,AMT,CMG,SO,WM,BMY,HCA,GD,GILD,APH,CDNS,DUK,ICE,MO,ZTS,CME,SHW,CL,TT,TDG,MCO,FCX,MCK,EQIX,CEG,ITW,NXPI,EOG,CVS,CTAS,NOC,PH,MAR,TGT,ECL,BDX,SLB,CSX,EMR,PYPL,MRNA,USB,MPC,PNC,AON,FDX,MSI,PSX,WELL,CARR,RSG,APD,ROP,ORLY,PCAR,SPG,MNST,MMM,AJG,OXY,VLO,EW,MCHP,COF,CPRT,AIG,SMCI,MET,TFC,NSC,HLT,DXCM,GM,AFL,JCI,WMB,TRV,GEV,NEM,F,PCG,SRE,AZO,PSA,ROST,DHI,GWW,DLR,OKE,AEP,FTNT,HES,KDP,TEL,ADSK,STZ,O,URI,EL,PAYX,KMB,D,BK,A,AMP,COR,KHC,ALL,FIS,LEN,PRU,IDXX,CCI,LHX,KMI,HUM,IQV,PWR,NUE,DOW,AME,HSY,CNC,OTIS,CHTR,MSCI,CMI,ACGL,YUM,CTVA,GIS,KR,IR,RCL,LULU,FAST,ODFL,PEG,KVUE,EXC,MPWR,GEHC,SYY,EA,VRSK,NDAQ,MLM,VST,CSGP,XYL,HWM,FANG,VMC,FICO,IT,CTSH,DD,DAL,LVS,ED,BKR,LYB,HPQ,HAL,DG,BIIB,MTD,GRMN,EXR,RMD,ON,GLW,CDW,DFS,PPG,DVN,TSCO,ROK,HIG,WAB,ADM,XEL,EFX,FSLR,VICI,ANSS,EIX,AVB,EBAY,CBRE,FTV,DECK,TTWO,TROW,GPN,RJF,CHD,WTW,BRO,WEC,FITB,TRGP,DOV,VLTO,DLTR,KEYS,MTB,AWK,EQR,IFF,WDC,WST,PHM,ZBH,HPE,NTAP,BR,IRM,CAH,DTE,ETR,NVR,STT,STE,TER,APTV,FE,ROL,LYV,HUBB,WY,PTC,BF-B,AXON,BALL,TSN,PPL,INVH,STLD,TYL,BLDR,K,ARE,LDOS,WRB,ES,GPC,SBAC,CTRA,WAT,HBAN,CCL,STX,MOH,MKC,PFG,ALGN,HRL,VTR,CBOE,TDY,AEE,WBD,CNP,COO,CPAY,OMC,CINF,ULTA,CMS,AVY,NRG,EQT,DRI,J,DPZ,RF,SYF,BAX,ESS,HOLX,VRSN,NTRS,ENPH,EG,UAL,ATO,ILMN,TXT,LH,ZBRA,CE,EXPD,FDS,L,PKG,CLX,IEX,JBHT,CFG,LUV,MAA,IP,DGX,GEN,BBY,NWS,NWSA,MAS,FOX,FOXA,ALB,AES,SWKS,BG,UDR,EXPE,CAG,JBL,MRO,AMCR,AKAM,SNA,CF,WRK,RVTY,POOL,TRMB,WBA,PNR,KEY,NDSN,CPB,DOC,SWK,HST,INCY,LW,LNT,TECH,PODD,NI,MGM,KIM,AOS,VTRS,JKHY,EVRG,BEN,DVA,IPG,UHS,EMN,SJM,LKQ,TAP,JNPR,CRL,CPT,REG,KMX,APA,RL,BBWI,ALLE,WYNN,BXP,EPAM,SOLV,CHRW,HII,FFIV,MOS,CTLT,PAYC,TFX,TPR,QRVO,HSIC,AAL,GNRC,DAY,AIZ,PNW,HAS,PARA,MKTX,FRT,BIO,BWA,MTCH,FMC,GL,MHK,CZR,ETSY,IVZ,RHI,NCLH,CMA\n",
      "https://data.alpaca.markets/v1beta1/news 50\n",
      "https://data.alpaca.markets/v1beta1/news 50\n",
      "https://data.alpaca.markets/v1beta1/news 50\n",
      "https://data.alpaca.markets/v1beta1/news 50\n",
      "https://data.alpaca.markets/v1beta1/news 50\n",
      "https://data.alpaca.markets/v1beta1/news 50\n",
      "https://data.alpaca.markets/v1beta1/news 50\n",
      "https://data.alpaca.markets/v1beta1/news 50\n",
      "https://data.alpaca.markets/v1beta1/news 50\n"
     ]
    },
    {
     "name": "stderr",
     "output_type": "stream",
     "text": [
      " 44%|████▍     | 66/150 [04:21<05:57,  4.26s/it]"
     ]
    },
    {
     "name": "stdout",
     "output_type": "stream",
     "text": [
      "https://data.alpaca.markets/v1beta1/news 1\n",
      "error2\n",
      "Number of news articles: 451\n",
      "Fetching news for date: 2018-10-15\n",
      "start and end news collection 2018-10-08 2018-10-14\n",
      "length of ticker list 503\n",
      "MSFT,AAPL,NVDA,GOOG,GOOGL,AMZN,META,BRK-B,LLY,AVGO,JPM,TSLA,V,WMT,XOM,UNH,MA,PG,COST,JNJ,ORCL,MRK,HD,BAC,CVX,NFLX,ABBV,AMD,KO,CRM,PEP,QCOM,TMO,ADBE,WFC,LIN,DHR,TMUS,ACN,CSCO,MCD,DIS,GE,AMAT,TXN,ABT,AXP,CAT,INTU,VZ,AMGN,PFE,MS,NEE,IBM,PM,NOW,CMCSA,BX,GS,ISRG,MU,UNP,RTX,NKE,COP,SPGI,ETN,UBER,SCHW,INTC,HON,BKNG,SYK,LRCX,T,LOW,C,ELV,PGR,UPS,VRTX,BLK,TJX,ADI,LMT,BSX,REGN,MDT,CB,BA,KLAC,DE,PANW,MMC,ADP,PLD,ANET,CI,ABNB,MDLZ,SNPS,SBUX,FI,AMT,CMG,SO,WM,BMY,HCA,GD,GILD,APH,CDNS,DUK,ICE,MO,ZTS,CME,SHW,CL,TT,TDG,MCO,FCX,MCK,EQIX,CEG,ITW,NXPI,EOG,CVS,CTAS,NOC,PH,MAR,TGT,ECL,BDX,SLB,CSX,EMR,PYPL,MRNA,USB,MPC,PNC,AON,FDX,MSI,PSX,WELL,CARR,RSG,APD,ROP,ORLY,PCAR,SPG,MNST,MMM,AJG,OXY,VLO,EW,MCHP,COF,CPRT,AIG,SMCI,MET,TFC,NSC,HLT,DXCM,GM,AFL,JCI,WMB,TRV,GEV,NEM,F,PCG,SRE,AZO,PSA,ROST,DHI,GWW,DLR,OKE,AEP,FTNT,HES,KDP,TEL,ADSK,STZ,O,URI,EL,PAYX,KMB,D,BK,A,AMP,COR,KHC,ALL,FIS,LEN,PRU,IDXX,CCI,LHX,KMI,HUM,IQV,PWR,NUE,DOW,AME,HSY,CNC,OTIS,CHTR,MSCI,CMI,ACGL,YUM,CTVA,GIS,KR,IR,RCL,LULU,FAST,ODFL,PEG,KVUE,EXC,MPWR,GEHC,SYY,EA,VRSK,NDAQ,MLM,VST,CSGP,XYL,HWM,FANG,VMC,FICO,IT,CTSH,DD,DAL,LVS,ED,BKR,LYB,HPQ,HAL,DG,BIIB,MTD,GRMN,EXR,RMD,ON,GLW,CDW,DFS,PPG,DVN,TSCO,ROK,HIG,WAB,ADM,XEL,EFX,FSLR,VICI,ANSS,EIX,AVB,EBAY,CBRE,FTV,DECK,TTWO,TROW,GPN,RJF,CHD,WTW,BRO,WEC,FITB,TRGP,DOV,VLTO,DLTR,KEYS,MTB,AWK,EQR,IFF,WDC,WST,PHM,ZBH,HPE,NTAP,BR,IRM,CAH,DTE,ETR,NVR,STT,STE,TER,APTV,FE,ROL,LYV,HUBB,WY,PTC,BF-B,AXON,BALL,TSN,PPL,INVH,STLD,TYL,BLDR,K,ARE,LDOS,WRB,ES,GPC,SBAC,CTRA,WAT,HBAN,CCL,STX,MOH,MKC,PFG,ALGN,HRL,VTR,CBOE,TDY,AEE,WBD,CNP,COO,CPAY,OMC,CINF,ULTA,CMS,AVY,NRG,EQT,DRI,J,DPZ,RF,SYF,BAX,ESS,HOLX,VRSN,NTRS,ENPH,EG,UAL,ATO,ILMN,TXT,LH,ZBRA,CE,EXPD,FDS,L,PKG,CLX,IEX,JBHT,CFG,LUV,MAA,IP,DGX,GEN,BBY,NWS,NWSA,MAS,FOX,FOXA,ALB,AES,SWKS,BG,UDR,EXPE,CAG,JBL,MRO,AMCR,AKAM,SNA,CF,WRK,RVTY,POOL,TRMB,WBA,PNR,KEY,NDSN,CPB,DOC,SWK,HST,INCY,LW,LNT,TECH,PODD,NI,MGM,KIM,AOS,VTRS,JKHY,EVRG,BEN,DVA,IPG,UHS,EMN,SJM,LKQ,TAP,JNPR,CRL,CPT,REG,KMX,APA,RL,BBWI,ALLE,WYNN,BXP,EPAM,SOLV,CHRW,HII,FFIV,MOS,CTLT,PAYC,TFX,TPR,QRVO,HSIC,AAL,GNRC,DAY,AIZ,PNW,HAS,PARA,MKTX,FRT,BIO,BWA,MTCH,FMC,GL,MHK,CZR,ETSY,IVZ,RHI,NCLH,CMA\n",
      "https://data.alpaca.markets/v1beta1/news 50\n",
      "https://data.alpaca.markets/v1beta1/news 50\n",
      "https://data.alpaca.markets/v1beta1/news 50\n",
      "https://data.alpaca.markets/v1beta1/news 50\n",
      "https://data.alpaca.markets/v1beta1/news 50\n",
      "https://data.alpaca.markets/v1beta1/news 50\n",
      "https://data.alpaca.markets/v1beta1/news 50\n",
      "https://data.alpaca.markets/v1beta1/news 50\n",
      "https://data.alpaca.markets/v1beta1/news 50\n",
      "https://data.alpaca.markets/v1beta1/news 50\n",
      "https://data.alpaca.markets/v1beta1/news 50\n",
      "https://data.alpaca.markets/v1beta1/news 50\n"
     ]
    },
    {
     "name": "stderr",
     "output_type": "stream",
     "text": [
      " 45%|████▍     | 67/150 [04:27<06:27,  4.66s/it]"
     ]
    },
    {
     "name": "stdout",
     "output_type": "stream",
     "text": [
      "https://data.alpaca.markets/v1beta1/news 16\n",
      "error2\n",
      "Number of news articles: 616\n",
      "Fetching news for date: 2018-11-21\n",
      "start and end news collection 2018-11-14 2018-11-20\n",
      "length of ticker list 503\n",
      "MSFT,AAPL,NVDA,GOOG,GOOGL,AMZN,META,BRK-B,LLY,AVGO,JPM,TSLA,V,WMT,XOM,UNH,MA,PG,COST,JNJ,ORCL,MRK,HD,BAC,CVX,NFLX,ABBV,AMD,KO,CRM,PEP,QCOM,TMO,ADBE,WFC,LIN,DHR,TMUS,ACN,CSCO,MCD,DIS,GE,AMAT,TXN,ABT,AXP,CAT,INTU,VZ,AMGN,PFE,MS,NEE,IBM,PM,NOW,CMCSA,BX,GS,ISRG,MU,UNP,RTX,NKE,COP,SPGI,ETN,UBER,SCHW,INTC,HON,BKNG,SYK,LRCX,T,LOW,C,ELV,PGR,UPS,VRTX,BLK,TJX,ADI,LMT,BSX,REGN,MDT,CB,BA,KLAC,DE,PANW,MMC,ADP,PLD,ANET,CI,ABNB,MDLZ,SNPS,SBUX,FI,AMT,CMG,SO,WM,BMY,HCA,GD,GILD,APH,CDNS,DUK,ICE,MO,ZTS,CME,SHW,CL,TT,TDG,MCO,FCX,MCK,EQIX,CEG,ITW,NXPI,EOG,CVS,CTAS,NOC,PH,MAR,TGT,ECL,BDX,SLB,CSX,EMR,PYPL,MRNA,USB,MPC,PNC,AON,FDX,MSI,PSX,WELL,CARR,RSG,APD,ROP,ORLY,PCAR,SPG,MNST,MMM,AJG,OXY,VLO,EW,MCHP,COF,CPRT,AIG,SMCI,MET,TFC,NSC,HLT,DXCM,GM,AFL,JCI,WMB,TRV,GEV,NEM,F,PCG,SRE,AZO,PSA,ROST,DHI,GWW,DLR,OKE,AEP,FTNT,HES,KDP,TEL,ADSK,STZ,O,URI,EL,PAYX,KMB,D,BK,A,AMP,COR,KHC,ALL,FIS,LEN,PRU,IDXX,CCI,LHX,KMI,HUM,IQV,PWR,NUE,DOW,AME,HSY,CNC,OTIS,CHTR,MSCI,CMI,ACGL,YUM,CTVA,GIS,KR,IR,RCL,LULU,FAST,ODFL,PEG,KVUE,EXC,MPWR,GEHC,SYY,EA,VRSK,NDAQ,MLM,VST,CSGP,XYL,HWM,FANG,VMC,FICO,IT,CTSH,DD,DAL,LVS,ED,BKR,LYB,HPQ,HAL,DG,BIIB,MTD,GRMN,EXR,RMD,ON,GLW,CDW,DFS,PPG,DVN,TSCO,ROK,HIG,WAB,ADM,XEL,EFX,FSLR,VICI,ANSS,EIX,AVB,EBAY,CBRE,FTV,DECK,TTWO,TROW,GPN,RJF,CHD,WTW,BRO,WEC,FITB,TRGP,DOV,VLTO,DLTR,KEYS,MTB,AWK,EQR,IFF,WDC,WST,PHM,ZBH,HPE,NTAP,BR,IRM,CAH,DTE,ETR,NVR,STT,STE,TER,APTV,FE,ROL,LYV,HUBB,WY,PTC,BF-B,AXON,BALL,TSN,PPL,INVH,STLD,TYL,BLDR,K,ARE,LDOS,WRB,ES,GPC,SBAC,CTRA,WAT,HBAN,CCL,STX,MOH,MKC,PFG,ALGN,HRL,VTR,CBOE,TDY,AEE,WBD,CNP,COO,CPAY,OMC,CINF,ULTA,CMS,AVY,NRG,EQT,DRI,J,DPZ,RF,SYF,BAX,ESS,HOLX,VRSN,NTRS,ENPH,EG,UAL,ATO,ILMN,TXT,LH,ZBRA,CE,EXPD,FDS,L,PKG,CLX,IEX,JBHT,CFG,LUV,MAA,IP,DGX,GEN,BBY,NWS,NWSA,MAS,FOX,FOXA,ALB,AES,SWKS,BG,UDR,EXPE,CAG,JBL,MRO,AMCR,AKAM,SNA,CF,WRK,RVTY,POOL,TRMB,WBA,PNR,KEY,NDSN,CPB,DOC,SWK,HST,INCY,LW,LNT,TECH,PODD,NI,MGM,KIM,AOS,VTRS,JKHY,EVRG,BEN,DVA,IPG,UHS,EMN,SJM,LKQ,TAP,JNPR,CRL,CPT,REG,KMX,APA,RL,BBWI,ALLE,WYNN,BXP,EPAM,SOLV,CHRW,HII,FFIV,MOS,CTLT,PAYC,TFX,TPR,QRVO,HSIC,AAL,GNRC,DAY,AIZ,PNW,HAS,PARA,MKTX,FRT,BIO,BWA,MTCH,FMC,GL,MHK,CZR,ETSY,IVZ,RHI,NCLH,CMA\n",
      "https://data.alpaca.markets/v1beta1/news 50\n",
      "https://data.alpaca.markets/v1beta1/news 50\n",
      "https://data.alpaca.markets/v1beta1/news 50\n",
      "https://data.alpaca.markets/v1beta1/news 50\n",
      "https://data.alpaca.markets/v1beta1/news 50\n",
      "https://data.alpaca.markets/v1beta1/news 50\n",
      "https://data.alpaca.markets/v1beta1/news 50\n",
      "https://data.alpaca.markets/v1beta1/news 50\n",
      "https://data.alpaca.markets/v1beta1/news 50\n",
      "https://data.alpaca.markets/v1beta1/news 50\n",
      "https://data.alpaca.markets/v1beta1/news 50\n"
     ]
    },
    {
     "name": "stderr",
     "output_type": "stream",
     "text": [
      " 45%|████▌     | 68/150 [04:31<06:14,  4.57s/it]"
     ]
    },
    {
     "name": "stdout",
     "output_type": "stream",
     "text": [
      "https://data.alpaca.markets/v1beta1/news 11\n",
      "error2\n",
      "Number of news articles: 561\n",
      "Fetching news for date: 2018-11-30\n",
      "start and end news collection 2018-11-23 2018-11-29\n",
      "length of ticker list 503\n",
      "MSFT,AAPL,NVDA,GOOG,GOOGL,AMZN,META,BRK-B,LLY,AVGO,JPM,TSLA,V,WMT,XOM,UNH,MA,PG,COST,JNJ,ORCL,MRK,HD,BAC,CVX,NFLX,ABBV,AMD,KO,CRM,PEP,QCOM,TMO,ADBE,WFC,LIN,DHR,TMUS,ACN,CSCO,MCD,DIS,GE,AMAT,TXN,ABT,AXP,CAT,INTU,VZ,AMGN,PFE,MS,NEE,IBM,PM,NOW,CMCSA,BX,GS,ISRG,MU,UNP,RTX,NKE,COP,SPGI,ETN,UBER,SCHW,INTC,HON,BKNG,SYK,LRCX,T,LOW,C,ELV,PGR,UPS,VRTX,BLK,TJX,ADI,LMT,BSX,REGN,MDT,CB,BA,KLAC,DE,PANW,MMC,ADP,PLD,ANET,CI,ABNB,MDLZ,SNPS,SBUX,FI,AMT,CMG,SO,WM,BMY,HCA,GD,GILD,APH,CDNS,DUK,ICE,MO,ZTS,CME,SHW,CL,TT,TDG,MCO,FCX,MCK,EQIX,CEG,ITW,NXPI,EOG,CVS,CTAS,NOC,PH,MAR,TGT,ECL,BDX,SLB,CSX,EMR,PYPL,MRNA,USB,MPC,PNC,AON,FDX,MSI,PSX,WELL,CARR,RSG,APD,ROP,ORLY,PCAR,SPG,MNST,MMM,AJG,OXY,VLO,EW,MCHP,COF,CPRT,AIG,SMCI,MET,TFC,NSC,HLT,DXCM,GM,AFL,JCI,WMB,TRV,GEV,NEM,F,PCG,SRE,AZO,PSA,ROST,DHI,GWW,DLR,OKE,AEP,FTNT,HES,KDP,TEL,ADSK,STZ,O,URI,EL,PAYX,KMB,D,BK,A,AMP,COR,KHC,ALL,FIS,LEN,PRU,IDXX,CCI,LHX,KMI,HUM,IQV,PWR,NUE,DOW,AME,HSY,CNC,OTIS,CHTR,MSCI,CMI,ACGL,YUM,CTVA,GIS,KR,IR,RCL,LULU,FAST,ODFL,PEG,KVUE,EXC,MPWR,GEHC,SYY,EA,VRSK,NDAQ,MLM,VST,CSGP,XYL,HWM,FANG,VMC,FICO,IT,CTSH,DD,DAL,LVS,ED,BKR,LYB,HPQ,HAL,DG,BIIB,MTD,GRMN,EXR,RMD,ON,GLW,CDW,DFS,PPG,DVN,TSCO,ROK,HIG,WAB,ADM,XEL,EFX,FSLR,VICI,ANSS,EIX,AVB,EBAY,CBRE,FTV,DECK,TTWO,TROW,GPN,RJF,CHD,WTW,BRO,WEC,FITB,TRGP,DOV,VLTO,DLTR,KEYS,MTB,AWK,EQR,IFF,WDC,WST,PHM,ZBH,HPE,NTAP,BR,IRM,CAH,DTE,ETR,NVR,STT,STE,TER,APTV,FE,ROL,LYV,HUBB,WY,PTC,BF-B,AXON,BALL,TSN,PPL,INVH,STLD,TYL,BLDR,K,ARE,LDOS,WRB,ES,GPC,SBAC,CTRA,WAT,HBAN,CCL,STX,MOH,MKC,PFG,ALGN,HRL,VTR,CBOE,TDY,AEE,WBD,CNP,COO,CPAY,OMC,CINF,ULTA,CMS,AVY,NRG,EQT,DRI,J,DPZ,RF,SYF,BAX,ESS,HOLX,VRSN,NTRS,ENPH,EG,UAL,ATO,ILMN,TXT,LH,ZBRA,CE,EXPD,FDS,L,PKG,CLX,IEX,JBHT,CFG,LUV,MAA,IP,DGX,GEN,BBY,NWS,NWSA,MAS,FOX,FOXA,ALB,AES,SWKS,BG,UDR,EXPE,CAG,JBL,MRO,AMCR,AKAM,SNA,CF,WRK,RVTY,POOL,TRMB,WBA,PNR,KEY,NDSN,CPB,DOC,SWK,HST,INCY,LW,LNT,TECH,PODD,NI,MGM,KIM,AOS,VTRS,JKHY,EVRG,BEN,DVA,IPG,UHS,EMN,SJM,LKQ,TAP,JNPR,CRL,CPT,REG,KMX,APA,RL,BBWI,ALLE,WYNN,BXP,EPAM,SOLV,CHRW,HII,FFIV,MOS,CTLT,PAYC,TFX,TPR,QRVO,HSIC,AAL,GNRC,DAY,AIZ,PNW,HAS,PARA,MKTX,FRT,BIO,BWA,MTCH,FMC,GL,MHK,CZR,ETSY,IVZ,RHI,NCLH,CMA\n",
      "https://data.alpaca.markets/v1beta1/news 50\n",
      "https://data.alpaca.markets/v1beta1/news 50\n",
      "https://data.alpaca.markets/v1beta1/news 50\n",
      "https://data.alpaca.markets/v1beta1/news 50\n",
      "https://data.alpaca.markets/v1beta1/news 50\n",
      "https://data.alpaca.markets/v1beta1/news 50\n"
     ]
    },
    {
     "name": "stderr",
     "output_type": "stream",
     "text": [
      " 46%|████▌     | 69/150 [04:33<05:16,  3.90s/it]"
     ]
    },
    {
     "name": "stdout",
     "output_type": "stream",
     "text": [
      "https://data.alpaca.markets/v1beta1/news 28\n",
      "error2\n",
      "Number of news articles: 328\n",
      "Fetching news for date: 2018-12-26\n",
      "start and end news collection 2018-12-19 2018-12-25\n",
      "length of ticker list 503\n",
      "MSFT,AAPL,NVDA,GOOG,GOOGL,AMZN,META,BRK-B,LLY,AVGO,JPM,TSLA,V,WMT,XOM,UNH,MA,PG,COST,JNJ,ORCL,MRK,HD,BAC,CVX,NFLX,ABBV,AMD,KO,CRM,PEP,QCOM,TMO,ADBE,WFC,LIN,DHR,TMUS,ACN,CSCO,MCD,DIS,GE,AMAT,TXN,ABT,AXP,CAT,INTU,VZ,AMGN,PFE,MS,NEE,IBM,PM,NOW,CMCSA,BX,GS,ISRG,MU,UNP,RTX,NKE,COP,SPGI,ETN,UBER,SCHW,INTC,HON,BKNG,SYK,LRCX,T,LOW,C,ELV,PGR,UPS,VRTX,BLK,TJX,ADI,LMT,BSX,REGN,MDT,CB,BA,KLAC,DE,PANW,MMC,ADP,PLD,ANET,CI,ABNB,MDLZ,SNPS,SBUX,FI,AMT,CMG,SO,WM,BMY,HCA,GD,GILD,APH,CDNS,DUK,ICE,MO,ZTS,CME,SHW,CL,TT,TDG,MCO,FCX,MCK,EQIX,CEG,ITW,NXPI,EOG,CVS,CTAS,NOC,PH,MAR,TGT,ECL,BDX,SLB,CSX,EMR,PYPL,MRNA,USB,MPC,PNC,AON,FDX,MSI,PSX,WELL,CARR,RSG,APD,ROP,ORLY,PCAR,SPG,MNST,MMM,AJG,OXY,VLO,EW,MCHP,COF,CPRT,AIG,SMCI,MET,TFC,NSC,HLT,DXCM,GM,AFL,JCI,WMB,TRV,GEV,NEM,F,PCG,SRE,AZO,PSA,ROST,DHI,GWW,DLR,OKE,AEP,FTNT,HES,KDP,TEL,ADSK,STZ,O,URI,EL,PAYX,KMB,D,BK,A,AMP,COR,KHC,ALL,FIS,LEN,PRU,IDXX,CCI,LHX,KMI,HUM,IQV,PWR,NUE,DOW,AME,HSY,CNC,OTIS,CHTR,MSCI,CMI,ACGL,YUM,CTVA,GIS,KR,IR,RCL,LULU,FAST,ODFL,PEG,KVUE,EXC,MPWR,GEHC,SYY,EA,VRSK,NDAQ,MLM,VST,CSGP,XYL,HWM,FANG,VMC,FICO,IT,CTSH,DD,DAL,LVS,ED,BKR,LYB,HPQ,HAL,DG,BIIB,MTD,GRMN,EXR,RMD,ON,GLW,CDW,DFS,PPG,DVN,TSCO,ROK,HIG,WAB,ADM,XEL,EFX,FSLR,VICI,ANSS,EIX,AVB,EBAY,CBRE,FTV,DECK,TTWO,TROW,GPN,RJF,CHD,WTW,BRO,WEC,FITB,TRGP,DOV,VLTO,DLTR,KEYS,MTB,AWK,EQR,IFF,WDC,WST,PHM,ZBH,HPE,NTAP,BR,IRM,CAH,DTE,ETR,NVR,STT,STE,TER,APTV,FE,ROL,LYV,HUBB,WY,PTC,BF-B,AXON,BALL,TSN,PPL,INVH,STLD,TYL,BLDR,K,ARE,LDOS,WRB,ES,GPC,SBAC,CTRA,WAT,HBAN,CCL,STX,MOH,MKC,PFG,ALGN,HRL,VTR,CBOE,TDY,AEE,WBD,CNP,COO,CPAY,OMC,CINF,ULTA,CMS,AVY,NRG,EQT,DRI,J,DPZ,RF,SYF,BAX,ESS,HOLX,VRSN,NTRS,ENPH,EG,UAL,ATO,ILMN,TXT,LH,ZBRA,CE,EXPD,FDS,L,PKG,CLX,IEX,JBHT,CFG,LUV,MAA,IP,DGX,GEN,BBY,NWS,NWSA,MAS,FOX,FOXA,ALB,AES,SWKS,BG,UDR,EXPE,CAG,JBL,MRO,AMCR,AKAM,SNA,CF,WRK,RVTY,POOL,TRMB,WBA,PNR,KEY,NDSN,CPB,DOC,SWK,HST,INCY,LW,LNT,TECH,PODD,NI,MGM,KIM,AOS,VTRS,JKHY,EVRG,BEN,DVA,IPG,UHS,EMN,SJM,LKQ,TAP,JNPR,CRL,CPT,REG,KMX,APA,RL,BBWI,ALLE,WYNN,BXP,EPAM,SOLV,CHRW,HII,FFIV,MOS,CTLT,PAYC,TFX,TPR,QRVO,HSIC,AAL,GNRC,DAY,AIZ,PNW,HAS,PARA,MKTX,FRT,BIO,BWA,MTCH,FMC,GL,MHK,CZR,ETSY,IVZ,RHI,NCLH,CMA\n",
      "https://data.alpaca.markets/v1beta1/news 50\n",
      "https://data.alpaca.markets/v1beta1/news 50\n",
      "https://data.alpaca.markets/v1beta1/news 50\n",
      "https://data.alpaca.markets/v1beta1/news 50\n",
      "https://data.alpaca.markets/v1beta1/news 50\n",
      "https://data.alpaca.markets/v1beta1/news 50\n",
      "https://data.alpaca.markets/v1beta1/news 50\n"
     ]
    },
    {
     "name": "stderr",
     "output_type": "stream",
     "text": [
      " 47%|████▋     | 70/150 [04:36<04:40,  3.50s/it]"
     ]
    },
    {
     "name": "stdout",
     "output_type": "stream",
     "text": [
      "https://data.alpaca.markets/v1beta1/news 14\n",
      "error2\n",
      "Number of news articles: 364\n",
      "Fetching news for date: 2018-12-27\n",
      "start and end news collection 2018-12-20 2018-12-26\n",
      "length of ticker list 503\n",
      "MSFT,AAPL,NVDA,GOOG,GOOGL,AMZN,META,BRK-B,LLY,AVGO,JPM,TSLA,V,WMT,XOM,UNH,MA,PG,COST,JNJ,ORCL,MRK,HD,BAC,CVX,NFLX,ABBV,AMD,KO,CRM,PEP,QCOM,TMO,ADBE,WFC,LIN,DHR,TMUS,ACN,CSCO,MCD,DIS,GE,AMAT,TXN,ABT,AXP,CAT,INTU,VZ,AMGN,PFE,MS,NEE,IBM,PM,NOW,CMCSA,BX,GS,ISRG,MU,UNP,RTX,NKE,COP,SPGI,ETN,UBER,SCHW,INTC,HON,BKNG,SYK,LRCX,T,LOW,C,ELV,PGR,UPS,VRTX,BLK,TJX,ADI,LMT,BSX,REGN,MDT,CB,BA,KLAC,DE,PANW,MMC,ADP,PLD,ANET,CI,ABNB,MDLZ,SNPS,SBUX,FI,AMT,CMG,SO,WM,BMY,HCA,GD,GILD,APH,CDNS,DUK,ICE,MO,ZTS,CME,SHW,CL,TT,TDG,MCO,FCX,MCK,EQIX,CEG,ITW,NXPI,EOG,CVS,CTAS,NOC,PH,MAR,TGT,ECL,BDX,SLB,CSX,EMR,PYPL,MRNA,USB,MPC,PNC,AON,FDX,MSI,PSX,WELL,CARR,RSG,APD,ROP,ORLY,PCAR,SPG,MNST,MMM,AJG,OXY,VLO,EW,MCHP,COF,CPRT,AIG,SMCI,MET,TFC,NSC,HLT,DXCM,GM,AFL,JCI,WMB,TRV,GEV,NEM,F,PCG,SRE,AZO,PSA,ROST,DHI,GWW,DLR,OKE,AEP,FTNT,HES,KDP,TEL,ADSK,STZ,O,URI,EL,PAYX,KMB,D,BK,A,AMP,COR,KHC,ALL,FIS,LEN,PRU,IDXX,CCI,LHX,KMI,HUM,IQV,PWR,NUE,DOW,AME,HSY,CNC,OTIS,CHTR,MSCI,CMI,ACGL,YUM,CTVA,GIS,KR,IR,RCL,LULU,FAST,ODFL,PEG,KVUE,EXC,MPWR,GEHC,SYY,EA,VRSK,NDAQ,MLM,VST,CSGP,XYL,HWM,FANG,VMC,FICO,IT,CTSH,DD,DAL,LVS,ED,BKR,LYB,HPQ,HAL,DG,BIIB,MTD,GRMN,EXR,RMD,ON,GLW,CDW,DFS,PPG,DVN,TSCO,ROK,HIG,WAB,ADM,XEL,EFX,FSLR,VICI,ANSS,EIX,AVB,EBAY,CBRE,FTV,DECK,TTWO,TROW,GPN,RJF,CHD,WTW,BRO,WEC,FITB,TRGP,DOV,VLTO,DLTR,KEYS,MTB,AWK,EQR,IFF,WDC,WST,PHM,ZBH,HPE,NTAP,BR,IRM,CAH,DTE,ETR,NVR,STT,STE,TER,APTV,FE,ROL,LYV,HUBB,WY,PTC,BF-B,AXON,BALL,TSN,PPL,INVH,STLD,TYL,BLDR,K,ARE,LDOS,WRB,ES,GPC,SBAC,CTRA,WAT,HBAN,CCL,STX,MOH,MKC,PFG,ALGN,HRL,VTR,CBOE,TDY,AEE,WBD,CNP,COO,CPAY,OMC,CINF,ULTA,CMS,AVY,NRG,EQT,DRI,J,DPZ,RF,SYF,BAX,ESS,HOLX,VRSN,NTRS,ENPH,EG,UAL,ATO,ILMN,TXT,LH,ZBRA,CE,EXPD,FDS,L,PKG,CLX,IEX,JBHT,CFG,LUV,MAA,IP,DGX,GEN,BBY,NWS,NWSA,MAS,FOX,FOXA,ALB,AES,SWKS,BG,UDR,EXPE,CAG,JBL,MRO,AMCR,AKAM,SNA,CF,WRK,RVTY,POOL,TRMB,WBA,PNR,KEY,NDSN,CPB,DOC,SWK,HST,INCY,LW,LNT,TECH,PODD,NI,MGM,KIM,AOS,VTRS,JKHY,EVRG,BEN,DVA,IPG,UHS,EMN,SJM,LKQ,TAP,JNPR,CRL,CPT,REG,KMX,APA,RL,BBWI,ALLE,WYNN,BXP,EPAM,SOLV,CHRW,HII,FFIV,MOS,CTLT,PAYC,TFX,TPR,QRVO,HSIC,AAL,GNRC,DAY,AIZ,PNW,HAS,PARA,MKTX,FRT,BIO,BWA,MTCH,FMC,GL,MHK,CZR,ETSY,IVZ,RHI,NCLH,CMA\n",
      "https://data.alpaca.markets/v1beta1/news 50\n",
      "https://data.alpaca.markets/v1beta1/news 50\n",
      "https://data.alpaca.markets/v1beta1/news 50\n",
      "https://data.alpaca.markets/v1beta1/news 50\n"
     ]
    },
    {
     "name": "stderr",
     "output_type": "stream",
     "text": [
      " 47%|████▋     | 71/150 [04:37<03:50,  2.91s/it]"
     ]
    },
    {
     "name": "stdout",
     "output_type": "stream",
     "text": [
      "https://data.alpaca.markets/v1beta1/news 26\n",
      "error2\n",
      "Number of news articles: 226\n",
      "Fetching news for date: 2019-01-08\n",
      "start and end news collection 2019-01-01 2019-01-07\n",
      "length of ticker list 503\n",
      "MSFT,AAPL,NVDA,GOOG,GOOGL,AMZN,META,BRK-B,LLY,AVGO,JPM,TSLA,V,WMT,XOM,UNH,MA,PG,COST,JNJ,ORCL,MRK,HD,BAC,CVX,NFLX,ABBV,AMD,KO,CRM,PEP,QCOM,TMO,ADBE,WFC,LIN,DHR,TMUS,ACN,CSCO,MCD,DIS,GE,AMAT,TXN,ABT,AXP,CAT,INTU,VZ,AMGN,PFE,MS,NEE,IBM,PM,NOW,CMCSA,BX,GS,ISRG,MU,UNP,RTX,NKE,COP,SPGI,ETN,UBER,SCHW,INTC,HON,BKNG,SYK,LRCX,T,LOW,C,ELV,PGR,UPS,VRTX,BLK,TJX,ADI,LMT,BSX,REGN,MDT,CB,BA,KLAC,DE,PANW,MMC,ADP,PLD,ANET,CI,ABNB,MDLZ,SNPS,SBUX,FI,AMT,CMG,SO,WM,BMY,HCA,GD,GILD,APH,CDNS,DUK,ICE,MO,ZTS,CME,SHW,CL,TT,TDG,MCO,FCX,MCK,EQIX,CEG,ITW,NXPI,EOG,CVS,CTAS,NOC,PH,MAR,TGT,ECL,BDX,SLB,CSX,EMR,PYPL,MRNA,USB,MPC,PNC,AON,FDX,MSI,PSX,WELL,CARR,RSG,APD,ROP,ORLY,PCAR,SPG,MNST,MMM,AJG,OXY,VLO,EW,MCHP,COF,CPRT,AIG,SMCI,MET,TFC,NSC,HLT,DXCM,GM,AFL,JCI,WMB,TRV,GEV,NEM,F,PCG,SRE,AZO,PSA,ROST,DHI,GWW,DLR,OKE,AEP,FTNT,HES,KDP,TEL,ADSK,STZ,O,URI,EL,PAYX,KMB,D,BK,A,AMP,COR,KHC,ALL,FIS,LEN,PRU,IDXX,CCI,LHX,KMI,HUM,IQV,PWR,NUE,DOW,AME,HSY,CNC,OTIS,CHTR,MSCI,CMI,ACGL,YUM,CTVA,GIS,KR,IR,RCL,LULU,FAST,ODFL,PEG,KVUE,EXC,MPWR,GEHC,SYY,EA,VRSK,NDAQ,MLM,VST,CSGP,XYL,HWM,FANG,VMC,FICO,IT,CTSH,DD,DAL,LVS,ED,BKR,LYB,HPQ,HAL,DG,BIIB,MTD,GRMN,EXR,RMD,ON,GLW,CDW,DFS,PPG,DVN,TSCO,ROK,HIG,WAB,ADM,XEL,EFX,FSLR,VICI,ANSS,EIX,AVB,EBAY,CBRE,FTV,DECK,TTWO,TROW,GPN,RJF,CHD,WTW,BRO,WEC,FITB,TRGP,DOV,VLTO,DLTR,KEYS,MTB,AWK,EQR,IFF,WDC,WST,PHM,ZBH,HPE,NTAP,BR,IRM,CAH,DTE,ETR,NVR,STT,STE,TER,APTV,FE,ROL,LYV,HUBB,WY,PTC,BF-B,AXON,BALL,TSN,PPL,INVH,STLD,TYL,BLDR,K,ARE,LDOS,WRB,ES,GPC,SBAC,CTRA,WAT,HBAN,CCL,STX,MOH,MKC,PFG,ALGN,HRL,VTR,CBOE,TDY,AEE,WBD,CNP,COO,CPAY,OMC,CINF,ULTA,CMS,AVY,NRG,EQT,DRI,J,DPZ,RF,SYF,BAX,ESS,HOLX,VRSN,NTRS,ENPH,EG,UAL,ATO,ILMN,TXT,LH,ZBRA,CE,EXPD,FDS,L,PKG,CLX,IEX,JBHT,CFG,LUV,MAA,IP,DGX,GEN,BBY,NWS,NWSA,MAS,FOX,FOXA,ALB,AES,SWKS,BG,UDR,EXPE,CAG,JBL,MRO,AMCR,AKAM,SNA,CF,WRK,RVTY,POOL,TRMB,WBA,PNR,KEY,NDSN,CPB,DOC,SWK,HST,INCY,LW,LNT,TECH,PODD,NI,MGM,KIM,AOS,VTRS,JKHY,EVRG,BEN,DVA,IPG,UHS,EMN,SJM,LKQ,TAP,JNPR,CRL,CPT,REG,KMX,APA,RL,BBWI,ALLE,WYNN,BXP,EPAM,SOLV,CHRW,HII,FFIV,MOS,CTLT,PAYC,TFX,TPR,QRVO,HSIC,AAL,GNRC,DAY,AIZ,PNW,HAS,PARA,MKTX,FRT,BIO,BWA,MTCH,FMC,GL,MHK,CZR,ETSY,IVZ,RHI,NCLH,CMA\n",
      "https://data.alpaca.markets/v1beta1/news 50\n",
      "https://data.alpaca.markets/v1beta1/news 50\n",
      "https://data.alpaca.markets/v1beta1/news 50\n",
      "https://data.alpaca.markets/v1beta1/news 50\n",
      "https://data.alpaca.markets/v1beta1/news 50\n",
      "https://data.alpaca.markets/v1beta1/news 50\n",
      "https://data.alpaca.markets/v1beta1/news 50\n"
     ]
    },
    {
     "name": "stderr",
     "output_type": "stream",
     "text": [
      " 48%|████▊     | 72/150 [04:40<03:37,  2.79s/it]"
     ]
    },
    {
     "name": "stdout",
     "output_type": "stream",
     "text": [
      "https://data.alpaca.markets/v1beta1/news 29\n",
      "error2\n",
      "Number of news articles: 379\n",
      "Fetching news for date: 2019-02-05\n",
      "start and end news collection 2019-01-29 2019-02-04\n",
      "length of ticker list 503\n",
      "MSFT,AAPL,NVDA,GOOG,GOOGL,AMZN,META,BRK-B,LLY,AVGO,JPM,TSLA,V,WMT,XOM,UNH,MA,PG,COST,JNJ,ORCL,MRK,HD,BAC,CVX,NFLX,ABBV,AMD,KO,CRM,PEP,QCOM,TMO,ADBE,WFC,LIN,DHR,TMUS,ACN,CSCO,MCD,DIS,GE,AMAT,TXN,ABT,AXP,CAT,INTU,VZ,AMGN,PFE,MS,NEE,IBM,PM,NOW,CMCSA,BX,GS,ISRG,MU,UNP,RTX,NKE,COP,SPGI,ETN,UBER,SCHW,INTC,HON,BKNG,SYK,LRCX,T,LOW,C,ELV,PGR,UPS,VRTX,BLK,TJX,ADI,LMT,BSX,REGN,MDT,CB,BA,KLAC,DE,PANW,MMC,ADP,PLD,ANET,CI,ABNB,MDLZ,SNPS,SBUX,FI,AMT,CMG,SO,WM,BMY,HCA,GD,GILD,APH,CDNS,DUK,ICE,MO,ZTS,CME,SHW,CL,TT,TDG,MCO,FCX,MCK,EQIX,CEG,ITW,NXPI,EOG,CVS,CTAS,NOC,PH,MAR,TGT,ECL,BDX,SLB,CSX,EMR,PYPL,MRNA,USB,MPC,PNC,AON,FDX,MSI,PSX,WELL,CARR,RSG,APD,ROP,ORLY,PCAR,SPG,MNST,MMM,AJG,OXY,VLO,EW,MCHP,COF,CPRT,AIG,SMCI,MET,TFC,NSC,HLT,DXCM,GM,AFL,JCI,WMB,TRV,GEV,NEM,F,PCG,SRE,AZO,PSA,ROST,DHI,GWW,DLR,OKE,AEP,FTNT,HES,KDP,TEL,ADSK,STZ,O,URI,EL,PAYX,KMB,D,BK,A,AMP,COR,KHC,ALL,FIS,LEN,PRU,IDXX,CCI,LHX,KMI,HUM,IQV,PWR,NUE,DOW,AME,HSY,CNC,OTIS,CHTR,MSCI,CMI,ACGL,YUM,CTVA,GIS,KR,IR,RCL,LULU,FAST,ODFL,PEG,KVUE,EXC,MPWR,GEHC,SYY,EA,VRSK,NDAQ,MLM,VST,CSGP,XYL,HWM,FANG,VMC,FICO,IT,CTSH,DD,DAL,LVS,ED,BKR,LYB,HPQ,HAL,DG,BIIB,MTD,GRMN,EXR,RMD,ON,GLW,CDW,DFS,PPG,DVN,TSCO,ROK,HIG,WAB,ADM,XEL,EFX,FSLR,VICI,ANSS,EIX,AVB,EBAY,CBRE,FTV,DECK,TTWO,TROW,GPN,RJF,CHD,WTW,BRO,WEC,FITB,TRGP,DOV,VLTO,DLTR,KEYS,MTB,AWK,EQR,IFF,WDC,WST,PHM,ZBH,HPE,NTAP,BR,IRM,CAH,DTE,ETR,NVR,STT,STE,TER,APTV,FE,ROL,LYV,HUBB,WY,PTC,BF-B,AXON,BALL,TSN,PPL,INVH,STLD,TYL,BLDR,K,ARE,LDOS,WRB,ES,GPC,SBAC,CTRA,WAT,HBAN,CCL,STX,MOH,MKC,PFG,ALGN,HRL,VTR,CBOE,TDY,AEE,WBD,CNP,COO,CPAY,OMC,CINF,ULTA,CMS,AVY,NRG,EQT,DRI,J,DPZ,RF,SYF,BAX,ESS,HOLX,VRSN,NTRS,ENPH,EG,UAL,ATO,ILMN,TXT,LH,ZBRA,CE,EXPD,FDS,L,PKG,CLX,IEX,JBHT,CFG,LUV,MAA,IP,DGX,GEN,BBY,NWS,NWSA,MAS,FOX,FOXA,ALB,AES,SWKS,BG,UDR,EXPE,CAG,JBL,MRO,AMCR,AKAM,SNA,CF,WRK,RVTY,POOL,TRMB,WBA,PNR,KEY,NDSN,CPB,DOC,SWK,HST,INCY,LW,LNT,TECH,PODD,NI,MGM,KIM,AOS,VTRS,JKHY,EVRG,BEN,DVA,IPG,UHS,EMN,SJM,LKQ,TAP,JNPR,CRL,CPT,REG,KMX,APA,RL,BBWI,ALLE,WYNN,BXP,EPAM,SOLV,CHRW,HII,FFIV,MOS,CTLT,PAYC,TFX,TPR,QRVO,HSIC,AAL,GNRC,DAY,AIZ,PNW,HAS,PARA,MKTX,FRT,BIO,BWA,MTCH,FMC,GL,MHK,CZR,ETSY,IVZ,RHI,NCLH,CMA\n",
      "https://data.alpaca.markets/v1beta1/news 50\n",
      "https://data.alpaca.markets/v1beta1/news 50\n",
      "https://data.alpaca.markets/v1beta1/news 50\n",
      "https://data.alpaca.markets/v1beta1/news 50\n",
      "https://data.alpaca.markets/v1beta1/news 50\n",
      "https://data.alpaca.markets/v1beta1/news 50\n",
      "https://data.alpaca.markets/v1beta1/news 50\n",
      "https://data.alpaca.markets/v1beta1/news 50\n",
      "https://data.alpaca.markets/v1beta1/news 50\n",
      "https://data.alpaca.markets/v1beta1/news 50\n",
      "https://data.alpaca.markets/v1beta1/news 50\n",
      "https://data.alpaca.markets/v1beta1/news 50\n",
      "https://data.alpaca.markets/v1beta1/news 50\n"
     ]
    },
    {
     "name": "stderr",
     "output_type": "stream",
     "text": [
      " 49%|████▊     | 73/150 [04:45<04:17,  3.35s/it]"
     ]
    },
    {
     "name": "stdout",
     "output_type": "stream",
     "text": [
      "https://data.alpaca.markets/v1beta1/news 35\n",
      "error2\n",
      "Number of news articles: 685\n",
      "Fetching news for date: 2019-04-12\n",
      "start and end news collection 2019-04-05 2019-04-11\n",
      "length of ticker list 503\n",
      "MSFT,AAPL,NVDA,GOOG,GOOGL,AMZN,META,BRK-B,LLY,AVGO,JPM,TSLA,V,WMT,XOM,UNH,MA,PG,COST,JNJ,ORCL,MRK,HD,BAC,CVX,NFLX,ABBV,AMD,KO,CRM,PEP,QCOM,TMO,ADBE,WFC,LIN,DHR,TMUS,ACN,CSCO,MCD,DIS,GE,AMAT,TXN,ABT,AXP,CAT,INTU,VZ,AMGN,PFE,MS,NEE,IBM,PM,NOW,CMCSA,BX,GS,ISRG,MU,UNP,RTX,NKE,COP,SPGI,ETN,UBER,SCHW,INTC,HON,BKNG,SYK,LRCX,T,LOW,C,ELV,PGR,UPS,VRTX,BLK,TJX,ADI,LMT,BSX,REGN,MDT,CB,BA,KLAC,DE,PANW,MMC,ADP,PLD,ANET,CI,ABNB,MDLZ,SNPS,SBUX,FI,AMT,CMG,SO,WM,BMY,HCA,GD,GILD,APH,CDNS,DUK,ICE,MO,ZTS,CME,SHW,CL,TT,TDG,MCO,FCX,MCK,EQIX,CEG,ITW,NXPI,EOG,CVS,CTAS,NOC,PH,MAR,TGT,ECL,BDX,SLB,CSX,EMR,PYPL,MRNA,USB,MPC,PNC,AON,FDX,MSI,PSX,WELL,CARR,RSG,APD,ROP,ORLY,PCAR,SPG,MNST,MMM,AJG,OXY,VLO,EW,MCHP,COF,CPRT,AIG,SMCI,MET,TFC,NSC,HLT,DXCM,GM,AFL,JCI,WMB,TRV,GEV,NEM,F,PCG,SRE,AZO,PSA,ROST,DHI,GWW,DLR,OKE,AEP,FTNT,HES,KDP,TEL,ADSK,STZ,O,URI,EL,PAYX,KMB,D,BK,A,AMP,COR,KHC,ALL,FIS,LEN,PRU,IDXX,CCI,LHX,KMI,HUM,IQV,PWR,NUE,DOW,AME,HSY,CNC,OTIS,CHTR,MSCI,CMI,ACGL,YUM,CTVA,GIS,KR,IR,RCL,LULU,FAST,ODFL,PEG,KVUE,EXC,MPWR,GEHC,SYY,EA,VRSK,NDAQ,MLM,VST,CSGP,XYL,HWM,FANG,VMC,FICO,IT,CTSH,DD,DAL,LVS,ED,BKR,LYB,HPQ,HAL,DG,BIIB,MTD,GRMN,EXR,RMD,ON,GLW,CDW,DFS,PPG,DVN,TSCO,ROK,HIG,WAB,ADM,XEL,EFX,FSLR,VICI,ANSS,EIX,AVB,EBAY,CBRE,FTV,DECK,TTWO,TROW,GPN,RJF,CHD,WTW,BRO,WEC,FITB,TRGP,DOV,VLTO,DLTR,KEYS,MTB,AWK,EQR,IFF,WDC,WST,PHM,ZBH,HPE,NTAP,BR,IRM,CAH,DTE,ETR,NVR,STT,STE,TER,APTV,FE,ROL,LYV,HUBB,WY,PTC,BF-B,AXON,BALL,TSN,PPL,INVH,STLD,TYL,BLDR,K,ARE,LDOS,WRB,ES,GPC,SBAC,CTRA,WAT,HBAN,CCL,STX,MOH,MKC,PFG,ALGN,HRL,VTR,CBOE,TDY,AEE,WBD,CNP,COO,CPAY,OMC,CINF,ULTA,CMS,AVY,NRG,EQT,DRI,J,DPZ,RF,SYF,BAX,ESS,HOLX,VRSN,NTRS,ENPH,EG,UAL,ATO,ILMN,TXT,LH,ZBRA,CE,EXPD,FDS,L,PKG,CLX,IEX,JBHT,CFG,LUV,MAA,IP,DGX,GEN,BBY,NWS,NWSA,MAS,FOX,FOXA,ALB,AES,SWKS,BG,UDR,EXPE,CAG,JBL,MRO,AMCR,AKAM,SNA,CF,WRK,RVTY,POOL,TRMB,WBA,PNR,KEY,NDSN,CPB,DOC,SWK,HST,INCY,LW,LNT,TECH,PODD,NI,MGM,KIM,AOS,VTRS,JKHY,EVRG,BEN,DVA,IPG,UHS,EMN,SJM,LKQ,TAP,JNPR,CRL,CPT,REG,KMX,APA,RL,BBWI,ALLE,WYNN,BXP,EPAM,SOLV,CHRW,HII,FFIV,MOS,CTLT,PAYC,TFX,TPR,QRVO,HSIC,AAL,GNRC,DAY,AIZ,PNW,HAS,PARA,MKTX,FRT,BIO,BWA,MTCH,FMC,GL,MHK,CZR,ETSY,IVZ,RHI,NCLH,CMA\n",
      "https://data.alpaca.markets/v1beta1/news 50\n",
      "https://data.alpaca.markets/v1beta1/news 50\n",
      "https://data.alpaca.markets/v1beta1/news 50\n",
      "https://data.alpaca.markets/v1beta1/news 50\n",
      "https://data.alpaca.markets/v1beta1/news 50\n",
      "https://data.alpaca.markets/v1beta1/news 50\n",
      "https://data.alpaca.markets/v1beta1/news 50\n",
      "https://data.alpaca.markets/v1beta1/news 50\n"
     ]
    },
    {
     "name": "stderr",
     "output_type": "stream",
     "text": [
      " 49%|████▉     | 74/150 [04:47<04:03,  3.20s/it]"
     ]
    },
    {
     "name": "stdout",
     "output_type": "stream",
     "text": [
      "https://data.alpaca.markets/v1beta1/news 16\n",
      "error2\n",
      "Number of news articles: 416\n",
      "Fetching news for date: 2019-04-16\n",
      "start and end news collection 2019-04-09 2019-04-15\n",
      "length of ticker list 503\n",
      "MSFT,AAPL,NVDA,GOOG,GOOGL,AMZN,META,BRK-B,LLY,AVGO,JPM,TSLA,V,WMT,XOM,UNH,MA,PG,COST,JNJ,ORCL,MRK,HD,BAC,CVX,NFLX,ABBV,AMD,KO,CRM,PEP,QCOM,TMO,ADBE,WFC,LIN,DHR,TMUS,ACN,CSCO,MCD,DIS,GE,AMAT,TXN,ABT,AXP,CAT,INTU,VZ,AMGN,PFE,MS,NEE,IBM,PM,NOW,CMCSA,BX,GS,ISRG,MU,UNP,RTX,NKE,COP,SPGI,ETN,UBER,SCHW,INTC,HON,BKNG,SYK,LRCX,T,LOW,C,ELV,PGR,UPS,VRTX,BLK,TJX,ADI,LMT,BSX,REGN,MDT,CB,BA,KLAC,DE,PANW,MMC,ADP,PLD,ANET,CI,ABNB,MDLZ,SNPS,SBUX,FI,AMT,CMG,SO,WM,BMY,HCA,GD,GILD,APH,CDNS,DUK,ICE,MO,ZTS,CME,SHW,CL,TT,TDG,MCO,FCX,MCK,EQIX,CEG,ITW,NXPI,EOG,CVS,CTAS,NOC,PH,MAR,TGT,ECL,BDX,SLB,CSX,EMR,PYPL,MRNA,USB,MPC,PNC,AON,FDX,MSI,PSX,WELL,CARR,RSG,APD,ROP,ORLY,PCAR,SPG,MNST,MMM,AJG,OXY,VLO,EW,MCHP,COF,CPRT,AIG,SMCI,MET,TFC,NSC,HLT,DXCM,GM,AFL,JCI,WMB,TRV,GEV,NEM,F,PCG,SRE,AZO,PSA,ROST,DHI,GWW,DLR,OKE,AEP,FTNT,HES,KDP,TEL,ADSK,STZ,O,URI,EL,PAYX,KMB,D,BK,A,AMP,COR,KHC,ALL,FIS,LEN,PRU,IDXX,CCI,LHX,KMI,HUM,IQV,PWR,NUE,DOW,AME,HSY,CNC,OTIS,CHTR,MSCI,CMI,ACGL,YUM,CTVA,GIS,KR,IR,RCL,LULU,FAST,ODFL,PEG,KVUE,EXC,MPWR,GEHC,SYY,EA,VRSK,NDAQ,MLM,VST,CSGP,XYL,HWM,FANG,VMC,FICO,IT,CTSH,DD,DAL,LVS,ED,BKR,LYB,HPQ,HAL,DG,BIIB,MTD,GRMN,EXR,RMD,ON,GLW,CDW,DFS,PPG,DVN,TSCO,ROK,HIG,WAB,ADM,XEL,EFX,FSLR,VICI,ANSS,EIX,AVB,EBAY,CBRE,FTV,DECK,TTWO,TROW,GPN,RJF,CHD,WTW,BRO,WEC,FITB,TRGP,DOV,VLTO,DLTR,KEYS,MTB,AWK,EQR,IFF,WDC,WST,PHM,ZBH,HPE,NTAP,BR,IRM,CAH,DTE,ETR,NVR,STT,STE,TER,APTV,FE,ROL,LYV,HUBB,WY,PTC,BF-B,AXON,BALL,TSN,PPL,INVH,STLD,TYL,BLDR,K,ARE,LDOS,WRB,ES,GPC,SBAC,CTRA,WAT,HBAN,CCL,STX,MOH,MKC,PFG,ALGN,HRL,VTR,CBOE,TDY,AEE,WBD,CNP,COO,CPAY,OMC,CINF,ULTA,CMS,AVY,NRG,EQT,DRI,J,DPZ,RF,SYF,BAX,ESS,HOLX,VRSN,NTRS,ENPH,EG,UAL,ATO,ILMN,TXT,LH,ZBRA,CE,EXPD,FDS,L,PKG,CLX,IEX,JBHT,CFG,LUV,MAA,IP,DGX,GEN,BBY,NWS,NWSA,MAS,FOX,FOXA,ALB,AES,SWKS,BG,UDR,EXPE,CAG,JBL,MRO,AMCR,AKAM,SNA,CF,WRK,RVTY,POOL,TRMB,WBA,PNR,KEY,NDSN,CPB,DOC,SWK,HST,INCY,LW,LNT,TECH,PODD,NI,MGM,KIM,AOS,VTRS,JKHY,EVRG,BEN,DVA,IPG,UHS,EMN,SJM,LKQ,TAP,JNPR,CRL,CPT,REG,KMX,APA,RL,BBWI,ALLE,WYNN,BXP,EPAM,SOLV,CHRW,HII,FFIV,MOS,CTLT,PAYC,TFX,TPR,QRVO,HSIC,AAL,GNRC,DAY,AIZ,PNW,HAS,PARA,MKTX,FRT,BIO,BWA,MTCH,FMC,GL,MHK,CZR,ETSY,IVZ,RHI,NCLH,CMA\n",
      "https://data.alpaca.markets/v1beta1/news 50\n",
      "https://data.alpaca.markets/v1beta1/news 50\n",
      "https://data.alpaca.markets/v1beta1/news 50\n",
      "https://data.alpaca.markets/v1beta1/news 50\n",
      "https://data.alpaca.markets/v1beta1/news 50\n",
      "https://data.alpaca.markets/v1beta1/news 50\n",
      "https://data.alpaca.markets/v1beta1/news 50\n",
      "https://data.alpaca.markets/v1beta1/news 50\n",
      "https://data.alpaca.markets/v1beta1/news 50\n"
     ]
    },
    {
     "name": "stderr",
     "output_type": "stream",
     "text": [
      " 50%|█████     | 75/150 [04:51<03:58,  3.18s/it]"
     ]
    },
    {
     "name": "stdout",
     "output_type": "stream",
     "text": [
      "https://data.alpaca.markets/v1beta1/news 14\n",
      "error2\n",
      "Number of news articles: 464\n",
      "Fetching news for date: 2019-04-24\n",
      "start and end news collection 2019-04-17 2019-04-23\n",
      "length of ticker list 503\n",
      "MSFT,AAPL,NVDA,GOOG,GOOGL,AMZN,META,BRK-B,LLY,AVGO,JPM,TSLA,V,WMT,XOM,UNH,MA,PG,COST,JNJ,ORCL,MRK,HD,BAC,CVX,NFLX,ABBV,AMD,KO,CRM,PEP,QCOM,TMO,ADBE,WFC,LIN,DHR,TMUS,ACN,CSCO,MCD,DIS,GE,AMAT,TXN,ABT,AXP,CAT,INTU,VZ,AMGN,PFE,MS,NEE,IBM,PM,NOW,CMCSA,BX,GS,ISRG,MU,UNP,RTX,NKE,COP,SPGI,ETN,UBER,SCHW,INTC,HON,BKNG,SYK,LRCX,T,LOW,C,ELV,PGR,UPS,VRTX,BLK,TJX,ADI,LMT,BSX,REGN,MDT,CB,BA,KLAC,DE,PANW,MMC,ADP,PLD,ANET,CI,ABNB,MDLZ,SNPS,SBUX,FI,AMT,CMG,SO,WM,BMY,HCA,GD,GILD,APH,CDNS,DUK,ICE,MO,ZTS,CME,SHW,CL,TT,TDG,MCO,FCX,MCK,EQIX,CEG,ITW,NXPI,EOG,CVS,CTAS,NOC,PH,MAR,TGT,ECL,BDX,SLB,CSX,EMR,PYPL,MRNA,USB,MPC,PNC,AON,FDX,MSI,PSX,WELL,CARR,RSG,APD,ROP,ORLY,PCAR,SPG,MNST,MMM,AJG,OXY,VLO,EW,MCHP,COF,CPRT,AIG,SMCI,MET,TFC,NSC,HLT,DXCM,GM,AFL,JCI,WMB,TRV,GEV,NEM,F,PCG,SRE,AZO,PSA,ROST,DHI,GWW,DLR,OKE,AEP,FTNT,HES,KDP,TEL,ADSK,STZ,O,URI,EL,PAYX,KMB,D,BK,A,AMP,COR,KHC,ALL,FIS,LEN,PRU,IDXX,CCI,LHX,KMI,HUM,IQV,PWR,NUE,DOW,AME,HSY,CNC,OTIS,CHTR,MSCI,CMI,ACGL,YUM,CTVA,GIS,KR,IR,RCL,LULU,FAST,ODFL,PEG,KVUE,EXC,MPWR,GEHC,SYY,EA,VRSK,NDAQ,MLM,VST,CSGP,XYL,HWM,FANG,VMC,FICO,IT,CTSH,DD,DAL,LVS,ED,BKR,LYB,HPQ,HAL,DG,BIIB,MTD,GRMN,EXR,RMD,ON,GLW,CDW,DFS,PPG,DVN,TSCO,ROK,HIG,WAB,ADM,XEL,EFX,FSLR,VICI,ANSS,EIX,AVB,EBAY,CBRE,FTV,DECK,TTWO,TROW,GPN,RJF,CHD,WTW,BRO,WEC,FITB,TRGP,DOV,VLTO,DLTR,KEYS,MTB,AWK,EQR,IFF,WDC,WST,PHM,ZBH,HPE,NTAP,BR,IRM,CAH,DTE,ETR,NVR,STT,STE,TER,APTV,FE,ROL,LYV,HUBB,WY,PTC,BF-B,AXON,BALL,TSN,PPL,INVH,STLD,TYL,BLDR,K,ARE,LDOS,WRB,ES,GPC,SBAC,CTRA,WAT,HBAN,CCL,STX,MOH,MKC,PFG,ALGN,HRL,VTR,CBOE,TDY,AEE,WBD,CNP,COO,CPAY,OMC,CINF,ULTA,CMS,AVY,NRG,EQT,DRI,J,DPZ,RF,SYF,BAX,ESS,HOLX,VRSN,NTRS,ENPH,EG,UAL,ATO,ILMN,TXT,LH,ZBRA,CE,EXPD,FDS,L,PKG,CLX,IEX,JBHT,CFG,LUV,MAA,IP,DGX,GEN,BBY,NWS,NWSA,MAS,FOX,FOXA,ALB,AES,SWKS,BG,UDR,EXPE,CAG,JBL,MRO,AMCR,AKAM,SNA,CF,WRK,RVTY,POOL,TRMB,WBA,PNR,KEY,NDSN,CPB,DOC,SWK,HST,INCY,LW,LNT,TECH,PODD,NI,MGM,KIM,AOS,VTRS,JKHY,EVRG,BEN,DVA,IPG,UHS,EMN,SJM,LKQ,TAP,JNPR,CRL,CPT,REG,KMX,APA,RL,BBWI,ALLE,WYNN,BXP,EPAM,SOLV,CHRW,HII,FFIV,MOS,CTLT,PAYC,TFX,TPR,QRVO,HSIC,AAL,GNRC,DAY,AIZ,PNW,HAS,PARA,MKTX,FRT,BIO,BWA,MTCH,FMC,GL,MHK,CZR,ETSY,IVZ,RHI,NCLH,CMA\n",
      "https://data.alpaca.markets/v1beta1/news 50\n",
      "https://data.alpaca.markets/v1beta1/news 50\n",
      "https://data.alpaca.markets/v1beta1/news 50\n",
      "https://data.alpaca.markets/v1beta1/news 50\n",
      "https://data.alpaca.markets/v1beta1/news 50\n",
      "https://data.alpaca.markets/v1beta1/news 50\n",
      "https://data.alpaca.markets/v1beta1/news 50\n",
      "https://data.alpaca.markets/v1beta1/news 50\n"
     ]
    },
    {
     "name": "stderr",
     "output_type": "stream",
     "text": [
      " 51%|█████     | 76/150 [04:53<03:48,  3.09s/it]"
     ]
    },
    {
     "name": "stdout",
     "output_type": "stream",
     "text": [
      "https://data.alpaca.markets/v1beta1/news 13\n",
      "error2\n",
      "Number of news articles: 413\n",
      "Fetching news for date: 2019-04-25\n",
      "start and end news collection 2019-04-18 2019-04-24\n",
      "length of ticker list 503\n",
      "MSFT,AAPL,NVDA,GOOG,GOOGL,AMZN,META,BRK-B,LLY,AVGO,JPM,TSLA,V,WMT,XOM,UNH,MA,PG,COST,JNJ,ORCL,MRK,HD,BAC,CVX,NFLX,ABBV,AMD,KO,CRM,PEP,QCOM,TMO,ADBE,WFC,LIN,DHR,TMUS,ACN,CSCO,MCD,DIS,GE,AMAT,TXN,ABT,AXP,CAT,INTU,VZ,AMGN,PFE,MS,NEE,IBM,PM,NOW,CMCSA,BX,GS,ISRG,MU,UNP,RTX,NKE,COP,SPGI,ETN,UBER,SCHW,INTC,HON,BKNG,SYK,LRCX,T,LOW,C,ELV,PGR,UPS,VRTX,BLK,TJX,ADI,LMT,BSX,REGN,MDT,CB,BA,KLAC,DE,PANW,MMC,ADP,PLD,ANET,CI,ABNB,MDLZ,SNPS,SBUX,FI,AMT,CMG,SO,WM,BMY,HCA,GD,GILD,APH,CDNS,DUK,ICE,MO,ZTS,CME,SHW,CL,TT,TDG,MCO,FCX,MCK,EQIX,CEG,ITW,NXPI,EOG,CVS,CTAS,NOC,PH,MAR,TGT,ECL,BDX,SLB,CSX,EMR,PYPL,MRNA,USB,MPC,PNC,AON,FDX,MSI,PSX,WELL,CARR,RSG,APD,ROP,ORLY,PCAR,SPG,MNST,MMM,AJG,OXY,VLO,EW,MCHP,COF,CPRT,AIG,SMCI,MET,TFC,NSC,HLT,DXCM,GM,AFL,JCI,WMB,TRV,GEV,NEM,F,PCG,SRE,AZO,PSA,ROST,DHI,GWW,DLR,OKE,AEP,FTNT,HES,KDP,TEL,ADSK,STZ,O,URI,EL,PAYX,KMB,D,BK,A,AMP,COR,KHC,ALL,FIS,LEN,PRU,IDXX,CCI,LHX,KMI,HUM,IQV,PWR,NUE,DOW,AME,HSY,CNC,OTIS,CHTR,MSCI,CMI,ACGL,YUM,CTVA,GIS,KR,IR,RCL,LULU,FAST,ODFL,PEG,KVUE,EXC,MPWR,GEHC,SYY,EA,VRSK,NDAQ,MLM,VST,CSGP,XYL,HWM,FANG,VMC,FICO,IT,CTSH,DD,DAL,LVS,ED,BKR,LYB,HPQ,HAL,DG,BIIB,MTD,GRMN,EXR,RMD,ON,GLW,CDW,DFS,PPG,DVN,TSCO,ROK,HIG,WAB,ADM,XEL,EFX,FSLR,VICI,ANSS,EIX,AVB,EBAY,CBRE,FTV,DECK,TTWO,TROW,GPN,RJF,CHD,WTW,BRO,WEC,FITB,TRGP,DOV,VLTO,DLTR,KEYS,MTB,AWK,EQR,IFF,WDC,WST,PHM,ZBH,HPE,NTAP,BR,IRM,CAH,DTE,ETR,NVR,STT,STE,TER,APTV,FE,ROL,LYV,HUBB,WY,PTC,BF-B,AXON,BALL,TSN,PPL,INVH,STLD,TYL,BLDR,K,ARE,LDOS,WRB,ES,GPC,SBAC,CTRA,WAT,HBAN,CCL,STX,MOH,MKC,PFG,ALGN,HRL,VTR,CBOE,TDY,AEE,WBD,CNP,COO,CPAY,OMC,CINF,ULTA,CMS,AVY,NRG,EQT,DRI,J,DPZ,RF,SYF,BAX,ESS,HOLX,VRSN,NTRS,ENPH,EG,UAL,ATO,ILMN,TXT,LH,ZBRA,CE,EXPD,FDS,L,PKG,CLX,IEX,JBHT,CFG,LUV,MAA,IP,DGX,GEN,BBY,NWS,NWSA,MAS,FOX,FOXA,ALB,AES,SWKS,BG,UDR,EXPE,CAG,JBL,MRO,AMCR,AKAM,SNA,CF,WRK,RVTY,POOL,TRMB,WBA,PNR,KEY,NDSN,CPB,DOC,SWK,HST,INCY,LW,LNT,TECH,PODD,NI,MGM,KIM,AOS,VTRS,JKHY,EVRG,BEN,DVA,IPG,UHS,EMN,SJM,LKQ,TAP,JNPR,CRL,CPT,REG,KMX,APA,RL,BBWI,ALLE,WYNN,BXP,EPAM,SOLV,CHRW,HII,FFIV,MOS,CTLT,PAYC,TFX,TPR,QRVO,HSIC,AAL,GNRC,DAY,AIZ,PNW,HAS,PARA,MKTX,FRT,BIO,BWA,MTCH,FMC,GL,MHK,CZR,ETSY,IVZ,RHI,NCLH,CMA\n",
      "https://data.alpaca.markets/v1beta1/news 50\n",
      "https://data.alpaca.markets/v1beta1/news 50\n",
      "https://data.alpaca.markets/v1beta1/news 50\n",
      "https://data.alpaca.markets/v1beta1/news 50\n",
      "https://data.alpaca.markets/v1beta1/news 50\n",
      "https://data.alpaca.markets/v1beta1/news 50\n",
      "https://data.alpaca.markets/v1beta1/news 50\n"
     ]
    },
    {
     "name": "stderr",
     "output_type": "stream",
     "text": [
      " 51%|█████▏    | 77/150 [04:56<03:37,  2.99s/it]"
     ]
    },
    {
     "name": "stdout",
     "output_type": "stream",
     "text": [
      "https://data.alpaca.markets/v1beta1/news 42\n",
      "error2\n",
      "Number of news articles: 392\n",
      "Fetching news for date: 2019-05-07\n",
      "start and end news collection 2019-04-30 2019-05-06\n",
      "length of ticker list 503\n",
      "MSFT,AAPL,NVDA,GOOG,GOOGL,AMZN,META,BRK-B,LLY,AVGO,JPM,TSLA,V,WMT,XOM,UNH,MA,PG,COST,JNJ,ORCL,MRK,HD,BAC,CVX,NFLX,ABBV,AMD,KO,CRM,PEP,QCOM,TMO,ADBE,WFC,LIN,DHR,TMUS,ACN,CSCO,MCD,DIS,GE,AMAT,TXN,ABT,AXP,CAT,INTU,VZ,AMGN,PFE,MS,NEE,IBM,PM,NOW,CMCSA,BX,GS,ISRG,MU,UNP,RTX,NKE,COP,SPGI,ETN,UBER,SCHW,INTC,HON,BKNG,SYK,LRCX,T,LOW,C,ELV,PGR,UPS,VRTX,BLK,TJX,ADI,LMT,BSX,REGN,MDT,CB,BA,KLAC,DE,PANW,MMC,ADP,PLD,ANET,CI,ABNB,MDLZ,SNPS,SBUX,FI,AMT,CMG,SO,WM,BMY,HCA,GD,GILD,APH,CDNS,DUK,ICE,MO,ZTS,CME,SHW,CL,TT,TDG,MCO,FCX,MCK,EQIX,CEG,ITW,NXPI,EOG,CVS,CTAS,NOC,PH,MAR,TGT,ECL,BDX,SLB,CSX,EMR,PYPL,MRNA,USB,MPC,PNC,AON,FDX,MSI,PSX,WELL,CARR,RSG,APD,ROP,ORLY,PCAR,SPG,MNST,MMM,AJG,OXY,VLO,EW,MCHP,COF,CPRT,AIG,SMCI,MET,TFC,NSC,HLT,DXCM,GM,AFL,JCI,WMB,TRV,GEV,NEM,F,PCG,SRE,AZO,PSA,ROST,DHI,GWW,DLR,OKE,AEP,FTNT,HES,KDP,TEL,ADSK,STZ,O,URI,EL,PAYX,KMB,D,BK,A,AMP,COR,KHC,ALL,FIS,LEN,PRU,IDXX,CCI,LHX,KMI,HUM,IQV,PWR,NUE,DOW,AME,HSY,CNC,OTIS,CHTR,MSCI,CMI,ACGL,YUM,CTVA,GIS,KR,IR,RCL,LULU,FAST,ODFL,PEG,KVUE,EXC,MPWR,GEHC,SYY,EA,VRSK,NDAQ,MLM,VST,CSGP,XYL,HWM,FANG,VMC,FICO,IT,CTSH,DD,DAL,LVS,ED,BKR,LYB,HPQ,HAL,DG,BIIB,MTD,GRMN,EXR,RMD,ON,GLW,CDW,DFS,PPG,DVN,TSCO,ROK,HIG,WAB,ADM,XEL,EFX,FSLR,VICI,ANSS,EIX,AVB,EBAY,CBRE,FTV,DECK,TTWO,TROW,GPN,RJF,CHD,WTW,BRO,WEC,FITB,TRGP,DOV,VLTO,DLTR,KEYS,MTB,AWK,EQR,IFF,WDC,WST,PHM,ZBH,HPE,NTAP,BR,IRM,CAH,DTE,ETR,NVR,STT,STE,TER,APTV,FE,ROL,LYV,HUBB,WY,PTC,BF-B,AXON,BALL,TSN,PPL,INVH,STLD,TYL,BLDR,K,ARE,LDOS,WRB,ES,GPC,SBAC,CTRA,WAT,HBAN,CCL,STX,MOH,MKC,PFG,ALGN,HRL,VTR,CBOE,TDY,AEE,WBD,CNP,COO,CPAY,OMC,CINF,ULTA,CMS,AVY,NRG,EQT,DRI,J,DPZ,RF,SYF,BAX,ESS,HOLX,VRSN,NTRS,ENPH,EG,UAL,ATO,ILMN,TXT,LH,ZBRA,CE,EXPD,FDS,L,PKG,CLX,IEX,JBHT,CFG,LUV,MAA,IP,DGX,GEN,BBY,NWS,NWSA,MAS,FOX,FOXA,ALB,AES,SWKS,BG,UDR,EXPE,CAG,JBL,MRO,AMCR,AKAM,SNA,CF,WRK,RVTY,POOL,TRMB,WBA,PNR,KEY,NDSN,CPB,DOC,SWK,HST,INCY,LW,LNT,TECH,PODD,NI,MGM,KIM,AOS,VTRS,JKHY,EVRG,BEN,DVA,IPG,UHS,EMN,SJM,LKQ,TAP,JNPR,CRL,CPT,REG,KMX,APA,RL,BBWI,ALLE,WYNN,BXP,EPAM,SOLV,CHRW,HII,FFIV,MOS,CTLT,PAYC,TFX,TPR,QRVO,HSIC,AAL,GNRC,DAY,AIZ,PNW,HAS,PARA,MKTX,FRT,BIO,BWA,MTCH,FMC,GL,MHK,CZR,ETSY,IVZ,RHI,NCLH,CMA\n",
      "https://data.alpaca.markets/v1beta1/news 50\n",
      "https://data.alpaca.markets/v1beta1/news 50\n",
      "https://data.alpaca.markets/v1beta1/news 50\n",
      "https://data.alpaca.markets/v1beta1/news 50\n",
      "https://data.alpaca.markets/v1beta1/news 50\n",
      "https://data.alpaca.markets/v1beta1/news 50\n",
      "https://data.alpaca.markets/v1beta1/news 50\n",
      "https://data.alpaca.markets/v1beta1/news 50\n",
      "https://data.alpaca.markets/v1beta1/news 50\n",
      "https://data.alpaca.markets/v1beta1/news 50\n",
      "https://data.alpaca.markets/v1beta1/news 50\n",
      "https://data.alpaca.markets/v1beta1/news 50\n",
      "https://data.alpaca.markets/v1beta1/news 50\n",
      "https://data.alpaca.markets/v1beta1/news 50\n",
      "https://data.alpaca.markets/v1beta1/news 50\n"
     ]
    },
    {
     "name": "stderr",
     "output_type": "stream",
     "text": [
      " 52%|█████▏    | 78/150 [05:01<04:20,  3.62s/it]"
     ]
    },
    {
     "name": "stdout",
     "output_type": "stream",
     "text": [
      "https://data.alpaca.markets/v1beta1/news 19\n",
      "error2\n",
      "Number of news articles: 769\n",
      "Fetching news for date: 2019-05-08\n",
      "start and end news collection 2019-05-01 2019-05-07\n",
      "length of ticker list 503\n",
      "MSFT,AAPL,NVDA,GOOG,GOOGL,AMZN,META,BRK-B,LLY,AVGO,JPM,TSLA,V,WMT,XOM,UNH,MA,PG,COST,JNJ,ORCL,MRK,HD,BAC,CVX,NFLX,ABBV,AMD,KO,CRM,PEP,QCOM,TMO,ADBE,WFC,LIN,DHR,TMUS,ACN,CSCO,MCD,DIS,GE,AMAT,TXN,ABT,AXP,CAT,INTU,VZ,AMGN,PFE,MS,NEE,IBM,PM,NOW,CMCSA,BX,GS,ISRG,MU,UNP,RTX,NKE,COP,SPGI,ETN,UBER,SCHW,INTC,HON,BKNG,SYK,LRCX,T,LOW,C,ELV,PGR,UPS,VRTX,BLK,TJX,ADI,LMT,BSX,REGN,MDT,CB,BA,KLAC,DE,PANW,MMC,ADP,PLD,ANET,CI,ABNB,MDLZ,SNPS,SBUX,FI,AMT,CMG,SO,WM,BMY,HCA,GD,GILD,APH,CDNS,DUK,ICE,MO,ZTS,CME,SHW,CL,TT,TDG,MCO,FCX,MCK,EQIX,CEG,ITW,NXPI,EOG,CVS,CTAS,NOC,PH,MAR,TGT,ECL,BDX,SLB,CSX,EMR,PYPL,MRNA,USB,MPC,PNC,AON,FDX,MSI,PSX,WELL,CARR,RSG,APD,ROP,ORLY,PCAR,SPG,MNST,MMM,AJG,OXY,VLO,EW,MCHP,COF,CPRT,AIG,SMCI,MET,TFC,NSC,HLT,DXCM,GM,AFL,JCI,WMB,TRV,GEV,NEM,F,PCG,SRE,AZO,PSA,ROST,DHI,GWW,DLR,OKE,AEP,FTNT,HES,KDP,TEL,ADSK,STZ,O,URI,EL,PAYX,KMB,D,BK,A,AMP,COR,KHC,ALL,FIS,LEN,PRU,IDXX,CCI,LHX,KMI,HUM,IQV,PWR,NUE,DOW,AME,HSY,CNC,OTIS,CHTR,MSCI,CMI,ACGL,YUM,CTVA,GIS,KR,IR,RCL,LULU,FAST,ODFL,PEG,KVUE,EXC,MPWR,GEHC,SYY,EA,VRSK,NDAQ,MLM,VST,CSGP,XYL,HWM,FANG,VMC,FICO,IT,CTSH,DD,DAL,LVS,ED,BKR,LYB,HPQ,HAL,DG,BIIB,MTD,GRMN,EXR,RMD,ON,GLW,CDW,DFS,PPG,DVN,TSCO,ROK,HIG,WAB,ADM,XEL,EFX,FSLR,VICI,ANSS,EIX,AVB,EBAY,CBRE,FTV,DECK,TTWO,TROW,GPN,RJF,CHD,WTW,BRO,WEC,FITB,TRGP,DOV,VLTO,DLTR,KEYS,MTB,AWK,EQR,IFF,WDC,WST,PHM,ZBH,HPE,NTAP,BR,IRM,CAH,DTE,ETR,NVR,STT,STE,TER,APTV,FE,ROL,LYV,HUBB,WY,PTC,BF-B,AXON,BALL,TSN,PPL,INVH,STLD,TYL,BLDR,K,ARE,LDOS,WRB,ES,GPC,SBAC,CTRA,WAT,HBAN,CCL,STX,MOH,MKC,PFG,ALGN,HRL,VTR,CBOE,TDY,AEE,WBD,CNP,COO,CPAY,OMC,CINF,ULTA,CMS,AVY,NRG,EQT,DRI,J,DPZ,RF,SYF,BAX,ESS,HOLX,VRSN,NTRS,ENPH,EG,UAL,ATO,ILMN,TXT,LH,ZBRA,CE,EXPD,FDS,L,PKG,CLX,IEX,JBHT,CFG,LUV,MAA,IP,DGX,GEN,BBY,NWS,NWSA,MAS,FOX,FOXA,ALB,AES,SWKS,BG,UDR,EXPE,CAG,JBL,MRO,AMCR,AKAM,SNA,CF,WRK,RVTY,POOL,TRMB,WBA,PNR,KEY,NDSN,CPB,DOC,SWK,HST,INCY,LW,LNT,TECH,PODD,NI,MGM,KIM,AOS,VTRS,JKHY,EVRG,BEN,DVA,IPG,UHS,EMN,SJM,LKQ,TAP,JNPR,CRL,CPT,REG,KMX,APA,RL,BBWI,ALLE,WYNN,BXP,EPAM,SOLV,CHRW,HII,FFIV,MOS,CTLT,PAYC,TFX,TPR,QRVO,HSIC,AAL,GNRC,DAY,AIZ,PNW,HAS,PARA,MKTX,FRT,BIO,BWA,MTCH,FMC,GL,MHK,CZR,ETSY,IVZ,RHI,NCLH,CMA\n",
      "https://data.alpaca.markets/v1beta1/news 50\n",
      "https://data.alpaca.markets/v1beta1/news 50\n",
      "https://data.alpaca.markets/v1beta1/news 50\n",
      "https://data.alpaca.markets/v1beta1/news 50\n",
      "https://data.alpaca.markets/v1beta1/news 50\n",
      "https://data.alpaca.markets/v1beta1/news 50\n",
      "https://data.alpaca.markets/v1beta1/news 50\n",
      "https://data.alpaca.markets/v1beta1/news 50\n",
      "https://data.alpaca.markets/v1beta1/news 50\n",
      "https://data.alpaca.markets/v1beta1/news 50\n",
      "https://data.alpaca.markets/v1beta1/news 50\n",
      "https://data.alpaca.markets/v1beta1/news 50\n",
      "https://data.alpaca.markets/v1beta1/news 50\n"
     ]
    },
    {
     "name": "stderr",
     "output_type": "stream",
     "text": [
      " 53%|█████▎    | 79/150 [05:06<04:35,  3.87s/it]"
     ]
    },
    {
     "name": "stdout",
     "output_type": "stream",
     "text": [
      "https://data.alpaca.markets/v1beta1/news 9\n",
      "error2\n",
      "Number of news articles: 659\n",
      "Fetching news for date: 2019-05-13\n",
      "start and end news collection 2019-05-06 2019-05-12\n",
      "length of ticker list 503\n",
      "MSFT,AAPL,NVDA,GOOG,GOOGL,AMZN,META,BRK-B,LLY,AVGO,JPM,TSLA,V,WMT,XOM,UNH,MA,PG,COST,JNJ,ORCL,MRK,HD,BAC,CVX,NFLX,ABBV,AMD,KO,CRM,PEP,QCOM,TMO,ADBE,WFC,LIN,DHR,TMUS,ACN,CSCO,MCD,DIS,GE,AMAT,TXN,ABT,AXP,CAT,INTU,VZ,AMGN,PFE,MS,NEE,IBM,PM,NOW,CMCSA,BX,GS,ISRG,MU,UNP,RTX,NKE,COP,SPGI,ETN,UBER,SCHW,INTC,HON,BKNG,SYK,LRCX,T,LOW,C,ELV,PGR,UPS,VRTX,BLK,TJX,ADI,LMT,BSX,REGN,MDT,CB,BA,KLAC,DE,PANW,MMC,ADP,PLD,ANET,CI,ABNB,MDLZ,SNPS,SBUX,FI,AMT,CMG,SO,WM,BMY,HCA,GD,GILD,APH,CDNS,DUK,ICE,MO,ZTS,CME,SHW,CL,TT,TDG,MCO,FCX,MCK,EQIX,CEG,ITW,NXPI,EOG,CVS,CTAS,NOC,PH,MAR,TGT,ECL,BDX,SLB,CSX,EMR,PYPL,MRNA,USB,MPC,PNC,AON,FDX,MSI,PSX,WELL,CARR,RSG,APD,ROP,ORLY,PCAR,SPG,MNST,MMM,AJG,OXY,VLO,EW,MCHP,COF,CPRT,AIG,SMCI,MET,TFC,NSC,HLT,DXCM,GM,AFL,JCI,WMB,TRV,GEV,NEM,F,PCG,SRE,AZO,PSA,ROST,DHI,GWW,DLR,OKE,AEP,FTNT,HES,KDP,TEL,ADSK,STZ,O,URI,EL,PAYX,KMB,D,BK,A,AMP,COR,KHC,ALL,FIS,LEN,PRU,IDXX,CCI,LHX,KMI,HUM,IQV,PWR,NUE,DOW,AME,HSY,CNC,OTIS,CHTR,MSCI,CMI,ACGL,YUM,CTVA,GIS,KR,IR,RCL,LULU,FAST,ODFL,PEG,KVUE,EXC,MPWR,GEHC,SYY,EA,VRSK,NDAQ,MLM,VST,CSGP,XYL,HWM,FANG,VMC,FICO,IT,CTSH,DD,DAL,LVS,ED,BKR,LYB,HPQ,HAL,DG,BIIB,MTD,GRMN,EXR,RMD,ON,GLW,CDW,DFS,PPG,DVN,TSCO,ROK,HIG,WAB,ADM,XEL,EFX,FSLR,VICI,ANSS,EIX,AVB,EBAY,CBRE,FTV,DECK,TTWO,TROW,GPN,RJF,CHD,WTW,BRO,WEC,FITB,TRGP,DOV,VLTO,DLTR,KEYS,MTB,AWK,EQR,IFF,WDC,WST,PHM,ZBH,HPE,NTAP,BR,IRM,CAH,DTE,ETR,NVR,STT,STE,TER,APTV,FE,ROL,LYV,HUBB,WY,PTC,BF-B,AXON,BALL,TSN,PPL,INVH,STLD,TYL,BLDR,K,ARE,LDOS,WRB,ES,GPC,SBAC,CTRA,WAT,HBAN,CCL,STX,MOH,MKC,PFG,ALGN,HRL,VTR,CBOE,TDY,AEE,WBD,CNP,COO,CPAY,OMC,CINF,ULTA,CMS,AVY,NRG,EQT,DRI,J,DPZ,RF,SYF,BAX,ESS,HOLX,VRSN,NTRS,ENPH,EG,UAL,ATO,ILMN,TXT,LH,ZBRA,CE,EXPD,FDS,L,PKG,CLX,IEX,JBHT,CFG,LUV,MAA,IP,DGX,GEN,BBY,NWS,NWSA,MAS,FOX,FOXA,ALB,AES,SWKS,BG,UDR,EXPE,CAG,JBL,MRO,AMCR,AKAM,SNA,CF,WRK,RVTY,POOL,TRMB,WBA,PNR,KEY,NDSN,CPB,DOC,SWK,HST,INCY,LW,LNT,TECH,PODD,NI,MGM,KIM,AOS,VTRS,JKHY,EVRG,BEN,DVA,IPG,UHS,EMN,SJM,LKQ,TAP,JNPR,CRL,CPT,REG,KMX,APA,RL,BBWI,ALLE,WYNN,BXP,EPAM,SOLV,CHRW,HII,FFIV,MOS,CTLT,PAYC,TFX,TPR,QRVO,HSIC,AAL,GNRC,DAY,AIZ,PNW,HAS,PARA,MKTX,FRT,BIO,BWA,MTCH,FMC,GL,MHK,CZR,ETSY,IVZ,RHI,NCLH,CMA\n",
      "https://data.alpaca.markets/v1beta1/news 50\n",
      "https://data.alpaca.markets/v1beta1/news 50\n",
      "https://data.alpaca.markets/v1beta1/news 50\n",
      "https://data.alpaca.markets/v1beta1/news 50\n",
      "https://data.alpaca.markets/v1beta1/news 50\n",
      "https://data.alpaca.markets/v1beta1/news 50\n",
      "https://data.alpaca.markets/v1beta1/news 50\n",
      "https://data.alpaca.markets/v1beta1/news 50\n",
      "https://data.alpaca.markets/v1beta1/news 50\n",
      "https://data.alpaca.markets/v1beta1/news 50\n",
      "https://data.alpaca.markets/v1beta1/news 50\n"
     ]
    },
    {
     "name": "stderr",
     "output_type": "stream",
     "text": [
      " 53%|█████▎    | 80/150 [05:10<04:30,  3.86s/it]"
     ]
    },
    {
     "name": "stdout",
     "output_type": "stream",
     "text": [
      "https://data.alpaca.markets/v1beta1/news 38\n",
      "error2\n",
      "Number of news articles: 588\n",
      "Fetching news for date: 2019-05-24\n",
      "start and end news collection 2019-05-17 2019-05-23\n",
      "length of ticker list 503\n",
      "MSFT,AAPL,NVDA,GOOG,GOOGL,AMZN,META,BRK-B,LLY,AVGO,JPM,TSLA,V,WMT,XOM,UNH,MA,PG,COST,JNJ,ORCL,MRK,HD,BAC,CVX,NFLX,ABBV,AMD,KO,CRM,PEP,QCOM,TMO,ADBE,WFC,LIN,DHR,TMUS,ACN,CSCO,MCD,DIS,GE,AMAT,TXN,ABT,AXP,CAT,INTU,VZ,AMGN,PFE,MS,NEE,IBM,PM,NOW,CMCSA,BX,GS,ISRG,MU,UNP,RTX,NKE,COP,SPGI,ETN,UBER,SCHW,INTC,HON,BKNG,SYK,LRCX,T,LOW,C,ELV,PGR,UPS,VRTX,BLK,TJX,ADI,LMT,BSX,REGN,MDT,CB,BA,KLAC,DE,PANW,MMC,ADP,PLD,ANET,CI,ABNB,MDLZ,SNPS,SBUX,FI,AMT,CMG,SO,WM,BMY,HCA,GD,GILD,APH,CDNS,DUK,ICE,MO,ZTS,CME,SHW,CL,TT,TDG,MCO,FCX,MCK,EQIX,CEG,ITW,NXPI,EOG,CVS,CTAS,NOC,PH,MAR,TGT,ECL,BDX,SLB,CSX,EMR,PYPL,MRNA,USB,MPC,PNC,AON,FDX,MSI,PSX,WELL,CARR,RSG,APD,ROP,ORLY,PCAR,SPG,MNST,MMM,AJG,OXY,VLO,EW,MCHP,COF,CPRT,AIG,SMCI,MET,TFC,NSC,HLT,DXCM,GM,AFL,JCI,WMB,TRV,GEV,NEM,F,PCG,SRE,AZO,PSA,ROST,DHI,GWW,DLR,OKE,AEP,FTNT,HES,KDP,TEL,ADSK,STZ,O,URI,EL,PAYX,KMB,D,BK,A,AMP,COR,KHC,ALL,FIS,LEN,PRU,IDXX,CCI,LHX,KMI,HUM,IQV,PWR,NUE,DOW,AME,HSY,CNC,OTIS,CHTR,MSCI,CMI,ACGL,YUM,CTVA,GIS,KR,IR,RCL,LULU,FAST,ODFL,PEG,KVUE,EXC,MPWR,GEHC,SYY,EA,VRSK,NDAQ,MLM,VST,CSGP,XYL,HWM,FANG,VMC,FICO,IT,CTSH,DD,DAL,LVS,ED,BKR,LYB,HPQ,HAL,DG,BIIB,MTD,GRMN,EXR,RMD,ON,GLW,CDW,DFS,PPG,DVN,TSCO,ROK,HIG,WAB,ADM,XEL,EFX,FSLR,VICI,ANSS,EIX,AVB,EBAY,CBRE,FTV,DECK,TTWO,TROW,GPN,RJF,CHD,WTW,BRO,WEC,FITB,TRGP,DOV,VLTO,DLTR,KEYS,MTB,AWK,EQR,IFF,WDC,WST,PHM,ZBH,HPE,NTAP,BR,IRM,CAH,DTE,ETR,NVR,STT,STE,TER,APTV,FE,ROL,LYV,HUBB,WY,PTC,BF-B,AXON,BALL,TSN,PPL,INVH,STLD,TYL,BLDR,K,ARE,LDOS,WRB,ES,GPC,SBAC,CTRA,WAT,HBAN,CCL,STX,MOH,MKC,PFG,ALGN,HRL,VTR,CBOE,TDY,AEE,WBD,CNP,COO,CPAY,OMC,CINF,ULTA,CMS,AVY,NRG,EQT,DRI,J,DPZ,RF,SYF,BAX,ESS,HOLX,VRSN,NTRS,ENPH,EG,UAL,ATO,ILMN,TXT,LH,ZBRA,CE,EXPD,FDS,L,PKG,CLX,IEX,JBHT,CFG,LUV,MAA,IP,DGX,GEN,BBY,NWS,NWSA,MAS,FOX,FOXA,ALB,AES,SWKS,BG,UDR,EXPE,CAG,JBL,MRO,AMCR,AKAM,SNA,CF,WRK,RVTY,POOL,TRMB,WBA,PNR,KEY,NDSN,CPB,DOC,SWK,HST,INCY,LW,LNT,TECH,PODD,NI,MGM,KIM,AOS,VTRS,JKHY,EVRG,BEN,DVA,IPG,UHS,EMN,SJM,LKQ,TAP,JNPR,CRL,CPT,REG,KMX,APA,RL,BBWI,ALLE,WYNN,BXP,EPAM,SOLV,CHRW,HII,FFIV,MOS,CTLT,PAYC,TFX,TPR,QRVO,HSIC,AAL,GNRC,DAY,AIZ,PNW,HAS,PARA,MKTX,FRT,BIO,BWA,MTCH,FMC,GL,MHK,CZR,ETSY,IVZ,RHI,NCLH,CMA\n",
      "https://data.alpaca.markets/v1beta1/news 50\n",
      "https://data.alpaca.markets/v1beta1/news 50\n",
      "https://data.alpaca.markets/v1beta1/news 50\n",
      "https://data.alpaca.markets/v1beta1/news 50\n",
      "https://data.alpaca.markets/v1beta1/news 50\n",
      "https://data.alpaca.markets/v1beta1/news 50\n",
      "https://data.alpaca.markets/v1beta1/news 50\n",
      "https://data.alpaca.markets/v1beta1/news 50\n",
      "https://data.alpaca.markets/v1beta1/news 50\n"
     ]
    },
    {
     "name": "stderr",
     "output_type": "stream",
     "text": [
      " 54%|█████▍    | 81/150 [05:13<04:12,  3.66s/it]"
     ]
    },
    {
     "name": "stdout",
     "output_type": "stream",
     "text": [
      "https://data.alpaca.markets/v1beta1/news 43\n",
      "error2\n",
      "Number of news articles: 493\n",
      "Fetching news for date: 2019-06-25\n",
      "start and end news collection 2019-06-18 2019-06-24\n",
      "length of ticker list 503\n",
      "MSFT,AAPL,NVDA,GOOG,GOOGL,AMZN,META,BRK-B,LLY,AVGO,JPM,TSLA,V,WMT,XOM,UNH,MA,PG,COST,JNJ,ORCL,MRK,HD,BAC,CVX,NFLX,ABBV,AMD,KO,CRM,PEP,QCOM,TMO,ADBE,WFC,LIN,DHR,TMUS,ACN,CSCO,MCD,DIS,GE,AMAT,TXN,ABT,AXP,CAT,INTU,VZ,AMGN,PFE,MS,NEE,IBM,PM,NOW,CMCSA,BX,GS,ISRG,MU,UNP,RTX,NKE,COP,SPGI,ETN,UBER,SCHW,INTC,HON,BKNG,SYK,LRCX,T,LOW,C,ELV,PGR,UPS,VRTX,BLK,TJX,ADI,LMT,BSX,REGN,MDT,CB,BA,KLAC,DE,PANW,MMC,ADP,PLD,ANET,CI,ABNB,MDLZ,SNPS,SBUX,FI,AMT,CMG,SO,WM,BMY,HCA,GD,GILD,APH,CDNS,DUK,ICE,MO,ZTS,CME,SHW,CL,TT,TDG,MCO,FCX,MCK,EQIX,CEG,ITW,NXPI,EOG,CVS,CTAS,NOC,PH,MAR,TGT,ECL,BDX,SLB,CSX,EMR,PYPL,MRNA,USB,MPC,PNC,AON,FDX,MSI,PSX,WELL,CARR,RSG,APD,ROP,ORLY,PCAR,SPG,MNST,MMM,AJG,OXY,VLO,EW,MCHP,COF,CPRT,AIG,SMCI,MET,TFC,NSC,HLT,DXCM,GM,AFL,JCI,WMB,TRV,GEV,NEM,F,PCG,SRE,AZO,PSA,ROST,DHI,GWW,DLR,OKE,AEP,FTNT,HES,KDP,TEL,ADSK,STZ,O,URI,EL,PAYX,KMB,D,BK,A,AMP,COR,KHC,ALL,FIS,LEN,PRU,IDXX,CCI,LHX,KMI,HUM,IQV,PWR,NUE,DOW,AME,HSY,CNC,OTIS,CHTR,MSCI,CMI,ACGL,YUM,CTVA,GIS,KR,IR,RCL,LULU,FAST,ODFL,PEG,KVUE,EXC,MPWR,GEHC,SYY,EA,VRSK,NDAQ,MLM,VST,CSGP,XYL,HWM,FANG,VMC,FICO,IT,CTSH,DD,DAL,LVS,ED,BKR,LYB,HPQ,HAL,DG,BIIB,MTD,GRMN,EXR,RMD,ON,GLW,CDW,DFS,PPG,DVN,TSCO,ROK,HIG,WAB,ADM,XEL,EFX,FSLR,VICI,ANSS,EIX,AVB,EBAY,CBRE,FTV,DECK,TTWO,TROW,GPN,RJF,CHD,WTW,BRO,WEC,FITB,TRGP,DOV,VLTO,DLTR,KEYS,MTB,AWK,EQR,IFF,WDC,WST,PHM,ZBH,HPE,NTAP,BR,IRM,CAH,DTE,ETR,NVR,STT,STE,TER,APTV,FE,ROL,LYV,HUBB,WY,PTC,BF-B,AXON,BALL,TSN,PPL,INVH,STLD,TYL,BLDR,K,ARE,LDOS,WRB,ES,GPC,SBAC,CTRA,WAT,HBAN,CCL,STX,MOH,MKC,PFG,ALGN,HRL,VTR,CBOE,TDY,AEE,WBD,CNP,COO,CPAY,OMC,CINF,ULTA,CMS,AVY,NRG,EQT,DRI,J,DPZ,RF,SYF,BAX,ESS,HOLX,VRSN,NTRS,ENPH,EG,UAL,ATO,ILMN,TXT,LH,ZBRA,CE,EXPD,FDS,L,PKG,CLX,IEX,JBHT,CFG,LUV,MAA,IP,DGX,GEN,BBY,NWS,NWSA,MAS,FOX,FOXA,ALB,AES,SWKS,BG,UDR,EXPE,CAG,JBL,MRO,AMCR,AKAM,SNA,CF,WRK,RVTY,POOL,TRMB,WBA,PNR,KEY,NDSN,CPB,DOC,SWK,HST,INCY,LW,LNT,TECH,PODD,NI,MGM,KIM,AOS,VTRS,JKHY,EVRG,BEN,DVA,IPG,UHS,EMN,SJM,LKQ,TAP,JNPR,CRL,CPT,REG,KMX,APA,RL,BBWI,ALLE,WYNN,BXP,EPAM,SOLV,CHRW,HII,FFIV,MOS,CTLT,PAYC,TFX,TPR,QRVO,HSIC,AAL,GNRC,DAY,AIZ,PNW,HAS,PARA,MKTX,FRT,BIO,BWA,MTCH,FMC,GL,MHK,CZR,ETSY,IVZ,RHI,NCLH,CMA\n",
      "https://data.alpaca.markets/v1beta1/news 50\n",
      "https://data.alpaca.markets/v1beta1/news 50\n",
      "https://data.alpaca.markets/v1beta1/news 50\n",
      "https://data.alpaca.markets/v1beta1/news 50\n",
      "https://data.alpaca.markets/v1beta1/news 50\n",
      "https://data.alpaca.markets/v1beta1/news 50\n",
      "https://data.alpaca.markets/v1beta1/news 50\n",
      "https://data.alpaca.markets/v1beta1/news 50\n"
     ]
    },
    {
     "name": "stderr",
     "output_type": "stream",
     "text": [
      " 55%|█████▍    | 82/150 [05:16<03:55,  3.47s/it]"
     ]
    },
    {
     "name": "stdout",
     "output_type": "stream",
     "text": [
      "https://data.alpaca.markets/v1beta1/news 33\n",
      "error2\n",
      "Number of news articles: 433\n",
      "Fetching news for date: 2019-07-12\n",
      "start and end news collection 2019-07-05 2019-07-11\n",
      "length of ticker list 503\n",
      "MSFT,AAPL,NVDA,GOOG,GOOGL,AMZN,META,BRK-B,LLY,AVGO,JPM,TSLA,V,WMT,XOM,UNH,MA,PG,COST,JNJ,ORCL,MRK,HD,BAC,CVX,NFLX,ABBV,AMD,KO,CRM,PEP,QCOM,TMO,ADBE,WFC,LIN,DHR,TMUS,ACN,CSCO,MCD,DIS,GE,AMAT,TXN,ABT,AXP,CAT,INTU,VZ,AMGN,PFE,MS,NEE,IBM,PM,NOW,CMCSA,BX,GS,ISRG,MU,UNP,RTX,NKE,COP,SPGI,ETN,UBER,SCHW,INTC,HON,BKNG,SYK,LRCX,T,LOW,C,ELV,PGR,UPS,VRTX,BLK,TJX,ADI,LMT,BSX,REGN,MDT,CB,BA,KLAC,DE,PANW,MMC,ADP,PLD,ANET,CI,ABNB,MDLZ,SNPS,SBUX,FI,AMT,CMG,SO,WM,BMY,HCA,GD,GILD,APH,CDNS,DUK,ICE,MO,ZTS,CME,SHW,CL,TT,TDG,MCO,FCX,MCK,EQIX,CEG,ITW,NXPI,EOG,CVS,CTAS,NOC,PH,MAR,TGT,ECL,BDX,SLB,CSX,EMR,PYPL,MRNA,USB,MPC,PNC,AON,FDX,MSI,PSX,WELL,CARR,RSG,APD,ROP,ORLY,PCAR,SPG,MNST,MMM,AJG,OXY,VLO,EW,MCHP,COF,CPRT,AIG,SMCI,MET,TFC,NSC,HLT,DXCM,GM,AFL,JCI,WMB,TRV,GEV,NEM,F,PCG,SRE,AZO,PSA,ROST,DHI,GWW,DLR,OKE,AEP,FTNT,HES,KDP,TEL,ADSK,STZ,O,URI,EL,PAYX,KMB,D,BK,A,AMP,COR,KHC,ALL,FIS,LEN,PRU,IDXX,CCI,LHX,KMI,HUM,IQV,PWR,NUE,DOW,AME,HSY,CNC,OTIS,CHTR,MSCI,CMI,ACGL,YUM,CTVA,GIS,KR,IR,RCL,LULU,FAST,ODFL,PEG,KVUE,EXC,MPWR,GEHC,SYY,EA,VRSK,NDAQ,MLM,VST,CSGP,XYL,HWM,FANG,VMC,FICO,IT,CTSH,DD,DAL,LVS,ED,BKR,LYB,HPQ,HAL,DG,BIIB,MTD,GRMN,EXR,RMD,ON,GLW,CDW,DFS,PPG,DVN,TSCO,ROK,HIG,WAB,ADM,XEL,EFX,FSLR,VICI,ANSS,EIX,AVB,EBAY,CBRE,FTV,DECK,TTWO,TROW,GPN,RJF,CHD,WTW,BRO,WEC,FITB,TRGP,DOV,VLTO,DLTR,KEYS,MTB,AWK,EQR,IFF,WDC,WST,PHM,ZBH,HPE,NTAP,BR,IRM,CAH,DTE,ETR,NVR,STT,STE,TER,APTV,FE,ROL,LYV,HUBB,WY,PTC,BF-B,AXON,BALL,TSN,PPL,INVH,STLD,TYL,BLDR,K,ARE,LDOS,WRB,ES,GPC,SBAC,CTRA,WAT,HBAN,CCL,STX,MOH,MKC,PFG,ALGN,HRL,VTR,CBOE,TDY,AEE,WBD,CNP,COO,CPAY,OMC,CINF,ULTA,CMS,AVY,NRG,EQT,DRI,J,DPZ,RF,SYF,BAX,ESS,HOLX,VRSN,NTRS,ENPH,EG,UAL,ATO,ILMN,TXT,LH,ZBRA,CE,EXPD,FDS,L,PKG,CLX,IEX,JBHT,CFG,LUV,MAA,IP,DGX,GEN,BBY,NWS,NWSA,MAS,FOX,FOXA,ALB,AES,SWKS,BG,UDR,EXPE,CAG,JBL,MRO,AMCR,AKAM,SNA,CF,WRK,RVTY,POOL,TRMB,WBA,PNR,KEY,NDSN,CPB,DOC,SWK,HST,INCY,LW,LNT,TECH,PODD,NI,MGM,KIM,AOS,VTRS,JKHY,EVRG,BEN,DVA,IPG,UHS,EMN,SJM,LKQ,TAP,JNPR,CRL,CPT,REG,KMX,APA,RL,BBWI,ALLE,WYNN,BXP,EPAM,SOLV,CHRW,HII,FFIV,MOS,CTLT,PAYC,TFX,TPR,QRVO,HSIC,AAL,GNRC,DAY,AIZ,PNW,HAS,PARA,MKTX,FRT,BIO,BWA,MTCH,FMC,GL,MHK,CZR,ETSY,IVZ,RHI,NCLH,CMA\n",
      "https://data.alpaca.markets/v1beta1/news 50\n",
      "https://data.alpaca.markets/v1beta1/news 50\n",
      "https://data.alpaca.markets/v1beta1/news 50\n",
      "https://data.alpaca.markets/v1beta1/news 50\n",
      "https://data.alpaca.markets/v1beta1/news 50\n",
      "https://data.alpaca.markets/v1beta1/news 50\n",
      "https://data.alpaca.markets/v1beta1/news 50\n",
      "https://data.alpaca.markets/v1beta1/news 50\n"
     ]
    },
    {
     "name": "stderr",
     "output_type": "stream",
     "text": [
      " 55%|█████▌    | 83/150 [05:19<03:45,  3.37s/it]"
     ]
    },
    {
     "name": "stdout",
     "output_type": "stream",
     "text": [
      "https://data.alpaca.markets/v1beta1/news 33\n",
      "error2\n",
      "Number of news articles: 433\n",
      "Fetching news for date: 2019-07-15\n",
      "start and end news collection 2019-07-08 2019-07-14\n",
      "length of ticker list 503\n",
      "MSFT,AAPL,NVDA,GOOG,GOOGL,AMZN,META,BRK-B,LLY,AVGO,JPM,TSLA,V,WMT,XOM,UNH,MA,PG,COST,JNJ,ORCL,MRK,HD,BAC,CVX,NFLX,ABBV,AMD,KO,CRM,PEP,QCOM,TMO,ADBE,WFC,LIN,DHR,TMUS,ACN,CSCO,MCD,DIS,GE,AMAT,TXN,ABT,AXP,CAT,INTU,VZ,AMGN,PFE,MS,NEE,IBM,PM,NOW,CMCSA,BX,GS,ISRG,MU,UNP,RTX,NKE,COP,SPGI,ETN,UBER,SCHW,INTC,HON,BKNG,SYK,LRCX,T,LOW,C,ELV,PGR,UPS,VRTX,BLK,TJX,ADI,LMT,BSX,REGN,MDT,CB,BA,KLAC,DE,PANW,MMC,ADP,PLD,ANET,CI,ABNB,MDLZ,SNPS,SBUX,FI,AMT,CMG,SO,WM,BMY,HCA,GD,GILD,APH,CDNS,DUK,ICE,MO,ZTS,CME,SHW,CL,TT,TDG,MCO,FCX,MCK,EQIX,CEG,ITW,NXPI,EOG,CVS,CTAS,NOC,PH,MAR,TGT,ECL,BDX,SLB,CSX,EMR,PYPL,MRNA,USB,MPC,PNC,AON,FDX,MSI,PSX,WELL,CARR,RSG,APD,ROP,ORLY,PCAR,SPG,MNST,MMM,AJG,OXY,VLO,EW,MCHP,COF,CPRT,AIG,SMCI,MET,TFC,NSC,HLT,DXCM,GM,AFL,JCI,WMB,TRV,GEV,NEM,F,PCG,SRE,AZO,PSA,ROST,DHI,GWW,DLR,OKE,AEP,FTNT,HES,KDP,TEL,ADSK,STZ,O,URI,EL,PAYX,KMB,D,BK,A,AMP,COR,KHC,ALL,FIS,LEN,PRU,IDXX,CCI,LHX,KMI,HUM,IQV,PWR,NUE,DOW,AME,HSY,CNC,OTIS,CHTR,MSCI,CMI,ACGL,YUM,CTVA,GIS,KR,IR,RCL,LULU,FAST,ODFL,PEG,KVUE,EXC,MPWR,GEHC,SYY,EA,VRSK,NDAQ,MLM,VST,CSGP,XYL,HWM,FANG,VMC,FICO,IT,CTSH,DD,DAL,LVS,ED,BKR,LYB,HPQ,HAL,DG,BIIB,MTD,GRMN,EXR,RMD,ON,GLW,CDW,DFS,PPG,DVN,TSCO,ROK,HIG,WAB,ADM,XEL,EFX,FSLR,VICI,ANSS,EIX,AVB,EBAY,CBRE,FTV,DECK,TTWO,TROW,GPN,RJF,CHD,WTW,BRO,WEC,FITB,TRGP,DOV,VLTO,DLTR,KEYS,MTB,AWK,EQR,IFF,WDC,WST,PHM,ZBH,HPE,NTAP,BR,IRM,CAH,DTE,ETR,NVR,STT,STE,TER,APTV,FE,ROL,LYV,HUBB,WY,PTC,BF-B,AXON,BALL,TSN,PPL,INVH,STLD,TYL,BLDR,K,ARE,LDOS,WRB,ES,GPC,SBAC,CTRA,WAT,HBAN,CCL,STX,MOH,MKC,PFG,ALGN,HRL,VTR,CBOE,TDY,AEE,WBD,CNP,COO,CPAY,OMC,CINF,ULTA,CMS,AVY,NRG,EQT,DRI,J,DPZ,RF,SYF,BAX,ESS,HOLX,VRSN,NTRS,ENPH,EG,UAL,ATO,ILMN,TXT,LH,ZBRA,CE,EXPD,FDS,L,PKG,CLX,IEX,JBHT,CFG,LUV,MAA,IP,DGX,GEN,BBY,NWS,NWSA,MAS,FOX,FOXA,ALB,AES,SWKS,BG,UDR,EXPE,CAG,JBL,MRO,AMCR,AKAM,SNA,CF,WRK,RVTY,POOL,TRMB,WBA,PNR,KEY,NDSN,CPB,DOC,SWK,HST,INCY,LW,LNT,TECH,PODD,NI,MGM,KIM,AOS,VTRS,JKHY,EVRG,BEN,DVA,IPG,UHS,EMN,SJM,LKQ,TAP,JNPR,CRL,CPT,REG,KMX,APA,RL,BBWI,ALLE,WYNN,BXP,EPAM,SOLV,CHRW,HII,FFIV,MOS,CTLT,PAYC,TFX,TPR,QRVO,HSIC,AAL,GNRC,DAY,AIZ,PNW,HAS,PARA,MKTX,FRT,BIO,BWA,MTCH,FMC,GL,MHK,CZR,ETSY,IVZ,RHI,NCLH,CMA\n",
      "https://data.alpaca.markets/v1beta1/news 50\n",
      "https://data.alpaca.markets/v1beta1/news 50\n",
      "https://data.alpaca.markets/v1beta1/news 50\n",
      "https://data.alpaca.markets/v1beta1/news 50\n",
      "https://data.alpaca.markets/v1beta1/news 50\n",
      "https://data.alpaca.markets/v1beta1/news 50\n",
      "https://data.alpaca.markets/v1beta1/news 50\n",
      "https://data.alpaca.markets/v1beta1/news 50\n",
      "https://data.alpaca.markets/v1beta1/news 50\n",
      "https://data.alpaca.markets/v1beta1/news 50\n",
      "https://data.alpaca.markets/v1beta1/news 50\n",
      "https://data.alpaca.markets/v1beta1/news 50\n",
      "https://data.alpaca.markets/v1beta1/news 50\n"
     ]
    },
    {
     "name": "stderr",
     "output_type": "stream",
     "text": [
      " 56%|█████▌    | 84/150 [05:24<04:19,  3.94s/it]"
     ]
    },
    {
     "name": "stdout",
     "output_type": "stream",
     "text": [
      "https://data.alpaca.markets/v1beta1/news 39\n",
      "error2\n",
      "Number of news articles: 689\n",
      "Fetching news for date: 2019-09-18\n",
      "start and end news collection 2019-09-11 2019-09-17\n",
      "length of ticker list 503\n",
      "MSFT,AAPL,NVDA,GOOG,GOOGL,AMZN,META,BRK-B,LLY,AVGO,JPM,TSLA,V,WMT,XOM,UNH,MA,PG,COST,JNJ,ORCL,MRK,HD,BAC,CVX,NFLX,ABBV,AMD,KO,CRM,PEP,QCOM,TMO,ADBE,WFC,LIN,DHR,TMUS,ACN,CSCO,MCD,DIS,GE,AMAT,TXN,ABT,AXP,CAT,INTU,VZ,AMGN,PFE,MS,NEE,IBM,PM,NOW,CMCSA,BX,GS,ISRG,MU,UNP,RTX,NKE,COP,SPGI,ETN,UBER,SCHW,INTC,HON,BKNG,SYK,LRCX,T,LOW,C,ELV,PGR,UPS,VRTX,BLK,TJX,ADI,LMT,BSX,REGN,MDT,CB,BA,KLAC,DE,PANW,MMC,ADP,PLD,ANET,CI,ABNB,MDLZ,SNPS,SBUX,FI,AMT,CMG,SO,WM,BMY,HCA,GD,GILD,APH,CDNS,DUK,ICE,MO,ZTS,CME,SHW,CL,TT,TDG,MCO,FCX,MCK,EQIX,CEG,ITW,NXPI,EOG,CVS,CTAS,NOC,PH,MAR,TGT,ECL,BDX,SLB,CSX,EMR,PYPL,MRNA,USB,MPC,PNC,AON,FDX,MSI,PSX,WELL,CARR,RSG,APD,ROP,ORLY,PCAR,SPG,MNST,MMM,AJG,OXY,VLO,EW,MCHP,COF,CPRT,AIG,SMCI,MET,TFC,NSC,HLT,DXCM,GM,AFL,JCI,WMB,TRV,GEV,NEM,F,PCG,SRE,AZO,PSA,ROST,DHI,GWW,DLR,OKE,AEP,FTNT,HES,KDP,TEL,ADSK,STZ,O,URI,EL,PAYX,KMB,D,BK,A,AMP,COR,KHC,ALL,FIS,LEN,PRU,IDXX,CCI,LHX,KMI,HUM,IQV,PWR,NUE,DOW,AME,HSY,CNC,OTIS,CHTR,MSCI,CMI,ACGL,YUM,CTVA,GIS,KR,IR,RCL,LULU,FAST,ODFL,PEG,KVUE,EXC,MPWR,GEHC,SYY,EA,VRSK,NDAQ,MLM,VST,CSGP,XYL,HWM,FANG,VMC,FICO,IT,CTSH,DD,DAL,LVS,ED,BKR,LYB,HPQ,HAL,DG,BIIB,MTD,GRMN,EXR,RMD,ON,GLW,CDW,DFS,PPG,DVN,TSCO,ROK,HIG,WAB,ADM,XEL,EFX,FSLR,VICI,ANSS,EIX,AVB,EBAY,CBRE,FTV,DECK,TTWO,TROW,GPN,RJF,CHD,WTW,BRO,WEC,FITB,TRGP,DOV,VLTO,DLTR,KEYS,MTB,AWK,EQR,IFF,WDC,WST,PHM,ZBH,HPE,NTAP,BR,IRM,CAH,DTE,ETR,NVR,STT,STE,TER,APTV,FE,ROL,LYV,HUBB,WY,PTC,BF-B,AXON,BALL,TSN,PPL,INVH,STLD,TYL,BLDR,K,ARE,LDOS,WRB,ES,GPC,SBAC,CTRA,WAT,HBAN,CCL,STX,MOH,MKC,PFG,ALGN,HRL,VTR,CBOE,TDY,AEE,WBD,CNP,COO,CPAY,OMC,CINF,ULTA,CMS,AVY,NRG,EQT,DRI,J,DPZ,RF,SYF,BAX,ESS,HOLX,VRSN,NTRS,ENPH,EG,UAL,ATO,ILMN,TXT,LH,ZBRA,CE,EXPD,FDS,L,PKG,CLX,IEX,JBHT,CFG,LUV,MAA,IP,DGX,GEN,BBY,NWS,NWSA,MAS,FOX,FOXA,ALB,AES,SWKS,BG,UDR,EXPE,CAG,JBL,MRO,AMCR,AKAM,SNA,CF,WRK,RVTY,POOL,TRMB,WBA,PNR,KEY,NDSN,CPB,DOC,SWK,HST,INCY,LW,LNT,TECH,PODD,NI,MGM,KIM,AOS,VTRS,JKHY,EVRG,BEN,DVA,IPG,UHS,EMN,SJM,LKQ,TAP,JNPR,CRL,CPT,REG,KMX,APA,RL,BBWI,ALLE,WYNN,BXP,EPAM,SOLV,CHRW,HII,FFIV,MOS,CTLT,PAYC,TFX,TPR,QRVO,HSIC,AAL,GNRC,DAY,AIZ,PNW,HAS,PARA,MKTX,FRT,BIO,BWA,MTCH,FMC,GL,MHK,CZR,ETSY,IVZ,RHI,NCLH,CMA\n",
      "https://data.alpaca.markets/v1beta1/news 50\n",
      "https://data.alpaca.markets/v1beta1/news 50\n",
      "https://data.alpaca.markets/v1beta1/news 50\n",
      "https://data.alpaca.markets/v1beta1/news 50\n",
      "https://data.alpaca.markets/v1beta1/news 50\n",
      "https://data.alpaca.markets/v1beta1/news 50\n",
      "https://data.alpaca.markets/v1beta1/news 50\n",
      "https://data.alpaca.markets/v1beta1/news 50\n",
      "https://data.alpaca.markets/v1beta1/news 50\n",
      "https://data.alpaca.markets/v1beta1/news 50\n"
     ]
    },
    {
     "name": "stderr",
     "output_type": "stream",
     "text": [
      " 57%|█████▋    | 85/150 [05:28<04:10,  3.85s/it]"
     ]
    },
    {
     "name": "stdout",
     "output_type": "stream",
     "text": [
      "https://data.alpaca.markets/v1beta1/news 36\n",
      "error2\n",
      "Number of news articles: 536\n",
      "Fetching news for date: 2019-10-09\n",
      "start and end news collection 2019-10-02 2019-10-08\n",
      "length of ticker list 503\n",
      "MSFT,AAPL,NVDA,GOOG,GOOGL,AMZN,META,BRK-B,LLY,AVGO,JPM,TSLA,V,WMT,XOM,UNH,MA,PG,COST,JNJ,ORCL,MRK,HD,BAC,CVX,NFLX,ABBV,AMD,KO,CRM,PEP,QCOM,TMO,ADBE,WFC,LIN,DHR,TMUS,ACN,CSCO,MCD,DIS,GE,AMAT,TXN,ABT,AXP,CAT,INTU,VZ,AMGN,PFE,MS,NEE,IBM,PM,NOW,CMCSA,BX,GS,ISRG,MU,UNP,RTX,NKE,COP,SPGI,ETN,UBER,SCHW,INTC,HON,BKNG,SYK,LRCX,T,LOW,C,ELV,PGR,UPS,VRTX,BLK,TJX,ADI,LMT,BSX,REGN,MDT,CB,BA,KLAC,DE,PANW,MMC,ADP,PLD,ANET,CI,ABNB,MDLZ,SNPS,SBUX,FI,AMT,CMG,SO,WM,BMY,HCA,GD,GILD,APH,CDNS,DUK,ICE,MO,ZTS,CME,SHW,CL,TT,TDG,MCO,FCX,MCK,EQIX,CEG,ITW,NXPI,EOG,CVS,CTAS,NOC,PH,MAR,TGT,ECL,BDX,SLB,CSX,EMR,PYPL,MRNA,USB,MPC,PNC,AON,FDX,MSI,PSX,WELL,CARR,RSG,APD,ROP,ORLY,PCAR,SPG,MNST,MMM,AJG,OXY,VLO,EW,MCHP,COF,CPRT,AIG,SMCI,MET,TFC,NSC,HLT,DXCM,GM,AFL,JCI,WMB,TRV,GEV,NEM,F,PCG,SRE,AZO,PSA,ROST,DHI,GWW,DLR,OKE,AEP,FTNT,HES,KDP,TEL,ADSK,STZ,O,URI,EL,PAYX,KMB,D,BK,A,AMP,COR,KHC,ALL,FIS,LEN,PRU,IDXX,CCI,LHX,KMI,HUM,IQV,PWR,NUE,DOW,AME,HSY,CNC,OTIS,CHTR,MSCI,CMI,ACGL,YUM,CTVA,GIS,KR,IR,RCL,LULU,FAST,ODFL,PEG,KVUE,EXC,MPWR,GEHC,SYY,EA,VRSK,NDAQ,MLM,VST,CSGP,XYL,HWM,FANG,VMC,FICO,IT,CTSH,DD,DAL,LVS,ED,BKR,LYB,HPQ,HAL,DG,BIIB,MTD,GRMN,EXR,RMD,ON,GLW,CDW,DFS,PPG,DVN,TSCO,ROK,HIG,WAB,ADM,XEL,EFX,FSLR,VICI,ANSS,EIX,AVB,EBAY,CBRE,FTV,DECK,TTWO,TROW,GPN,RJF,CHD,WTW,BRO,WEC,FITB,TRGP,DOV,VLTO,DLTR,KEYS,MTB,AWK,EQR,IFF,WDC,WST,PHM,ZBH,HPE,NTAP,BR,IRM,CAH,DTE,ETR,NVR,STT,STE,TER,APTV,FE,ROL,LYV,HUBB,WY,PTC,BF-B,AXON,BALL,TSN,PPL,INVH,STLD,TYL,BLDR,K,ARE,LDOS,WRB,ES,GPC,SBAC,CTRA,WAT,HBAN,CCL,STX,MOH,MKC,PFG,ALGN,HRL,VTR,CBOE,TDY,AEE,WBD,CNP,COO,CPAY,OMC,CINF,ULTA,CMS,AVY,NRG,EQT,DRI,J,DPZ,RF,SYF,BAX,ESS,HOLX,VRSN,NTRS,ENPH,EG,UAL,ATO,ILMN,TXT,LH,ZBRA,CE,EXPD,FDS,L,PKG,CLX,IEX,JBHT,CFG,LUV,MAA,IP,DGX,GEN,BBY,NWS,NWSA,MAS,FOX,FOXA,ALB,AES,SWKS,BG,UDR,EXPE,CAG,JBL,MRO,AMCR,AKAM,SNA,CF,WRK,RVTY,POOL,TRMB,WBA,PNR,KEY,NDSN,CPB,DOC,SWK,HST,INCY,LW,LNT,TECH,PODD,NI,MGM,KIM,AOS,VTRS,JKHY,EVRG,BEN,DVA,IPG,UHS,EMN,SJM,LKQ,TAP,JNPR,CRL,CPT,REG,KMX,APA,RL,BBWI,ALLE,WYNN,BXP,EPAM,SOLV,CHRW,HII,FFIV,MOS,CTLT,PAYC,TFX,TPR,QRVO,HSIC,AAL,GNRC,DAY,AIZ,PNW,HAS,PARA,MKTX,FRT,BIO,BWA,MTCH,FMC,GL,MHK,CZR,ETSY,IVZ,RHI,NCLH,CMA\n",
      "https://data.alpaca.markets/v1beta1/news 50\n",
      "https://data.alpaca.markets/v1beta1/news 50\n",
      "https://data.alpaca.markets/v1beta1/news 50\n",
      "https://data.alpaca.markets/v1beta1/news 50\n",
      "https://data.alpaca.markets/v1beta1/news 50\n",
      "https://data.alpaca.markets/v1beta1/news 50\n",
      "https://data.alpaca.markets/v1beta1/news 50\n",
      "https://data.alpaca.markets/v1beta1/news 50\n",
      "https://data.alpaca.markets/v1beta1/news 50\n",
      "https://data.alpaca.markets/v1beta1/news 50\n",
      "https://data.alpaca.markets/v1beta1/news 50\n",
      "https://data.alpaca.markets/v1beta1/news 50\n"
     ]
    },
    {
     "name": "stderr",
     "output_type": "stream",
     "text": [
      " 57%|█████▋    | 86/150 [05:32<04:14,  3.97s/it]"
     ]
    },
    {
     "name": "stdout",
     "output_type": "stream",
     "text": [
      "https://data.alpaca.markets/v1beta1/news 48\n",
      "error2\n",
      "Number of news articles: 648\n",
      "Fetching news for date: 2019-10-11\n",
      "start and end news collection 2019-10-04 2019-10-10\n",
      "length of ticker list 503\n",
      "MSFT,AAPL,NVDA,GOOG,GOOGL,AMZN,META,BRK-B,LLY,AVGO,JPM,TSLA,V,WMT,XOM,UNH,MA,PG,COST,JNJ,ORCL,MRK,HD,BAC,CVX,NFLX,ABBV,AMD,KO,CRM,PEP,QCOM,TMO,ADBE,WFC,LIN,DHR,TMUS,ACN,CSCO,MCD,DIS,GE,AMAT,TXN,ABT,AXP,CAT,INTU,VZ,AMGN,PFE,MS,NEE,IBM,PM,NOW,CMCSA,BX,GS,ISRG,MU,UNP,RTX,NKE,COP,SPGI,ETN,UBER,SCHW,INTC,HON,BKNG,SYK,LRCX,T,LOW,C,ELV,PGR,UPS,VRTX,BLK,TJX,ADI,LMT,BSX,REGN,MDT,CB,BA,KLAC,DE,PANW,MMC,ADP,PLD,ANET,CI,ABNB,MDLZ,SNPS,SBUX,FI,AMT,CMG,SO,WM,BMY,HCA,GD,GILD,APH,CDNS,DUK,ICE,MO,ZTS,CME,SHW,CL,TT,TDG,MCO,FCX,MCK,EQIX,CEG,ITW,NXPI,EOG,CVS,CTAS,NOC,PH,MAR,TGT,ECL,BDX,SLB,CSX,EMR,PYPL,MRNA,USB,MPC,PNC,AON,FDX,MSI,PSX,WELL,CARR,RSG,APD,ROP,ORLY,PCAR,SPG,MNST,MMM,AJG,OXY,VLO,EW,MCHP,COF,CPRT,AIG,SMCI,MET,TFC,NSC,HLT,DXCM,GM,AFL,JCI,WMB,TRV,GEV,NEM,F,PCG,SRE,AZO,PSA,ROST,DHI,GWW,DLR,OKE,AEP,FTNT,HES,KDP,TEL,ADSK,STZ,O,URI,EL,PAYX,KMB,D,BK,A,AMP,COR,KHC,ALL,FIS,LEN,PRU,IDXX,CCI,LHX,KMI,HUM,IQV,PWR,NUE,DOW,AME,HSY,CNC,OTIS,CHTR,MSCI,CMI,ACGL,YUM,CTVA,GIS,KR,IR,RCL,LULU,FAST,ODFL,PEG,KVUE,EXC,MPWR,GEHC,SYY,EA,VRSK,NDAQ,MLM,VST,CSGP,XYL,HWM,FANG,VMC,FICO,IT,CTSH,DD,DAL,LVS,ED,BKR,LYB,HPQ,HAL,DG,BIIB,MTD,GRMN,EXR,RMD,ON,GLW,CDW,DFS,PPG,DVN,TSCO,ROK,HIG,WAB,ADM,XEL,EFX,FSLR,VICI,ANSS,EIX,AVB,EBAY,CBRE,FTV,DECK,TTWO,TROW,GPN,RJF,CHD,WTW,BRO,WEC,FITB,TRGP,DOV,VLTO,DLTR,KEYS,MTB,AWK,EQR,IFF,WDC,WST,PHM,ZBH,HPE,NTAP,BR,IRM,CAH,DTE,ETR,NVR,STT,STE,TER,APTV,FE,ROL,LYV,HUBB,WY,PTC,BF-B,AXON,BALL,TSN,PPL,INVH,STLD,TYL,BLDR,K,ARE,LDOS,WRB,ES,GPC,SBAC,CTRA,WAT,HBAN,CCL,STX,MOH,MKC,PFG,ALGN,HRL,VTR,CBOE,TDY,AEE,WBD,CNP,COO,CPAY,OMC,CINF,ULTA,CMS,AVY,NRG,EQT,DRI,J,DPZ,RF,SYF,BAX,ESS,HOLX,VRSN,NTRS,ENPH,EG,UAL,ATO,ILMN,TXT,LH,ZBRA,CE,EXPD,FDS,L,PKG,CLX,IEX,JBHT,CFG,LUV,MAA,IP,DGX,GEN,BBY,NWS,NWSA,MAS,FOX,FOXA,ALB,AES,SWKS,BG,UDR,EXPE,CAG,JBL,MRO,AMCR,AKAM,SNA,CF,WRK,RVTY,POOL,TRMB,WBA,PNR,KEY,NDSN,CPB,DOC,SWK,HST,INCY,LW,LNT,TECH,PODD,NI,MGM,KIM,AOS,VTRS,JKHY,EVRG,BEN,DVA,IPG,UHS,EMN,SJM,LKQ,TAP,JNPR,CRL,CPT,REG,KMX,APA,RL,BBWI,ALLE,WYNN,BXP,EPAM,SOLV,CHRW,HII,FFIV,MOS,CTLT,PAYC,TFX,TPR,QRVO,HSIC,AAL,GNRC,DAY,AIZ,PNW,HAS,PARA,MKTX,FRT,BIO,BWA,MTCH,FMC,GL,MHK,CZR,ETSY,IVZ,RHI,NCLH,CMA\n",
      "https://data.alpaca.markets/v1beta1/news 50\n",
      "https://data.alpaca.markets/v1beta1/news 50\n",
      "https://data.alpaca.markets/v1beta1/news 50\n",
      "https://data.alpaca.markets/v1beta1/news 50\n",
      "https://data.alpaca.markets/v1beta1/news 50\n",
      "https://data.alpaca.markets/v1beta1/news 50\n",
      "https://data.alpaca.markets/v1beta1/news 50\n",
      "https://data.alpaca.markets/v1beta1/news 50\n",
      "https://data.alpaca.markets/v1beta1/news 50\n",
      "https://data.alpaca.markets/v1beta1/news 50\n"
     ]
    },
    {
     "name": "stderr",
     "output_type": "stream",
     "text": [
      " 58%|█████▊    | 87/150 [05:36<04:04,  3.88s/it]"
     ]
    },
    {
     "name": "stdout",
     "output_type": "stream",
     "text": [
      "https://data.alpaca.markets/v1beta1/news 47\n",
      "error2\n",
      "Number of news articles: 547\n",
      "Fetching news for date: 2019-11-08\n",
      "start and end news collection 2019-11-01 2019-11-07\n",
      "length of ticker list 503\n",
      "MSFT,AAPL,NVDA,GOOG,GOOGL,AMZN,META,BRK-B,LLY,AVGO,JPM,TSLA,V,WMT,XOM,UNH,MA,PG,COST,JNJ,ORCL,MRK,HD,BAC,CVX,NFLX,ABBV,AMD,KO,CRM,PEP,QCOM,TMO,ADBE,WFC,LIN,DHR,TMUS,ACN,CSCO,MCD,DIS,GE,AMAT,TXN,ABT,AXP,CAT,INTU,VZ,AMGN,PFE,MS,NEE,IBM,PM,NOW,CMCSA,BX,GS,ISRG,MU,UNP,RTX,NKE,COP,SPGI,ETN,UBER,SCHW,INTC,HON,BKNG,SYK,LRCX,T,LOW,C,ELV,PGR,UPS,VRTX,BLK,TJX,ADI,LMT,BSX,REGN,MDT,CB,BA,KLAC,DE,PANW,MMC,ADP,PLD,ANET,CI,ABNB,MDLZ,SNPS,SBUX,FI,AMT,CMG,SO,WM,BMY,HCA,GD,GILD,APH,CDNS,DUK,ICE,MO,ZTS,CME,SHW,CL,TT,TDG,MCO,FCX,MCK,EQIX,CEG,ITW,NXPI,EOG,CVS,CTAS,NOC,PH,MAR,TGT,ECL,BDX,SLB,CSX,EMR,PYPL,MRNA,USB,MPC,PNC,AON,FDX,MSI,PSX,WELL,CARR,RSG,APD,ROP,ORLY,PCAR,SPG,MNST,MMM,AJG,OXY,VLO,EW,MCHP,COF,CPRT,AIG,SMCI,MET,TFC,NSC,HLT,DXCM,GM,AFL,JCI,WMB,TRV,GEV,NEM,F,PCG,SRE,AZO,PSA,ROST,DHI,GWW,DLR,OKE,AEP,FTNT,HES,KDP,TEL,ADSK,STZ,O,URI,EL,PAYX,KMB,D,BK,A,AMP,COR,KHC,ALL,FIS,LEN,PRU,IDXX,CCI,LHX,KMI,HUM,IQV,PWR,NUE,DOW,AME,HSY,CNC,OTIS,CHTR,MSCI,CMI,ACGL,YUM,CTVA,GIS,KR,IR,RCL,LULU,FAST,ODFL,PEG,KVUE,EXC,MPWR,GEHC,SYY,EA,VRSK,NDAQ,MLM,VST,CSGP,XYL,HWM,FANG,VMC,FICO,IT,CTSH,DD,DAL,LVS,ED,BKR,LYB,HPQ,HAL,DG,BIIB,MTD,GRMN,EXR,RMD,ON,GLW,CDW,DFS,PPG,DVN,TSCO,ROK,HIG,WAB,ADM,XEL,EFX,FSLR,VICI,ANSS,EIX,AVB,EBAY,CBRE,FTV,DECK,TTWO,TROW,GPN,RJF,CHD,WTW,BRO,WEC,FITB,TRGP,DOV,VLTO,DLTR,KEYS,MTB,AWK,EQR,IFF,WDC,WST,PHM,ZBH,HPE,NTAP,BR,IRM,CAH,DTE,ETR,NVR,STT,STE,TER,APTV,FE,ROL,LYV,HUBB,WY,PTC,BF-B,AXON,BALL,TSN,PPL,INVH,STLD,TYL,BLDR,K,ARE,LDOS,WRB,ES,GPC,SBAC,CTRA,WAT,HBAN,CCL,STX,MOH,MKC,PFG,ALGN,HRL,VTR,CBOE,TDY,AEE,WBD,CNP,COO,CPAY,OMC,CINF,ULTA,CMS,AVY,NRG,EQT,DRI,J,DPZ,RF,SYF,BAX,ESS,HOLX,VRSN,NTRS,ENPH,EG,UAL,ATO,ILMN,TXT,LH,ZBRA,CE,EXPD,FDS,L,PKG,CLX,IEX,JBHT,CFG,LUV,MAA,IP,DGX,GEN,BBY,NWS,NWSA,MAS,FOX,FOXA,ALB,AES,SWKS,BG,UDR,EXPE,CAG,JBL,MRO,AMCR,AKAM,SNA,CF,WRK,RVTY,POOL,TRMB,WBA,PNR,KEY,NDSN,CPB,DOC,SWK,HST,INCY,LW,LNT,TECH,PODD,NI,MGM,KIM,AOS,VTRS,JKHY,EVRG,BEN,DVA,IPG,UHS,EMN,SJM,LKQ,TAP,JNPR,CRL,CPT,REG,KMX,APA,RL,BBWI,ALLE,WYNN,BXP,EPAM,SOLV,CHRW,HII,FFIV,MOS,CTLT,PAYC,TFX,TPR,QRVO,HSIC,AAL,GNRC,DAY,AIZ,PNW,HAS,PARA,MKTX,FRT,BIO,BWA,MTCH,FMC,GL,MHK,CZR,ETSY,IVZ,RHI,NCLH,CMA\n",
      "https://data.alpaca.markets/v1beta1/news 50\n",
      "https://data.alpaca.markets/v1beta1/news 50\n",
      "https://data.alpaca.markets/v1beta1/news 50\n",
      "https://data.alpaca.markets/v1beta1/news 50\n",
      "https://data.alpaca.markets/v1beta1/news 50\n",
      "https://data.alpaca.markets/v1beta1/news 50\n",
      "https://data.alpaca.markets/v1beta1/news 50\n",
      "https://data.alpaca.markets/v1beta1/news 50\n",
      "https://data.alpaca.markets/v1beta1/news 50\n",
      "https://data.alpaca.markets/v1beta1/news 50\n",
      "https://data.alpaca.markets/v1beta1/news 50\n",
      "https://data.alpaca.markets/v1beta1/news 50\n",
      "https://data.alpaca.markets/v1beta1/news 50\n",
      "https://data.alpaca.markets/v1beta1/news 50\n"
     ]
    },
    {
     "name": "stderr",
     "output_type": "stream",
     "text": [
      " 59%|█████▊    | 88/150 [05:42<04:37,  4.47s/it]"
     ]
    },
    {
     "name": "stdout",
     "output_type": "stream",
     "text": [
      "https://data.alpaca.markets/v1beta1/news 17\n",
      "error2\n",
      "Number of news articles: 717\n",
      "Fetching news for date: 2020-01-03\n",
      "start and end news collection 2019-12-27 2020-01-02\n",
      "length of ticker list 503\n",
      "MSFT,AAPL,NVDA,GOOG,GOOGL,AMZN,META,BRK-B,LLY,AVGO,JPM,TSLA,V,WMT,XOM,UNH,MA,PG,COST,JNJ,ORCL,MRK,HD,BAC,CVX,NFLX,ABBV,AMD,KO,CRM,PEP,QCOM,TMO,ADBE,WFC,LIN,DHR,TMUS,ACN,CSCO,MCD,DIS,GE,AMAT,TXN,ABT,AXP,CAT,INTU,VZ,AMGN,PFE,MS,NEE,IBM,PM,NOW,CMCSA,BX,GS,ISRG,MU,UNP,RTX,NKE,COP,SPGI,ETN,UBER,SCHW,INTC,HON,BKNG,SYK,LRCX,T,LOW,C,ELV,PGR,UPS,VRTX,BLK,TJX,ADI,LMT,BSX,REGN,MDT,CB,BA,KLAC,DE,PANW,MMC,ADP,PLD,ANET,CI,ABNB,MDLZ,SNPS,SBUX,FI,AMT,CMG,SO,WM,BMY,HCA,GD,GILD,APH,CDNS,DUK,ICE,MO,ZTS,CME,SHW,CL,TT,TDG,MCO,FCX,MCK,EQIX,CEG,ITW,NXPI,EOG,CVS,CTAS,NOC,PH,MAR,TGT,ECL,BDX,SLB,CSX,EMR,PYPL,MRNA,USB,MPC,PNC,AON,FDX,MSI,PSX,WELL,CARR,RSG,APD,ROP,ORLY,PCAR,SPG,MNST,MMM,AJG,OXY,VLO,EW,MCHP,COF,CPRT,AIG,SMCI,MET,TFC,NSC,HLT,DXCM,GM,AFL,JCI,WMB,TRV,GEV,NEM,F,PCG,SRE,AZO,PSA,ROST,DHI,GWW,DLR,OKE,AEP,FTNT,HES,KDP,TEL,ADSK,STZ,O,URI,EL,PAYX,KMB,D,BK,A,AMP,COR,KHC,ALL,FIS,LEN,PRU,IDXX,CCI,LHX,KMI,HUM,IQV,PWR,NUE,DOW,AME,HSY,CNC,OTIS,CHTR,MSCI,CMI,ACGL,YUM,CTVA,GIS,KR,IR,RCL,LULU,FAST,ODFL,PEG,KVUE,EXC,MPWR,GEHC,SYY,EA,VRSK,NDAQ,MLM,VST,CSGP,XYL,HWM,FANG,VMC,FICO,IT,CTSH,DD,DAL,LVS,ED,BKR,LYB,HPQ,HAL,DG,BIIB,MTD,GRMN,EXR,RMD,ON,GLW,CDW,DFS,PPG,DVN,TSCO,ROK,HIG,WAB,ADM,XEL,EFX,FSLR,VICI,ANSS,EIX,AVB,EBAY,CBRE,FTV,DECK,TTWO,TROW,GPN,RJF,CHD,WTW,BRO,WEC,FITB,TRGP,DOV,VLTO,DLTR,KEYS,MTB,AWK,EQR,IFF,WDC,WST,PHM,ZBH,HPE,NTAP,BR,IRM,CAH,DTE,ETR,NVR,STT,STE,TER,APTV,FE,ROL,LYV,HUBB,WY,PTC,BF-B,AXON,BALL,TSN,PPL,INVH,STLD,TYL,BLDR,K,ARE,LDOS,WRB,ES,GPC,SBAC,CTRA,WAT,HBAN,CCL,STX,MOH,MKC,PFG,ALGN,HRL,VTR,CBOE,TDY,AEE,WBD,CNP,COO,CPAY,OMC,CINF,ULTA,CMS,AVY,NRG,EQT,DRI,J,DPZ,RF,SYF,BAX,ESS,HOLX,VRSN,NTRS,ENPH,EG,UAL,ATO,ILMN,TXT,LH,ZBRA,CE,EXPD,FDS,L,PKG,CLX,IEX,JBHT,CFG,LUV,MAA,IP,DGX,GEN,BBY,NWS,NWSA,MAS,FOX,FOXA,ALB,AES,SWKS,BG,UDR,EXPE,CAG,JBL,MRO,AMCR,AKAM,SNA,CF,WRK,RVTY,POOL,TRMB,WBA,PNR,KEY,NDSN,CPB,DOC,SWK,HST,INCY,LW,LNT,TECH,PODD,NI,MGM,KIM,AOS,VTRS,JKHY,EVRG,BEN,DVA,IPG,UHS,EMN,SJM,LKQ,TAP,JNPR,CRL,CPT,REG,KMX,APA,RL,BBWI,ALLE,WYNN,BXP,EPAM,SOLV,CHRW,HII,FFIV,MOS,CTLT,PAYC,TFX,TPR,QRVO,HSIC,AAL,GNRC,DAY,AIZ,PNW,HAS,PARA,MKTX,FRT,BIO,BWA,MTCH,FMC,GL,MHK,CZR,ETSY,IVZ,RHI,NCLH,CMA\n",
      "https://data.alpaca.markets/v1beta1/news 50\n",
      "https://data.alpaca.markets/v1beta1/news 50\n",
      "https://data.alpaca.markets/v1beta1/news 50\n"
     ]
    },
    {
     "name": "stderr",
     "output_type": "stream",
     "text": [
      " 59%|█████▉    | 89/150 [05:43<03:41,  3.63s/it]"
     ]
    },
    {
     "name": "stdout",
     "output_type": "stream",
     "text": [
      "https://data.alpaca.markets/v1beta1/news 12\n",
      "error2\n",
      "Number of news articles: 162\n",
      "Fetching news for date: 2020-02-14\n",
      "start and end news collection 2020-02-07 2020-02-13\n",
      "length of ticker list 503\n",
      "MSFT,AAPL,NVDA,GOOG,GOOGL,AMZN,META,BRK-B,LLY,AVGO,JPM,TSLA,V,WMT,XOM,UNH,MA,PG,COST,JNJ,ORCL,MRK,HD,BAC,CVX,NFLX,ABBV,AMD,KO,CRM,PEP,QCOM,TMO,ADBE,WFC,LIN,DHR,TMUS,ACN,CSCO,MCD,DIS,GE,AMAT,TXN,ABT,AXP,CAT,INTU,VZ,AMGN,PFE,MS,NEE,IBM,PM,NOW,CMCSA,BX,GS,ISRG,MU,UNP,RTX,NKE,COP,SPGI,ETN,UBER,SCHW,INTC,HON,BKNG,SYK,LRCX,T,LOW,C,ELV,PGR,UPS,VRTX,BLK,TJX,ADI,LMT,BSX,REGN,MDT,CB,BA,KLAC,DE,PANW,MMC,ADP,PLD,ANET,CI,ABNB,MDLZ,SNPS,SBUX,FI,AMT,CMG,SO,WM,BMY,HCA,GD,GILD,APH,CDNS,DUK,ICE,MO,ZTS,CME,SHW,CL,TT,TDG,MCO,FCX,MCK,EQIX,CEG,ITW,NXPI,EOG,CVS,CTAS,NOC,PH,MAR,TGT,ECL,BDX,SLB,CSX,EMR,PYPL,MRNA,USB,MPC,PNC,AON,FDX,MSI,PSX,WELL,CARR,RSG,APD,ROP,ORLY,PCAR,SPG,MNST,MMM,AJG,OXY,VLO,EW,MCHP,COF,CPRT,AIG,SMCI,MET,TFC,NSC,HLT,DXCM,GM,AFL,JCI,WMB,TRV,GEV,NEM,F,PCG,SRE,AZO,PSA,ROST,DHI,GWW,DLR,OKE,AEP,FTNT,HES,KDP,TEL,ADSK,STZ,O,URI,EL,PAYX,KMB,D,BK,A,AMP,COR,KHC,ALL,FIS,LEN,PRU,IDXX,CCI,LHX,KMI,HUM,IQV,PWR,NUE,DOW,AME,HSY,CNC,OTIS,CHTR,MSCI,CMI,ACGL,YUM,CTVA,GIS,KR,IR,RCL,LULU,FAST,ODFL,PEG,KVUE,EXC,MPWR,GEHC,SYY,EA,VRSK,NDAQ,MLM,VST,CSGP,XYL,HWM,FANG,VMC,FICO,IT,CTSH,DD,DAL,LVS,ED,BKR,LYB,HPQ,HAL,DG,BIIB,MTD,GRMN,EXR,RMD,ON,GLW,CDW,DFS,PPG,DVN,TSCO,ROK,HIG,WAB,ADM,XEL,EFX,FSLR,VICI,ANSS,EIX,AVB,EBAY,CBRE,FTV,DECK,TTWO,TROW,GPN,RJF,CHD,WTW,BRO,WEC,FITB,TRGP,DOV,VLTO,DLTR,KEYS,MTB,AWK,EQR,IFF,WDC,WST,PHM,ZBH,HPE,NTAP,BR,IRM,CAH,DTE,ETR,NVR,STT,STE,TER,APTV,FE,ROL,LYV,HUBB,WY,PTC,BF-B,AXON,BALL,TSN,PPL,INVH,STLD,TYL,BLDR,K,ARE,LDOS,WRB,ES,GPC,SBAC,CTRA,WAT,HBAN,CCL,STX,MOH,MKC,PFG,ALGN,HRL,VTR,CBOE,TDY,AEE,WBD,CNP,COO,CPAY,OMC,CINF,ULTA,CMS,AVY,NRG,EQT,DRI,J,DPZ,RF,SYF,BAX,ESS,HOLX,VRSN,NTRS,ENPH,EG,UAL,ATO,ILMN,TXT,LH,ZBRA,CE,EXPD,FDS,L,PKG,CLX,IEX,JBHT,CFG,LUV,MAA,IP,DGX,GEN,BBY,NWS,NWSA,MAS,FOX,FOXA,ALB,AES,SWKS,BG,UDR,EXPE,CAG,JBL,MRO,AMCR,AKAM,SNA,CF,WRK,RVTY,POOL,TRMB,WBA,PNR,KEY,NDSN,CPB,DOC,SWK,HST,INCY,LW,LNT,TECH,PODD,NI,MGM,KIM,AOS,VTRS,JKHY,EVRG,BEN,DVA,IPG,UHS,EMN,SJM,LKQ,TAP,JNPR,CRL,CPT,REG,KMX,APA,RL,BBWI,ALLE,WYNN,BXP,EPAM,SOLV,CHRW,HII,FFIV,MOS,CTLT,PAYC,TFX,TPR,QRVO,HSIC,AAL,GNRC,DAY,AIZ,PNW,HAS,PARA,MKTX,FRT,BIO,BWA,MTCH,FMC,GL,MHK,CZR,ETSY,IVZ,RHI,NCLH,CMA\n",
      "https://data.alpaca.markets/v1beta1/news 50\n",
      "https://data.alpaca.markets/v1beta1/news 50\n",
      "https://data.alpaca.markets/v1beta1/news 50\n",
      "https://data.alpaca.markets/v1beta1/news 50\n",
      "https://data.alpaca.markets/v1beta1/news 50\n",
      "https://data.alpaca.markets/v1beta1/news 50\n",
      "https://data.alpaca.markets/v1beta1/news 50\n",
      "https://data.alpaca.markets/v1beta1/news 50\n",
      "https://data.alpaca.markets/v1beta1/news 50\n",
      "https://data.alpaca.markets/v1beta1/news 50\n",
      "https://data.alpaca.markets/v1beta1/news 50\n",
      "https://data.alpaca.markets/v1beta1/news 50\n"
     ]
    },
    {
     "name": "stderr",
     "output_type": "stream",
     "text": [
      " 60%|██████    | 90/150 [05:48<03:54,  3.91s/it]"
     ]
    },
    {
     "name": "stdout",
     "output_type": "stream",
     "text": [
      "https://data.alpaca.markets/v1beta1/news 31\n",
      "error2\n",
      "Number of news articles: 631\n",
      "Fetching news for date: 2020-02-21\n",
      "start and end news collection 2020-02-14 2020-02-20\n",
      "length of ticker list 503\n",
      "MSFT,AAPL,NVDA,GOOG,GOOGL,AMZN,META,BRK-B,LLY,AVGO,JPM,TSLA,V,WMT,XOM,UNH,MA,PG,COST,JNJ,ORCL,MRK,HD,BAC,CVX,NFLX,ABBV,AMD,KO,CRM,PEP,QCOM,TMO,ADBE,WFC,LIN,DHR,TMUS,ACN,CSCO,MCD,DIS,GE,AMAT,TXN,ABT,AXP,CAT,INTU,VZ,AMGN,PFE,MS,NEE,IBM,PM,NOW,CMCSA,BX,GS,ISRG,MU,UNP,RTX,NKE,COP,SPGI,ETN,UBER,SCHW,INTC,HON,BKNG,SYK,LRCX,T,LOW,C,ELV,PGR,UPS,VRTX,BLK,TJX,ADI,LMT,BSX,REGN,MDT,CB,BA,KLAC,DE,PANW,MMC,ADP,PLD,ANET,CI,ABNB,MDLZ,SNPS,SBUX,FI,AMT,CMG,SO,WM,BMY,HCA,GD,GILD,APH,CDNS,DUK,ICE,MO,ZTS,CME,SHW,CL,TT,TDG,MCO,FCX,MCK,EQIX,CEG,ITW,NXPI,EOG,CVS,CTAS,NOC,PH,MAR,TGT,ECL,BDX,SLB,CSX,EMR,PYPL,MRNA,USB,MPC,PNC,AON,FDX,MSI,PSX,WELL,CARR,RSG,APD,ROP,ORLY,PCAR,SPG,MNST,MMM,AJG,OXY,VLO,EW,MCHP,COF,CPRT,AIG,SMCI,MET,TFC,NSC,HLT,DXCM,GM,AFL,JCI,WMB,TRV,GEV,NEM,F,PCG,SRE,AZO,PSA,ROST,DHI,GWW,DLR,OKE,AEP,FTNT,HES,KDP,TEL,ADSK,STZ,O,URI,EL,PAYX,KMB,D,BK,A,AMP,COR,KHC,ALL,FIS,LEN,PRU,IDXX,CCI,LHX,KMI,HUM,IQV,PWR,NUE,DOW,AME,HSY,CNC,OTIS,CHTR,MSCI,CMI,ACGL,YUM,CTVA,GIS,KR,IR,RCL,LULU,FAST,ODFL,PEG,KVUE,EXC,MPWR,GEHC,SYY,EA,VRSK,NDAQ,MLM,VST,CSGP,XYL,HWM,FANG,VMC,FICO,IT,CTSH,DD,DAL,LVS,ED,BKR,LYB,HPQ,HAL,DG,BIIB,MTD,GRMN,EXR,RMD,ON,GLW,CDW,DFS,PPG,DVN,TSCO,ROK,HIG,WAB,ADM,XEL,EFX,FSLR,VICI,ANSS,EIX,AVB,EBAY,CBRE,FTV,DECK,TTWO,TROW,GPN,RJF,CHD,WTW,BRO,WEC,FITB,TRGP,DOV,VLTO,DLTR,KEYS,MTB,AWK,EQR,IFF,WDC,WST,PHM,ZBH,HPE,NTAP,BR,IRM,CAH,DTE,ETR,NVR,STT,STE,TER,APTV,FE,ROL,LYV,HUBB,WY,PTC,BF-B,AXON,BALL,TSN,PPL,INVH,STLD,TYL,BLDR,K,ARE,LDOS,WRB,ES,GPC,SBAC,CTRA,WAT,HBAN,CCL,STX,MOH,MKC,PFG,ALGN,HRL,VTR,CBOE,TDY,AEE,WBD,CNP,COO,CPAY,OMC,CINF,ULTA,CMS,AVY,NRG,EQT,DRI,J,DPZ,RF,SYF,BAX,ESS,HOLX,VRSN,NTRS,ENPH,EG,UAL,ATO,ILMN,TXT,LH,ZBRA,CE,EXPD,FDS,L,PKG,CLX,IEX,JBHT,CFG,LUV,MAA,IP,DGX,GEN,BBY,NWS,NWSA,MAS,FOX,FOXA,ALB,AES,SWKS,BG,UDR,EXPE,CAG,JBL,MRO,AMCR,AKAM,SNA,CF,WRK,RVTY,POOL,TRMB,WBA,PNR,KEY,NDSN,CPB,DOC,SWK,HST,INCY,LW,LNT,TECH,PODD,NI,MGM,KIM,AOS,VTRS,JKHY,EVRG,BEN,DVA,IPG,UHS,EMN,SJM,LKQ,TAP,JNPR,CRL,CPT,REG,KMX,APA,RL,BBWI,ALLE,WYNN,BXP,EPAM,SOLV,CHRW,HII,FFIV,MOS,CTLT,PAYC,TFX,TPR,QRVO,HSIC,AAL,GNRC,DAY,AIZ,PNW,HAS,PARA,MKTX,FRT,BIO,BWA,MTCH,FMC,GL,MHK,CZR,ETSY,IVZ,RHI,NCLH,CMA\n",
      "https://data.alpaca.markets/v1beta1/news 50\n",
      "https://data.alpaca.markets/v1beta1/news 50\n",
      "https://data.alpaca.markets/v1beta1/news 50\n",
      "https://data.alpaca.markets/v1beta1/news 50\n",
      "https://data.alpaca.markets/v1beta1/news 50\n",
      "https://data.alpaca.markets/v1beta1/news 50\n",
      "https://data.alpaca.markets/v1beta1/news 50\n",
      "https://data.alpaca.markets/v1beta1/news 50\n",
      "https://data.alpaca.markets/v1beta1/news 50\n",
      "https://data.alpaca.markets/v1beta1/news 50\n",
      "https://data.alpaca.markets/v1beta1/news 50\n"
     ]
    },
    {
     "name": "stderr",
     "output_type": "stream",
     "text": [
      " 61%|██████    | 91/150 [05:52<03:52,  3.95s/it]"
     ]
    },
    {
     "name": "stdout",
     "output_type": "stream",
     "text": [
      "https://data.alpaca.markets/v1beta1/news 2\n",
      "error2\n",
      "Number of news articles: 552\n",
      "Fetching news for date: 2020-04-13\n",
      "start and end news collection 2020-04-06 2020-04-12\n",
      "length of ticker list 503\n",
      "MSFT,AAPL,NVDA,GOOG,GOOGL,AMZN,META,BRK-B,LLY,AVGO,JPM,TSLA,V,WMT,XOM,UNH,MA,PG,COST,JNJ,ORCL,MRK,HD,BAC,CVX,NFLX,ABBV,AMD,KO,CRM,PEP,QCOM,TMO,ADBE,WFC,LIN,DHR,TMUS,ACN,CSCO,MCD,DIS,GE,AMAT,TXN,ABT,AXP,CAT,INTU,VZ,AMGN,PFE,MS,NEE,IBM,PM,NOW,CMCSA,BX,GS,ISRG,MU,UNP,RTX,NKE,COP,SPGI,ETN,UBER,SCHW,INTC,HON,BKNG,SYK,LRCX,T,LOW,C,ELV,PGR,UPS,VRTX,BLK,TJX,ADI,LMT,BSX,REGN,MDT,CB,BA,KLAC,DE,PANW,MMC,ADP,PLD,ANET,CI,ABNB,MDLZ,SNPS,SBUX,FI,AMT,CMG,SO,WM,BMY,HCA,GD,GILD,APH,CDNS,DUK,ICE,MO,ZTS,CME,SHW,CL,TT,TDG,MCO,FCX,MCK,EQIX,CEG,ITW,NXPI,EOG,CVS,CTAS,NOC,PH,MAR,TGT,ECL,BDX,SLB,CSX,EMR,PYPL,MRNA,USB,MPC,PNC,AON,FDX,MSI,PSX,WELL,CARR,RSG,APD,ROP,ORLY,PCAR,SPG,MNST,MMM,AJG,OXY,VLO,EW,MCHP,COF,CPRT,AIG,SMCI,MET,TFC,NSC,HLT,DXCM,GM,AFL,JCI,WMB,TRV,GEV,NEM,F,PCG,SRE,AZO,PSA,ROST,DHI,GWW,DLR,OKE,AEP,FTNT,HES,KDP,TEL,ADSK,STZ,O,URI,EL,PAYX,KMB,D,BK,A,AMP,COR,KHC,ALL,FIS,LEN,PRU,IDXX,CCI,LHX,KMI,HUM,IQV,PWR,NUE,DOW,AME,HSY,CNC,OTIS,CHTR,MSCI,CMI,ACGL,YUM,CTVA,GIS,KR,IR,RCL,LULU,FAST,ODFL,PEG,KVUE,EXC,MPWR,GEHC,SYY,EA,VRSK,NDAQ,MLM,VST,CSGP,XYL,HWM,FANG,VMC,FICO,IT,CTSH,DD,DAL,LVS,ED,BKR,LYB,HPQ,HAL,DG,BIIB,MTD,GRMN,EXR,RMD,ON,GLW,CDW,DFS,PPG,DVN,TSCO,ROK,HIG,WAB,ADM,XEL,EFX,FSLR,VICI,ANSS,EIX,AVB,EBAY,CBRE,FTV,DECK,TTWO,TROW,GPN,RJF,CHD,WTW,BRO,WEC,FITB,TRGP,DOV,VLTO,DLTR,KEYS,MTB,AWK,EQR,IFF,WDC,WST,PHM,ZBH,HPE,NTAP,BR,IRM,CAH,DTE,ETR,NVR,STT,STE,TER,APTV,FE,ROL,LYV,HUBB,WY,PTC,BF-B,AXON,BALL,TSN,PPL,INVH,STLD,TYL,BLDR,K,ARE,LDOS,WRB,ES,GPC,SBAC,CTRA,WAT,HBAN,CCL,STX,MOH,MKC,PFG,ALGN,HRL,VTR,CBOE,TDY,AEE,WBD,CNP,COO,CPAY,OMC,CINF,ULTA,CMS,AVY,NRG,EQT,DRI,J,DPZ,RF,SYF,BAX,ESS,HOLX,VRSN,NTRS,ENPH,EG,UAL,ATO,ILMN,TXT,LH,ZBRA,CE,EXPD,FDS,L,PKG,CLX,IEX,JBHT,CFG,LUV,MAA,IP,DGX,GEN,BBY,NWS,NWSA,MAS,FOX,FOXA,ALB,AES,SWKS,BG,UDR,EXPE,CAG,JBL,MRO,AMCR,AKAM,SNA,CF,WRK,RVTY,POOL,TRMB,WBA,PNR,KEY,NDSN,CPB,DOC,SWK,HST,INCY,LW,LNT,TECH,PODD,NI,MGM,KIM,AOS,VTRS,JKHY,EVRG,BEN,DVA,IPG,UHS,EMN,SJM,LKQ,TAP,JNPR,CRL,CPT,REG,KMX,APA,RL,BBWI,ALLE,WYNN,BXP,EPAM,SOLV,CHRW,HII,FFIV,MOS,CTLT,PAYC,TFX,TPR,QRVO,HSIC,AAL,GNRC,DAY,AIZ,PNW,HAS,PARA,MKTX,FRT,BIO,BWA,MTCH,FMC,GL,MHK,CZR,ETSY,IVZ,RHI,NCLH,CMA\n",
      "https://data.alpaca.markets/v1beta1/news 50\n",
      "https://data.alpaca.markets/v1beta1/news 50\n",
      "https://data.alpaca.markets/v1beta1/news 50\n",
      "https://data.alpaca.markets/v1beta1/news 50\n",
      "https://data.alpaca.markets/v1beta1/news 50\n",
      "https://data.alpaca.markets/v1beta1/news 50\n",
      "https://data.alpaca.markets/v1beta1/news 50\n",
      "https://data.alpaca.markets/v1beta1/news 50\n",
      "https://data.alpaca.markets/v1beta1/news 50\n",
      "https://data.alpaca.markets/v1beta1/news 50\n",
      "https://data.alpaca.markets/v1beta1/news 50\n",
      "https://data.alpaca.markets/v1beta1/news 50\n",
      "https://data.alpaca.markets/v1beta1/news 50\n",
      "https://data.alpaca.markets/v1beta1/news 50\n",
      "https://data.alpaca.markets/v1beta1/news 50\n",
      "https://data.alpaca.markets/v1beta1/news 50\n"
     ]
    },
    {
     "name": "stderr",
     "output_type": "stream",
     "text": [
      " 61%|██████▏   | 92/150 [05:58<04:28,  4.62s/it]"
     ]
    },
    {
     "name": "stdout",
     "output_type": "stream",
     "text": [
      "https://data.alpaca.markets/v1beta1/news 17\n",
      "error2\n",
      "Number of news articles: 817\n",
      "Fetching news for date: 2020-04-14\n",
      "start and end news collection 2020-04-07 2020-04-13\n",
      "length of ticker list 503\n",
      "MSFT,AAPL,NVDA,GOOG,GOOGL,AMZN,META,BRK-B,LLY,AVGO,JPM,TSLA,V,WMT,XOM,UNH,MA,PG,COST,JNJ,ORCL,MRK,HD,BAC,CVX,NFLX,ABBV,AMD,KO,CRM,PEP,QCOM,TMO,ADBE,WFC,LIN,DHR,TMUS,ACN,CSCO,MCD,DIS,GE,AMAT,TXN,ABT,AXP,CAT,INTU,VZ,AMGN,PFE,MS,NEE,IBM,PM,NOW,CMCSA,BX,GS,ISRG,MU,UNP,RTX,NKE,COP,SPGI,ETN,UBER,SCHW,INTC,HON,BKNG,SYK,LRCX,T,LOW,C,ELV,PGR,UPS,VRTX,BLK,TJX,ADI,LMT,BSX,REGN,MDT,CB,BA,KLAC,DE,PANW,MMC,ADP,PLD,ANET,CI,ABNB,MDLZ,SNPS,SBUX,FI,AMT,CMG,SO,WM,BMY,HCA,GD,GILD,APH,CDNS,DUK,ICE,MO,ZTS,CME,SHW,CL,TT,TDG,MCO,FCX,MCK,EQIX,CEG,ITW,NXPI,EOG,CVS,CTAS,NOC,PH,MAR,TGT,ECL,BDX,SLB,CSX,EMR,PYPL,MRNA,USB,MPC,PNC,AON,FDX,MSI,PSX,WELL,CARR,RSG,APD,ROP,ORLY,PCAR,SPG,MNST,MMM,AJG,OXY,VLO,EW,MCHP,COF,CPRT,AIG,SMCI,MET,TFC,NSC,HLT,DXCM,GM,AFL,JCI,WMB,TRV,GEV,NEM,F,PCG,SRE,AZO,PSA,ROST,DHI,GWW,DLR,OKE,AEP,FTNT,HES,KDP,TEL,ADSK,STZ,O,URI,EL,PAYX,KMB,D,BK,A,AMP,COR,KHC,ALL,FIS,LEN,PRU,IDXX,CCI,LHX,KMI,HUM,IQV,PWR,NUE,DOW,AME,HSY,CNC,OTIS,CHTR,MSCI,CMI,ACGL,YUM,CTVA,GIS,KR,IR,RCL,LULU,FAST,ODFL,PEG,KVUE,EXC,MPWR,GEHC,SYY,EA,VRSK,NDAQ,MLM,VST,CSGP,XYL,HWM,FANG,VMC,FICO,IT,CTSH,DD,DAL,LVS,ED,BKR,LYB,HPQ,HAL,DG,BIIB,MTD,GRMN,EXR,RMD,ON,GLW,CDW,DFS,PPG,DVN,TSCO,ROK,HIG,WAB,ADM,XEL,EFX,FSLR,VICI,ANSS,EIX,AVB,EBAY,CBRE,FTV,DECK,TTWO,TROW,GPN,RJF,CHD,WTW,BRO,WEC,FITB,TRGP,DOV,VLTO,DLTR,KEYS,MTB,AWK,EQR,IFF,WDC,WST,PHM,ZBH,HPE,NTAP,BR,IRM,CAH,DTE,ETR,NVR,STT,STE,TER,APTV,FE,ROL,LYV,HUBB,WY,PTC,BF-B,AXON,BALL,TSN,PPL,INVH,STLD,TYL,BLDR,K,ARE,LDOS,WRB,ES,GPC,SBAC,CTRA,WAT,HBAN,CCL,STX,MOH,MKC,PFG,ALGN,HRL,VTR,CBOE,TDY,AEE,WBD,CNP,COO,CPAY,OMC,CINF,ULTA,CMS,AVY,NRG,EQT,DRI,J,DPZ,RF,SYF,BAX,ESS,HOLX,VRSN,NTRS,ENPH,EG,UAL,ATO,ILMN,TXT,LH,ZBRA,CE,EXPD,FDS,L,PKG,CLX,IEX,JBHT,CFG,LUV,MAA,IP,DGX,GEN,BBY,NWS,NWSA,MAS,FOX,FOXA,ALB,AES,SWKS,BG,UDR,EXPE,CAG,JBL,MRO,AMCR,AKAM,SNA,CF,WRK,RVTY,POOL,TRMB,WBA,PNR,KEY,NDSN,CPB,DOC,SWK,HST,INCY,LW,LNT,TECH,PODD,NI,MGM,KIM,AOS,VTRS,JKHY,EVRG,BEN,DVA,IPG,UHS,EMN,SJM,LKQ,TAP,JNPR,CRL,CPT,REG,KMX,APA,RL,BBWI,ALLE,WYNN,BXP,EPAM,SOLV,CHRW,HII,FFIV,MOS,CTLT,PAYC,TFX,TPR,QRVO,HSIC,AAL,GNRC,DAY,AIZ,PNW,HAS,PARA,MKTX,FRT,BIO,BWA,MTCH,FMC,GL,MHK,CZR,ETSY,IVZ,RHI,NCLH,CMA\n",
      "https://data.alpaca.markets/v1beta1/news 50\n",
      "https://data.alpaca.markets/v1beta1/news 50\n",
      "https://data.alpaca.markets/v1beta1/news 50\n",
      "https://data.alpaca.markets/v1beta1/news 50\n",
      "https://data.alpaca.markets/v1beta1/news 50\n",
      "https://data.alpaca.markets/v1beta1/news 50\n",
      "https://data.alpaca.markets/v1beta1/news 50\n",
      "https://data.alpaca.markets/v1beta1/news 50\n",
      "https://data.alpaca.markets/v1beta1/news 50\n",
      "https://data.alpaca.markets/v1beta1/news 50\n",
      "https://data.alpaca.markets/v1beta1/news 50\n",
      "https://data.alpaca.markets/v1beta1/news 50\n"
     ]
    },
    {
     "name": "stderr",
     "output_type": "stream",
     "text": [
      " 62%|██████▏   | 93/150 [06:02<04:15,  4.49s/it]"
     ]
    },
    {
     "name": "stdout",
     "output_type": "stream",
     "text": [
      "https://data.alpaca.markets/v1beta1/news 39\n",
      "error2\n",
      "Number of news articles: 639\n",
      "Fetching news for date: 2020-06-24\n",
      "start and end news collection 2020-06-17 2020-06-23\n",
      "length of ticker list 503\n",
      "MSFT,AAPL,NVDA,GOOG,GOOGL,AMZN,META,BRK-B,LLY,AVGO,JPM,TSLA,V,WMT,XOM,UNH,MA,PG,COST,JNJ,ORCL,MRK,HD,BAC,CVX,NFLX,ABBV,AMD,KO,CRM,PEP,QCOM,TMO,ADBE,WFC,LIN,DHR,TMUS,ACN,CSCO,MCD,DIS,GE,AMAT,TXN,ABT,AXP,CAT,INTU,VZ,AMGN,PFE,MS,NEE,IBM,PM,NOW,CMCSA,BX,GS,ISRG,MU,UNP,RTX,NKE,COP,SPGI,ETN,UBER,SCHW,INTC,HON,BKNG,SYK,LRCX,T,LOW,C,ELV,PGR,UPS,VRTX,BLK,TJX,ADI,LMT,BSX,REGN,MDT,CB,BA,KLAC,DE,PANW,MMC,ADP,PLD,ANET,CI,ABNB,MDLZ,SNPS,SBUX,FI,AMT,CMG,SO,WM,BMY,HCA,GD,GILD,APH,CDNS,DUK,ICE,MO,ZTS,CME,SHW,CL,TT,TDG,MCO,FCX,MCK,EQIX,CEG,ITW,NXPI,EOG,CVS,CTAS,NOC,PH,MAR,TGT,ECL,BDX,SLB,CSX,EMR,PYPL,MRNA,USB,MPC,PNC,AON,FDX,MSI,PSX,WELL,CARR,RSG,APD,ROP,ORLY,PCAR,SPG,MNST,MMM,AJG,OXY,VLO,EW,MCHP,COF,CPRT,AIG,SMCI,MET,TFC,NSC,HLT,DXCM,GM,AFL,JCI,WMB,TRV,GEV,NEM,F,PCG,SRE,AZO,PSA,ROST,DHI,GWW,DLR,OKE,AEP,FTNT,HES,KDP,TEL,ADSK,STZ,O,URI,EL,PAYX,KMB,D,BK,A,AMP,COR,KHC,ALL,FIS,LEN,PRU,IDXX,CCI,LHX,KMI,HUM,IQV,PWR,NUE,DOW,AME,HSY,CNC,OTIS,CHTR,MSCI,CMI,ACGL,YUM,CTVA,GIS,KR,IR,RCL,LULU,FAST,ODFL,PEG,KVUE,EXC,MPWR,GEHC,SYY,EA,VRSK,NDAQ,MLM,VST,CSGP,XYL,HWM,FANG,VMC,FICO,IT,CTSH,DD,DAL,LVS,ED,BKR,LYB,HPQ,HAL,DG,BIIB,MTD,GRMN,EXR,RMD,ON,GLW,CDW,DFS,PPG,DVN,TSCO,ROK,HIG,WAB,ADM,XEL,EFX,FSLR,VICI,ANSS,EIX,AVB,EBAY,CBRE,FTV,DECK,TTWO,TROW,GPN,RJF,CHD,WTW,BRO,WEC,FITB,TRGP,DOV,VLTO,DLTR,KEYS,MTB,AWK,EQR,IFF,WDC,WST,PHM,ZBH,HPE,NTAP,BR,IRM,CAH,DTE,ETR,NVR,STT,STE,TER,APTV,FE,ROL,LYV,HUBB,WY,PTC,BF-B,AXON,BALL,TSN,PPL,INVH,STLD,TYL,BLDR,K,ARE,LDOS,WRB,ES,GPC,SBAC,CTRA,WAT,HBAN,CCL,STX,MOH,MKC,PFG,ALGN,HRL,VTR,CBOE,TDY,AEE,WBD,CNP,COO,CPAY,OMC,CINF,ULTA,CMS,AVY,NRG,EQT,DRI,J,DPZ,RF,SYF,BAX,ESS,HOLX,VRSN,NTRS,ENPH,EG,UAL,ATO,ILMN,TXT,LH,ZBRA,CE,EXPD,FDS,L,PKG,CLX,IEX,JBHT,CFG,LUV,MAA,IP,DGX,GEN,BBY,NWS,NWSA,MAS,FOX,FOXA,ALB,AES,SWKS,BG,UDR,EXPE,CAG,JBL,MRO,AMCR,AKAM,SNA,CF,WRK,RVTY,POOL,TRMB,WBA,PNR,KEY,NDSN,CPB,DOC,SWK,HST,INCY,LW,LNT,TECH,PODD,NI,MGM,KIM,AOS,VTRS,JKHY,EVRG,BEN,DVA,IPG,UHS,EMN,SJM,LKQ,TAP,JNPR,CRL,CPT,REG,KMX,APA,RL,BBWI,ALLE,WYNN,BXP,EPAM,SOLV,CHRW,HII,FFIV,MOS,CTLT,PAYC,TFX,TPR,QRVO,HSIC,AAL,GNRC,DAY,AIZ,PNW,HAS,PARA,MKTX,FRT,BIO,BWA,MTCH,FMC,GL,MHK,CZR,ETSY,IVZ,RHI,NCLH,CMA\n",
      "https://data.alpaca.markets/v1beta1/news 50\n",
      "https://data.alpaca.markets/v1beta1/news 50\n",
      "https://data.alpaca.markets/v1beta1/news 50\n",
      "https://data.alpaca.markets/v1beta1/news 50\n",
      "https://data.alpaca.markets/v1beta1/news 50\n",
      "https://data.alpaca.markets/v1beta1/news 50\n",
      "https://data.alpaca.markets/v1beta1/news 50\n",
      "https://data.alpaca.markets/v1beta1/news 50\n",
      "https://data.alpaca.markets/v1beta1/news 50\n",
      "https://data.alpaca.markets/v1beta1/news 50\n",
      "https://data.alpaca.markets/v1beta1/news 50\n",
      "https://data.alpaca.markets/v1beta1/news 50\n"
     ]
    },
    {
     "name": "stderr",
     "output_type": "stream",
     "text": [
      " 63%|██████▎   | 94/150 [06:07<04:12,  4.52s/it]"
     ]
    },
    {
     "name": "stdout",
     "output_type": "stream",
     "text": [
      "https://data.alpaca.markets/v1beta1/news 41\n",
      "error2\n",
      "Number of news articles: 641\n",
      "Fetching news for date: 2020-07-16\n",
      "start and end news collection 2020-07-09 2020-07-15\n",
      "length of ticker list 503\n",
      "MSFT,AAPL,NVDA,GOOG,GOOGL,AMZN,META,BRK-B,LLY,AVGO,JPM,TSLA,V,WMT,XOM,UNH,MA,PG,COST,JNJ,ORCL,MRK,HD,BAC,CVX,NFLX,ABBV,AMD,KO,CRM,PEP,QCOM,TMO,ADBE,WFC,LIN,DHR,TMUS,ACN,CSCO,MCD,DIS,GE,AMAT,TXN,ABT,AXP,CAT,INTU,VZ,AMGN,PFE,MS,NEE,IBM,PM,NOW,CMCSA,BX,GS,ISRG,MU,UNP,RTX,NKE,COP,SPGI,ETN,UBER,SCHW,INTC,HON,BKNG,SYK,LRCX,T,LOW,C,ELV,PGR,UPS,VRTX,BLK,TJX,ADI,LMT,BSX,REGN,MDT,CB,BA,KLAC,DE,PANW,MMC,ADP,PLD,ANET,CI,ABNB,MDLZ,SNPS,SBUX,FI,AMT,CMG,SO,WM,BMY,HCA,GD,GILD,APH,CDNS,DUK,ICE,MO,ZTS,CME,SHW,CL,TT,TDG,MCO,FCX,MCK,EQIX,CEG,ITW,NXPI,EOG,CVS,CTAS,NOC,PH,MAR,TGT,ECL,BDX,SLB,CSX,EMR,PYPL,MRNA,USB,MPC,PNC,AON,FDX,MSI,PSX,WELL,CARR,RSG,APD,ROP,ORLY,PCAR,SPG,MNST,MMM,AJG,OXY,VLO,EW,MCHP,COF,CPRT,AIG,SMCI,MET,TFC,NSC,HLT,DXCM,GM,AFL,JCI,WMB,TRV,GEV,NEM,F,PCG,SRE,AZO,PSA,ROST,DHI,GWW,DLR,OKE,AEP,FTNT,HES,KDP,TEL,ADSK,STZ,O,URI,EL,PAYX,KMB,D,BK,A,AMP,COR,KHC,ALL,FIS,LEN,PRU,IDXX,CCI,LHX,KMI,HUM,IQV,PWR,NUE,DOW,AME,HSY,CNC,OTIS,CHTR,MSCI,CMI,ACGL,YUM,CTVA,GIS,KR,IR,RCL,LULU,FAST,ODFL,PEG,KVUE,EXC,MPWR,GEHC,SYY,EA,VRSK,NDAQ,MLM,VST,CSGP,XYL,HWM,FANG,VMC,FICO,IT,CTSH,DD,DAL,LVS,ED,BKR,LYB,HPQ,HAL,DG,BIIB,MTD,GRMN,EXR,RMD,ON,GLW,CDW,DFS,PPG,DVN,TSCO,ROK,HIG,WAB,ADM,XEL,EFX,FSLR,VICI,ANSS,EIX,AVB,EBAY,CBRE,FTV,DECK,TTWO,TROW,GPN,RJF,CHD,WTW,BRO,WEC,FITB,TRGP,DOV,VLTO,DLTR,KEYS,MTB,AWK,EQR,IFF,WDC,WST,PHM,ZBH,HPE,NTAP,BR,IRM,CAH,DTE,ETR,NVR,STT,STE,TER,APTV,FE,ROL,LYV,HUBB,WY,PTC,BF-B,AXON,BALL,TSN,PPL,INVH,STLD,TYL,BLDR,K,ARE,LDOS,WRB,ES,GPC,SBAC,CTRA,WAT,HBAN,CCL,STX,MOH,MKC,PFG,ALGN,HRL,VTR,CBOE,TDY,AEE,WBD,CNP,COO,CPAY,OMC,CINF,ULTA,CMS,AVY,NRG,EQT,DRI,J,DPZ,RF,SYF,BAX,ESS,HOLX,VRSN,NTRS,ENPH,EG,UAL,ATO,ILMN,TXT,LH,ZBRA,CE,EXPD,FDS,L,PKG,CLX,IEX,JBHT,CFG,LUV,MAA,IP,DGX,GEN,BBY,NWS,NWSA,MAS,FOX,FOXA,ALB,AES,SWKS,BG,UDR,EXPE,CAG,JBL,MRO,AMCR,AKAM,SNA,CF,WRK,RVTY,POOL,TRMB,WBA,PNR,KEY,NDSN,CPB,DOC,SWK,HST,INCY,LW,LNT,TECH,PODD,NI,MGM,KIM,AOS,VTRS,JKHY,EVRG,BEN,DVA,IPG,UHS,EMN,SJM,LKQ,TAP,JNPR,CRL,CPT,REG,KMX,APA,RL,BBWI,ALLE,WYNN,BXP,EPAM,SOLV,CHRW,HII,FFIV,MOS,CTLT,PAYC,TFX,TPR,QRVO,HSIC,AAL,GNRC,DAY,AIZ,PNW,HAS,PARA,MKTX,FRT,BIO,BWA,MTCH,FMC,GL,MHK,CZR,ETSY,IVZ,RHI,NCLH,CMA\n",
      "https://data.alpaca.markets/v1beta1/news 50\n",
      "https://data.alpaca.markets/v1beta1/news 50\n",
      "https://data.alpaca.markets/v1beta1/news 50\n",
      "https://data.alpaca.markets/v1beta1/news 50\n",
      "https://data.alpaca.markets/v1beta1/news 50\n",
      "https://data.alpaca.markets/v1beta1/news 50\n",
      "https://data.alpaca.markets/v1beta1/news 50\n",
      "https://data.alpaca.markets/v1beta1/news 50\n",
      "https://data.alpaca.markets/v1beta1/news 50\n",
      "https://data.alpaca.markets/v1beta1/news 50\n",
      "https://data.alpaca.markets/v1beta1/news 50\n",
      "https://data.alpaca.markets/v1beta1/news 50\n",
      "https://data.alpaca.markets/v1beta1/news 50\n"
     ]
    },
    {
     "name": "stderr",
     "output_type": "stream",
     "text": [
      " 63%|██████▎   | 95/150 [06:11<04:10,  4.55s/it]"
     ]
    },
    {
     "name": "stdout",
     "output_type": "stream",
     "text": [
      "https://data.alpaca.markets/v1beta1/news 20\n",
      "error2\n",
      "Number of news articles: 670\n",
      "Fetching news for date: 2020-08-06\n",
      "start and end news collection 2020-07-30 2020-08-05\n",
      "length of ticker list 503\n",
      "MSFT,AAPL,NVDA,GOOG,GOOGL,AMZN,META,BRK-B,LLY,AVGO,JPM,TSLA,V,WMT,XOM,UNH,MA,PG,COST,JNJ,ORCL,MRK,HD,BAC,CVX,NFLX,ABBV,AMD,KO,CRM,PEP,QCOM,TMO,ADBE,WFC,LIN,DHR,TMUS,ACN,CSCO,MCD,DIS,GE,AMAT,TXN,ABT,AXP,CAT,INTU,VZ,AMGN,PFE,MS,NEE,IBM,PM,NOW,CMCSA,BX,GS,ISRG,MU,UNP,RTX,NKE,COP,SPGI,ETN,UBER,SCHW,INTC,HON,BKNG,SYK,LRCX,T,LOW,C,ELV,PGR,UPS,VRTX,BLK,TJX,ADI,LMT,BSX,REGN,MDT,CB,BA,KLAC,DE,PANW,MMC,ADP,PLD,ANET,CI,ABNB,MDLZ,SNPS,SBUX,FI,AMT,CMG,SO,WM,BMY,HCA,GD,GILD,APH,CDNS,DUK,ICE,MO,ZTS,CME,SHW,CL,TT,TDG,MCO,FCX,MCK,EQIX,CEG,ITW,NXPI,EOG,CVS,CTAS,NOC,PH,MAR,TGT,ECL,BDX,SLB,CSX,EMR,PYPL,MRNA,USB,MPC,PNC,AON,FDX,MSI,PSX,WELL,CARR,RSG,APD,ROP,ORLY,PCAR,SPG,MNST,MMM,AJG,OXY,VLO,EW,MCHP,COF,CPRT,AIG,SMCI,MET,TFC,NSC,HLT,DXCM,GM,AFL,JCI,WMB,TRV,GEV,NEM,F,PCG,SRE,AZO,PSA,ROST,DHI,GWW,DLR,OKE,AEP,FTNT,HES,KDP,TEL,ADSK,STZ,O,URI,EL,PAYX,KMB,D,BK,A,AMP,COR,KHC,ALL,FIS,LEN,PRU,IDXX,CCI,LHX,KMI,HUM,IQV,PWR,NUE,DOW,AME,HSY,CNC,OTIS,CHTR,MSCI,CMI,ACGL,YUM,CTVA,GIS,KR,IR,RCL,LULU,FAST,ODFL,PEG,KVUE,EXC,MPWR,GEHC,SYY,EA,VRSK,NDAQ,MLM,VST,CSGP,XYL,HWM,FANG,VMC,FICO,IT,CTSH,DD,DAL,LVS,ED,BKR,LYB,HPQ,HAL,DG,BIIB,MTD,GRMN,EXR,RMD,ON,GLW,CDW,DFS,PPG,DVN,TSCO,ROK,HIG,WAB,ADM,XEL,EFX,FSLR,VICI,ANSS,EIX,AVB,EBAY,CBRE,FTV,DECK,TTWO,TROW,GPN,RJF,CHD,WTW,BRO,WEC,FITB,TRGP,DOV,VLTO,DLTR,KEYS,MTB,AWK,EQR,IFF,WDC,WST,PHM,ZBH,HPE,NTAP,BR,IRM,CAH,DTE,ETR,NVR,STT,STE,TER,APTV,FE,ROL,LYV,HUBB,WY,PTC,BF-B,AXON,BALL,TSN,PPL,INVH,STLD,TYL,BLDR,K,ARE,LDOS,WRB,ES,GPC,SBAC,CTRA,WAT,HBAN,CCL,STX,MOH,MKC,PFG,ALGN,HRL,VTR,CBOE,TDY,AEE,WBD,CNP,COO,CPAY,OMC,CINF,ULTA,CMS,AVY,NRG,EQT,DRI,J,DPZ,RF,SYF,BAX,ESS,HOLX,VRSN,NTRS,ENPH,EG,UAL,ATO,ILMN,TXT,LH,ZBRA,CE,EXPD,FDS,L,PKG,CLX,IEX,JBHT,CFG,LUV,MAA,IP,DGX,GEN,BBY,NWS,NWSA,MAS,FOX,FOXA,ALB,AES,SWKS,BG,UDR,EXPE,CAG,JBL,MRO,AMCR,AKAM,SNA,CF,WRK,RVTY,POOL,TRMB,WBA,PNR,KEY,NDSN,CPB,DOC,SWK,HST,INCY,LW,LNT,TECH,PODD,NI,MGM,KIM,AOS,VTRS,JKHY,EVRG,BEN,DVA,IPG,UHS,EMN,SJM,LKQ,TAP,JNPR,CRL,CPT,REG,KMX,APA,RL,BBWI,ALLE,WYNN,BXP,EPAM,SOLV,CHRW,HII,FFIV,MOS,CTLT,PAYC,TFX,TPR,QRVO,HSIC,AAL,GNRC,DAY,AIZ,PNW,HAS,PARA,MKTX,FRT,BIO,BWA,MTCH,FMC,GL,MHK,CZR,ETSY,IVZ,RHI,NCLH,CMA\n",
      "https://data.alpaca.markets/v1beta1/news 50\n",
      "https://data.alpaca.markets/v1beta1/news 50\n",
      "https://data.alpaca.markets/v1beta1/news 50\n",
      "https://data.alpaca.markets/v1beta1/news 50\n",
      "https://data.alpaca.markets/v1beta1/news 50\n",
      "https://data.alpaca.markets/v1beta1/news 50\n",
      "https://data.alpaca.markets/v1beta1/news 50\n",
      "https://data.alpaca.markets/v1beta1/news 50\n",
      "https://data.alpaca.markets/v1beta1/news 50\n",
      "https://data.alpaca.markets/v1beta1/news 50\n",
      "https://data.alpaca.markets/v1beta1/news 50\n",
      "https://data.alpaca.markets/v1beta1/news 50\n",
      "https://data.alpaca.markets/v1beta1/news 50\n",
      "https://data.alpaca.markets/v1beta1/news 50\n",
      "https://data.alpaca.markets/v1beta1/news 50\n",
      "https://data.alpaca.markets/v1beta1/news 50\n",
      "https://data.alpaca.markets/v1beta1/news 50\n",
      "https://data.alpaca.markets/v1beta1/news 50\n",
      "https://data.alpaca.markets/v1beta1/news 50\n",
      "https://data.alpaca.markets/v1beta1/news 50\n"
     ]
    },
    {
     "name": "stderr",
     "output_type": "stream",
     "text": [
      " 64%|██████▍   | 96/150 [06:19<04:48,  5.34s/it]"
     ]
    },
    {
     "name": "stdout",
     "output_type": "stream",
     "text": [
      "https://data.alpaca.markets/v1beta1/news 48\n",
      "error2\n",
      "Number of news articles: 1048\n",
      "Fetching news for date: 2020-10-13\n",
      "start and end news collection 2020-10-06 2020-10-12\n",
      "length of ticker list 503\n",
      "MSFT,AAPL,NVDA,GOOG,GOOGL,AMZN,META,BRK-B,LLY,AVGO,JPM,TSLA,V,WMT,XOM,UNH,MA,PG,COST,JNJ,ORCL,MRK,HD,BAC,CVX,NFLX,ABBV,AMD,KO,CRM,PEP,QCOM,TMO,ADBE,WFC,LIN,DHR,TMUS,ACN,CSCO,MCD,DIS,GE,AMAT,TXN,ABT,AXP,CAT,INTU,VZ,AMGN,PFE,MS,NEE,IBM,PM,NOW,CMCSA,BX,GS,ISRG,MU,UNP,RTX,NKE,COP,SPGI,ETN,UBER,SCHW,INTC,HON,BKNG,SYK,LRCX,T,LOW,C,ELV,PGR,UPS,VRTX,BLK,TJX,ADI,LMT,BSX,REGN,MDT,CB,BA,KLAC,DE,PANW,MMC,ADP,PLD,ANET,CI,ABNB,MDLZ,SNPS,SBUX,FI,AMT,CMG,SO,WM,BMY,HCA,GD,GILD,APH,CDNS,DUK,ICE,MO,ZTS,CME,SHW,CL,TT,TDG,MCO,FCX,MCK,EQIX,CEG,ITW,NXPI,EOG,CVS,CTAS,NOC,PH,MAR,TGT,ECL,BDX,SLB,CSX,EMR,PYPL,MRNA,USB,MPC,PNC,AON,FDX,MSI,PSX,WELL,CARR,RSG,APD,ROP,ORLY,PCAR,SPG,MNST,MMM,AJG,OXY,VLO,EW,MCHP,COF,CPRT,AIG,SMCI,MET,TFC,NSC,HLT,DXCM,GM,AFL,JCI,WMB,TRV,GEV,NEM,F,PCG,SRE,AZO,PSA,ROST,DHI,GWW,DLR,OKE,AEP,FTNT,HES,KDP,TEL,ADSK,STZ,O,URI,EL,PAYX,KMB,D,BK,A,AMP,COR,KHC,ALL,FIS,LEN,PRU,IDXX,CCI,LHX,KMI,HUM,IQV,PWR,NUE,DOW,AME,HSY,CNC,OTIS,CHTR,MSCI,CMI,ACGL,YUM,CTVA,GIS,KR,IR,RCL,LULU,FAST,ODFL,PEG,KVUE,EXC,MPWR,GEHC,SYY,EA,VRSK,NDAQ,MLM,VST,CSGP,XYL,HWM,FANG,VMC,FICO,IT,CTSH,DD,DAL,LVS,ED,BKR,LYB,HPQ,HAL,DG,BIIB,MTD,GRMN,EXR,RMD,ON,GLW,CDW,DFS,PPG,DVN,TSCO,ROK,HIG,WAB,ADM,XEL,EFX,FSLR,VICI,ANSS,EIX,AVB,EBAY,CBRE,FTV,DECK,TTWO,TROW,GPN,RJF,CHD,WTW,BRO,WEC,FITB,TRGP,DOV,VLTO,DLTR,KEYS,MTB,AWK,EQR,IFF,WDC,WST,PHM,ZBH,HPE,NTAP,BR,IRM,CAH,DTE,ETR,NVR,STT,STE,TER,APTV,FE,ROL,LYV,HUBB,WY,PTC,BF-B,AXON,BALL,TSN,PPL,INVH,STLD,TYL,BLDR,K,ARE,LDOS,WRB,ES,GPC,SBAC,CTRA,WAT,HBAN,CCL,STX,MOH,MKC,PFG,ALGN,HRL,VTR,CBOE,TDY,AEE,WBD,CNP,COO,CPAY,OMC,CINF,ULTA,CMS,AVY,NRG,EQT,DRI,J,DPZ,RF,SYF,BAX,ESS,HOLX,VRSN,NTRS,ENPH,EG,UAL,ATO,ILMN,TXT,LH,ZBRA,CE,EXPD,FDS,L,PKG,CLX,IEX,JBHT,CFG,LUV,MAA,IP,DGX,GEN,BBY,NWS,NWSA,MAS,FOX,FOXA,ALB,AES,SWKS,BG,UDR,EXPE,CAG,JBL,MRO,AMCR,AKAM,SNA,CF,WRK,RVTY,POOL,TRMB,WBA,PNR,KEY,NDSN,CPB,DOC,SWK,HST,INCY,LW,LNT,TECH,PODD,NI,MGM,KIM,AOS,VTRS,JKHY,EVRG,BEN,DVA,IPG,UHS,EMN,SJM,LKQ,TAP,JNPR,CRL,CPT,REG,KMX,APA,RL,BBWI,ALLE,WYNN,BXP,EPAM,SOLV,CHRW,HII,FFIV,MOS,CTLT,PAYC,TFX,TPR,QRVO,HSIC,AAL,GNRC,DAY,AIZ,PNW,HAS,PARA,MKTX,FRT,BIO,BWA,MTCH,FMC,GL,MHK,CZR,ETSY,IVZ,RHI,NCLH,CMA\n",
      "https://data.alpaca.markets/v1beta1/news 50\n",
      "https://data.alpaca.markets/v1beta1/news 50\n",
      "https://data.alpaca.markets/v1beta1/news 50\n",
      "https://data.alpaca.markets/v1beta1/news 50\n",
      "https://data.alpaca.markets/v1beta1/news 50\n",
      "https://data.alpaca.markets/v1beta1/news 50\n",
      "https://data.alpaca.markets/v1beta1/news 50\n",
      "https://data.alpaca.markets/v1beta1/news 50\n",
      "https://data.alpaca.markets/v1beta1/news 50\n",
      "https://data.alpaca.markets/v1beta1/news 50\n",
      "https://data.alpaca.markets/v1beta1/news 50\n",
      "https://data.alpaca.markets/v1beta1/news 50\n",
      "https://data.alpaca.markets/v1beta1/news 50\n"
     ]
    },
    {
     "name": "stderr",
     "output_type": "stream",
     "text": [
      " 65%|██████▍   | 97/150 [06:23<04:34,  5.18s/it]"
     ]
    },
    {
     "name": "stdout",
     "output_type": "stream",
     "text": [
      "https://data.alpaca.markets/v1beta1/news 1\n",
      "error2\n",
      "Number of news articles: 651\n",
      "Fetching news for date: 2020-11-03\n",
      "start and end news collection 2020-10-27 2020-11-02\n",
      "length of ticker list 503\n",
      "MSFT,AAPL,NVDA,GOOG,GOOGL,AMZN,META,BRK-B,LLY,AVGO,JPM,TSLA,V,WMT,XOM,UNH,MA,PG,COST,JNJ,ORCL,MRK,HD,BAC,CVX,NFLX,ABBV,AMD,KO,CRM,PEP,QCOM,TMO,ADBE,WFC,LIN,DHR,TMUS,ACN,CSCO,MCD,DIS,GE,AMAT,TXN,ABT,AXP,CAT,INTU,VZ,AMGN,PFE,MS,NEE,IBM,PM,NOW,CMCSA,BX,GS,ISRG,MU,UNP,RTX,NKE,COP,SPGI,ETN,UBER,SCHW,INTC,HON,BKNG,SYK,LRCX,T,LOW,C,ELV,PGR,UPS,VRTX,BLK,TJX,ADI,LMT,BSX,REGN,MDT,CB,BA,KLAC,DE,PANW,MMC,ADP,PLD,ANET,CI,ABNB,MDLZ,SNPS,SBUX,FI,AMT,CMG,SO,WM,BMY,HCA,GD,GILD,APH,CDNS,DUK,ICE,MO,ZTS,CME,SHW,CL,TT,TDG,MCO,FCX,MCK,EQIX,CEG,ITW,NXPI,EOG,CVS,CTAS,NOC,PH,MAR,TGT,ECL,BDX,SLB,CSX,EMR,PYPL,MRNA,USB,MPC,PNC,AON,FDX,MSI,PSX,WELL,CARR,RSG,APD,ROP,ORLY,PCAR,SPG,MNST,MMM,AJG,OXY,VLO,EW,MCHP,COF,CPRT,AIG,SMCI,MET,TFC,NSC,HLT,DXCM,GM,AFL,JCI,WMB,TRV,GEV,NEM,F,PCG,SRE,AZO,PSA,ROST,DHI,GWW,DLR,OKE,AEP,FTNT,HES,KDP,TEL,ADSK,STZ,O,URI,EL,PAYX,KMB,D,BK,A,AMP,COR,KHC,ALL,FIS,LEN,PRU,IDXX,CCI,LHX,KMI,HUM,IQV,PWR,NUE,DOW,AME,HSY,CNC,OTIS,CHTR,MSCI,CMI,ACGL,YUM,CTVA,GIS,KR,IR,RCL,LULU,FAST,ODFL,PEG,KVUE,EXC,MPWR,GEHC,SYY,EA,VRSK,NDAQ,MLM,VST,CSGP,XYL,HWM,FANG,VMC,FICO,IT,CTSH,DD,DAL,LVS,ED,BKR,LYB,HPQ,HAL,DG,BIIB,MTD,GRMN,EXR,RMD,ON,GLW,CDW,DFS,PPG,DVN,TSCO,ROK,HIG,WAB,ADM,XEL,EFX,FSLR,VICI,ANSS,EIX,AVB,EBAY,CBRE,FTV,DECK,TTWO,TROW,GPN,RJF,CHD,WTW,BRO,WEC,FITB,TRGP,DOV,VLTO,DLTR,KEYS,MTB,AWK,EQR,IFF,WDC,WST,PHM,ZBH,HPE,NTAP,BR,IRM,CAH,DTE,ETR,NVR,STT,STE,TER,APTV,FE,ROL,LYV,HUBB,WY,PTC,BF-B,AXON,BALL,TSN,PPL,INVH,STLD,TYL,BLDR,K,ARE,LDOS,WRB,ES,GPC,SBAC,CTRA,WAT,HBAN,CCL,STX,MOH,MKC,PFG,ALGN,HRL,VTR,CBOE,TDY,AEE,WBD,CNP,COO,CPAY,OMC,CINF,ULTA,CMS,AVY,NRG,EQT,DRI,J,DPZ,RF,SYF,BAX,ESS,HOLX,VRSN,NTRS,ENPH,EG,UAL,ATO,ILMN,TXT,LH,ZBRA,CE,EXPD,FDS,L,PKG,CLX,IEX,JBHT,CFG,LUV,MAA,IP,DGX,GEN,BBY,NWS,NWSA,MAS,FOX,FOXA,ALB,AES,SWKS,BG,UDR,EXPE,CAG,JBL,MRO,AMCR,AKAM,SNA,CF,WRK,RVTY,POOL,TRMB,WBA,PNR,KEY,NDSN,CPB,DOC,SWK,HST,INCY,LW,LNT,TECH,PODD,NI,MGM,KIM,AOS,VTRS,JKHY,EVRG,BEN,DVA,IPG,UHS,EMN,SJM,LKQ,TAP,JNPR,CRL,CPT,REG,KMX,APA,RL,BBWI,ALLE,WYNN,BXP,EPAM,SOLV,CHRW,HII,FFIV,MOS,CTLT,PAYC,TFX,TPR,QRVO,HSIC,AAL,GNRC,DAY,AIZ,PNW,HAS,PARA,MKTX,FRT,BIO,BWA,MTCH,FMC,GL,MHK,CZR,ETSY,IVZ,RHI,NCLH,CMA\n",
      "https://data.alpaca.markets/v1beta1/news 50\n",
      "https://data.alpaca.markets/v1beta1/news 50\n",
      "https://data.alpaca.markets/v1beta1/news 50\n",
      "https://data.alpaca.markets/v1beta1/news 50\n",
      "https://data.alpaca.markets/v1beta1/news 50\n",
      "https://data.alpaca.markets/v1beta1/news 50\n",
      "https://data.alpaca.markets/v1beta1/news 50\n",
      "https://data.alpaca.markets/v1beta1/news 50\n",
      "https://data.alpaca.markets/v1beta1/news 50\n",
      "https://data.alpaca.markets/v1beta1/news 50\n",
      "https://data.alpaca.markets/v1beta1/news 50\n",
      "https://data.alpaca.markets/v1beta1/news 50\n",
      "https://data.alpaca.markets/v1beta1/news 50\n",
      "https://data.alpaca.markets/v1beta1/news 50\n",
      "https://data.alpaca.markets/v1beta1/news 50\n",
      "https://data.alpaca.markets/v1beta1/news 50\n",
      "https://data.alpaca.markets/v1beta1/news 50\n",
      "https://data.alpaca.markets/v1beta1/news 50\n",
      "https://data.alpaca.markets/v1beta1/news 50\n",
      "https://data.alpaca.markets/v1beta1/news 50\n",
      "https://data.alpaca.markets/v1beta1/news 50\n",
      "https://data.alpaca.markets/v1beta1/news 50\n",
      "https://data.alpaca.markets/v1beta1/news 50\n"
     ]
    },
    {
     "name": "stderr",
     "output_type": "stream",
     "text": [
      " 65%|██████▌   | 98/150 [06:31<05:04,  5.86s/it]"
     ]
    },
    {
     "name": "stdout",
     "output_type": "stream",
     "text": [
      "https://data.alpaca.markets/v1beta1/news 45\n",
      "error2\n",
      "Number of news articles: 1195\n",
      "Fetching news for date: 2020-11-18\n",
      "start and end news collection 2020-11-11 2020-11-17\n",
      "length of ticker list 503\n",
      "MSFT,AAPL,NVDA,GOOG,GOOGL,AMZN,META,BRK-B,LLY,AVGO,JPM,TSLA,V,WMT,XOM,UNH,MA,PG,COST,JNJ,ORCL,MRK,HD,BAC,CVX,NFLX,ABBV,AMD,KO,CRM,PEP,QCOM,TMO,ADBE,WFC,LIN,DHR,TMUS,ACN,CSCO,MCD,DIS,GE,AMAT,TXN,ABT,AXP,CAT,INTU,VZ,AMGN,PFE,MS,NEE,IBM,PM,NOW,CMCSA,BX,GS,ISRG,MU,UNP,RTX,NKE,COP,SPGI,ETN,UBER,SCHW,INTC,HON,BKNG,SYK,LRCX,T,LOW,C,ELV,PGR,UPS,VRTX,BLK,TJX,ADI,LMT,BSX,REGN,MDT,CB,BA,KLAC,DE,PANW,MMC,ADP,PLD,ANET,CI,ABNB,MDLZ,SNPS,SBUX,FI,AMT,CMG,SO,WM,BMY,HCA,GD,GILD,APH,CDNS,DUK,ICE,MO,ZTS,CME,SHW,CL,TT,TDG,MCO,FCX,MCK,EQIX,CEG,ITW,NXPI,EOG,CVS,CTAS,NOC,PH,MAR,TGT,ECL,BDX,SLB,CSX,EMR,PYPL,MRNA,USB,MPC,PNC,AON,FDX,MSI,PSX,WELL,CARR,RSG,APD,ROP,ORLY,PCAR,SPG,MNST,MMM,AJG,OXY,VLO,EW,MCHP,COF,CPRT,AIG,SMCI,MET,TFC,NSC,HLT,DXCM,GM,AFL,JCI,WMB,TRV,GEV,NEM,F,PCG,SRE,AZO,PSA,ROST,DHI,GWW,DLR,OKE,AEP,FTNT,HES,KDP,TEL,ADSK,STZ,O,URI,EL,PAYX,KMB,D,BK,A,AMP,COR,KHC,ALL,FIS,LEN,PRU,IDXX,CCI,LHX,KMI,HUM,IQV,PWR,NUE,DOW,AME,HSY,CNC,OTIS,CHTR,MSCI,CMI,ACGL,YUM,CTVA,GIS,KR,IR,RCL,LULU,FAST,ODFL,PEG,KVUE,EXC,MPWR,GEHC,SYY,EA,VRSK,NDAQ,MLM,VST,CSGP,XYL,HWM,FANG,VMC,FICO,IT,CTSH,DD,DAL,LVS,ED,BKR,LYB,HPQ,HAL,DG,BIIB,MTD,GRMN,EXR,RMD,ON,GLW,CDW,DFS,PPG,DVN,TSCO,ROK,HIG,WAB,ADM,XEL,EFX,FSLR,VICI,ANSS,EIX,AVB,EBAY,CBRE,FTV,DECK,TTWO,TROW,GPN,RJF,CHD,WTW,BRO,WEC,FITB,TRGP,DOV,VLTO,DLTR,KEYS,MTB,AWK,EQR,IFF,WDC,WST,PHM,ZBH,HPE,NTAP,BR,IRM,CAH,DTE,ETR,NVR,STT,STE,TER,APTV,FE,ROL,LYV,HUBB,WY,PTC,BF-B,AXON,BALL,TSN,PPL,INVH,STLD,TYL,BLDR,K,ARE,LDOS,WRB,ES,GPC,SBAC,CTRA,WAT,HBAN,CCL,STX,MOH,MKC,PFG,ALGN,HRL,VTR,CBOE,TDY,AEE,WBD,CNP,COO,CPAY,OMC,CINF,ULTA,CMS,AVY,NRG,EQT,DRI,J,DPZ,RF,SYF,BAX,ESS,HOLX,VRSN,NTRS,ENPH,EG,UAL,ATO,ILMN,TXT,LH,ZBRA,CE,EXPD,FDS,L,PKG,CLX,IEX,JBHT,CFG,LUV,MAA,IP,DGX,GEN,BBY,NWS,NWSA,MAS,FOX,FOXA,ALB,AES,SWKS,BG,UDR,EXPE,CAG,JBL,MRO,AMCR,AKAM,SNA,CF,WRK,RVTY,POOL,TRMB,WBA,PNR,KEY,NDSN,CPB,DOC,SWK,HST,INCY,LW,LNT,TECH,PODD,NI,MGM,KIM,AOS,VTRS,JKHY,EVRG,BEN,DVA,IPG,UHS,EMN,SJM,LKQ,TAP,JNPR,CRL,CPT,REG,KMX,APA,RL,BBWI,ALLE,WYNN,BXP,EPAM,SOLV,CHRW,HII,FFIV,MOS,CTLT,PAYC,TFX,TPR,QRVO,HSIC,AAL,GNRC,DAY,AIZ,PNW,HAS,PARA,MKTX,FRT,BIO,BWA,MTCH,FMC,GL,MHK,CZR,ETSY,IVZ,RHI,NCLH,CMA\n",
      "https://data.alpaca.markets/v1beta1/news 50\n",
      "https://data.alpaca.markets/v1beta1/news 50\n",
      "https://data.alpaca.markets/v1beta1/news 50\n",
      "https://data.alpaca.markets/v1beta1/news 50\n",
      "https://data.alpaca.markets/v1beta1/news 50\n",
      "https://data.alpaca.markets/v1beta1/news 50\n",
      "https://data.alpaca.markets/v1beta1/news 50\n",
      "https://data.alpaca.markets/v1beta1/news 50\n",
      "https://data.alpaca.markets/v1beta1/news 50\n",
      "https://data.alpaca.markets/v1beta1/news 50\n",
      "https://data.alpaca.markets/v1beta1/news 50\n",
      "https://data.alpaca.markets/v1beta1/news 50\n",
      "https://data.alpaca.markets/v1beta1/news 50\n",
      "https://data.alpaca.markets/v1beta1/news 50\n",
      "https://data.alpaca.markets/v1beta1/news 50\n"
     ]
    },
    {
     "name": "stderr",
     "output_type": "stream",
     "text": [
      " 66%|██████▌   | 99/150 [06:36<04:49,  5.67s/it]"
     ]
    },
    {
     "name": "stdout",
     "output_type": "stream",
     "text": [
      "https://data.alpaca.markets/v1beta1/news 20\n",
      "error2\n",
      "Number of news articles: 770\n",
      "Fetching news for date: 2020-11-19\n",
      "start and end news collection 2020-11-12 2020-11-18\n",
      "length of ticker list 503\n",
      "MSFT,AAPL,NVDA,GOOG,GOOGL,AMZN,META,BRK-B,LLY,AVGO,JPM,TSLA,V,WMT,XOM,UNH,MA,PG,COST,JNJ,ORCL,MRK,HD,BAC,CVX,NFLX,ABBV,AMD,KO,CRM,PEP,QCOM,TMO,ADBE,WFC,LIN,DHR,TMUS,ACN,CSCO,MCD,DIS,GE,AMAT,TXN,ABT,AXP,CAT,INTU,VZ,AMGN,PFE,MS,NEE,IBM,PM,NOW,CMCSA,BX,GS,ISRG,MU,UNP,RTX,NKE,COP,SPGI,ETN,UBER,SCHW,INTC,HON,BKNG,SYK,LRCX,T,LOW,C,ELV,PGR,UPS,VRTX,BLK,TJX,ADI,LMT,BSX,REGN,MDT,CB,BA,KLAC,DE,PANW,MMC,ADP,PLD,ANET,CI,ABNB,MDLZ,SNPS,SBUX,FI,AMT,CMG,SO,WM,BMY,HCA,GD,GILD,APH,CDNS,DUK,ICE,MO,ZTS,CME,SHW,CL,TT,TDG,MCO,FCX,MCK,EQIX,CEG,ITW,NXPI,EOG,CVS,CTAS,NOC,PH,MAR,TGT,ECL,BDX,SLB,CSX,EMR,PYPL,MRNA,USB,MPC,PNC,AON,FDX,MSI,PSX,WELL,CARR,RSG,APD,ROP,ORLY,PCAR,SPG,MNST,MMM,AJG,OXY,VLO,EW,MCHP,COF,CPRT,AIG,SMCI,MET,TFC,NSC,HLT,DXCM,GM,AFL,JCI,WMB,TRV,GEV,NEM,F,PCG,SRE,AZO,PSA,ROST,DHI,GWW,DLR,OKE,AEP,FTNT,HES,KDP,TEL,ADSK,STZ,O,URI,EL,PAYX,KMB,D,BK,A,AMP,COR,KHC,ALL,FIS,LEN,PRU,IDXX,CCI,LHX,KMI,HUM,IQV,PWR,NUE,DOW,AME,HSY,CNC,OTIS,CHTR,MSCI,CMI,ACGL,YUM,CTVA,GIS,KR,IR,RCL,LULU,FAST,ODFL,PEG,KVUE,EXC,MPWR,GEHC,SYY,EA,VRSK,NDAQ,MLM,VST,CSGP,XYL,HWM,FANG,VMC,FICO,IT,CTSH,DD,DAL,LVS,ED,BKR,LYB,HPQ,HAL,DG,BIIB,MTD,GRMN,EXR,RMD,ON,GLW,CDW,DFS,PPG,DVN,TSCO,ROK,HIG,WAB,ADM,XEL,EFX,FSLR,VICI,ANSS,EIX,AVB,EBAY,CBRE,FTV,DECK,TTWO,TROW,GPN,RJF,CHD,WTW,BRO,WEC,FITB,TRGP,DOV,VLTO,DLTR,KEYS,MTB,AWK,EQR,IFF,WDC,WST,PHM,ZBH,HPE,NTAP,BR,IRM,CAH,DTE,ETR,NVR,STT,STE,TER,APTV,FE,ROL,LYV,HUBB,WY,PTC,BF-B,AXON,BALL,TSN,PPL,INVH,STLD,TYL,BLDR,K,ARE,LDOS,WRB,ES,GPC,SBAC,CTRA,WAT,HBAN,CCL,STX,MOH,MKC,PFG,ALGN,HRL,VTR,CBOE,TDY,AEE,WBD,CNP,COO,CPAY,OMC,CINF,ULTA,CMS,AVY,NRG,EQT,DRI,J,DPZ,RF,SYF,BAX,ESS,HOLX,VRSN,NTRS,ENPH,EG,UAL,ATO,ILMN,TXT,LH,ZBRA,CE,EXPD,FDS,L,PKG,CLX,IEX,JBHT,CFG,LUV,MAA,IP,DGX,GEN,BBY,NWS,NWSA,MAS,FOX,FOXA,ALB,AES,SWKS,BG,UDR,EXPE,CAG,JBL,MRO,AMCR,AKAM,SNA,CF,WRK,RVTY,POOL,TRMB,WBA,PNR,KEY,NDSN,CPB,DOC,SWK,HST,INCY,LW,LNT,TECH,PODD,NI,MGM,KIM,AOS,VTRS,JKHY,EVRG,BEN,DVA,IPG,UHS,EMN,SJM,LKQ,TAP,JNPR,CRL,CPT,REG,KMX,APA,RL,BBWI,ALLE,WYNN,BXP,EPAM,SOLV,CHRW,HII,FFIV,MOS,CTLT,PAYC,TFX,TPR,QRVO,HSIC,AAL,GNRC,DAY,AIZ,PNW,HAS,PARA,MKTX,FRT,BIO,BWA,MTCH,FMC,GL,MHK,CZR,ETSY,IVZ,RHI,NCLH,CMA\n",
      "https://data.alpaca.markets/v1beta1/news 50\n",
      "https://data.alpaca.markets/v1beta1/news 50\n",
      "https://data.alpaca.markets/v1beta1/news 50\n",
      "https://data.alpaca.markets/v1beta1/news 50\n",
      "https://data.alpaca.markets/v1beta1/news 50\n",
      "https://data.alpaca.markets/v1beta1/news 50\n",
      "https://data.alpaca.markets/v1beta1/news 50\n",
      "https://data.alpaca.markets/v1beta1/news 50\n",
      "https://data.alpaca.markets/v1beta1/news 50\n",
      "https://data.alpaca.markets/v1beta1/news 50\n",
      "https://data.alpaca.markets/v1beta1/news 50\n",
      "https://data.alpaca.markets/v1beta1/news 50\n",
      "https://data.alpaca.markets/v1beta1/news 50\n",
      "https://data.alpaca.markets/v1beta1/news 50\n",
      "https://data.alpaca.markets/v1beta1/news 50\n",
      "https://data.alpaca.markets/v1beta1/news 50\n",
      "https://data.alpaca.markets/v1beta1/news 50\n"
     ]
    },
    {
     "name": "stderr",
     "output_type": "stream",
     "text": [
      " 67%|██████▋   | 100/150 [06:42<04:43,  5.68s/it]"
     ]
    },
    {
     "name": "stdout",
     "output_type": "stream",
     "text": [
      "https://data.alpaca.markets/v1beta1/news 8\n",
      "error2\n",
      "Number of news articles: 858\n",
      "Fetching news for date: 2020-11-25\n",
      "start and end news collection 2020-11-18 2020-11-24\n",
      "length of ticker list 503\n",
      "MSFT,AAPL,NVDA,GOOG,GOOGL,AMZN,META,BRK-B,LLY,AVGO,JPM,TSLA,V,WMT,XOM,UNH,MA,PG,COST,JNJ,ORCL,MRK,HD,BAC,CVX,NFLX,ABBV,AMD,KO,CRM,PEP,QCOM,TMO,ADBE,WFC,LIN,DHR,TMUS,ACN,CSCO,MCD,DIS,GE,AMAT,TXN,ABT,AXP,CAT,INTU,VZ,AMGN,PFE,MS,NEE,IBM,PM,NOW,CMCSA,BX,GS,ISRG,MU,UNP,RTX,NKE,COP,SPGI,ETN,UBER,SCHW,INTC,HON,BKNG,SYK,LRCX,T,LOW,C,ELV,PGR,UPS,VRTX,BLK,TJX,ADI,LMT,BSX,REGN,MDT,CB,BA,KLAC,DE,PANW,MMC,ADP,PLD,ANET,CI,ABNB,MDLZ,SNPS,SBUX,FI,AMT,CMG,SO,WM,BMY,HCA,GD,GILD,APH,CDNS,DUK,ICE,MO,ZTS,CME,SHW,CL,TT,TDG,MCO,FCX,MCK,EQIX,CEG,ITW,NXPI,EOG,CVS,CTAS,NOC,PH,MAR,TGT,ECL,BDX,SLB,CSX,EMR,PYPL,MRNA,USB,MPC,PNC,AON,FDX,MSI,PSX,WELL,CARR,RSG,APD,ROP,ORLY,PCAR,SPG,MNST,MMM,AJG,OXY,VLO,EW,MCHP,COF,CPRT,AIG,SMCI,MET,TFC,NSC,HLT,DXCM,GM,AFL,JCI,WMB,TRV,GEV,NEM,F,PCG,SRE,AZO,PSA,ROST,DHI,GWW,DLR,OKE,AEP,FTNT,HES,KDP,TEL,ADSK,STZ,O,URI,EL,PAYX,KMB,D,BK,A,AMP,COR,KHC,ALL,FIS,LEN,PRU,IDXX,CCI,LHX,KMI,HUM,IQV,PWR,NUE,DOW,AME,HSY,CNC,OTIS,CHTR,MSCI,CMI,ACGL,YUM,CTVA,GIS,KR,IR,RCL,LULU,FAST,ODFL,PEG,KVUE,EXC,MPWR,GEHC,SYY,EA,VRSK,NDAQ,MLM,VST,CSGP,XYL,HWM,FANG,VMC,FICO,IT,CTSH,DD,DAL,LVS,ED,BKR,LYB,HPQ,HAL,DG,BIIB,MTD,GRMN,EXR,RMD,ON,GLW,CDW,DFS,PPG,DVN,TSCO,ROK,HIG,WAB,ADM,XEL,EFX,FSLR,VICI,ANSS,EIX,AVB,EBAY,CBRE,FTV,DECK,TTWO,TROW,GPN,RJF,CHD,WTW,BRO,WEC,FITB,TRGP,DOV,VLTO,DLTR,KEYS,MTB,AWK,EQR,IFF,WDC,WST,PHM,ZBH,HPE,NTAP,BR,IRM,CAH,DTE,ETR,NVR,STT,STE,TER,APTV,FE,ROL,LYV,HUBB,WY,PTC,BF-B,AXON,BALL,TSN,PPL,INVH,STLD,TYL,BLDR,K,ARE,LDOS,WRB,ES,GPC,SBAC,CTRA,WAT,HBAN,CCL,STX,MOH,MKC,PFG,ALGN,HRL,VTR,CBOE,TDY,AEE,WBD,CNP,COO,CPAY,OMC,CINF,ULTA,CMS,AVY,NRG,EQT,DRI,J,DPZ,RF,SYF,BAX,ESS,HOLX,VRSN,NTRS,ENPH,EG,UAL,ATO,ILMN,TXT,LH,ZBRA,CE,EXPD,FDS,L,PKG,CLX,IEX,JBHT,CFG,LUV,MAA,IP,DGX,GEN,BBY,NWS,NWSA,MAS,FOX,FOXA,ALB,AES,SWKS,BG,UDR,EXPE,CAG,JBL,MRO,AMCR,AKAM,SNA,CF,WRK,RVTY,POOL,TRMB,WBA,PNR,KEY,NDSN,CPB,DOC,SWK,HST,INCY,LW,LNT,TECH,PODD,NI,MGM,KIM,AOS,VTRS,JKHY,EVRG,BEN,DVA,IPG,UHS,EMN,SJM,LKQ,TAP,JNPR,CRL,CPT,REG,KMX,APA,RL,BBWI,ALLE,WYNN,BXP,EPAM,SOLV,CHRW,HII,FFIV,MOS,CTLT,PAYC,TFX,TPR,QRVO,HSIC,AAL,GNRC,DAY,AIZ,PNW,HAS,PARA,MKTX,FRT,BIO,BWA,MTCH,FMC,GL,MHK,CZR,ETSY,IVZ,RHI,NCLH,CMA\n",
      "https://data.alpaca.markets/v1beta1/news 50\n",
      "https://data.alpaca.markets/v1beta1/news 50\n",
      "https://data.alpaca.markets/v1beta1/news 50\n",
      "https://data.alpaca.markets/v1beta1/news 50\n",
      "https://data.alpaca.markets/v1beta1/news 50\n",
      "https://data.alpaca.markets/v1beta1/news 50\n",
      "https://data.alpaca.markets/v1beta1/news 50\n",
      "https://data.alpaca.markets/v1beta1/news 50\n",
      "https://data.alpaca.markets/v1beta1/news 50\n",
      "https://data.alpaca.markets/v1beta1/news 50\n",
      "https://data.alpaca.markets/v1beta1/news 50\n",
      "https://data.alpaca.markets/v1beta1/news 50\n",
      "https://data.alpaca.markets/v1beta1/news 50\n",
      "https://data.alpaca.markets/v1beta1/news 50\n"
     ]
    },
    {
     "name": "stderr",
     "output_type": "stream",
     "text": [
      " 67%|██████▋   | 101/150 [06:48<04:41,  5.74s/it]"
     ]
    },
    {
     "name": "stdout",
     "output_type": "stream",
     "text": [
      "https://data.alpaca.markets/v1beta1/news 15\n",
      "error2\n",
      "Number of news articles: 715\n",
      "Fetching news for date: 2020-12-08\n",
      "start and end news collection 2020-12-01 2020-12-07\n",
      "length of ticker list 503\n",
      "MSFT,AAPL,NVDA,GOOG,GOOGL,AMZN,META,BRK-B,LLY,AVGO,JPM,TSLA,V,WMT,XOM,UNH,MA,PG,COST,JNJ,ORCL,MRK,HD,BAC,CVX,NFLX,ABBV,AMD,KO,CRM,PEP,QCOM,TMO,ADBE,WFC,LIN,DHR,TMUS,ACN,CSCO,MCD,DIS,GE,AMAT,TXN,ABT,AXP,CAT,INTU,VZ,AMGN,PFE,MS,NEE,IBM,PM,NOW,CMCSA,BX,GS,ISRG,MU,UNP,RTX,NKE,COP,SPGI,ETN,UBER,SCHW,INTC,HON,BKNG,SYK,LRCX,T,LOW,C,ELV,PGR,UPS,VRTX,BLK,TJX,ADI,LMT,BSX,REGN,MDT,CB,BA,KLAC,DE,PANW,MMC,ADP,PLD,ANET,CI,ABNB,MDLZ,SNPS,SBUX,FI,AMT,CMG,SO,WM,BMY,HCA,GD,GILD,APH,CDNS,DUK,ICE,MO,ZTS,CME,SHW,CL,TT,TDG,MCO,FCX,MCK,EQIX,CEG,ITW,NXPI,EOG,CVS,CTAS,NOC,PH,MAR,TGT,ECL,BDX,SLB,CSX,EMR,PYPL,MRNA,USB,MPC,PNC,AON,FDX,MSI,PSX,WELL,CARR,RSG,APD,ROP,ORLY,PCAR,SPG,MNST,MMM,AJG,OXY,VLO,EW,MCHP,COF,CPRT,AIG,SMCI,MET,TFC,NSC,HLT,DXCM,GM,AFL,JCI,WMB,TRV,GEV,NEM,F,PCG,SRE,AZO,PSA,ROST,DHI,GWW,DLR,OKE,AEP,FTNT,HES,KDP,TEL,ADSK,STZ,O,URI,EL,PAYX,KMB,D,BK,A,AMP,COR,KHC,ALL,FIS,LEN,PRU,IDXX,CCI,LHX,KMI,HUM,IQV,PWR,NUE,DOW,AME,HSY,CNC,OTIS,CHTR,MSCI,CMI,ACGL,YUM,CTVA,GIS,KR,IR,RCL,LULU,FAST,ODFL,PEG,KVUE,EXC,MPWR,GEHC,SYY,EA,VRSK,NDAQ,MLM,VST,CSGP,XYL,HWM,FANG,VMC,FICO,IT,CTSH,DD,DAL,LVS,ED,BKR,LYB,HPQ,HAL,DG,BIIB,MTD,GRMN,EXR,RMD,ON,GLW,CDW,DFS,PPG,DVN,TSCO,ROK,HIG,WAB,ADM,XEL,EFX,FSLR,VICI,ANSS,EIX,AVB,EBAY,CBRE,FTV,DECK,TTWO,TROW,GPN,RJF,CHD,WTW,BRO,WEC,FITB,TRGP,DOV,VLTO,DLTR,KEYS,MTB,AWK,EQR,IFF,WDC,WST,PHM,ZBH,HPE,NTAP,BR,IRM,CAH,DTE,ETR,NVR,STT,STE,TER,APTV,FE,ROL,LYV,HUBB,WY,PTC,BF-B,AXON,BALL,TSN,PPL,INVH,STLD,TYL,BLDR,K,ARE,LDOS,WRB,ES,GPC,SBAC,CTRA,WAT,HBAN,CCL,STX,MOH,MKC,PFG,ALGN,HRL,VTR,CBOE,TDY,AEE,WBD,CNP,COO,CPAY,OMC,CINF,ULTA,CMS,AVY,NRG,EQT,DRI,J,DPZ,RF,SYF,BAX,ESS,HOLX,VRSN,NTRS,ENPH,EG,UAL,ATO,ILMN,TXT,LH,ZBRA,CE,EXPD,FDS,L,PKG,CLX,IEX,JBHT,CFG,LUV,MAA,IP,DGX,GEN,BBY,NWS,NWSA,MAS,FOX,FOXA,ALB,AES,SWKS,BG,UDR,EXPE,CAG,JBL,MRO,AMCR,AKAM,SNA,CF,WRK,RVTY,POOL,TRMB,WBA,PNR,KEY,NDSN,CPB,DOC,SWK,HST,INCY,LW,LNT,TECH,PODD,NI,MGM,KIM,AOS,VTRS,JKHY,EVRG,BEN,DVA,IPG,UHS,EMN,SJM,LKQ,TAP,JNPR,CRL,CPT,REG,KMX,APA,RL,BBWI,ALLE,WYNN,BXP,EPAM,SOLV,CHRW,HII,FFIV,MOS,CTLT,PAYC,TFX,TPR,QRVO,HSIC,AAL,GNRC,DAY,AIZ,PNW,HAS,PARA,MKTX,FRT,BIO,BWA,MTCH,FMC,GL,MHK,CZR,ETSY,IVZ,RHI,NCLH,CMA\n",
      "https://data.alpaca.markets/v1beta1/news 50\n",
      "https://data.alpaca.markets/v1beta1/news 50\n",
      "https://data.alpaca.markets/v1beta1/news 50\n",
      "https://data.alpaca.markets/v1beta1/news 50\n",
      "https://data.alpaca.markets/v1beta1/news 50\n",
      "https://data.alpaca.markets/v1beta1/news 50\n",
      "https://data.alpaca.markets/v1beta1/news 50\n",
      "https://data.alpaca.markets/v1beta1/news 50\n",
      "https://data.alpaca.markets/v1beta1/news 50\n",
      "https://data.alpaca.markets/v1beta1/news 50\n",
      "https://data.alpaca.markets/v1beta1/news 50\n",
      "https://data.alpaca.markets/v1beta1/news 50\n",
      "https://data.alpaca.markets/v1beta1/news 50\n",
      "https://data.alpaca.markets/v1beta1/news 50\n"
     ]
    },
    {
     "name": "stderr",
     "output_type": "stream",
     "text": [
      " 68%|██████▊   | 102/150 [06:53<04:25,  5.54s/it]"
     ]
    },
    {
     "name": "stdout",
     "output_type": "stream",
     "text": [
      "https://data.alpaca.markets/v1beta1/news 10\n",
      "error2\n",
      "Number of news articles: 710\n",
      "Fetching news for date: 2021-01-11\n",
      "start and end news collection 2021-01-04 2021-01-10\n",
      "length of ticker list 503\n",
      "MSFT,AAPL,NVDA,GOOG,GOOGL,AMZN,META,BRK-B,LLY,AVGO,JPM,TSLA,V,WMT,XOM,UNH,MA,PG,COST,JNJ,ORCL,MRK,HD,BAC,CVX,NFLX,ABBV,AMD,KO,CRM,PEP,QCOM,TMO,ADBE,WFC,LIN,DHR,TMUS,ACN,CSCO,MCD,DIS,GE,AMAT,TXN,ABT,AXP,CAT,INTU,VZ,AMGN,PFE,MS,NEE,IBM,PM,NOW,CMCSA,BX,GS,ISRG,MU,UNP,RTX,NKE,COP,SPGI,ETN,UBER,SCHW,INTC,HON,BKNG,SYK,LRCX,T,LOW,C,ELV,PGR,UPS,VRTX,BLK,TJX,ADI,LMT,BSX,REGN,MDT,CB,BA,KLAC,DE,PANW,MMC,ADP,PLD,ANET,CI,ABNB,MDLZ,SNPS,SBUX,FI,AMT,CMG,SO,WM,BMY,HCA,GD,GILD,APH,CDNS,DUK,ICE,MO,ZTS,CME,SHW,CL,TT,TDG,MCO,FCX,MCK,EQIX,CEG,ITW,NXPI,EOG,CVS,CTAS,NOC,PH,MAR,TGT,ECL,BDX,SLB,CSX,EMR,PYPL,MRNA,USB,MPC,PNC,AON,FDX,MSI,PSX,WELL,CARR,RSG,APD,ROP,ORLY,PCAR,SPG,MNST,MMM,AJG,OXY,VLO,EW,MCHP,COF,CPRT,AIG,SMCI,MET,TFC,NSC,HLT,DXCM,GM,AFL,JCI,WMB,TRV,GEV,NEM,F,PCG,SRE,AZO,PSA,ROST,DHI,GWW,DLR,OKE,AEP,FTNT,HES,KDP,TEL,ADSK,STZ,O,URI,EL,PAYX,KMB,D,BK,A,AMP,COR,KHC,ALL,FIS,LEN,PRU,IDXX,CCI,LHX,KMI,HUM,IQV,PWR,NUE,DOW,AME,HSY,CNC,OTIS,CHTR,MSCI,CMI,ACGL,YUM,CTVA,GIS,KR,IR,RCL,LULU,FAST,ODFL,PEG,KVUE,EXC,MPWR,GEHC,SYY,EA,VRSK,NDAQ,MLM,VST,CSGP,XYL,HWM,FANG,VMC,FICO,IT,CTSH,DD,DAL,LVS,ED,BKR,LYB,HPQ,HAL,DG,BIIB,MTD,GRMN,EXR,RMD,ON,GLW,CDW,DFS,PPG,DVN,TSCO,ROK,HIG,WAB,ADM,XEL,EFX,FSLR,VICI,ANSS,EIX,AVB,EBAY,CBRE,FTV,DECK,TTWO,TROW,GPN,RJF,CHD,WTW,BRO,WEC,FITB,TRGP,DOV,VLTO,DLTR,KEYS,MTB,AWK,EQR,IFF,WDC,WST,PHM,ZBH,HPE,NTAP,BR,IRM,CAH,DTE,ETR,NVR,STT,STE,TER,APTV,FE,ROL,LYV,HUBB,WY,PTC,BF-B,AXON,BALL,TSN,PPL,INVH,STLD,TYL,BLDR,K,ARE,LDOS,WRB,ES,GPC,SBAC,CTRA,WAT,HBAN,CCL,STX,MOH,MKC,PFG,ALGN,HRL,VTR,CBOE,TDY,AEE,WBD,CNP,COO,CPAY,OMC,CINF,ULTA,CMS,AVY,NRG,EQT,DRI,J,DPZ,RF,SYF,BAX,ESS,HOLX,VRSN,NTRS,ENPH,EG,UAL,ATO,ILMN,TXT,LH,ZBRA,CE,EXPD,FDS,L,PKG,CLX,IEX,JBHT,CFG,LUV,MAA,IP,DGX,GEN,BBY,NWS,NWSA,MAS,FOX,FOXA,ALB,AES,SWKS,BG,UDR,EXPE,CAG,JBL,MRO,AMCR,AKAM,SNA,CF,WRK,RVTY,POOL,TRMB,WBA,PNR,KEY,NDSN,CPB,DOC,SWK,HST,INCY,LW,LNT,TECH,PODD,NI,MGM,KIM,AOS,VTRS,JKHY,EVRG,BEN,DVA,IPG,UHS,EMN,SJM,LKQ,TAP,JNPR,CRL,CPT,REG,KMX,APA,RL,BBWI,ALLE,WYNN,BXP,EPAM,SOLV,CHRW,HII,FFIV,MOS,CTLT,PAYC,TFX,TPR,QRVO,HSIC,AAL,GNRC,DAY,AIZ,PNW,HAS,PARA,MKTX,FRT,BIO,BWA,MTCH,FMC,GL,MHK,CZR,ETSY,IVZ,RHI,NCLH,CMA\n",
      "https://data.alpaca.markets/v1beta1/news 50\n",
      "https://data.alpaca.markets/v1beta1/news 50\n",
      "https://data.alpaca.markets/v1beta1/news 50\n",
      "https://data.alpaca.markets/v1beta1/news 50\n",
      "https://data.alpaca.markets/v1beta1/news 50\n",
      "https://data.alpaca.markets/v1beta1/news 50\n",
      "https://data.alpaca.markets/v1beta1/news 50\n",
      "https://data.alpaca.markets/v1beta1/news 50\n",
      "https://data.alpaca.markets/v1beta1/news 50\n",
      "https://data.alpaca.markets/v1beta1/news 50\n",
      "https://data.alpaca.markets/v1beta1/news 50\n",
      "https://data.alpaca.markets/v1beta1/news 50\n",
      "https://data.alpaca.markets/v1beta1/news 50\n",
      "https://data.alpaca.markets/v1beta1/news 50\n",
      "https://data.alpaca.markets/v1beta1/news 50\n",
      "https://data.alpaca.markets/v1beta1/news 50\n",
      "https://data.alpaca.markets/v1beta1/news 50\n"
     ]
    },
    {
     "name": "stderr",
     "output_type": "stream",
     "text": [
      " 69%|██████▊   | 103/150 [06:58<04:20,  5.54s/it]"
     ]
    },
    {
     "name": "stdout",
     "output_type": "stream",
     "text": [
      "https://data.alpaca.markets/v1beta1/news 10\n",
      "error2\n",
      "Number of news articles: 860\n",
      "Fetching news for date: 2021-02-02\n",
      "start and end news collection 2021-01-26 2021-02-01\n",
      "length of ticker list 503\n",
      "MSFT,AAPL,NVDA,GOOG,GOOGL,AMZN,META,BRK-B,LLY,AVGO,JPM,TSLA,V,WMT,XOM,UNH,MA,PG,COST,JNJ,ORCL,MRK,HD,BAC,CVX,NFLX,ABBV,AMD,KO,CRM,PEP,QCOM,TMO,ADBE,WFC,LIN,DHR,TMUS,ACN,CSCO,MCD,DIS,GE,AMAT,TXN,ABT,AXP,CAT,INTU,VZ,AMGN,PFE,MS,NEE,IBM,PM,NOW,CMCSA,BX,GS,ISRG,MU,UNP,RTX,NKE,COP,SPGI,ETN,UBER,SCHW,INTC,HON,BKNG,SYK,LRCX,T,LOW,C,ELV,PGR,UPS,VRTX,BLK,TJX,ADI,LMT,BSX,REGN,MDT,CB,BA,KLAC,DE,PANW,MMC,ADP,PLD,ANET,CI,ABNB,MDLZ,SNPS,SBUX,FI,AMT,CMG,SO,WM,BMY,HCA,GD,GILD,APH,CDNS,DUK,ICE,MO,ZTS,CME,SHW,CL,TT,TDG,MCO,FCX,MCK,EQIX,CEG,ITW,NXPI,EOG,CVS,CTAS,NOC,PH,MAR,TGT,ECL,BDX,SLB,CSX,EMR,PYPL,MRNA,USB,MPC,PNC,AON,FDX,MSI,PSX,WELL,CARR,RSG,APD,ROP,ORLY,PCAR,SPG,MNST,MMM,AJG,OXY,VLO,EW,MCHP,COF,CPRT,AIG,SMCI,MET,TFC,NSC,HLT,DXCM,GM,AFL,JCI,WMB,TRV,GEV,NEM,F,PCG,SRE,AZO,PSA,ROST,DHI,GWW,DLR,OKE,AEP,FTNT,HES,KDP,TEL,ADSK,STZ,O,URI,EL,PAYX,KMB,D,BK,A,AMP,COR,KHC,ALL,FIS,LEN,PRU,IDXX,CCI,LHX,KMI,HUM,IQV,PWR,NUE,DOW,AME,HSY,CNC,OTIS,CHTR,MSCI,CMI,ACGL,YUM,CTVA,GIS,KR,IR,RCL,LULU,FAST,ODFL,PEG,KVUE,EXC,MPWR,GEHC,SYY,EA,VRSK,NDAQ,MLM,VST,CSGP,XYL,HWM,FANG,VMC,FICO,IT,CTSH,DD,DAL,LVS,ED,BKR,LYB,HPQ,HAL,DG,BIIB,MTD,GRMN,EXR,RMD,ON,GLW,CDW,DFS,PPG,DVN,TSCO,ROK,HIG,WAB,ADM,XEL,EFX,FSLR,VICI,ANSS,EIX,AVB,EBAY,CBRE,FTV,DECK,TTWO,TROW,GPN,RJF,CHD,WTW,BRO,WEC,FITB,TRGP,DOV,VLTO,DLTR,KEYS,MTB,AWK,EQR,IFF,WDC,WST,PHM,ZBH,HPE,NTAP,BR,IRM,CAH,DTE,ETR,NVR,STT,STE,TER,APTV,FE,ROL,LYV,HUBB,WY,PTC,BF-B,AXON,BALL,TSN,PPL,INVH,STLD,TYL,BLDR,K,ARE,LDOS,WRB,ES,GPC,SBAC,CTRA,WAT,HBAN,CCL,STX,MOH,MKC,PFG,ALGN,HRL,VTR,CBOE,TDY,AEE,WBD,CNP,COO,CPAY,OMC,CINF,ULTA,CMS,AVY,NRG,EQT,DRI,J,DPZ,RF,SYF,BAX,ESS,HOLX,VRSN,NTRS,ENPH,EG,UAL,ATO,ILMN,TXT,LH,ZBRA,CE,EXPD,FDS,L,PKG,CLX,IEX,JBHT,CFG,LUV,MAA,IP,DGX,GEN,BBY,NWS,NWSA,MAS,FOX,FOXA,ALB,AES,SWKS,BG,UDR,EXPE,CAG,JBL,MRO,AMCR,AKAM,SNA,CF,WRK,RVTY,POOL,TRMB,WBA,PNR,KEY,NDSN,CPB,DOC,SWK,HST,INCY,LW,LNT,TECH,PODD,NI,MGM,KIM,AOS,VTRS,JKHY,EVRG,BEN,DVA,IPG,UHS,EMN,SJM,LKQ,TAP,JNPR,CRL,CPT,REG,KMX,APA,RL,BBWI,ALLE,WYNN,BXP,EPAM,SOLV,CHRW,HII,FFIV,MOS,CTLT,PAYC,TFX,TPR,QRVO,HSIC,AAL,GNRC,DAY,AIZ,PNW,HAS,PARA,MKTX,FRT,BIO,BWA,MTCH,FMC,GL,MHK,CZR,ETSY,IVZ,RHI,NCLH,CMA\n",
      "https://data.alpaca.markets/v1beta1/news 50\n",
      "https://data.alpaca.markets/v1beta1/news 50\n",
      "https://data.alpaca.markets/v1beta1/news 50\n",
      "https://data.alpaca.markets/v1beta1/news 50\n",
      "https://data.alpaca.markets/v1beta1/news 50\n",
      "https://data.alpaca.markets/v1beta1/news 50\n",
      "https://data.alpaca.markets/v1beta1/news 50\n",
      "https://data.alpaca.markets/v1beta1/news 50\n",
      "https://data.alpaca.markets/v1beta1/news 50\n",
      "https://data.alpaca.markets/v1beta1/news 50\n",
      "https://data.alpaca.markets/v1beta1/news 50\n",
      "https://data.alpaca.markets/v1beta1/news 50\n",
      "https://data.alpaca.markets/v1beta1/news 50\n",
      "https://data.alpaca.markets/v1beta1/news 50\n",
      "https://data.alpaca.markets/v1beta1/news 50\n",
      "https://data.alpaca.markets/v1beta1/news 50\n",
      "https://data.alpaca.markets/v1beta1/news 50\n",
      "https://data.alpaca.markets/v1beta1/news 50\n",
      "https://data.alpaca.markets/v1beta1/news 50\n",
      "https://data.alpaca.markets/v1beta1/news 50\n",
      "https://data.alpaca.markets/v1beta1/news 50\n",
      "https://data.alpaca.markets/v1beta1/news 50\n"
     ]
    },
    {
     "name": "stderr",
     "output_type": "stream",
     "text": [
      " 69%|██████▉   | 104/150 [07:06<04:39,  6.07s/it]"
     ]
    },
    {
     "name": "stdout",
     "output_type": "stream",
     "text": [
      "https://data.alpaca.markets/v1beta1/news 21\n",
      "error2\n",
      "Number of news articles: 1121\n",
      "Fetching news for date: 2021-03-02\n",
      "start and end news collection 2021-02-23 2021-03-01\n",
      "length of ticker list 503\n",
      "MSFT,AAPL,NVDA,GOOG,GOOGL,AMZN,META,BRK-B,LLY,AVGO,JPM,TSLA,V,WMT,XOM,UNH,MA,PG,COST,JNJ,ORCL,MRK,HD,BAC,CVX,NFLX,ABBV,AMD,KO,CRM,PEP,QCOM,TMO,ADBE,WFC,LIN,DHR,TMUS,ACN,CSCO,MCD,DIS,GE,AMAT,TXN,ABT,AXP,CAT,INTU,VZ,AMGN,PFE,MS,NEE,IBM,PM,NOW,CMCSA,BX,GS,ISRG,MU,UNP,RTX,NKE,COP,SPGI,ETN,UBER,SCHW,INTC,HON,BKNG,SYK,LRCX,T,LOW,C,ELV,PGR,UPS,VRTX,BLK,TJX,ADI,LMT,BSX,REGN,MDT,CB,BA,KLAC,DE,PANW,MMC,ADP,PLD,ANET,CI,ABNB,MDLZ,SNPS,SBUX,FI,AMT,CMG,SO,WM,BMY,HCA,GD,GILD,APH,CDNS,DUK,ICE,MO,ZTS,CME,SHW,CL,TT,TDG,MCO,FCX,MCK,EQIX,CEG,ITW,NXPI,EOG,CVS,CTAS,NOC,PH,MAR,TGT,ECL,BDX,SLB,CSX,EMR,PYPL,MRNA,USB,MPC,PNC,AON,FDX,MSI,PSX,WELL,CARR,RSG,APD,ROP,ORLY,PCAR,SPG,MNST,MMM,AJG,OXY,VLO,EW,MCHP,COF,CPRT,AIG,SMCI,MET,TFC,NSC,HLT,DXCM,GM,AFL,JCI,WMB,TRV,GEV,NEM,F,PCG,SRE,AZO,PSA,ROST,DHI,GWW,DLR,OKE,AEP,FTNT,HES,KDP,TEL,ADSK,STZ,O,URI,EL,PAYX,KMB,D,BK,A,AMP,COR,KHC,ALL,FIS,LEN,PRU,IDXX,CCI,LHX,KMI,HUM,IQV,PWR,NUE,DOW,AME,HSY,CNC,OTIS,CHTR,MSCI,CMI,ACGL,YUM,CTVA,GIS,KR,IR,RCL,LULU,FAST,ODFL,PEG,KVUE,EXC,MPWR,GEHC,SYY,EA,VRSK,NDAQ,MLM,VST,CSGP,XYL,HWM,FANG,VMC,FICO,IT,CTSH,DD,DAL,LVS,ED,BKR,LYB,HPQ,HAL,DG,BIIB,MTD,GRMN,EXR,RMD,ON,GLW,CDW,DFS,PPG,DVN,TSCO,ROK,HIG,WAB,ADM,XEL,EFX,FSLR,VICI,ANSS,EIX,AVB,EBAY,CBRE,FTV,DECK,TTWO,TROW,GPN,RJF,CHD,WTW,BRO,WEC,FITB,TRGP,DOV,VLTO,DLTR,KEYS,MTB,AWK,EQR,IFF,WDC,WST,PHM,ZBH,HPE,NTAP,BR,IRM,CAH,DTE,ETR,NVR,STT,STE,TER,APTV,FE,ROL,LYV,HUBB,WY,PTC,BF-B,AXON,BALL,TSN,PPL,INVH,STLD,TYL,BLDR,K,ARE,LDOS,WRB,ES,GPC,SBAC,CTRA,WAT,HBAN,CCL,STX,MOH,MKC,PFG,ALGN,HRL,VTR,CBOE,TDY,AEE,WBD,CNP,COO,CPAY,OMC,CINF,ULTA,CMS,AVY,NRG,EQT,DRI,J,DPZ,RF,SYF,BAX,ESS,HOLX,VRSN,NTRS,ENPH,EG,UAL,ATO,ILMN,TXT,LH,ZBRA,CE,EXPD,FDS,L,PKG,CLX,IEX,JBHT,CFG,LUV,MAA,IP,DGX,GEN,BBY,NWS,NWSA,MAS,FOX,FOXA,ALB,AES,SWKS,BG,UDR,EXPE,CAG,JBL,MRO,AMCR,AKAM,SNA,CF,WRK,RVTY,POOL,TRMB,WBA,PNR,KEY,NDSN,CPB,DOC,SWK,HST,INCY,LW,LNT,TECH,PODD,NI,MGM,KIM,AOS,VTRS,JKHY,EVRG,BEN,DVA,IPG,UHS,EMN,SJM,LKQ,TAP,JNPR,CRL,CPT,REG,KMX,APA,RL,BBWI,ALLE,WYNN,BXP,EPAM,SOLV,CHRW,HII,FFIV,MOS,CTLT,PAYC,TFX,TPR,QRVO,HSIC,AAL,GNRC,DAY,AIZ,PNW,HAS,PARA,MKTX,FRT,BIO,BWA,MTCH,FMC,GL,MHK,CZR,ETSY,IVZ,RHI,NCLH,CMA\n",
      "https://data.alpaca.markets/v1beta1/news 50\n",
      "https://data.alpaca.markets/v1beta1/news 50\n",
      "https://data.alpaca.markets/v1beta1/news 50\n",
      "https://data.alpaca.markets/v1beta1/news 50\n",
      "https://data.alpaca.markets/v1beta1/news 50\n",
      "https://data.alpaca.markets/v1beta1/news 50\n",
      "https://data.alpaca.markets/v1beta1/news 50\n",
      "https://data.alpaca.markets/v1beta1/news 50\n",
      "https://data.alpaca.markets/v1beta1/news 50\n",
      "https://data.alpaca.markets/v1beta1/news 50\n",
      "https://data.alpaca.markets/v1beta1/news 50\n",
      "https://data.alpaca.markets/v1beta1/news 50\n",
      "https://data.alpaca.markets/v1beta1/news 50\n",
      "https://data.alpaca.markets/v1beta1/news 50\n",
      "https://data.alpaca.markets/v1beta1/news 50\n",
      "https://data.alpaca.markets/v1beta1/news 50\n",
      "https://data.alpaca.markets/v1beta1/news 50\n",
      "https://data.alpaca.markets/v1beta1/news 50\n"
     ]
    },
    {
     "name": "stderr",
     "output_type": "stream",
     "text": [
      " 70%|███████   | 105/150 [07:12<04:35,  6.13s/it]"
     ]
    },
    {
     "name": "stdout",
     "output_type": "stream",
     "text": [
      "https://data.alpaca.markets/v1beta1/news 23\n",
      "error2\n",
      "Number of news articles: 923\n",
      "Fetching news for date: 2021-03-08\n",
      "start and end news collection 2021-03-01 2021-03-07\n",
      "length of ticker list 503\n",
      "MSFT,AAPL,NVDA,GOOG,GOOGL,AMZN,META,BRK-B,LLY,AVGO,JPM,TSLA,V,WMT,XOM,UNH,MA,PG,COST,JNJ,ORCL,MRK,HD,BAC,CVX,NFLX,ABBV,AMD,KO,CRM,PEP,QCOM,TMO,ADBE,WFC,LIN,DHR,TMUS,ACN,CSCO,MCD,DIS,GE,AMAT,TXN,ABT,AXP,CAT,INTU,VZ,AMGN,PFE,MS,NEE,IBM,PM,NOW,CMCSA,BX,GS,ISRG,MU,UNP,RTX,NKE,COP,SPGI,ETN,UBER,SCHW,INTC,HON,BKNG,SYK,LRCX,T,LOW,C,ELV,PGR,UPS,VRTX,BLK,TJX,ADI,LMT,BSX,REGN,MDT,CB,BA,KLAC,DE,PANW,MMC,ADP,PLD,ANET,CI,ABNB,MDLZ,SNPS,SBUX,FI,AMT,CMG,SO,WM,BMY,HCA,GD,GILD,APH,CDNS,DUK,ICE,MO,ZTS,CME,SHW,CL,TT,TDG,MCO,FCX,MCK,EQIX,CEG,ITW,NXPI,EOG,CVS,CTAS,NOC,PH,MAR,TGT,ECL,BDX,SLB,CSX,EMR,PYPL,MRNA,USB,MPC,PNC,AON,FDX,MSI,PSX,WELL,CARR,RSG,APD,ROP,ORLY,PCAR,SPG,MNST,MMM,AJG,OXY,VLO,EW,MCHP,COF,CPRT,AIG,SMCI,MET,TFC,NSC,HLT,DXCM,GM,AFL,JCI,WMB,TRV,GEV,NEM,F,PCG,SRE,AZO,PSA,ROST,DHI,GWW,DLR,OKE,AEP,FTNT,HES,KDP,TEL,ADSK,STZ,O,URI,EL,PAYX,KMB,D,BK,A,AMP,COR,KHC,ALL,FIS,LEN,PRU,IDXX,CCI,LHX,KMI,HUM,IQV,PWR,NUE,DOW,AME,HSY,CNC,OTIS,CHTR,MSCI,CMI,ACGL,YUM,CTVA,GIS,KR,IR,RCL,LULU,FAST,ODFL,PEG,KVUE,EXC,MPWR,GEHC,SYY,EA,VRSK,NDAQ,MLM,VST,CSGP,XYL,HWM,FANG,VMC,FICO,IT,CTSH,DD,DAL,LVS,ED,BKR,LYB,HPQ,HAL,DG,BIIB,MTD,GRMN,EXR,RMD,ON,GLW,CDW,DFS,PPG,DVN,TSCO,ROK,HIG,WAB,ADM,XEL,EFX,FSLR,VICI,ANSS,EIX,AVB,EBAY,CBRE,FTV,DECK,TTWO,TROW,GPN,RJF,CHD,WTW,BRO,WEC,FITB,TRGP,DOV,VLTO,DLTR,KEYS,MTB,AWK,EQR,IFF,WDC,WST,PHM,ZBH,HPE,NTAP,BR,IRM,CAH,DTE,ETR,NVR,STT,STE,TER,APTV,FE,ROL,LYV,HUBB,WY,PTC,BF-B,AXON,BALL,TSN,PPL,INVH,STLD,TYL,BLDR,K,ARE,LDOS,WRB,ES,GPC,SBAC,CTRA,WAT,HBAN,CCL,STX,MOH,MKC,PFG,ALGN,HRL,VTR,CBOE,TDY,AEE,WBD,CNP,COO,CPAY,OMC,CINF,ULTA,CMS,AVY,NRG,EQT,DRI,J,DPZ,RF,SYF,BAX,ESS,HOLX,VRSN,NTRS,ENPH,EG,UAL,ATO,ILMN,TXT,LH,ZBRA,CE,EXPD,FDS,L,PKG,CLX,IEX,JBHT,CFG,LUV,MAA,IP,DGX,GEN,BBY,NWS,NWSA,MAS,FOX,FOXA,ALB,AES,SWKS,BG,UDR,EXPE,CAG,JBL,MRO,AMCR,AKAM,SNA,CF,WRK,RVTY,POOL,TRMB,WBA,PNR,KEY,NDSN,CPB,DOC,SWK,HST,INCY,LW,LNT,TECH,PODD,NI,MGM,KIM,AOS,VTRS,JKHY,EVRG,BEN,DVA,IPG,UHS,EMN,SJM,LKQ,TAP,JNPR,CRL,CPT,REG,KMX,APA,RL,BBWI,ALLE,WYNN,BXP,EPAM,SOLV,CHRW,HII,FFIV,MOS,CTLT,PAYC,TFX,TPR,QRVO,HSIC,AAL,GNRC,DAY,AIZ,PNW,HAS,PARA,MKTX,FRT,BIO,BWA,MTCH,FMC,GL,MHK,CZR,ETSY,IVZ,RHI,NCLH,CMA\n",
      "https://data.alpaca.markets/v1beta1/news 50\n",
      "https://data.alpaca.markets/v1beta1/news 50\n",
      "https://data.alpaca.markets/v1beta1/news 50\n",
      "https://data.alpaca.markets/v1beta1/news 50\n",
      "https://data.alpaca.markets/v1beta1/news 50\n",
      "https://data.alpaca.markets/v1beta1/news 50\n",
      "https://data.alpaca.markets/v1beta1/news 50\n",
      "https://data.alpaca.markets/v1beta1/news 50\n",
      "https://data.alpaca.markets/v1beta1/news 50\n",
      "https://data.alpaca.markets/v1beta1/news 50\n",
      "https://data.alpaca.markets/v1beta1/news 50\n",
      "https://data.alpaca.markets/v1beta1/news 50\n",
      "https://data.alpaca.markets/v1beta1/news 50\n",
      "https://data.alpaca.markets/v1beta1/news 50\n",
      "https://data.alpaca.markets/v1beta1/news 50\n",
      "https://data.alpaca.markets/v1beta1/news 50\n",
      "https://data.alpaca.markets/v1beta1/news 50\n"
     ]
    },
    {
     "name": "stderr",
     "output_type": "stream",
     "text": [
      " 71%|███████   | 106/150 [07:18<04:26,  6.06s/it]"
     ]
    },
    {
     "name": "stdout",
     "output_type": "stream",
     "text": [
      "https://data.alpaca.markets/v1beta1/news 41\n",
      "error2\n",
      "Number of news articles: 891\n",
      "Fetching news for date: 2021-03-10\n",
      "start and end news collection 2021-03-03 2021-03-09\n",
      "length of ticker list 503\n",
      "MSFT,AAPL,NVDA,GOOG,GOOGL,AMZN,META,BRK-B,LLY,AVGO,JPM,TSLA,V,WMT,XOM,UNH,MA,PG,COST,JNJ,ORCL,MRK,HD,BAC,CVX,NFLX,ABBV,AMD,KO,CRM,PEP,QCOM,TMO,ADBE,WFC,LIN,DHR,TMUS,ACN,CSCO,MCD,DIS,GE,AMAT,TXN,ABT,AXP,CAT,INTU,VZ,AMGN,PFE,MS,NEE,IBM,PM,NOW,CMCSA,BX,GS,ISRG,MU,UNP,RTX,NKE,COP,SPGI,ETN,UBER,SCHW,INTC,HON,BKNG,SYK,LRCX,T,LOW,C,ELV,PGR,UPS,VRTX,BLK,TJX,ADI,LMT,BSX,REGN,MDT,CB,BA,KLAC,DE,PANW,MMC,ADP,PLD,ANET,CI,ABNB,MDLZ,SNPS,SBUX,FI,AMT,CMG,SO,WM,BMY,HCA,GD,GILD,APH,CDNS,DUK,ICE,MO,ZTS,CME,SHW,CL,TT,TDG,MCO,FCX,MCK,EQIX,CEG,ITW,NXPI,EOG,CVS,CTAS,NOC,PH,MAR,TGT,ECL,BDX,SLB,CSX,EMR,PYPL,MRNA,USB,MPC,PNC,AON,FDX,MSI,PSX,WELL,CARR,RSG,APD,ROP,ORLY,PCAR,SPG,MNST,MMM,AJG,OXY,VLO,EW,MCHP,COF,CPRT,AIG,SMCI,MET,TFC,NSC,HLT,DXCM,GM,AFL,JCI,WMB,TRV,GEV,NEM,F,PCG,SRE,AZO,PSA,ROST,DHI,GWW,DLR,OKE,AEP,FTNT,HES,KDP,TEL,ADSK,STZ,O,URI,EL,PAYX,KMB,D,BK,A,AMP,COR,KHC,ALL,FIS,LEN,PRU,IDXX,CCI,LHX,KMI,HUM,IQV,PWR,NUE,DOW,AME,HSY,CNC,OTIS,CHTR,MSCI,CMI,ACGL,YUM,CTVA,GIS,KR,IR,RCL,LULU,FAST,ODFL,PEG,KVUE,EXC,MPWR,GEHC,SYY,EA,VRSK,NDAQ,MLM,VST,CSGP,XYL,HWM,FANG,VMC,FICO,IT,CTSH,DD,DAL,LVS,ED,BKR,LYB,HPQ,HAL,DG,BIIB,MTD,GRMN,EXR,RMD,ON,GLW,CDW,DFS,PPG,DVN,TSCO,ROK,HIG,WAB,ADM,XEL,EFX,FSLR,VICI,ANSS,EIX,AVB,EBAY,CBRE,FTV,DECK,TTWO,TROW,GPN,RJF,CHD,WTW,BRO,WEC,FITB,TRGP,DOV,VLTO,DLTR,KEYS,MTB,AWK,EQR,IFF,WDC,WST,PHM,ZBH,HPE,NTAP,BR,IRM,CAH,DTE,ETR,NVR,STT,STE,TER,APTV,FE,ROL,LYV,HUBB,WY,PTC,BF-B,AXON,BALL,TSN,PPL,INVH,STLD,TYL,BLDR,K,ARE,LDOS,WRB,ES,GPC,SBAC,CTRA,WAT,HBAN,CCL,STX,MOH,MKC,PFG,ALGN,HRL,VTR,CBOE,TDY,AEE,WBD,CNP,COO,CPAY,OMC,CINF,ULTA,CMS,AVY,NRG,EQT,DRI,J,DPZ,RF,SYF,BAX,ESS,HOLX,VRSN,NTRS,ENPH,EG,UAL,ATO,ILMN,TXT,LH,ZBRA,CE,EXPD,FDS,L,PKG,CLX,IEX,JBHT,CFG,LUV,MAA,IP,DGX,GEN,BBY,NWS,NWSA,MAS,FOX,FOXA,ALB,AES,SWKS,BG,UDR,EXPE,CAG,JBL,MRO,AMCR,AKAM,SNA,CF,WRK,RVTY,POOL,TRMB,WBA,PNR,KEY,NDSN,CPB,DOC,SWK,HST,INCY,LW,LNT,TECH,PODD,NI,MGM,KIM,AOS,VTRS,JKHY,EVRG,BEN,DVA,IPG,UHS,EMN,SJM,LKQ,TAP,JNPR,CRL,CPT,REG,KMX,APA,RL,BBWI,ALLE,WYNN,BXP,EPAM,SOLV,CHRW,HII,FFIV,MOS,CTLT,PAYC,TFX,TPR,QRVO,HSIC,AAL,GNRC,DAY,AIZ,PNW,HAS,PARA,MKTX,FRT,BIO,BWA,MTCH,FMC,GL,MHK,CZR,ETSY,IVZ,RHI,NCLH,CMA\n",
      "https://data.alpaca.markets/v1beta1/news 50\n",
      "https://data.alpaca.markets/v1beta1/news 50\n",
      "https://data.alpaca.markets/v1beta1/news 50\n",
      "https://data.alpaca.markets/v1beta1/news 50\n",
      "https://data.alpaca.markets/v1beta1/news 50\n",
      "https://data.alpaca.markets/v1beta1/news 50\n",
      "https://data.alpaca.markets/v1beta1/news 50\n",
      "https://data.alpaca.markets/v1beta1/news 50\n",
      "https://data.alpaca.markets/v1beta1/news 50\n",
      "https://data.alpaca.markets/v1beta1/news 50\n",
      "https://data.alpaca.markets/v1beta1/news 50\n",
      "https://data.alpaca.markets/v1beta1/news 50\n",
      "https://data.alpaca.markets/v1beta1/news 50\n",
      "https://data.alpaca.markets/v1beta1/news 50\n"
     ]
    },
    {
     "name": "stderr",
     "output_type": "stream",
     "text": [
      " 71%|███████▏  | 107/150 [07:23<04:03,  5.67s/it]"
     ]
    },
    {
     "name": "stdout",
     "output_type": "stream",
     "text": [
      "https://data.alpaca.markets/v1beta1/news 23\n",
      "error2\n",
      "Number of news articles: 723\n",
      "Fetching news for date: 2021-03-19\n",
      "start and end news collection 2021-03-12 2021-03-18\n",
      "length of ticker list 503\n",
      "MSFT,AAPL,NVDA,GOOG,GOOGL,AMZN,META,BRK-B,LLY,AVGO,JPM,TSLA,V,WMT,XOM,UNH,MA,PG,COST,JNJ,ORCL,MRK,HD,BAC,CVX,NFLX,ABBV,AMD,KO,CRM,PEP,QCOM,TMO,ADBE,WFC,LIN,DHR,TMUS,ACN,CSCO,MCD,DIS,GE,AMAT,TXN,ABT,AXP,CAT,INTU,VZ,AMGN,PFE,MS,NEE,IBM,PM,NOW,CMCSA,BX,GS,ISRG,MU,UNP,RTX,NKE,COP,SPGI,ETN,UBER,SCHW,INTC,HON,BKNG,SYK,LRCX,T,LOW,C,ELV,PGR,UPS,VRTX,BLK,TJX,ADI,LMT,BSX,REGN,MDT,CB,BA,KLAC,DE,PANW,MMC,ADP,PLD,ANET,CI,ABNB,MDLZ,SNPS,SBUX,FI,AMT,CMG,SO,WM,BMY,HCA,GD,GILD,APH,CDNS,DUK,ICE,MO,ZTS,CME,SHW,CL,TT,TDG,MCO,FCX,MCK,EQIX,CEG,ITW,NXPI,EOG,CVS,CTAS,NOC,PH,MAR,TGT,ECL,BDX,SLB,CSX,EMR,PYPL,MRNA,USB,MPC,PNC,AON,FDX,MSI,PSX,WELL,CARR,RSG,APD,ROP,ORLY,PCAR,SPG,MNST,MMM,AJG,OXY,VLO,EW,MCHP,COF,CPRT,AIG,SMCI,MET,TFC,NSC,HLT,DXCM,GM,AFL,JCI,WMB,TRV,GEV,NEM,F,PCG,SRE,AZO,PSA,ROST,DHI,GWW,DLR,OKE,AEP,FTNT,HES,KDP,TEL,ADSK,STZ,O,URI,EL,PAYX,KMB,D,BK,A,AMP,COR,KHC,ALL,FIS,LEN,PRU,IDXX,CCI,LHX,KMI,HUM,IQV,PWR,NUE,DOW,AME,HSY,CNC,OTIS,CHTR,MSCI,CMI,ACGL,YUM,CTVA,GIS,KR,IR,RCL,LULU,FAST,ODFL,PEG,KVUE,EXC,MPWR,GEHC,SYY,EA,VRSK,NDAQ,MLM,VST,CSGP,XYL,HWM,FANG,VMC,FICO,IT,CTSH,DD,DAL,LVS,ED,BKR,LYB,HPQ,HAL,DG,BIIB,MTD,GRMN,EXR,RMD,ON,GLW,CDW,DFS,PPG,DVN,TSCO,ROK,HIG,WAB,ADM,XEL,EFX,FSLR,VICI,ANSS,EIX,AVB,EBAY,CBRE,FTV,DECK,TTWO,TROW,GPN,RJF,CHD,WTW,BRO,WEC,FITB,TRGP,DOV,VLTO,DLTR,KEYS,MTB,AWK,EQR,IFF,WDC,WST,PHM,ZBH,HPE,NTAP,BR,IRM,CAH,DTE,ETR,NVR,STT,STE,TER,APTV,FE,ROL,LYV,HUBB,WY,PTC,BF-B,AXON,BALL,TSN,PPL,INVH,STLD,TYL,BLDR,K,ARE,LDOS,WRB,ES,GPC,SBAC,CTRA,WAT,HBAN,CCL,STX,MOH,MKC,PFG,ALGN,HRL,VTR,CBOE,TDY,AEE,WBD,CNP,COO,CPAY,OMC,CINF,ULTA,CMS,AVY,NRG,EQT,DRI,J,DPZ,RF,SYF,BAX,ESS,HOLX,VRSN,NTRS,ENPH,EG,UAL,ATO,ILMN,TXT,LH,ZBRA,CE,EXPD,FDS,L,PKG,CLX,IEX,JBHT,CFG,LUV,MAA,IP,DGX,GEN,BBY,NWS,NWSA,MAS,FOX,FOXA,ALB,AES,SWKS,BG,UDR,EXPE,CAG,JBL,MRO,AMCR,AKAM,SNA,CF,WRK,RVTY,POOL,TRMB,WBA,PNR,KEY,NDSN,CPB,DOC,SWK,HST,INCY,LW,LNT,TECH,PODD,NI,MGM,KIM,AOS,VTRS,JKHY,EVRG,BEN,DVA,IPG,UHS,EMN,SJM,LKQ,TAP,JNPR,CRL,CPT,REG,KMX,APA,RL,BBWI,ALLE,WYNN,BXP,EPAM,SOLV,CHRW,HII,FFIV,MOS,CTLT,PAYC,TFX,TPR,QRVO,HSIC,AAL,GNRC,DAY,AIZ,PNW,HAS,PARA,MKTX,FRT,BIO,BWA,MTCH,FMC,GL,MHK,CZR,ETSY,IVZ,RHI,NCLH,CMA\n",
      "https://data.alpaca.markets/v1beta1/news 50\n",
      "https://data.alpaca.markets/v1beta1/news 50\n",
      "https://data.alpaca.markets/v1beta1/news 50\n",
      "https://data.alpaca.markets/v1beta1/news 50\n",
      "https://data.alpaca.markets/v1beta1/news 50\n",
      "https://data.alpaca.markets/v1beta1/news 50\n",
      "https://data.alpaca.markets/v1beta1/news 50\n",
      "https://data.alpaca.markets/v1beta1/news 50\n",
      "https://data.alpaca.markets/v1beta1/news 50\n",
      "https://data.alpaca.markets/v1beta1/news 50\n",
      "https://data.alpaca.markets/v1beta1/news 50\n",
      "https://data.alpaca.markets/v1beta1/news 50\n",
      "https://data.alpaca.markets/v1beta1/news 50\n"
     ]
    },
    {
     "name": "stderr",
     "output_type": "stream",
     "text": [
      " 72%|███████▏  | 108/150 [07:27<03:46,  5.40s/it]"
     ]
    },
    {
     "name": "stdout",
     "output_type": "stream",
     "text": [
      "https://data.alpaca.markets/v1beta1/news 34\n",
      "error2\n",
      "Number of news articles: 684\n",
      "Fetching news for date: 2021-04-08\n",
      "start and end news collection 2021-04-01 2021-04-07\n",
      "length of ticker list 503\n",
      "MSFT,AAPL,NVDA,GOOG,GOOGL,AMZN,META,BRK-B,LLY,AVGO,JPM,TSLA,V,WMT,XOM,UNH,MA,PG,COST,JNJ,ORCL,MRK,HD,BAC,CVX,NFLX,ABBV,AMD,KO,CRM,PEP,QCOM,TMO,ADBE,WFC,LIN,DHR,TMUS,ACN,CSCO,MCD,DIS,GE,AMAT,TXN,ABT,AXP,CAT,INTU,VZ,AMGN,PFE,MS,NEE,IBM,PM,NOW,CMCSA,BX,GS,ISRG,MU,UNP,RTX,NKE,COP,SPGI,ETN,UBER,SCHW,INTC,HON,BKNG,SYK,LRCX,T,LOW,C,ELV,PGR,UPS,VRTX,BLK,TJX,ADI,LMT,BSX,REGN,MDT,CB,BA,KLAC,DE,PANW,MMC,ADP,PLD,ANET,CI,ABNB,MDLZ,SNPS,SBUX,FI,AMT,CMG,SO,WM,BMY,HCA,GD,GILD,APH,CDNS,DUK,ICE,MO,ZTS,CME,SHW,CL,TT,TDG,MCO,FCX,MCK,EQIX,CEG,ITW,NXPI,EOG,CVS,CTAS,NOC,PH,MAR,TGT,ECL,BDX,SLB,CSX,EMR,PYPL,MRNA,USB,MPC,PNC,AON,FDX,MSI,PSX,WELL,CARR,RSG,APD,ROP,ORLY,PCAR,SPG,MNST,MMM,AJG,OXY,VLO,EW,MCHP,COF,CPRT,AIG,SMCI,MET,TFC,NSC,HLT,DXCM,GM,AFL,JCI,WMB,TRV,GEV,NEM,F,PCG,SRE,AZO,PSA,ROST,DHI,GWW,DLR,OKE,AEP,FTNT,HES,KDP,TEL,ADSK,STZ,O,URI,EL,PAYX,KMB,D,BK,A,AMP,COR,KHC,ALL,FIS,LEN,PRU,IDXX,CCI,LHX,KMI,HUM,IQV,PWR,NUE,DOW,AME,HSY,CNC,OTIS,CHTR,MSCI,CMI,ACGL,YUM,CTVA,GIS,KR,IR,RCL,LULU,FAST,ODFL,PEG,KVUE,EXC,MPWR,GEHC,SYY,EA,VRSK,NDAQ,MLM,VST,CSGP,XYL,HWM,FANG,VMC,FICO,IT,CTSH,DD,DAL,LVS,ED,BKR,LYB,HPQ,HAL,DG,BIIB,MTD,GRMN,EXR,RMD,ON,GLW,CDW,DFS,PPG,DVN,TSCO,ROK,HIG,WAB,ADM,XEL,EFX,FSLR,VICI,ANSS,EIX,AVB,EBAY,CBRE,FTV,DECK,TTWO,TROW,GPN,RJF,CHD,WTW,BRO,WEC,FITB,TRGP,DOV,VLTO,DLTR,KEYS,MTB,AWK,EQR,IFF,WDC,WST,PHM,ZBH,HPE,NTAP,BR,IRM,CAH,DTE,ETR,NVR,STT,STE,TER,APTV,FE,ROL,LYV,HUBB,WY,PTC,BF-B,AXON,BALL,TSN,PPL,INVH,STLD,TYL,BLDR,K,ARE,LDOS,WRB,ES,GPC,SBAC,CTRA,WAT,HBAN,CCL,STX,MOH,MKC,PFG,ALGN,HRL,VTR,CBOE,TDY,AEE,WBD,CNP,COO,CPAY,OMC,CINF,ULTA,CMS,AVY,NRG,EQT,DRI,J,DPZ,RF,SYF,BAX,ESS,HOLX,VRSN,NTRS,ENPH,EG,UAL,ATO,ILMN,TXT,LH,ZBRA,CE,EXPD,FDS,L,PKG,CLX,IEX,JBHT,CFG,LUV,MAA,IP,DGX,GEN,BBY,NWS,NWSA,MAS,FOX,FOXA,ALB,AES,SWKS,BG,UDR,EXPE,CAG,JBL,MRO,AMCR,AKAM,SNA,CF,WRK,RVTY,POOL,TRMB,WBA,PNR,KEY,NDSN,CPB,DOC,SWK,HST,INCY,LW,LNT,TECH,PODD,NI,MGM,KIM,AOS,VTRS,JKHY,EVRG,BEN,DVA,IPG,UHS,EMN,SJM,LKQ,TAP,JNPR,CRL,CPT,REG,KMX,APA,RL,BBWI,ALLE,WYNN,BXP,EPAM,SOLV,CHRW,HII,FFIV,MOS,CTLT,PAYC,TFX,TPR,QRVO,HSIC,AAL,GNRC,DAY,AIZ,PNW,HAS,PARA,MKTX,FRT,BIO,BWA,MTCH,FMC,GL,MHK,CZR,ETSY,IVZ,RHI,NCLH,CMA\n",
      "https://data.alpaca.markets/v1beta1/news 50\n",
      "https://data.alpaca.markets/v1beta1/news 50\n",
      "https://data.alpaca.markets/v1beta1/news 50\n",
      "https://data.alpaca.markets/v1beta1/news 50\n",
      "https://data.alpaca.markets/v1beta1/news 50\n",
      "https://data.alpaca.markets/v1beta1/news 50\n",
      "https://data.alpaca.markets/v1beta1/news 50\n",
      "https://data.alpaca.markets/v1beta1/news 50\n",
      "https://data.alpaca.markets/v1beta1/news 50\n",
      "https://data.alpaca.markets/v1beta1/news 50\n",
      "https://data.alpaca.markets/v1beta1/news 50\n"
     ]
    },
    {
     "name": "stderr",
     "output_type": "stream",
     "text": [
      " 73%|███████▎  | 109/150 [07:31<03:22,  4.93s/it]"
     ]
    },
    {
     "name": "stdout",
     "output_type": "stream",
     "text": [
      "https://data.alpaca.markets/v1beta1/news 30\n",
      "error2\n",
      "Number of news articles: 580\n",
      "Fetching news for date: 2021-06-10\n",
      "start and end news collection 2021-06-03 2021-06-09\n",
      "length of ticker list 503\n",
      "MSFT,AAPL,NVDA,GOOG,GOOGL,AMZN,META,BRK-B,LLY,AVGO,JPM,TSLA,V,WMT,XOM,UNH,MA,PG,COST,JNJ,ORCL,MRK,HD,BAC,CVX,NFLX,ABBV,AMD,KO,CRM,PEP,QCOM,TMO,ADBE,WFC,LIN,DHR,TMUS,ACN,CSCO,MCD,DIS,GE,AMAT,TXN,ABT,AXP,CAT,INTU,VZ,AMGN,PFE,MS,NEE,IBM,PM,NOW,CMCSA,BX,GS,ISRG,MU,UNP,RTX,NKE,COP,SPGI,ETN,UBER,SCHW,INTC,HON,BKNG,SYK,LRCX,T,LOW,C,ELV,PGR,UPS,VRTX,BLK,TJX,ADI,LMT,BSX,REGN,MDT,CB,BA,KLAC,DE,PANW,MMC,ADP,PLD,ANET,CI,ABNB,MDLZ,SNPS,SBUX,FI,AMT,CMG,SO,WM,BMY,HCA,GD,GILD,APH,CDNS,DUK,ICE,MO,ZTS,CME,SHW,CL,TT,TDG,MCO,FCX,MCK,EQIX,CEG,ITW,NXPI,EOG,CVS,CTAS,NOC,PH,MAR,TGT,ECL,BDX,SLB,CSX,EMR,PYPL,MRNA,USB,MPC,PNC,AON,FDX,MSI,PSX,WELL,CARR,RSG,APD,ROP,ORLY,PCAR,SPG,MNST,MMM,AJG,OXY,VLO,EW,MCHP,COF,CPRT,AIG,SMCI,MET,TFC,NSC,HLT,DXCM,GM,AFL,JCI,WMB,TRV,GEV,NEM,F,PCG,SRE,AZO,PSA,ROST,DHI,GWW,DLR,OKE,AEP,FTNT,HES,KDP,TEL,ADSK,STZ,O,URI,EL,PAYX,KMB,D,BK,A,AMP,COR,KHC,ALL,FIS,LEN,PRU,IDXX,CCI,LHX,KMI,HUM,IQV,PWR,NUE,DOW,AME,HSY,CNC,OTIS,CHTR,MSCI,CMI,ACGL,YUM,CTVA,GIS,KR,IR,RCL,LULU,FAST,ODFL,PEG,KVUE,EXC,MPWR,GEHC,SYY,EA,VRSK,NDAQ,MLM,VST,CSGP,XYL,HWM,FANG,VMC,FICO,IT,CTSH,DD,DAL,LVS,ED,BKR,LYB,HPQ,HAL,DG,BIIB,MTD,GRMN,EXR,RMD,ON,GLW,CDW,DFS,PPG,DVN,TSCO,ROK,HIG,WAB,ADM,XEL,EFX,FSLR,VICI,ANSS,EIX,AVB,EBAY,CBRE,FTV,DECK,TTWO,TROW,GPN,RJF,CHD,WTW,BRO,WEC,FITB,TRGP,DOV,VLTO,DLTR,KEYS,MTB,AWK,EQR,IFF,WDC,WST,PHM,ZBH,HPE,NTAP,BR,IRM,CAH,DTE,ETR,NVR,STT,STE,TER,APTV,FE,ROL,LYV,HUBB,WY,PTC,BF-B,AXON,BALL,TSN,PPL,INVH,STLD,TYL,BLDR,K,ARE,LDOS,WRB,ES,GPC,SBAC,CTRA,WAT,HBAN,CCL,STX,MOH,MKC,PFG,ALGN,HRL,VTR,CBOE,TDY,AEE,WBD,CNP,COO,CPAY,OMC,CINF,ULTA,CMS,AVY,NRG,EQT,DRI,J,DPZ,RF,SYF,BAX,ESS,HOLX,VRSN,NTRS,ENPH,EG,UAL,ATO,ILMN,TXT,LH,ZBRA,CE,EXPD,FDS,L,PKG,CLX,IEX,JBHT,CFG,LUV,MAA,IP,DGX,GEN,BBY,NWS,NWSA,MAS,FOX,FOXA,ALB,AES,SWKS,BG,UDR,EXPE,CAG,JBL,MRO,AMCR,AKAM,SNA,CF,WRK,RVTY,POOL,TRMB,WBA,PNR,KEY,NDSN,CPB,DOC,SWK,HST,INCY,LW,LNT,TECH,PODD,NI,MGM,KIM,AOS,VTRS,JKHY,EVRG,BEN,DVA,IPG,UHS,EMN,SJM,LKQ,TAP,JNPR,CRL,CPT,REG,KMX,APA,RL,BBWI,ALLE,WYNN,BXP,EPAM,SOLV,CHRW,HII,FFIV,MOS,CTLT,PAYC,TFX,TPR,QRVO,HSIC,AAL,GNRC,DAY,AIZ,PNW,HAS,PARA,MKTX,FRT,BIO,BWA,MTCH,FMC,GL,MHK,CZR,ETSY,IVZ,RHI,NCLH,CMA\n",
      "https://data.alpaca.markets/v1beta1/news 50\n",
      "https://data.alpaca.markets/v1beta1/news 50\n",
      "https://data.alpaca.markets/v1beta1/news 50\n",
      "https://data.alpaca.markets/v1beta1/news 50\n",
      "https://data.alpaca.markets/v1beta1/news 50\n",
      "https://data.alpaca.markets/v1beta1/news 50\n",
      "https://data.alpaca.markets/v1beta1/news 50\n",
      "https://data.alpaca.markets/v1beta1/news 50\n",
      "https://data.alpaca.markets/v1beta1/news 50\n",
      "https://data.alpaca.markets/v1beta1/news 50\n",
      "https://data.alpaca.markets/v1beta1/news 50\n",
      "https://data.alpaca.markets/v1beta1/news 50\n",
      "https://data.alpaca.markets/v1beta1/news 50\n",
      "https://data.alpaca.markets/v1beta1/news 50\n",
      "https://data.alpaca.markets/v1beta1/news 50\n",
      "https://data.alpaca.markets/v1beta1/news 50\n",
      "https://data.alpaca.markets/v1beta1/news 50\n",
      "https://data.alpaca.markets/v1beta1/news 50\n"
     ]
    },
    {
     "name": "stderr",
     "output_type": "stream",
     "text": [
      " 73%|███████▎  | 110/150 [07:37<03:32,  5.32s/it]"
     ]
    },
    {
     "name": "stdout",
     "output_type": "stream",
     "text": [
      "https://data.alpaca.markets/v1beta1/news 40\n",
      "error2\n",
      "Number of news articles: 940\n",
      "Fetching news for date: 2021-07-01\n",
      "start and end news collection 2021-06-24 2021-06-30\n",
      "length of ticker list 503\n",
      "MSFT,AAPL,NVDA,GOOG,GOOGL,AMZN,META,BRK-B,LLY,AVGO,JPM,TSLA,V,WMT,XOM,UNH,MA,PG,COST,JNJ,ORCL,MRK,HD,BAC,CVX,NFLX,ABBV,AMD,KO,CRM,PEP,QCOM,TMO,ADBE,WFC,LIN,DHR,TMUS,ACN,CSCO,MCD,DIS,GE,AMAT,TXN,ABT,AXP,CAT,INTU,VZ,AMGN,PFE,MS,NEE,IBM,PM,NOW,CMCSA,BX,GS,ISRG,MU,UNP,RTX,NKE,COP,SPGI,ETN,UBER,SCHW,INTC,HON,BKNG,SYK,LRCX,T,LOW,C,ELV,PGR,UPS,VRTX,BLK,TJX,ADI,LMT,BSX,REGN,MDT,CB,BA,KLAC,DE,PANW,MMC,ADP,PLD,ANET,CI,ABNB,MDLZ,SNPS,SBUX,FI,AMT,CMG,SO,WM,BMY,HCA,GD,GILD,APH,CDNS,DUK,ICE,MO,ZTS,CME,SHW,CL,TT,TDG,MCO,FCX,MCK,EQIX,CEG,ITW,NXPI,EOG,CVS,CTAS,NOC,PH,MAR,TGT,ECL,BDX,SLB,CSX,EMR,PYPL,MRNA,USB,MPC,PNC,AON,FDX,MSI,PSX,WELL,CARR,RSG,APD,ROP,ORLY,PCAR,SPG,MNST,MMM,AJG,OXY,VLO,EW,MCHP,COF,CPRT,AIG,SMCI,MET,TFC,NSC,HLT,DXCM,GM,AFL,JCI,WMB,TRV,GEV,NEM,F,PCG,SRE,AZO,PSA,ROST,DHI,GWW,DLR,OKE,AEP,FTNT,HES,KDP,TEL,ADSK,STZ,O,URI,EL,PAYX,KMB,D,BK,A,AMP,COR,KHC,ALL,FIS,LEN,PRU,IDXX,CCI,LHX,KMI,HUM,IQV,PWR,NUE,DOW,AME,HSY,CNC,OTIS,CHTR,MSCI,CMI,ACGL,YUM,CTVA,GIS,KR,IR,RCL,LULU,FAST,ODFL,PEG,KVUE,EXC,MPWR,GEHC,SYY,EA,VRSK,NDAQ,MLM,VST,CSGP,XYL,HWM,FANG,VMC,FICO,IT,CTSH,DD,DAL,LVS,ED,BKR,LYB,HPQ,HAL,DG,BIIB,MTD,GRMN,EXR,RMD,ON,GLW,CDW,DFS,PPG,DVN,TSCO,ROK,HIG,WAB,ADM,XEL,EFX,FSLR,VICI,ANSS,EIX,AVB,EBAY,CBRE,FTV,DECK,TTWO,TROW,GPN,RJF,CHD,WTW,BRO,WEC,FITB,TRGP,DOV,VLTO,DLTR,KEYS,MTB,AWK,EQR,IFF,WDC,WST,PHM,ZBH,HPE,NTAP,BR,IRM,CAH,DTE,ETR,NVR,STT,STE,TER,APTV,FE,ROL,LYV,HUBB,WY,PTC,BF-B,AXON,BALL,TSN,PPL,INVH,STLD,TYL,BLDR,K,ARE,LDOS,WRB,ES,GPC,SBAC,CTRA,WAT,HBAN,CCL,STX,MOH,MKC,PFG,ALGN,HRL,VTR,CBOE,TDY,AEE,WBD,CNP,COO,CPAY,OMC,CINF,ULTA,CMS,AVY,NRG,EQT,DRI,J,DPZ,RF,SYF,BAX,ESS,HOLX,VRSN,NTRS,ENPH,EG,UAL,ATO,ILMN,TXT,LH,ZBRA,CE,EXPD,FDS,L,PKG,CLX,IEX,JBHT,CFG,LUV,MAA,IP,DGX,GEN,BBY,NWS,NWSA,MAS,FOX,FOXA,ALB,AES,SWKS,BG,UDR,EXPE,CAG,JBL,MRO,AMCR,AKAM,SNA,CF,WRK,RVTY,POOL,TRMB,WBA,PNR,KEY,NDSN,CPB,DOC,SWK,HST,INCY,LW,LNT,TECH,PODD,NI,MGM,KIM,AOS,VTRS,JKHY,EVRG,BEN,DVA,IPG,UHS,EMN,SJM,LKQ,TAP,JNPR,CRL,CPT,REG,KMX,APA,RL,BBWI,ALLE,WYNN,BXP,EPAM,SOLV,CHRW,HII,FFIV,MOS,CTLT,PAYC,TFX,TPR,QRVO,HSIC,AAL,GNRC,DAY,AIZ,PNW,HAS,PARA,MKTX,FRT,BIO,BWA,MTCH,FMC,GL,MHK,CZR,ETSY,IVZ,RHI,NCLH,CMA\n",
      "https://data.alpaca.markets/v1beta1/news 50\n",
      "https://data.alpaca.markets/v1beta1/news 50\n",
      "https://data.alpaca.markets/v1beta1/news 50\n",
      "https://data.alpaca.markets/v1beta1/news 50\n",
      "https://data.alpaca.markets/v1beta1/news 50\n",
      "https://data.alpaca.markets/v1beta1/news 50\n",
      "https://data.alpaca.markets/v1beta1/news 50\n",
      "https://data.alpaca.markets/v1beta1/news 50\n",
      "https://data.alpaca.markets/v1beta1/news 50\n",
      "https://data.alpaca.markets/v1beta1/news 50\n",
      "https://data.alpaca.markets/v1beta1/news 50\n",
      "https://data.alpaca.markets/v1beta1/news 50\n",
      "https://data.alpaca.markets/v1beta1/news 50\n",
      "https://data.alpaca.markets/v1beta1/news 50\n",
      "https://data.alpaca.markets/v1beta1/news 50\n",
      "https://data.alpaca.markets/v1beta1/news 50\n",
      "https://data.alpaca.markets/v1beta1/news 50\n",
      "https://data.alpaca.markets/v1beta1/news 50\n"
     ]
    },
    {
     "name": "stderr",
     "output_type": "stream",
     "text": [
      " 74%|███████▍  | 111/150 [07:44<03:41,  5.67s/it]"
     ]
    },
    {
     "name": "stdout",
     "output_type": "stream",
     "text": [
      "https://data.alpaca.markets/v1beta1/news 17\n",
      "error2\n",
      "Number of news articles: 917\n",
      "Fetching news for date: 2021-07-14\n",
      "start and end news collection 2021-07-07 2021-07-13\n",
      "length of ticker list 503\n",
      "MSFT,AAPL,NVDA,GOOG,GOOGL,AMZN,META,BRK-B,LLY,AVGO,JPM,TSLA,V,WMT,XOM,UNH,MA,PG,COST,JNJ,ORCL,MRK,HD,BAC,CVX,NFLX,ABBV,AMD,KO,CRM,PEP,QCOM,TMO,ADBE,WFC,LIN,DHR,TMUS,ACN,CSCO,MCD,DIS,GE,AMAT,TXN,ABT,AXP,CAT,INTU,VZ,AMGN,PFE,MS,NEE,IBM,PM,NOW,CMCSA,BX,GS,ISRG,MU,UNP,RTX,NKE,COP,SPGI,ETN,UBER,SCHW,INTC,HON,BKNG,SYK,LRCX,T,LOW,C,ELV,PGR,UPS,VRTX,BLK,TJX,ADI,LMT,BSX,REGN,MDT,CB,BA,KLAC,DE,PANW,MMC,ADP,PLD,ANET,CI,ABNB,MDLZ,SNPS,SBUX,FI,AMT,CMG,SO,WM,BMY,HCA,GD,GILD,APH,CDNS,DUK,ICE,MO,ZTS,CME,SHW,CL,TT,TDG,MCO,FCX,MCK,EQIX,CEG,ITW,NXPI,EOG,CVS,CTAS,NOC,PH,MAR,TGT,ECL,BDX,SLB,CSX,EMR,PYPL,MRNA,USB,MPC,PNC,AON,FDX,MSI,PSX,WELL,CARR,RSG,APD,ROP,ORLY,PCAR,SPG,MNST,MMM,AJG,OXY,VLO,EW,MCHP,COF,CPRT,AIG,SMCI,MET,TFC,NSC,HLT,DXCM,GM,AFL,JCI,WMB,TRV,GEV,NEM,F,PCG,SRE,AZO,PSA,ROST,DHI,GWW,DLR,OKE,AEP,FTNT,HES,KDP,TEL,ADSK,STZ,O,URI,EL,PAYX,KMB,D,BK,A,AMP,COR,KHC,ALL,FIS,LEN,PRU,IDXX,CCI,LHX,KMI,HUM,IQV,PWR,NUE,DOW,AME,HSY,CNC,OTIS,CHTR,MSCI,CMI,ACGL,YUM,CTVA,GIS,KR,IR,RCL,LULU,FAST,ODFL,PEG,KVUE,EXC,MPWR,GEHC,SYY,EA,VRSK,NDAQ,MLM,VST,CSGP,XYL,HWM,FANG,VMC,FICO,IT,CTSH,DD,DAL,LVS,ED,BKR,LYB,HPQ,HAL,DG,BIIB,MTD,GRMN,EXR,RMD,ON,GLW,CDW,DFS,PPG,DVN,TSCO,ROK,HIG,WAB,ADM,XEL,EFX,FSLR,VICI,ANSS,EIX,AVB,EBAY,CBRE,FTV,DECK,TTWO,TROW,GPN,RJF,CHD,WTW,BRO,WEC,FITB,TRGP,DOV,VLTO,DLTR,KEYS,MTB,AWK,EQR,IFF,WDC,WST,PHM,ZBH,HPE,NTAP,BR,IRM,CAH,DTE,ETR,NVR,STT,STE,TER,APTV,FE,ROL,LYV,HUBB,WY,PTC,BF-B,AXON,BALL,TSN,PPL,INVH,STLD,TYL,BLDR,K,ARE,LDOS,WRB,ES,GPC,SBAC,CTRA,WAT,HBAN,CCL,STX,MOH,MKC,PFG,ALGN,HRL,VTR,CBOE,TDY,AEE,WBD,CNP,COO,CPAY,OMC,CINF,ULTA,CMS,AVY,NRG,EQT,DRI,J,DPZ,RF,SYF,BAX,ESS,HOLX,VRSN,NTRS,ENPH,EG,UAL,ATO,ILMN,TXT,LH,ZBRA,CE,EXPD,FDS,L,PKG,CLX,IEX,JBHT,CFG,LUV,MAA,IP,DGX,GEN,BBY,NWS,NWSA,MAS,FOX,FOXA,ALB,AES,SWKS,BG,UDR,EXPE,CAG,JBL,MRO,AMCR,AKAM,SNA,CF,WRK,RVTY,POOL,TRMB,WBA,PNR,KEY,NDSN,CPB,DOC,SWK,HST,INCY,LW,LNT,TECH,PODD,NI,MGM,KIM,AOS,VTRS,JKHY,EVRG,BEN,DVA,IPG,UHS,EMN,SJM,LKQ,TAP,JNPR,CRL,CPT,REG,KMX,APA,RL,BBWI,ALLE,WYNN,BXP,EPAM,SOLV,CHRW,HII,FFIV,MOS,CTLT,PAYC,TFX,TPR,QRVO,HSIC,AAL,GNRC,DAY,AIZ,PNW,HAS,PARA,MKTX,FRT,BIO,BWA,MTCH,FMC,GL,MHK,CZR,ETSY,IVZ,RHI,NCLH,CMA\n",
      "https://data.alpaca.markets/v1beta1/news 50\n",
      "https://data.alpaca.markets/v1beta1/news 50\n",
      "https://data.alpaca.markets/v1beta1/news 50\n",
      "https://data.alpaca.markets/v1beta1/news 50\n",
      "https://data.alpaca.markets/v1beta1/news 50\n",
      "https://data.alpaca.markets/v1beta1/news 50\n",
      "https://data.alpaca.markets/v1beta1/news 50\n",
      "https://data.alpaca.markets/v1beta1/news 50\n",
      "https://data.alpaca.markets/v1beta1/news 50\n",
      "https://data.alpaca.markets/v1beta1/news 50\n",
      "https://data.alpaca.markets/v1beta1/news 50\n",
      "https://data.alpaca.markets/v1beta1/news 50\n",
      "https://data.alpaca.markets/v1beta1/news 50\n",
      "https://data.alpaca.markets/v1beta1/news 50\n",
      "https://data.alpaca.markets/v1beta1/news 50\n",
      "https://data.alpaca.markets/v1beta1/news 50\n",
      "https://data.alpaca.markets/v1beta1/news 50\n",
      "https://data.alpaca.markets/v1beta1/news 50\n",
      "https://data.alpaca.markets/v1beta1/news 50\n"
     ]
    },
    {
     "name": "stderr",
     "output_type": "stream",
     "text": [
      " 75%|███████▍  | 112/150 [07:51<03:51,  6.09s/it]"
     ]
    },
    {
     "name": "stdout",
     "output_type": "stream",
     "text": [
      "https://data.alpaca.markets/v1beta1/news 3\n",
      "error2\n",
      "Number of news articles: 953\n",
      "Fetching news for date: 2021-10-28\n",
      "start and end news collection 2021-10-21 2021-10-27\n",
      "length of ticker list 503\n",
      "MSFT,AAPL,NVDA,GOOG,GOOGL,AMZN,META,BRK-B,LLY,AVGO,JPM,TSLA,V,WMT,XOM,UNH,MA,PG,COST,JNJ,ORCL,MRK,HD,BAC,CVX,NFLX,ABBV,AMD,KO,CRM,PEP,QCOM,TMO,ADBE,WFC,LIN,DHR,TMUS,ACN,CSCO,MCD,DIS,GE,AMAT,TXN,ABT,AXP,CAT,INTU,VZ,AMGN,PFE,MS,NEE,IBM,PM,NOW,CMCSA,BX,GS,ISRG,MU,UNP,RTX,NKE,COP,SPGI,ETN,UBER,SCHW,INTC,HON,BKNG,SYK,LRCX,T,LOW,C,ELV,PGR,UPS,VRTX,BLK,TJX,ADI,LMT,BSX,REGN,MDT,CB,BA,KLAC,DE,PANW,MMC,ADP,PLD,ANET,CI,ABNB,MDLZ,SNPS,SBUX,FI,AMT,CMG,SO,WM,BMY,HCA,GD,GILD,APH,CDNS,DUK,ICE,MO,ZTS,CME,SHW,CL,TT,TDG,MCO,FCX,MCK,EQIX,CEG,ITW,NXPI,EOG,CVS,CTAS,NOC,PH,MAR,TGT,ECL,BDX,SLB,CSX,EMR,PYPL,MRNA,USB,MPC,PNC,AON,FDX,MSI,PSX,WELL,CARR,RSG,APD,ROP,ORLY,PCAR,SPG,MNST,MMM,AJG,OXY,VLO,EW,MCHP,COF,CPRT,AIG,SMCI,MET,TFC,NSC,HLT,DXCM,GM,AFL,JCI,WMB,TRV,GEV,NEM,F,PCG,SRE,AZO,PSA,ROST,DHI,GWW,DLR,OKE,AEP,FTNT,HES,KDP,TEL,ADSK,STZ,O,URI,EL,PAYX,KMB,D,BK,A,AMP,COR,KHC,ALL,FIS,LEN,PRU,IDXX,CCI,LHX,KMI,HUM,IQV,PWR,NUE,DOW,AME,HSY,CNC,OTIS,CHTR,MSCI,CMI,ACGL,YUM,CTVA,GIS,KR,IR,RCL,LULU,FAST,ODFL,PEG,KVUE,EXC,MPWR,GEHC,SYY,EA,VRSK,NDAQ,MLM,VST,CSGP,XYL,HWM,FANG,VMC,FICO,IT,CTSH,DD,DAL,LVS,ED,BKR,LYB,HPQ,HAL,DG,BIIB,MTD,GRMN,EXR,RMD,ON,GLW,CDW,DFS,PPG,DVN,TSCO,ROK,HIG,WAB,ADM,XEL,EFX,FSLR,VICI,ANSS,EIX,AVB,EBAY,CBRE,FTV,DECK,TTWO,TROW,GPN,RJF,CHD,WTW,BRO,WEC,FITB,TRGP,DOV,VLTO,DLTR,KEYS,MTB,AWK,EQR,IFF,WDC,WST,PHM,ZBH,HPE,NTAP,BR,IRM,CAH,DTE,ETR,NVR,STT,STE,TER,APTV,FE,ROL,LYV,HUBB,WY,PTC,BF-B,AXON,BALL,TSN,PPL,INVH,STLD,TYL,BLDR,K,ARE,LDOS,WRB,ES,GPC,SBAC,CTRA,WAT,HBAN,CCL,STX,MOH,MKC,PFG,ALGN,HRL,VTR,CBOE,TDY,AEE,WBD,CNP,COO,CPAY,OMC,CINF,ULTA,CMS,AVY,NRG,EQT,DRI,J,DPZ,RF,SYF,BAX,ESS,HOLX,VRSN,NTRS,ENPH,EG,UAL,ATO,ILMN,TXT,LH,ZBRA,CE,EXPD,FDS,L,PKG,CLX,IEX,JBHT,CFG,LUV,MAA,IP,DGX,GEN,BBY,NWS,NWSA,MAS,FOX,FOXA,ALB,AES,SWKS,BG,UDR,EXPE,CAG,JBL,MRO,AMCR,AKAM,SNA,CF,WRK,RVTY,POOL,TRMB,WBA,PNR,KEY,NDSN,CPB,DOC,SWK,HST,INCY,LW,LNT,TECH,PODD,NI,MGM,KIM,AOS,VTRS,JKHY,EVRG,BEN,DVA,IPG,UHS,EMN,SJM,LKQ,TAP,JNPR,CRL,CPT,REG,KMX,APA,RL,BBWI,ALLE,WYNN,BXP,EPAM,SOLV,CHRW,HII,FFIV,MOS,CTLT,PAYC,TFX,TPR,QRVO,HSIC,AAL,GNRC,DAY,AIZ,PNW,HAS,PARA,MKTX,FRT,BIO,BWA,MTCH,FMC,GL,MHK,CZR,ETSY,IVZ,RHI,NCLH,CMA\n",
      "https://data.alpaca.markets/v1beta1/news 50\n",
      "https://data.alpaca.markets/v1beta1/news 50\n",
      "https://data.alpaca.markets/v1beta1/news 50\n",
      "https://data.alpaca.markets/v1beta1/news 50\n",
      "https://data.alpaca.markets/v1beta1/news 50\n",
      "https://data.alpaca.markets/v1beta1/news 50\n",
      "https://data.alpaca.markets/v1beta1/news 50\n",
      "https://data.alpaca.markets/v1beta1/news 50\n",
      "https://data.alpaca.markets/v1beta1/news 50\n",
      "https://data.alpaca.markets/v1beta1/news 50\n",
      "https://data.alpaca.markets/v1beta1/news 50\n",
      "https://data.alpaca.markets/v1beta1/news 50\n",
      "https://data.alpaca.markets/v1beta1/news 50\n",
      "https://data.alpaca.markets/v1beta1/news 50\n",
      "https://data.alpaca.markets/v1beta1/news 50\n",
      "https://data.alpaca.markets/v1beta1/news 50\n",
      "https://data.alpaca.markets/v1beta1/news 50\n",
      "https://data.alpaca.markets/v1beta1/news 50\n",
      "https://data.alpaca.markets/v1beta1/news 50\n",
      "https://data.alpaca.markets/v1beta1/news 50\n",
      "https://data.alpaca.markets/v1beta1/news 50\n",
      "https://data.alpaca.markets/v1beta1/news 50\n",
      "https://data.alpaca.markets/v1beta1/news 50\n",
      "https://data.alpaca.markets/v1beta1/news 50\n"
     ]
    },
    {
     "name": "stderr",
     "output_type": "stream",
     "text": [
      " 75%|███████▌  | 113/150 [08:02<04:40,  7.58s/it]"
     ]
    },
    {
     "name": "stdout",
     "output_type": "stream",
     "text": [
      "https://data.alpaca.markets/v1beta1/news 30\n",
      "error2\n",
      "Number of news articles: 1230\n",
      "Fetching news for date: 2021-11-11\n",
      "start and end news collection 2021-11-04 2021-11-10\n",
      "length of ticker list 503\n",
      "MSFT,AAPL,NVDA,GOOG,GOOGL,AMZN,META,BRK-B,LLY,AVGO,JPM,TSLA,V,WMT,XOM,UNH,MA,PG,COST,JNJ,ORCL,MRK,HD,BAC,CVX,NFLX,ABBV,AMD,KO,CRM,PEP,QCOM,TMO,ADBE,WFC,LIN,DHR,TMUS,ACN,CSCO,MCD,DIS,GE,AMAT,TXN,ABT,AXP,CAT,INTU,VZ,AMGN,PFE,MS,NEE,IBM,PM,NOW,CMCSA,BX,GS,ISRG,MU,UNP,RTX,NKE,COP,SPGI,ETN,UBER,SCHW,INTC,HON,BKNG,SYK,LRCX,T,LOW,C,ELV,PGR,UPS,VRTX,BLK,TJX,ADI,LMT,BSX,REGN,MDT,CB,BA,KLAC,DE,PANW,MMC,ADP,PLD,ANET,CI,ABNB,MDLZ,SNPS,SBUX,FI,AMT,CMG,SO,WM,BMY,HCA,GD,GILD,APH,CDNS,DUK,ICE,MO,ZTS,CME,SHW,CL,TT,TDG,MCO,FCX,MCK,EQIX,CEG,ITW,NXPI,EOG,CVS,CTAS,NOC,PH,MAR,TGT,ECL,BDX,SLB,CSX,EMR,PYPL,MRNA,USB,MPC,PNC,AON,FDX,MSI,PSX,WELL,CARR,RSG,APD,ROP,ORLY,PCAR,SPG,MNST,MMM,AJG,OXY,VLO,EW,MCHP,COF,CPRT,AIG,SMCI,MET,TFC,NSC,HLT,DXCM,GM,AFL,JCI,WMB,TRV,GEV,NEM,F,PCG,SRE,AZO,PSA,ROST,DHI,GWW,DLR,OKE,AEP,FTNT,HES,KDP,TEL,ADSK,STZ,O,URI,EL,PAYX,KMB,D,BK,A,AMP,COR,KHC,ALL,FIS,LEN,PRU,IDXX,CCI,LHX,KMI,HUM,IQV,PWR,NUE,DOW,AME,HSY,CNC,OTIS,CHTR,MSCI,CMI,ACGL,YUM,CTVA,GIS,KR,IR,RCL,LULU,FAST,ODFL,PEG,KVUE,EXC,MPWR,GEHC,SYY,EA,VRSK,NDAQ,MLM,VST,CSGP,XYL,HWM,FANG,VMC,FICO,IT,CTSH,DD,DAL,LVS,ED,BKR,LYB,HPQ,HAL,DG,BIIB,MTD,GRMN,EXR,RMD,ON,GLW,CDW,DFS,PPG,DVN,TSCO,ROK,HIG,WAB,ADM,XEL,EFX,FSLR,VICI,ANSS,EIX,AVB,EBAY,CBRE,FTV,DECK,TTWO,TROW,GPN,RJF,CHD,WTW,BRO,WEC,FITB,TRGP,DOV,VLTO,DLTR,KEYS,MTB,AWK,EQR,IFF,WDC,WST,PHM,ZBH,HPE,NTAP,BR,IRM,CAH,DTE,ETR,NVR,STT,STE,TER,APTV,FE,ROL,LYV,HUBB,WY,PTC,BF-B,AXON,BALL,TSN,PPL,INVH,STLD,TYL,BLDR,K,ARE,LDOS,WRB,ES,GPC,SBAC,CTRA,WAT,HBAN,CCL,STX,MOH,MKC,PFG,ALGN,HRL,VTR,CBOE,TDY,AEE,WBD,CNP,COO,CPAY,OMC,CINF,ULTA,CMS,AVY,NRG,EQT,DRI,J,DPZ,RF,SYF,BAX,ESS,HOLX,VRSN,NTRS,ENPH,EG,UAL,ATO,ILMN,TXT,LH,ZBRA,CE,EXPD,FDS,L,PKG,CLX,IEX,JBHT,CFG,LUV,MAA,IP,DGX,GEN,BBY,NWS,NWSA,MAS,FOX,FOXA,ALB,AES,SWKS,BG,UDR,EXPE,CAG,JBL,MRO,AMCR,AKAM,SNA,CF,WRK,RVTY,POOL,TRMB,WBA,PNR,KEY,NDSN,CPB,DOC,SWK,HST,INCY,LW,LNT,TECH,PODD,NI,MGM,KIM,AOS,VTRS,JKHY,EVRG,BEN,DVA,IPG,UHS,EMN,SJM,LKQ,TAP,JNPR,CRL,CPT,REG,KMX,APA,RL,BBWI,ALLE,WYNN,BXP,EPAM,SOLV,CHRW,HII,FFIV,MOS,CTLT,PAYC,TFX,TPR,QRVO,HSIC,AAL,GNRC,DAY,AIZ,PNW,HAS,PARA,MKTX,FRT,BIO,BWA,MTCH,FMC,GL,MHK,CZR,ETSY,IVZ,RHI,NCLH,CMA\n",
      "https://data.alpaca.markets/v1beta1/news 50\n",
      "https://data.alpaca.markets/v1beta1/news 50\n",
      "https://data.alpaca.markets/v1beta1/news 50\n",
      "https://data.alpaca.markets/v1beta1/news 50\n",
      "https://data.alpaca.markets/v1beta1/news 50\n",
      "https://data.alpaca.markets/v1beta1/news 50\n",
      "https://data.alpaca.markets/v1beta1/news 50\n",
      "https://data.alpaca.markets/v1beta1/news 50\n",
      "https://data.alpaca.markets/v1beta1/news 50\n",
      "https://data.alpaca.markets/v1beta1/news 50\n",
      "https://data.alpaca.markets/v1beta1/news 50\n",
      "https://data.alpaca.markets/v1beta1/news 50\n",
      "https://data.alpaca.markets/v1beta1/news 50\n",
      "https://data.alpaca.markets/v1beta1/news 50\n",
      "https://data.alpaca.markets/v1beta1/news 50\n",
      "https://data.alpaca.markets/v1beta1/news 50\n",
      "https://data.alpaca.markets/v1beta1/news 50\n",
      "https://data.alpaca.markets/v1beta1/news 50\n",
      "https://data.alpaca.markets/v1beta1/news 50\n",
      "https://data.alpaca.markets/v1beta1/news 50\n"
     ]
    },
    {
     "name": "stderr",
     "output_type": "stream",
     "text": [
      " 76%|███████▌  | 114/150 [08:14<05:22,  8.95s/it]"
     ]
    },
    {
     "name": "stdout",
     "output_type": "stream",
     "text": [
      "https://data.alpaca.markets/v1beta1/news 38\n",
      "error2\n",
      "Number of news articles: 1038\n",
      "Fetching news for date: 2021-11-12\n",
      "start and end news collection 2021-11-05 2021-11-11\n",
      "length of ticker list 503\n",
      "MSFT,AAPL,NVDA,GOOG,GOOGL,AMZN,META,BRK-B,LLY,AVGO,JPM,TSLA,V,WMT,XOM,UNH,MA,PG,COST,JNJ,ORCL,MRK,HD,BAC,CVX,NFLX,ABBV,AMD,KO,CRM,PEP,QCOM,TMO,ADBE,WFC,LIN,DHR,TMUS,ACN,CSCO,MCD,DIS,GE,AMAT,TXN,ABT,AXP,CAT,INTU,VZ,AMGN,PFE,MS,NEE,IBM,PM,NOW,CMCSA,BX,GS,ISRG,MU,UNP,RTX,NKE,COP,SPGI,ETN,UBER,SCHW,INTC,HON,BKNG,SYK,LRCX,T,LOW,C,ELV,PGR,UPS,VRTX,BLK,TJX,ADI,LMT,BSX,REGN,MDT,CB,BA,KLAC,DE,PANW,MMC,ADP,PLD,ANET,CI,ABNB,MDLZ,SNPS,SBUX,FI,AMT,CMG,SO,WM,BMY,HCA,GD,GILD,APH,CDNS,DUK,ICE,MO,ZTS,CME,SHW,CL,TT,TDG,MCO,FCX,MCK,EQIX,CEG,ITW,NXPI,EOG,CVS,CTAS,NOC,PH,MAR,TGT,ECL,BDX,SLB,CSX,EMR,PYPL,MRNA,USB,MPC,PNC,AON,FDX,MSI,PSX,WELL,CARR,RSG,APD,ROP,ORLY,PCAR,SPG,MNST,MMM,AJG,OXY,VLO,EW,MCHP,COF,CPRT,AIG,SMCI,MET,TFC,NSC,HLT,DXCM,GM,AFL,JCI,WMB,TRV,GEV,NEM,F,PCG,SRE,AZO,PSA,ROST,DHI,GWW,DLR,OKE,AEP,FTNT,HES,KDP,TEL,ADSK,STZ,O,URI,EL,PAYX,KMB,D,BK,A,AMP,COR,KHC,ALL,FIS,LEN,PRU,IDXX,CCI,LHX,KMI,HUM,IQV,PWR,NUE,DOW,AME,HSY,CNC,OTIS,CHTR,MSCI,CMI,ACGL,YUM,CTVA,GIS,KR,IR,RCL,LULU,FAST,ODFL,PEG,KVUE,EXC,MPWR,GEHC,SYY,EA,VRSK,NDAQ,MLM,VST,CSGP,XYL,HWM,FANG,VMC,FICO,IT,CTSH,DD,DAL,LVS,ED,BKR,LYB,HPQ,HAL,DG,BIIB,MTD,GRMN,EXR,RMD,ON,GLW,CDW,DFS,PPG,DVN,TSCO,ROK,HIG,WAB,ADM,XEL,EFX,FSLR,VICI,ANSS,EIX,AVB,EBAY,CBRE,FTV,DECK,TTWO,TROW,GPN,RJF,CHD,WTW,BRO,WEC,FITB,TRGP,DOV,VLTO,DLTR,KEYS,MTB,AWK,EQR,IFF,WDC,WST,PHM,ZBH,HPE,NTAP,BR,IRM,CAH,DTE,ETR,NVR,STT,STE,TER,APTV,FE,ROL,LYV,HUBB,WY,PTC,BF-B,AXON,BALL,TSN,PPL,INVH,STLD,TYL,BLDR,K,ARE,LDOS,WRB,ES,GPC,SBAC,CTRA,WAT,HBAN,CCL,STX,MOH,MKC,PFG,ALGN,HRL,VTR,CBOE,TDY,AEE,WBD,CNP,COO,CPAY,OMC,CINF,ULTA,CMS,AVY,NRG,EQT,DRI,J,DPZ,RF,SYF,BAX,ESS,HOLX,VRSN,NTRS,ENPH,EG,UAL,ATO,ILMN,TXT,LH,ZBRA,CE,EXPD,FDS,L,PKG,CLX,IEX,JBHT,CFG,LUV,MAA,IP,DGX,GEN,BBY,NWS,NWSA,MAS,FOX,FOXA,ALB,AES,SWKS,BG,UDR,EXPE,CAG,JBL,MRO,AMCR,AKAM,SNA,CF,WRK,RVTY,POOL,TRMB,WBA,PNR,KEY,NDSN,CPB,DOC,SWK,HST,INCY,LW,LNT,TECH,PODD,NI,MGM,KIM,AOS,VTRS,JKHY,EVRG,BEN,DVA,IPG,UHS,EMN,SJM,LKQ,TAP,JNPR,CRL,CPT,REG,KMX,APA,RL,BBWI,ALLE,WYNN,BXP,EPAM,SOLV,CHRW,HII,FFIV,MOS,CTLT,PAYC,TFX,TPR,QRVO,HSIC,AAL,GNRC,DAY,AIZ,PNW,HAS,PARA,MKTX,FRT,BIO,BWA,MTCH,FMC,GL,MHK,CZR,ETSY,IVZ,RHI,NCLH,CMA\n",
      "https://data.alpaca.markets/v1beta1/news 50\n",
      "https://data.alpaca.markets/v1beta1/news 50\n",
      "https://data.alpaca.markets/v1beta1/news 50\n",
      "https://data.alpaca.markets/v1beta1/news 50\n",
      "https://data.alpaca.markets/v1beta1/news 50\n",
      "https://data.alpaca.markets/v1beta1/news 50\n",
      "https://data.alpaca.markets/v1beta1/news 50\n",
      "https://data.alpaca.markets/v1beta1/news 50\n",
      "https://data.alpaca.markets/v1beta1/news 50\n",
      "https://data.alpaca.markets/v1beta1/news 50\n",
      "https://data.alpaca.markets/v1beta1/news 50\n",
      "https://data.alpaca.markets/v1beta1/news 50\n",
      "https://data.alpaca.markets/v1beta1/news 50\n",
      "https://data.alpaca.markets/v1beta1/news 50\n",
      "https://data.alpaca.markets/v1beta1/news 50\n",
      "https://data.alpaca.markets/v1beta1/news 50\n",
      "https://data.alpaca.markets/v1beta1/news 50\n"
     ]
    },
    {
     "name": "stderr",
     "output_type": "stream",
     "text": [
      " 77%|███████▋  | 115/150 [08:22<05:02,  8.65s/it]"
     ]
    },
    {
     "name": "stdout",
     "output_type": "stream",
     "text": [
      "https://data.alpaca.markets/v1beta1/news 47\n",
      "error2\n",
      "Number of news articles: 897\n",
      "Fetching news for date: 2021-11-16\n",
      "start and end news collection 2021-11-09 2021-11-15\n",
      "length of ticker list 503\n",
      "MSFT,AAPL,NVDA,GOOG,GOOGL,AMZN,META,BRK-B,LLY,AVGO,JPM,TSLA,V,WMT,XOM,UNH,MA,PG,COST,JNJ,ORCL,MRK,HD,BAC,CVX,NFLX,ABBV,AMD,KO,CRM,PEP,QCOM,TMO,ADBE,WFC,LIN,DHR,TMUS,ACN,CSCO,MCD,DIS,GE,AMAT,TXN,ABT,AXP,CAT,INTU,VZ,AMGN,PFE,MS,NEE,IBM,PM,NOW,CMCSA,BX,GS,ISRG,MU,UNP,RTX,NKE,COP,SPGI,ETN,UBER,SCHW,INTC,HON,BKNG,SYK,LRCX,T,LOW,C,ELV,PGR,UPS,VRTX,BLK,TJX,ADI,LMT,BSX,REGN,MDT,CB,BA,KLAC,DE,PANW,MMC,ADP,PLD,ANET,CI,ABNB,MDLZ,SNPS,SBUX,FI,AMT,CMG,SO,WM,BMY,HCA,GD,GILD,APH,CDNS,DUK,ICE,MO,ZTS,CME,SHW,CL,TT,TDG,MCO,FCX,MCK,EQIX,CEG,ITW,NXPI,EOG,CVS,CTAS,NOC,PH,MAR,TGT,ECL,BDX,SLB,CSX,EMR,PYPL,MRNA,USB,MPC,PNC,AON,FDX,MSI,PSX,WELL,CARR,RSG,APD,ROP,ORLY,PCAR,SPG,MNST,MMM,AJG,OXY,VLO,EW,MCHP,COF,CPRT,AIG,SMCI,MET,TFC,NSC,HLT,DXCM,GM,AFL,JCI,WMB,TRV,GEV,NEM,F,PCG,SRE,AZO,PSA,ROST,DHI,GWW,DLR,OKE,AEP,FTNT,HES,KDP,TEL,ADSK,STZ,O,URI,EL,PAYX,KMB,D,BK,A,AMP,COR,KHC,ALL,FIS,LEN,PRU,IDXX,CCI,LHX,KMI,HUM,IQV,PWR,NUE,DOW,AME,HSY,CNC,OTIS,CHTR,MSCI,CMI,ACGL,YUM,CTVA,GIS,KR,IR,RCL,LULU,FAST,ODFL,PEG,KVUE,EXC,MPWR,GEHC,SYY,EA,VRSK,NDAQ,MLM,VST,CSGP,XYL,HWM,FANG,VMC,FICO,IT,CTSH,DD,DAL,LVS,ED,BKR,LYB,HPQ,HAL,DG,BIIB,MTD,GRMN,EXR,RMD,ON,GLW,CDW,DFS,PPG,DVN,TSCO,ROK,HIG,WAB,ADM,XEL,EFX,FSLR,VICI,ANSS,EIX,AVB,EBAY,CBRE,FTV,DECK,TTWO,TROW,GPN,RJF,CHD,WTW,BRO,WEC,FITB,TRGP,DOV,VLTO,DLTR,KEYS,MTB,AWK,EQR,IFF,WDC,WST,PHM,ZBH,HPE,NTAP,BR,IRM,CAH,DTE,ETR,NVR,STT,STE,TER,APTV,FE,ROL,LYV,HUBB,WY,PTC,BF-B,AXON,BALL,TSN,PPL,INVH,STLD,TYL,BLDR,K,ARE,LDOS,WRB,ES,GPC,SBAC,CTRA,WAT,HBAN,CCL,STX,MOH,MKC,PFG,ALGN,HRL,VTR,CBOE,TDY,AEE,WBD,CNP,COO,CPAY,OMC,CINF,ULTA,CMS,AVY,NRG,EQT,DRI,J,DPZ,RF,SYF,BAX,ESS,HOLX,VRSN,NTRS,ENPH,EG,UAL,ATO,ILMN,TXT,LH,ZBRA,CE,EXPD,FDS,L,PKG,CLX,IEX,JBHT,CFG,LUV,MAA,IP,DGX,GEN,BBY,NWS,NWSA,MAS,FOX,FOXA,ALB,AES,SWKS,BG,UDR,EXPE,CAG,JBL,MRO,AMCR,AKAM,SNA,CF,WRK,RVTY,POOL,TRMB,WBA,PNR,KEY,NDSN,CPB,DOC,SWK,HST,INCY,LW,LNT,TECH,PODD,NI,MGM,KIM,AOS,VTRS,JKHY,EVRG,BEN,DVA,IPG,UHS,EMN,SJM,LKQ,TAP,JNPR,CRL,CPT,REG,KMX,APA,RL,BBWI,ALLE,WYNN,BXP,EPAM,SOLV,CHRW,HII,FFIV,MOS,CTLT,PAYC,TFX,TPR,QRVO,HSIC,AAL,GNRC,DAY,AIZ,PNW,HAS,PARA,MKTX,FRT,BIO,BWA,MTCH,FMC,GL,MHK,CZR,ETSY,IVZ,RHI,NCLH,CMA\n",
      "https://data.alpaca.markets/v1beta1/news 50\n",
      "https://data.alpaca.markets/v1beta1/news 50\n",
      "https://data.alpaca.markets/v1beta1/news 50\n",
      "https://data.alpaca.markets/v1beta1/news 50\n",
      "https://data.alpaca.markets/v1beta1/news 50\n",
      "https://data.alpaca.markets/v1beta1/news 50\n",
      "https://data.alpaca.markets/v1beta1/news 50\n",
      "https://data.alpaca.markets/v1beta1/news 50\n",
      "https://data.alpaca.markets/v1beta1/news 50\n",
      "https://data.alpaca.markets/v1beta1/news 50\n",
      "https://data.alpaca.markets/v1beta1/news 50\n",
      "https://data.alpaca.markets/v1beta1/news 50\n",
      "https://data.alpaca.markets/v1beta1/news 50\n",
      "https://data.alpaca.markets/v1beta1/news 50\n"
     ]
    },
    {
     "name": "stderr",
     "output_type": "stream",
     "text": [
      " 77%|███████▋  | 116/150 [08:29<04:36,  8.14s/it]"
     ]
    },
    {
     "name": "stdout",
     "output_type": "stream",
     "text": [
      "https://data.alpaca.markets/v1beta1/news 27\n",
      "error2\n",
      "Number of news articles: 727\n",
      "Fetching news for date: 2021-12-20\n",
      "start and end news collection 2021-12-13 2021-12-19\n",
      "length of ticker list 503\n",
      "MSFT,AAPL,NVDA,GOOG,GOOGL,AMZN,META,BRK-B,LLY,AVGO,JPM,TSLA,V,WMT,XOM,UNH,MA,PG,COST,JNJ,ORCL,MRK,HD,BAC,CVX,NFLX,ABBV,AMD,KO,CRM,PEP,QCOM,TMO,ADBE,WFC,LIN,DHR,TMUS,ACN,CSCO,MCD,DIS,GE,AMAT,TXN,ABT,AXP,CAT,INTU,VZ,AMGN,PFE,MS,NEE,IBM,PM,NOW,CMCSA,BX,GS,ISRG,MU,UNP,RTX,NKE,COP,SPGI,ETN,UBER,SCHW,INTC,HON,BKNG,SYK,LRCX,T,LOW,C,ELV,PGR,UPS,VRTX,BLK,TJX,ADI,LMT,BSX,REGN,MDT,CB,BA,KLAC,DE,PANW,MMC,ADP,PLD,ANET,CI,ABNB,MDLZ,SNPS,SBUX,FI,AMT,CMG,SO,WM,BMY,HCA,GD,GILD,APH,CDNS,DUK,ICE,MO,ZTS,CME,SHW,CL,TT,TDG,MCO,FCX,MCK,EQIX,CEG,ITW,NXPI,EOG,CVS,CTAS,NOC,PH,MAR,TGT,ECL,BDX,SLB,CSX,EMR,PYPL,MRNA,USB,MPC,PNC,AON,FDX,MSI,PSX,WELL,CARR,RSG,APD,ROP,ORLY,PCAR,SPG,MNST,MMM,AJG,OXY,VLO,EW,MCHP,COF,CPRT,AIG,SMCI,MET,TFC,NSC,HLT,DXCM,GM,AFL,JCI,WMB,TRV,GEV,NEM,F,PCG,SRE,AZO,PSA,ROST,DHI,GWW,DLR,OKE,AEP,FTNT,HES,KDP,TEL,ADSK,STZ,O,URI,EL,PAYX,KMB,D,BK,A,AMP,COR,KHC,ALL,FIS,LEN,PRU,IDXX,CCI,LHX,KMI,HUM,IQV,PWR,NUE,DOW,AME,HSY,CNC,OTIS,CHTR,MSCI,CMI,ACGL,YUM,CTVA,GIS,KR,IR,RCL,LULU,FAST,ODFL,PEG,KVUE,EXC,MPWR,GEHC,SYY,EA,VRSK,NDAQ,MLM,VST,CSGP,XYL,HWM,FANG,VMC,FICO,IT,CTSH,DD,DAL,LVS,ED,BKR,LYB,HPQ,HAL,DG,BIIB,MTD,GRMN,EXR,RMD,ON,GLW,CDW,DFS,PPG,DVN,TSCO,ROK,HIG,WAB,ADM,XEL,EFX,FSLR,VICI,ANSS,EIX,AVB,EBAY,CBRE,FTV,DECK,TTWO,TROW,GPN,RJF,CHD,WTW,BRO,WEC,FITB,TRGP,DOV,VLTO,DLTR,KEYS,MTB,AWK,EQR,IFF,WDC,WST,PHM,ZBH,HPE,NTAP,BR,IRM,CAH,DTE,ETR,NVR,STT,STE,TER,APTV,FE,ROL,LYV,HUBB,WY,PTC,BF-B,AXON,BALL,TSN,PPL,INVH,STLD,TYL,BLDR,K,ARE,LDOS,WRB,ES,GPC,SBAC,CTRA,WAT,HBAN,CCL,STX,MOH,MKC,PFG,ALGN,HRL,VTR,CBOE,TDY,AEE,WBD,CNP,COO,CPAY,OMC,CINF,ULTA,CMS,AVY,NRG,EQT,DRI,J,DPZ,RF,SYF,BAX,ESS,HOLX,VRSN,NTRS,ENPH,EG,UAL,ATO,ILMN,TXT,LH,ZBRA,CE,EXPD,FDS,L,PKG,CLX,IEX,JBHT,CFG,LUV,MAA,IP,DGX,GEN,BBY,NWS,NWSA,MAS,FOX,FOXA,ALB,AES,SWKS,BG,UDR,EXPE,CAG,JBL,MRO,AMCR,AKAM,SNA,CF,WRK,RVTY,POOL,TRMB,WBA,PNR,KEY,NDSN,CPB,DOC,SWK,HST,INCY,LW,LNT,TECH,PODD,NI,MGM,KIM,AOS,VTRS,JKHY,EVRG,BEN,DVA,IPG,UHS,EMN,SJM,LKQ,TAP,JNPR,CRL,CPT,REG,KMX,APA,RL,BBWI,ALLE,WYNN,BXP,EPAM,SOLV,CHRW,HII,FFIV,MOS,CTLT,PAYC,TFX,TPR,QRVO,HSIC,AAL,GNRC,DAY,AIZ,PNW,HAS,PARA,MKTX,FRT,BIO,BWA,MTCH,FMC,GL,MHK,CZR,ETSY,IVZ,RHI,NCLH,CMA\n",
      "https://data.alpaca.markets/v1beta1/news 50\n",
      "https://data.alpaca.markets/v1beta1/news 50\n",
      "https://data.alpaca.markets/v1beta1/news 50\n",
      "https://data.alpaca.markets/v1beta1/news 50\n",
      "https://data.alpaca.markets/v1beta1/news 50\n",
      "https://data.alpaca.markets/v1beta1/news 50\n",
      "https://data.alpaca.markets/v1beta1/news 50\n",
      "https://data.alpaca.markets/v1beta1/news 50\n",
      "https://data.alpaca.markets/v1beta1/news 50\n",
      "https://data.alpaca.markets/v1beta1/news 50\n",
      "https://data.alpaca.markets/v1beta1/news 50\n",
      "https://data.alpaca.markets/v1beta1/news 50\n",
      "https://data.alpaca.markets/v1beta1/news 50\n",
      "https://data.alpaca.markets/v1beta1/news 50\n",
      "https://data.alpaca.markets/v1beta1/news 50\n",
      "https://data.alpaca.markets/v1beta1/news 50\n",
      "https://data.alpaca.markets/v1beta1/news 50\n",
      "https://data.alpaca.markets/v1beta1/news 50\n",
      "https://data.alpaca.markets/v1beta1/news 50\n",
      "https://data.alpaca.markets/v1beta1/news 50\n",
      "https://data.alpaca.markets/v1beta1/news 50\n",
      "https://data.alpaca.markets/v1beta1/news 50\n",
      "https://data.alpaca.markets/v1beta1/news 50\n",
      "https://data.alpaca.markets/v1beta1/news 50\n",
      "https://data.alpaca.markets/v1beta1/news 50\n"
     ]
    },
    {
     "name": "stderr",
     "output_type": "stream",
     "text": [
      " 78%|███████▊  | 117/150 [08:42<05:14,  9.54s/it]"
     ]
    },
    {
     "name": "stdout",
     "output_type": "stream",
     "text": [
      "https://data.alpaca.markets/v1beta1/news 28\n",
      "error2\n",
      "Number of news articles: 1278\n",
      "Fetching news for date: 2022-01-27\n",
      "start and end news collection 2022-01-20 2022-01-26\n",
      "length of ticker list 503\n",
      "MSFT,AAPL,NVDA,GOOG,GOOGL,AMZN,META,BRK-B,LLY,AVGO,JPM,TSLA,V,WMT,XOM,UNH,MA,PG,COST,JNJ,ORCL,MRK,HD,BAC,CVX,NFLX,ABBV,AMD,KO,CRM,PEP,QCOM,TMO,ADBE,WFC,LIN,DHR,TMUS,ACN,CSCO,MCD,DIS,GE,AMAT,TXN,ABT,AXP,CAT,INTU,VZ,AMGN,PFE,MS,NEE,IBM,PM,NOW,CMCSA,BX,GS,ISRG,MU,UNP,RTX,NKE,COP,SPGI,ETN,UBER,SCHW,INTC,HON,BKNG,SYK,LRCX,T,LOW,C,ELV,PGR,UPS,VRTX,BLK,TJX,ADI,LMT,BSX,REGN,MDT,CB,BA,KLAC,DE,PANW,MMC,ADP,PLD,ANET,CI,ABNB,MDLZ,SNPS,SBUX,FI,AMT,CMG,SO,WM,BMY,HCA,GD,GILD,APH,CDNS,DUK,ICE,MO,ZTS,CME,SHW,CL,TT,TDG,MCO,FCX,MCK,EQIX,CEG,ITW,NXPI,EOG,CVS,CTAS,NOC,PH,MAR,TGT,ECL,BDX,SLB,CSX,EMR,PYPL,MRNA,USB,MPC,PNC,AON,FDX,MSI,PSX,WELL,CARR,RSG,APD,ROP,ORLY,PCAR,SPG,MNST,MMM,AJG,OXY,VLO,EW,MCHP,COF,CPRT,AIG,SMCI,MET,TFC,NSC,HLT,DXCM,GM,AFL,JCI,WMB,TRV,GEV,NEM,F,PCG,SRE,AZO,PSA,ROST,DHI,GWW,DLR,OKE,AEP,FTNT,HES,KDP,TEL,ADSK,STZ,O,URI,EL,PAYX,KMB,D,BK,A,AMP,COR,KHC,ALL,FIS,LEN,PRU,IDXX,CCI,LHX,KMI,HUM,IQV,PWR,NUE,DOW,AME,HSY,CNC,OTIS,CHTR,MSCI,CMI,ACGL,YUM,CTVA,GIS,KR,IR,RCL,LULU,FAST,ODFL,PEG,KVUE,EXC,MPWR,GEHC,SYY,EA,VRSK,NDAQ,MLM,VST,CSGP,XYL,HWM,FANG,VMC,FICO,IT,CTSH,DD,DAL,LVS,ED,BKR,LYB,HPQ,HAL,DG,BIIB,MTD,GRMN,EXR,RMD,ON,GLW,CDW,DFS,PPG,DVN,TSCO,ROK,HIG,WAB,ADM,XEL,EFX,FSLR,VICI,ANSS,EIX,AVB,EBAY,CBRE,FTV,DECK,TTWO,TROW,GPN,RJF,CHD,WTW,BRO,WEC,FITB,TRGP,DOV,VLTO,DLTR,KEYS,MTB,AWK,EQR,IFF,WDC,WST,PHM,ZBH,HPE,NTAP,BR,IRM,CAH,DTE,ETR,NVR,STT,STE,TER,APTV,FE,ROL,LYV,HUBB,WY,PTC,BF-B,AXON,BALL,TSN,PPL,INVH,STLD,TYL,BLDR,K,ARE,LDOS,WRB,ES,GPC,SBAC,CTRA,WAT,HBAN,CCL,STX,MOH,MKC,PFG,ALGN,HRL,VTR,CBOE,TDY,AEE,WBD,CNP,COO,CPAY,OMC,CINF,ULTA,CMS,AVY,NRG,EQT,DRI,J,DPZ,RF,SYF,BAX,ESS,HOLX,VRSN,NTRS,ENPH,EG,UAL,ATO,ILMN,TXT,LH,ZBRA,CE,EXPD,FDS,L,PKG,CLX,IEX,JBHT,CFG,LUV,MAA,IP,DGX,GEN,BBY,NWS,NWSA,MAS,FOX,FOXA,ALB,AES,SWKS,BG,UDR,EXPE,CAG,JBL,MRO,AMCR,AKAM,SNA,CF,WRK,RVTY,POOL,TRMB,WBA,PNR,KEY,NDSN,CPB,DOC,SWK,HST,INCY,LW,LNT,TECH,PODD,NI,MGM,KIM,AOS,VTRS,JKHY,EVRG,BEN,DVA,IPG,UHS,EMN,SJM,LKQ,TAP,JNPR,CRL,CPT,REG,KMX,APA,RL,BBWI,ALLE,WYNN,BXP,EPAM,SOLV,CHRW,HII,FFIV,MOS,CTLT,PAYC,TFX,TPR,QRVO,HSIC,AAL,GNRC,DAY,AIZ,PNW,HAS,PARA,MKTX,FRT,BIO,BWA,MTCH,FMC,GL,MHK,CZR,ETSY,IVZ,RHI,NCLH,CMA\n",
      "https://data.alpaca.markets/v1beta1/news 50\n",
      "https://data.alpaca.markets/v1beta1/news 50\n",
      "https://data.alpaca.markets/v1beta1/news 50\n",
      "https://data.alpaca.markets/v1beta1/news 50\n",
      "https://data.alpaca.markets/v1beta1/news 50\n",
      "https://data.alpaca.markets/v1beta1/news 50\n",
      "https://data.alpaca.markets/v1beta1/news 50\n",
      "https://data.alpaca.markets/v1beta1/news 50\n",
      "https://data.alpaca.markets/v1beta1/news 50\n",
      "https://data.alpaca.markets/v1beta1/news 50\n",
      "https://data.alpaca.markets/v1beta1/news 50\n",
      "https://data.alpaca.markets/v1beta1/news 50\n",
      "https://data.alpaca.markets/v1beta1/news 50\n",
      "https://data.alpaca.markets/v1beta1/news 50\n",
      "https://data.alpaca.markets/v1beta1/news 50\n",
      "https://data.alpaca.markets/v1beta1/news 50\n",
      "https://data.alpaca.markets/v1beta1/news 50\n",
      "https://data.alpaca.markets/v1beta1/news 50\n",
      "https://data.alpaca.markets/v1beta1/news 50\n",
      "https://data.alpaca.markets/v1beta1/news 50\n",
      "https://data.alpaca.markets/v1beta1/news 50\n",
      "https://data.alpaca.markets/v1beta1/news 50\n"
     ]
    },
    {
     "name": "stderr",
     "output_type": "stream",
     "text": [
      " 79%|███████▊  | 118/150 [08:54<05:31, 10.36s/it]"
     ]
    },
    {
     "name": "stdout",
     "output_type": "stream",
     "text": [
      "https://data.alpaca.markets/v1beta1/news 37\n",
      "error2\n",
      "Number of news articles: 1137\n",
      "Fetching news for date: 2022-04-22\n",
      "start and end news collection 2022-04-15 2022-04-21\n",
      "length of ticker list 503\n",
      "MSFT,AAPL,NVDA,GOOG,GOOGL,AMZN,META,BRK-B,LLY,AVGO,JPM,TSLA,V,WMT,XOM,UNH,MA,PG,COST,JNJ,ORCL,MRK,HD,BAC,CVX,NFLX,ABBV,AMD,KO,CRM,PEP,QCOM,TMO,ADBE,WFC,LIN,DHR,TMUS,ACN,CSCO,MCD,DIS,GE,AMAT,TXN,ABT,AXP,CAT,INTU,VZ,AMGN,PFE,MS,NEE,IBM,PM,NOW,CMCSA,BX,GS,ISRG,MU,UNP,RTX,NKE,COP,SPGI,ETN,UBER,SCHW,INTC,HON,BKNG,SYK,LRCX,T,LOW,C,ELV,PGR,UPS,VRTX,BLK,TJX,ADI,LMT,BSX,REGN,MDT,CB,BA,KLAC,DE,PANW,MMC,ADP,PLD,ANET,CI,ABNB,MDLZ,SNPS,SBUX,FI,AMT,CMG,SO,WM,BMY,HCA,GD,GILD,APH,CDNS,DUK,ICE,MO,ZTS,CME,SHW,CL,TT,TDG,MCO,FCX,MCK,EQIX,CEG,ITW,NXPI,EOG,CVS,CTAS,NOC,PH,MAR,TGT,ECL,BDX,SLB,CSX,EMR,PYPL,MRNA,USB,MPC,PNC,AON,FDX,MSI,PSX,WELL,CARR,RSG,APD,ROP,ORLY,PCAR,SPG,MNST,MMM,AJG,OXY,VLO,EW,MCHP,COF,CPRT,AIG,SMCI,MET,TFC,NSC,HLT,DXCM,GM,AFL,JCI,WMB,TRV,GEV,NEM,F,PCG,SRE,AZO,PSA,ROST,DHI,GWW,DLR,OKE,AEP,FTNT,HES,KDP,TEL,ADSK,STZ,O,URI,EL,PAYX,KMB,D,BK,A,AMP,COR,KHC,ALL,FIS,LEN,PRU,IDXX,CCI,LHX,KMI,HUM,IQV,PWR,NUE,DOW,AME,HSY,CNC,OTIS,CHTR,MSCI,CMI,ACGL,YUM,CTVA,GIS,KR,IR,RCL,LULU,FAST,ODFL,PEG,KVUE,EXC,MPWR,GEHC,SYY,EA,VRSK,NDAQ,MLM,VST,CSGP,XYL,HWM,FANG,VMC,FICO,IT,CTSH,DD,DAL,LVS,ED,BKR,LYB,HPQ,HAL,DG,BIIB,MTD,GRMN,EXR,RMD,ON,GLW,CDW,DFS,PPG,DVN,TSCO,ROK,HIG,WAB,ADM,XEL,EFX,FSLR,VICI,ANSS,EIX,AVB,EBAY,CBRE,FTV,DECK,TTWO,TROW,GPN,RJF,CHD,WTW,BRO,WEC,FITB,TRGP,DOV,VLTO,DLTR,KEYS,MTB,AWK,EQR,IFF,WDC,WST,PHM,ZBH,HPE,NTAP,BR,IRM,CAH,DTE,ETR,NVR,STT,STE,TER,APTV,FE,ROL,LYV,HUBB,WY,PTC,BF-B,AXON,BALL,TSN,PPL,INVH,STLD,TYL,BLDR,K,ARE,LDOS,WRB,ES,GPC,SBAC,CTRA,WAT,HBAN,CCL,STX,MOH,MKC,PFG,ALGN,HRL,VTR,CBOE,TDY,AEE,WBD,CNP,COO,CPAY,OMC,CINF,ULTA,CMS,AVY,NRG,EQT,DRI,J,DPZ,RF,SYF,BAX,ESS,HOLX,VRSN,NTRS,ENPH,EG,UAL,ATO,ILMN,TXT,LH,ZBRA,CE,EXPD,FDS,L,PKG,CLX,IEX,JBHT,CFG,LUV,MAA,IP,DGX,GEN,BBY,NWS,NWSA,MAS,FOX,FOXA,ALB,AES,SWKS,BG,UDR,EXPE,CAG,JBL,MRO,AMCR,AKAM,SNA,CF,WRK,RVTY,POOL,TRMB,WBA,PNR,KEY,NDSN,CPB,DOC,SWK,HST,INCY,LW,LNT,TECH,PODD,NI,MGM,KIM,AOS,VTRS,JKHY,EVRG,BEN,DVA,IPG,UHS,EMN,SJM,LKQ,TAP,JNPR,CRL,CPT,REG,KMX,APA,RL,BBWI,ALLE,WYNN,BXP,EPAM,SOLV,CHRW,HII,FFIV,MOS,CTLT,PAYC,TFX,TPR,QRVO,HSIC,AAL,GNRC,DAY,AIZ,PNW,HAS,PARA,MKTX,FRT,BIO,BWA,MTCH,FMC,GL,MHK,CZR,ETSY,IVZ,RHI,NCLH,CMA\n",
      "https://data.alpaca.markets/v1beta1/news 50\n",
      "https://data.alpaca.markets/v1beta1/news 50\n",
      "https://data.alpaca.markets/v1beta1/news 50\n",
      "https://data.alpaca.markets/v1beta1/news 50\n",
      "https://data.alpaca.markets/v1beta1/news 50\n",
      "https://data.alpaca.markets/v1beta1/news 50\n",
      "https://data.alpaca.markets/v1beta1/news 50\n",
      "https://data.alpaca.markets/v1beta1/news 50\n",
      "https://data.alpaca.markets/v1beta1/news 50\n",
      "https://data.alpaca.markets/v1beta1/news 50\n",
      "https://data.alpaca.markets/v1beta1/news 50\n",
      "https://data.alpaca.markets/v1beta1/news 50\n",
      "https://data.alpaca.markets/v1beta1/news 50\n",
      "https://data.alpaca.markets/v1beta1/news 50\n",
      "https://data.alpaca.markets/v1beta1/news 50\n",
      "https://data.alpaca.markets/v1beta1/news 50\n",
      "https://data.alpaca.markets/v1beta1/news 50\n",
      "https://data.alpaca.markets/v1beta1/news 50\n",
      "https://data.alpaca.markets/v1beta1/news 50\n",
      "https://data.alpaca.markets/v1beta1/news 50\n",
      "https://data.alpaca.markets/v1beta1/news 50\n",
      "https://data.alpaca.markets/v1beta1/news 50\n",
      "https://data.alpaca.markets/v1beta1/news 50\n",
      "https://data.alpaca.markets/v1beta1/news 50\n"
     ]
    },
    {
     "name": "stderr",
     "output_type": "stream",
     "text": [
      " 79%|███████▉  | 119/150 [09:08<05:49, 11.29s/it]"
     ]
    },
    {
     "name": "stdout",
     "output_type": "stream",
     "text": [
      "https://data.alpaca.markets/v1beta1/news 7\n",
      "error2\n",
      "Number of news articles: 1207\n",
      "Fetching news for date: 2022-05-18\n",
      "start and end news collection 2022-05-11 2022-05-17\n",
      "length of ticker list 503\n",
      "MSFT,AAPL,NVDA,GOOG,GOOGL,AMZN,META,BRK-B,LLY,AVGO,JPM,TSLA,V,WMT,XOM,UNH,MA,PG,COST,JNJ,ORCL,MRK,HD,BAC,CVX,NFLX,ABBV,AMD,KO,CRM,PEP,QCOM,TMO,ADBE,WFC,LIN,DHR,TMUS,ACN,CSCO,MCD,DIS,GE,AMAT,TXN,ABT,AXP,CAT,INTU,VZ,AMGN,PFE,MS,NEE,IBM,PM,NOW,CMCSA,BX,GS,ISRG,MU,UNP,RTX,NKE,COP,SPGI,ETN,UBER,SCHW,INTC,HON,BKNG,SYK,LRCX,T,LOW,C,ELV,PGR,UPS,VRTX,BLK,TJX,ADI,LMT,BSX,REGN,MDT,CB,BA,KLAC,DE,PANW,MMC,ADP,PLD,ANET,CI,ABNB,MDLZ,SNPS,SBUX,FI,AMT,CMG,SO,WM,BMY,HCA,GD,GILD,APH,CDNS,DUK,ICE,MO,ZTS,CME,SHW,CL,TT,TDG,MCO,FCX,MCK,EQIX,CEG,ITW,NXPI,EOG,CVS,CTAS,NOC,PH,MAR,TGT,ECL,BDX,SLB,CSX,EMR,PYPL,MRNA,USB,MPC,PNC,AON,FDX,MSI,PSX,WELL,CARR,RSG,APD,ROP,ORLY,PCAR,SPG,MNST,MMM,AJG,OXY,VLO,EW,MCHP,COF,CPRT,AIG,SMCI,MET,TFC,NSC,HLT,DXCM,GM,AFL,JCI,WMB,TRV,GEV,NEM,F,PCG,SRE,AZO,PSA,ROST,DHI,GWW,DLR,OKE,AEP,FTNT,HES,KDP,TEL,ADSK,STZ,O,URI,EL,PAYX,KMB,D,BK,A,AMP,COR,KHC,ALL,FIS,LEN,PRU,IDXX,CCI,LHX,KMI,HUM,IQV,PWR,NUE,DOW,AME,HSY,CNC,OTIS,CHTR,MSCI,CMI,ACGL,YUM,CTVA,GIS,KR,IR,RCL,LULU,FAST,ODFL,PEG,KVUE,EXC,MPWR,GEHC,SYY,EA,VRSK,NDAQ,MLM,VST,CSGP,XYL,HWM,FANG,VMC,FICO,IT,CTSH,DD,DAL,LVS,ED,BKR,LYB,HPQ,HAL,DG,BIIB,MTD,GRMN,EXR,RMD,ON,GLW,CDW,DFS,PPG,DVN,TSCO,ROK,HIG,WAB,ADM,XEL,EFX,FSLR,VICI,ANSS,EIX,AVB,EBAY,CBRE,FTV,DECK,TTWO,TROW,GPN,RJF,CHD,WTW,BRO,WEC,FITB,TRGP,DOV,VLTO,DLTR,KEYS,MTB,AWK,EQR,IFF,WDC,WST,PHM,ZBH,HPE,NTAP,BR,IRM,CAH,DTE,ETR,NVR,STT,STE,TER,APTV,FE,ROL,LYV,HUBB,WY,PTC,BF-B,AXON,BALL,TSN,PPL,INVH,STLD,TYL,BLDR,K,ARE,LDOS,WRB,ES,GPC,SBAC,CTRA,WAT,HBAN,CCL,STX,MOH,MKC,PFG,ALGN,HRL,VTR,CBOE,TDY,AEE,WBD,CNP,COO,CPAY,OMC,CINF,ULTA,CMS,AVY,NRG,EQT,DRI,J,DPZ,RF,SYF,BAX,ESS,HOLX,VRSN,NTRS,ENPH,EG,UAL,ATO,ILMN,TXT,LH,ZBRA,CE,EXPD,FDS,L,PKG,CLX,IEX,JBHT,CFG,LUV,MAA,IP,DGX,GEN,BBY,NWS,NWSA,MAS,FOX,FOXA,ALB,AES,SWKS,BG,UDR,EXPE,CAG,JBL,MRO,AMCR,AKAM,SNA,CF,WRK,RVTY,POOL,TRMB,WBA,PNR,KEY,NDSN,CPB,DOC,SWK,HST,INCY,LW,LNT,TECH,PODD,NI,MGM,KIM,AOS,VTRS,JKHY,EVRG,BEN,DVA,IPG,UHS,EMN,SJM,LKQ,TAP,JNPR,CRL,CPT,REG,KMX,APA,RL,BBWI,ALLE,WYNN,BXP,EPAM,SOLV,CHRW,HII,FFIV,MOS,CTLT,PAYC,TFX,TPR,QRVO,HSIC,AAL,GNRC,DAY,AIZ,PNW,HAS,PARA,MKTX,FRT,BIO,BWA,MTCH,FMC,GL,MHK,CZR,ETSY,IVZ,RHI,NCLH,CMA\n",
      "https://data.alpaca.markets/v1beta1/news 50\n",
      "https://data.alpaca.markets/v1beta1/news 50\n",
      "https://data.alpaca.markets/v1beta1/news 50\n",
      "https://data.alpaca.markets/v1beta1/news 50\n",
      "https://data.alpaca.markets/v1beta1/news 50\n",
      "https://data.alpaca.markets/v1beta1/news 50\n",
      "https://data.alpaca.markets/v1beta1/news 50\n",
      "https://data.alpaca.markets/v1beta1/news 50\n",
      "https://data.alpaca.markets/v1beta1/news 50\n",
      "https://data.alpaca.markets/v1beta1/news 50\n",
      "https://data.alpaca.markets/v1beta1/news 50\n",
      "https://data.alpaca.markets/v1beta1/news 50\n",
      "https://data.alpaca.markets/v1beta1/news 50\n",
      "https://data.alpaca.markets/v1beta1/news 50\n",
      "https://data.alpaca.markets/v1beta1/news 50\n"
     ]
    },
    {
     "name": "stderr",
     "output_type": "stream",
     "text": [
      " 80%|████████  | 120/150 [09:16<05:13, 10.47s/it]"
     ]
    },
    {
     "name": "stdout",
     "output_type": "stream",
     "text": [
      "https://data.alpaca.markets/v1beta1/news 35\n",
      "error2\n",
      "Number of news articles: 785\n",
      "Fetching news for date: 2022-05-19\n",
      "start and end news collection 2022-05-12 2022-05-18\n",
      "length of ticker list 503\n",
      "MSFT,AAPL,NVDA,GOOG,GOOGL,AMZN,META,BRK-B,LLY,AVGO,JPM,TSLA,V,WMT,XOM,UNH,MA,PG,COST,JNJ,ORCL,MRK,HD,BAC,CVX,NFLX,ABBV,AMD,KO,CRM,PEP,QCOM,TMO,ADBE,WFC,LIN,DHR,TMUS,ACN,CSCO,MCD,DIS,GE,AMAT,TXN,ABT,AXP,CAT,INTU,VZ,AMGN,PFE,MS,NEE,IBM,PM,NOW,CMCSA,BX,GS,ISRG,MU,UNP,RTX,NKE,COP,SPGI,ETN,UBER,SCHW,INTC,HON,BKNG,SYK,LRCX,T,LOW,C,ELV,PGR,UPS,VRTX,BLK,TJX,ADI,LMT,BSX,REGN,MDT,CB,BA,KLAC,DE,PANW,MMC,ADP,PLD,ANET,CI,ABNB,MDLZ,SNPS,SBUX,FI,AMT,CMG,SO,WM,BMY,HCA,GD,GILD,APH,CDNS,DUK,ICE,MO,ZTS,CME,SHW,CL,TT,TDG,MCO,FCX,MCK,EQIX,CEG,ITW,NXPI,EOG,CVS,CTAS,NOC,PH,MAR,TGT,ECL,BDX,SLB,CSX,EMR,PYPL,MRNA,USB,MPC,PNC,AON,FDX,MSI,PSX,WELL,CARR,RSG,APD,ROP,ORLY,PCAR,SPG,MNST,MMM,AJG,OXY,VLO,EW,MCHP,COF,CPRT,AIG,SMCI,MET,TFC,NSC,HLT,DXCM,GM,AFL,JCI,WMB,TRV,GEV,NEM,F,PCG,SRE,AZO,PSA,ROST,DHI,GWW,DLR,OKE,AEP,FTNT,HES,KDP,TEL,ADSK,STZ,O,URI,EL,PAYX,KMB,D,BK,A,AMP,COR,KHC,ALL,FIS,LEN,PRU,IDXX,CCI,LHX,KMI,HUM,IQV,PWR,NUE,DOW,AME,HSY,CNC,OTIS,CHTR,MSCI,CMI,ACGL,YUM,CTVA,GIS,KR,IR,RCL,LULU,FAST,ODFL,PEG,KVUE,EXC,MPWR,GEHC,SYY,EA,VRSK,NDAQ,MLM,VST,CSGP,XYL,HWM,FANG,VMC,FICO,IT,CTSH,DD,DAL,LVS,ED,BKR,LYB,HPQ,HAL,DG,BIIB,MTD,GRMN,EXR,RMD,ON,GLW,CDW,DFS,PPG,DVN,TSCO,ROK,HIG,WAB,ADM,XEL,EFX,FSLR,VICI,ANSS,EIX,AVB,EBAY,CBRE,FTV,DECK,TTWO,TROW,GPN,RJF,CHD,WTW,BRO,WEC,FITB,TRGP,DOV,VLTO,DLTR,KEYS,MTB,AWK,EQR,IFF,WDC,WST,PHM,ZBH,HPE,NTAP,BR,IRM,CAH,DTE,ETR,NVR,STT,STE,TER,APTV,FE,ROL,LYV,HUBB,WY,PTC,BF-B,AXON,BALL,TSN,PPL,INVH,STLD,TYL,BLDR,K,ARE,LDOS,WRB,ES,GPC,SBAC,CTRA,WAT,HBAN,CCL,STX,MOH,MKC,PFG,ALGN,HRL,VTR,CBOE,TDY,AEE,WBD,CNP,COO,CPAY,OMC,CINF,ULTA,CMS,AVY,NRG,EQT,DRI,J,DPZ,RF,SYF,BAX,ESS,HOLX,VRSN,NTRS,ENPH,EG,UAL,ATO,ILMN,TXT,LH,ZBRA,CE,EXPD,FDS,L,PKG,CLX,IEX,JBHT,CFG,LUV,MAA,IP,DGX,GEN,BBY,NWS,NWSA,MAS,FOX,FOXA,ALB,AES,SWKS,BG,UDR,EXPE,CAG,JBL,MRO,AMCR,AKAM,SNA,CF,WRK,RVTY,POOL,TRMB,WBA,PNR,KEY,NDSN,CPB,DOC,SWK,HST,INCY,LW,LNT,TECH,PODD,NI,MGM,KIM,AOS,VTRS,JKHY,EVRG,BEN,DVA,IPG,UHS,EMN,SJM,LKQ,TAP,JNPR,CRL,CPT,REG,KMX,APA,RL,BBWI,ALLE,WYNN,BXP,EPAM,SOLV,CHRW,HII,FFIV,MOS,CTLT,PAYC,TFX,TPR,QRVO,HSIC,AAL,GNRC,DAY,AIZ,PNW,HAS,PARA,MKTX,FRT,BIO,BWA,MTCH,FMC,GL,MHK,CZR,ETSY,IVZ,RHI,NCLH,CMA\n",
      "https://data.alpaca.markets/v1beta1/news 50\n",
      "https://data.alpaca.markets/v1beta1/news 50\n",
      "https://data.alpaca.markets/v1beta1/news 50\n",
      "https://data.alpaca.markets/v1beta1/news 50\n",
      "https://data.alpaca.markets/v1beta1/news 50\n",
      "https://data.alpaca.markets/v1beta1/news 50\n",
      "https://data.alpaca.markets/v1beta1/news 50\n",
      "https://data.alpaca.markets/v1beta1/news 50\n",
      "https://data.alpaca.markets/v1beta1/news 50\n",
      "https://data.alpaca.markets/v1beta1/news 50\n",
      "https://data.alpaca.markets/v1beta1/news 50\n",
      "https://data.alpaca.markets/v1beta1/news 50\n",
      "https://data.alpaca.markets/v1beta1/news 50\n",
      "https://data.alpaca.markets/v1beta1/news 50\n",
      "https://data.alpaca.markets/v1beta1/news 50\n",
      "https://data.alpaca.markets/v1beta1/news 50\n"
     ]
    },
    {
     "name": "stderr",
     "output_type": "stream",
     "text": [
      " 81%|████████  | 121/150 [09:25<04:51, 10.06s/it]"
     ]
    },
    {
     "name": "stdout",
     "output_type": "stream",
     "text": [
      "https://data.alpaca.markets/v1beta1/news 13\n",
      "error2\n",
      "Number of news articles: 813\n",
      "Fetching news for date: 2022-06-21\n",
      "start and end news collection 2022-06-14 2022-06-20\n",
      "length of ticker list 503\n",
      "MSFT,AAPL,NVDA,GOOG,GOOGL,AMZN,META,BRK-B,LLY,AVGO,JPM,TSLA,V,WMT,XOM,UNH,MA,PG,COST,JNJ,ORCL,MRK,HD,BAC,CVX,NFLX,ABBV,AMD,KO,CRM,PEP,QCOM,TMO,ADBE,WFC,LIN,DHR,TMUS,ACN,CSCO,MCD,DIS,GE,AMAT,TXN,ABT,AXP,CAT,INTU,VZ,AMGN,PFE,MS,NEE,IBM,PM,NOW,CMCSA,BX,GS,ISRG,MU,UNP,RTX,NKE,COP,SPGI,ETN,UBER,SCHW,INTC,HON,BKNG,SYK,LRCX,T,LOW,C,ELV,PGR,UPS,VRTX,BLK,TJX,ADI,LMT,BSX,REGN,MDT,CB,BA,KLAC,DE,PANW,MMC,ADP,PLD,ANET,CI,ABNB,MDLZ,SNPS,SBUX,FI,AMT,CMG,SO,WM,BMY,HCA,GD,GILD,APH,CDNS,DUK,ICE,MO,ZTS,CME,SHW,CL,TT,TDG,MCO,FCX,MCK,EQIX,CEG,ITW,NXPI,EOG,CVS,CTAS,NOC,PH,MAR,TGT,ECL,BDX,SLB,CSX,EMR,PYPL,MRNA,USB,MPC,PNC,AON,FDX,MSI,PSX,WELL,CARR,RSG,APD,ROP,ORLY,PCAR,SPG,MNST,MMM,AJG,OXY,VLO,EW,MCHP,COF,CPRT,AIG,SMCI,MET,TFC,NSC,HLT,DXCM,GM,AFL,JCI,WMB,TRV,GEV,NEM,F,PCG,SRE,AZO,PSA,ROST,DHI,GWW,DLR,OKE,AEP,FTNT,HES,KDP,TEL,ADSK,STZ,O,URI,EL,PAYX,KMB,D,BK,A,AMP,COR,KHC,ALL,FIS,LEN,PRU,IDXX,CCI,LHX,KMI,HUM,IQV,PWR,NUE,DOW,AME,HSY,CNC,OTIS,CHTR,MSCI,CMI,ACGL,YUM,CTVA,GIS,KR,IR,RCL,LULU,FAST,ODFL,PEG,KVUE,EXC,MPWR,GEHC,SYY,EA,VRSK,NDAQ,MLM,VST,CSGP,XYL,HWM,FANG,VMC,FICO,IT,CTSH,DD,DAL,LVS,ED,BKR,LYB,HPQ,HAL,DG,BIIB,MTD,GRMN,EXR,RMD,ON,GLW,CDW,DFS,PPG,DVN,TSCO,ROK,HIG,WAB,ADM,XEL,EFX,FSLR,VICI,ANSS,EIX,AVB,EBAY,CBRE,FTV,DECK,TTWO,TROW,GPN,RJF,CHD,WTW,BRO,WEC,FITB,TRGP,DOV,VLTO,DLTR,KEYS,MTB,AWK,EQR,IFF,WDC,WST,PHM,ZBH,HPE,NTAP,BR,IRM,CAH,DTE,ETR,NVR,STT,STE,TER,APTV,FE,ROL,LYV,HUBB,WY,PTC,BF-B,AXON,BALL,TSN,PPL,INVH,STLD,TYL,BLDR,K,ARE,LDOS,WRB,ES,GPC,SBAC,CTRA,WAT,HBAN,CCL,STX,MOH,MKC,PFG,ALGN,HRL,VTR,CBOE,TDY,AEE,WBD,CNP,COO,CPAY,OMC,CINF,ULTA,CMS,AVY,NRG,EQT,DRI,J,DPZ,RF,SYF,BAX,ESS,HOLX,VRSN,NTRS,ENPH,EG,UAL,ATO,ILMN,TXT,LH,ZBRA,CE,EXPD,FDS,L,PKG,CLX,IEX,JBHT,CFG,LUV,MAA,IP,DGX,GEN,BBY,NWS,NWSA,MAS,FOX,FOXA,ALB,AES,SWKS,BG,UDR,EXPE,CAG,JBL,MRO,AMCR,AKAM,SNA,CF,WRK,RVTY,POOL,TRMB,WBA,PNR,KEY,NDSN,CPB,DOC,SWK,HST,INCY,LW,LNT,TECH,PODD,NI,MGM,KIM,AOS,VTRS,JKHY,EVRG,BEN,DVA,IPG,UHS,EMN,SJM,LKQ,TAP,JNPR,CRL,CPT,REG,KMX,APA,RL,BBWI,ALLE,WYNN,BXP,EPAM,SOLV,CHRW,HII,FFIV,MOS,CTLT,PAYC,TFX,TPR,QRVO,HSIC,AAL,GNRC,DAY,AIZ,PNW,HAS,PARA,MKTX,FRT,BIO,BWA,MTCH,FMC,GL,MHK,CZR,ETSY,IVZ,RHI,NCLH,CMA\n",
      "https://data.alpaca.markets/v1beta1/news 50\n",
      "https://data.alpaca.markets/v1beta1/news 50\n",
      "https://data.alpaca.markets/v1beta1/news 50\n",
      "https://data.alpaca.markets/v1beta1/news 50\n",
      "https://data.alpaca.markets/v1beta1/news 50\n",
      "https://data.alpaca.markets/v1beta1/news 50\n",
      "https://data.alpaca.markets/v1beta1/news 50\n",
      "https://data.alpaca.markets/v1beta1/news 50\n",
      "https://data.alpaca.markets/v1beta1/news 50\n",
      "https://data.alpaca.markets/v1beta1/news 50\n",
      "https://data.alpaca.markets/v1beta1/news 50\n",
      "https://data.alpaca.markets/v1beta1/news 50\n",
      "https://data.alpaca.markets/v1beta1/news 50\n",
      "https://data.alpaca.markets/v1beta1/news 50\n",
      "https://data.alpaca.markets/v1beta1/news 50\n",
      "https://data.alpaca.markets/v1beta1/news 50\n",
      "https://data.alpaca.markets/v1beta1/news 50\n",
      "https://data.alpaca.markets/v1beta1/news 50\n",
      "https://data.alpaca.markets/v1beta1/news 50\n",
      "https://data.alpaca.markets/v1beta1/news 50\n"
     ]
    },
    {
     "name": "stderr",
     "output_type": "stream",
     "text": [
      " 81%|████████▏ | 122/150 [09:35<04:37,  9.90s/it]"
     ]
    },
    {
     "name": "stdout",
     "output_type": "stream",
     "text": [
      "https://data.alpaca.markets/v1beta1/news 0\n",
      "error2\n",
      "Number of news articles: 1000\n",
      "Fetching news for date: 2022-06-23\n",
      "start and end news collection 2022-06-16 2022-06-22\n",
      "length of ticker list 503\n",
      "MSFT,AAPL,NVDA,GOOG,GOOGL,AMZN,META,BRK-B,LLY,AVGO,JPM,TSLA,V,WMT,XOM,UNH,MA,PG,COST,JNJ,ORCL,MRK,HD,BAC,CVX,NFLX,ABBV,AMD,KO,CRM,PEP,QCOM,TMO,ADBE,WFC,LIN,DHR,TMUS,ACN,CSCO,MCD,DIS,GE,AMAT,TXN,ABT,AXP,CAT,INTU,VZ,AMGN,PFE,MS,NEE,IBM,PM,NOW,CMCSA,BX,GS,ISRG,MU,UNP,RTX,NKE,COP,SPGI,ETN,UBER,SCHW,INTC,HON,BKNG,SYK,LRCX,T,LOW,C,ELV,PGR,UPS,VRTX,BLK,TJX,ADI,LMT,BSX,REGN,MDT,CB,BA,KLAC,DE,PANW,MMC,ADP,PLD,ANET,CI,ABNB,MDLZ,SNPS,SBUX,FI,AMT,CMG,SO,WM,BMY,HCA,GD,GILD,APH,CDNS,DUK,ICE,MO,ZTS,CME,SHW,CL,TT,TDG,MCO,FCX,MCK,EQIX,CEG,ITW,NXPI,EOG,CVS,CTAS,NOC,PH,MAR,TGT,ECL,BDX,SLB,CSX,EMR,PYPL,MRNA,USB,MPC,PNC,AON,FDX,MSI,PSX,WELL,CARR,RSG,APD,ROP,ORLY,PCAR,SPG,MNST,MMM,AJG,OXY,VLO,EW,MCHP,COF,CPRT,AIG,SMCI,MET,TFC,NSC,HLT,DXCM,GM,AFL,JCI,WMB,TRV,GEV,NEM,F,PCG,SRE,AZO,PSA,ROST,DHI,GWW,DLR,OKE,AEP,FTNT,HES,KDP,TEL,ADSK,STZ,O,URI,EL,PAYX,KMB,D,BK,A,AMP,COR,KHC,ALL,FIS,LEN,PRU,IDXX,CCI,LHX,KMI,HUM,IQV,PWR,NUE,DOW,AME,HSY,CNC,OTIS,CHTR,MSCI,CMI,ACGL,YUM,CTVA,GIS,KR,IR,RCL,LULU,FAST,ODFL,PEG,KVUE,EXC,MPWR,GEHC,SYY,EA,VRSK,NDAQ,MLM,VST,CSGP,XYL,HWM,FANG,VMC,FICO,IT,CTSH,DD,DAL,LVS,ED,BKR,LYB,HPQ,HAL,DG,BIIB,MTD,GRMN,EXR,RMD,ON,GLW,CDW,DFS,PPG,DVN,TSCO,ROK,HIG,WAB,ADM,XEL,EFX,FSLR,VICI,ANSS,EIX,AVB,EBAY,CBRE,FTV,DECK,TTWO,TROW,GPN,RJF,CHD,WTW,BRO,WEC,FITB,TRGP,DOV,VLTO,DLTR,KEYS,MTB,AWK,EQR,IFF,WDC,WST,PHM,ZBH,HPE,NTAP,BR,IRM,CAH,DTE,ETR,NVR,STT,STE,TER,APTV,FE,ROL,LYV,HUBB,WY,PTC,BF-B,AXON,BALL,TSN,PPL,INVH,STLD,TYL,BLDR,K,ARE,LDOS,WRB,ES,GPC,SBAC,CTRA,WAT,HBAN,CCL,STX,MOH,MKC,PFG,ALGN,HRL,VTR,CBOE,TDY,AEE,WBD,CNP,COO,CPAY,OMC,CINF,ULTA,CMS,AVY,NRG,EQT,DRI,J,DPZ,RF,SYF,BAX,ESS,HOLX,VRSN,NTRS,ENPH,EG,UAL,ATO,ILMN,TXT,LH,ZBRA,CE,EXPD,FDS,L,PKG,CLX,IEX,JBHT,CFG,LUV,MAA,IP,DGX,GEN,BBY,NWS,NWSA,MAS,FOX,FOXA,ALB,AES,SWKS,BG,UDR,EXPE,CAG,JBL,MRO,AMCR,AKAM,SNA,CF,WRK,RVTY,POOL,TRMB,WBA,PNR,KEY,NDSN,CPB,DOC,SWK,HST,INCY,LW,LNT,TECH,PODD,NI,MGM,KIM,AOS,VTRS,JKHY,EVRG,BEN,DVA,IPG,UHS,EMN,SJM,LKQ,TAP,JNPR,CRL,CPT,REG,KMX,APA,RL,BBWI,ALLE,WYNN,BXP,EPAM,SOLV,CHRW,HII,FFIV,MOS,CTLT,PAYC,TFX,TPR,QRVO,HSIC,AAL,GNRC,DAY,AIZ,PNW,HAS,PARA,MKTX,FRT,BIO,BWA,MTCH,FMC,GL,MHK,CZR,ETSY,IVZ,RHI,NCLH,CMA\n",
      "https://data.alpaca.markets/v1beta1/news 50\n",
      "https://data.alpaca.markets/v1beta1/news 50\n",
      "https://data.alpaca.markets/v1beta1/news 50\n",
      "https://data.alpaca.markets/v1beta1/news 50\n",
      "https://data.alpaca.markets/v1beta1/news 50\n",
      "https://data.alpaca.markets/v1beta1/news 50\n",
      "https://data.alpaca.markets/v1beta1/news 50\n",
      "https://data.alpaca.markets/v1beta1/news 50\n",
      "https://data.alpaca.markets/v1beta1/news 50\n",
      "https://data.alpaca.markets/v1beta1/news 50\n",
      "https://data.alpaca.markets/v1beta1/news 50\n",
      "https://data.alpaca.markets/v1beta1/news 50\n",
      "https://data.alpaca.markets/v1beta1/news 50\n",
      "https://data.alpaca.markets/v1beta1/news 50\n",
      "https://data.alpaca.markets/v1beta1/news 50\n"
     ]
    },
    {
     "name": "stderr",
     "output_type": "stream",
     "text": [
      " 82%|████████▏ | 123/150 [09:45<04:27,  9.92s/it]"
     ]
    },
    {
     "name": "stdout",
     "output_type": "stream",
     "text": [
      "https://data.alpaca.markets/v1beta1/news 3\n",
      "error2\n",
      "Number of news articles: 753\n",
      "Fetching news for date: 2022-07-12\n",
      "start and end news collection 2022-07-05 2022-07-11\n",
      "length of ticker list 503\n",
      "MSFT,AAPL,NVDA,GOOG,GOOGL,AMZN,META,BRK-B,LLY,AVGO,JPM,TSLA,V,WMT,XOM,UNH,MA,PG,COST,JNJ,ORCL,MRK,HD,BAC,CVX,NFLX,ABBV,AMD,KO,CRM,PEP,QCOM,TMO,ADBE,WFC,LIN,DHR,TMUS,ACN,CSCO,MCD,DIS,GE,AMAT,TXN,ABT,AXP,CAT,INTU,VZ,AMGN,PFE,MS,NEE,IBM,PM,NOW,CMCSA,BX,GS,ISRG,MU,UNP,RTX,NKE,COP,SPGI,ETN,UBER,SCHW,INTC,HON,BKNG,SYK,LRCX,T,LOW,C,ELV,PGR,UPS,VRTX,BLK,TJX,ADI,LMT,BSX,REGN,MDT,CB,BA,KLAC,DE,PANW,MMC,ADP,PLD,ANET,CI,ABNB,MDLZ,SNPS,SBUX,FI,AMT,CMG,SO,WM,BMY,HCA,GD,GILD,APH,CDNS,DUK,ICE,MO,ZTS,CME,SHW,CL,TT,TDG,MCO,FCX,MCK,EQIX,CEG,ITW,NXPI,EOG,CVS,CTAS,NOC,PH,MAR,TGT,ECL,BDX,SLB,CSX,EMR,PYPL,MRNA,USB,MPC,PNC,AON,FDX,MSI,PSX,WELL,CARR,RSG,APD,ROP,ORLY,PCAR,SPG,MNST,MMM,AJG,OXY,VLO,EW,MCHP,COF,CPRT,AIG,SMCI,MET,TFC,NSC,HLT,DXCM,GM,AFL,JCI,WMB,TRV,GEV,NEM,F,PCG,SRE,AZO,PSA,ROST,DHI,GWW,DLR,OKE,AEP,FTNT,HES,KDP,TEL,ADSK,STZ,O,URI,EL,PAYX,KMB,D,BK,A,AMP,COR,KHC,ALL,FIS,LEN,PRU,IDXX,CCI,LHX,KMI,HUM,IQV,PWR,NUE,DOW,AME,HSY,CNC,OTIS,CHTR,MSCI,CMI,ACGL,YUM,CTVA,GIS,KR,IR,RCL,LULU,FAST,ODFL,PEG,KVUE,EXC,MPWR,GEHC,SYY,EA,VRSK,NDAQ,MLM,VST,CSGP,XYL,HWM,FANG,VMC,FICO,IT,CTSH,DD,DAL,LVS,ED,BKR,LYB,HPQ,HAL,DG,BIIB,MTD,GRMN,EXR,RMD,ON,GLW,CDW,DFS,PPG,DVN,TSCO,ROK,HIG,WAB,ADM,XEL,EFX,FSLR,VICI,ANSS,EIX,AVB,EBAY,CBRE,FTV,DECK,TTWO,TROW,GPN,RJF,CHD,WTW,BRO,WEC,FITB,TRGP,DOV,VLTO,DLTR,KEYS,MTB,AWK,EQR,IFF,WDC,WST,PHM,ZBH,HPE,NTAP,BR,IRM,CAH,DTE,ETR,NVR,STT,STE,TER,APTV,FE,ROL,LYV,HUBB,WY,PTC,BF-B,AXON,BALL,TSN,PPL,INVH,STLD,TYL,BLDR,K,ARE,LDOS,WRB,ES,GPC,SBAC,CTRA,WAT,HBAN,CCL,STX,MOH,MKC,PFG,ALGN,HRL,VTR,CBOE,TDY,AEE,WBD,CNP,COO,CPAY,OMC,CINF,ULTA,CMS,AVY,NRG,EQT,DRI,J,DPZ,RF,SYF,BAX,ESS,HOLX,VRSN,NTRS,ENPH,EG,UAL,ATO,ILMN,TXT,LH,ZBRA,CE,EXPD,FDS,L,PKG,CLX,IEX,JBHT,CFG,LUV,MAA,IP,DGX,GEN,BBY,NWS,NWSA,MAS,FOX,FOXA,ALB,AES,SWKS,BG,UDR,EXPE,CAG,JBL,MRO,AMCR,AKAM,SNA,CF,WRK,RVTY,POOL,TRMB,WBA,PNR,KEY,NDSN,CPB,DOC,SWK,HST,INCY,LW,LNT,TECH,PODD,NI,MGM,KIM,AOS,VTRS,JKHY,EVRG,BEN,DVA,IPG,UHS,EMN,SJM,LKQ,TAP,JNPR,CRL,CPT,REG,KMX,APA,RL,BBWI,ALLE,WYNN,BXP,EPAM,SOLV,CHRW,HII,FFIV,MOS,CTLT,PAYC,TFX,TPR,QRVO,HSIC,AAL,GNRC,DAY,AIZ,PNW,HAS,PARA,MKTX,FRT,BIO,BWA,MTCH,FMC,GL,MHK,CZR,ETSY,IVZ,RHI,NCLH,CMA\n",
      "https://data.alpaca.markets/v1beta1/news 50\n",
      "https://data.alpaca.markets/v1beta1/news 50\n",
      "https://data.alpaca.markets/v1beta1/news 50\n",
      "https://data.alpaca.markets/v1beta1/news 50\n",
      "https://data.alpaca.markets/v1beta1/news 50\n",
      "https://data.alpaca.markets/v1beta1/news 50\n",
      "https://data.alpaca.markets/v1beta1/news 50\n",
      "https://data.alpaca.markets/v1beta1/news 50\n",
      "https://data.alpaca.markets/v1beta1/news 50\n",
      "https://data.alpaca.markets/v1beta1/news 50\n",
      "https://data.alpaca.markets/v1beta1/news 50\n",
      "https://data.alpaca.markets/v1beta1/news 50\n",
      "https://data.alpaca.markets/v1beta1/news 50\n",
      "https://data.alpaca.markets/v1beta1/news 50\n",
      "https://data.alpaca.markets/v1beta1/news 50\n",
      "https://data.alpaca.markets/v1beta1/news 50\n",
      "https://data.alpaca.markets/v1beta1/news 50\n"
     ]
    },
    {
     "name": "stderr",
     "output_type": "stream",
     "text": [
      " 83%|████████▎ | 124/150 [09:54<04:11,  9.69s/it]"
     ]
    },
    {
     "name": "stdout",
     "output_type": "stream",
     "text": [
      "https://data.alpaca.markets/v1beta1/news 10\n",
      "error2\n",
      "Number of news articles: 860\n",
      "Fetching news for date: 2022-08-15\n",
      "start and end news collection 2022-08-08 2022-08-14\n",
      "length of ticker list 503\n",
      "MSFT,AAPL,NVDA,GOOG,GOOGL,AMZN,META,BRK-B,LLY,AVGO,JPM,TSLA,V,WMT,XOM,UNH,MA,PG,COST,JNJ,ORCL,MRK,HD,BAC,CVX,NFLX,ABBV,AMD,KO,CRM,PEP,QCOM,TMO,ADBE,WFC,LIN,DHR,TMUS,ACN,CSCO,MCD,DIS,GE,AMAT,TXN,ABT,AXP,CAT,INTU,VZ,AMGN,PFE,MS,NEE,IBM,PM,NOW,CMCSA,BX,GS,ISRG,MU,UNP,RTX,NKE,COP,SPGI,ETN,UBER,SCHW,INTC,HON,BKNG,SYK,LRCX,T,LOW,C,ELV,PGR,UPS,VRTX,BLK,TJX,ADI,LMT,BSX,REGN,MDT,CB,BA,KLAC,DE,PANW,MMC,ADP,PLD,ANET,CI,ABNB,MDLZ,SNPS,SBUX,FI,AMT,CMG,SO,WM,BMY,HCA,GD,GILD,APH,CDNS,DUK,ICE,MO,ZTS,CME,SHW,CL,TT,TDG,MCO,FCX,MCK,EQIX,CEG,ITW,NXPI,EOG,CVS,CTAS,NOC,PH,MAR,TGT,ECL,BDX,SLB,CSX,EMR,PYPL,MRNA,USB,MPC,PNC,AON,FDX,MSI,PSX,WELL,CARR,RSG,APD,ROP,ORLY,PCAR,SPG,MNST,MMM,AJG,OXY,VLO,EW,MCHP,COF,CPRT,AIG,SMCI,MET,TFC,NSC,HLT,DXCM,GM,AFL,JCI,WMB,TRV,GEV,NEM,F,PCG,SRE,AZO,PSA,ROST,DHI,GWW,DLR,OKE,AEP,FTNT,HES,KDP,TEL,ADSK,STZ,O,URI,EL,PAYX,KMB,D,BK,A,AMP,COR,KHC,ALL,FIS,LEN,PRU,IDXX,CCI,LHX,KMI,HUM,IQV,PWR,NUE,DOW,AME,HSY,CNC,OTIS,CHTR,MSCI,CMI,ACGL,YUM,CTVA,GIS,KR,IR,RCL,LULU,FAST,ODFL,PEG,KVUE,EXC,MPWR,GEHC,SYY,EA,VRSK,NDAQ,MLM,VST,CSGP,XYL,HWM,FANG,VMC,FICO,IT,CTSH,DD,DAL,LVS,ED,BKR,LYB,HPQ,HAL,DG,BIIB,MTD,GRMN,EXR,RMD,ON,GLW,CDW,DFS,PPG,DVN,TSCO,ROK,HIG,WAB,ADM,XEL,EFX,FSLR,VICI,ANSS,EIX,AVB,EBAY,CBRE,FTV,DECK,TTWO,TROW,GPN,RJF,CHD,WTW,BRO,WEC,FITB,TRGP,DOV,VLTO,DLTR,KEYS,MTB,AWK,EQR,IFF,WDC,WST,PHM,ZBH,HPE,NTAP,BR,IRM,CAH,DTE,ETR,NVR,STT,STE,TER,APTV,FE,ROL,LYV,HUBB,WY,PTC,BF-B,AXON,BALL,TSN,PPL,INVH,STLD,TYL,BLDR,K,ARE,LDOS,WRB,ES,GPC,SBAC,CTRA,WAT,HBAN,CCL,STX,MOH,MKC,PFG,ALGN,HRL,VTR,CBOE,TDY,AEE,WBD,CNP,COO,CPAY,OMC,CINF,ULTA,CMS,AVY,NRG,EQT,DRI,J,DPZ,RF,SYF,BAX,ESS,HOLX,VRSN,NTRS,ENPH,EG,UAL,ATO,ILMN,TXT,LH,ZBRA,CE,EXPD,FDS,L,PKG,CLX,IEX,JBHT,CFG,LUV,MAA,IP,DGX,GEN,BBY,NWS,NWSA,MAS,FOX,FOXA,ALB,AES,SWKS,BG,UDR,EXPE,CAG,JBL,MRO,AMCR,AKAM,SNA,CF,WRK,RVTY,POOL,TRMB,WBA,PNR,KEY,NDSN,CPB,DOC,SWK,HST,INCY,LW,LNT,TECH,PODD,NI,MGM,KIM,AOS,VTRS,JKHY,EVRG,BEN,DVA,IPG,UHS,EMN,SJM,LKQ,TAP,JNPR,CRL,CPT,REG,KMX,APA,RL,BBWI,ALLE,WYNN,BXP,EPAM,SOLV,CHRW,HII,FFIV,MOS,CTLT,PAYC,TFX,TPR,QRVO,HSIC,AAL,GNRC,DAY,AIZ,PNW,HAS,PARA,MKTX,FRT,BIO,BWA,MTCH,FMC,GL,MHK,CZR,ETSY,IVZ,RHI,NCLH,CMA\n",
      "https://data.alpaca.markets/v1beta1/news 50\n",
      "https://data.alpaca.markets/v1beta1/news 50\n",
      "https://data.alpaca.markets/v1beta1/news 50\n",
      "https://data.alpaca.markets/v1beta1/news 50\n",
      "https://data.alpaca.markets/v1beta1/news 50\n",
      "https://data.alpaca.markets/v1beta1/news 50\n",
      "https://data.alpaca.markets/v1beta1/news 50\n",
      "https://data.alpaca.markets/v1beta1/news 50\n",
      "https://data.alpaca.markets/v1beta1/news 50\n",
      "https://data.alpaca.markets/v1beta1/news 50\n",
      "https://data.alpaca.markets/v1beta1/news 50\n",
      "https://data.alpaca.markets/v1beta1/news 50\n",
      "https://data.alpaca.markets/v1beta1/news 50\n",
      "https://data.alpaca.markets/v1beta1/news 50\n",
      "https://data.alpaca.markets/v1beta1/news 50\n",
      "https://data.alpaca.markets/v1beta1/news 50\n",
      "https://data.alpaca.markets/v1beta1/news 50\n",
      "https://data.alpaca.markets/v1beta1/news 50\n",
      "https://data.alpaca.markets/v1beta1/news 50\n",
      "https://data.alpaca.markets/v1beta1/news 50\n",
      "https://data.alpaca.markets/v1beta1/news 50\n",
      "https://data.alpaca.markets/v1beta1/news 50\n",
      "https://data.alpaca.markets/v1beta1/news 50\n",
      "https://data.alpaca.markets/v1beta1/news 50\n"
     ]
    },
    {
     "name": "stderr",
     "output_type": "stream",
     "text": [
      " 83%|████████▎ | 125/150 [10:08<04:32, 10.91s/it]"
     ]
    },
    {
     "name": "stdout",
     "output_type": "stream",
     "text": [
      "https://data.alpaca.markets/v1beta1/news 7\n",
      "error2\n",
      "Number of news articles: 1207\n",
      "Fetching news for date: 2022-11-28\n",
      "start and end news collection 2022-11-21 2022-11-27\n",
      "length of ticker list 503\n",
      "MSFT,AAPL,NVDA,GOOG,GOOGL,AMZN,META,BRK-B,LLY,AVGO,JPM,TSLA,V,WMT,XOM,UNH,MA,PG,COST,JNJ,ORCL,MRK,HD,BAC,CVX,NFLX,ABBV,AMD,KO,CRM,PEP,QCOM,TMO,ADBE,WFC,LIN,DHR,TMUS,ACN,CSCO,MCD,DIS,GE,AMAT,TXN,ABT,AXP,CAT,INTU,VZ,AMGN,PFE,MS,NEE,IBM,PM,NOW,CMCSA,BX,GS,ISRG,MU,UNP,RTX,NKE,COP,SPGI,ETN,UBER,SCHW,INTC,HON,BKNG,SYK,LRCX,T,LOW,C,ELV,PGR,UPS,VRTX,BLK,TJX,ADI,LMT,BSX,REGN,MDT,CB,BA,KLAC,DE,PANW,MMC,ADP,PLD,ANET,CI,ABNB,MDLZ,SNPS,SBUX,FI,AMT,CMG,SO,WM,BMY,HCA,GD,GILD,APH,CDNS,DUK,ICE,MO,ZTS,CME,SHW,CL,TT,TDG,MCO,FCX,MCK,EQIX,CEG,ITW,NXPI,EOG,CVS,CTAS,NOC,PH,MAR,TGT,ECL,BDX,SLB,CSX,EMR,PYPL,MRNA,USB,MPC,PNC,AON,FDX,MSI,PSX,WELL,CARR,RSG,APD,ROP,ORLY,PCAR,SPG,MNST,MMM,AJG,OXY,VLO,EW,MCHP,COF,CPRT,AIG,SMCI,MET,TFC,NSC,HLT,DXCM,GM,AFL,JCI,WMB,TRV,GEV,NEM,F,PCG,SRE,AZO,PSA,ROST,DHI,GWW,DLR,OKE,AEP,FTNT,HES,KDP,TEL,ADSK,STZ,O,URI,EL,PAYX,KMB,D,BK,A,AMP,COR,KHC,ALL,FIS,LEN,PRU,IDXX,CCI,LHX,KMI,HUM,IQV,PWR,NUE,DOW,AME,HSY,CNC,OTIS,CHTR,MSCI,CMI,ACGL,YUM,CTVA,GIS,KR,IR,RCL,LULU,FAST,ODFL,PEG,KVUE,EXC,MPWR,GEHC,SYY,EA,VRSK,NDAQ,MLM,VST,CSGP,XYL,HWM,FANG,VMC,FICO,IT,CTSH,DD,DAL,LVS,ED,BKR,LYB,HPQ,HAL,DG,BIIB,MTD,GRMN,EXR,RMD,ON,GLW,CDW,DFS,PPG,DVN,TSCO,ROK,HIG,WAB,ADM,XEL,EFX,FSLR,VICI,ANSS,EIX,AVB,EBAY,CBRE,FTV,DECK,TTWO,TROW,GPN,RJF,CHD,WTW,BRO,WEC,FITB,TRGP,DOV,VLTO,DLTR,KEYS,MTB,AWK,EQR,IFF,WDC,WST,PHM,ZBH,HPE,NTAP,BR,IRM,CAH,DTE,ETR,NVR,STT,STE,TER,APTV,FE,ROL,LYV,HUBB,WY,PTC,BF-B,AXON,BALL,TSN,PPL,INVH,STLD,TYL,BLDR,K,ARE,LDOS,WRB,ES,GPC,SBAC,CTRA,WAT,HBAN,CCL,STX,MOH,MKC,PFG,ALGN,HRL,VTR,CBOE,TDY,AEE,WBD,CNP,COO,CPAY,OMC,CINF,ULTA,CMS,AVY,NRG,EQT,DRI,J,DPZ,RF,SYF,BAX,ESS,HOLX,VRSN,NTRS,ENPH,EG,UAL,ATO,ILMN,TXT,LH,ZBRA,CE,EXPD,FDS,L,PKG,CLX,IEX,JBHT,CFG,LUV,MAA,IP,DGX,GEN,BBY,NWS,NWSA,MAS,FOX,FOXA,ALB,AES,SWKS,BG,UDR,EXPE,CAG,JBL,MRO,AMCR,AKAM,SNA,CF,WRK,RVTY,POOL,TRMB,WBA,PNR,KEY,NDSN,CPB,DOC,SWK,HST,INCY,LW,LNT,TECH,PODD,NI,MGM,KIM,AOS,VTRS,JKHY,EVRG,BEN,DVA,IPG,UHS,EMN,SJM,LKQ,TAP,JNPR,CRL,CPT,REG,KMX,APA,RL,BBWI,ALLE,WYNN,BXP,EPAM,SOLV,CHRW,HII,FFIV,MOS,CTLT,PAYC,TFX,TPR,QRVO,HSIC,AAL,GNRC,DAY,AIZ,PNW,HAS,PARA,MKTX,FRT,BIO,BWA,MTCH,FMC,GL,MHK,CZR,ETSY,IVZ,RHI,NCLH,CMA\n",
      "https://data.alpaca.markets/v1beta1/news 50\n",
      "https://data.alpaca.markets/v1beta1/news 50\n",
      "https://data.alpaca.markets/v1beta1/news 50\n",
      "https://data.alpaca.markets/v1beta1/news 50\n",
      "https://data.alpaca.markets/v1beta1/news 50\n",
      "https://data.alpaca.markets/v1beta1/news 50\n",
      "https://data.alpaca.markets/v1beta1/news 50\n",
      "https://data.alpaca.markets/v1beta1/news 50\n",
      "https://data.alpaca.markets/v1beta1/news 50\n",
      "https://data.alpaca.markets/v1beta1/news 50\n",
      "https://data.alpaca.markets/v1beta1/news 50\n",
      "https://data.alpaca.markets/v1beta1/news 50\n",
      "https://data.alpaca.markets/v1beta1/news 50\n",
      "https://data.alpaca.markets/v1beta1/news 50\n",
      "https://data.alpaca.markets/v1beta1/news 50\n",
      "https://data.alpaca.markets/v1beta1/news 50\n",
      "https://data.alpaca.markets/v1beta1/news 50\n",
      "https://data.alpaca.markets/v1beta1/news 50\n"
     ]
    },
    {
     "name": "stderr",
     "output_type": "stream",
     "text": [
      " 84%|████████▍ | 126/150 [10:18<04:16, 10.70s/it]"
     ]
    },
    {
     "name": "stdout",
     "output_type": "stream",
     "text": [
      "https://data.alpaca.markets/v1beta1/news 32\n",
      "error2\n",
      "Number of news articles: 932\n",
      "Fetching news for date: 2022-12-13\n",
      "start and end news collection 2022-12-06 2022-12-12\n",
      "length of ticker list 503\n",
      "MSFT,AAPL,NVDA,GOOG,GOOGL,AMZN,META,BRK-B,LLY,AVGO,JPM,TSLA,V,WMT,XOM,UNH,MA,PG,COST,JNJ,ORCL,MRK,HD,BAC,CVX,NFLX,ABBV,AMD,KO,CRM,PEP,QCOM,TMO,ADBE,WFC,LIN,DHR,TMUS,ACN,CSCO,MCD,DIS,GE,AMAT,TXN,ABT,AXP,CAT,INTU,VZ,AMGN,PFE,MS,NEE,IBM,PM,NOW,CMCSA,BX,GS,ISRG,MU,UNP,RTX,NKE,COP,SPGI,ETN,UBER,SCHW,INTC,HON,BKNG,SYK,LRCX,T,LOW,C,ELV,PGR,UPS,VRTX,BLK,TJX,ADI,LMT,BSX,REGN,MDT,CB,BA,KLAC,DE,PANW,MMC,ADP,PLD,ANET,CI,ABNB,MDLZ,SNPS,SBUX,FI,AMT,CMG,SO,WM,BMY,HCA,GD,GILD,APH,CDNS,DUK,ICE,MO,ZTS,CME,SHW,CL,TT,TDG,MCO,FCX,MCK,EQIX,CEG,ITW,NXPI,EOG,CVS,CTAS,NOC,PH,MAR,TGT,ECL,BDX,SLB,CSX,EMR,PYPL,MRNA,USB,MPC,PNC,AON,FDX,MSI,PSX,WELL,CARR,RSG,APD,ROP,ORLY,PCAR,SPG,MNST,MMM,AJG,OXY,VLO,EW,MCHP,COF,CPRT,AIG,SMCI,MET,TFC,NSC,HLT,DXCM,GM,AFL,JCI,WMB,TRV,GEV,NEM,F,PCG,SRE,AZO,PSA,ROST,DHI,GWW,DLR,OKE,AEP,FTNT,HES,KDP,TEL,ADSK,STZ,O,URI,EL,PAYX,KMB,D,BK,A,AMP,COR,KHC,ALL,FIS,LEN,PRU,IDXX,CCI,LHX,KMI,HUM,IQV,PWR,NUE,DOW,AME,HSY,CNC,OTIS,CHTR,MSCI,CMI,ACGL,YUM,CTVA,GIS,KR,IR,RCL,LULU,FAST,ODFL,PEG,KVUE,EXC,MPWR,GEHC,SYY,EA,VRSK,NDAQ,MLM,VST,CSGP,XYL,HWM,FANG,VMC,FICO,IT,CTSH,DD,DAL,LVS,ED,BKR,LYB,HPQ,HAL,DG,BIIB,MTD,GRMN,EXR,RMD,ON,GLW,CDW,DFS,PPG,DVN,TSCO,ROK,HIG,WAB,ADM,XEL,EFX,FSLR,VICI,ANSS,EIX,AVB,EBAY,CBRE,FTV,DECK,TTWO,TROW,GPN,RJF,CHD,WTW,BRO,WEC,FITB,TRGP,DOV,VLTO,DLTR,KEYS,MTB,AWK,EQR,IFF,WDC,WST,PHM,ZBH,HPE,NTAP,BR,IRM,CAH,DTE,ETR,NVR,STT,STE,TER,APTV,FE,ROL,LYV,HUBB,WY,PTC,BF-B,AXON,BALL,TSN,PPL,INVH,STLD,TYL,BLDR,K,ARE,LDOS,WRB,ES,GPC,SBAC,CTRA,WAT,HBAN,CCL,STX,MOH,MKC,PFG,ALGN,HRL,VTR,CBOE,TDY,AEE,WBD,CNP,COO,CPAY,OMC,CINF,ULTA,CMS,AVY,NRG,EQT,DRI,J,DPZ,RF,SYF,BAX,ESS,HOLX,VRSN,NTRS,ENPH,EG,UAL,ATO,ILMN,TXT,LH,ZBRA,CE,EXPD,FDS,L,PKG,CLX,IEX,JBHT,CFG,LUV,MAA,IP,DGX,GEN,BBY,NWS,NWSA,MAS,FOX,FOXA,ALB,AES,SWKS,BG,UDR,EXPE,CAG,JBL,MRO,AMCR,AKAM,SNA,CF,WRK,RVTY,POOL,TRMB,WBA,PNR,KEY,NDSN,CPB,DOC,SWK,HST,INCY,LW,LNT,TECH,PODD,NI,MGM,KIM,AOS,VTRS,JKHY,EVRG,BEN,DVA,IPG,UHS,EMN,SJM,LKQ,TAP,JNPR,CRL,CPT,REG,KMX,APA,RL,BBWI,ALLE,WYNN,BXP,EPAM,SOLV,CHRW,HII,FFIV,MOS,CTLT,PAYC,TFX,TPR,QRVO,HSIC,AAL,GNRC,DAY,AIZ,PNW,HAS,PARA,MKTX,FRT,BIO,BWA,MTCH,FMC,GL,MHK,CZR,ETSY,IVZ,RHI,NCLH,CMA\n",
      "https://data.alpaca.markets/v1beta1/news 50\n",
      "https://data.alpaca.markets/v1beta1/news 50\n",
      "https://data.alpaca.markets/v1beta1/news 50\n",
      "https://data.alpaca.markets/v1beta1/news 50\n",
      "https://data.alpaca.markets/v1beta1/news 50\n",
      "https://data.alpaca.markets/v1beta1/news 50\n",
      "https://data.alpaca.markets/v1beta1/news 50\n",
      "https://data.alpaca.markets/v1beta1/news 50\n",
      "https://data.alpaca.markets/v1beta1/news 50\n",
      "https://data.alpaca.markets/v1beta1/news 50\n",
      "https://data.alpaca.markets/v1beta1/news 50\n",
      "https://data.alpaca.markets/v1beta1/news 50\n",
      "https://data.alpaca.markets/v1beta1/news 50\n",
      "https://data.alpaca.markets/v1beta1/news 50\n",
      "https://data.alpaca.markets/v1beta1/news 50\n",
      "https://data.alpaca.markets/v1beta1/news 50\n",
      "https://data.alpaca.markets/v1beta1/news 50\n",
      "https://data.alpaca.markets/v1beta1/news 50\n",
      "https://data.alpaca.markets/v1beta1/news 50\n",
      "https://data.alpaca.markets/v1beta1/news 50\n",
      "https://data.alpaca.markets/v1beta1/news 50\n"
     ]
    },
    {
     "name": "stderr",
     "output_type": "stream",
     "text": [
      " 85%|████████▍ | 127/150 [10:29<04:08, 10.80s/it]"
     ]
    },
    {
     "name": "stdout",
     "output_type": "stream",
     "text": [
      "https://data.alpaca.markets/v1beta1/news 7\n",
      "error2\n",
      "Number of news articles: 1057\n",
      "Fetching news for date: 2023-01-12\n",
      "start and end news collection 2023-01-05 2023-01-11\n",
      "length of ticker list 503\n",
      "MSFT,AAPL,NVDA,GOOG,GOOGL,AMZN,META,BRK-B,LLY,AVGO,JPM,TSLA,V,WMT,XOM,UNH,MA,PG,COST,JNJ,ORCL,MRK,HD,BAC,CVX,NFLX,ABBV,AMD,KO,CRM,PEP,QCOM,TMO,ADBE,WFC,LIN,DHR,TMUS,ACN,CSCO,MCD,DIS,GE,AMAT,TXN,ABT,AXP,CAT,INTU,VZ,AMGN,PFE,MS,NEE,IBM,PM,NOW,CMCSA,BX,GS,ISRG,MU,UNP,RTX,NKE,COP,SPGI,ETN,UBER,SCHW,INTC,HON,BKNG,SYK,LRCX,T,LOW,C,ELV,PGR,UPS,VRTX,BLK,TJX,ADI,LMT,BSX,REGN,MDT,CB,BA,KLAC,DE,PANW,MMC,ADP,PLD,ANET,CI,ABNB,MDLZ,SNPS,SBUX,FI,AMT,CMG,SO,WM,BMY,HCA,GD,GILD,APH,CDNS,DUK,ICE,MO,ZTS,CME,SHW,CL,TT,TDG,MCO,FCX,MCK,EQIX,CEG,ITW,NXPI,EOG,CVS,CTAS,NOC,PH,MAR,TGT,ECL,BDX,SLB,CSX,EMR,PYPL,MRNA,USB,MPC,PNC,AON,FDX,MSI,PSX,WELL,CARR,RSG,APD,ROP,ORLY,PCAR,SPG,MNST,MMM,AJG,OXY,VLO,EW,MCHP,COF,CPRT,AIG,SMCI,MET,TFC,NSC,HLT,DXCM,GM,AFL,JCI,WMB,TRV,GEV,NEM,F,PCG,SRE,AZO,PSA,ROST,DHI,GWW,DLR,OKE,AEP,FTNT,HES,KDP,TEL,ADSK,STZ,O,URI,EL,PAYX,KMB,D,BK,A,AMP,COR,KHC,ALL,FIS,LEN,PRU,IDXX,CCI,LHX,KMI,HUM,IQV,PWR,NUE,DOW,AME,HSY,CNC,OTIS,CHTR,MSCI,CMI,ACGL,YUM,CTVA,GIS,KR,IR,RCL,LULU,FAST,ODFL,PEG,KVUE,EXC,MPWR,GEHC,SYY,EA,VRSK,NDAQ,MLM,VST,CSGP,XYL,HWM,FANG,VMC,FICO,IT,CTSH,DD,DAL,LVS,ED,BKR,LYB,HPQ,HAL,DG,BIIB,MTD,GRMN,EXR,RMD,ON,GLW,CDW,DFS,PPG,DVN,TSCO,ROK,HIG,WAB,ADM,XEL,EFX,FSLR,VICI,ANSS,EIX,AVB,EBAY,CBRE,FTV,DECK,TTWO,TROW,GPN,RJF,CHD,WTW,BRO,WEC,FITB,TRGP,DOV,VLTO,DLTR,KEYS,MTB,AWK,EQR,IFF,WDC,WST,PHM,ZBH,HPE,NTAP,BR,IRM,CAH,DTE,ETR,NVR,STT,STE,TER,APTV,FE,ROL,LYV,HUBB,WY,PTC,BF-B,AXON,BALL,TSN,PPL,INVH,STLD,TYL,BLDR,K,ARE,LDOS,WRB,ES,GPC,SBAC,CTRA,WAT,HBAN,CCL,STX,MOH,MKC,PFG,ALGN,HRL,VTR,CBOE,TDY,AEE,WBD,CNP,COO,CPAY,OMC,CINF,ULTA,CMS,AVY,NRG,EQT,DRI,J,DPZ,RF,SYF,BAX,ESS,HOLX,VRSN,NTRS,ENPH,EG,UAL,ATO,ILMN,TXT,LH,ZBRA,CE,EXPD,FDS,L,PKG,CLX,IEX,JBHT,CFG,LUV,MAA,IP,DGX,GEN,BBY,NWS,NWSA,MAS,FOX,FOXA,ALB,AES,SWKS,BG,UDR,EXPE,CAG,JBL,MRO,AMCR,AKAM,SNA,CF,WRK,RVTY,POOL,TRMB,WBA,PNR,KEY,NDSN,CPB,DOC,SWK,HST,INCY,LW,LNT,TECH,PODD,NI,MGM,KIM,AOS,VTRS,JKHY,EVRG,BEN,DVA,IPG,UHS,EMN,SJM,LKQ,TAP,JNPR,CRL,CPT,REG,KMX,APA,RL,BBWI,ALLE,WYNN,BXP,EPAM,SOLV,CHRW,HII,FFIV,MOS,CTLT,PAYC,TFX,TPR,QRVO,HSIC,AAL,GNRC,DAY,AIZ,PNW,HAS,PARA,MKTX,FRT,BIO,BWA,MTCH,FMC,GL,MHK,CZR,ETSY,IVZ,RHI,NCLH,CMA\n",
      "https://data.alpaca.markets/v1beta1/news 50\n",
      "https://data.alpaca.markets/v1beta1/news 50\n",
      "https://data.alpaca.markets/v1beta1/news 50\n",
      "https://data.alpaca.markets/v1beta1/news 50\n",
      "https://data.alpaca.markets/v1beta1/news 50\n",
      "https://data.alpaca.markets/v1beta1/news 50\n",
      "https://data.alpaca.markets/v1beta1/news 50\n",
      "https://data.alpaca.markets/v1beta1/news 50\n",
      "https://data.alpaca.markets/v1beta1/news 50\n",
      "https://data.alpaca.markets/v1beta1/news 50\n",
      "https://data.alpaca.markets/v1beta1/news 50\n",
      "https://data.alpaca.markets/v1beta1/news 50\n",
      "https://data.alpaca.markets/v1beta1/news 50\n",
      "https://data.alpaca.markets/v1beta1/news 50\n",
      "https://data.alpaca.markets/v1beta1/news 50\n",
      "https://data.alpaca.markets/v1beta1/news 50\n",
      "https://data.alpaca.markets/v1beta1/news 50\n",
      "https://data.alpaca.markets/v1beta1/news 50\n",
      "https://data.alpaca.markets/v1beta1/news 50\n",
      "https://data.alpaca.markets/v1beta1/news 50\n",
      "https://data.alpaca.markets/v1beta1/news 50\n",
      "https://data.alpaca.markets/v1beta1/news 50\n"
     ]
    },
    {
     "name": "stderr",
     "output_type": "stream",
     "text": [
      " 85%|████████▌ | 128/150 [10:41<04:05, 11.15s/it]"
     ]
    },
    {
     "name": "stdout",
     "output_type": "stream",
     "text": [
      "https://data.alpaca.markets/v1beta1/news 4\n",
      "error2\n",
      "Number of news articles: 1104\n",
      "Fetching news for date: 2023-02-15\n",
      "start and end news collection 2023-02-08 2023-02-14\n",
      "length of ticker list 503\n",
      "MSFT,AAPL,NVDA,GOOG,GOOGL,AMZN,META,BRK-B,LLY,AVGO,JPM,TSLA,V,WMT,XOM,UNH,MA,PG,COST,JNJ,ORCL,MRK,HD,BAC,CVX,NFLX,ABBV,AMD,KO,CRM,PEP,QCOM,TMO,ADBE,WFC,LIN,DHR,TMUS,ACN,CSCO,MCD,DIS,GE,AMAT,TXN,ABT,AXP,CAT,INTU,VZ,AMGN,PFE,MS,NEE,IBM,PM,NOW,CMCSA,BX,GS,ISRG,MU,UNP,RTX,NKE,COP,SPGI,ETN,UBER,SCHW,INTC,HON,BKNG,SYK,LRCX,T,LOW,C,ELV,PGR,UPS,VRTX,BLK,TJX,ADI,LMT,BSX,REGN,MDT,CB,BA,KLAC,DE,PANW,MMC,ADP,PLD,ANET,CI,ABNB,MDLZ,SNPS,SBUX,FI,AMT,CMG,SO,WM,BMY,HCA,GD,GILD,APH,CDNS,DUK,ICE,MO,ZTS,CME,SHW,CL,TT,TDG,MCO,FCX,MCK,EQIX,CEG,ITW,NXPI,EOG,CVS,CTAS,NOC,PH,MAR,TGT,ECL,BDX,SLB,CSX,EMR,PYPL,MRNA,USB,MPC,PNC,AON,FDX,MSI,PSX,WELL,CARR,RSG,APD,ROP,ORLY,PCAR,SPG,MNST,MMM,AJG,OXY,VLO,EW,MCHP,COF,CPRT,AIG,SMCI,MET,TFC,NSC,HLT,DXCM,GM,AFL,JCI,WMB,TRV,GEV,NEM,F,PCG,SRE,AZO,PSA,ROST,DHI,GWW,DLR,OKE,AEP,FTNT,HES,KDP,TEL,ADSK,STZ,O,URI,EL,PAYX,KMB,D,BK,A,AMP,COR,KHC,ALL,FIS,LEN,PRU,IDXX,CCI,LHX,KMI,HUM,IQV,PWR,NUE,DOW,AME,HSY,CNC,OTIS,CHTR,MSCI,CMI,ACGL,YUM,CTVA,GIS,KR,IR,RCL,LULU,FAST,ODFL,PEG,KVUE,EXC,MPWR,GEHC,SYY,EA,VRSK,NDAQ,MLM,VST,CSGP,XYL,HWM,FANG,VMC,FICO,IT,CTSH,DD,DAL,LVS,ED,BKR,LYB,HPQ,HAL,DG,BIIB,MTD,GRMN,EXR,RMD,ON,GLW,CDW,DFS,PPG,DVN,TSCO,ROK,HIG,WAB,ADM,XEL,EFX,FSLR,VICI,ANSS,EIX,AVB,EBAY,CBRE,FTV,DECK,TTWO,TROW,GPN,RJF,CHD,WTW,BRO,WEC,FITB,TRGP,DOV,VLTO,DLTR,KEYS,MTB,AWK,EQR,IFF,WDC,WST,PHM,ZBH,HPE,NTAP,BR,IRM,CAH,DTE,ETR,NVR,STT,STE,TER,APTV,FE,ROL,LYV,HUBB,WY,PTC,BF-B,AXON,BALL,TSN,PPL,INVH,STLD,TYL,BLDR,K,ARE,LDOS,WRB,ES,GPC,SBAC,CTRA,WAT,HBAN,CCL,STX,MOH,MKC,PFG,ALGN,HRL,VTR,CBOE,TDY,AEE,WBD,CNP,COO,CPAY,OMC,CINF,ULTA,CMS,AVY,NRG,EQT,DRI,J,DPZ,RF,SYF,BAX,ESS,HOLX,VRSN,NTRS,ENPH,EG,UAL,ATO,ILMN,TXT,LH,ZBRA,CE,EXPD,FDS,L,PKG,CLX,IEX,JBHT,CFG,LUV,MAA,IP,DGX,GEN,BBY,NWS,NWSA,MAS,FOX,FOXA,ALB,AES,SWKS,BG,UDR,EXPE,CAG,JBL,MRO,AMCR,AKAM,SNA,CF,WRK,RVTY,POOL,TRMB,WBA,PNR,KEY,NDSN,CPB,DOC,SWK,HST,INCY,LW,LNT,TECH,PODD,NI,MGM,KIM,AOS,VTRS,JKHY,EVRG,BEN,DVA,IPG,UHS,EMN,SJM,LKQ,TAP,JNPR,CRL,CPT,REG,KMX,APA,RL,BBWI,ALLE,WYNN,BXP,EPAM,SOLV,CHRW,HII,FFIV,MOS,CTLT,PAYC,TFX,TPR,QRVO,HSIC,AAL,GNRC,DAY,AIZ,PNW,HAS,PARA,MKTX,FRT,BIO,BWA,MTCH,FMC,GL,MHK,CZR,ETSY,IVZ,RHI,NCLH,CMA\n",
      "https://data.alpaca.markets/v1beta1/news 50\n",
      "https://data.alpaca.markets/v1beta1/news 50\n",
      "https://data.alpaca.markets/v1beta1/news 50\n",
      "https://data.alpaca.markets/v1beta1/news 50\n",
      "https://data.alpaca.markets/v1beta1/news 50\n",
      "https://data.alpaca.markets/v1beta1/news 50\n",
      "https://data.alpaca.markets/v1beta1/news 50\n",
      "https://data.alpaca.markets/v1beta1/news 50\n",
      "https://data.alpaca.markets/v1beta1/news 50\n",
      "https://data.alpaca.markets/v1beta1/news 50\n",
      "https://data.alpaca.markets/v1beta1/news 50\n",
      "https://data.alpaca.markets/v1beta1/news 50\n",
      "https://data.alpaca.markets/v1beta1/news 50\n",
      "https://data.alpaca.markets/v1beta1/news 50\n",
      "https://data.alpaca.markets/v1beta1/news 50\n",
      "https://data.alpaca.markets/v1beta1/news 50\n",
      "https://data.alpaca.markets/v1beta1/news 50\n",
      "https://data.alpaca.markets/v1beta1/news 50\n",
      "https://data.alpaca.markets/v1beta1/news 50\n",
      "https://data.alpaca.markets/v1beta1/news 50\n",
      "https://data.alpaca.markets/v1beta1/news 50\n",
      "https://data.alpaca.markets/v1beta1/news 50\n",
      "https://data.alpaca.markets/v1beta1/news 50\n",
      "https://data.alpaca.markets/v1beta1/news 50\n"
     ]
    },
    {
     "name": "stderr",
     "output_type": "stream",
     "text": [
      " 86%|████████▌ | 129/150 [10:52<03:55, 11.22s/it]"
     ]
    },
    {
     "name": "stdout",
     "output_type": "stream",
     "text": [
      "https://data.alpaca.markets/v1beta1/news 12\n",
      "error2\n",
      "Number of news articles: 1212\n",
      "Fetching news for date: 2023-02-24\n",
      "start and end news collection 2023-02-17 2023-02-23\n",
      "length of ticker list 503\n",
      "MSFT,AAPL,NVDA,GOOG,GOOGL,AMZN,META,BRK-B,LLY,AVGO,JPM,TSLA,V,WMT,XOM,UNH,MA,PG,COST,JNJ,ORCL,MRK,HD,BAC,CVX,NFLX,ABBV,AMD,KO,CRM,PEP,QCOM,TMO,ADBE,WFC,LIN,DHR,TMUS,ACN,CSCO,MCD,DIS,GE,AMAT,TXN,ABT,AXP,CAT,INTU,VZ,AMGN,PFE,MS,NEE,IBM,PM,NOW,CMCSA,BX,GS,ISRG,MU,UNP,RTX,NKE,COP,SPGI,ETN,UBER,SCHW,INTC,HON,BKNG,SYK,LRCX,T,LOW,C,ELV,PGR,UPS,VRTX,BLK,TJX,ADI,LMT,BSX,REGN,MDT,CB,BA,KLAC,DE,PANW,MMC,ADP,PLD,ANET,CI,ABNB,MDLZ,SNPS,SBUX,FI,AMT,CMG,SO,WM,BMY,HCA,GD,GILD,APH,CDNS,DUK,ICE,MO,ZTS,CME,SHW,CL,TT,TDG,MCO,FCX,MCK,EQIX,CEG,ITW,NXPI,EOG,CVS,CTAS,NOC,PH,MAR,TGT,ECL,BDX,SLB,CSX,EMR,PYPL,MRNA,USB,MPC,PNC,AON,FDX,MSI,PSX,WELL,CARR,RSG,APD,ROP,ORLY,PCAR,SPG,MNST,MMM,AJG,OXY,VLO,EW,MCHP,COF,CPRT,AIG,SMCI,MET,TFC,NSC,HLT,DXCM,GM,AFL,JCI,WMB,TRV,GEV,NEM,F,PCG,SRE,AZO,PSA,ROST,DHI,GWW,DLR,OKE,AEP,FTNT,HES,KDP,TEL,ADSK,STZ,O,URI,EL,PAYX,KMB,D,BK,A,AMP,COR,KHC,ALL,FIS,LEN,PRU,IDXX,CCI,LHX,KMI,HUM,IQV,PWR,NUE,DOW,AME,HSY,CNC,OTIS,CHTR,MSCI,CMI,ACGL,YUM,CTVA,GIS,KR,IR,RCL,LULU,FAST,ODFL,PEG,KVUE,EXC,MPWR,GEHC,SYY,EA,VRSK,NDAQ,MLM,VST,CSGP,XYL,HWM,FANG,VMC,FICO,IT,CTSH,DD,DAL,LVS,ED,BKR,LYB,HPQ,HAL,DG,BIIB,MTD,GRMN,EXR,RMD,ON,GLW,CDW,DFS,PPG,DVN,TSCO,ROK,HIG,WAB,ADM,XEL,EFX,FSLR,VICI,ANSS,EIX,AVB,EBAY,CBRE,FTV,DECK,TTWO,TROW,GPN,RJF,CHD,WTW,BRO,WEC,FITB,TRGP,DOV,VLTO,DLTR,KEYS,MTB,AWK,EQR,IFF,WDC,WST,PHM,ZBH,HPE,NTAP,BR,IRM,CAH,DTE,ETR,NVR,STT,STE,TER,APTV,FE,ROL,LYV,HUBB,WY,PTC,BF-B,AXON,BALL,TSN,PPL,INVH,STLD,TYL,BLDR,K,ARE,LDOS,WRB,ES,GPC,SBAC,CTRA,WAT,HBAN,CCL,STX,MOH,MKC,PFG,ALGN,HRL,VTR,CBOE,TDY,AEE,WBD,CNP,COO,CPAY,OMC,CINF,ULTA,CMS,AVY,NRG,EQT,DRI,J,DPZ,RF,SYF,BAX,ESS,HOLX,VRSN,NTRS,ENPH,EG,UAL,ATO,ILMN,TXT,LH,ZBRA,CE,EXPD,FDS,L,PKG,CLX,IEX,JBHT,CFG,LUV,MAA,IP,DGX,GEN,BBY,NWS,NWSA,MAS,FOX,FOXA,ALB,AES,SWKS,BG,UDR,EXPE,CAG,JBL,MRO,AMCR,AKAM,SNA,CF,WRK,RVTY,POOL,TRMB,WBA,PNR,KEY,NDSN,CPB,DOC,SWK,HST,INCY,LW,LNT,TECH,PODD,NI,MGM,KIM,AOS,VTRS,JKHY,EVRG,BEN,DVA,IPG,UHS,EMN,SJM,LKQ,TAP,JNPR,CRL,CPT,REG,KMX,APA,RL,BBWI,ALLE,WYNN,BXP,EPAM,SOLV,CHRW,HII,FFIV,MOS,CTLT,PAYC,TFX,TPR,QRVO,HSIC,AAL,GNRC,DAY,AIZ,PNW,HAS,PARA,MKTX,FRT,BIO,BWA,MTCH,FMC,GL,MHK,CZR,ETSY,IVZ,RHI,NCLH,CMA\n",
      "https://data.alpaca.markets/v1beta1/news 50\n",
      "https://data.alpaca.markets/v1beta1/news 50\n",
      "https://data.alpaca.markets/v1beta1/news 50\n",
      "https://data.alpaca.markets/v1beta1/news 50\n",
      "https://data.alpaca.markets/v1beta1/news 50\n",
      "https://data.alpaca.markets/v1beta1/news 50\n",
      "https://data.alpaca.markets/v1beta1/news 50\n",
      "https://data.alpaca.markets/v1beta1/news 50\n",
      "https://data.alpaca.markets/v1beta1/news 50\n",
      "https://data.alpaca.markets/v1beta1/news 50\n",
      "https://data.alpaca.markets/v1beta1/news 50\n",
      "https://data.alpaca.markets/v1beta1/news 50\n",
      "https://data.alpaca.markets/v1beta1/news 50\n",
      "https://data.alpaca.markets/v1beta1/news 50\n",
      "https://data.alpaca.markets/v1beta1/news 50\n",
      "https://data.alpaca.markets/v1beta1/news 50\n"
     ]
    },
    {
     "name": "stderr",
     "output_type": "stream",
     "text": [
      " 87%|████████▋ | 130/150 [10:58<03:11,  9.55s/it]"
     ]
    },
    {
     "name": "stdout",
     "output_type": "stream",
     "text": [
      "https://data.alpaca.markets/v1beta1/news 15\n",
      "error2\n",
      "Number of news articles: 815\n",
      "Fetching news for date: 2023-03-23\n",
      "start and end news collection 2023-03-16 2023-03-22\n",
      "length of ticker list 503\n",
      "MSFT,AAPL,NVDA,GOOG,GOOGL,AMZN,META,BRK-B,LLY,AVGO,JPM,TSLA,V,WMT,XOM,UNH,MA,PG,COST,JNJ,ORCL,MRK,HD,BAC,CVX,NFLX,ABBV,AMD,KO,CRM,PEP,QCOM,TMO,ADBE,WFC,LIN,DHR,TMUS,ACN,CSCO,MCD,DIS,GE,AMAT,TXN,ABT,AXP,CAT,INTU,VZ,AMGN,PFE,MS,NEE,IBM,PM,NOW,CMCSA,BX,GS,ISRG,MU,UNP,RTX,NKE,COP,SPGI,ETN,UBER,SCHW,INTC,HON,BKNG,SYK,LRCX,T,LOW,C,ELV,PGR,UPS,VRTX,BLK,TJX,ADI,LMT,BSX,REGN,MDT,CB,BA,KLAC,DE,PANW,MMC,ADP,PLD,ANET,CI,ABNB,MDLZ,SNPS,SBUX,FI,AMT,CMG,SO,WM,BMY,HCA,GD,GILD,APH,CDNS,DUK,ICE,MO,ZTS,CME,SHW,CL,TT,TDG,MCO,FCX,MCK,EQIX,CEG,ITW,NXPI,EOG,CVS,CTAS,NOC,PH,MAR,TGT,ECL,BDX,SLB,CSX,EMR,PYPL,MRNA,USB,MPC,PNC,AON,FDX,MSI,PSX,WELL,CARR,RSG,APD,ROP,ORLY,PCAR,SPG,MNST,MMM,AJG,OXY,VLO,EW,MCHP,COF,CPRT,AIG,SMCI,MET,TFC,NSC,HLT,DXCM,GM,AFL,JCI,WMB,TRV,GEV,NEM,F,PCG,SRE,AZO,PSA,ROST,DHI,GWW,DLR,OKE,AEP,FTNT,HES,KDP,TEL,ADSK,STZ,O,URI,EL,PAYX,KMB,D,BK,A,AMP,COR,KHC,ALL,FIS,LEN,PRU,IDXX,CCI,LHX,KMI,HUM,IQV,PWR,NUE,DOW,AME,HSY,CNC,OTIS,CHTR,MSCI,CMI,ACGL,YUM,CTVA,GIS,KR,IR,RCL,LULU,FAST,ODFL,PEG,KVUE,EXC,MPWR,GEHC,SYY,EA,VRSK,NDAQ,MLM,VST,CSGP,XYL,HWM,FANG,VMC,FICO,IT,CTSH,DD,DAL,LVS,ED,BKR,LYB,HPQ,HAL,DG,BIIB,MTD,GRMN,EXR,RMD,ON,GLW,CDW,DFS,PPG,DVN,TSCO,ROK,HIG,WAB,ADM,XEL,EFX,FSLR,VICI,ANSS,EIX,AVB,EBAY,CBRE,FTV,DECK,TTWO,TROW,GPN,RJF,CHD,WTW,BRO,WEC,FITB,TRGP,DOV,VLTO,DLTR,KEYS,MTB,AWK,EQR,IFF,WDC,WST,PHM,ZBH,HPE,NTAP,BR,IRM,CAH,DTE,ETR,NVR,STT,STE,TER,APTV,FE,ROL,LYV,HUBB,WY,PTC,BF-B,AXON,BALL,TSN,PPL,INVH,STLD,TYL,BLDR,K,ARE,LDOS,WRB,ES,GPC,SBAC,CTRA,WAT,HBAN,CCL,STX,MOH,MKC,PFG,ALGN,HRL,VTR,CBOE,TDY,AEE,WBD,CNP,COO,CPAY,OMC,CINF,ULTA,CMS,AVY,NRG,EQT,DRI,J,DPZ,RF,SYF,BAX,ESS,HOLX,VRSN,NTRS,ENPH,EG,UAL,ATO,ILMN,TXT,LH,ZBRA,CE,EXPD,FDS,L,PKG,CLX,IEX,JBHT,CFG,LUV,MAA,IP,DGX,GEN,BBY,NWS,NWSA,MAS,FOX,FOXA,ALB,AES,SWKS,BG,UDR,EXPE,CAG,JBL,MRO,AMCR,AKAM,SNA,CF,WRK,RVTY,POOL,TRMB,WBA,PNR,KEY,NDSN,CPB,DOC,SWK,HST,INCY,LW,LNT,TECH,PODD,NI,MGM,KIM,AOS,VTRS,JKHY,EVRG,BEN,DVA,IPG,UHS,EMN,SJM,LKQ,TAP,JNPR,CRL,CPT,REG,KMX,APA,RL,BBWI,ALLE,WYNN,BXP,EPAM,SOLV,CHRW,HII,FFIV,MOS,CTLT,PAYC,TFX,TPR,QRVO,HSIC,AAL,GNRC,DAY,AIZ,PNW,HAS,PARA,MKTX,FRT,BIO,BWA,MTCH,FMC,GL,MHK,CZR,ETSY,IVZ,RHI,NCLH,CMA\n",
      "https://data.alpaca.markets/v1beta1/news 50\n",
      "https://data.alpaca.markets/v1beta1/news 50\n",
      "https://data.alpaca.markets/v1beta1/news 50\n",
      "https://data.alpaca.markets/v1beta1/news 50\n",
      "https://data.alpaca.markets/v1beta1/news 50\n",
      "https://data.alpaca.markets/v1beta1/news 50\n",
      "https://data.alpaca.markets/v1beta1/news 50\n",
      "https://data.alpaca.markets/v1beta1/news 50\n",
      "https://data.alpaca.markets/v1beta1/news 50\n",
      "https://data.alpaca.markets/v1beta1/news 50\n",
      "https://data.alpaca.markets/v1beta1/news 50\n",
      "https://data.alpaca.markets/v1beta1/news 50\n",
      "https://data.alpaca.markets/v1beta1/news 50\n",
      "https://data.alpaca.markets/v1beta1/news 50\n",
      "https://data.alpaca.markets/v1beta1/news 50\n",
      "https://data.alpaca.markets/v1beta1/news 50\n",
      "https://data.alpaca.markets/v1beta1/news 50\n",
      "https://data.alpaca.markets/v1beta1/news 50\n",
      "https://data.alpaca.markets/v1beta1/news 50\n",
      "https://data.alpaca.markets/v1beta1/news 50\n"
     ]
    },
    {
     "name": "stderr",
     "output_type": "stream",
     "text": [
      " 87%|████████▋ | 131/150 [11:05<02:46,  8.74s/it]"
     ]
    },
    {
     "name": "stdout",
     "output_type": "stream",
     "text": [
      "https://data.alpaca.markets/v1beta1/news 8\n",
      "error2\n",
      "Number of news articles: 1008\n",
      "Fetching news for date: 2023-04-06\n",
      "start and end news collection 2023-03-30 2023-04-05\n",
      "length of ticker list 503\n",
      "MSFT,AAPL,NVDA,GOOG,GOOGL,AMZN,META,BRK-B,LLY,AVGO,JPM,TSLA,V,WMT,XOM,UNH,MA,PG,COST,JNJ,ORCL,MRK,HD,BAC,CVX,NFLX,ABBV,AMD,KO,CRM,PEP,QCOM,TMO,ADBE,WFC,LIN,DHR,TMUS,ACN,CSCO,MCD,DIS,GE,AMAT,TXN,ABT,AXP,CAT,INTU,VZ,AMGN,PFE,MS,NEE,IBM,PM,NOW,CMCSA,BX,GS,ISRG,MU,UNP,RTX,NKE,COP,SPGI,ETN,UBER,SCHW,INTC,HON,BKNG,SYK,LRCX,T,LOW,C,ELV,PGR,UPS,VRTX,BLK,TJX,ADI,LMT,BSX,REGN,MDT,CB,BA,KLAC,DE,PANW,MMC,ADP,PLD,ANET,CI,ABNB,MDLZ,SNPS,SBUX,FI,AMT,CMG,SO,WM,BMY,HCA,GD,GILD,APH,CDNS,DUK,ICE,MO,ZTS,CME,SHW,CL,TT,TDG,MCO,FCX,MCK,EQIX,CEG,ITW,NXPI,EOG,CVS,CTAS,NOC,PH,MAR,TGT,ECL,BDX,SLB,CSX,EMR,PYPL,MRNA,USB,MPC,PNC,AON,FDX,MSI,PSX,WELL,CARR,RSG,APD,ROP,ORLY,PCAR,SPG,MNST,MMM,AJG,OXY,VLO,EW,MCHP,COF,CPRT,AIG,SMCI,MET,TFC,NSC,HLT,DXCM,GM,AFL,JCI,WMB,TRV,GEV,NEM,F,PCG,SRE,AZO,PSA,ROST,DHI,GWW,DLR,OKE,AEP,FTNT,HES,KDP,TEL,ADSK,STZ,O,URI,EL,PAYX,KMB,D,BK,A,AMP,COR,KHC,ALL,FIS,LEN,PRU,IDXX,CCI,LHX,KMI,HUM,IQV,PWR,NUE,DOW,AME,HSY,CNC,OTIS,CHTR,MSCI,CMI,ACGL,YUM,CTVA,GIS,KR,IR,RCL,LULU,FAST,ODFL,PEG,KVUE,EXC,MPWR,GEHC,SYY,EA,VRSK,NDAQ,MLM,VST,CSGP,XYL,HWM,FANG,VMC,FICO,IT,CTSH,DD,DAL,LVS,ED,BKR,LYB,HPQ,HAL,DG,BIIB,MTD,GRMN,EXR,RMD,ON,GLW,CDW,DFS,PPG,DVN,TSCO,ROK,HIG,WAB,ADM,XEL,EFX,FSLR,VICI,ANSS,EIX,AVB,EBAY,CBRE,FTV,DECK,TTWO,TROW,GPN,RJF,CHD,WTW,BRO,WEC,FITB,TRGP,DOV,VLTO,DLTR,KEYS,MTB,AWK,EQR,IFF,WDC,WST,PHM,ZBH,HPE,NTAP,BR,IRM,CAH,DTE,ETR,NVR,STT,STE,TER,APTV,FE,ROL,LYV,HUBB,WY,PTC,BF-B,AXON,BALL,TSN,PPL,INVH,STLD,TYL,BLDR,K,ARE,LDOS,WRB,ES,GPC,SBAC,CTRA,WAT,HBAN,CCL,STX,MOH,MKC,PFG,ALGN,HRL,VTR,CBOE,TDY,AEE,WBD,CNP,COO,CPAY,OMC,CINF,ULTA,CMS,AVY,NRG,EQT,DRI,J,DPZ,RF,SYF,BAX,ESS,HOLX,VRSN,NTRS,ENPH,EG,UAL,ATO,ILMN,TXT,LH,ZBRA,CE,EXPD,FDS,L,PKG,CLX,IEX,JBHT,CFG,LUV,MAA,IP,DGX,GEN,BBY,NWS,NWSA,MAS,FOX,FOXA,ALB,AES,SWKS,BG,UDR,EXPE,CAG,JBL,MRO,AMCR,AKAM,SNA,CF,WRK,RVTY,POOL,TRMB,WBA,PNR,KEY,NDSN,CPB,DOC,SWK,HST,INCY,LW,LNT,TECH,PODD,NI,MGM,KIM,AOS,VTRS,JKHY,EVRG,BEN,DVA,IPG,UHS,EMN,SJM,LKQ,TAP,JNPR,CRL,CPT,REG,KMX,APA,RL,BBWI,ALLE,WYNN,BXP,EPAM,SOLV,CHRW,HII,FFIV,MOS,CTLT,PAYC,TFX,TPR,QRVO,HSIC,AAL,GNRC,DAY,AIZ,PNW,HAS,PARA,MKTX,FRT,BIO,BWA,MTCH,FMC,GL,MHK,CZR,ETSY,IVZ,RHI,NCLH,CMA\n",
      "https://data.alpaca.markets/v1beta1/news 50\n",
      "https://data.alpaca.markets/v1beta1/news 50\n",
      "https://data.alpaca.markets/v1beta1/news 50\n",
      "https://data.alpaca.markets/v1beta1/news 50\n",
      "https://data.alpaca.markets/v1beta1/news 50\n",
      "https://data.alpaca.markets/v1beta1/news 50\n",
      "https://data.alpaca.markets/v1beta1/news 50\n",
      "https://data.alpaca.markets/v1beta1/news 50\n",
      "https://data.alpaca.markets/v1beta1/news 50\n",
      "https://data.alpaca.markets/v1beta1/news 50\n",
      "https://data.alpaca.markets/v1beta1/news 50\n",
      "https://data.alpaca.markets/v1beta1/news 50\n",
      "https://data.alpaca.markets/v1beta1/news 50\n",
      "https://data.alpaca.markets/v1beta1/news 50\n",
      "https://data.alpaca.markets/v1beta1/news 50\n",
      "https://data.alpaca.markets/v1beta1/news 50\n",
      "https://data.alpaca.markets/v1beta1/news 50\n",
      "https://data.alpaca.markets/v1beta1/news 50\n",
      "https://data.alpaca.markets/v1beta1/news 50\n"
     ]
    },
    {
     "name": "stderr",
     "output_type": "stream",
     "text": [
      " 88%|████████▊ | 132/150 [11:11<02:25,  8.07s/it]"
     ]
    },
    {
     "name": "stdout",
     "output_type": "stream",
     "text": [
      "https://data.alpaca.markets/v1beta1/news 49\n",
      "error2\n",
      "Number of news articles: 999\n",
      "Fetching news for date: 2023-04-19\n",
      "start and end news collection 2023-04-12 2023-04-18\n",
      "length of ticker list 503\n",
      "MSFT,AAPL,NVDA,GOOG,GOOGL,AMZN,META,BRK-B,LLY,AVGO,JPM,TSLA,V,WMT,XOM,UNH,MA,PG,COST,JNJ,ORCL,MRK,HD,BAC,CVX,NFLX,ABBV,AMD,KO,CRM,PEP,QCOM,TMO,ADBE,WFC,LIN,DHR,TMUS,ACN,CSCO,MCD,DIS,GE,AMAT,TXN,ABT,AXP,CAT,INTU,VZ,AMGN,PFE,MS,NEE,IBM,PM,NOW,CMCSA,BX,GS,ISRG,MU,UNP,RTX,NKE,COP,SPGI,ETN,UBER,SCHW,INTC,HON,BKNG,SYK,LRCX,T,LOW,C,ELV,PGR,UPS,VRTX,BLK,TJX,ADI,LMT,BSX,REGN,MDT,CB,BA,KLAC,DE,PANW,MMC,ADP,PLD,ANET,CI,ABNB,MDLZ,SNPS,SBUX,FI,AMT,CMG,SO,WM,BMY,HCA,GD,GILD,APH,CDNS,DUK,ICE,MO,ZTS,CME,SHW,CL,TT,TDG,MCO,FCX,MCK,EQIX,CEG,ITW,NXPI,EOG,CVS,CTAS,NOC,PH,MAR,TGT,ECL,BDX,SLB,CSX,EMR,PYPL,MRNA,USB,MPC,PNC,AON,FDX,MSI,PSX,WELL,CARR,RSG,APD,ROP,ORLY,PCAR,SPG,MNST,MMM,AJG,OXY,VLO,EW,MCHP,COF,CPRT,AIG,SMCI,MET,TFC,NSC,HLT,DXCM,GM,AFL,JCI,WMB,TRV,GEV,NEM,F,PCG,SRE,AZO,PSA,ROST,DHI,GWW,DLR,OKE,AEP,FTNT,HES,KDP,TEL,ADSK,STZ,O,URI,EL,PAYX,KMB,D,BK,A,AMP,COR,KHC,ALL,FIS,LEN,PRU,IDXX,CCI,LHX,KMI,HUM,IQV,PWR,NUE,DOW,AME,HSY,CNC,OTIS,CHTR,MSCI,CMI,ACGL,YUM,CTVA,GIS,KR,IR,RCL,LULU,FAST,ODFL,PEG,KVUE,EXC,MPWR,GEHC,SYY,EA,VRSK,NDAQ,MLM,VST,CSGP,XYL,HWM,FANG,VMC,FICO,IT,CTSH,DD,DAL,LVS,ED,BKR,LYB,HPQ,HAL,DG,BIIB,MTD,GRMN,EXR,RMD,ON,GLW,CDW,DFS,PPG,DVN,TSCO,ROK,HIG,WAB,ADM,XEL,EFX,FSLR,VICI,ANSS,EIX,AVB,EBAY,CBRE,FTV,DECK,TTWO,TROW,GPN,RJF,CHD,WTW,BRO,WEC,FITB,TRGP,DOV,VLTO,DLTR,KEYS,MTB,AWK,EQR,IFF,WDC,WST,PHM,ZBH,HPE,NTAP,BR,IRM,CAH,DTE,ETR,NVR,STT,STE,TER,APTV,FE,ROL,LYV,HUBB,WY,PTC,BF-B,AXON,BALL,TSN,PPL,INVH,STLD,TYL,BLDR,K,ARE,LDOS,WRB,ES,GPC,SBAC,CTRA,WAT,HBAN,CCL,STX,MOH,MKC,PFG,ALGN,HRL,VTR,CBOE,TDY,AEE,WBD,CNP,COO,CPAY,OMC,CINF,ULTA,CMS,AVY,NRG,EQT,DRI,J,DPZ,RF,SYF,BAX,ESS,HOLX,VRSN,NTRS,ENPH,EG,UAL,ATO,ILMN,TXT,LH,ZBRA,CE,EXPD,FDS,L,PKG,CLX,IEX,JBHT,CFG,LUV,MAA,IP,DGX,GEN,BBY,NWS,NWSA,MAS,FOX,FOXA,ALB,AES,SWKS,BG,UDR,EXPE,CAG,JBL,MRO,AMCR,AKAM,SNA,CF,WRK,RVTY,POOL,TRMB,WBA,PNR,KEY,NDSN,CPB,DOC,SWK,HST,INCY,LW,LNT,TECH,PODD,NI,MGM,KIM,AOS,VTRS,JKHY,EVRG,BEN,DVA,IPG,UHS,EMN,SJM,LKQ,TAP,JNPR,CRL,CPT,REG,KMX,APA,RL,BBWI,ALLE,WYNN,BXP,EPAM,SOLV,CHRW,HII,FFIV,MOS,CTLT,PAYC,TFX,TPR,QRVO,HSIC,AAL,GNRC,DAY,AIZ,PNW,HAS,PARA,MKTX,FRT,BIO,BWA,MTCH,FMC,GL,MHK,CZR,ETSY,IVZ,RHI,NCLH,CMA\n",
      "https://data.alpaca.markets/v1beta1/news 50\n",
      "https://data.alpaca.markets/v1beta1/news 50\n",
      "https://data.alpaca.markets/v1beta1/news 50\n",
      "https://data.alpaca.markets/v1beta1/news 50\n",
      "https://data.alpaca.markets/v1beta1/news 50\n",
      "https://data.alpaca.markets/v1beta1/news 50\n",
      "https://data.alpaca.markets/v1beta1/news 50\n",
      "https://data.alpaca.markets/v1beta1/news 50\n",
      "https://data.alpaca.markets/v1beta1/news 50\n",
      "https://data.alpaca.markets/v1beta1/news 50\n",
      "https://data.alpaca.markets/v1beta1/news 50\n",
      "https://data.alpaca.markets/v1beta1/news 50\n",
      "https://data.alpaca.markets/v1beta1/news 50\n",
      "https://data.alpaca.markets/v1beta1/news 50\n",
      "https://data.alpaca.markets/v1beta1/news 50\n",
      "https://data.alpaca.markets/v1beta1/news 50\n",
      "https://data.alpaca.markets/v1beta1/news 50\n",
      "https://data.alpaca.markets/v1beta1/news 50\n",
      "https://data.alpaca.markets/v1beta1/news 50\n",
      "https://data.alpaca.markets/v1beta1/news 50\n",
      "https://data.alpaca.markets/v1beta1/news 50\n",
      "https://data.alpaca.markets/v1beta1/news 50\n",
      "https://data.alpaca.markets/v1beta1/news 50\n",
      "https://data.alpaca.markets/v1beta1/news 50\n"
     ]
    },
    {
     "name": "stderr",
     "output_type": "stream",
     "text": [
      " 89%|████████▊ | 133/150 [11:19<02:17,  8.10s/it]"
     ]
    },
    {
     "name": "stdout",
     "output_type": "stream",
     "text": [
      "https://data.alpaca.markets/v1beta1/news 33\n",
      "error2\n",
      "Number of news articles: 1233\n",
      "Fetching news for date: 2023-08-14\n",
      "start and end news collection 2023-08-07 2023-08-13\n",
      "length of ticker list 503\n",
      "MSFT,AAPL,NVDA,GOOG,GOOGL,AMZN,META,BRK-B,LLY,AVGO,JPM,TSLA,V,WMT,XOM,UNH,MA,PG,COST,JNJ,ORCL,MRK,HD,BAC,CVX,NFLX,ABBV,AMD,KO,CRM,PEP,QCOM,TMO,ADBE,WFC,LIN,DHR,TMUS,ACN,CSCO,MCD,DIS,GE,AMAT,TXN,ABT,AXP,CAT,INTU,VZ,AMGN,PFE,MS,NEE,IBM,PM,NOW,CMCSA,BX,GS,ISRG,MU,UNP,RTX,NKE,COP,SPGI,ETN,UBER,SCHW,INTC,HON,BKNG,SYK,LRCX,T,LOW,C,ELV,PGR,UPS,VRTX,BLK,TJX,ADI,LMT,BSX,REGN,MDT,CB,BA,KLAC,DE,PANW,MMC,ADP,PLD,ANET,CI,ABNB,MDLZ,SNPS,SBUX,FI,AMT,CMG,SO,WM,BMY,HCA,GD,GILD,APH,CDNS,DUK,ICE,MO,ZTS,CME,SHW,CL,TT,TDG,MCO,FCX,MCK,EQIX,CEG,ITW,NXPI,EOG,CVS,CTAS,NOC,PH,MAR,TGT,ECL,BDX,SLB,CSX,EMR,PYPL,MRNA,USB,MPC,PNC,AON,FDX,MSI,PSX,WELL,CARR,RSG,APD,ROP,ORLY,PCAR,SPG,MNST,MMM,AJG,OXY,VLO,EW,MCHP,COF,CPRT,AIG,SMCI,MET,TFC,NSC,HLT,DXCM,GM,AFL,JCI,WMB,TRV,GEV,NEM,F,PCG,SRE,AZO,PSA,ROST,DHI,GWW,DLR,OKE,AEP,FTNT,HES,KDP,TEL,ADSK,STZ,O,URI,EL,PAYX,KMB,D,BK,A,AMP,COR,KHC,ALL,FIS,LEN,PRU,IDXX,CCI,LHX,KMI,HUM,IQV,PWR,NUE,DOW,AME,HSY,CNC,OTIS,CHTR,MSCI,CMI,ACGL,YUM,CTVA,GIS,KR,IR,RCL,LULU,FAST,ODFL,PEG,KVUE,EXC,MPWR,GEHC,SYY,EA,VRSK,NDAQ,MLM,VST,CSGP,XYL,HWM,FANG,VMC,FICO,IT,CTSH,DD,DAL,LVS,ED,BKR,LYB,HPQ,HAL,DG,BIIB,MTD,GRMN,EXR,RMD,ON,GLW,CDW,DFS,PPG,DVN,TSCO,ROK,HIG,WAB,ADM,XEL,EFX,FSLR,VICI,ANSS,EIX,AVB,EBAY,CBRE,FTV,DECK,TTWO,TROW,GPN,RJF,CHD,WTW,BRO,WEC,FITB,TRGP,DOV,VLTO,DLTR,KEYS,MTB,AWK,EQR,IFF,WDC,WST,PHM,ZBH,HPE,NTAP,BR,IRM,CAH,DTE,ETR,NVR,STT,STE,TER,APTV,FE,ROL,LYV,HUBB,WY,PTC,BF-B,AXON,BALL,TSN,PPL,INVH,STLD,TYL,BLDR,K,ARE,LDOS,WRB,ES,GPC,SBAC,CTRA,WAT,HBAN,CCL,STX,MOH,MKC,PFG,ALGN,HRL,VTR,CBOE,TDY,AEE,WBD,CNP,COO,CPAY,OMC,CINF,ULTA,CMS,AVY,NRG,EQT,DRI,J,DPZ,RF,SYF,BAX,ESS,HOLX,VRSN,NTRS,ENPH,EG,UAL,ATO,ILMN,TXT,LH,ZBRA,CE,EXPD,FDS,L,PKG,CLX,IEX,JBHT,CFG,LUV,MAA,IP,DGX,GEN,BBY,NWS,NWSA,MAS,FOX,FOXA,ALB,AES,SWKS,BG,UDR,EXPE,CAG,JBL,MRO,AMCR,AKAM,SNA,CF,WRK,RVTY,POOL,TRMB,WBA,PNR,KEY,NDSN,CPB,DOC,SWK,HST,INCY,LW,LNT,TECH,PODD,NI,MGM,KIM,AOS,VTRS,JKHY,EVRG,BEN,DVA,IPG,UHS,EMN,SJM,LKQ,TAP,JNPR,CRL,CPT,REG,KMX,APA,RL,BBWI,ALLE,WYNN,BXP,EPAM,SOLV,CHRW,HII,FFIV,MOS,CTLT,PAYC,TFX,TPR,QRVO,HSIC,AAL,GNRC,DAY,AIZ,PNW,HAS,PARA,MKTX,FRT,BIO,BWA,MTCH,FMC,GL,MHK,CZR,ETSY,IVZ,RHI,NCLH,CMA\n",
      "https://data.alpaca.markets/v1beta1/news 50\n",
      "https://data.alpaca.markets/v1beta1/news 50\n",
      "https://data.alpaca.markets/v1beta1/news 50\n",
      "https://data.alpaca.markets/v1beta1/news 50\n",
      "https://data.alpaca.markets/v1beta1/news 50\n",
      "https://data.alpaca.markets/v1beta1/news 50\n",
      "https://data.alpaca.markets/v1beta1/news 50\n",
      "https://data.alpaca.markets/v1beta1/news 50\n",
      "https://data.alpaca.markets/v1beta1/news 50\n",
      "https://data.alpaca.markets/v1beta1/news 50\n",
      "https://data.alpaca.markets/v1beta1/news 50\n",
      "https://data.alpaca.markets/v1beta1/news 50\n",
      "https://data.alpaca.markets/v1beta1/news 50\n",
      "https://data.alpaca.markets/v1beta1/news 50\n",
      "https://data.alpaca.markets/v1beta1/news 50\n",
      "https://data.alpaca.markets/v1beta1/news 50\n",
      "https://data.alpaca.markets/v1beta1/news 50\n",
      "https://data.alpaca.markets/v1beta1/news 50\n",
      "https://data.alpaca.markets/v1beta1/news 50\n",
      "https://data.alpaca.markets/v1beta1/news 50\n",
      "https://data.alpaca.markets/v1beta1/news 50\n",
      "https://data.alpaca.markets/v1beta1/news 50\n",
      "https://data.alpaca.markets/v1beta1/news 50\n",
      "https://data.alpaca.markets/v1beta1/news 50\n",
      "https://data.alpaca.markets/v1beta1/news 50\n",
      "https://data.alpaca.markets/v1beta1/news 50\n",
      "https://data.alpaca.markets/v1beta1/news 50\n",
      "https://data.alpaca.markets/v1beta1/news 50\n",
      "https://data.alpaca.markets/v1beta1/news 50\n",
      "https://data.alpaca.markets/v1beta1/news 50\n"
     ]
    },
    {
     "name": "stderr",
     "output_type": "stream",
     "text": [
      " 89%|████████▉ | 134/150 [11:30<02:19,  8.72s/it]"
     ]
    },
    {
     "name": "stdout",
     "output_type": "stream",
     "text": [
      "https://data.alpaca.markets/v1beta1/news 47\n",
      "error2\n",
      "Number of news articles: 1547\n",
      "Fetching news for date: 2023-08-21\n",
      "start and end news collection 2023-08-14 2023-08-20\n",
      "length of ticker list 503\n",
      "MSFT,AAPL,NVDA,GOOG,GOOGL,AMZN,META,BRK-B,LLY,AVGO,JPM,TSLA,V,WMT,XOM,UNH,MA,PG,COST,JNJ,ORCL,MRK,HD,BAC,CVX,NFLX,ABBV,AMD,KO,CRM,PEP,QCOM,TMO,ADBE,WFC,LIN,DHR,TMUS,ACN,CSCO,MCD,DIS,GE,AMAT,TXN,ABT,AXP,CAT,INTU,VZ,AMGN,PFE,MS,NEE,IBM,PM,NOW,CMCSA,BX,GS,ISRG,MU,UNP,RTX,NKE,COP,SPGI,ETN,UBER,SCHW,INTC,HON,BKNG,SYK,LRCX,T,LOW,C,ELV,PGR,UPS,VRTX,BLK,TJX,ADI,LMT,BSX,REGN,MDT,CB,BA,KLAC,DE,PANW,MMC,ADP,PLD,ANET,CI,ABNB,MDLZ,SNPS,SBUX,FI,AMT,CMG,SO,WM,BMY,HCA,GD,GILD,APH,CDNS,DUK,ICE,MO,ZTS,CME,SHW,CL,TT,TDG,MCO,FCX,MCK,EQIX,CEG,ITW,NXPI,EOG,CVS,CTAS,NOC,PH,MAR,TGT,ECL,BDX,SLB,CSX,EMR,PYPL,MRNA,USB,MPC,PNC,AON,FDX,MSI,PSX,WELL,CARR,RSG,APD,ROP,ORLY,PCAR,SPG,MNST,MMM,AJG,OXY,VLO,EW,MCHP,COF,CPRT,AIG,SMCI,MET,TFC,NSC,HLT,DXCM,GM,AFL,JCI,WMB,TRV,GEV,NEM,F,PCG,SRE,AZO,PSA,ROST,DHI,GWW,DLR,OKE,AEP,FTNT,HES,KDP,TEL,ADSK,STZ,O,URI,EL,PAYX,KMB,D,BK,A,AMP,COR,KHC,ALL,FIS,LEN,PRU,IDXX,CCI,LHX,KMI,HUM,IQV,PWR,NUE,DOW,AME,HSY,CNC,OTIS,CHTR,MSCI,CMI,ACGL,YUM,CTVA,GIS,KR,IR,RCL,LULU,FAST,ODFL,PEG,KVUE,EXC,MPWR,GEHC,SYY,EA,VRSK,NDAQ,MLM,VST,CSGP,XYL,HWM,FANG,VMC,FICO,IT,CTSH,DD,DAL,LVS,ED,BKR,LYB,HPQ,HAL,DG,BIIB,MTD,GRMN,EXR,RMD,ON,GLW,CDW,DFS,PPG,DVN,TSCO,ROK,HIG,WAB,ADM,XEL,EFX,FSLR,VICI,ANSS,EIX,AVB,EBAY,CBRE,FTV,DECK,TTWO,TROW,GPN,RJF,CHD,WTW,BRO,WEC,FITB,TRGP,DOV,VLTO,DLTR,KEYS,MTB,AWK,EQR,IFF,WDC,WST,PHM,ZBH,HPE,NTAP,BR,IRM,CAH,DTE,ETR,NVR,STT,STE,TER,APTV,FE,ROL,LYV,HUBB,WY,PTC,BF-B,AXON,BALL,TSN,PPL,INVH,STLD,TYL,BLDR,K,ARE,LDOS,WRB,ES,GPC,SBAC,CTRA,WAT,HBAN,CCL,STX,MOH,MKC,PFG,ALGN,HRL,VTR,CBOE,TDY,AEE,WBD,CNP,COO,CPAY,OMC,CINF,ULTA,CMS,AVY,NRG,EQT,DRI,J,DPZ,RF,SYF,BAX,ESS,HOLX,VRSN,NTRS,ENPH,EG,UAL,ATO,ILMN,TXT,LH,ZBRA,CE,EXPD,FDS,L,PKG,CLX,IEX,JBHT,CFG,LUV,MAA,IP,DGX,GEN,BBY,NWS,NWSA,MAS,FOX,FOXA,ALB,AES,SWKS,BG,UDR,EXPE,CAG,JBL,MRO,AMCR,AKAM,SNA,CF,WRK,RVTY,POOL,TRMB,WBA,PNR,KEY,NDSN,CPB,DOC,SWK,HST,INCY,LW,LNT,TECH,PODD,NI,MGM,KIM,AOS,VTRS,JKHY,EVRG,BEN,DVA,IPG,UHS,EMN,SJM,LKQ,TAP,JNPR,CRL,CPT,REG,KMX,APA,RL,BBWI,ALLE,WYNN,BXP,EPAM,SOLV,CHRW,HII,FFIV,MOS,CTLT,PAYC,TFX,TPR,QRVO,HSIC,AAL,GNRC,DAY,AIZ,PNW,HAS,PARA,MKTX,FRT,BIO,BWA,MTCH,FMC,GL,MHK,CZR,ETSY,IVZ,RHI,NCLH,CMA\n",
      "https://data.alpaca.markets/v1beta1/news 50\n",
      "https://data.alpaca.markets/v1beta1/news 50\n",
      "https://data.alpaca.markets/v1beta1/news 50\n",
      "https://data.alpaca.markets/v1beta1/news 50\n",
      "https://data.alpaca.markets/v1beta1/news 50\n",
      "https://data.alpaca.markets/v1beta1/news 50\n",
      "https://data.alpaca.markets/v1beta1/news 50\n",
      "https://data.alpaca.markets/v1beta1/news 50\n",
      "https://data.alpaca.markets/v1beta1/news 50\n",
      "https://data.alpaca.markets/v1beta1/news 50\n",
      "https://data.alpaca.markets/v1beta1/news 50\n",
      "https://data.alpaca.markets/v1beta1/news 50\n",
      "https://data.alpaca.markets/v1beta1/news 50\n",
      "https://data.alpaca.markets/v1beta1/news 50\n",
      "https://data.alpaca.markets/v1beta1/news 50\n",
      "https://data.alpaca.markets/v1beta1/news 50\n",
      "https://data.alpaca.markets/v1beta1/news 50\n",
      "https://data.alpaca.markets/v1beta1/news 50\n",
      "https://data.alpaca.markets/v1beta1/news 50\n",
      "https://data.alpaca.markets/v1beta1/news 50\n",
      "https://data.alpaca.markets/v1beta1/news 50\n",
      "https://data.alpaca.markets/v1beta1/news 50\n",
      "https://data.alpaca.markets/v1beta1/news 50\n",
      "https://data.alpaca.markets/v1beta1/news 50\n",
      "https://data.alpaca.markets/v1beta1/news 50\n",
      "https://data.alpaca.markets/v1beta1/news 50\n",
      "https://data.alpaca.markets/v1beta1/news 50\n",
      "https://data.alpaca.markets/v1beta1/news 50\n",
      "https://data.alpaca.markets/v1beta1/news 50\n"
     ]
    },
    {
     "name": "stderr",
     "output_type": "stream",
     "text": [
      " 90%|█████████ | 135/150 [11:39<02:15,  9.02s/it]"
     ]
    },
    {
     "name": "stdout",
     "output_type": "stream",
     "text": [
      "https://data.alpaca.markets/v1beta1/news 38\n",
      "error2\n",
      "Number of news articles: 1488\n",
      "Fetching news for date: 2023-09-01\n",
      "start and end news collection 2023-08-25 2023-08-31\n",
      "length of ticker list 503\n",
      "MSFT,AAPL,NVDA,GOOG,GOOGL,AMZN,META,BRK-B,LLY,AVGO,JPM,TSLA,V,WMT,XOM,UNH,MA,PG,COST,JNJ,ORCL,MRK,HD,BAC,CVX,NFLX,ABBV,AMD,KO,CRM,PEP,QCOM,TMO,ADBE,WFC,LIN,DHR,TMUS,ACN,CSCO,MCD,DIS,GE,AMAT,TXN,ABT,AXP,CAT,INTU,VZ,AMGN,PFE,MS,NEE,IBM,PM,NOW,CMCSA,BX,GS,ISRG,MU,UNP,RTX,NKE,COP,SPGI,ETN,UBER,SCHW,INTC,HON,BKNG,SYK,LRCX,T,LOW,C,ELV,PGR,UPS,VRTX,BLK,TJX,ADI,LMT,BSX,REGN,MDT,CB,BA,KLAC,DE,PANW,MMC,ADP,PLD,ANET,CI,ABNB,MDLZ,SNPS,SBUX,FI,AMT,CMG,SO,WM,BMY,HCA,GD,GILD,APH,CDNS,DUK,ICE,MO,ZTS,CME,SHW,CL,TT,TDG,MCO,FCX,MCK,EQIX,CEG,ITW,NXPI,EOG,CVS,CTAS,NOC,PH,MAR,TGT,ECL,BDX,SLB,CSX,EMR,PYPL,MRNA,USB,MPC,PNC,AON,FDX,MSI,PSX,WELL,CARR,RSG,APD,ROP,ORLY,PCAR,SPG,MNST,MMM,AJG,OXY,VLO,EW,MCHP,COF,CPRT,AIG,SMCI,MET,TFC,NSC,HLT,DXCM,GM,AFL,JCI,WMB,TRV,GEV,NEM,F,PCG,SRE,AZO,PSA,ROST,DHI,GWW,DLR,OKE,AEP,FTNT,HES,KDP,TEL,ADSK,STZ,O,URI,EL,PAYX,KMB,D,BK,A,AMP,COR,KHC,ALL,FIS,LEN,PRU,IDXX,CCI,LHX,KMI,HUM,IQV,PWR,NUE,DOW,AME,HSY,CNC,OTIS,CHTR,MSCI,CMI,ACGL,YUM,CTVA,GIS,KR,IR,RCL,LULU,FAST,ODFL,PEG,KVUE,EXC,MPWR,GEHC,SYY,EA,VRSK,NDAQ,MLM,VST,CSGP,XYL,HWM,FANG,VMC,FICO,IT,CTSH,DD,DAL,LVS,ED,BKR,LYB,HPQ,HAL,DG,BIIB,MTD,GRMN,EXR,RMD,ON,GLW,CDW,DFS,PPG,DVN,TSCO,ROK,HIG,WAB,ADM,XEL,EFX,FSLR,VICI,ANSS,EIX,AVB,EBAY,CBRE,FTV,DECK,TTWO,TROW,GPN,RJF,CHD,WTW,BRO,WEC,FITB,TRGP,DOV,VLTO,DLTR,KEYS,MTB,AWK,EQR,IFF,WDC,WST,PHM,ZBH,HPE,NTAP,BR,IRM,CAH,DTE,ETR,NVR,STT,STE,TER,APTV,FE,ROL,LYV,HUBB,WY,PTC,BF-B,AXON,BALL,TSN,PPL,INVH,STLD,TYL,BLDR,K,ARE,LDOS,WRB,ES,GPC,SBAC,CTRA,WAT,HBAN,CCL,STX,MOH,MKC,PFG,ALGN,HRL,VTR,CBOE,TDY,AEE,WBD,CNP,COO,CPAY,OMC,CINF,ULTA,CMS,AVY,NRG,EQT,DRI,J,DPZ,RF,SYF,BAX,ESS,HOLX,VRSN,NTRS,ENPH,EG,UAL,ATO,ILMN,TXT,LH,ZBRA,CE,EXPD,FDS,L,PKG,CLX,IEX,JBHT,CFG,LUV,MAA,IP,DGX,GEN,BBY,NWS,NWSA,MAS,FOX,FOXA,ALB,AES,SWKS,BG,UDR,EXPE,CAG,JBL,MRO,AMCR,AKAM,SNA,CF,WRK,RVTY,POOL,TRMB,WBA,PNR,KEY,NDSN,CPB,DOC,SWK,HST,INCY,LW,LNT,TECH,PODD,NI,MGM,KIM,AOS,VTRS,JKHY,EVRG,BEN,DVA,IPG,UHS,EMN,SJM,LKQ,TAP,JNPR,CRL,CPT,REG,KMX,APA,RL,BBWI,ALLE,WYNN,BXP,EPAM,SOLV,CHRW,HII,FFIV,MOS,CTLT,PAYC,TFX,TPR,QRVO,HSIC,AAL,GNRC,DAY,AIZ,PNW,HAS,PARA,MKTX,FRT,BIO,BWA,MTCH,FMC,GL,MHK,CZR,ETSY,IVZ,RHI,NCLH,CMA\n",
      "https://data.alpaca.markets/v1beta1/news 50\n",
      "https://data.alpaca.markets/v1beta1/news 50\n",
      "https://data.alpaca.markets/v1beta1/news 50\n",
      "https://data.alpaca.markets/v1beta1/news 50\n",
      "https://data.alpaca.markets/v1beta1/news 50\n",
      "https://data.alpaca.markets/v1beta1/news 50\n",
      "https://data.alpaca.markets/v1beta1/news 50\n",
      "https://data.alpaca.markets/v1beta1/news 50\n",
      "https://data.alpaca.markets/v1beta1/news 50\n",
      "https://data.alpaca.markets/v1beta1/news 50\n",
      "https://data.alpaca.markets/v1beta1/news 50\n",
      "https://data.alpaca.markets/v1beta1/news 50\n",
      "https://data.alpaca.markets/v1beta1/news 50\n",
      "https://data.alpaca.markets/v1beta1/news 50\n",
      "https://data.alpaca.markets/v1beta1/news 50\n",
      "https://data.alpaca.markets/v1beta1/news 50\n",
      "https://data.alpaca.markets/v1beta1/news 50\n",
      "https://data.alpaca.markets/v1beta1/news 50\n",
      "https://data.alpaca.markets/v1beta1/news 50\n",
      "https://data.alpaca.markets/v1beta1/news 50\n"
     ]
    },
    {
     "name": "stderr",
     "output_type": "stream",
     "text": [
      " 91%|█████████ | 136/150 [11:46<01:57,  8.37s/it]"
     ]
    },
    {
     "name": "stdout",
     "output_type": "stream",
     "text": [
      "https://data.alpaca.markets/v1beta1/news 16\n",
      "error2\n",
      "Number of news articles: 1016\n",
      "Fetching news for date: 2023-09-12\n",
      "start and end news collection 2023-09-05 2023-09-11\n",
      "length of ticker list 503\n",
      "MSFT,AAPL,NVDA,GOOG,GOOGL,AMZN,META,BRK-B,LLY,AVGO,JPM,TSLA,V,WMT,XOM,UNH,MA,PG,COST,JNJ,ORCL,MRK,HD,BAC,CVX,NFLX,ABBV,AMD,KO,CRM,PEP,QCOM,TMO,ADBE,WFC,LIN,DHR,TMUS,ACN,CSCO,MCD,DIS,GE,AMAT,TXN,ABT,AXP,CAT,INTU,VZ,AMGN,PFE,MS,NEE,IBM,PM,NOW,CMCSA,BX,GS,ISRG,MU,UNP,RTX,NKE,COP,SPGI,ETN,UBER,SCHW,INTC,HON,BKNG,SYK,LRCX,T,LOW,C,ELV,PGR,UPS,VRTX,BLK,TJX,ADI,LMT,BSX,REGN,MDT,CB,BA,KLAC,DE,PANW,MMC,ADP,PLD,ANET,CI,ABNB,MDLZ,SNPS,SBUX,FI,AMT,CMG,SO,WM,BMY,HCA,GD,GILD,APH,CDNS,DUK,ICE,MO,ZTS,CME,SHW,CL,TT,TDG,MCO,FCX,MCK,EQIX,CEG,ITW,NXPI,EOG,CVS,CTAS,NOC,PH,MAR,TGT,ECL,BDX,SLB,CSX,EMR,PYPL,MRNA,USB,MPC,PNC,AON,FDX,MSI,PSX,WELL,CARR,RSG,APD,ROP,ORLY,PCAR,SPG,MNST,MMM,AJG,OXY,VLO,EW,MCHP,COF,CPRT,AIG,SMCI,MET,TFC,NSC,HLT,DXCM,GM,AFL,JCI,WMB,TRV,GEV,NEM,F,PCG,SRE,AZO,PSA,ROST,DHI,GWW,DLR,OKE,AEP,FTNT,HES,KDP,TEL,ADSK,STZ,O,URI,EL,PAYX,KMB,D,BK,A,AMP,COR,KHC,ALL,FIS,LEN,PRU,IDXX,CCI,LHX,KMI,HUM,IQV,PWR,NUE,DOW,AME,HSY,CNC,OTIS,CHTR,MSCI,CMI,ACGL,YUM,CTVA,GIS,KR,IR,RCL,LULU,FAST,ODFL,PEG,KVUE,EXC,MPWR,GEHC,SYY,EA,VRSK,NDAQ,MLM,VST,CSGP,XYL,HWM,FANG,VMC,FICO,IT,CTSH,DD,DAL,LVS,ED,BKR,LYB,HPQ,HAL,DG,BIIB,MTD,GRMN,EXR,RMD,ON,GLW,CDW,DFS,PPG,DVN,TSCO,ROK,HIG,WAB,ADM,XEL,EFX,FSLR,VICI,ANSS,EIX,AVB,EBAY,CBRE,FTV,DECK,TTWO,TROW,GPN,RJF,CHD,WTW,BRO,WEC,FITB,TRGP,DOV,VLTO,DLTR,KEYS,MTB,AWK,EQR,IFF,WDC,WST,PHM,ZBH,HPE,NTAP,BR,IRM,CAH,DTE,ETR,NVR,STT,STE,TER,APTV,FE,ROL,LYV,HUBB,WY,PTC,BF-B,AXON,BALL,TSN,PPL,INVH,STLD,TYL,BLDR,K,ARE,LDOS,WRB,ES,GPC,SBAC,CTRA,WAT,HBAN,CCL,STX,MOH,MKC,PFG,ALGN,HRL,VTR,CBOE,TDY,AEE,WBD,CNP,COO,CPAY,OMC,CINF,ULTA,CMS,AVY,NRG,EQT,DRI,J,DPZ,RF,SYF,BAX,ESS,HOLX,VRSN,NTRS,ENPH,EG,UAL,ATO,ILMN,TXT,LH,ZBRA,CE,EXPD,FDS,L,PKG,CLX,IEX,JBHT,CFG,LUV,MAA,IP,DGX,GEN,BBY,NWS,NWSA,MAS,FOX,FOXA,ALB,AES,SWKS,BG,UDR,EXPE,CAG,JBL,MRO,AMCR,AKAM,SNA,CF,WRK,RVTY,POOL,TRMB,WBA,PNR,KEY,NDSN,CPB,DOC,SWK,HST,INCY,LW,LNT,TECH,PODD,NI,MGM,KIM,AOS,VTRS,JKHY,EVRG,BEN,DVA,IPG,UHS,EMN,SJM,LKQ,TAP,JNPR,CRL,CPT,REG,KMX,APA,RL,BBWI,ALLE,WYNN,BXP,EPAM,SOLV,CHRW,HII,FFIV,MOS,CTLT,PAYC,TFX,TPR,QRVO,HSIC,AAL,GNRC,DAY,AIZ,PNW,HAS,PARA,MKTX,FRT,BIO,BWA,MTCH,FMC,GL,MHK,CZR,ETSY,IVZ,RHI,NCLH,CMA\n",
      "https://data.alpaca.markets/v1beta1/news 50\n",
      "https://data.alpaca.markets/v1beta1/news 50\n",
      "https://data.alpaca.markets/v1beta1/news 50\n",
      "https://data.alpaca.markets/v1beta1/news 50\n",
      "https://data.alpaca.markets/v1beta1/news 50\n",
      "https://data.alpaca.markets/v1beta1/news 50\n",
      "https://data.alpaca.markets/v1beta1/news 50\n",
      "https://data.alpaca.markets/v1beta1/news 50\n",
      "https://data.alpaca.markets/v1beta1/news 50\n",
      "https://data.alpaca.markets/v1beta1/news 50\n",
      "https://data.alpaca.markets/v1beta1/news 50\n",
      "https://data.alpaca.markets/v1beta1/news 50\n",
      "https://data.alpaca.markets/v1beta1/news 50\n",
      "https://data.alpaca.markets/v1beta1/news 50\n",
      "https://data.alpaca.markets/v1beta1/news 50\n",
      "https://data.alpaca.markets/v1beta1/news 50\n",
      "https://data.alpaca.markets/v1beta1/news 50\n",
      "https://data.alpaca.markets/v1beta1/news 50\n",
      "https://data.alpaca.markets/v1beta1/news 50\n",
      "https://data.alpaca.markets/v1beta1/news 50\n",
      "https://data.alpaca.markets/v1beta1/news 50\n",
      "https://data.alpaca.markets/v1beta1/news 50\n",
      "https://data.alpaca.markets/v1beta1/news 50\n",
      "https://data.alpaca.markets/v1beta1/news 50\n"
     ]
    },
    {
     "name": "stderr",
     "output_type": "stream",
     "text": [
      " 91%|█████████▏| 137/150 [11:54<01:48,  8.34s/it]"
     ]
    },
    {
     "name": "stdout",
     "output_type": "stream",
     "text": [
      "https://data.alpaca.markets/v1beta1/news 6\n",
      "error2\n",
      "Number of news articles: 1206\n",
      "Fetching news for date: 2023-09-25\n",
      "start and end news collection 2023-09-18 2023-09-24\n",
      "length of ticker list 503\n",
      "MSFT,AAPL,NVDA,GOOG,GOOGL,AMZN,META,BRK-B,LLY,AVGO,JPM,TSLA,V,WMT,XOM,UNH,MA,PG,COST,JNJ,ORCL,MRK,HD,BAC,CVX,NFLX,ABBV,AMD,KO,CRM,PEP,QCOM,TMO,ADBE,WFC,LIN,DHR,TMUS,ACN,CSCO,MCD,DIS,GE,AMAT,TXN,ABT,AXP,CAT,INTU,VZ,AMGN,PFE,MS,NEE,IBM,PM,NOW,CMCSA,BX,GS,ISRG,MU,UNP,RTX,NKE,COP,SPGI,ETN,UBER,SCHW,INTC,HON,BKNG,SYK,LRCX,T,LOW,C,ELV,PGR,UPS,VRTX,BLK,TJX,ADI,LMT,BSX,REGN,MDT,CB,BA,KLAC,DE,PANW,MMC,ADP,PLD,ANET,CI,ABNB,MDLZ,SNPS,SBUX,FI,AMT,CMG,SO,WM,BMY,HCA,GD,GILD,APH,CDNS,DUK,ICE,MO,ZTS,CME,SHW,CL,TT,TDG,MCO,FCX,MCK,EQIX,CEG,ITW,NXPI,EOG,CVS,CTAS,NOC,PH,MAR,TGT,ECL,BDX,SLB,CSX,EMR,PYPL,MRNA,USB,MPC,PNC,AON,FDX,MSI,PSX,WELL,CARR,RSG,APD,ROP,ORLY,PCAR,SPG,MNST,MMM,AJG,OXY,VLO,EW,MCHP,COF,CPRT,AIG,SMCI,MET,TFC,NSC,HLT,DXCM,GM,AFL,JCI,WMB,TRV,GEV,NEM,F,PCG,SRE,AZO,PSA,ROST,DHI,GWW,DLR,OKE,AEP,FTNT,HES,KDP,TEL,ADSK,STZ,O,URI,EL,PAYX,KMB,D,BK,A,AMP,COR,KHC,ALL,FIS,LEN,PRU,IDXX,CCI,LHX,KMI,HUM,IQV,PWR,NUE,DOW,AME,HSY,CNC,OTIS,CHTR,MSCI,CMI,ACGL,YUM,CTVA,GIS,KR,IR,RCL,LULU,FAST,ODFL,PEG,KVUE,EXC,MPWR,GEHC,SYY,EA,VRSK,NDAQ,MLM,VST,CSGP,XYL,HWM,FANG,VMC,FICO,IT,CTSH,DD,DAL,LVS,ED,BKR,LYB,HPQ,HAL,DG,BIIB,MTD,GRMN,EXR,RMD,ON,GLW,CDW,DFS,PPG,DVN,TSCO,ROK,HIG,WAB,ADM,XEL,EFX,FSLR,VICI,ANSS,EIX,AVB,EBAY,CBRE,FTV,DECK,TTWO,TROW,GPN,RJF,CHD,WTW,BRO,WEC,FITB,TRGP,DOV,VLTO,DLTR,KEYS,MTB,AWK,EQR,IFF,WDC,WST,PHM,ZBH,HPE,NTAP,BR,IRM,CAH,DTE,ETR,NVR,STT,STE,TER,APTV,FE,ROL,LYV,HUBB,WY,PTC,BF-B,AXON,BALL,TSN,PPL,INVH,STLD,TYL,BLDR,K,ARE,LDOS,WRB,ES,GPC,SBAC,CTRA,WAT,HBAN,CCL,STX,MOH,MKC,PFG,ALGN,HRL,VTR,CBOE,TDY,AEE,WBD,CNP,COO,CPAY,OMC,CINF,ULTA,CMS,AVY,NRG,EQT,DRI,J,DPZ,RF,SYF,BAX,ESS,HOLX,VRSN,NTRS,ENPH,EG,UAL,ATO,ILMN,TXT,LH,ZBRA,CE,EXPD,FDS,L,PKG,CLX,IEX,JBHT,CFG,LUV,MAA,IP,DGX,GEN,BBY,NWS,NWSA,MAS,FOX,FOXA,ALB,AES,SWKS,BG,UDR,EXPE,CAG,JBL,MRO,AMCR,AKAM,SNA,CF,WRK,RVTY,POOL,TRMB,WBA,PNR,KEY,NDSN,CPB,DOC,SWK,HST,INCY,LW,LNT,TECH,PODD,NI,MGM,KIM,AOS,VTRS,JKHY,EVRG,BEN,DVA,IPG,UHS,EMN,SJM,LKQ,TAP,JNPR,CRL,CPT,REG,KMX,APA,RL,BBWI,ALLE,WYNN,BXP,EPAM,SOLV,CHRW,HII,FFIV,MOS,CTLT,PAYC,TFX,TPR,QRVO,HSIC,AAL,GNRC,DAY,AIZ,PNW,HAS,PARA,MKTX,FRT,BIO,BWA,MTCH,FMC,GL,MHK,CZR,ETSY,IVZ,RHI,NCLH,CMA\n",
      "https://data.alpaca.markets/v1beta1/news 50\n",
      "https://data.alpaca.markets/v1beta1/news 50\n",
      "https://data.alpaca.markets/v1beta1/news 50\n",
      "https://data.alpaca.markets/v1beta1/news 50\n",
      "https://data.alpaca.markets/v1beta1/news 50\n",
      "https://data.alpaca.markets/v1beta1/news 50\n",
      "https://data.alpaca.markets/v1beta1/news 50\n",
      "https://data.alpaca.markets/v1beta1/news 50\n",
      "https://data.alpaca.markets/v1beta1/news 50\n",
      "https://data.alpaca.markets/v1beta1/news 50\n",
      "https://data.alpaca.markets/v1beta1/news 50\n",
      "https://data.alpaca.markets/v1beta1/news 50\n",
      "https://data.alpaca.markets/v1beta1/news 50\n",
      "https://data.alpaca.markets/v1beta1/news 50\n",
      "https://data.alpaca.markets/v1beta1/news 50\n",
      "https://data.alpaca.markets/v1beta1/news 50\n",
      "https://data.alpaca.markets/v1beta1/news 50\n",
      "https://data.alpaca.markets/v1beta1/news 50\n",
      "https://data.alpaca.markets/v1beta1/news 50\n",
      "https://data.alpaca.markets/v1beta1/news 50\n",
      "https://data.alpaca.markets/v1beta1/news 50\n",
      "https://data.alpaca.markets/v1beta1/news 50\n",
      "https://data.alpaca.markets/v1beta1/news 50\n",
      "https://data.alpaca.markets/v1beta1/news 50\n",
      "https://data.alpaca.markets/v1beta1/news 50\n",
      "https://data.alpaca.markets/v1beta1/news 50\n",
      "https://data.alpaca.markets/v1beta1/news 50\n",
      "https://data.alpaca.markets/v1beta1/news 50\n",
      "https://data.alpaca.markets/v1beta1/news 50\n",
      "https://data.alpaca.markets/v1beta1/news 50\n"
     ]
    },
    {
     "name": "stderr",
     "output_type": "stream",
     "text": [
      " 92%|█████████▏| 138/150 [12:05<01:47,  8.96s/it]"
     ]
    },
    {
     "name": "stdout",
     "output_type": "stream",
     "text": [
      "https://data.alpaca.markets/v1beta1/news 44\n",
      "error2\n",
      "Number of news articles: 1544\n",
      "Fetching news for date: 2023-09-28\n",
      "start and end news collection 2023-09-21 2023-09-27\n",
      "length of ticker list 503\n",
      "MSFT,AAPL,NVDA,GOOG,GOOGL,AMZN,META,BRK-B,LLY,AVGO,JPM,TSLA,V,WMT,XOM,UNH,MA,PG,COST,JNJ,ORCL,MRK,HD,BAC,CVX,NFLX,ABBV,AMD,KO,CRM,PEP,QCOM,TMO,ADBE,WFC,LIN,DHR,TMUS,ACN,CSCO,MCD,DIS,GE,AMAT,TXN,ABT,AXP,CAT,INTU,VZ,AMGN,PFE,MS,NEE,IBM,PM,NOW,CMCSA,BX,GS,ISRG,MU,UNP,RTX,NKE,COP,SPGI,ETN,UBER,SCHW,INTC,HON,BKNG,SYK,LRCX,T,LOW,C,ELV,PGR,UPS,VRTX,BLK,TJX,ADI,LMT,BSX,REGN,MDT,CB,BA,KLAC,DE,PANW,MMC,ADP,PLD,ANET,CI,ABNB,MDLZ,SNPS,SBUX,FI,AMT,CMG,SO,WM,BMY,HCA,GD,GILD,APH,CDNS,DUK,ICE,MO,ZTS,CME,SHW,CL,TT,TDG,MCO,FCX,MCK,EQIX,CEG,ITW,NXPI,EOG,CVS,CTAS,NOC,PH,MAR,TGT,ECL,BDX,SLB,CSX,EMR,PYPL,MRNA,USB,MPC,PNC,AON,FDX,MSI,PSX,WELL,CARR,RSG,APD,ROP,ORLY,PCAR,SPG,MNST,MMM,AJG,OXY,VLO,EW,MCHP,COF,CPRT,AIG,SMCI,MET,TFC,NSC,HLT,DXCM,GM,AFL,JCI,WMB,TRV,GEV,NEM,F,PCG,SRE,AZO,PSA,ROST,DHI,GWW,DLR,OKE,AEP,FTNT,HES,KDP,TEL,ADSK,STZ,O,URI,EL,PAYX,KMB,D,BK,A,AMP,COR,KHC,ALL,FIS,LEN,PRU,IDXX,CCI,LHX,KMI,HUM,IQV,PWR,NUE,DOW,AME,HSY,CNC,OTIS,CHTR,MSCI,CMI,ACGL,YUM,CTVA,GIS,KR,IR,RCL,LULU,FAST,ODFL,PEG,KVUE,EXC,MPWR,GEHC,SYY,EA,VRSK,NDAQ,MLM,VST,CSGP,XYL,HWM,FANG,VMC,FICO,IT,CTSH,DD,DAL,LVS,ED,BKR,LYB,HPQ,HAL,DG,BIIB,MTD,GRMN,EXR,RMD,ON,GLW,CDW,DFS,PPG,DVN,TSCO,ROK,HIG,WAB,ADM,XEL,EFX,FSLR,VICI,ANSS,EIX,AVB,EBAY,CBRE,FTV,DECK,TTWO,TROW,GPN,RJF,CHD,WTW,BRO,WEC,FITB,TRGP,DOV,VLTO,DLTR,KEYS,MTB,AWK,EQR,IFF,WDC,WST,PHM,ZBH,HPE,NTAP,BR,IRM,CAH,DTE,ETR,NVR,STT,STE,TER,APTV,FE,ROL,LYV,HUBB,WY,PTC,BF-B,AXON,BALL,TSN,PPL,INVH,STLD,TYL,BLDR,K,ARE,LDOS,WRB,ES,GPC,SBAC,CTRA,WAT,HBAN,CCL,STX,MOH,MKC,PFG,ALGN,HRL,VTR,CBOE,TDY,AEE,WBD,CNP,COO,CPAY,OMC,CINF,ULTA,CMS,AVY,NRG,EQT,DRI,J,DPZ,RF,SYF,BAX,ESS,HOLX,VRSN,NTRS,ENPH,EG,UAL,ATO,ILMN,TXT,LH,ZBRA,CE,EXPD,FDS,L,PKG,CLX,IEX,JBHT,CFG,LUV,MAA,IP,DGX,GEN,BBY,NWS,NWSA,MAS,FOX,FOXA,ALB,AES,SWKS,BG,UDR,EXPE,CAG,JBL,MRO,AMCR,AKAM,SNA,CF,WRK,RVTY,POOL,TRMB,WBA,PNR,KEY,NDSN,CPB,DOC,SWK,HST,INCY,LW,LNT,TECH,PODD,NI,MGM,KIM,AOS,VTRS,JKHY,EVRG,BEN,DVA,IPG,UHS,EMN,SJM,LKQ,TAP,JNPR,CRL,CPT,REG,KMX,APA,RL,BBWI,ALLE,WYNN,BXP,EPAM,SOLV,CHRW,HII,FFIV,MOS,CTLT,PAYC,TFX,TPR,QRVO,HSIC,AAL,GNRC,DAY,AIZ,PNW,HAS,PARA,MKTX,FRT,BIO,BWA,MTCH,FMC,GL,MHK,CZR,ETSY,IVZ,RHI,NCLH,CMA\n",
      "https://data.alpaca.markets/v1beta1/news 50\n",
      "https://data.alpaca.markets/v1beta1/news 50\n",
      "https://data.alpaca.markets/v1beta1/news 50\n",
      "https://data.alpaca.markets/v1beta1/news 50\n",
      "https://data.alpaca.markets/v1beta1/news 50\n",
      "https://data.alpaca.markets/v1beta1/news 50\n",
      "https://data.alpaca.markets/v1beta1/news 50\n",
      "https://data.alpaca.markets/v1beta1/news 50\n",
      "https://data.alpaca.markets/v1beta1/news 50\n",
      "https://data.alpaca.markets/v1beta1/news 50\n",
      "https://data.alpaca.markets/v1beta1/news 50\n",
      "https://data.alpaca.markets/v1beta1/news 50\n",
      "https://data.alpaca.markets/v1beta1/news 50\n",
      "https://data.alpaca.markets/v1beta1/news 50\n",
      "https://data.alpaca.markets/v1beta1/news 50\n",
      "https://data.alpaca.markets/v1beta1/news 50\n",
      "https://data.alpaca.markets/v1beta1/news 50\n",
      "https://data.alpaca.markets/v1beta1/news 50\n",
      "https://data.alpaca.markets/v1beta1/news 50\n",
      "https://data.alpaca.markets/v1beta1/news 50\n",
      "https://data.alpaca.markets/v1beta1/news 50\n",
      "https://data.alpaca.markets/v1beta1/news 50\n"
     ]
    },
    {
     "name": "stderr",
     "output_type": "stream",
     "text": [
      " 93%|█████████▎| 139/150 [12:13<01:34,  8.57s/it]"
     ]
    },
    {
     "name": "stdout",
     "output_type": "stream",
     "text": [
      "https://data.alpaca.markets/v1beta1/news 39\n",
      "error2\n",
      "Number of news articles: 1139\n",
      "Fetching news for date: 2023-10-10\n",
      "start and end news collection 2023-10-03 2023-10-09\n",
      "length of ticker list 503\n",
      "MSFT,AAPL,NVDA,GOOG,GOOGL,AMZN,META,BRK-B,LLY,AVGO,JPM,TSLA,V,WMT,XOM,UNH,MA,PG,COST,JNJ,ORCL,MRK,HD,BAC,CVX,NFLX,ABBV,AMD,KO,CRM,PEP,QCOM,TMO,ADBE,WFC,LIN,DHR,TMUS,ACN,CSCO,MCD,DIS,GE,AMAT,TXN,ABT,AXP,CAT,INTU,VZ,AMGN,PFE,MS,NEE,IBM,PM,NOW,CMCSA,BX,GS,ISRG,MU,UNP,RTX,NKE,COP,SPGI,ETN,UBER,SCHW,INTC,HON,BKNG,SYK,LRCX,T,LOW,C,ELV,PGR,UPS,VRTX,BLK,TJX,ADI,LMT,BSX,REGN,MDT,CB,BA,KLAC,DE,PANW,MMC,ADP,PLD,ANET,CI,ABNB,MDLZ,SNPS,SBUX,FI,AMT,CMG,SO,WM,BMY,HCA,GD,GILD,APH,CDNS,DUK,ICE,MO,ZTS,CME,SHW,CL,TT,TDG,MCO,FCX,MCK,EQIX,CEG,ITW,NXPI,EOG,CVS,CTAS,NOC,PH,MAR,TGT,ECL,BDX,SLB,CSX,EMR,PYPL,MRNA,USB,MPC,PNC,AON,FDX,MSI,PSX,WELL,CARR,RSG,APD,ROP,ORLY,PCAR,SPG,MNST,MMM,AJG,OXY,VLO,EW,MCHP,COF,CPRT,AIG,SMCI,MET,TFC,NSC,HLT,DXCM,GM,AFL,JCI,WMB,TRV,GEV,NEM,F,PCG,SRE,AZO,PSA,ROST,DHI,GWW,DLR,OKE,AEP,FTNT,HES,KDP,TEL,ADSK,STZ,O,URI,EL,PAYX,KMB,D,BK,A,AMP,COR,KHC,ALL,FIS,LEN,PRU,IDXX,CCI,LHX,KMI,HUM,IQV,PWR,NUE,DOW,AME,HSY,CNC,OTIS,CHTR,MSCI,CMI,ACGL,YUM,CTVA,GIS,KR,IR,RCL,LULU,FAST,ODFL,PEG,KVUE,EXC,MPWR,GEHC,SYY,EA,VRSK,NDAQ,MLM,VST,CSGP,XYL,HWM,FANG,VMC,FICO,IT,CTSH,DD,DAL,LVS,ED,BKR,LYB,HPQ,HAL,DG,BIIB,MTD,GRMN,EXR,RMD,ON,GLW,CDW,DFS,PPG,DVN,TSCO,ROK,HIG,WAB,ADM,XEL,EFX,FSLR,VICI,ANSS,EIX,AVB,EBAY,CBRE,FTV,DECK,TTWO,TROW,GPN,RJF,CHD,WTW,BRO,WEC,FITB,TRGP,DOV,VLTO,DLTR,KEYS,MTB,AWK,EQR,IFF,WDC,WST,PHM,ZBH,HPE,NTAP,BR,IRM,CAH,DTE,ETR,NVR,STT,STE,TER,APTV,FE,ROL,LYV,HUBB,WY,PTC,BF-B,AXON,BALL,TSN,PPL,INVH,STLD,TYL,BLDR,K,ARE,LDOS,WRB,ES,GPC,SBAC,CTRA,WAT,HBAN,CCL,STX,MOH,MKC,PFG,ALGN,HRL,VTR,CBOE,TDY,AEE,WBD,CNP,COO,CPAY,OMC,CINF,ULTA,CMS,AVY,NRG,EQT,DRI,J,DPZ,RF,SYF,BAX,ESS,HOLX,VRSN,NTRS,ENPH,EG,UAL,ATO,ILMN,TXT,LH,ZBRA,CE,EXPD,FDS,L,PKG,CLX,IEX,JBHT,CFG,LUV,MAA,IP,DGX,GEN,BBY,NWS,NWSA,MAS,FOX,FOXA,ALB,AES,SWKS,BG,UDR,EXPE,CAG,JBL,MRO,AMCR,AKAM,SNA,CF,WRK,RVTY,POOL,TRMB,WBA,PNR,KEY,NDSN,CPB,DOC,SWK,HST,INCY,LW,LNT,TECH,PODD,NI,MGM,KIM,AOS,VTRS,JKHY,EVRG,BEN,DVA,IPG,UHS,EMN,SJM,LKQ,TAP,JNPR,CRL,CPT,REG,KMX,APA,RL,BBWI,ALLE,WYNN,BXP,EPAM,SOLV,CHRW,HII,FFIV,MOS,CTLT,PAYC,TFX,TPR,QRVO,HSIC,AAL,GNRC,DAY,AIZ,PNW,HAS,PARA,MKTX,FRT,BIO,BWA,MTCH,FMC,GL,MHK,CZR,ETSY,IVZ,RHI,NCLH,CMA\n",
      "https://data.alpaca.markets/v1beta1/news 50\n",
      "https://data.alpaca.markets/v1beta1/news 50\n",
      "https://data.alpaca.markets/v1beta1/news 50\n",
      "https://data.alpaca.markets/v1beta1/news 50\n",
      "https://data.alpaca.markets/v1beta1/news 50\n",
      "https://data.alpaca.markets/v1beta1/news 50\n",
      "https://data.alpaca.markets/v1beta1/news 50\n",
      "https://data.alpaca.markets/v1beta1/news 50\n",
      "https://data.alpaca.markets/v1beta1/news 50\n",
      "https://data.alpaca.markets/v1beta1/news 50\n",
      "https://data.alpaca.markets/v1beta1/news 50\n",
      "https://data.alpaca.markets/v1beta1/news 50\n",
      "https://data.alpaca.markets/v1beta1/news 50\n",
      "https://data.alpaca.markets/v1beta1/news 50\n",
      "https://data.alpaca.markets/v1beta1/news 50\n",
      "https://data.alpaca.markets/v1beta1/news 50\n",
      "https://data.alpaca.markets/v1beta1/news 50\n",
      "https://data.alpaca.markets/v1beta1/news 50\n",
      "https://data.alpaca.markets/v1beta1/news 50\n",
      "https://data.alpaca.markets/v1beta1/news 50\n",
      "https://data.alpaca.markets/v1beta1/news 50\n",
      "https://data.alpaca.markets/v1beta1/news 50\n",
      "https://data.alpaca.markets/v1beta1/news 50\n",
      "https://data.alpaca.markets/v1beta1/news 50\n",
      "https://data.alpaca.markets/v1beta1/news 50\n"
     ]
    },
    {
     "name": "stderr",
     "output_type": "stream",
     "text": [
      " 93%|█████████▎| 140/150 [12:21<01:25,  8.58s/it]"
     ]
    },
    {
     "name": "stdout",
     "output_type": "stream",
     "text": [
      "https://data.alpaca.markets/v1beta1/news 15\n",
      "error2\n",
      "Number of news articles: 1265\n",
      "Fetching news for date: 2023-10-12\n",
      "start and end news collection 2023-10-05 2023-10-11\n",
      "length of ticker list 503\n",
      "MSFT,AAPL,NVDA,GOOG,GOOGL,AMZN,META,BRK-B,LLY,AVGO,JPM,TSLA,V,WMT,XOM,UNH,MA,PG,COST,JNJ,ORCL,MRK,HD,BAC,CVX,NFLX,ABBV,AMD,KO,CRM,PEP,QCOM,TMO,ADBE,WFC,LIN,DHR,TMUS,ACN,CSCO,MCD,DIS,GE,AMAT,TXN,ABT,AXP,CAT,INTU,VZ,AMGN,PFE,MS,NEE,IBM,PM,NOW,CMCSA,BX,GS,ISRG,MU,UNP,RTX,NKE,COP,SPGI,ETN,UBER,SCHW,INTC,HON,BKNG,SYK,LRCX,T,LOW,C,ELV,PGR,UPS,VRTX,BLK,TJX,ADI,LMT,BSX,REGN,MDT,CB,BA,KLAC,DE,PANW,MMC,ADP,PLD,ANET,CI,ABNB,MDLZ,SNPS,SBUX,FI,AMT,CMG,SO,WM,BMY,HCA,GD,GILD,APH,CDNS,DUK,ICE,MO,ZTS,CME,SHW,CL,TT,TDG,MCO,FCX,MCK,EQIX,CEG,ITW,NXPI,EOG,CVS,CTAS,NOC,PH,MAR,TGT,ECL,BDX,SLB,CSX,EMR,PYPL,MRNA,USB,MPC,PNC,AON,FDX,MSI,PSX,WELL,CARR,RSG,APD,ROP,ORLY,PCAR,SPG,MNST,MMM,AJG,OXY,VLO,EW,MCHP,COF,CPRT,AIG,SMCI,MET,TFC,NSC,HLT,DXCM,GM,AFL,JCI,WMB,TRV,GEV,NEM,F,PCG,SRE,AZO,PSA,ROST,DHI,GWW,DLR,OKE,AEP,FTNT,HES,KDP,TEL,ADSK,STZ,O,URI,EL,PAYX,KMB,D,BK,A,AMP,COR,KHC,ALL,FIS,LEN,PRU,IDXX,CCI,LHX,KMI,HUM,IQV,PWR,NUE,DOW,AME,HSY,CNC,OTIS,CHTR,MSCI,CMI,ACGL,YUM,CTVA,GIS,KR,IR,RCL,LULU,FAST,ODFL,PEG,KVUE,EXC,MPWR,GEHC,SYY,EA,VRSK,NDAQ,MLM,VST,CSGP,XYL,HWM,FANG,VMC,FICO,IT,CTSH,DD,DAL,LVS,ED,BKR,LYB,HPQ,HAL,DG,BIIB,MTD,GRMN,EXR,RMD,ON,GLW,CDW,DFS,PPG,DVN,TSCO,ROK,HIG,WAB,ADM,XEL,EFX,FSLR,VICI,ANSS,EIX,AVB,EBAY,CBRE,FTV,DECK,TTWO,TROW,GPN,RJF,CHD,WTW,BRO,WEC,FITB,TRGP,DOV,VLTO,DLTR,KEYS,MTB,AWK,EQR,IFF,WDC,WST,PHM,ZBH,HPE,NTAP,BR,IRM,CAH,DTE,ETR,NVR,STT,STE,TER,APTV,FE,ROL,LYV,HUBB,WY,PTC,BF-B,AXON,BALL,TSN,PPL,INVH,STLD,TYL,BLDR,K,ARE,LDOS,WRB,ES,GPC,SBAC,CTRA,WAT,HBAN,CCL,STX,MOH,MKC,PFG,ALGN,HRL,VTR,CBOE,TDY,AEE,WBD,CNP,COO,CPAY,OMC,CINF,ULTA,CMS,AVY,NRG,EQT,DRI,J,DPZ,RF,SYF,BAX,ESS,HOLX,VRSN,NTRS,ENPH,EG,UAL,ATO,ILMN,TXT,LH,ZBRA,CE,EXPD,FDS,L,PKG,CLX,IEX,JBHT,CFG,LUV,MAA,IP,DGX,GEN,BBY,NWS,NWSA,MAS,FOX,FOXA,ALB,AES,SWKS,BG,UDR,EXPE,CAG,JBL,MRO,AMCR,AKAM,SNA,CF,WRK,RVTY,POOL,TRMB,WBA,PNR,KEY,NDSN,CPB,DOC,SWK,HST,INCY,LW,LNT,TECH,PODD,NI,MGM,KIM,AOS,VTRS,JKHY,EVRG,BEN,DVA,IPG,UHS,EMN,SJM,LKQ,TAP,JNPR,CRL,CPT,REG,KMX,APA,RL,BBWI,ALLE,WYNN,BXP,EPAM,SOLV,CHRW,HII,FFIV,MOS,CTLT,PAYC,TFX,TPR,QRVO,HSIC,AAL,GNRC,DAY,AIZ,PNW,HAS,PARA,MKTX,FRT,BIO,BWA,MTCH,FMC,GL,MHK,CZR,ETSY,IVZ,RHI,NCLH,CMA\n",
      "https://data.alpaca.markets/v1beta1/news 50\n",
      "https://data.alpaca.markets/v1beta1/news 50\n",
      "https://data.alpaca.markets/v1beta1/news 50\n",
      "https://data.alpaca.markets/v1beta1/news 50\n",
      "https://data.alpaca.markets/v1beta1/news 50\n",
      "https://data.alpaca.markets/v1beta1/news 50\n",
      "https://data.alpaca.markets/v1beta1/news 50\n",
      "https://data.alpaca.markets/v1beta1/news 50\n",
      "https://data.alpaca.markets/v1beta1/news 50\n",
      "https://data.alpaca.markets/v1beta1/news 50\n",
      "https://data.alpaca.markets/v1beta1/news 50\n",
      "https://data.alpaca.markets/v1beta1/news 50\n",
      "https://data.alpaca.markets/v1beta1/news 50\n",
      "https://data.alpaca.markets/v1beta1/news 50\n",
      "https://data.alpaca.markets/v1beta1/news 50\n",
      "https://data.alpaca.markets/v1beta1/news 50\n",
      "https://data.alpaca.markets/v1beta1/news 50\n",
      "https://data.alpaca.markets/v1beta1/news 50\n",
      "https://data.alpaca.markets/v1beta1/news 50\n",
      "https://data.alpaca.markets/v1beta1/news 50\n",
      "https://data.alpaca.markets/v1beta1/news 50\n",
      "https://data.alpaca.markets/v1beta1/news 50\n",
      "https://data.alpaca.markets/v1beta1/news 50\n"
     ]
    },
    {
     "name": "stderr",
     "output_type": "stream",
     "text": [
      " 94%|█████████▍| 141/150 [12:29<01:15,  8.36s/it]"
     ]
    },
    {
     "name": "stdout",
     "output_type": "stream",
     "text": [
      "https://data.alpaca.markets/v1beta1/news 11\n",
      "error2\n",
      "Number of news articles: 1161\n",
      "Fetching news for date: 2023-11-14\n",
      "start and end news collection 2023-11-07 2023-11-13\n",
      "length of ticker list 503\n",
      "MSFT,AAPL,NVDA,GOOG,GOOGL,AMZN,META,BRK-B,LLY,AVGO,JPM,TSLA,V,WMT,XOM,UNH,MA,PG,COST,JNJ,ORCL,MRK,HD,BAC,CVX,NFLX,ABBV,AMD,KO,CRM,PEP,QCOM,TMO,ADBE,WFC,LIN,DHR,TMUS,ACN,CSCO,MCD,DIS,GE,AMAT,TXN,ABT,AXP,CAT,INTU,VZ,AMGN,PFE,MS,NEE,IBM,PM,NOW,CMCSA,BX,GS,ISRG,MU,UNP,RTX,NKE,COP,SPGI,ETN,UBER,SCHW,INTC,HON,BKNG,SYK,LRCX,T,LOW,C,ELV,PGR,UPS,VRTX,BLK,TJX,ADI,LMT,BSX,REGN,MDT,CB,BA,KLAC,DE,PANW,MMC,ADP,PLD,ANET,CI,ABNB,MDLZ,SNPS,SBUX,FI,AMT,CMG,SO,WM,BMY,HCA,GD,GILD,APH,CDNS,DUK,ICE,MO,ZTS,CME,SHW,CL,TT,TDG,MCO,FCX,MCK,EQIX,CEG,ITW,NXPI,EOG,CVS,CTAS,NOC,PH,MAR,TGT,ECL,BDX,SLB,CSX,EMR,PYPL,MRNA,USB,MPC,PNC,AON,FDX,MSI,PSX,WELL,CARR,RSG,APD,ROP,ORLY,PCAR,SPG,MNST,MMM,AJG,OXY,VLO,EW,MCHP,COF,CPRT,AIG,SMCI,MET,TFC,NSC,HLT,DXCM,GM,AFL,JCI,WMB,TRV,GEV,NEM,F,PCG,SRE,AZO,PSA,ROST,DHI,GWW,DLR,OKE,AEP,FTNT,HES,KDP,TEL,ADSK,STZ,O,URI,EL,PAYX,KMB,D,BK,A,AMP,COR,KHC,ALL,FIS,LEN,PRU,IDXX,CCI,LHX,KMI,HUM,IQV,PWR,NUE,DOW,AME,HSY,CNC,OTIS,CHTR,MSCI,CMI,ACGL,YUM,CTVA,GIS,KR,IR,RCL,LULU,FAST,ODFL,PEG,KVUE,EXC,MPWR,GEHC,SYY,EA,VRSK,NDAQ,MLM,VST,CSGP,XYL,HWM,FANG,VMC,FICO,IT,CTSH,DD,DAL,LVS,ED,BKR,LYB,HPQ,HAL,DG,BIIB,MTD,GRMN,EXR,RMD,ON,GLW,CDW,DFS,PPG,DVN,TSCO,ROK,HIG,WAB,ADM,XEL,EFX,FSLR,VICI,ANSS,EIX,AVB,EBAY,CBRE,FTV,DECK,TTWO,TROW,GPN,RJF,CHD,WTW,BRO,WEC,FITB,TRGP,DOV,VLTO,DLTR,KEYS,MTB,AWK,EQR,IFF,WDC,WST,PHM,ZBH,HPE,NTAP,BR,IRM,CAH,DTE,ETR,NVR,STT,STE,TER,APTV,FE,ROL,LYV,HUBB,WY,PTC,BF-B,AXON,BALL,TSN,PPL,INVH,STLD,TYL,BLDR,K,ARE,LDOS,WRB,ES,GPC,SBAC,CTRA,WAT,HBAN,CCL,STX,MOH,MKC,PFG,ALGN,HRL,VTR,CBOE,TDY,AEE,WBD,CNP,COO,CPAY,OMC,CINF,ULTA,CMS,AVY,NRG,EQT,DRI,J,DPZ,RF,SYF,BAX,ESS,HOLX,VRSN,NTRS,ENPH,EG,UAL,ATO,ILMN,TXT,LH,ZBRA,CE,EXPD,FDS,L,PKG,CLX,IEX,JBHT,CFG,LUV,MAA,IP,DGX,GEN,BBY,NWS,NWSA,MAS,FOX,FOXA,ALB,AES,SWKS,BG,UDR,EXPE,CAG,JBL,MRO,AMCR,AKAM,SNA,CF,WRK,RVTY,POOL,TRMB,WBA,PNR,KEY,NDSN,CPB,DOC,SWK,HST,INCY,LW,LNT,TECH,PODD,NI,MGM,KIM,AOS,VTRS,JKHY,EVRG,BEN,DVA,IPG,UHS,EMN,SJM,LKQ,TAP,JNPR,CRL,CPT,REG,KMX,APA,RL,BBWI,ALLE,WYNN,BXP,EPAM,SOLV,CHRW,HII,FFIV,MOS,CTLT,PAYC,TFX,TPR,QRVO,HSIC,AAL,GNRC,DAY,AIZ,PNW,HAS,PARA,MKTX,FRT,BIO,BWA,MTCH,FMC,GL,MHK,CZR,ETSY,IVZ,RHI,NCLH,CMA\n",
      "https://data.alpaca.markets/v1beta1/news 50\n",
      "https://data.alpaca.markets/v1beta1/news 50\n",
      "https://data.alpaca.markets/v1beta1/news 50\n",
      "https://data.alpaca.markets/v1beta1/news 50\n",
      "https://data.alpaca.markets/v1beta1/news 50\n",
      "https://data.alpaca.markets/v1beta1/news 50\n",
      "https://data.alpaca.markets/v1beta1/news 50\n",
      "https://data.alpaca.markets/v1beta1/news 50\n",
      "https://data.alpaca.markets/v1beta1/news 50\n",
      "https://data.alpaca.markets/v1beta1/news 50\n",
      "https://data.alpaca.markets/v1beta1/news 50\n",
      "https://data.alpaca.markets/v1beta1/news 50\n",
      "https://data.alpaca.markets/v1beta1/news 50\n",
      "https://data.alpaca.markets/v1beta1/news 50\n",
      "https://data.alpaca.markets/v1beta1/news 50\n",
      "https://data.alpaca.markets/v1beta1/news 50\n",
      "https://data.alpaca.markets/v1beta1/news 50\n",
      "https://data.alpaca.markets/v1beta1/news 50\n",
      "https://data.alpaca.markets/v1beta1/news 50\n",
      "https://data.alpaca.markets/v1beta1/news 50\n",
      "https://data.alpaca.markets/v1beta1/news 50\n",
      "https://data.alpaca.markets/v1beta1/news 50\n"
     ]
    },
    {
     "name": "stderr",
     "output_type": "stream",
     "text": [
      " 95%|█████████▍| 142/150 [12:37<01:05,  8.14s/it]"
     ]
    },
    {
     "name": "stdout",
     "output_type": "stream",
     "text": [
      "https://data.alpaca.markets/v1beta1/news 3\n",
      "error2\n",
      "Number of news articles: 1103\n",
      "Fetching news for date: 2023-11-15\n",
      "start and end news collection 2023-11-08 2023-11-14\n",
      "length of ticker list 503\n",
      "MSFT,AAPL,NVDA,GOOG,GOOGL,AMZN,META,BRK-B,LLY,AVGO,JPM,TSLA,V,WMT,XOM,UNH,MA,PG,COST,JNJ,ORCL,MRK,HD,BAC,CVX,NFLX,ABBV,AMD,KO,CRM,PEP,QCOM,TMO,ADBE,WFC,LIN,DHR,TMUS,ACN,CSCO,MCD,DIS,GE,AMAT,TXN,ABT,AXP,CAT,INTU,VZ,AMGN,PFE,MS,NEE,IBM,PM,NOW,CMCSA,BX,GS,ISRG,MU,UNP,RTX,NKE,COP,SPGI,ETN,UBER,SCHW,INTC,HON,BKNG,SYK,LRCX,T,LOW,C,ELV,PGR,UPS,VRTX,BLK,TJX,ADI,LMT,BSX,REGN,MDT,CB,BA,KLAC,DE,PANW,MMC,ADP,PLD,ANET,CI,ABNB,MDLZ,SNPS,SBUX,FI,AMT,CMG,SO,WM,BMY,HCA,GD,GILD,APH,CDNS,DUK,ICE,MO,ZTS,CME,SHW,CL,TT,TDG,MCO,FCX,MCK,EQIX,CEG,ITW,NXPI,EOG,CVS,CTAS,NOC,PH,MAR,TGT,ECL,BDX,SLB,CSX,EMR,PYPL,MRNA,USB,MPC,PNC,AON,FDX,MSI,PSX,WELL,CARR,RSG,APD,ROP,ORLY,PCAR,SPG,MNST,MMM,AJG,OXY,VLO,EW,MCHP,COF,CPRT,AIG,SMCI,MET,TFC,NSC,HLT,DXCM,GM,AFL,JCI,WMB,TRV,GEV,NEM,F,PCG,SRE,AZO,PSA,ROST,DHI,GWW,DLR,OKE,AEP,FTNT,HES,KDP,TEL,ADSK,STZ,O,URI,EL,PAYX,KMB,D,BK,A,AMP,COR,KHC,ALL,FIS,LEN,PRU,IDXX,CCI,LHX,KMI,HUM,IQV,PWR,NUE,DOW,AME,HSY,CNC,OTIS,CHTR,MSCI,CMI,ACGL,YUM,CTVA,GIS,KR,IR,RCL,LULU,FAST,ODFL,PEG,KVUE,EXC,MPWR,GEHC,SYY,EA,VRSK,NDAQ,MLM,VST,CSGP,XYL,HWM,FANG,VMC,FICO,IT,CTSH,DD,DAL,LVS,ED,BKR,LYB,HPQ,HAL,DG,BIIB,MTD,GRMN,EXR,RMD,ON,GLW,CDW,DFS,PPG,DVN,TSCO,ROK,HIG,WAB,ADM,XEL,EFX,FSLR,VICI,ANSS,EIX,AVB,EBAY,CBRE,FTV,DECK,TTWO,TROW,GPN,RJF,CHD,WTW,BRO,WEC,FITB,TRGP,DOV,VLTO,DLTR,KEYS,MTB,AWK,EQR,IFF,WDC,WST,PHM,ZBH,HPE,NTAP,BR,IRM,CAH,DTE,ETR,NVR,STT,STE,TER,APTV,FE,ROL,LYV,HUBB,WY,PTC,BF-B,AXON,BALL,TSN,PPL,INVH,STLD,TYL,BLDR,K,ARE,LDOS,WRB,ES,GPC,SBAC,CTRA,WAT,HBAN,CCL,STX,MOH,MKC,PFG,ALGN,HRL,VTR,CBOE,TDY,AEE,WBD,CNP,COO,CPAY,OMC,CINF,ULTA,CMS,AVY,NRG,EQT,DRI,J,DPZ,RF,SYF,BAX,ESS,HOLX,VRSN,NTRS,ENPH,EG,UAL,ATO,ILMN,TXT,LH,ZBRA,CE,EXPD,FDS,L,PKG,CLX,IEX,JBHT,CFG,LUV,MAA,IP,DGX,GEN,BBY,NWS,NWSA,MAS,FOX,FOXA,ALB,AES,SWKS,BG,UDR,EXPE,CAG,JBL,MRO,AMCR,AKAM,SNA,CF,WRK,RVTY,POOL,TRMB,WBA,PNR,KEY,NDSN,CPB,DOC,SWK,HST,INCY,LW,LNT,TECH,PODD,NI,MGM,KIM,AOS,VTRS,JKHY,EVRG,BEN,DVA,IPG,UHS,EMN,SJM,LKQ,TAP,JNPR,CRL,CPT,REG,KMX,APA,RL,BBWI,ALLE,WYNN,BXP,EPAM,SOLV,CHRW,HII,FFIV,MOS,CTLT,PAYC,TFX,TPR,QRVO,HSIC,AAL,GNRC,DAY,AIZ,PNW,HAS,PARA,MKTX,FRT,BIO,BWA,MTCH,FMC,GL,MHK,CZR,ETSY,IVZ,RHI,NCLH,CMA\n",
      "https://data.alpaca.markets/v1beta1/news 50\n",
      "https://data.alpaca.markets/v1beta1/news 50\n",
      "https://data.alpaca.markets/v1beta1/news 50\n",
      "https://data.alpaca.markets/v1beta1/news 50\n",
      "https://data.alpaca.markets/v1beta1/news 50\n",
      "https://data.alpaca.markets/v1beta1/news 50\n",
      "https://data.alpaca.markets/v1beta1/news 50\n",
      "https://data.alpaca.markets/v1beta1/news 50\n",
      "https://data.alpaca.markets/v1beta1/news 50\n",
      "https://data.alpaca.markets/v1beta1/news 50\n",
      "https://data.alpaca.markets/v1beta1/news 50\n",
      "https://data.alpaca.markets/v1beta1/news 50\n",
      "https://data.alpaca.markets/v1beta1/news 50\n",
      "https://data.alpaca.markets/v1beta1/news 50\n",
      "https://data.alpaca.markets/v1beta1/news 50\n",
      "https://data.alpaca.markets/v1beta1/news 50\n",
      "https://data.alpaca.markets/v1beta1/news 50\n",
      "https://data.alpaca.markets/v1beta1/news 50\n",
      "https://data.alpaca.markets/v1beta1/news 50\n",
      "https://data.alpaca.markets/v1beta1/news 50\n"
     ]
    },
    {
     "name": "stderr",
     "output_type": "stream",
     "text": [
      " 95%|█████████▌| 143/150 [12:45<00:57,  8.24s/it]"
     ]
    },
    {
     "name": "stdout",
     "output_type": "stream",
     "text": [
      "https://data.alpaca.markets/v1beta1/news 48\n",
      "error2\n",
      "Number of news articles: 1048\n",
      "Fetching news for date: 2023-12-27\n",
      "start and end news collection 2023-12-20 2023-12-26\n",
      "length of ticker list 503\n",
      "MSFT,AAPL,NVDA,GOOG,GOOGL,AMZN,META,BRK-B,LLY,AVGO,JPM,TSLA,V,WMT,XOM,UNH,MA,PG,COST,JNJ,ORCL,MRK,HD,BAC,CVX,NFLX,ABBV,AMD,KO,CRM,PEP,QCOM,TMO,ADBE,WFC,LIN,DHR,TMUS,ACN,CSCO,MCD,DIS,GE,AMAT,TXN,ABT,AXP,CAT,INTU,VZ,AMGN,PFE,MS,NEE,IBM,PM,NOW,CMCSA,BX,GS,ISRG,MU,UNP,RTX,NKE,COP,SPGI,ETN,UBER,SCHW,INTC,HON,BKNG,SYK,LRCX,T,LOW,C,ELV,PGR,UPS,VRTX,BLK,TJX,ADI,LMT,BSX,REGN,MDT,CB,BA,KLAC,DE,PANW,MMC,ADP,PLD,ANET,CI,ABNB,MDLZ,SNPS,SBUX,FI,AMT,CMG,SO,WM,BMY,HCA,GD,GILD,APH,CDNS,DUK,ICE,MO,ZTS,CME,SHW,CL,TT,TDG,MCO,FCX,MCK,EQIX,CEG,ITW,NXPI,EOG,CVS,CTAS,NOC,PH,MAR,TGT,ECL,BDX,SLB,CSX,EMR,PYPL,MRNA,USB,MPC,PNC,AON,FDX,MSI,PSX,WELL,CARR,RSG,APD,ROP,ORLY,PCAR,SPG,MNST,MMM,AJG,OXY,VLO,EW,MCHP,COF,CPRT,AIG,SMCI,MET,TFC,NSC,HLT,DXCM,GM,AFL,JCI,WMB,TRV,GEV,NEM,F,PCG,SRE,AZO,PSA,ROST,DHI,GWW,DLR,OKE,AEP,FTNT,HES,KDP,TEL,ADSK,STZ,O,URI,EL,PAYX,KMB,D,BK,A,AMP,COR,KHC,ALL,FIS,LEN,PRU,IDXX,CCI,LHX,KMI,HUM,IQV,PWR,NUE,DOW,AME,HSY,CNC,OTIS,CHTR,MSCI,CMI,ACGL,YUM,CTVA,GIS,KR,IR,RCL,LULU,FAST,ODFL,PEG,KVUE,EXC,MPWR,GEHC,SYY,EA,VRSK,NDAQ,MLM,VST,CSGP,XYL,HWM,FANG,VMC,FICO,IT,CTSH,DD,DAL,LVS,ED,BKR,LYB,HPQ,HAL,DG,BIIB,MTD,GRMN,EXR,RMD,ON,GLW,CDW,DFS,PPG,DVN,TSCO,ROK,HIG,WAB,ADM,XEL,EFX,FSLR,VICI,ANSS,EIX,AVB,EBAY,CBRE,FTV,DECK,TTWO,TROW,GPN,RJF,CHD,WTW,BRO,WEC,FITB,TRGP,DOV,VLTO,DLTR,KEYS,MTB,AWK,EQR,IFF,WDC,WST,PHM,ZBH,HPE,NTAP,BR,IRM,CAH,DTE,ETR,NVR,STT,STE,TER,APTV,FE,ROL,LYV,HUBB,WY,PTC,BF-B,AXON,BALL,TSN,PPL,INVH,STLD,TYL,BLDR,K,ARE,LDOS,WRB,ES,GPC,SBAC,CTRA,WAT,HBAN,CCL,STX,MOH,MKC,PFG,ALGN,HRL,VTR,CBOE,TDY,AEE,WBD,CNP,COO,CPAY,OMC,CINF,ULTA,CMS,AVY,NRG,EQT,DRI,J,DPZ,RF,SYF,BAX,ESS,HOLX,VRSN,NTRS,ENPH,EG,UAL,ATO,ILMN,TXT,LH,ZBRA,CE,EXPD,FDS,L,PKG,CLX,IEX,JBHT,CFG,LUV,MAA,IP,DGX,GEN,BBY,NWS,NWSA,MAS,FOX,FOXA,ALB,AES,SWKS,BG,UDR,EXPE,CAG,JBL,MRO,AMCR,AKAM,SNA,CF,WRK,RVTY,POOL,TRMB,WBA,PNR,KEY,NDSN,CPB,DOC,SWK,HST,INCY,LW,LNT,TECH,PODD,NI,MGM,KIM,AOS,VTRS,JKHY,EVRG,BEN,DVA,IPG,UHS,EMN,SJM,LKQ,TAP,JNPR,CRL,CPT,REG,KMX,APA,RL,BBWI,ALLE,WYNN,BXP,EPAM,SOLV,CHRW,HII,FFIV,MOS,CTLT,PAYC,TFX,TPR,QRVO,HSIC,AAL,GNRC,DAY,AIZ,PNW,HAS,PARA,MKTX,FRT,BIO,BWA,MTCH,FMC,GL,MHK,CZR,ETSY,IVZ,RHI,NCLH,CMA\n",
      "https://data.alpaca.markets/v1beta1/news 50\n",
      "https://data.alpaca.markets/v1beta1/news 50\n",
      "https://data.alpaca.markets/v1beta1/news 50\n",
      "https://data.alpaca.markets/v1beta1/news 50\n",
      "https://data.alpaca.markets/v1beta1/news 50\n",
      "https://data.alpaca.markets/v1beta1/news 50\n",
      "https://data.alpaca.markets/v1beta1/news 50\n",
      "https://data.alpaca.markets/v1beta1/news 50\n",
      "https://data.alpaca.markets/v1beta1/news 50\n",
      "https://data.alpaca.markets/v1beta1/news 50\n",
      "https://data.alpaca.markets/v1beta1/news 50\n",
      "https://data.alpaca.markets/v1beta1/news 50\n",
      "https://data.alpaca.markets/v1beta1/news 50\n",
      "https://data.alpaca.markets/v1beta1/news 50\n",
      "https://data.alpaca.markets/v1beta1/news 50\n",
      "https://data.alpaca.markets/v1beta1/news 50\n",
      "https://data.alpaca.markets/v1beta1/news 50\n",
      "https://data.alpaca.markets/v1beta1/news 50\n"
     ]
    },
    {
     "name": "stderr",
     "output_type": "stream",
     "text": [
      " 96%|█████████▌| 144/150 [12:52<00:46,  7.75s/it]"
     ]
    },
    {
     "name": "stdout",
     "output_type": "stream",
     "text": [
      "https://data.alpaca.markets/v1beta1/news 48\n",
      "error2\n",
      "Number of news articles: 948\n",
      "Fetching news for date: 2024-01-04\n",
      "start and end news collection 2023-12-28 2024-01-03\n",
      "length of ticker list 503\n",
      "MSFT,AAPL,NVDA,GOOG,GOOGL,AMZN,META,BRK-B,LLY,AVGO,JPM,TSLA,V,WMT,XOM,UNH,MA,PG,COST,JNJ,ORCL,MRK,HD,BAC,CVX,NFLX,ABBV,AMD,KO,CRM,PEP,QCOM,TMO,ADBE,WFC,LIN,DHR,TMUS,ACN,CSCO,MCD,DIS,GE,AMAT,TXN,ABT,AXP,CAT,INTU,VZ,AMGN,PFE,MS,NEE,IBM,PM,NOW,CMCSA,BX,GS,ISRG,MU,UNP,RTX,NKE,COP,SPGI,ETN,UBER,SCHW,INTC,HON,BKNG,SYK,LRCX,T,LOW,C,ELV,PGR,UPS,VRTX,BLK,TJX,ADI,LMT,BSX,REGN,MDT,CB,BA,KLAC,DE,PANW,MMC,ADP,PLD,ANET,CI,ABNB,MDLZ,SNPS,SBUX,FI,AMT,CMG,SO,WM,BMY,HCA,GD,GILD,APH,CDNS,DUK,ICE,MO,ZTS,CME,SHW,CL,TT,TDG,MCO,FCX,MCK,EQIX,CEG,ITW,NXPI,EOG,CVS,CTAS,NOC,PH,MAR,TGT,ECL,BDX,SLB,CSX,EMR,PYPL,MRNA,USB,MPC,PNC,AON,FDX,MSI,PSX,WELL,CARR,RSG,APD,ROP,ORLY,PCAR,SPG,MNST,MMM,AJG,OXY,VLO,EW,MCHP,COF,CPRT,AIG,SMCI,MET,TFC,NSC,HLT,DXCM,GM,AFL,JCI,WMB,TRV,GEV,NEM,F,PCG,SRE,AZO,PSA,ROST,DHI,GWW,DLR,OKE,AEP,FTNT,HES,KDP,TEL,ADSK,STZ,O,URI,EL,PAYX,KMB,D,BK,A,AMP,COR,KHC,ALL,FIS,LEN,PRU,IDXX,CCI,LHX,KMI,HUM,IQV,PWR,NUE,DOW,AME,HSY,CNC,OTIS,CHTR,MSCI,CMI,ACGL,YUM,CTVA,GIS,KR,IR,RCL,LULU,FAST,ODFL,PEG,KVUE,EXC,MPWR,GEHC,SYY,EA,VRSK,NDAQ,MLM,VST,CSGP,XYL,HWM,FANG,VMC,FICO,IT,CTSH,DD,DAL,LVS,ED,BKR,LYB,HPQ,HAL,DG,BIIB,MTD,GRMN,EXR,RMD,ON,GLW,CDW,DFS,PPG,DVN,TSCO,ROK,HIG,WAB,ADM,XEL,EFX,FSLR,VICI,ANSS,EIX,AVB,EBAY,CBRE,FTV,DECK,TTWO,TROW,GPN,RJF,CHD,WTW,BRO,WEC,FITB,TRGP,DOV,VLTO,DLTR,KEYS,MTB,AWK,EQR,IFF,WDC,WST,PHM,ZBH,HPE,NTAP,BR,IRM,CAH,DTE,ETR,NVR,STT,STE,TER,APTV,FE,ROL,LYV,HUBB,WY,PTC,BF-B,AXON,BALL,TSN,PPL,INVH,STLD,TYL,BLDR,K,ARE,LDOS,WRB,ES,GPC,SBAC,CTRA,WAT,HBAN,CCL,STX,MOH,MKC,PFG,ALGN,HRL,VTR,CBOE,TDY,AEE,WBD,CNP,COO,CPAY,OMC,CINF,ULTA,CMS,AVY,NRG,EQT,DRI,J,DPZ,RF,SYF,BAX,ESS,HOLX,VRSN,NTRS,ENPH,EG,UAL,ATO,ILMN,TXT,LH,ZBRA,CE,EXPD,FDS,L,PKG,CLX,IEX,JBHT,CFG,LUV,MAA,IP,DGX,GEN,BBY,NWS,NWSA,MAS,FOX,FOXA,ALB,AES,SWKS,BG,UDR,EXPE,CAG,JBL,MRO,AMCR,AKAM,SNA,CF,WRK,RVTY,POOL,TRMB,WBA,PNR,KEY,NDSN,CPB,DOC,SWK,HST,INCY,LW,LNT,TECH,PODD,NI,MGM,KIM,AOS,VTRS,JKHY,EVRG,BEN,DVA,IPG,UHS,EMN,SJM,LKQ,TAP,JNPR,CRL,CPT,REG,KMX,APA,RL,BBWI,ALLE,WYNN,BXP,EPAM,SOLV,CHRW,HII,FFIV,MOS,CTLT,PAYC,TFX,TPR,QRVO,HSIC,AAL,GNRC,DAY,AIZ,PNW,HAS,PARA,MKTX,FRT,BIO,BWA,MTCH,FMC,GL,MHK,CZR,ETSY,IVZ,RHI,NCLH,CMA\n",
      "https://data.alpaca.markets/v1beta1/news 50\n",
      "https://data.alpaca.markets/v1beta1/news 50\n",
      "https://data.alpaca.markets/v1beta1/news 50\n",
      "https://data.alpaca.markets/v1beta1/news 50\n",
      "https://data.alpaca.markets/v1beta1/news 50\n",
      "https://data.alpaca.markets/v1beta1/news 50\n",
      "https://data.alpaca.markets/v1beta1/news 50\n",
      "https://data.alpaca.markets/v1beta1/news 50\n",
      "https://data.alpaca.markets/v1beta1/news 50\n",
      "https://data.alpaca.markets/v1beta1/news 50\n",
      "https://data.alpaca.markets/v1beta1/news 50\n"
     ]
    },
    {
     "name": "stderr",
     "output_type": "stream",
     "text": [
      " 97%|█████████▋| 145/150 [12:56<00:33,  6.68s/it]"
     ]
    },
    {
     "name": "stdout",
     "output_type": "stream",
     "text": [
      "https://data.alpaca.markets/v1beta1/news 9\n",
      "error2\n",
      "Number of news articles: 559\n",
      "Fetching news for date: 2024-01-26\n",
      "start and end news collection 2024-01-19 2024-01-25\n",
      "length of ticker list 503\n",
      "MSFT,AAPL,NVDA,GOOG,GOOGL,AMZN,META,BRK-B,LLY,AVGO,JPM,TSLA,V,WMT,XOM,UNH,MA,PG,COST,JNJ,ORCL,MRK,HD,BAC,CVX,NFLX,ABBV,AMD,KO,CRM,PEP,QCOM,TMO,ADBE,WFC,LIN,DHR,TMUS,ACN,CSCO,MCD,DIS,GE,AMAT,TXN,ABT,AXP,CAT,INTU,VZ,AMGN,PFE,MS,NEE,IBM,PM,NOW,CMCSA,BX,GS,ISRG,MU,UNP,RTX,NKE,COP,SPGI,ETN,UBER,SCHW,INTC,HON,BKNG,SYK,LRCX,T,LOW,C,ELV,PGR,UPS,VRTX,BLK,TJX,ADI,LMT,BSX,REGN,MDT,CB,BA,KLAC,DE,PANW,MMC,ADP,PLD,ANET,CI,ABNB,MDLZ,SNPS,SBUX,FI,AMT,CMG,SO,WM,BMY,HCA,GD,GILD,APH,CDNS,DUK,ICE,MO,ZTS,CME,SHW,CL,TT,TDG,MCO,FCX,MCK,EQIX,CEG,ITW,NXPI,EOG,CVS,CTAS,NOC,PH,MAR,TGT,ECL,BDX,SLB,CSX,EMR,PYPL,MRNA,USB,MPC,PNC,AON,FDX,MSI,PSX,WELL,CARR,RSG,APD,ROP,ORLY,PCAR,SPG,MNST,MMM,AJG,OXY,VLO,EW,MCHP,COF,CPRT,AIG,SMCI,MET,TFC,NSC,HLT,DXCM,GM,AFL,JCI,WMB,TRV,GEV,NEM,F,PCG,SRE,AZO,PSA,ROST,DHI,GWW,DLR,OKE,AEP,FTNT,HES,KDP,TEL,ADSK,STZ,O,URI,EL,PAYX,KMB,D,BK,A,AMP,COR,KHC,ALL,FIS,LEN,PRU,IDXX,CCI,LHX,KMI,HUM,IQV,PWR,NUE,DOW,AME,HSY,CNC,OTIS,CHTR,MSCI,CMI,ACGL,YUM,CTVA,GIS,KR,IR,RCL,LULU,FAST,ODFL,PEG,KVUE,EXC,MPWR,GEHC,SYY,EA,VRSK,NDAQ,MLM,VST,CSGP,XYL,HWM,FANG,VMC,FICO,IT,CTSH,DD,DAL,LVS,ED,BKR,LYB,HPQ,HAL,DG,BIIB,MTD,GRMN,EXR,RMD,ON,GLW,CDW,DFS,PPG,DVN,TSCO,ROK,HIG,WAB,ADM,XEL,EFX,FSLR,VICI,ANSS,EIX,AVB,EBAY,CBRE,FTV,DECK,TTWO,TROW,GPN,RJF,CHD,WTW,BRO,WEC,FITB,TRGP,DOV,VLTO,DLTR,KEYS,MTB,AWK,EQR,IFF,WDC,WST,PHM,ZBH,HPE,NTAP,BR,IRM,CAH,DTE,ETR,NVR,STT,STE,TER,APTV,FE,ROL,LYV,HUBB,WY,PTC,BF-B,AXON,BALL,TSN,PPL,INVH,STLD,TYL,BLDR,K,ARE,LDOS,WRB,ES,GPC,SBAC,CTRA,WAT,HBAN,CCL,STX,MOH,MKC,PFG,ALGN,HRL,VTR,CBOE,TDY,AEE,WBD,CNP,COO,CPAY,OMC,CINF,ULTA,CMS,AVY,NRG,EQT,DRI,J,DPZ,RF,SYF,BAX,ESS,HOLX,VRSN,NTRS,ENPH,EG,UAL,ATO,ILMN,TXT,LH,ZBRA,CE,EXPD,FDS,L,PKG,CLX,IEX,JBHT,CFG,LUV,MAA,IP,DGX,GEN,BBY,NWS,NWSA,MAS,FOX,FOXA,ALB,AES,SWKS,BG,UDR,EXPE,CAG,JBL,MRO,AMCR,AKAM,SNA,CF,WRK,RVTY,POOL,TRMB,WBA,PNR,KEY,NDSN,CPB,DOC,SWK,HST,INCY,LW,LNT,TECH,PODD,NI,MGM,KIM,AOS,VTRS,JKHY,EVRG,BEN,DVA,IPG,UHS,EMN,SJM,LKQ,TAP,JNPR,CRL,CPT,REG,KMX,APA,RL,BBWI,ALLE,WYNN,BXP,EPAM,SOLV,CHRW,HII,FFIV,MOS,CTLT,PAYC,TFX,TPR,QRVO,HSIC,AAL,GNRC,DAY,AIZ,PNW,HAS,PARA,MKTX,FRT,BIO,BWA,MTCH,FMC,GL,MHK,CZR,ETSY,IVZ,RHI,NCLH,CMA\n",
      "https://data.alpaca.markets/v1beta1/news 50\n",
      "https://data.alpaca.markets/v1beta1/news 50\n",
      "https://data.alpaca.markets/v1beta1/news 50\n",
      "https://data.alpaca.markets/v1beta1/news 50\n",
      "https://data.alpaca.markets/v1beta1/news 50\n",
      "https://data.alpaca.markets/v1beta1/news 50\n",
      "https://data.alpaca.markets/v1beta1/news 50\n",
      "https://data.alpaca.markets/v1beta1/news 50\n",
      "https://data.alpaca.markets/v1beta1/news 50\n",
      "https://data.alpaca.markets/v1beta1/news 50\n",
      "https://data.alpaca.markets/v1beta1/news 50\n",
      "https://data.alpaca.markets/v1beta1/news 50\n",
      "https://data.alpaca.markets/v1beta1/news 50\n",
      "https://data.alpaca.markets/v1beta1/news 50\n",
      "https://data.alpaca.markets/v1beta1/news 50\n",
      "https://data.alpaca.markets/v1beta1/news 50\n",
      "https://data.alpaca.markets/v1beta1/news 50\n",
      "https://data.alpaca.markets/v1beta1/news 50\n",
      "https://data.alpaca.markets/v1beta1/news 50\n",
      "https://data.alpaca.markets/v1beta1/news 50\n",
      "https://data.alpaca.markets/v1beta1/news 50\n",
      "https://data.alpaca.markets/v1beta1/news 50\n",
      "https://data.alpaca.markets/v1beta1/news 50\n",
      "https://data.alpaca.markets/v1beta1/news 50\n",
      "https://data.alpaca.markets/v1beta1/news 50\n",
      "https://data.alpaca.markets/v1beta1/news 50\n",
      "https://data.alpaca.markets/v1beta1/news 50\n",
      "https://data.alpaca.markets/v1beta1/news 50\n",
      "https://data.alpaca.markets/v1beta1/news 50\n"
     ]
    },
    {
     "name": "stderr",
     "output_type": "stream",
     "text": [
      " 97%|█████████▋| 146/150 [13:06<00:30,  7.68s/it]"
     ]
    },
    {
     "name": "stdout",
     "output_type": "stream",
     "text": [
      "https://data.alpaca.markets/v1beta1/news 26\n",
      "error2\n",
      "Number of news articles: 1476\n",
      "Fetching news for date: 2024-02-21\n",
      "start and end news collection 2024-02-14 2024-02-20\n",
      "length of ticker list 503\n",
      "MSFT,AAPL,NVDA,GOOG,GOOGL,AMZN,META,BRK-B,LLY,AVGO,JPM,TSLA,V,WMT,XOM,UNH,MA,PG,COST,JNJ,ORCL,MRK,HD,BAC,CVX,NFLX,ABBV,AMD,KO,CRM,PEP,QCOM,TMO,ADBE,WFC,LIN,DHR,TMUS,ACN,CSCO,MCD,DIS,GE,AMAT,TXN,ABT,AXP,CAT,INTU,VZ,AMGN,PFE,MS,NEE,IBM,PM,NOW,CMCSA,BX,GS,ISRG,MU,UNP,RTX,NKE,COP,SPGI,ETN,UBER,SCHW,INTC,HON,BKNG,SYK,LRCX,T,LOW,C,ELV,PGR,UPS,VRTX,BLK,TJX,ADI,LMT,BSX,REGN,MDT,CB,BA,KLAC,DE,PANW,MMC,ADP,PLD,ANET,CI,ABNB,MDLZ,SNPS,SBUX,FI,AMT,CMG,SO,WM,BMY,HCA,GD,GILD,APH,CDNS,DUK,ICE,MO,ZTS,CME,SHW,CL,TT,TDG,MCO,FCX,MCK,EQIX,CEG,ITW,NXPI,EOG,CVS,CTAS,NOC,PH,MAR,TGT,ECL,BDX,SLB,CSX,EMR,PYPL,MRNA,USB,MPC,PNC,AON,FDX,MSI,PSX,WELL,CARR,RSG,APD,ROP,ORLY,PCAR,SPG,MNST,MMM,AJG,OXY,VLO,EW,MCHP,COF,CPRT,AIG,SMCI,MET,TFC,NSC,HLT,DXCM,GM,AFL,JCI,WMB,TRV,GEV,NEM,F,PCG,SRE,AZO,PSA,ROST,DHI,GWW,DLR,OKE,AEP,FTNT,HES,KDP,TEL,ADSK,STZ,O,URI,EL,PAYX,KMB,D,BK,A,AMP,COR,KHC,ALL,FIS,LEN,PRU,IDXX,CCI,LHX,KMI,HUM,IQV,PWR,NUE,DOW,AME,HSY,CNC,OTIS,CHTR,MSCI,CMI,ACGL,YUM,CTVA,GIS,KR,IR,RCL,LULU,FAST,ODFL,PEG,KVUE,EXC,MPWR,GEHC,SYY,EA,VRSK,NDAQ,MLM,VST,CSGP,XYL,HWM,FANG,VMC,FICO,IT,CTSH,DD,DAL,LVS,ED,BKR,LYB,HPQ,HAL,DG,BIIB,MTD,GRMN,EXR,RMD,ON,GLW,CDW,DFS,PPG,DVN,TSCO,ROK,HIG,WAB,ADM,XEL,EFX,FSLR,VICI,ANSS,EIX,AVB,EBAY,CBRE,FTV,DECK,TTWO,TROW,GPN,RJF,CHD,WTW,BRO,WEC,FITB,TRGP,DOV,VLTO,DLTR,KEYS,MTB,AWK,EQR,IFF,WDC,WST,PHM,ZBH,HPE,NTAP,BR,IRM,CAH,DTE,ETR,NVR,STT,STE,TER,APTV,FE,ROL,LYV,HUBB,WY,PTC,BF-B,AXON,BALL,TSN,PPL,INVH,STLD,TYL,BLDR,K,ARE,LDOS,WRB,ES,GPC,SBAC,CTRA,WAT,HBAN,CCL,STX,MOH,MKC,PFG,ALGN,HRL,VTR,CBOE,TDY,AEE,WBD,CNP,COO,CPAY,OMC,CINF,ULTA,CMS,AVY,NRG,EQT,DRI,J,DPZ,RF,SYF,BAX,ESS,HOLX,VRSN,NTRS,ENPH,EG,UAL,ATO,ILMN,TXT,LH,ZBRA,CE,EXPD,FDS,L,PKG,CLX,IEX,JBHT,CFG,LUV,MAA,IP,DGX,GEN,BBY,NWS,NWSA,MAS,FOX,FOXA,ALB,AES,SWKS,BG,UDR,EXPE,CAG,JBL,MRO,AMCR,AKAM,SNA,CF,WRK,RVTY,POOL,TRMB,WBA,PNR,KEY,NDSN,CPB,DOC,SWK,HST,INCY,LW,LNT,TECH,PODD,NI,MGM,KIM,AOS,VTRS,JKHY,EVRG,BEN,DVA,IPG,UHS,EMN,SJM,LKQ,TAP,JNPR,CRL,CPT,REG,KMX,APA,RL,BBWI,ALLE,WYNN,BXP,EPAM,SOLV,CHRW,HII,FFIV,MOS,CTLT,PAYC,TFX,TPR,QRVO,HSIC,AAL,GNRC,DAY,AIZ,PNW,HAS,PARA,MKTX,FRT,BIO,BWA,MTCH,FMC,GL,MHK,CZR,ETSY,IVZ,RHI,NCLH,CMA\n",
      "https://data.alpaca.markets/v1beta1/news 50\n",
      "https://data.alpaca.markets/v1beta1/news 50\n",
      "https://data.alpaca.markets/v1beta1/news 50\n",
      "https://data.alpaca.markets/v1beta1/news 50\n",
      "https://data.alpaca.markets/v1beta1/news 50\n",
      "https://data.alpaca.markets/v1beta1/news 50\n",
      "https://data.alpaca.markets/v1beta1/news 50\n",
      "https://data.alpaca.markets/v1beta1/news 50\n",
      "https://data.alpaca.markets/v1beta1/news 50\n",
      "https://data.alpaca.markets/v1beta1/news 50\n",
      "https://data.alpaca.markets/v1beta1/news 50\n",
      "https://data.alpaca.markets/v1beta1/news 50\n",
      "https://data.alpaca.markets/v1beta1/news 50\n",
      "https://data.alpaca.markets/v1beta1/news 50\n",
      "https://data.alpaca.markets/v1beta1/news 50\n",
      "https://data.alpaca.markets/v1beta1/news 50\n"
     ]
    },
    {
     "name": "stderr",
     "output_type": "stream",
     "text": [
      " 98%|█████████▊| 147/150 [13:12<00:21,  7.13s/it]"
     ]
    },
    {
     "name": "stdout",
     "output_type": "stream",
     "text": [
      "https://data.alpaca.markets/v1beta1/news 38\n",
      "error2\n",
      "Number of news articles: 838\n",
      "Fetching news for date: 2024-02-22\n",
      "start and end news collection 2024-02-15 2024-02-21\n",
      "length of ticker list 503\n",
      "MSFT,AAPL,NVDA,GOOG,GOOGL,AMZN,META,BRK-B,LLY,AVGO,JPM,TSLA,V,WMT,XOM,UNH,MA,PG,COST,JNJ,ORCL,MRK,HD,BAC,CVX,NFLX,ABBV,AMD,KO,CRM,PEP,QCOM,TMO,ADBE,WFC,LIN,DHR,TMUS,ACN,CSCO,MCD,DIS,GE,AMAT,TXN,ABT,AXP,CAT,INTU,VZ,AMGN,PFE,MS,NEE,IBM,PM,NOW,CMCSA,BX,GS,ISRG,MU,UNP,RTX,NKE,COP,SPGI,ETN,UBER,SCHW,INTC,HON,BKNG,SYK,LRCX,T,LOW,C,ELV,PGR,UPS,VRTX,BLK,TJX,ADI,LMT,BSX,REGN,MDT,CB,BA,KLAC,DE,PANW,MMC,ADP,PLD,ANET,CI,ABNB,MDLZ,SNPS,SBUX,FI,AMT,CMG,SO,WM,BMY,HCA,GD,GILD,APH,CDNS,DUK,ICE,MO,ZTS,CME,SHW,CL,TT,TDG,MCO,FCX,MCK,EQIX,CEG,ITW,NXPI,EOG,CVS,CTAS,NOC,PH,MAR,TGT,ECL,BDX,SLB,CSX,EMR,PYPL,MRNA,USB,MPC,PNC,AON,FDX,MSI,PSX,WELL,CARR,RSG,APD,ROP,ORLY,PCAR,SPG,MNST,MMM,AJG,OXY,VLO,EW,MCHP,COF,CPRT,AIG,SMCI,MET,TFC,NSC,HLT,DXCM,GM,AFL,JCI,WMB,TRV,GEV,NEM,F,PCG,SRE,AZO,PSA,ROST,DHI,GWW,DLR,OKE,AEP,FTNT,HES,KDP,TEL,ADSK,STZ,O,URI,EL,PAYX,KMB,D,BK,A,AMP,COR,KHC,ALL,FIS,LEN,PRU,IDXX,CCI,LHX,KMI,HUM,IQV,PWR,NUE,DOW,AME,HSY,CNC,OTIS,CHTR,MSCI,CMI,ACGL,YUM,CTVA,GIS,KR,IR,RCL,LULU,FAST,ODFL,PEG,KVUE,EXC,MPWR,GEHC,SYY,EA,VRSK,NDAQ,MLM,VST,CSGP,XYL,HWM,FANG,VMC,FICO,IT,CTSH,DD,DAL,LVS,ED,BKR,LYB,HPQ,HAL,DG,BIIB,MTD,GRMN,EXR,RMD,ON,GLW,CDW,DFS,PPG,DVN,TSCO,ROK,HIG,WAB,ADM,XEL,EFX,FSLR,VICI,ANSS,EIX,AVB,EBAY,CBRE,FTV,DECK,TTWO,TROW,GPN,RJF,CHD,WTW,BRO,WEC,FITB,TRGP,DOV,VLTO,DLTR,KEYS,MTB,AWK,EQR,IFF,WDC,WST,PHM,ZBH,HPE,NTAP,BR,IRM,CAH,DTE,ETR,NVR,STT,STE,TER,APTV,FE,ROL,LYV,HUBB,WY,PTC,BF-B,AXON,BALL,TSN,PPL,INVH,STLD,TYL,BLDR,K,ARE,LDOS,WRB,ES,GPC,SBAC,CTRA,WAT,HBAN,CCL,STX,MOH,MKC,PFG,ALGN,HRL,VTR,CBOE,TDY,AEE,WBD,CNP,COO,CPAY,OMC,CINF,ULTA,CMS,AVY,NRG,EQT,DRI,J,DPZ,RF,SYF,BAX,ESS,HOLX,VRSN,NTRS,ENPH,EG,UAL,ATO,ILMN,TXT,LH,ZBRA,CE,EXPD,FDS,L,PKG,CLX,IEX,JBHT,CFG,LUV,MAA,IP,DGX,GEN,BBY,NWS,NWSA,MAS,FOX,FOXA,ALB,AES,SWKS,BG,UDR,EXPE,CAG,JBL,MRO,AMCR,AKAM,SNA,CF,WRK,RVTY,POOL,TRMB,WBA,PNR,KEY,NDSN,CPB,DOC,SWK,HST,INCY,LW,LNT,TECH,PODD,NI,MGM,KIM,AOS,VTRS,JKHY,EVRG,BEN,DVA,IPG,UHS,EMN,SJM,LKQ,TAP,JNPR,CRL,CPT,REG,KMX,APA,RL,BBWI,ALLE,WYNN,BXP,EPAM,SOLV,CHRW,HII,FFIV,MOS,CTLT,PAYC,TFX,TPR,QRVO,HSIC,AAL,GNRC,DAY,AIZ,PNW,HAS,PARA,MKTX,FRT,BIO,BWA,MTCH,FMC,GL,MHK,CZR,ETSY,IVZ,RHI,NCLH,CMA\n",
      "https://data.alpaca.markets/v1beta1/news 50\n",
      "https://data.alpaca.markets/v1beta1/news 50\n",
      "https://data.alpaca.markets/v1beta1/news 50\n",
      "https://data.alpaca.markets/v1beta1/news 50\n",
      "https://data.alpaca.markets/v1beta1/news 50\n",
      "https://data.alpaca.markets/v1beta1/news 50\n",
      "https://data.alpaca.markets/v1beta1/news 50\n",
      "https://data.alpaca.markets/v1beta1/news 50\n",
      "https://data.alpaca.markets/v1beta1/news 50\n",
      "https://data.alpaca.markets/v1beta1/news 50\n",
      "https://data.alpaca.markets/v1beta1/news 50\n",
      "https://data.alpaca.markets/v1beta1/news 50\n",
      "https://data.alpaca.markets/v1beta1/news 50\n",
      "https://data.alpaca.markets/v1beta1/news 50\n",
      "https://data.alpaca.markets/v1beta1/news 50\n",
      "https://data.alpaca.markets/v1beta1/news 50\n"
     ]
    },
    {
     "name": "stderr",
     "output_type": "stream",
     "text": [
      " 99%|█████████▊| 148/150 [13:18<00:13,  6.86s/it]"
     ]
    },
    {
     "name": "stdout",
     "output_type": "stream",
     "text": [
      "https://data.alpaca.markets/v1beta1/news 40\n",
      "error2\n",
      "Number of news articles: 840\n",
      "Fetching news for date: 2024-03-27\n",
      "start and end news collection 2024-03-20 2024-03-26\n",
      "length of ticker list 503\n",
      "MSFT,AAPL,NVDA,GOOG,GOOGL,AMZN,META,BRK-B,LLY,AVGO,JPM,TSLA,V,WMT,XOM,UNH,MA,PG,COST,JNJ,ORCL,MRK,HD,BAC,CVX,NFLX,ABBV,AMD,KO,CRM,PEP,QCOM,TMO,ADBE,WFC,LIN,DHR,TMUS,ACN,CSCO,MCD,DIS,GE,AMAT,TXN,ABT,AXP,CAT,INTU,VZ,AMGN,PFE,MS,NEE,IBM,PM,NOW,CMCSA,BX,GS,ISRG,MU,UNP,RTX,NKE,COP,SPGI,ETN,UBER,SCHW,INTC,HON,BKNG,SYK,LRCX,T,LOW,C,ELV,PGR,UPS,VRTX,BLK,TJX,ADI,LMT,BSX,REGN,MDT,CB,BA,KLAC,DE,PANW,MMC,ADP,PLD,ANET,CI,ABNB,MDLZ,SNPS,SBUX,FI,AMT,CMG,SO,WM,BMY,HCA,GD,GILD,APH,CDNS,DUK,ICE,MO,ZTS,CME,SHW,CL,TT,TDG,MCO,FCX,MCK,EQIX,CEG,ITW,NXPI,EOG,CVS,CTAS,NOC,PH,MAR,TGT,ECL,BDX,SLB,CSX,EMR,PYPL,MRNA,USB,MPC,PNC,AON,FDX,MSI,PSX,WELL,CARR,RSG,APD,ROP,ORLY,PCAR,SPG,MNST,MMM,AJG,OXY,VLO,EW,MCHP,COF,CPRT,AIG,SMCI,MET,TFC,NSC,HLT,DXCM,GM,AFL,JCI,WMB,TRV,GEV,NEM,F,PCG,SRE,AZO,PSA,ROST,DHI,GWW,DLR,OKE,AEP,FTNT,HES,KDP,TEL,ADSK,STZ,O,URI,EL,PAYX,KMB,D,BK,A,AMP,COR,KHC,ALL,FIS,LEN,PRU,IDXX,CCI,LHX,KMI,HUM,IQV,PWR,NUE,DOW,AME,HSY,CNC,OTIS,CHTR,MSCI,CMI,ACGL,YUM,CTVA,GIS,KR,IR,RCL,LULU,FAST,ODFL,PEG,KVUE,EXC,MPWR,GEHC,SYY,EA,VRSK,NDAQ,MLM,VST,CSGP,XYL,HWM,FANG,VMC,FICO,IT,CTSH,DD,DAL,LVS,ED,BKR,LYB,HPQ,HAL,DG,BIIB,MTD,GRMN,EXR,RMD,ON,GLW,CDW,DFS,PPG,DVN,TSCO,ROK,HIG,WAB,ADM,XEL,EFX,FSLR,VICI,ANSS,EIX,AVB,EBAY,CBRE,FTV,DECK,TTWO,TROW,GPN,RJF,CHD,WTW,BRO,WEC,FITB,TRGP,DOV,VLTO,DLTR,KEYS,MTB,AWK,EQR,IFF,WDC,WST,PHM,ZBH,HPE,NTAP,BR,IRM,CAH,DTE,ETR,NVR,STT,STE,TER,APTV,FE,ROL,LYV,HUBB,WY,PTC,BF-B,AXON,BALL,TSN,PPL,INVH,STLD,TYL,BLDR,K,ARE,LDOS,WRB,ES,GPC,SBAC,CTRA,WAT,HBAN,CCL,STX,MOH,MKC,PFG,ALGN,HRL,VTR,CBOE,TDY,AEE,WBD,CNP,COO,CPAY,OMC,CINF,ULTA,CMS,AVY,NRG,EQT,DRI,J,DPZ,RF,SYF,BAX,ESS,HOLX,VRSN,NTRS,ENPH,EG,UAL,ATO,ILMN,TXT,LH,ZBRA,CE,EXPD,FDS,L,PKG,CLX,IEX,JBHT,CFG,LUV,MAA,IP,DGX,GEN,BBY,NWS,NWSA,MAS,FOX,FOXA,ALB,AES,SWKS,BG,UDR,EXPE,CAG,JBL,MRO,AMCR,AKAM,SNA,CF,WRK,RVTY,POOL,TRMB,WBA,PNR,KEY,NDSN,CPB,DOC,SWK,HST,INCY,LW,LNT,TECH,PODD,NI,MGM,KIM,AOS,VTRS,JKHY,EVRG,BEN,DVA,IPG,UHS,EMN,SJM,LKQ,TAP,JNPR,CRL,CPT,REG,KMX,APA,RL,BBWI,ALLE,WYNN,BXP,EPAM,SOLV,CHRW,HII,FFIV,MOS,CTLT,PAYC,TFX,TPR,QRVO,HSIC,AAL,GNRC,DAY,AIZ,PNW,HAS,PARA,MKTX,FRT,BIO,BWA,MTCH,FMC,GL,MHK,CZR,ETSY,IVZ,RHI,NCLH,CMA\n",
      "https://data.alpaca.markets/v1beta1/news 50\n",
      "https://data.alpaca.markets/v1beta1/news 50\n",
      "https://data.alpaca.markets/v1beta1/news 50\n",
      "https://data.alpaca.markets/v1beta1/news 50\n",
      "https://data.alpaca.markets/v1beta1/news 50\n",
      "https://data.alpaca.markets/v1beta1/news 50\n",
      "https://data.alpaca.markets/v1beta1/news 50\n",
      "https://data.alpaca.markets/v1beta1/news 50\n",
      "https://data.alpaca.markets/v1beta1/news 50\n",
      "https://data.alpaca.markets/v1beta1/news 50\n",
      "https://data.alpaca.markets/v1beta1/news 50\n",
      "https://data.alpaca.markets/v1beta1/news 50\n",
      "https://data.alpaca.markets/v1beta1/news 50\n",
      "https://data.alpaca.markets/v1beta1/news 50\n",
      "https://data.alpaca.markets/v1beta1/news 50\n",
      "https://data.alpaca.markets/v1beta1/news 50\n",
      "https://data.alpaca.markets/v1beta1/news 50\n",
      "https://data.alpaca.markets/v1beta1/news 50\n",
      "https://data.alpaca.markets/v1beta1/news 50\n",
      "https://data.alpaca.markets/v1beta1/news 50\n"
     ]
    },
    {
     "name": "stderr",
     "output_type": "stream",
     "text": [
      " 99%|█████████▉| 149/150 [13:25<00:06,  7.00s/it]"
     ]
    },
    {
     "name": "stdout",
     "output_type": "stream",
     "text": [
      "https://data.alpaca.markets/v1beta1/news 41\n",
      "error2\n",
      "Number of news articles: 1041\n",
      "Fetching news for date: 2024-05-24\n",
      "start and end news collection 2024-05-17 2024-05-23\n",
      "length of ticker list 503\n",
      "MSFT,AAPL,NVDA,GOOG,GOOGL,AMZN,META,BRK-B,LLY,AVGO,JPM,TSLA,V,WMT,XOM,UNH,MA,PG,COST,JNJ,ORCL,MRK,HD,BAC,CVX,NFLX,ABBV,AMD,KO,CRM,PEP,QCOM,TMO,ADBE,WFC,LIN,DHR,TMUS,ACN,CSCO,MCD,DIS,GE,AMAT,TXN,ABT,AXP,CAT,INTU,VZ,AMGN,PFE,MS,NEE,IBM,PM,NOW,CMCSA,BX,GS,ISRG,MU,UNP,RTX,NKE,COP,SPGI,ETN,UBER,SCHW,INTC,HON,BKNG,SYK,LRCX,T,LOW,C,ELV,PGR,UPS,VRTX,BLK,TJX,ADI,LMT,BSX,REGN,MDT,CB,BA,KLAC,DE,PANW,MMC,ADP,PLD,ANET,CI,ABNB,MDLZ,SNPS,SBUX,FI,AMT,CMG,SO,WM,BMY,HCA,GD,GILD,APH,CDNS,DUK,ICE,MO,ZTS,CME,SHW,CL,TT,TDG,MCO,FCX,MCK,EQIX,CEG,ITW,NXPI,EOG,CVS,CTAS,NOC,PH,MAR,TGT,ECL,BDX,SLB,CSX,EMR,PYPL,MRNA,USB,MPC,PNC,AON,FDX,MSI,PSX,WELL,CARR,RSG,APD,ROP,ORLY,PCAR,SPG,MNST,MMM,AJG,OXY,VLO,EW,MCHP,COF,CPRT,AIG,SMCI,MET,TFC,NSC,HLT,DXCM,GM,AFL,JCI,WMB,TRV,GEV,NEM,F,PCG,SRE,AZO,PSA,ROST,DHI,GWW,DLR,OKE,AEP,FTNT,HES,KDP,TEL,ADSK,STZ,O,URI,EL,PAYX,KMB,D,BK,A,AMP,COR,KHC,ALL,FIS,LEN,PRU,IDXX,CCI,LHX,KMI,HUM,IQV,PWR,NUE,DOW,AME,HSY,CNC,OTIS,CHTR,MSCI,CMI,ACGL,YUM,CTVA,GIS,KR,IR,RCL,LULU,FAST,ODFL,PEG,KVUE,EXC,MPWR,GEHC,SYY,EA,VRSK,NDAQ,MLM,VST,CSGP,XYL,HWM,FANG,VMC,FICO,IT,CTSH,DD,DAL,LVS,ED,BKR,LYB,HPQ,HAL,DG,BIIB,MTD,GRMN,EXR,RMD,ON,GLW,CDW,DFS,PPG,DVN,TSCO,ROK,HIG,WAB,ADM,XEL,EFX,FSLR,VICI,ANSS,EIX,AVB,EBAY,CBRE,FTV,DECK,TTWO,TROW,GPN,RJF,CHD,WTW,BRO,WEC,FITB,TRGP,DOV,VLTO,DLTR,KEYS,MTB,AWK,EQR,IFF,WDC,WST,PHM,ZBH,HPE,NTAP,BR,IRM,CAH,DTE,ETR,NVR,STT,STE,TER,APTV,FE,ROL,LYV,HUBB,WY,PTC,BF-B,AXON,BALL,TSN,PPL,INVH,STLD,TYL,BLDR,K,ARE,LDOS,WRB,ES,GPC,SBAC,CTRA,WAT,HBAN,CCL,STX,MOH,MKC,PFG,ALGN,HRL,VTR,CBOE,TDY,AEE,WBD,CNP,COO,CPAY,OMC,CINF,ULTA,CMS,AVY,NRG,EQT,DRI,J,DPZ,RF,SYF,BAX,ESS,HOLX,VRSN,NTRS,ENPH,EG,UAL,ATO,ILMN,TXT,LH,ZBRA,CE,EXPD,FDS,L,PKG,CLX,IEX,JBHT,CFG,LUV,MAA,IP,DGX,GEN,BBY,NWS,NWSA,MAS,FOX,FOXA,ALB,AES,SWKS,BG,UDR,EXPE,CAG,JBL,MRO,AMCR,AKAM,SNA,CF,WRK,RVTY,POOL,TRMB,WBA,PNR,KEY,NDSN,CPB,DOC,SWK,HST,INCY,LW,LNT,TECH,PODD,NI,MGM,KIM,AOS,VTRS,JKHY,EVRG,BEN,DVA,IPG,UHS,EMN,SJM,LKQ,TAP,JNPR,CRL,CPT,REG,KMX,APA,RL,BBWI,ALLE,WYNN,BXP,EPAM,SOLV,CHRW,HII,FFIV,MOS,CTLT,PAYC,TFX,TPR,QRVO,HSIC,AAL,GNRC,DAY,AIZ,PNW,HAS,PARA,MKTX,FRT,BIO,BWA,MTCH,FMC,GL,MHK,CZR,ETSY,IVZ,RHI,NCLH,CMA\n",
      "https://data.alpaca.markets/v1beta1/news 50\n",
      "https://data.alpaca.markets/v1beta1/news 50\n",
      "https://data.alpaca.markets/v1beta1/news 50\n",
      "https://data.alpaca.markets/v1beta1/news 50\n",
      "https://data.alpaca.markets/v1beta1/news 50\n",
      "https://data.alpaca.markets/v1beta1/news 50\n",
      "https://data.alpaca.markets/v1beta1/news 50\n",
      "https://data.alpaca.markets/v1beta1/news 50\n",
      "https://data.alpaca.markets/v1beta1/news 50\n",
      "https://data.alpaca.markets/v1beta1/news 50\n",
      "https://data.alpaca.markets/v1beta1/news 50\n",
      "https://data.alpaca.markets/v1beta1/news 50\n",
      "https://data.alpaca.markets/v1beta1/news 50\n",
      "https://data.alpaca.markets/v1beta1/news 50\n",
      "https://data.alpaca.markets/v1beta1/news 50\n",
      "https://data.alpaca.markets/v1beta1/news 50\n",
      "https://data.alpaca.markets/v1beta1/news 50\n",
      "https://data.alpaca.markets/v1beta1/news 50\n",
      "https://data.alpaca.markets/v1beta1/news 50\n",
      "https://data.alpaca.markets/v1beta1/news 50\n",
      "https://data.alpaca.markets/v1beta1/news 50\n",
      "https://data.alpaca.markets/v1beta1/news 50\n"
     ]
    },
    {
     "name": "stderr",
     "output_type": "stream",
     "text": [
      "100%|██████████| 150/150 [13:34<00:00,  5.43s/it]"
     ]
    },
    {
     "name": "stdout",
     "output_type": "stream",
     "text": [
      "https://data.alpaca.markets/v1beta1/news 14\n",
      "error2\n",
      "Number of news articles: 1114\n"
     ]
    },
    {
     "name": "stderr",
     "output_type": "stream",
     "text": [
      "\n"
     ]
    }
   ],
   "source": [
    "from tqdm import tqdm\n",
    "import json\n",
    "# Read start dates from CSV\n",
    "dates = []\n",
    "with open('random_days.csv', newline='') as csvfile:\n",
    "    reader = csv.reader(csvfile)\n",
    "    for row in reader:\n",
    "        dates.extend(row)\n",
    "\n",
    "# Fetch and paginate news for each start date\n",
    "real_news = None\n",
    "for date in tqdm(dates):\n",
    "    print(\"Fetching news for date:\", date)\n",
    "    news_data = fetch_and_paginate_news(date)\n",
    "    # Print a summary of the news data\n",
    "    print(\"Number of news articles:\", len(news_data))\n",
    "    # create new file under articles folder, json folder storing headlines relevant to that date\n",
    "    with open(f\"articles/{date}.json\", \"w\") as f:\n",
    "        # news_data is a list of dictionaries\n",
    "        json.dump(news_data, f)"
   ]
  },
  {
   "cell_type": "code",
   "execution_count": 4,
   "metadata": {},
   "outputs": [
    {
     "name": "stdout",
     "output_type": "stream",
     "text": [
      "[\n",
      "    {\n",
      "        \"author\": \"Benzinga\",\n",
      "        \"content\": \"<p><b>Hewlett Packard Enterprise Co</b>&#39;s (NYSE:<a class=\\\"ticker\\\" href=\\\"/stock/HPE#NYSE\\\">HPE</a>) <a href=\\\"http://www.reuters.com/article/us-nimble-storage-m-a-hewlett-packard-idUSKBN16E1JM\\\">announcement</a> that it will acquire <b>Nimble Storage Inc</b> (NYSE:<a class=\\\"ticker\\\" href=\\\"/stock/NMBL#NYSE\\\">NMBL</a>) was certainly well received by investors who bought the stock within the past year, but the same can&#39;t be said for longer-term shareholders.</p>\\r\\n<p>According to <a href=\\\"https://www.bloomberg.com/gadfly/articles/2017-03-07/tech-deals-at-sub-peak-prices-create-some-stock-losers\\\">Gadfly&#39;s Shira Ovide,</a> Nimble&#39;s stock traded as high as $58 in late February, which is more than 4.5 times the $12.50 per share Hewlett Packard agreed to pay. Nimble&#39;s shareholders who have held on to the stock for years hoping for a long-term turnaround are now left with a &quot;dud.&quot;</p>\\r\\n<p>In fact, this quite a common occurrence in the tech M&amp;A space. Ovide stated that based on Bloomberg data, a whopping 95 percent of acquisitions involving U.S. tech companies over the last two years have been finalized at a price that&#39;s lower than the stock&#39;s record highs.</p>\\r\\n<p>Some of the more drastic examples include <a href=\\\"https://www.benzinga.com/analyst-ratings/analyst-color/15/10/5905116/emc-dell-biggest-tech-merger-of-all-time\\\"><strong>Dell&#39;s</strong> acquisition of<strong> EMC</strong></a> at $24.05 which is $78.59 per share below EMC&#39;s record high of $102.64 and <b>Microsoft Corporation</b> (NASDAQ:<a class=\\\"ticker\\\" href=\\\"/stock/MSFT#NASDAQ\\\">MSFT</a>)&#39;s <a rhef=\\\"https://www.benzinga.com/analyst-ratings/analyst-color/16/06/8109527/microsofts-linkedin-acquisition-is-this-another-nokia-or\\\">acquisition of <strong>LinkedIn</strong></a><strong> </strong>at $196 per share versus its all time-high of $276.18.</p>\\r\\n<h3>\\r\\n\\tBut Why?</h3>\\r\\n<p>Ovide offered two reasons to explain this trend.</p>\\r\\n<p>First, some technology companies never recovered from their dot-com highs, including EMC&#39;s stock which peaked 17 years ago.</p>\\r\\n<p>Another explanation could be that the tech companies up for sale are merely &quot;unloved software companies whose best days seemed to be behind them.&quot; In Nimble Storage&#39;s case, perhaps management felt it &quot;wasn&#39;t worth sticking around&quot; to see if the company can bounce back from rough patches.</p>\\r\\n<p>Bottom line, Ovide suggested the trend of buying tech companies at a price below its peak isn&#39;t necessarily a disaster, but does serve as a sign of caution for investors that &quot;what goes up and then down doesn&#39;t necessarily go back up.&quot;</p>\\r\\n<p><em>See Also:</em></p>\\r\\n<p><em><a href=\\\"https://www.benzinga.com/news/16/12/8791328/what-happens-to-my-stock-when-the-company-gets-acquired\\\">What Happens To My Stock When The Company Gets Acquired?</a></em></p>\\r\\n<p><em><a href=\\\"Look For Strong Fundamentals When Investing In Acquisition Targets\\\">Look For Strong Fundamentals When Investing In Acquisition Targets</a></em></p>\",\n",
      "        \"created_at\": \"2017-03-10T12:23:23Z\",\n",
      "        \"headline\": \"Most Acquisitions Are Finalized At A Price That Leaves Some Shareholders Sitting On A Loss\",\n",
      "        \"id\": 9147547,\n",
      "        \"images\": [],\n",
      "        \"source\": \"\",\n",
      "        \"summary\": \"\",\n",
      "        \"symbols\": [\n",
      "            \"HPE\",\n",
      "            \"MSFT\",\n",
      "            \"NMBL\"\n",
      "        ],\n",
      "        \"updated_at\": \"2017-03-10T12:23:23Z\",\n",
      "        \"url\": \"https://www.benzinga.com/node/9147547\"\n",
      "    },\n",
      "    {\n",
      "        \"author\": \"Benzinga\",\n",
      "        \"content\": \"\",\n",
      "        \"created_at\": \"2017-03-10T13:34:42Z\",\n",
      "        \"headline\": \"Richard LeFrak, Member Of Trump's Infrastructure Council, On CNBC Mentioned Tax Reform As Part Of Plan To Fund $1T Program; Height Securities Highlights Tax Holiday On Repatriated Corporate Cash As Likely Method, Positive For Apple\",\n",
      "        \"id\": 9157458,\n",
      "        \"images\": [],\n",
      "        \"source\": \"\",\n",
      "        \"summary\": \"\",\n",
      "        \"symbols\": [\n",
      "            \"AAPL\",\n",
      "            \"IGF\"\n",
      "        ],\n",
      "        \"updated_at\": \"2017-03-10T13:34:42Z\",\n",
      "        \"url\": \"https://www.benzinga.com/node/9157458\"\n",
      "    },\n",
      "    {\n",
      "        \"author\": \"Benzinga\",\n",
      "        \"content\": \"<p>Discussions were held with a panel of college students with the aim to better understand how millennials think about social media, communications, video, virtual reality, augmented reality and privacy, Loup Ventures&rsquo; Gene Munster said in a report.</p>\\r\\n<p>Their findings included important takeaways for <strong>Snap Inc </strong>(NYSE:<a class=\\\"ticker\\\" href=\\\"/stock/SNAP#NYSE\\\">SNAP</a>), <strong>Facebook Inc </strong>(NASDAQ:<a class=\\\"ticker\\\" href=\\\"/stock/FB#NASDAQ\\\">FB</a>) and <strong>Apple Inc. </strong>(NASDAQ:<a class=\\\"ticker\\\" href=\\\"/stock/AAPL#NASDAQ\\\">AAPL</a>).</p>\\r\\n<h3><strong>Learnings From Views Of Millennials</strong></h3>\\r\\n<p>Munster mentioned the following takeaways:</p>\\r\\n<li><strong>Text Is Dying</strong>: Millennials view texting as a formal mode of communication. Text is gradually being replaced by video and photos. The preferred communication platforms for texting are Snap, Facebook and Facebook's Instagram. <strong>Microsoft Corporation</strong> (NASDAQ:<a class=\\\"ticker\\\" href=\\\"/stock/MSFT#NASDAQ\\\">MSFT</a>)'s GroupMe came as the clear leader in the group messaging category.</li>\\r\\n<li><strong>Photos Rule</strong>: Millennials love Snap because they communicate through photos, there are filters and geotags to enhance those photos, and Snap is a tighter social network.</li>\\r\\n<li><strong>Snap Spectacles</strong>: These will become mainstream as pricing comes down.</li>\\r\\n<li><strong>Phones</strong>: All students in the panel wanted iPhone to be their next phone. New phones are purchased when their contract is up, which tends to be every two to 2.5 years. &ldquo;The <a href=\\\"https://www.benzinga.com/analyst-ratings/analyst-color/17/02/9033267/munster-apple-is-taking-baby-steps-into-augmented-realit\\\">AR features of the iPhone</a> X this fall generally did not appeal to our panelists,&rdquo; Munster wrote.</li>\\r\\n<li><strong>Preferred Social Networking Platform</strong>: Snap seemed to be the preferred social platform, followed by Instagram. Snap is popular for its real-time story of your day. &ldquo;We believe the camera is at the center of how Snap must advance the platform with new devices and new features to stay ahead of<a href=\\\"http://www.recode.net/2017/2/6/14489088/facebooks-ads-video-advertising-news-feed-mark-zuckerberg\\\"> Facebook&rsquo;s improved filters</a>. If Snap slows on its vision as a camera company, Facebook will likely catch them,&rdquo; the analyst commented.</li>\\r\\n<li><strong>VR &amp; AR</strong>: The panelists felt that more compelling experiences were needed to drive repeat engagement with VR. None of the panelists considered AR in the next iPhone as a compelling enough feature for an upgrade.</li>\\r\\n<p>&ldquo;VR and AR have a long way to go, but we will get there. The students see the conceptual value of VR and are struggling with what&rsquo;s exciting about AR. Despite these concerns, the group has an insatiable appetite for technology. They will continue to experiment with AR even though the experiences and use cases will be limited for the next few years,&rdquo; Munster stated.</p>\\r\\n<em>Related Links:</em>\\r\\n<li><em><a href=\\\"https://www.benzinga.com/analyst-ratings/analyst-color/17/03/9118962/the-road-ahead-for-snap-what-does-it-mean-to-be-a-camera\\\">The Road Ahead For Snap: What Does It Mean To Be A Camera Company?</a></li>\\r\\n<li><em><a href=\\\"https://www.benzinga.com/news/17/03/9153375/facebook-takes-a-page-out-of-snaps-book-again\\\">Facebook Takes A Page Out Of Snap's Book... Again</a></em></li>\",\n",
      "        \"created_at\": \"2017-03-10T14:18:09Z\",\n",
      "        \"headline\": \"Millennials Say They Prefer Snap, Instagram; Not Yet Impressed By VR, AR\",\n",
      "        \"id\": 9157193,\n",
      "        \"images\": [],\n",
      "        \"source\": \"\",\n",
      "        \"summary\": \"\",\n",
      "        \"symbols\": [\n",
      "            \"AAPL\",\n",
      "            \"FB\",\n",
      "            \"MSFT\",\n",
      "            \"SNAP\"\n",
      "        ],\n",
      "        \"updated_at\": \"2017-03-10T14:18:09Z\",\n",
      "        \"url\": \"https://www.benzinga.com/node/9157193\"\n",
      "    },\n",
      "    {\n",
      "        \"author\": \"Benzinga\",\n",
      "        \"content\": \"<p>In 2014 and 2015, a number of companies launched payment wallets; however, the spotlight shifted away from the wallet wars for most of 2016, Bernstein&rsquo;s Lisa D. Ellis said in a report. She added that the payment wallet companies are faced with a &ldquo;chicken vs. egg dilemma,&rdquo; which would likely take a long time to overcome.</p>\\r\\n<h3><strong>The Wallet Wars Begin</strong></h3>\\r\\n<p>The companies that entered the battlefield in 2014 and 2015 were:</p>\\r\\n<ul><li><strong>Alphabet Inc</strong> (NASDAQ:<a class=\\\"ticker\\\" href=\\\"/stock/GOOG#NASDAQ\\\">GOOG</a>) (NASDAQ:<a class=\\\"ticker\\\" href=\\\"/stock/GOOGL#NASDAQ\\\">GOOGL</a>) with Android Pay</li>\\r\\n<li><strong>Amazon.com, Inc.</strong> (NASDAQ:<a class=\\\"ticker\\\" href=\\\"/stock/AMZN#NASDAQ\\\">AMZN</a>) with Amazon Payments</li>\\r\\n<li><strong>American Express Company</strong> (NYSE:<a class=\\\"ticker\\\" href=\\\"/stock/AXP#NYSE\\\">AXP</a>) with American Express Checkout</li>\\r\\n<li><strong>Apple Inc.</strong> (NASDAQ:<a class=\\\"ticker\\\" href=\\\"/stock/AAPL#NASDAQ\\\">AAPL</a>) with Apple Pay</li>\\r\\n<li><strong>Facebook Inc </strong>(NASDAQ:<a class=\\\"ticker\\\" href=\\\"/stock/FB#NASDAQ\\\">FB</a>) with Facebook Payments</li>\\r\\n<li><strong>JPMorgan Chase &amp; Co. </strong>(NYSE:<a class=\\\"ticker\\\" href=\\\"/stock/JPM#NYSE\\\">JPM</a>) with Chase Pay</li>\\r\\n<li><strong>Mastercard Inc </strong>(NYSE:<a class=\\\"ticker\\\" href=\\\"/stock/MA#NYSE\\\">MA</a>) with Masterpass</li>\\r\\n<li><strong>Paypal Holdings Inc</strong> (NASDAQ:<a class=\\\"ticker\\\" href=\\\"/stock/PYPL#NASDAQ\\\">PYPL</a>)</li>\\r\\n<li><strong>Samsung</strong> (OTC:<a class=\\\"ticker\\\" href=\\\"/stock/SSNLF#OTC\\\">SSNLF</a>) with Samsung Pay</li>\\r\\n<li><strong>Visa Inc</strong> (NYSE:<a class=\\\"ticker\\\" href=\\\"/stock/V#NYSE\\\">V</a>) with Visa Checkout</li></ul>\\r\\n<h3><strong>The Dilemma</storng></h3>\\r\\n<p>These companies face the choice between trying to gain users without being at scale with merchants and gaining merchants without being at scale with users, Ellis explained.</p>\\r\\n<h3><strong>How The Wallet Wars Are Progressing</strong></h3>\\r\\n<ul><li><strong>PayPal is the clear leader</strong>: <a href=\\\"https://www.benzinga.com/analyst-ratings/analyst-color/17/02/9051580/paypal-looks-to-become-part-of-everyday-life-with-its-ne\\\">PayPal has more</a> than 180 million active consumer users, which is higher than the user base of other major wallets by double to ten times. Moreover, PayPal&#39;s merchant acceptance and geographic reach are also substantially better. It has 15 million merchants (versus ~300,000&ndash;350,000 for Visa Checkout and Masterpass) and has a presence in 200 countries (around six times higher than Masterpass, the closest competitor in this regard).</li>\\r\\n<li><strong>Other leading wallets are making progress</strong>: This is particularly true for Apple Pay. In 2016, Apple Pay and Visa Checkout grew new accounts by 200 percent and 90 percent, respectively, versus only 10 percent for PayPal.</li>\\r\\n<li><strong>Total dollar value of transactions of major wallets</strong>: The analyst estimated the <a href=\\\"https://www.fool.com/investing/general/2016/03/28/key-metrics-how-paypal-boosts-transaction-volume.aspx\\\">wallet TPV</a> of the major players at ~$420 billion, with PayPal at $290 billion (representing ~70 percent of the total), <a href=\\\"https://www.benzinga.com/analyst-ratings/analyst-color/16/06/8107841/gene-munster-says-apple-pay-a-legitimate-threat-to-paypa\\\">Apple Pay at ~$60 billion</a>, and Visa Checkout, Masterpass and Amazon Payments all in the $20 billion&ndash;$25 billion range.</li>\\r\\n<li><strong>Wallet adoption</strong>: &ldquo;Overall, wallet adoption among U.S. adults is at scale &ndash; it appears to be in the 33&ndash;52 percent range, primarily driven by PayPal&rdquo; Ellis wrote.</li>\\r\\n<li><strong>Wallet usage</strong>: This continues to be low, estimated at ~2 percent of total U.S. retail volumes. &ldquo;Wallet usage within online/mobile channels is much higher &ndash; we estimate it at ~20 percent of online/mobile volume flowing through wallets,&rdquo; Ellis added.</li></ul>\\r\\n<h3>Ratings</h3>\\r\\n<ul><li>Apple: Rated Outperform, with price target at $140</li><li>MasterCard: Rated Outperform, with price target at $123</li><li>PayPal: Rated Market Perform, with price target at $44</li>\\r\\n<li>Visa: Rated Outperform, with price target at $104 and named Top Pick</li></ul>\\r\\n<p><em>Related Link:</em></p>\\r\\n<li><em><a href=\\\"https://www.benzinga.com/analyst-ratings/analyst-color/17/01/8932107/paypal-remains-a-major-beneficiary-of-the-unstoppable-gr\\\">PayPal Remains A Major Beneficiary Of The Unstoppable Growth In E-Commerce</a></li>\\r\\n<li><em><a href=\\\"https://www.benzinga.com/analyst-ratings/analyst-color/17/03/9134149/virtual-assistants-voice-technology-winners-and-losers\\\">Virtual Assistants, Voice Technology: Winners And Losers</a></em></li> \",\n",
      "        \"created_at\": \"2017-03-10T15:08:25Z\",\n",
      "        \"headline\": \"The Payments World: PayPal Vs. Apple Pay Vs. Visa Checkout Vs. Masterpass Vs. Amazon Payments Vs. Facebook Payments\",\n",
      "        \"id\": 9157419,\n",
      "        \"images\": [],\n",
      "        \"source\": \"\",\n",
      "        \"summary\": \"\",\n",
      "        \"symbols\": [\n",
      "            \"AAPL\",\n",
      "            \"AMZN\",\n",
      "            \"AXP\",\n",
      "            \"FB\",\n",
      "            \"GOOG\",\n",
      "            \"GOOGL\",\n",
      "            \"JPM\",\n",
      "            \"MA\",\n",
      "            \"PYPL\",\n",
      "            \"SSNLF\",\n",
      "            \"V\"\n",
      "        ],\n",
      "        \"updated_at\": \"2017-03-10T15:08:25Z\",\n",
      "        \"url\": \"https://www.benzinga.com/node/9157419\"\n",
      "    },\n",
      "    {\n",
      "        \"author\": \"Benzinga\",\n",
      "        \"content\": \"Gazing into the future of operating system, or OS, Loup Ventures said a combination of <strong> Apple Inc. </strong> (NASDAQ:<a class=\\\"ticker\\\" href=\\\"/stock/AAPL#NASDAQ\\\">AAPL</a>) and <strong> Microsoft Corporation </strong> (NASDAQ:<a class=\\\"ticker\\\" href=\\\"/stock/MSFT#NASDAQ\\\">MSFT</a>) is likely to win the Augmented Reality, or AR OS race. The firm noted that <a href=\\\"https://www.benzinga.com/analyst-ratings/analyst-color/17/02/9033181/goldman-sachs-sees-increassed-likelihood-the-iphone-8-wil\\\"> Apple </a> and <strong> Alphabet Inc </strong>  (NASDAQ:<a class=\\\"ticker\\\" href=\\\"/stock/GOOG#NASDAQ\\\">GOOG</a>) (NASDAQ:<a class=\\\"ticker\\\" href=\\\"/stock/GOOGL#NASDAQ\\\">GOOGL</a>), the prior OS winners won the mobile layer.</p>\\r\\n<h3><strong>Opportunities For New Players</strong></h3>\\r\\n<p>Gene Munster, managing partner at the firm, attributed this to the well-defined shifts and the existing players carefully positioning themselves to be sure they have a seat at the table. Munster feels the future won't be owned by the incumbents, as there is a move away from purely digital technologies into ones that combine the sciences, namely biology, chemistry, psychology. This, the analyst, sees would provide opportunities for the emergence of new players.</p>\\r\\n<h3> New Computer Paradigms Keep Emerging </h3>\\r\\n<p>Loup Ventures noted that once in every 25 years a new computing paradigm keeps emerging, creating an opportunity to own a new OS layer &mdash; like the PC in the late '80s powered by Windows, Mac and Linux, the internet in the late '90s powered by <a href=\\\"https://www.bloomberg.com/news/articles/2017-01-04/google-moves-into-augmented-reality-shopping-with-bmw-gap\\\"> Google </a> and <strong>Amazon.com, Inc.</strong>  (NASDAQ:<a class=\\\"ticker\\\" href=\\\"/stock/AMZN#NASDAQ\\\">AMZN</a>), mobile in the mid-2000s, owned by iOS and Android.</p>\\r\\n<h3><strong>Sharing Knowledge On AR OS Layer</strong></h3>\\r\\n<p>Although Munster believes most AR functionality will happen through the existing mobile OSes, he thinks in order to drive a true paradigm shift, AR wearables will need their own OS. The analyst is of the view that there are likely to be two or three winners on that count, which would render reach and scale difficult to achieve. There is likely to be one closed OS solution and one that is open, Munster added.</p>\\r\\n<p>The leeway open systems allow for third-party developers to innovate on hardware and software features would make hardware commoditized. Munster sees definite challenges around miniaturization and battery. The analyst expects AR to be a culmination of several core disciplines such as UX design, maps, data, social, developers, content and payments.</p>\\r\\n<p>On these core disciplines, Munster noted that Google scored the highest followed by Apple, Microsoft, <strong>Facebook Inc</strong>  (NASDAQ:<a class=\\\"ticker\\\" href=\\\"/stock/FB#NASDAQ\\\">FB</a>), Amazon and <strong>Snap Inc</strong>  (NYSE:<a class=\\\"ticker\\\" href=\\\"/stock/SNAP#NYSE\\\">SNAP</a>). Also taking the R&D spending of these companies as proxies for their determination to make it big, Munster noted that Apple is spending the most followed by Google and Facebook.</p>\\r\\n<h3> AR OS Players And Their Status </h3>\\r\\n<ul><li><strong>Google:</strong> Discontinued Google Glass; Tango already has takers in the form of <strong>Lenovo Group Limited (ADR)</strong> (OTC:<a class=\\\"ticker\\\" href=\\\"/stock/LNVGY#OTC\\\">LNVGY</a>)'s Phab 2 Pro and <strong>ACER INC GDR(REP 5 ORD TWD10)REG'S</strong> (OTC:<a class=\\\"ticker\\\" href=\\\"/stock/ACEYY#OTC\\\">ACEYY</a>)'s Tango-ready phone. Google's AR OS is likely to be the winner for the open system, developing from a combination of Tango and Android, augmented by the company's machine learning efforts.</li>\\r\\n<li><strong>Apple:</strong> If the next iPhone integrated a dedicated 3D mapping chip, it could be the first AR hardware to gain mass adoption, enabling developers to create unique AR experiences on the iPhone. Additionally, Loup Ventures expects <a href=\\\"https://www.benzinga.com/analyst-ratings/analyst-color/17/02/9033267/munster-apple-is-taking-baby-steps-into-augmented-realit\\\"> Apple </a> to show off the capabilities of the chip with help from Prime Sense and Metaio, its most recent AR software acquisitions.</li>\\r\\n<li><strong>Microsoft:</strong> Munster feels the company may be the furthest along in AR today, with the Hololens and its Windows Holographic OS. Given that the company had missed the bus in mobile OS despite being an early entrant, the company might be determined not to miss on AR. However, the company would be constrained by its inability to match up to Google in most of the core competences to win in AR, although it still holds an edge in productivity.</li>\\r\\n<li><strong>Facebook:</strong> Loup Ventures believes Facebook is experimenting with both AR and Virtual Reality, or VR, with the focus more on VR than AR. This is understandable, given Mark Zuckerberg's view that VR is five to 10 years ahead of AR. The company's relative weakness in maps and informational data and strength in social and content make it a potential winner in the VR OS layer.</li>\\r\\n<li><strong>Amazon:</strong> Amazon's foray into AR is not through wearables, but Alexa, an open OS. Munster sees Alexa-powered devices to eventually include cameras that will enable computer vision. The analyst feels the company might want to stamp its authority as a force in the OS layer for commerce.</li>\\r\\n<li><strong>Snap:</strong> Munster believes for Snap, communication is a key use for AR, with its camera and Spectacles. However, the analyst doesn't think Snap can win the AR race, as it can't offer incremental features beyond social to developers.</li></ul>\\r\\n<em>Related Links:</em>\\r\\n<li><em><a href=\\\"https://www.benzinga.com/news/17/02/9042578/is-ar-all-its-cracked-up-to-be\\\"> Is AR All It's Cracked Up To Be?</a></em></li>\\r\\n<li><em><a href=\\\"https://www.benzinga.com/general/education/16/12/8793146/the-biggest-players-in-augmented-reality\\\"> The Biggest Players In Augmented Reality </a> </em></li> \",\n",
      "        \"created_at\": \"2017-03-10T16:26:04Z\",\n",
      "        \"headline\": \"The OS Of The Future: Who's Taking The Lead?\",\n",
      "        \"id\": 9152067,\n",
      "        \"images\": [],\n",
      "        \"source\": \"\",\n",
      "        \"summary\": \"\",\n",
      "        \"symbols\": [\n",
      "            \"AAPL\",\n",
      "            \"ACEYY\",\n",
      "            \"AMZN\",\n",
      "            \"FB\",\n",
      "            \"GOOG\",\n",
      "            \"GOOGL\",\n",
      "            \"LNVGY\",\n",
      "            \"MSFT\",\n",
      "            \"SNAP\"\n",
      "        ],\n",
      "        \"updated_at\": \"2017-03-10T16:26:05Z\",\n",
      "        \"url\": \"https://www.benzinga.com/node/9152067\"\n",
      "    },\n",
      "    {\n",
      "        \"author\": \"Benzinga\",\n",
      "        \"content\": \"<p><strong>Apple Inc. </strong>(NASDAQ:<a class=\\\"ticker\\\" href=\\\"/stock/AAPL#NASDAQ\\\">AAPL</a>) could face production delays on <a href=\\\"https://www.benzinga.com/news/17/03/9152539/rumors-abound-the-iphone-8-may-be-delayed-winners-and-losers\\\">iPhone 8</a> as 3D image sensors from <strong>STMicroelectronics NV (ADR)</strong> (NYSE:<a class=\\\"ticker\\\" href=\\\"/stock/STM#NYSE\\\">STM</a>) may not be ready for a September iPhone launch due to a fire at its fab in Crolles, France.</p>\\r\\n<p>Last week, DigiTimes reported that the iPhone 8 would not enter production until September because Apple&rsquo;s internal fingerprint sensor was proving difficult to manufacture.</p>\\r\\n<h3><strong>Several Weeks To Resume Production</strong></h3>\\r\\n<p>Analysts John Donovan and Steve Mullane of BlueFin Research say their checks showed that this fab is the sole manufacturing facility for STM&rsquo;s 3D sensors. This incident has currently shutdown the facility and the checks suggest it could take several weeks to requalify the fab and resume production.</p>\\r\\n<p>&ldquo;These 3D sensors have a long production cycle time and relatively low yield rates, which will make it difficult for STM to get back on their production schedule target with each day that the fab is incapacitated,&rdquo; the analysts wrote in a note.</p>\\r\\n<p>That said, the analysts noted they have yet to see any corresponding push out of iPhone 8/X builds with the rest of the <a href=\\\"https://www.benzinga.com/analyst-ratings/analyst-color/17/02/9093201/intels-market-share-in-apples-iphone-8-could-hit-65-this\\\">supply chain</a>.</p>\\r\\n<p>&ldquo;We believe it&rsquo;s likely that AAPL and STM are assessing the impact to the schedule and working on a recovery plan,&rdquo; the analysts added.</p>\\r\\n<h3><strong>Different Angle</strong></h3>\\r\\n<p>But, Street analysts are providing a different angle to the story.</p>\\r\\n<p>An analyst from Brian Garnier said delay had nothing to do with STM&rsquo;s technical problems, but rather a ramp issue with Apple due to the complexity of the new design. A Northern Trust analyst provided a similar angle, citing the &lsquo;radical redesign&rsquo; of the iPhone 8.</p>\\r\\n<p>Recently, a research note from Goldman Sachs&rsquo; <a href=\\\"https://www.benzinga.com/analyst-ratings/analyst-color/17/02/9033181/goldman-sachs-sees-increased-likelihood-the-iphone-8-wil\\\">Simona Jankowski </a>expressed increased confidence Apple would include 3D sensing, among other major new features, in the iPhone 8.</p>\\r\\n<p>Jankowski mentioned that industry datapoints indicate &ldquo;the inclusion of 3D sensing functionality is increasingly likely, which could enable a robust augmented reality (AR) feature set that we believe will be a key differentiator for the 10-year anniversary iPhone.&rdquo;</p>\\r\\n<p>At last check, shares of Apple were up 0.22 percent to $138.99.</p>\\r\\n<em>Related:</p>\\r\\n<li><em><a href=\\\"https://www.benzinga.com/news/earnings/17/03/9156662/10-stocks-you-should-be-watching-today\\\">10 Stocks You Should Be Watching Today</a></li>\\r\\n<li><em><a href=\\\"https://www.benzinga.com/media/cnbc/17/03/9154184/happy-birthday-bull-market-here-are-the-biggest-winners-and-losers-over-the\\\">Happy Birthday, Bull Market - Here Are The Biggest Winners And Losers Over The Past 8 Years</a></p>\\r\\n________\\r\\n<em>Image Credit: STMicroelectronic building, By Alexey M. - Own work, CC BY-SA 4.0, <a href=\\\"https://commons.wikimedia.org/w/index.php?curid=43145933\\\">via Wikimedia Commons</a></em>\\r\\n \",\n",
      "        \"created_at\": \"2017-03-10T20:08:43Z\",\n",
      "        \"headline\": \"Fire At STMicro 3D Sensor Fab Could Impact iPhone 8 Builds\",\n",
      "        \"id\": 9159252,\n",
      "        \"images\": [],\n",
      "        \"source\": \"\",\n",
      "        \"summary\": \"\",\n",
      "        \"symbols\": [\n",
      "            \"AAPL\",\n",
      "            \"STM\"\n",
      "        ],\n",
      "        \"updated_at\": \"2017-03-10T20:08:43Z\",\n",
      "        \"url\": \"https://www.benzinga.com/node/9159252\"\n",
      "    },\n",
      "    {\n",
      "        \"author\": \"Benzinga\",\n",
      "        \"content\": \"<p>Ride sharing services are among the disruptive technologies the automotive sector has come to adopt. This service is pitched as a replacement for car ownership and at the same time offer personalized transportation service. The potential, the opportunity flaunts, is there for everybody to see and this explains the frenzied investment activity and competitive pressure we see in the space.</p>\\r\\n<h3><strong>What Ride Sharing Means?</strong></h3>\\r\\n<p><a href=\\\"https://www.benzinga.com/news/16/11/8720442/the-winners-and-losers-of-the-gig-economy-who-benefits-from-uber-and-lyft\\\"> Ride sharing companies </a> provide taxi-like services by connecting passengers to drivers via a smartphone app. Here, the drivers use their own vehicles to share rides with others.</p>\\r\\n<h3><strong>Manufacturers, Tech Companies Vie For Piece of Market</strong></h3>\\r\\n<p>Realizing the potential and the radical way in which the trend is going to affect the way cars are built, marketed and purchased, automakers have struck partnership with ride sharing companies. <strong>General Motors Company </strong>(NYSE:<a class=\\\"ticker\\\" href=\\\"/stock/GM#NYSE\\\">GM</a>) and <strong>Ford Motor Company </strong>(NYSE:<a class=\\\"ticker\\\" href=\\\"/stock/F#NYSE\\\">F</a>) have already separately made investments in <a href=\\\"https://www.benzinga.com/news/17/01/8973412/why-public-relations-matter-uber-vs-lyft\\\"> Lyft. </a> GM's $500 million investment in Lyft provides for it leasing vehicles to Lyft drivers in Chicago. <strong>Toyota Motor Corp (ADR)</strong> (NYSE:<a class=\\\"ticker\\\" href=\\\"/stock/TM#NYSE\\\">TM</a>) has struck a deal with Uber and has made a substantial investment in Lyft.</p>\\r\\n<a href=\\\"http://files.pitchbook.com/images/Ridesharing_investment_datagraphic_contrast_with_PB_logo_Ggd.png\\\"><img src=\\\"/files/images/2017/March/10/ridesharing.png\\\" width=\\\"1584\\\" height=\\\"1224\\\" alt=\\\"ridesharing.png\\\" /></a>\\r\\nSource: Pitchbook\\r\\n<p>European automakers aren't far behind. <strong>Volkswagen AG (ADR)</strong> (OTC:<a class=\\\"ticker\\\" href=\\\"/stock/VLKAY#OTC\\\">VLKAY</a>) invested $300 million in Gett, while <strong>BAYER MOTOREN WERK ADR EACH REPR 0.33333 SHS</strong> (OTC:<a class=\\\"ticker\\\" href=\\\"/stock/BMWYY#OTC\\\">BMWYY</a>) has invested in San Francisco-based Scoop, which provides an app connecting people in the city living in the same neighborhoods and work near one another to arrange carpools.</p>\\r\\n<p>Meanwhile, tech companies have also made a beeline to invest in ride sharing companies. <strong> Apple Inc. </strong>(NASDAQ:<a class=\\\"ticker\\\" href=\\\"/stock/AAPL#NASDAQ\\\">AAPL</a>) announced a $1 billion investment in Chinese ride hailing company called Didi Chuxing, which vanquished Uber in China.</p>\\r\\n<h3><strong>Uber's Chinese Dream Going Kaput</strong></h3>\\r\\n<p>In August last year, Uber gave up on its Chinese ambitions, selling its Chinese business to Didi. In exchange, Uber acquired a 17.5 percent stake in the combined company and got $1 billion in cash. The deal also provided for Didi taking a small stake in Uber's global business.</p>\\r\\n<p>Uber's exit from China stemmed from the fact that its Chinese business was bleeding, with Uber's CEO Travis Kalanick estimating the loss at $1 billion per year. The freeing up of resource also meant it could focus on profitable opportunities elsewhere. Added to that, Uber was readying itself for an IPO and the exit from China would make the company more palatable to potential investors.</p>\\r\\n<p>As recently as this week, Uber was accorded regulatory permission to test its self-driving cars in its home state of California. Earlier, the company had moved its self-driving cars to Arizona, which has fewer regulations, following a standoff with the Californian regulators. However, the company is yet a long way from commercializing the service, having only two vehicles as of now under testing. </p>\\r\\n<h3><strong>Didi: The Chinese Juggernaut Rolls On</strong></h3>\\r\\n<p>Didi recently opened an R&D center called Didi Labs in Mountain View, California. The company has deep pockets and clout, as is evidenced by a plethora of investments and purchases it had made across the globe. It had made a strategic investment in Ola Cabs in India, Grab in Southeast Asia and Lyft in the United States. The Chinese company has also made a $100 million investment in Brazil-based on-demand taxi service called 99.</p>\\r\\n<p>Didi Labs is supposed to work on how AI can be used for applications in its products and cybersecurity for autonomous vehicles. </p>\\r\\n<h3><strong>Run-Ins With Regulators</strong></h3>\\r\\n<p>Late last year, Uber and Lyft were locked in a battle with the Seattle City Council, which had permitted the drivers of the ride sharing  services to join a union. Meanwhile, Uber and Lyft were also opposed to the city's move to get them share information to the public about things such as where passengers are picked up and dropped, just as how taxi operators are required to do. The city's contention is that these services are offering services similar to taxi cabs, while ride sharing services contend that it would mean sharing sensitive trade secrets. They tout themselves a technology companies.</p>\\r\\n<p>Earlier, both Uber and Lyft withdrew from Austin, Texas, after regulators required drivers to go through fingerprint background checks. The companies reasoned that the move would prove unjust to those drivers who had arrests long time back. </p>\\r\\n<h3><strong> Uber Accused Of Hoodwinking Regulators</strong></h3>\\r\\n<p>A <a href=\\\"https://www.nytimes.com/2017/03/03/technology/uber-greyball-program-evade-authorities.html?_r=0\\\"> New York Times report </a> recently highlighted practices engaged in by Uber to deceive regulators, who were opposed to its UberX, its low cost ride hailing service. The company reportedly uses a tool called Greyball, which helps collect data from Uber app and uses other techniques to zero in on enforcement officials involved in largescale sting operations.</p>\\r\\n<p>If a person was identified to be linked to enforcement, he was tagged with a small piece of code reading \\\"Greyball\\\" following by a string of numbers. When such a person calls a car, the company populates a fake version of the app with ghost cars or show that no car is available.</p>\\r\\n<h3> Uber Vs. Lyft </h3>\\r\\n<p>Quoting data from TXN Solutions, which tracks debit and credit card data, <a href=\\\"http://www.usatoday.com/story/tech/news/2017/03/08/lyft-uber-travis-kalanick-john-zimmer/98799804/\\\"> USA Today </a> said, in late January, Uber's share of the ride hailing market was 83.5 percent compared to 16.5 percent for Lyft. Lyft, which is eventually seeking to edge out Uber from the U.S. market, is slowly gaining traction. The steps in the direction have ironically come from Uber itself.</p>\\r\\n<p><a href=\\\"https://blogs-images.forbes.com/andyswan/files/2016/08/Uber-1-1200x872.jpg\\\"><img src=\\\"/files/images/2017/March/10/uber-1-1200x872.jpg\\\" width=\\\"1200\\\" height=\\\"872\\\" alt=\\\"uber-1-1200x872.jpg\\\"/></a>\\r\\nSource: Likefolio\\r\\n<p>Uber has courted a lot of controversies recently. The company faced rough weather, with the #DeleteUber campaign trending in response to the company's initial reaction to the infamous travel ban. Then, there were controversies surrounding misbehavior by its CEO, claims of sexist supervisors, the reports of the company cheating on regulators and a lawsuit alleging stealing of intellectual property.</p>\\r\\n<p>The report stated Lyft's market share rose to 20.9 percent immediately after the #DeleteUber campaign and picked up further to 21.3 percent in February in the aftermath of allegations of blatant sexism by its ex-engineer Susan Fowler. </p>\\r\\n<p>Competitive heat is soaring, as the two rivals sweat it out. And they also have other smaller players such as Sidecar to contend with. However, this could all turn positive for other stakeholders in the fray &mdash; drivers, who can look forward to bigger bonuses, and customers, who can avail huge discounts. </p>\\r\\n<p>Can the Big 2 target share at the expense of bleeding margins? These companies can afford to have a healthy, profitable survival if their share is big enough to give them economies of scale. </p>\\r\\n<p><em>Related Links:</em>\\r\\n<li><em><a href=\\\"https://www.benzinga.com/analyst-ratings/analyst-color/17/01/8973749/automakers-shift-lanes-as-disruptive-technologies-take-o\\\"> Automakers Shift Lanes As Disruptive Technologies Take Over </a> \\r\\n<li><em><a href=\\\"https://www.benzinga.com/news/17/02/8987717/tech-companies-most-exposed-to-trumps-immigration-ban\\\"> Tech Companies Most Exposed To Trump's Immigration Ban </a> \\r\\n<li><em><a href=\\\"https://www.benzinga.com/general/education/17/02/8986489/automakers-eye-the-finish-line-in-sprint-to-rollout-driverless-vehic\\\"> Automakers Eye The Finish Line in Sprint To Rollout Driverless Vehicle </a>  \\r\\n_______\\r\\n<em>Image Credit: By Colin@TheTruthAbout - <a href=\\\"https://www.flickr.com/photos/thetruthabout/15172340596/\\\" title=\\\"https://www.flickr.com/photos/thetruthabout/15172340596/\\\">https://www.flickr.com/photos/thetruthabout/15172340596/</a>, CC BY-SA 2.0, <a href=\\\"https://commons.wikimedia.org/w/index.php?curid=36537269\\\">via Wikimedia Commons</a></em> \",\n",
      "        \"created_at\": \"2017-03-10T20:43:45Z\",\n",
      "        \"headline\": \"Riding The Crest Of Ride Sharing \\u2013 Uber Vs. Lyft Vs. Didi\",\n",
      "        \"id\": 9158475,\n",
      "        \"images\": [],\n",
      "        \"source\": \"\",\n",
      "        \"summary\": \"\",\n",
      "        \"symbols\": [\n",
      "            \"AAPL\",\n",
      "            \"BMWYY\",\n",
      "            \"F\",\n",
      "            \"GM\",\n",
      "            \"TM\",\n",
      "            \"VLKAY\"\n",
      "        ],\n",
      "        \"updated_at\": \"2017-03-10T20:43:46Z\",\n",
      "        \"url\": \"https://www.benzinga.com/node/9158475\"\n",
      "    },\n",
      "    {\n",
      "        \"author\": \"Benzinga\",\n",
      "        \"content\": \"<p>The recent <a href=\\\"http://www.cnbc.com/2017/03/08/wikileaks-dump-apple-samsung-microsoft-react-to-claims-cia-hacked-iphones-tv.html\\\">Wikileaks dump</a> of classified U.S. Central Intelligence Agency documents has once again raised the debate over how the government should balance national security and Americans&rsquo; right to privacy. According to the leaks, the CIA has developed technology that can be used to hack into <strong>SAMSUNG</strong> (OTC:<a class=\\\"ticker\\\" href=\\\"/stock/SSNLF#OTC\\\">SSNLF</a>) TVs, <strong>Apple Inc.</strong> (NASDAQ:<a class=\\\"ticker\\\" href=\\\"/stock/AAPL#NASDAQ\\\">AAPL</a>) iPhones and iPads, and PCs and other devices running <strong>Microsoft Corporation</strong> (NASDAQ:<a class=\\\"ticker\\\" href=\\\"/stock/MSFT#NASDAQ\\\">MSFT</a>)&rsquo;s Windows operating system.</p>\\r\\n<p>Of course, the government says it would never use any of its capabilities to spy on American citizens. However, privacy advocates often compare the ever-increasing government surveillance capabilities to the rise of &ldquo;Big Brother&rdquo; from <a href=\\\"https://www.benzinga.com/general/education/17/01/8941118/the-fulfillment-of-orwellian-prophecy-since-1984\\\">George Orwell&rsquo;s book &ldquo;1984.&rdquo;</a></p>\\r\\n<p><em>Related Link: <a href=\\\"https://www.benzinga.com/news/17/03/9147962/heres-whos-getting-a-tax-cut-under-the-new-healthcare-proposal-youre-probably-not\\\">Here&#39;s Who&#39;s Getting A Tax Cut Under The New Healthcare Proposal (You&#39;re Probably Not Included)</a></em></p>\\r\\n<p>If the Wikileaks hack is, in fact, evidence that 2017 may be the real-life &ldquo;1984,&rdquo; perhaps the book can shed some light on what kinds of things Americans should be watching out for next. Here are a few plot points from the book that some argue may have already begun to come true.</p>\\r\\n<ul>\\r\\n\\t<li>\\r\\n\\t\\tIn &quot;1984,&quot; the Brotherhood Party watches citizens wherever they go. This part of the plot is seemingly the closest to reality, according to the Wikileaks documents. While the government says it doesn&#39;t monitor citizen&rsquo;s personal activities in their homes or on their phones, it certainly seems to have the capability to do so.</li>\\r\\n\\t<li>\\r\\n\\t\\tIn &quot;1984,&quot; the government re-writes history and even manipulates the language in an attempt to stave-off potential rebellion. While U.S. citizens still have full freedom of speech, the current administration&rsquo;s use of &ldquo;alternative facts&rdquo; may be a red flag that the integrity of the media should be closely monitored.</li>\\r\\n\\t<li>\\r\\n\\t\\tIn &quot;1984,&quot; the government prohibits sex and discourages individuality. Like all other elements of the story, how closely it applies to <a href=\\\"https://www.benzinga.com/analyst-ratings/analyst-color/17/03/9133962/3-potential-outcomes-for-the-debt-dilemma-according-to-d\\\">today&rsquo;s situation</a> in the U.S. is open to interpretation. The groundbreaking 2015 Supreme Court ruling in favor of gay marriage was certainly a step toward freedom of sexual expression and individuality. However, the recent ban on travelers from seven Muslim-majority countries could be interpreted as a step in the opposite direction.</li>\\r\\n\\t<li>\\r\\n\\t\\tThe dramatic conclusion of &ldquo;1984&rdquo; involves government brainwashing citizens to get them to conform. In the book, the government turns the protagonist&rsquo;s biggest fears against him in an attempt to get him to abandon his personal ideals. Once again, applying this element to today&rsquo;s America is a matter of personal opinion. There&rsquo;s no question that politicians in both parties have used fear tactics regarding terrorism, immigration, gun violence, employment, <a href=\\\"https://www.benzinga.com/news/17/03/9147962/heres-whos-getting-a-tax-cut-under-the-new-healthcare-proposal-youre-probably-not\\\">healthcare</a> and even socioeconomic class warfare to scare voters into choosing sides. While politicians throughout the ages have always recognized that fear is a strong motivator, Americans concerned about governmental power may have taken note of just how much of the 2016 campaign season was devoted to stirring up fears.</li>\\r\\n</ul>\\r\\n<p>Is &ldquo;1984&rdquo; coming true in real life? Obviously there&rsquo;s no way to answer that question definitively. But following the latest Wikileaks document dump, it seems reasonable for Americans to be concerned.</p>\\r\\n<p><em>Image Credit: By Jordan L&#39;H&ocirc;te - Own work, CC BY 3.0, <a href=\\\"https://commons.wikimedia.org/w/index.php?curid=15212492\\\">via Wikimedia Commons</a></em></p>\\r\\n \",\n",
      "        \"created_at\": \"2017-03-11T14:47:33Z\",\n",
      "        \"headline\": \"'1984' Isn't Coming True In Real Life, Right?\",\n",
      "        \"id\": 9153149,\n",
      "        \"images\": [],\n",
      "        \"source\": \"\",\n",
      "        \"summary\": \"\",\n",
      "        \"symbols\": [\n",
      "            \"AAPL\",\n",
      "            \"MSFT\",\n",
      "            \"SSNLF\"\n",
      "        ],\n",
      "        \"updated_at\": \"2017-03-11T14:47:33Z\",\n",
      "        \"url\": \"https://www.benzinga.com/node/9153149\"\n",
      "    },\n",
      "    {\n",
      "        \"author\": \"Benzinga\",\n",
      "        \"content\": \"<p><strong>Snap Inc </strong>(NYSE:<a class=\\\"ticker\\\" href=\\\"/stock/SNAP#NYSE\\\">SNAP</a>) shares may finally be settling into <a href=\\\"https://www.benzinga.com/general/education/17/03/9133014/short-sellers-whats-it-mean-for-a-stock-to-be-hard-to-borrow\\\">a groove</a> following several volatile days in its first week on the public market.</p>\\r\\n<p>With more than 158 million daily active users, U.S. investors are well aware of Snapchat&rsquo;s position as one of the most popular mobile apps in the country. But despite Snapchat&rsquo;s popularity, the biggest market in the world remains off-limits. The Chinese government <a href=\\\"https://www.benzinga.com/trading-ideas/long-ideas/17/03/9147896/3-apps-that-may-be-the-snapchat-of-the-east\\\">has banned</a> its citizens from using U.S. mobile apps while in China.</p>\\r\\n<p><em>Related Link: <a href=\\\"https://www.benzinga.com/trading-ideas/long-ideas/17/03/9147896/3-apps-that-may-be-the-snapchat-of-the-east\\\">3 Apps That May Be The Snapchat Of The East</a></em></p>\\r\\n<p>Instead, a number of domestic Chinese companies have the largest mobile market in the world cornered. Here&rsquo;s a look at the nine <a href=\\\"http://sampi.co/top-10-most-popular-mobile-apps-in-china/\\\">most popular</a> Chinese apps and some of their recognizable<a href=\\\"http://money.cnn.com/interactive/technology/china-apps/\\\"> American counterparts</a>.</p>\\r\\n<h3>\\r\\n\\t<strong>1. WeChat</strong></h3>\\r\\n<p>If you think Snapchat&rsquo;s 158 million users is impressive, WeChat&rsquo;s 700 million-plus user-base is mind-blowing. The WeChat app is owned by Chinese tech giant Tencent and is most similar to <strong>Facebook Inc</strong> (NASDAQ:<a class=\\\"ticker\\\" href=\\\"/stock/FB#NASDAQ\\\">FB</a>)&rsquo;s WhatsApp.</p>\\r\\n<h3>\\r\\n\\t<strong>2. QQ</strong></h3>\\r\\n<p>QQ is also owned by Tencent. Because it has been around for quite a while, it may be the most recognizable Chinese internet brand. The mobile app is most similar to <strong>Yahoo Inc.</strong> (NASDAQ:<a class=\\\"ticker\\\" href=\\\"/stock/YHOO#NASDAQ\\\">YHOO</a>).</p>\\r\\n<h3>\\r\\n\\t<strong>3. Mobile Baidu</strong></h3>\\r\\n<p><strong>Baidu Inc (ADR)</strong> (NASDAQ:<a class=\\\"ticker\\\" href=\\\"/stock/BIDU#NASDAQ\\\">BIDU</a>) is well known as the dominant search engine in China. Its mobile app has a 90 percent market share and is obviously most similar to <strong>Alphabet Inc </strong>(NASDAQ:<a class=\\\"ticker\\\" href=\\\"/stock/GOOGL#NASDAQ\\\">GOOGL</a>)&rsquo;s Google app.</p>\\r\\n<h3>\\r\\n\\t<strong>4. Taobao</strong></h3>\\r\\n<p>Taobao is the top mobile shopping app in China. The app is owned by <strong>Alibaba Group Holding Ltd</strong> (NYSE:<a class=\\\"ticker\\\" href=\\\"/stock/BABA#NYSE\\\">BABA</a>) and is most similar to <strong>eBay Inc</strong> (NASDAQ:<a class=\\\"ticker\\\" href=\\\"/stock/EBAY#NASDAQ\\\">EBAY</a>).</p>\\r\\n<h3>\\r\\n\\t<strong>5. UC Browser</strong></h3>\\r\\n<p>UC Browser is the top internet browser of choice for Chinese mobile users. The UC Browser app is also owned by Alibaba and is similar to <strong>Apple Inc.</strong> (NASDAQ:<a class=\\\"ticker\\\" href=\\\"/stock/AAPL#NASDAQ\\\">AAPL</a>)&rsquo;s Safari.</p>\\r\\n<h3>\\r\\n\\t<strong>6. QQ Browser</strong></h3>\\r\\n<p>UC Browser&rsquo;s top competition in China is Tencent&rsquo;s QQ Browser. The browser&rsquo;s second-place standing makes is most similar to Google Chrome in the U.S.</p>\\r\\n<h3>\\r\\n\\t<strong>7. Tencent Video</strong></h3>\\r\\n<p>In recent years, the Tencent Video app surpassed popular video platform YouKu in terms of mobile market share. Sitting atop the throne of mobile video makes Tencent Video the YouTube of China.</p>\\r\\n<h3>\\r\\n\\t<strong>8. Sogou Mobile</strong></h3>\\r\\n<p>Sogou is Baidu&rsquo;s biggest rival when it comes to mobile search engine market share. The app is owned by <strong>Sohu.com Inc </strong>(NASDAQ:<a class=\\\"ticker\\\" href=\\\"/stock/SOHU#NASDAQ\\\">SOHU</a>), and its position as second fiddle to Baidu makes it most similar to <strong>Microsoft Corporation</strong> (NASDAQ:<a class=\\\"ticker\\\" href=\\\"/stock/MSFT#NASDAQ\\\">MSFT</a>)&rsquo;s Bing.</p>\\r\\n<h3>\\r\\n\\t<strong>9. 360 Security</strong></h3>\\r\\n<p>360 Security is the most popular antivirus and memory management app in China. The app is owned by <strong>Qihoo 360 Technoloy Co Ltd </strong>(NYSE:<a class=\\\"ticker\\\" href=\\\"/stock/QIHU#NYSE\\\">QIHU</a>) and is similar to PSafe&rsquo;s DFNDR app in the U.S.</p>\\r\\n<p><em>Disclosure: the author is long BABA.</em></p>\\r\\n<p><em>Image: <a href=\\\"https://www.flickr.com/photos/linsinchen/11809405144/\\\">Sinchen.Lin, Flickr</a></em></p>\\r\\n \",\n",
      "        \"created_at\": \"2017-03-11T15:17:28Z\",\n",
      "        \"headline\": \"9 Most Popular Mobile Apps In China\",\n",
      "        \"id\": 9159381,\n",
      "        \"images\": [],\n",
      "        \"source\": \"\",\n",
      "        \"summary\": \"\",\n",
      "        \"symbols\": [\n",
      "            \"AAPL\",\n",
      "            \"BABA\",\n",
      "            \"BIDU\",\n",
      "            \"EBAY\",\n",
      "            \"FB\",\n",
      "            \"GOOGL\",\n",
      "            \"MSFT\",\n",
      "            \"QIHU\",\n",
      "            \"SNAP\",\n",
      "            \"SOHU\",\n",
      "            \"YHOO\"\n",
      "        ],\n",
      "        \"updated_at\": \"2017-03-11T15:17:28Z\",\n",
      "        \"url\": \"https://www.benzinga.com/node/9159381\"\n",
      "    },\n",
      "    {\n",
      "        \"author\": \"Benzinga\",\n",
      "        \"content\": \"<p>Litigations more often trigger strong stock moves, and this was evident in the rally by the shares of <strong>ParkerVision, Inc.</strong> (NASDAQ:<a class=\\\"ticker\\\" href=\\\"/stock/PRKR#NASDAQ\\\">PRKR</a>) last Wednesday.</p>\\r\\n<h3><strong> ParkerVision Goes 4 Up Over Qualcomm</strong> </h3>\\r\\n<p>ParkerVision <a href=http://files.shareholder.com/downloads/PRKR/4041681495x0x932082/19671F6D-EC18-4460-9507-7281DA736EE3/PRKR_News_2017_3_8_General.pdf> announced </a> on Wedneday that the Patent Trial and Appeal Board's latest decisions with respect to the Inter Partes Review filed by <strong>QUALCOMM, Inc.</strong> (NASDAQ:<a class=\\\"ticker\\\" href=\\\"/stock/QCOM#NASDAQ\\\">QCOM</a>) have increased the favorable rulings it has received to over six, with the latest decisions according three favorable verdicts.</p>\\r\\n<p>\\\"With these latest decisions, there are no further IPR's challenging ParkerVision patents currently before the PTAB,\\\" the company said in the release.</p>\\r\\n<p>ParkerVision ended Wednesday's session up 8.49 percent at $2.81.</p>\\r\\n<p>ParkerVision develops and markets proprietary radio frequency technologies, which are protected by a highly-regarded worldwide patent portfolio.</p>\\r\\n<h3><strong>Sympathy Moves</strong></h3>\\r\\n<p>In sympathy moves, <strong>RPX Corp</strong> (NASDAQ:<a class=\\\"ticker\\\" href=\\\"/stock/RPXC#NASDAQ\\\">RPXC</a>) and <strong>Spherix Inc</strong> (NASDAQ:<a class=\\\"ticker\\\" href=\\\"/stock/SPEX#NASDAQ\\\">SPEX</a>) also ended Wednesday's session notably higher.</p>\\r\\n<p>RPX provides a subscription-based patent risk management solution that facilitates more efficient exchanges of value between owners and users of patents compared to transactions driven by actual or threatened litigation.</p>\\r\\n<p>RPX shares galloped 11.25 percent on Wednesday.</p>\\r\\n<p>Spherix, which draws on portfolios of pioneering technology patents to partner with and support product innovation, also had a field day, advancing 5.50 percent. </p>\\r\\n<p>Now that begs a look into patent plays, which provide potential for appreciation around catalytic events such as patent filing, patent ruling, settlements and licensing or sale of patents.</p>\\r\\n<h3><strong>What Are Patent Plays?</strong></h3>\\r\\n<p>Patent plays are companies owning patents, either on products/services developed in-house or acquired to be part of a patent portfolio. These patents are potential gold mines, as they could fetch billions of dollars through litigation, licensing or outright sale.</p>\\r\\n<p>ParkerVision had earlier on March 9, 2016, received favorable decisions from the Patent Trial and Appeal Board. The stock had risen roughly 19 percent on the news.</p>\\r\\n<h3><strong>Patent Plays Standing To Benefit In Near Term</strong></h3>\\r\\n<ul><li><a href=\\\"http://www.nasdaq.com/press-release/spherix-updates-shareholders-20170123-00399\\\"> Updating </a> on its existing patent monetization efforts with Equitable UP, Spherix announced on January 23 the lawsuits, which are in varying stages of litigation.</li>\\r\\n<li><strong> Apple Inc. </strong> (NASDAQ:<a class=\\\"ticker\\\" href=\\\"/stock/AAPL#NASDAQ\\\">AAPL</a>) has ongoing <a href=\\\"https://www.benzinga.com/news/17/01/8934244/apple-gets-litigious-qualcomm-the-latest-in-a-string-of-lawsuits\\\"> patent litigations </a> against multiple parties. The iPhone maker has ongoing lawsuits against Qualcomm, <strong> Nokia Corp (ADR) </strong> (NYSE:<a class=\\\"ticker\\\" href=\\\"/stock/NOK#NYSE\\\">NOK</a>), <strong>SAMSUNG ELECTRONIC KRW5000 </strong> (OTC:<a class=\\\"ticker\\\" href=\\\"/stock/SSNLF#OTC\\\">SSNLF</a>) and Mobile Star LLC, which was found to be selling counterfeit W USB Power Adapters and Lightning to USB cables.</li>\\r\\n<li><strong>TASER International, Inc.</strong> (NASDAQ:<a class=\\\"ticker\\\" href=\\\"/stock/TASR#NASDAQ\\\">TASR</a>) and <strong>Digital Ally, Inc.</strong> (NASDAQ:<a class=\\\"ticker\\\" href=\\\"/stock/DGLY#NASDAQ\\\">DGLY</a>) are also locked in <a href=https://www.benzinga.com/news/16/12/8766901/digital-ally-and-taser-battle-goes-from-the-court-room-to-the-press> patent infringement litigation</a> over auto-activation camera technology.</li>\\r\\n<li><strong> BlackBerry Ltd </strong> (NASDAQ:<a class=\\\"ticker\\\" href=\\\"/stock/BBRY#NASDAQ\\\">BBRY</a>) has a patent lawsuit against Nokia, alleging that the latter's products such as its Flexi Multiradio base stations, radio network controllers and Liquid Radio software make use of technology that is covered by up to 11 patents. These patents were acquired by Blackberry from the now-defunct Nortel for $4.5 billion in 2011.</li>\\r\\n<li><strong>Amgen, Inc.</strong> (NASDAQ:<a class=\\\"ticker\\\" href=\\\"/stock/AMGN#NASDAQ\\\">AMGN</a>) has an ongoing patent litigation against <strong>Regeneron Pharmaceuticals Inc</strong> (NASDAQ:<a class=\\\"ticker\\\" href=\\\"/stock/REGN#NASDAQ\\\">REGN</a>) and <strong>Sanofi SA (ADR)</strong> (NYSE:<a class=\\\"ticker\\\" href=\\\"/stock/SNY#NYSE\\\">SNY</a>) over cholesterol drug Praluent.</li></ul>\\r\\n<em>Related Links:</em>\\r\\n<li><em><a href=\\\"https://www.benzinga.com/trading-ideas/technicals/17/03/9146972/parkervision-another-case-of-sell-the-news\\\"> ParkerVision: Another Case Of 'Sell The News' </a></li>\\r\\n<li><em><a href=\\\"https://www.benzinga.com/news/17/02/9051724/blackberry-slaps-nokia-with-a-patent-infringement-lawsuit\\\"> BlackBerry Slaps Nokia With A Patent Infringement Lawsuit </a>  \",\n",
      "        \"created_at\": \"2017-03-12T00:34:35Z\",\n",
      "        \"headline\": \"Your Guide To Patent Play Exposure\",\n",
      "        \"id\": 9150217,\n",
      "        \"images\": [],\n",
      "        \"source\": \"\",\n",
      "        \"summary\": \"\",\n",
      "        \"symbols\": [\n",
      "            \"AAPL\",\n",
      "            \"AMGN\",\n",
      "            \"BBRY\",\n",
      "            \"DGLY\",\n",
      "            \"NOK\",\n",
      "            \"PRKR\",\n",
      "            \"QCOM\",\n",
      "            \"REGN\",\n",
      "            \"RPXC\",\n",
      "            \"SNY\",\n",
      "            \"SPEX\",\n",
      "            \"SSNLF\",\n",
      "            \"TASR\"\n",
      "        ],\n",
      "        \"updated_at\": \"2017-03-12T00:34:36Z\",\n",
      "        \"url\": \"https://www.benzinga.com/node/9150217\"\n",
      "    },\n",
      "    {\n",
      "        \"author\": \"Benzinga\",\n",
      "        \"content\": \"<p>Loup Venture&rsquo;s Gene Munster mentioned a survey of 502 people in the U.S. revealed there is increased interest to upgrade to the iPhone X, to be launched by <b>Apple Inc.</b> (NASDAQ:<a class=\\\"ticker\\\" href=\\\"/stock/AAPL#NASDAQ\\\">AAPL</a>) later this year, along with interest in augmented reality.</p>\\r\\n<h3>\\r\\n\\tIncreased Interest</h3>\\r\\n<p>The analyst reported that of the iPhone owners surveyed, 23 percent said they intended to upgrade to the iPhone X, as compared to the 15 percent that said they intended to upgrade to the iPhone 7 prior to its launch.</p>\\r\\n<p>&ldquo;As we get closer to launch, the rumor mill can positively or negatively impact excitement about buying. If the rumors live up to the early hype, interest will likely increase; if they don&rsquo;t, interest may decrease,&rdquo; Munster stated.</p>\\r\\n<p>The analyst believes the<a href=\\\"http://www.businessinsider.com/apple-iphone-8-bigger-draw-for-consumers-than-samsung-galaxy-s8-ming-chi-kuo-2017-3?IR=T\\\"> increased interest</a> in the iPhone X potentially reflects the growing popularity of the iPhone Upgrade Program. Although still early, the interest to upgrade to the iPhone X appears significantly higher than it had been for the iPhone 7.</p>\\r\\n<p><em>Related Link:&nbsp;<a href=\\\"https://www.benzinga.com/analyst-ratings/analyst-color/17/03/9152434/competition-only-helps-apple-ripen-an-advantage-over-the\\\">Competition Only Helps Apple Ripen, An Advantage Over The FANG Stocks</a></em></p>\\r\\n<h3>\\r\\n\\tAR Driving Demand</h3>\\r\\n<p>The survey also revealed 26 percent of those who intended to buy the iPhone X were interested in the AR feature, as compared to 16 percent of those who didn&#39;t plan to purchase the iPhone X.</p>\\r\\n<p>In addition, the interest in AR was higher among millennials, with 34 percent of the 18-29 age group showing the highest interest.</p>\\r\\n<p>&ldquo;Among older age groups, interest in AR declines. This points to the willingness of millennials to be early adopters. We believe younger users are the key to widespread AR adoption over the next decade,&rdquo; Munster went on to say.</p>\\r\\n<p>In addition, the survey indicated interest in AR was higher among men, with 28 percent males expressing interest, as compared to 23 percent of the females surveyed.</p>\\r\\n<p>&ldquo;We&rsquo;re looking forward to seeing how <a href=\\\"https://www.benzinga.com/analyst-ratings/analyst-color/17/03/9132495/apple-momentum-will-continue-bluefin-raises-new-model-es\\\">Apple </a>markets the AR-related features in the iPhone. And we&rsquo;ll be looking for signs of these new features in iOS 11 when it&rsquo;s introduced at WWDC in early June. Those features, along with the company&rsquo;s ability to market their utility to consumers, will drive demand for the new device and push the AR theme forward, potentially in a very big way,&rdquo; Munster added.</p>\",\n",
      "        \"created_at\": \"2017-03-13T12:25:28Z\",\n",
      "        \"headline\": \"Apple's iPhone Upgrade Program Could Be Good News For 'iPhone X'\",\n",
      "        \"id\": 9162846,\n",
      "        \"images\": [],\n",
      "        \"source\": \"\",\n",
      "        \"summary\": \"\",\n",
      "        \"symbols\": [\n",
      "            \"AAPL\"\n",
      "        ],\n",
      "        \"updated_at\": \"2017-03-13T12:25:29Z\",\n",
      "        \"url\": \"https://www.benzinga.com/node/9162846\"\n",
      "    },\n",
      "    {\n",
      "        \"author\": \"Benzinga\",\n",
      "        \"content\": \"<p><strong>Intel Corporation</strong> (NASDAQ:<a class=\\\"ticker\\\" href=\\\"/stock/INTC#NASDAQ\\\">INTC</a>) has set its foot firmly in the fast-growing market for fully autonomous vehicles by agreeing to buy Israel-based <strong>Mobileye NV</strong> (NYSE:<a class=\\\"ticker\\\" href=\\\"/stock/MBLY#NYSE\\\">MBLY</a>) for about $15.3 billion.</p>\\r\\n<p><a href=\\\"https://www.benzinga.com/analyst-ratings/analyst-color/17/03/9112330/intels-stock-downgraded-the-first-step-is-always-denial\\\">Intel</a> will pay $63.54 for each share of Mobileye, representing a premium of 34.4 percent over March 10 closing price. The deal has an enterprise value of $14.7 billion.</p>\\r\\n<p>The deal will combine technologies from both companies that spans across connectivity, computer vision, data center, sensor fusion, high-performance computing, localization and mapping, machine learning and artificial intelligence.</p>\\r\\n<h3>\\r\\n\\t<strong>Huge Opportunity For Intel</strong></h3>\\r\\n<p>The deal also diversifies Intel from weak PC market to the autonomous car market where the data is expected to increase manifold. The deal comes as Intel is gaining share at <strong>Apple Inc.</strong> (NASDAQ:<a class=\\\"ticker\\\" href=\\\"/stock/AAPL#NASDAQ\\\">AAPL</a>).</p>\\r\\n<p>Intel estimates the vehicle systems, data and services market opportunity to be up to $70 billion by 2030.</p>\\r\\n<p>Intel expects that by 2020, autonomous vehicles will generate 4,000 GB of data per day, which plays to Intel&#39;s strengths in high-performance computing and network connectivity.</p>\\r\\n<p>Intel said the complexity and computing power of highly and fully autonomous cars creates large-scale opportunities for high-end Intel Xeon processors and high-performance EyeQ4 and EyeQ5 SoCs, high-performance FPGAs, memory, high-bandwidth connectivity, and computer vision technology.</p>\\r\\n<p>&ldquo;Together, we can accelerate the future of autonomous driving with improved performance in a cloud-to-car solution at a lower cost for automakers,&rdquo; Brian Krzanich, Intel CEO, said in a press release.</p>\\r\\n<h3>\\r\\n\\t<strong>Deal Accretive To Intel</strong></h3>\\r\\n<p>&quot;We expect the growth towards autonomous driving to be transformative. It will provide consumers with safer, more flexible, and less costly transportation options, and provide incremental business model opportunities for our automaker customers,&quot; said Ziv Aviram, Mobileye Co-Founder, President and CEO, commented on the deal.</p>\\r\\n<p>The combined global autonomous driving organization, which will consist of Mobileye and Intel&#39;s Automated Driving Group, will be headquartered in Israel and led by Prof. Amnon Shashua, Mobileye&#39;s Co-Founder, Chairman and CTO.</p>\\r\\n<p>&quot;By pooling together our infrastructure and resources, we can enhance and accelerate our combined know-how in the areas of mapping, virtual driving, simulators, development tool chains, hardware, data centers and high-performance computing platforms. Together, we will provide an attractive value proposition for the automotive industry,&quot; Aviram added.</p>\\r\\n<p>The deal is expected to be accretive to Intel&#39;s non-GAAP EPS and free cash flow immediately. Intel, which intends to fund the acquisition with cash from the balance sheet, plans to close deal within the next nine months.</p>\\r\\n<p>In the <a href=\\\"https://www.benzinga.com/news/17/03/9162864/20-stocks-moving-in-mondays-pre-market-session\\\">pre-market hours</a>, Mobileye surged 31.06 percent to $61.95, while Intel shares fell 1.5 percent to $35.38.</p>\\r\\n<p><em>Related:</em></p>\\r\\n<p><em><a href=\\\"https://www.benzinga.com/news/earnings/17/03/9161403/tech-earnings-expectations-adobe-vs-oracle\\\">Tech Earnings Expectations: Adobe Vs. Oracle</a></em></p>\\r\\n<p><em><a href=\\\"https://www.benzinga.com/news/earnings/17/03/9161995/stocks-to-watch-for-march-13-2017\\\">Stocks To Watch For March 13, 2017</a></em></p>\",\n",
      "        \"created_at\": \"2017-03-13T12:37:42Z\",\n",
      "        \"headline\": \"Intel Kickstarts Autonomous Engine, To Buy Mobileye For $15 Billion\",\n",
      "        \"id\": 9162964,\n",
      "        \"images\": [],\n",
      "        \"source\": \"\",\n",
      "        \"summary\": \"\",\n",
      "        \"symbols\": [\n",
      "            \"AAPL\",\n",
      "            \"INTC\",\n",
      "            \"MBLY\"\n",
      "        ],\n",
      "        \"updated_at\": \"2017-03-13T12:37:42Z\",\n",
      "        \"url\": \"https://www.benzinga.com/node/9162964\"\n",
      "    },\n",
      "    {\n",
      "        \"author\": \"Benzinga\",\n",
      "        \"content\": \"<h3>\\r\\n\\tIN THE NEWS</h3>\\r\\n<p><strong>BENZINGA</strong></p>\\r\\n<p>U.S. chip giant <strong>Intel </strong>(NASDAQ:<a class=\\\"ticker\\\" href=\\\"/stock/INTC#NASDAQ\\\">INTC</a>) has agreed to buy Israeli technology firm <strong>Mobileye </strong>(NYSE:<a class=\\\"ticker\\\" href=\\\"/stock/MBLY#NYSE\\\">MBLY</a>) for $15 billion: <a href=\\\"https://www.benzinga.com/news/17/03/9162964/intel-kickstarts-autonomous-engine-to-buy-mobileye-for-15-billion\\\">Link</a></p>\\r\\n<p>The exceptional February jobs report out Friday seems to have paved the way for the Federal Reserve to make an aggressive interest rate hike when it meets this week: <a href=\\\"http://try.benzingapro.com/e1t/c/*W2drJCj6gJ1RtW3nF7bb3RSPtV0/*W8hHMwp1jw3syW4YyLyB2rTzQ10/5/f18dQhb0S8349c-lkYN7ZfQ88HyjJqN1pgD7MS9MPFW3hHh8c5zh-NRVnQ9Qq8--HBkW8-xMXy6cR4KTVLnBMr4dQ7LpW8W56sY4dPx0ZW2L7FKL1TxSXPVwdRmc586xKNW2RgV6x2QS8C3W4hrcYj2w5J0gW4lbk5s3Wcxz2W3V-2vx6TjRv_W5WCD3830Bss2W3W0ZS67y1Sd6W7MVZft7vQWP6W1s-csX1FbbNVW7mHBjF1L4xyjW6FKg-T2XsCWxW7t79sy8p6tHMN5wM1RK91lL9N2K_Q7hch5wPW30T_rP2Vv3csW1G8Mxx1Bb4rMW59QgH28XS7V7N8_MVMWmFssDW2RQhnm2KVZ-6W6pD9Ym4nnmyGN8--6f0sBlnFW6hM-8y6pGKsZW91dmjR4mJmYgW8Xm6Ym4cdhZCW1V1FjJ6zMP6CN2G8wp7tyfDDW1ysG1C1WYZF7W1ZG06T7qW-GqW6DdhrL2Wvkb0W4lnDj51ZXTDnW5bclpF227WNPW4JT-qJ37P0d4W15hnZl2-9yN0W3gG-ch4rJc6DW626Lph24WW09N6J397TWDM01W798PTF6_MPWcW7TbD8Y1MPzs1W7FR4z_5vTHNMW1VbTN06P0gC2W3_5FP14Wq2YxVRDRSY5JQG0x0\\\">Link</a></p>\\r\\n<p><strong>Toronto-Dominion Bank</strong> (NYSE:<a class=\\\"ticker\\\" href=\\\"/stock/TD#NYSE\\\">TD</a>), one of Canada&#39;s &quot;big four&quot; banks, fell as traders digested a concerning report which alleges illegal wrongdoing by employees: <a href=\\\"http://try.benzingapro.com/e1t/c/*W2drJCj6gJ1RtW3nF7bb3RSPtV0/*W7rDj8R77BbsTW258sy18nyMYl0/5/f18dQhb0S65M2dYTs8V11WXB6cHp0gW5YG4Mj2vLVsYW50X6d83F5B2vW81mhJs62gJhyVKJbCc87ysrxW4LZZN42VqYNDN2vkGXqM79nZVVlXsd18xr-MW3spGQk4pnrwDW6n4xzG6KbLQjW2vRl-n6ChdKSW7LxpV53NDVkrW24-chR19ZhMsN27Th10vGcCsV6fnWQ2qyCjRN7JdxMVPD33pV1qmxn2cyHm8W2G_1Sh3XDkt_N4SmJyT_jtt9W1wNkfp54gbjqW99ltNB8RZMFqW7KNxPx475MjzW5Vt71T9ff8VjVYSml560BDZ1W2Jhvky4-yRcSW3Wj4fM8SYf9GW2L_pz445TnP1W1XXhG77MK4YpW5TY88P5Dx5fnW8qRzPT1btxL6W2LhRcp1HXFh8W6BdSNd36rSM0W7PPCf13Nq1mTW3mfMV-1vytflN6dR48_Rj4q7W3Fjp9R6s3c5JW52_Msz27yR2HW5kfSWJ7lqC40W5nCW7-7rqS4FW1_kw3f5-3RjvW5L3Pp13D8pRfW32qQbQ83DPKRW46V74g8DrghBW6YPqYp2f44myW3tXGdG4BbcxQW1MBrw11WnJLKW8sGs5p3jjgGf111\\\">Link</a></p>\\r\\n<p><strong>Apple Inc.</strong> (NASDAQ:<a class=\\\"ticker\\\" href=\\\"/stock/AAPL#NASDAQ\\\">AAPL</a>) could face production delays on iPhone 8 as 3D image sensors from STMicroelectronics (NYSE:<a class=\\\"ticker\\\" href=\\\"/stock/STM#NYSE\\\">STM</a>) may not be ready for a September iPhone launch due to a fire at its fab in France: <a href=\\\"http://try.benzingapro.com/e1t/c/*W2drJCj6gJ1RtW3nF7bb3RSPtV0/*W4TxC6N37L550V3d6gN28s_W20/5/f18dQhb0S1Wd2RwkMJTvLhB1fC5lkW1xJnTd4MNfByW1YPyq44S5xvGW58s_Hy6DnRzJW7z2x1s4SGKtrN7yPqrNr5bKgW7mLppd5qlmpRW2Zc8pT5xGYd0W20yhSX59TKwTW2d5yMd3wLY4BW94gM_y5QXZd3W22nVLw2TT52sMyZT7B7hBkCW479Ntb7sGgmnW3yw0sF2qg-j3W1cD5fc5gbwtkW16869z8t1tf5W6djMGZ5rHtbbW6nDCDq78Lc9KW1kk7gR5VqG4yW5DCVjR4PBwdCN8Tc1DK16m9YF8N-MBKCB48W8npcJ98NSVT0W8YstVw1l_wnTW2b-hmS1fX09CW6VsT8X7tN-1QW10dCYJ6Y8jsNW4Lbsw43Jj7k7W2t6kwT146bJ0W15tQTX3kpZsRW6gNF2P5KpN2WW87Nptw4z1L2WW28YJTP3_QzLcW4BXSX45G0X6jW6YD-wR6XGww_W6QGCb37VKfF9W4k8DG-7gRdxzVzCfQY7g590SW7T4zNv6CBvMKMw2bp6grh5xW88CdNL2xXSPDW1zcbB17SX9vqMMHdg0SRjNJW9jdn5s6-8L3tVKfTYP4Gk1nvW6PYW_14DRjx7W5PZXPq82QxnSW2KPVGV6Rtxq5N3z1ncw5Kwjsf1BnhMw11\\\">Link</a></p>\\r\\n<p><strong>THE WALL STREET JOURNAL</strong></p>\\r\\n<p>The powerful surge in global stocks and commodities in 2017 faces another hurdle this week as a quick succession of potentially market-moving events challenges investors to place their bets on the next direction for leading asset classes: <a href=\\\"http://try.benzingapro.com/e1t/c/*W2drJCj6gJ1RtW3nF7bb3RSPtV0/*W6HdVtq7L-yspW7rb2TH6pMMsZ0/5/f18dQhb0SnGW9hxT-0W3-DWxK50RnyCMJFjzVqBVpkW1FSlRy2P7_nXVcnTGj992gLmW4vvhrm4vgKM1W98kKZm5DrlvfW7dDYjt3KBSmLW95S4sY8xX4_mW6QQLmh6QzgShW5trbst6c6ZvkW3TCPGV1njMtBW5CYK6g8n1NBBW7cN1n16R1sBnN5wvtFqcVYX0W61SSZm7dDxTNW7mWsnX7dzcsSW51vDDW1bwwwgW5rC5Q63lzN6vW4CSB_54QQYPWMzk44kYSX-5W7m_B1R5c8d-SW3788rn50HkXHW5CGZGZ8qqyb1W2q103R3ScsksN1cSyb6RKpwsW4XRRQm5jMRqSN86Ql7wdTVhGW6nlM5G6Q8BpBW4Wz4-D5Q53vzW7z0zCS7nmHV7W3sNMXw8L7YqPW2BldhL2xjM1VW2Jlv5V96T18vW2pfmZc9jYTx_W8p0Tfc7drw0kN63wV8xhzVNsV5smX36zJ9SLW4M11334H_8krW2Mrb6y22-Z4QW23Mx7h1L7QjGW1cr9Pr1ygfvSN2_rpDB10NbdW5x6QZC8p04SgN83wRg2dnDBBW1V43FJ89n5tsW4hphd32bkqZ7W5-Zn4j73r2_lV1T8QN1d7Qjd103\\\">Link</a></p>\\r\\n<p>The sudden departure of the top U.S. prosecutor in Manhattan raises uncertainty about the federal government&rsquo;s approach to trying financial crimes and global terrorism cases, even as it isn&rsquo;t likely to change the course of several high-profile investigations: <a href=\\\"http://try.benzingapro.com/e1t/c/*W2drJCj6gJ1RtW3nF7bb3RSPtV0/*Vkl48y5fXbS1N68MHYMCqWJ50/5/f18dQhb0SnG_9jx7gWW3-DWxK50RnyCMJFjzVqBVpkW1FSlTD2P7_nXVcnTGj992gLmW4vvhrm4vgKM1W98kKZm5DrlvfW7dDJhV6bMLCzW2HdwH12lZV6mW2Y_zxx3jX0CwW5D5b4Q6b8s7_W5J1V3k5mfBQHW6dDFxg5lNvH3W5jPyp93jJG_WW3XXWTJ3T0vs-W3R2NR33jJ_0mW5KxXB65KDCtZW12tL7f5B4_slVJ4sbD7lYt77W2xcdSq2LBRnXW1YZKMd934WSRW4yc3CK3sSDqDW5kmcLG2Jb9PgW3jp1Kp69__ZjW2FRk8R6nlF47W2-wqv64crH1lW5CG19m3zzw-3W2L3Hwc47YlxqW62hSrw5WlmjgW6dmsht48cj4KW4Dxg9X5S3zJGW3g7v2F393fdzW5jQmCS6Q-DlMW5k2xN25jHLD7W5svC003J-Qb9W5CTDFj4DVJwFW68jyrG2DjRBDW7jD_sy6Hs-HbW3Cdk0d3wv7SmW4bH93M2Km4hSW7KGwLv2SvghQW7ms-947wQw92W2MBTCJ5LN_BTW2cyH2G87PSLCW3-PV8G863WQ7W1G9W-71HwJ8FW75HQn_7zW2-VW3gTMqR5V9Vd-S82W91LBl1102\\\">Link</a></p>\\r\\n<p><strong>REUTERS</strong></p>\\r\\n<p>For some millennial investors, loyalty to one of their favorite apps matters more than financial details in the case of <strong>Snap Inc</strong> (NYSE:<a class=\\\"ticker\\\" href=\\\"/stock/SNAP#NYSE\\\">SNAP</a>): <a href=\\\"http://try.benzingapro.com/e1t/c/*W2drJCj6gJ1RtW3nF7bb3RSPtV0/*V_LkxK1vVGnGW3cp6sc2Yh3rj0/5/f18dQhb0S3kg6_rzZBV1vjmk2J37jlW2qyCHl1n42xrW8pb8Z14GS4zRW1Bjhrj8kLhb-W6gm0w-4xx-WFW3Xb3D75G2nzDW4-GdXm1tFhRqW3kwjSg5V6HS7W1VChZj23PgyMW5fd4bc6KvxX-W2vk0yT2cWxRbW83J6Bw7MSQttW6GYQ_Y3x2kfCW4JTZvs3ZLq42W19YQ0P3y4XMJW7QXb1j2nSzybW2sVK3b8FJVpjW63LMr32rfQRYW2yg8zC7r9VdmW1m7QQx7PdPRZW5SKL_v9l88LyW5Zs7Z-2QVznQN8xVtrHHwfm0W8cC78214BgJkW68h1rZ2zhMhwN2rvPgSqt5K4W2CClrK5vtPL7VMMxmG5lQNK5W1hM3_-38KwYZW2mrhtT7N72vbW8vZY-76zzcWYW21NwR88DqkzWW2_7tcr97DGvwV1wl5S5D0VCtW3VyHq_1k9TDfW8WSghP96NBPTW4VdrQQ60MXKQW5R9MH95y29L4N8hWpNjmPcsvW2_PSYC4x-LGsW4pZ53L92CMWSW8ZmmpF2cQ_1lW4qj3gr7VtJRBW8Q5_0D4DPRF2W44lLjh57Ldc8W3M6r4l4dVPV60\\\">Link</a></p>\\r\\n<p><strong>BlackRock Inc</strong> (NYSE:<a class=\\\"ticker\\\" href=\\\"/stock/BLK#NYSE\\\">BLK</a>), which wields outsized clout as the world&#39;s largest asset manager, planned on Monday to put new pressure on companies to explain themselves on issues including how climate change could affect their business as well as boardroom diversity: <a href=\\\"http://try.benzingapro.com/e1t/c/*W2drJCj6gJ1RtW3nF7bb3RSPtV0/*W5Myc4s9jr4bkW6-WXPT10Fsx30/5/f18dQhb0S66-2dYTs8T_FzC31WFtjW31Cspb52CqYGW3R1r0j59CNz3W60_pj41J19tbW9109D8486JPwVrlmz-74mf1zVFzLP053CPVNW55f3FC8w0rv-N5SxcRtkVdRYW18K39B5zmFg5W3JcYHL5rMZKsW8J_bXw7NSyCrW2nndvW8vpHCNV9fKPM8qrnC-W5BPDbw1-ZWH_W3-JM0950GpfMVQFwzm1sff0SW5_XTg11Z0YB9W61FFR55RqpwwW4zMFK_2sSLNhN7kRf85bNQ59W75gcB532RdcTVXQY4K7yMYt4W1PQtMl5qLXRmW372Gmb7bJS2yW5TZf7Z6Y3DKSW26PWJn61p6T2W8FyK8Y601FXWVPxnjf1kbqT1W5-gWHB4glMJZN5DrQqQbd9gGW90Z9VY4bcbzbW7XxKyk6kdWBkW1tgK6k5xCMDxW6FqmST7PTNs8N6NyVWnbytJgW80vwmD7T6n_xW32z5f43mmJ4VW4WYxcP19mTJhW5WtZdb1dZ7JbW5TP6L35DQ8qxW2wYs1W8XqsG7W8JyBV613Yp5vW885cX_6ZpzChW8tbDtk7cww14W4878qy3W_3bw111\\\">Link</a></p>\\r\\n<p><strong>BLOOMBERG</strong></p>\\r\\n<p>Oil steadied below $49 a barrel as U.S. drillers continued to boost activity, countering OPEC&rsquo;s efforts to drain a global glut: <a href=\\\"http://try.benzingapro.com/e1t/c/*W2drJCj6gJ1RtW3nF7bb3RSPtV0/*W3bcy3b6xX3YJW5MHTgy7wc97f0/5/f18dQhb0S66Y2WsqN3VWlP293sQ42HN2Jyws6pQM14W7ZM9Y_35NRZVW6jLQXP6Bf4m_W7smjdx2Ply8FW4ry5bn1rzLD0W32nvwS2pk0QzW2t2bL_3sqwLVW3t-90368JMmGW8QLBzc8RZMNzW6rfjBv4gLfLTW8tJSZD7GfC7PW9327tm27tcgmW15hpq95zf0csW7JcjJf1mShj2N3y9dPll3jxQW2TG0R98WN2QMW538y4t431rbPN4HzfwPrJpm8W2SSMDd4d8JM_W64cHS13d_mSCW1FxMG68d6_cQVPJq_K7qrZbFN5_KhJrYXXd-W19vns48Q_ZqlW3VqfSB8VJpQWW14_DMz2vthFnW1Hsgy44RKBYyW7X64vP20YKCsW893pHk6y8KgxW5g-Kk31Smxp-W44c67q11y41VW89gWD523yn2NW6pYl_47Pk6LfW5vFLp146McQtW3hHCfd1dc0-dW8_GhdF2LsbHwW4WSYJX5W4qCTVzzg461JtbwYW77L-rp22t_w-W9jx_Vn3WQk59W6rKK2C4P-ZtbW2X_LYY4r3dMvW79vMxr3l2gp4W1VdQG91pZsKDW9j5xVZ91hJ_tW6YV8-j8SljmCW8vmQkW8NdqHhW5RsM8P1M41tjVgQXg514srDT103\\\">Link</a></p>\\r\\n<p>Republican and Democratic lawmakers on Sunday said they still haven&rsquo;t seen evidence to support President Donald Trump&rsquo;s unverified claim that his predecessor tapped his phones, but they expect the facts will soon emerge: <a href=\\\"http://try.benzingapro.com/e1t/c/*W2drJCj6gJ1RtW3nF7bb3RSPtV0/*N1kJgwMjH9N9W82BNb54Dxl6_0/5/f18dQhb0S65P2WJLfhW12h8zz1vYxYYW61nqSh6sk8tfW1qH84x4VYMgtN766xHZvrSchW4T6PY57z6T7XW7ZlDm-4yHchSW8SgH-n3fLx7nW7_7Pq57hn2BVN8hB1qsbsvBdW87bwPM8Qq2QBW4BCtB0805nLsVXQKBW7VnvdQW59xb4449X4CPW3jncB36H9yVlW2vMWQR8dqb0dW5mN8X635mTdDW1v82157ptMH_Vdvg-08rtGqBW5FSNFt2JNzMsW1tLm_37nQSVFW49yJll5t-kKwMXncLV11PxqW4kJPl45Xh7pDW95PQbc7jjH_dW4H_XMC9jbLs0W2Zmdk11bj175W5Xnfpp7TgNWhW5Y__5G7tbTl-W8z4kKc40hLLRM9-rhYdlrpYW8vH_yf3Yc9MBW14bYk83SdhnVW4m_wyz1Lj9x1W87lyN44WDXwNW8HtyxC7_4j5LW3sp7-9347wwVW8zWGbD27YXGKW7Jgpj-3m3JyFW3_tHKq6kZX7LW6rK5st44-5XqW67lH6d7jmxX4W6DW4zF8r1pbzW8Ys75z2HGLn8N2vb3L0HghsPW1fDkbV2hw08mW6zR1027yzgHhW5PZpPH26Q47yW2kNXkg4gQSlMW2WJdVy5fdd_XW5QkPHL6jZhmDVYKgRF5ZDtxR0\\\">Link</a></p>\\r\\n<p><strong>THE NEW YORK TIMES</strong></p>\\r\\n<p>Mark Tucker, chief executive of the Asian life insurer AIA Group, is set to replace Douglas Flint as chairman of <strong>HSBC </strong>in October, the bank said on Sunday: <a href=\\\"http://try.benzingapro.com/e1t/c/*W2drJCj6gJ1RtW3nF7bb3RSPtV0/*VwRKVC2H8fK-W1KyvSy23KHKF0/5/f18dQhb0S1Wd7Bf-yvL_q4hXm97SW5kp_013wynrwW8THp291bztNzW27NzN38tthc_W4pl5sm6KSb16W4p7lzC1LXbM4N5nlYJjBK1SrVCKvv98wg-w5N8MPmmC7B4P3W4nKFsq6pFBrRW5fPffm30MC-5W36Dfsw3H9nrzW4FYLs02CXVJjW6wySBb5KzF-8W7bQgnd3GSC44W6dJ7vt2HdzdMW1QvJjd8b_BzLW4skbLk6mn8TzW19vfb8945PL0W2gWM1M1srFzzW5n4jZc1CSwvFW7HwhPm7BdspdW3Vzy0d89D47GW6Rj1z87L85dPW3XGkHY6-cHB2W41ztV98J7j2DW5q919G3TXv9yN3DMDsRgz-R2W51yv7451b3cpW7qFn_t5qdl_NW5yxNpt3Fn_M2V85dYV6ZbQx7W71NCBB7swPw1W3ZMlXB66BhJ4N7JprJyL880LW8hrVD275L9vQW3TnrB33N7TlCVVskHX6nCn8nW8VHKLD2hc9X1W8d2ZQq5G6P20W1GFZjl13QBZkW73dRcw15nBTkN2bRLr69PT1RW7nkfGl74l1xhW15b8St7WkY_qW8Dyq1L48Kd26W5gPKKc26C1bDW5PNd4F7L4PspW8Y1vz44Dw41dW98YmHc88tSR6W4qL6Gg2cn23YN8pwSd7TT48_W704CQR6WnMB1W6Lny462kby_Cf8cpnGK03\\\">Link</a></p>\\r\\n<h3>\\r\\n\\tECONOMIC DATA</h3>\\r\\n<ul>\\r\\n\\t<li>\\r\\n\\t\\tThe Labor Market Conditions Index for February is schedule for release at 10:00 a.m. ET.</li>\\r\\n\\t<li>\\r\\n\\t\\tThe Treasury is set to auction 3-month bills at 11:30 a.m. ET.</li>\\r\\n\\t<li>\\r\\n\\t\\tThe Treasury will also auction 6-month bills at 11:30 a.m. ET.</li>\\r\\n</ul>\\r\\n<h3>\\r\\n\\tANALYST RATINGS</h3>\\r\\n<ul>\\r\\n\\t<li>\\r\\n\\t\\tB. Riley upgraded<strong> Kirkland&#39;s </strong>(NASDAQ:<a class=\\\"ticker\\\" href=\\\"/stock/KIRK#NASDAQ\\\">KIRK</a>) from Neutral to Buy</li>\\r\\n\\t<li>\\r\\n\\t\\tGoldman Sachs upgraded <strong>Blueprint Medicines</strong> (NASDAQ:<a class=\\\"ticker\\\" href=\\\"/stock/BPMC#NASDAQ\\\">BPMC</a>) from Neutral to Buy</li>\\r\\n\\t<li>\\r\\n\\t\\tMorgan Stanley upgraded <strong>Rockwell Collins </strong>(NYSE:<a class=\\\"ticker\\\" href=\\\"/stock/COL#NYSE\\\">COL</a>) from Equal-Weight to Overweight</li>\\r\\n\\t<li>\\r\\n\\t\\tMorgan Stanley downgraded <strong>Boeing </strong>(NYSE:<a class=\\\"ticker\\\" href=\\\"/stock/BA#NYSE\\\">BA</a>) from Overweight to Equal-Weight</li>\\r\\n\\t<li>\\r\\n\\t\\tRBC Capital downgraded Toronto Dominion Bank from Outperform to Sector Perform</li>\\r\\n\\t<li>\\r\\n\\t\\tDeutsche Bank downgraded <strong>American International Group</strong> (NYSE:<a class=\\\"ticker\\\" href=\\\"/stock/AIG#NYSE\\\">AIG</a>) from Hold to Sell</li>\\r\\n</ul>\\r\\n<p><em>This is a tool used by the Benzinga News Desk each trading day &mdash; it&#39;s a look at everything happening in the market, in five minutes. To get the full version of this note every morning, <a href=\\\"http://limited.benzinga.com/market-in-minutes-bz/\\\">click here</a> or email <a href=\\\"mailto:minutes@benzinga.com\\\">minutes@benzinga.com</a>.</em></p>\\r\\n\",\n",
      "        \"created_at\": \"2017-03-13T13:25:59Z\",\n",
      "        \"headline\": \"The Market In 5 Minutes\",\n",
      "        \"id\": 9163000,\n",
      "        \"images\": [],\n",
      "        \"source\": \"\",\n",
      "        \"summary\": \"\",\n",
      "        \"symbols\": [\n",
      "            \"AAPL\",\n",
      "            \"AIG\",\n",
      "            \"BA\",\n",
      "            \"BLK\",\n",
      "            \"BPMC\",\n",
      "            \"COL\",\n",
      "            \"INTC\",\n",
      "            \"KIRK\",\n",
      "            \"MBLY\",\n",
      "            \"SNAP\",\n",
      "            \"SPY\",\n",
      "            \"STM\",\n",
      "            \"TD\"\n",
      "        ],\n",
      "        \"updated_at\": \"2017-03-13T13:25:59Z\",\n",
      "        \"url\": \"https://www.benzinga.com/node/9163000\"\n",
      "    },\n",
      "    {\n",
      "        \"author\": \"Benzinga\",\n",
      "        \"content\": \"<p>For years, China has been a major concern for <strong>Apple Inc</strong> (NASDAQ:<a class=\\\"ticker\\\" href=\\\"/stock/APPL#NASDAQ\\\">APPL</a>) and its shareholders. The latest numbers from UBS indicate that the story hasn&rsquo;t changed in fiscal 2018. According to analyst Steven Milunovich, the global premium smartphone market is strong for Apple everywhere<a href=\\\"https://www.benzinga.com/general/education/17/03/9159381/9-most-popular-mobile-apps-in-china\\\"> but China</a>.</p>\\r\\n<p>Sell-through data from Gartner suggests 6 percent global growth in the premium smartphone market in the December quarter. Apple captured an additional 1 percent of the global market, but it lost 17 percent of market share year-over-year <a href=\\\"https://www.benzinga.com/trading-ideas/long-ideas/17/03/9147896/3-apps-that-may-be-the-snapchat-of-the-east\\\">in China</a>.</p>\\r\\n<p>UBS reports Apple&rsquo;s mainland China market share was down 5 percent, while market share in Hong Kong and Taiwan plummeted 50 percent.</p>\\r\\n<p>&ldquo;A return to double-digit growth in China is critical to our F18 estimate of 12% unit growth,&rdquo; Milunovich explains.</p>\\r\\n<p><em>Related Link: <a href=\\\"https://www.benzinga.com/general/education/17/03/9159381/9-most-popular-mobile-apps-in-china\\\">9 Most Popular Mobile Apps In China</a></em></p>\\r\\n<p>While the China numbers are certainly troubling, shareholders can take comfort in the fact that Apple enjoyed record market share in the U.S., Europe, Japan and the &ldquo;rest of the world&rdquo; categories. In addition, the 5 percent decline in mainland China market share was relatively modest compared to the 31 percent decline in the previous quarter.</p>\\r\\n<p>Finally, year-over-year <a href=\\\"http://fortune.com/2017/03/11/apple-iphone-news/\\\">iPhone comps</a> in the next two quarters should get significantly easier for Apple.</p>\\r\\n<p>UBS maintains a Buy rating and $151 price target for Apple stock.</p>\",\n",
      "        \"created_at\": \"2017-03-13T15:40:34Z\",\n",
      "        \"headline\": \"Why Apple Needs China Growth To Strengthen This Year\",\n",
      "        \"id\": 9163979,\n",
      "        \"images\": [],\n",
      "        \"source\": \"\",\n",
      "        \"summary\": \"\",\n",
      "        \"symbols\": [\n",
      "            \"AAPL\",\n",
      "            \"APPL\"\n",
      "        ],\n",
      "        \"updated_at\": \"2017-03-13T15:40:34Z\",\n",
      "        \"url\": \"https://www.benzinga.com/node/9163979\"\n",
      "    },\n",
      "    {\n",
      "        \"author\": \"Benzinga\",\n",
      "        \"content\": \"\",\n",
      "        \"created_at\": \"2017-03-13T15:44:56Z\",\n",
      "        \"headline\": \"Re/code Publishes 'Snap hired Apple News's former media boss to work on its Discover section'\",\n",
      "        \"id\": 9164379,\n",
      "        \"images\": [],\n",
      "        \"source\": \"\",\n",
      "        \"summary\": \"\",\n",
      "        \"symbols\": [\n",
      "            \"AAPL\",\n",
      "            \"SNAP\"\n",
      "        ],\n",
      "        \"updated_at\": \"2017-03-13T15:44:56Z\",\n",
      "        \"url\": \"https://www.benzinga.com/node/9164379\"\n",
      "    },\n",
      "    {\n",
      "        \"author\": \"Benzinga\",\n",
      "        \"content\": \"\",\n",
      "        \"created_at\": \"2017-03-13T16:06:27Z\",\n",
      "        \"headline\": \"MacRumors Alert Shows 'Apple Expected to Announce New Products as Soon as Next Week, Supply Chain Sources Say'\",\n",
      "        \"id\": 9164507,\n",
      "        \"images\": [],\n",
      "        \"source\": \"\",\n",
      "        \"summary\": \"\",\n",
      "        \"symbols\": [\n",
      "            \"AAPL\"\n",
      "        ],\n",
      "        \"updated_at\": \"2017-03-13T16:06:27Z\",\n",
      "        \"url\": \"https://www.benzinga.com/node/9164507\"\n",
      "    },\n",
      "    {\n",
      "        \"author\": \"Benzinga\",\n",
      "        \"content\": \"<p>When it comes to the environmental, social and governance (ESG) investing theme, investors have a growing number of options among equity-based exchange traded funds.</p>\\r\\n<p>The &ldquo;E&rdquo; in ESG is particularly easy to access as investors can find ETFs that do everything from exclude the energy sector to focusing on companies with low carbon footprints. Until now, green investing via ETFs for fixed income investors has been more difficult. The newly minted <b>VanEck Vectors Green Bond ETF</b> (NYSE:<a class=\\\"ticker\\\" href=\\\"/stock/GRNB#NYSE\\\">GRNB</a>) changes that.</p>\\r\\n<p>GRNB debuted almost two weeks ago as the first ETF dedicated to green bonds. GRNB follows the S&amp;P Green Bond Select Index, which is &ldquo;is comprised of labeled green bonds that are issued to finance environmentally friendly projects, and includes bonds issued by supranational, government, and corporate issuers globally in multiple currencies,&rdquo; according to VanEck.</p>\\r\\n<p>While GRNB is new, its index is a little more seasoned, having debuted in 2014. And while green bonds may sound like a niche segment of the massive overall bond market, there&#39;s no denying the growth in issuance of these bonds. Last year, $82 billion in green bonds were issued and that number is expected to jump to $150 billion this year, <a href=\\\"https://www.vaneck.com/etf/income/grnb/overview/\\\">according to VanEck</a>.&nbsp;</p>\\r\\n<p>&ldquo;However, the speed and momentum at which the green bond market can develop in 2017 and beyond depends on multiple variables, including policy and regulatory factors, market conditions, and financing trend,&rdquo; said <a href=\\\"http://www.indexologyblog.com/2017/03/10/the-rise-of-green-bonds/\\\">S&amp;P Dow Jones Indices</a>. &ldquo;It faces a range of specific challenges and barriers, such as underdeveloped domestic bond markets, issuers&rsquo; views on costs versus benefits, a mismatch between projects, bonds, and institutional investors, and a lack of commonly accepted green standards and definitions.&rdquo;&nbsp;</p>\\r\\n<p>GRNB has an effective duration of 6.3 years and a yield to worst of 1.66 percent. The new ETF holds 41 bonds, including issues from <b>Apple Inc.</b> (NASDAQ:<a class=\\\"ticker\\\" href=\\\"/stock/AAPL#NASDAQ\\\">AAPL</a>) and <b>Bank of America Corp.</b> (NYSE:<a class=\\\"ticker\\\" href=\\\"/stock/BAC#NYSE\\\">BAC</a>) as well as green debt issued by European companies and governments.</p>\\r\\n<p>&ldquo;Increasingly, market participants are calling for more alignment and single metrics for green bond assessments to speed up market growth,&rdquo; said S&amp;P Dow Jones. &ldquo;Over the course of 2017, we can expect to see further standardization and alignment of green bond assessment frameworks.&rdquo;</p>\\r\\n\",\n",
      "        \"created_at\": \"2017-03-13T18:17:20Z\",\n",
      "        \"headline\": \"Going Green With A Bond ETF\",\n",
      "        \"id\": 9161625,\n",
      "        \"images\": [],\n",
      "        \"source\": \"\",\n",
      "        \"summary\": \"\",\n",
      "        \"symbols\": [\n",
      "            \"AAPL\",\n",
      "            \"BAC\",\n",
      "            \"GRNB\"\n",
      "        ],\n",
      "        \"updated_at\": \"2017-03-13T18:17:21Z\",\n",
      "        \"url\": \"https://www.benzinga.com/node/9161625\"\n",
      "    },\n",
      "    {\n",
      "        \"author\": \"Benzinga\",\n",
      "        \"content\": \"<p>After all the <a href=\\\"https://www.benzinga.com/analyst-ratings/analyst-color/17/02/9107866/snap-ipo-lock-up-period-said-to-be-12-months-why-so-\\\">IPO-related buzz</a>, <strong>Snap Inc</strong> (NYSE:<a class=\\\"ticker\\\" href=\\\"/stock/SNAP#NYSE\\\">SNAP</a>) means business now. Turning its focus back on fundamentals, the ephemeral photo and video messaging platform has announced a prized poach.</p>\\r\\n<p><a href=\\\"http://www.recode.net/2017/3/13/14899810/snap-discover-apple-news-donna-ogier\\\">Recode</a> reported Monday Snap has hired former Senior Publisher Relations Manager of <strong>Apple Inc.&#39;s</strong> (NASDAQ:<a class=\\\"ticker\\\" href=\\\"/stock/AAPL#NASDAQ\\\">AAPL</a>) <a href=\\\"https://www.benzinga.com/news/16/12/8849909/snaps-pitch-to-investors-were-more-like-apple-and-facebook-less-like-twitter\\\">Apple News</a>, Donna Ogier.</p>\\r\\n<p>Parsing the LinkedIn profile of Ogier, Recode has come to gain cognizance of the changeover. The profile suggests Orier has been Global Publishing Manager at Snap since February.</p>\\r\\n<h3>\\r\\n\\tRe(discover)ing Publisher Partnerships</h3>\\r\\n<p>Recode suggests Ogier will work on Snapchat&#39;s Discover section. She would report to David Brinker, who joined the company in October to oversee business development related to Snap&#39;s content efforts. Prior to joining Snapchat, Brinker was employed as the President of the New York Post.</p>\\r\\n<p><a href=\\\"https://www.snap.com/en-US/news/post/introducing-discover/\\\">Snapchat</a> launched the Discover feature in January 2015 and was seen as the company&#39;s thrust to capitalize on the paradigm &ndash; content is king. TechCrunch termed the feature as an always-on, daily refreshed channel guide distributing content, with brand advertisements thrown around it.</p>\\r\\n<p>Snapchat, according to Recode, is finicky about the publishers it will work with. Consequently, many content creators or publishers were rejected in the past. Snap is now forcing its publishers to create exclusive content such as shows, short TV-like episodes.</p>\\r\\n<p>Recode also reported Snap might seek to license some of this content, just so it can avoid sharing revenues.</p>\\r\\n<p>Though Ogier&#39;s role isn&#39;t clear, it&#39;s believed she might be liaising with Snapchat&#39;s publishing partners, the same role she donned at Apple.</p>\\r\\n<p><em>See Also:</em></p>\\r\\n<p><em><a href=\\\"https://www.benzinga.com/analyst-ratings/analyst-color/17/03/9146608/snap-falls-below-opening-price-how-long-did-twitter-and-\\\">Snap Falls Below Opening Price; How Long Did Twitter And Facebook Take To Do The Same? </a></em></p>\\r\\n<p><em><a href=\\\"https://www.benzinga.com/news/17/03/9153375/facebook-takes-a-page-out-of-snaps-book-again\\\">Facebook Takes A Page Out Of Snap&#39;s Book... Again </a></em></p>\",\n",
      "        \"created_at\": \"2017-03-13T18:41:46Z\",\n",
      "        \"headline\": \"Meet The Woman Charged With Helping Snap Improve Its Discover Section\",\n",
      "        \"id\": 9165153,\n",
      "        \"images\": [],\n",
      "        \"source\": \"\",\n",
      "        \"summary\": \"\",\n",
      "        \"symbols\": [\n",
      "            \"AAPL\",\n",
      "            \"SNAP\"\n",
      "        ],\n",
      "        \"updated_at\": \"2017-03-13T18:41:47Z\",\n",
      "        \"url\": \"https://www.benzinga.com/node/9165153\"\n",
      "    },\n",
      "    {\n",
      "        \"author\": \"Benzinga\",\n",
      "        \"content\": \"<p>Ever since the election, traders have been trying to determine which stocks are in the best position to benefit from President Donald Trump&rsquo;s <a href=\\\"https://www.benzinga.com/analyst-ratings/analyst-color/17/03/9114800/infrastructure-immigration-and-7-key-takeaways-from-trum\\\">proposed plan </a>for $1 trillion in infrastructure spending over the next decade.</p>\\r\\n<p>Construction and materials stocks could certainly get a boost from a huge infrastructure investment, but the biggest beneficiary may be an unlikely name.</p>\\r\\n<p>While it may not be directly impacted by infrastructure spending,<strong> Apple Inc.</strong> (NASDAQ:<a class=\\\"ticker\\\" href=\\\"/stock/AAPL#NASDAQ\\\">AAPL</a>) is positioned to be a major indirect winner.</p>\\r\\n<p>President Trump has proposed that the massive infrastructure project can be paid for via the aggressive tax reform plans that the administration has.</p>\\r\\n<p>&ldquo;The most oft-mentioned revenue source has been a &lsquo;deemed&rsquo; repatriation tax on companies&rsquo; overseas earnings of as much as 10%, as in Trump&rsquo;s tax plan,&rdquo; Height Securities explains.</p>\\r\\n<p><em>Related Link: <a href=\\\"https://www.benzinga.com/analyst-ratings/analyst-color/17/03/9163979/why-apple-needs-china-growth-to-strengthen-this-year\\\">Why Apple Needs China Growth To Strengthen This Year</a></em></p>\\r\\n<p>American companies have billions of dollars stuck overseas that they can&rsquo;t currently access because they are unwilling to pay U.S. taxes to get the money back into the country. Trump has proposed a one-time repatriation holiday with rates as low as 10 percent and then a permanent corporate tax cut from 35 percent to 20 percent.</p>\\r\\n<p>No American company has more cash overseas <a href=\\\"https://www.benzinga.com/analyst-ratings/analyst-color/17/03/9163979/why-apple-needs-china-growth-to-strengthen-this-year\\\">than Apple</a>. In January, CEO <a href=\\\"http://appleinsider.com/articles/17/01/31/tim-cook-repatriation-of-231b-in-overseas-cash-would-be-very-good-for-the-country-and-good-for-apple\\\">Tim Cook</a> said a repatriation window would be &ldquo;very good for the country and good for Apple.&rdquo;</p>\\r\\n<p>Apple currently has $231.3 billion overseas in tax shelters. A 10 percent repatriation holiday would allow Apple to save nearly $58 billion in taxes if they take advantage of the opportunity. At the same time, the government would generate more than $23 billion in tax revenue from Apple alone.</p>\",\n",
      "        \"created_at\": \"2017-03-13T19:20:23Z\",\n",
      "        \"headline\": \"Why Apple Is The Biggest Winner Of Trump's Infrastructure Plan\",\n",
      "        \"id\": 9165497,\n",
      "        \"images\": [],\n",
      "        \"source\": \"\",\n",
      "        \"summary\": \"\",\n",
      "        \"symbols\": [\n",
      "            \"AAPL\",\n",
      "            \"IGF\"\n",
      "        ],\n",
      "        \"updated_at\": \"2017-03-13T19:20:24Z\",\n",
      "        \"url\": \"https://www.benzinga.com/node/9165497\"\n",
      "    },\n",
      "    {\n",
      "        \"author\": \"Benzinga\",\n",
      "        \"content\": \"\",\n",
      "        \"created_at\": \"2017-03-14T08:25:05Z\",\n",
      "        \"headline\": \"Apple Said to Launch 10.5-inch iPad at April Event -DigiTimes\",\n",
      "        \"id\": 9167301,\n",
      "        \"images\": [],\n",
      "        \"source\": \"\",\n",
      "        \"summary\": \"\",\n",
      "        \"symbols\": [\n",
      "            \"AAPL\"\n",
      "        ],\n",
      "        \"updated_at\": \"2017-03-14T08:25:05Z\",\n",
      "        \"url\": \"https://www.benzinga.com/node/9167301\"\n",
      "    },\n",
      "    {\n",
      "        \"author\": \"Benzinga\",\n",
      "        \"content\": \"<p>D.A. Davidson&rsquo;s Jack Andrews believes competition in <b>Tableau Software Inc&rsquo;s</b> (NYSE:<a class=\\\"ticker\\\" href=\\\"/stock/DATA#NYSE\\\">DATA</a>) core market continues to intensify, &ldquo;not only from a standalone analytics perspective, but also from the emerging trend whereby analytics capabilities are increasingly embedded within various enterprise applications.&rdquo;</p>\\r\\n<p>The analyst reiterated a Neutral rating on the company, while lowering the price target from $55 to $51.</p>\\r\\n<h3>\\r\\n\\tEroding TAM</h3>\\r\\n<p>Andrews mentioned data points over the past few weeks indicate the total addressable market opportunity for <a href=\\\"https://www.benzinga.com/news/17/03/9141670/tableau-software-may-face-a-very-high-profile-competitor-in-google\\\">Tableau Software</a> is slowly being &ldquo;contested and/or eroded&rdquo; by more &ldquo;heavyweight&rdquo; enterprise software firms.</p>\\r\\n<p>The analyst reported that on its Q4 FY2017 earnings call, <b>Workday Inc</b> (NYSE:<a class=\\\"ticker\\\" href=\\\"/stock/WDAY#NYSE\\\">WDAY</a>) expressed optimism regarding its upcoming incorporation of Prism analytics into Workday 29. The core technology that&#39;s powering Prism comes from Workday&rsquo;s recent acquisition, Platfora.</p>\\r\\n<p>&ldquo;WDAY&rsquo;s goal with Prism is to enable the creation of a virtual data warehouse to access all data in an enterprise and tie this to the organizational hierarchy,&rdquo; Andrews explained.</p>\\r\\n<p>Workday believes this technology could lead to meaningful cost and time savings.</p>\\r\\n<p><em>Related Link:&nbsp;<a href=\\\"https://www.benzinga.com/analyst-ratings/analyst-color/17/02/8978474/2017-is-a-wildcard-for-tableau-software\\\">2017 Is A Wildcard For Tableau Software</a></em></p>\\r\\n<h3>\\r\\n\\tIncreasing Competition</h3>\\r\\n<p>On the other hand, the analyst noted <b>ServiceNow Inc</b> (NYSE:<a class=\\\"ticker\\\" href=\\\"/stock/NOW#NYSE\\\">NOW</a>) was &ldquo;solidifying an analytics partnership&rdquo; with <b>Microsoft Corporation</b> (NASDAQ:<a class=\\\"ticker\\\" href=\\\"/stock/MSFT#NASDAQ\\\">MSFT</a>), &ldquo;which is part of a broader strategic alliance between the two companies.&rdquo;</p>\\r\\n<p>In addition, <b>Alphabet Inc&rsquo;s</b> (NASDAQ:<a class=\\\"ticker\\\" href=\\\"/stock/GOOGL#NASDAQ\\\">GOOGL</a>) Data Studio, launched in 2016, offers enterprises a data analysis and visualization tool that &ldquo;integrates across a range of Google products and external third-party data sources to create reports and dashboards.&rdquo;</p>\\r\\n<p>Data Studio has now expanded internationally for the first time across 180 countries, while withdrawing the five-report limit per account for its free version.</p>\\r\\n<p>&ldquo;While we anticipate this product offering is aimed at the low end of the market, we believe the ability for anyone to create unlimited reports will likely encourage smaller companies to remain within the Google Apps ecosystem, rather than sampling and becoming hooked on Tableau Online, for instance,&rdquo; Andrews went on to say.</p>\\r\\n<p>Apart from this intensifying competition. The analyst believes there are several variables at play with <a href=\\\"http://stocknewsjournal.com/2017/03/08/lookout-for-price-target-cadence-design-systems-inc-cdns-tableau-software-inc-data/\\\">Tableau Software</a> that indicate the need for caution at present.</p> \",\n",
      "        \"created_at\": \"2017-03-14T12:12:58Z\",\n",
      "        \"headline\": \"Tableau's Market Opportunity Is Gradually Being Eroded By More Heavyweight Enterprise Software Players\",\n",
      "        \"id\": 9168118,\n",
      "        \"images\": [],\n",
      "        \"source\": \"\",\n",
      "        \"summary\": \"\",\n",
      "        \"symbols\": [\n",
      "            \"DATA\",\n",
      "            \"GOOG\",\n",
      "            \"GOOGL\",\n",
      "            \"MSFT\",\n",
      "            \"NOW\",\n",
      "            \"WDAY\"\n",
      "        ],\n",
      "        \"updated_at\": \"2017-03-14T12:12:58Z\",\n",
      "        \"url\": \"https://www.benzinga.com/node/9168118\"\n",
      "    },\n",
      "    {\n",
      "        \"author\": \"Benzinga\",\n",
      "        \"content\": \"<p><strong>ParkerVision, Inc. </strong> (NASDAQ:<a class=\\\"ticker\\\" href=\\\"/stock/PRKR#NASDAQ\\\">PRKR</a>) went about a wild ride last week amid news of favorable patent decisions in a Inter Partes Review filed by <strong> QUALCOMM, Inc. </strong> (NASDAQ:<a class=\\\"ticker\\\" href=\\\"/stock/QCOM#NASDAQ\\\">QCOM</a>).</p>\\r\\n<p>The <a href=\\\"https://www.benzinga.com/trading-ideas/technicals/17/03/9146972/parkervision-another-case-of-sell-the-news\\\">stock</a> rallied 22.8 percent to $2.59 on Tuesday on whispers regarding the decision and gained 8.5 percent to $2.81 on Wednesday, when the company confirmed the news. Intra-day gains were a whopping 80 percent over the two sessions.</p>\\r\\n<p>The stock moved back and forth in the next two sessions. Come Monday, the stock plummeted. To the rally&#39;s credit, volumes were above-average, although Monday&#39;s retreat was on thin volume. The stock is down another 10 percent Tuesday at $2.</p>\\r\\n<h3>\\r\\n\\tNews Behind Last Week&#39;s Rally</h3>\\r\\n<p>ParkerVision announced last week the Patent Trial and Appeal Board&#39;s latest decisions with respect to the Inter Partes Review filed by QUALCOMM have increased the favorable rulings it has received to over six, with the latest decisions according three favorable verdicts.</p>\\r\\n<p>&quot;With these latest decisions, there are no further IPR&#39;s challenging ParkerVision patents currently before the PTAB,&quot; the company said in a release.</p>\\r\\n<h3>\\r\\n\\tWhat Changed this Week?</h3>\\r\\n<p>ParkerVision <a href=\\\"http://ir.parkervision.com/releasedetail.cfm?ReleaseID=1017059\\\">announced</a> Monday it&#39;s filing a motion to terminate its International Trade Commission, or ITC investigation following the Administrative Law Judge, or ALJ, disallowing key factual evidence in its ITC proceedings. The company became privy to the ALJ ruling just prior to the start of the ITC hearing, which was originally scheduled to begin on Monday.</p>\\r\\n<p>In December 2016, ParkerVision filed a complaint with the ITC, alleging that <strong> Apple Inc.</strong> (NASDAQ:<a class=\\\"ticker\\\" href=\\\"/stock/AAPL#NASDAQ\\\">AAPL</a>), Qualcomm, <strong> LG ELECTRONICS INC KRW5000 </strong> (OTC:<a class=\\\"ticker\\\" href=\\\"/stock/LGEAF#OTC\\\">LGEAF</a>) and <strong>SAMSUNG</strong> had infringed upon certain wireless networking patents.</p>\\r\\n<p>The company clarified Monday&#39;s decision to terminate is despite its preparedness to try its case based on evidence collected from respondents, which goes on to prove the accused products infringe the asserted claims of the &#39;528 patent.</p>\\r\\n<p>This termination, according to the company, would allow it to request removal of the current stay on the proceedings in two U.S. district court cases against Qualcomm and certain of its customers. Furthermore, this action has no impact on the ongoing infringement proceedings against LG and Apple in Germany, the company added.</p>\\r\\n<p>&quot;While we are disappointed that we were not allowed to present key evidence that could significantly impact the outcome of this case, we believe the termination of these proceedings is the appropriate strategic decision for the Company. Our objective to obtain fair compensation for Qualcomm&#39;s infringement of our patent rights remains unchanged, and we will continue to take steps toward pursuing this goal,&quot; ParkerVision CEO Jeffrey Parker said.</p>\\r\\n<p>Other patent plays such as <strong> RPX Corp </strong> (NASDAQ:<a class=\\\"ticker\\\" href=\\\"/stock/RPXC#NASDAQ\\\">RPXC</a>) and <strong> Spherix Inc </strong> (NASDAQ:<a class=\\\"ticker\\\" href=\\\"/stock/SPEX#NASDAQ\\\">SPEX</a>), which moved up strongly last week, have defied the selloff in ParkerVision.</p>\\r\\n<p><em>Related Links:</em></p>\\r\\n<p><em><a href=\\\"https://www.benzinga.com/news/17/03/9150217/your-guide-to-patent-play-exposure\\\">Your Guide To Patent Play Exposue</a></em></p>\\r\\n<p><em><a href=\\\"https://www.benzinga.com/general/travel/17/02/8986390/new-patent-shows-how-uber-wants-to-go-social\\\">New Patent Shows How Uber Wants To Go Social</a></em></p> \",\n",
      "        \"created_at\": \"2017-03-14T15:48:50Z\",\n",
      "        \"headline\": \"ParkerVision's 80% Gains Have Evaporated\",\n",
      "        \"id\": 9165629,\n",
      "        \"images\": [],\n",
      "        \"source\": \"\",\n",
      "        \"summary\": \"\",\n",
      "        \"symbols\": [\n",
      "            \"AAPL\",\n",
      "            \"LGEAF\",\n",
      "            \"PRKR\",\n",
      "            \"QCOM\",\n",
      "            \"RPXC\",\n",
      "            \"SPEX\"\n",
      "        ],\n",
      "        \"updated_at\": \"2017-03-14T15:48:51Z\",\n",
      "        \"url\": \"https://www.benzinga.com/node/9165629\"\n",
      "    },\n",
      "    {\n",
      "        \"author\": \"Benzinga\",\n",
      "        \"content\": \"\",\n",
      "        \"created_at\": \"2017-03-14T20:46:23Z\",\n",
      "        \"headline\": \"Apple Shares Up 0.02% After-Hours; Earlier Russia's Federal Antimonopoly Service Found Apple Guilty Of Fixing iPhone Prices In Russia\",\n",
      "        \"id\": 9171549,\n",
      "        \"images\": [],\n",
      "        \"source\": \"\",\n",
      "        \"summary\": \"\",\n",
      "        \"symbols\": [\n",
      "            \"AAPL\"\n",
      "        ],\n",
      "        \"updated_at\": \"2017-03-14T20:46:23Z\",\n",
      "        \"url\": \"https://www.benzinga.com/node/9171549\"\n",
      "    },\n",
      "    {\n",
      "        \"author\": \"Benzinga\",\n",
      "        \"content\": \"\",\n",
      "        \"created_at\": \"2017-03-15T08:16:37Z\",\n",
      "        \"headline\": \"Demand for LTPS LCD Panels Grows as AMOLED Panels in Short Supply -DigiTimes\",\n",
      "        \"id\": 9172825,\n",
      "        \"images\": [],\n",
      "        \"source\": \"\",\n",
      "        \"summary\": \"\",\n",
      "        \"symbols\": [\n",
      "            \"AAPL\",\n",
      "            \"AUO\",\n",
      "            \"SSNLF\"\n",
      "        ],\n",
      "        \"updated_at\": \"2017-03-15T08:16:37Z\",\n",
      "        \"url\": \"https://www.benzinga.com/node/9172825\"\n",
      "    },\n",
      "    {\n",
      "        \"author\": \"Benzinga\",\n",
      "        \"content\": \"<p><em>It&#39;s almost that time of year.</em></p>\\r\\n<p><em>The 2017 <a href=\\\"https://benzingafintechawards.com/\\\">Benzinga Global Fintech Awards</a> is a competition to showcase the companies with the most impressive technology that are paving the future in financial services and capital markets.</em></p>\\r\\n<p><em>To get you prepared for this year&#39;s awards, Benzinga will profile each <a href=\\\"http://www.benzinga.com/topic/fintech\\\">fintech </a>company that has applied. Want to get involved? Submit your company <a href=\\\"http://benzingafintechawards.com/submit-listing/?__hstc=258999573.96519b128d85586df43cd5a0a0e49802.1486407421811.1489522268212.1489574723261.71&amp;__hssc=258999573.13.1489574723261&amp;__hsfp=2635578825\\\">here</a>. For this installment, we spoke<strong> Ted Devine</strong>, CEO of Insureon (answers have been edited for length and clarity).</em></p>\\r\\n<h3>\\r\\n\\t<a href=\\\"http://www.insureon.com/\\\">Insureon</a></h3>\\r\\n<p><strong>What does your company do? What unique problem does it solve?</strong></p>\\r\\n<p>About 40 percent of small businesses have no insurance and 75 percent are significantly underinsured. That&#39;s a problem when something goes wrong and a business is faced with an unexpected bill, but it can also hamper growth. To get a commercial lease, for example, you almost always need a general liability insurance policy. And to work with big, high-paying clients, you&#39;ll usually need to show proof of E&amp;O coverage.</p>\\r\\n<p>But small businesses have always had trouble finding insurance. There are a few reasons why:</p>\\r\\n<ul>\\r\\n\\t<li>\\r\\n\\t\\tSmall commercial insurance policies aren&#39;t that expensive &ndash; often $500 per year or less. That&#39;s great for business owners, but means agents may not be motivated to do the work required to write these policies, given the relatively small potential premium and commission.</li>\\r\\n\\t<li>\\r\\n\\t\\tLocal agents may have access to only one insurance company. If that company doesn&#39;t offer coverage for your business, you&#39;re out of luck.</li>\\r\\n\\t<li>\\r\\n\\t\\tLocal agents can only do so much, so they may not have expertise writing for your industry. That means they may not know ways to save money or questions to ask to make sure your risks are truly covered.</li>\\r\\n</ul>\\r\\n<p>Insureon solves this by partnering with more than 100 carriers to cover businesses in more than 500 industries. Our proprietary technology means a business from anywhere in the country can apply online in just a few minutes and get access to the carriers that offer the coverage they need.</p>\\r\\n<p>Our commitment to best-in-class customer service means that every business we work with gets to talk to an agent who specializes in their industry before they choose a policy.</p>\\r\\n<p>Helping our customers understand how insurance fits into their overall business plan is important to us, so we also offer tools to help small-business owners understand their risk exposure and how to minimize it. One example is Policy Buddy, which a two-minute diagnostic that highlights policies a business is likely to need.</p>\\r\\n<p><strong>Who are your customers?</strong></p>\\r\\n<p>Insureon serves the large market of solopreneurs, micro-businesses, and companies with up to 20 employees. According to the SBA, there are over 25 million of these small businesses in the United States. Our customers span more than 500 industries, from IT professionals and consultants to small dentists and accounting practices.</p>\\r\\n<p><strong>How long have you been in business?</strong></p>\\r\\n<p>Insureon&#39;s roots go back to 1997, when the TechInsurance Group formed to offer small technology firms an online destination for buying business insurance. In 2011, the TechInsurance Group launched Insureon, which is now a leading online destination for any small business insurance needs, regardless of industry. Since founding, Insureon has helped more than 250,000 small businesses find coverage.</p>\\r\\n<p><strong>Where are you located?</strong></p>\\r\\n<p>We are headquartered in Chicago with offices in Texas and San Francisco.</p>\\r\\n<p><strong>Who is your company&#39;s leadership? What kind of experience do they have?</strong></p>\\r\\n<p>Before Insureon, I held senior level positions at Aon Corporation where I was President of Aon Risk Services, which had more than $5 billion in revenue and 28,000 employees worldwide. Before Aon, I spent 12 years as Director of McKinsey &amp; Company and am also the Founder and CEO of 1WORLD Sports, a Chicago-based nonprofit dedicated to inspiring at-risk youth to excel on and off the playing field.</p>\\r\\n<p>Jeff Somers is the President and Head of Retail at Insureon. Jeff joined Insureon in 2016 from a position as Chief Product Officer at<strong> Live Nation Entertainment, Inc.</strong> (NYSE:<a class=\\\"ticker\\\" href=\\\"/stock/LYV#NYSE\\\">LYV</a>)&#39;s Ticketmaster, where he led a 150-plus person team dedicated to the end-to-end optimization of client experiences. He has also held leadership positions with tech powerhouses <strong>eBay Inc</strong>(NYSE:<a class=\\\"ticker\\\" href=\\\"/stock/EBAY#NYSE\\\">EBAY</a>), <strong>Microsoft Corporation</strong> (NASDAQ:<a class=\\\"ticker\\\" href=\\\"/stock/MSFT#NASDAQ\\\">MSFT</a>), <strong>Zillow Group, Inc.</strong>(NASDAQ:<a class=\\\"ticker\\\" href=\\\"/stock/Z#NASDAQ\\\">Z</a>) and <strong>Amazon.com, Inc. </strong>(NASDAQ:<a class=\\\"ticker\\\" href=\\\"/stock/AMZN#NASDAQ\\\">AMZN</a>).</p>\\r\\n<p>Yuri Ter-Saakyants is the Chief Technology Officer at Insureon. Yuri oversees technology, engineering, development, and quality assurance for Insureon. His was previously Senior VP of Development with MediaBank where he grew the company from its startup phase, helped it implement a technology platform to suit the needs of the marketing world and built MediaBank&#39;s first-generation integrated digital workflow system.</p>\\r\\n<p><em>If you&#39;re looking for cool fintech startups and access to top financial institutions, and are sick of attending stuffy corporate conferences, the Benzinga Global Fintech Awards is the event for you. From its first year in 2015, the competition grew to over 250 applicants and over 500 attendees in 2016.</em></p>\\r\\n<p><em>Connect with us on social media &mdash; use the hashtag #BZAwards and #Fintech to spread the word!</em></p>\\r\\n<div id=\\\"widget-root\\\">\\r\\n\\t&nbsp;</div>\\r\\n<script type=\\\"text/javascript\\\" id=\\\"embed-me-31415\\\" class=\\\"embed-me-31415\\\">\\r\\n  (function() {function async_load(){var s=document.createElement('script');s.type='text/javascript';s.async=true;var theUrl='https://benzingafintechawards.com/api/widget.js';s.src=theUrl+( theUrl.indexOf(\\\"?\\\") >= 0 ? \\\"&\\\" : \\\"?\\\")+'ref='+encodeURIComponent(window.location.href);var embedder=document.getElementById('embed-me-31415');embedder.parentNode.insertBefore(s, embedder);} if (window.attachEvent) window.attachEvent('onload', async_load); else window.addEventListener('load', async_load, false);})();</script>\",\n",
      "        \"created_at\": \"2017-03-15T11:24:53Z\",\n",
      "        \"headline\": \"Insureon Looks To Serve The 75% Of Small Businesses That Are Underinsured\",\n",
      "        \"id\": 9165361,\n",
      "        \"images\": [],\n",
      "        \"source\": \"\",\n",
      "        \"summary\": \"\",\n",
      "        \"symbols\": [\n",
      "            \"AMZN\",\n",
      "            \"EBAY\",\n",
      "            \"LYV\",\n",
      "            \"MSFT\",\n",
      "            \"Z\"\n",
      "        ],\n",
      "        \"updated_at\": \"2017-03-15T11:24:53Z\",\n",
      "        \"url\": \"https://www.benzinga.com/node/9165361\"\n",
      "    },\n",
      "    {\n",
      "        \"author\": \"Benzinga\",\n",
      "        \"content\": \"<p>It&rsquo;s a generally a quiet time of the year for earnings and a lot of focus is on The Fed&rsquo;s March meeting, but tech heavyweight <strong><span>Oracle Corporation</span></strong><span> (NYSE:<a class=\\\"ticker\\\" href=\\\"/stock/ORCL#NYSE\\\">ORCL</a>) </span>earnings come out after market close today. Going into earnings, Oracle&rsquo;s stock price is up a little over 11% year-to-date and has outperformed the S&amp;P 500 (SPX) by just over 5%. But this is after underperforming the SPX by over 5% in 2016 and lagging the SPX by a substantial 18.8% in 2015.</p>\\r\\n<p>Oracle&rsquo;s earnings growth and stock performance has lagged the software industry&rsquo;s for several years. Some analysts thought this was due to concerns over the company&rsquo;s ability to transition its core business from declining hardware and software sales to cloud-based products. This has been a similar challenge facing other legacy tech companies like<strong> <span>Cisco Systems, Inc.</span></strong><span> (NASDAQ:<a class=\\\"ticker\\\" href=\\\"/stock/CSCO#NASDAQ\\\">CSCO</a>)</span> and <strong><span>Microsoft Corporation</span></strong><span> (NASDAQ:<a class=\\\"ticker\\\" href=\\\"/stock/MSFT#NASDAQ\\\">MSFT</a>)</span>. Oracle&rsquo;s total cloud revenue grew 62% year-over-year, to $1.05 billion, in the 2<sup>nd</sup> quarter &nbsp;and offset the enterprise database giant&rsquo;s 10% decline in hardware revenues and 4% decline in on-premise software revenues to keep total revenue flat to last year.</p>\\r\\n<p>In its last earnings release, Oracle issued less optimistic projections than it normally does and the company&rsquo;s earnings and revenue growth have faced downward pressure from a strong US dollar.</p>\\r\\n<h3>\\r\\n\\tBuying Up The Cloud</h3>\\r\\n<p>Oracle has made 40 acquisitions since 2012. Its most recent major acquisition was NetSuite for $9.3 billion in the second-half of 2016, which was its largest acquisition since it bought PeopleSoft for $10.3 billion in 2005. This will be the first full quarter that Oracle&rsquo;s earnings include recent acquisition NetSuite&rsquo;s results&mdash;which sells enterprise resource planning, or ERP, software. The acquisition could help Oracle strengthen its competitive position against other cloud-based companies&nbsp;</p>\\r\\n<div class=\\\"appbar-snippet-secondary\\\">\\r\\n\\t<span>like <strong>salesforce.com, inc.</strong> (NYSE:<a class=\\\"ticker\\\" href=\\\"/stock/CRM#NYSE\\\">CRM</a>)</span>.</div>\\r\\n<div class=\\\"appbar-snippet-secondary\\\">\\r\\n\\tRobert Weiler, the head of Oracle&rsquo;s Global Business Units group, said in a recent interview with Fortune Magazine&nbsp; &ldquo;we would only look for something that&rsquo;s in the cloud,&rdquo; when asked what he looks for in an acquisition.</div>\\r\\n<h3>\\r\\n\\tStacking Up Against The Competition</h3>\\r\\n<p>Competition in the tech sector shows no signs of slowing anytime soon among cloud-based and program-based companies like Salesforce and Oracle. The recurring subscription revenues and built in demand due to the need for continual upgrades with these products make them attractive areas for growth that companies will continue to invest in. But the more attractive the growth opportunity, the more attractive it is to the competition.</p>\\r\\n<p>Oracle has made it very clear that Infrastructure as a Service, the cloud market that has so far been dominated by<strong> <span>Amazon.com, Inc.</span></strong><span> (NASDAQ:<a class=\\\"ticker\\\" href=\\\"/stock/AMZN#NASDAQ\\\">AMZN</a>)</span> Web Services and Microsoft, is going to be a big focus for the company in the future. In 2016 at the Oracle OpenWorld conference, Oracle&rsquo;s Chief Technology Officer Larry Ellison said: &ldquo;Amazon is going to have serious competition going forward. And we are very proud of our second generation Infrastructure as a Service. We are going to be very aggressively focusing and aggressively featuring it. Not only at OpenWorld but for the rest of this fiscal year, and the next fiscal year and the year after that.&rdquo;</p>\\r\\n<p>The IaaS unit of Oracle&rsquo;s cloud business only grew 6% in the last quarter compared to 81% growth in the company&rsquo;s PaaS (Platform as a service), and SaaS (Software as a Service).</p>\\r\\n<p>One of Oracle&rsquo;s main competitors in cloud computing is Amazon Web Services, Amazon&rsquo;s subsidiary that provides a suite of cloud computing services. Amazon Web Services reported $3.53 billion in revenue for Q4 2016, up 47% from Q4 2015. To put that into perspective, Amazon&rsquo;s cloud business is more than three times larger than Oracle&rsquo;s in their most recent quarters.</p>\\r\\n<p>Can Oracle can keep up the rapid growth in its cloud business? The Q3 consensus earnings estimate from third-party Wall Street analysts is $0.62 a share, according to the Earnings Analysis tab on the thinkorswim&reg; platform from TD&nbsp;Ameritrade. Revenue is projected to increase to $9.22 billion, from $9.01 billion in Q3 last year.</p>\\r\\n<p>The options market has priced in an expected share price move of 3.2% in either direction around the earnings release, according to the Market Maker Move&trade; indicator on the thinkorswim&reg; platform.</p>\\r\\n<p>Calls have been active at the weekly 43 and 44 strikes while puts have seen activity at the 42 strike. The implied volatility sits at the 40<sup>th</sup> percentile. (Please remember past performance is no guarantee of future results.)</p>\\r\\n<p><i>Note: Call options represent the right, but not the obligation, to buy the underlying security at a predetermined price over a set period of time. Put options represent the right, but not the obligation, to sell the underlying security at a predetermined price over a set period of time.</i></p>\\r\\n<p><a href=\\\"https://www.benzinga.com/imce?app=nomatter%7Cimceload@imceInline.load#\\\" onclick=\\\"imce.send('screen_shot_2017-03-15_at_11.08.07_am.png'); return false;\\\" title=\\\"Insert file\\\"><img alt=\\\"screen_shot_2017-03-15_at_11.08.07_am.png\\\" height=\\\"712\\\" src=\\\"https://www.benzinga.com/files/u105576/screen_shot_2017-03-15_at_11.08.07_am.png\\\" width=\\\"784\\\" /></a></p>\\r\\n<h3>\\r\\n\\tLooking Ahead</h3>\\r\\n<p>We&rsquo;re not even close to the height of earnings season and there&rsquo;s still over a month to go before earnings from Oracle&rsquo;s main competitors like Microsoft, <strong><span>International Business Machines Corp.</span></strong><span> (NYSE:<a class=\\\"ticker\\\" href=\\\"/stock/IBM#NYSE\\\">IBM</a>)</span> and Salesforce. While investors will be keeping a close eye on Oracle&rsquo;s cloud growth in Q3, they&rsquo;ll want to see how it stacks up to the competition. There&rsquo;s a lot of big players focused on cloud computing and they have the resources to go after pretty much any attractive growth opportunity in the space. It could be a while before the dust settles and we see who the cloud computing leaders will be.</p>\\r\\n \",\n",
      "        \"created_at\": \"2017-03-15T15:15:19Z\",\n",
      "        \"headline\": \"Can Oracle Keep Up Its Cloud Revenue Growth In The Third Quarter?\",\n",
      "        \"id\": 9175101,\n",
      "        \"images\": [],\n",
      "        \"source\": \"\",\n",
      "        \"summary\": \"\",\n",
      "        \"symbols\": [\n",
      "            \"AMZN\",\n",
      "            \"CRM\",\n",
      "            \"CSCO\",\n",
      "            \"IBM\",\n",
      "            \"MSFT\",\n",
      "            \"ORCL\"\n",
      "        ],\n",
      "        \"updated_at\": \"2017-03-15T15:15:21Z\",\n",
      "        \"url\": \"https://www.benzinga.com/node/9175101\"\n",
      "    },\n",
      "    {\n",
      "        \"author\": \"Benzinga\",\n",
      "        \"content\": \"<p>Airpods, the wireless headphones from <strong>Apple Inc. </strong>(NASDAQ:<a class=\\\"ticker\\\" href=\\\"/stock/AAPL#NASDAQ\\\">AAPL</a>), are a step towards future of computing, <a href=\\\"http://loupventures.com/airpods-the-first-mass-market-hearable/\\\">according to Andrew Murphy</a> of Loup Ventures.</p>\\r\\n<p>The wireless earbuds that went on sale in December are an instant hit. In fact, Apple has become an leader in the online wireless headphone market and now accounts for 26 percent of sales in the sector, according to a <a href=\\\"https://www.benzinga.com/news/17/01/8905379/apples-airpod-success-headphone-users-show-theyre-willing-to-cut-the-cord\\\">recent data</a> from Slice Intelligence.</p>\\r\\n<p>As a whole, 75 percent of headphones sold online in the month of December were wireless, Slice said. Apple accounts for another 15.4 percent of the sector due to its ownership of the Beats brand, which led the sector prior to the introduction of AirPod.</p>\\r\\n<h3>\\r\\n\\t<strong>Airpods &ndash; The Hearables</strong></h3>\\r\\n<p>Murphy calls voice-controlled wearables, like AirPods, as &ldquo;hearables.&rdquo; He said AirPods represents a giant leap forward for audio as a user interface and is a key enabler of AR (augmented reality) technology.</p>\\r\\n<p>Murphy noted that using AirPods necessarily means using your phone less frequently, or at least pulling it out of your purse or your pocket less frequently.</p>\\r\\n<p>&ldquo;AirPods can handle information requests, dictation, media control, and phone calls; meanwhile, quick glances at the Apple Watch on your wrist will suffice for most notifications. All of this means that your phone stays in your pocket,&rdquo; Murphy wrote.</p>\\r\\n<h3>\\r\\n\\t<strong>Survey Findings</strong></h3>\\r\\n<p>Loup Ventures surveyed 55 AirPods users to better understand the state of the early hearables market. The findings showed <a href=\\\"http:// https://www.benzinga.com/tech/16/09/8478299/3-major-flaws-with-apples-airpods\\\">AirPods</a> received a net promoter score (NPS) of -2, which means the number of detractors, passives and promoters were split roughly in thirds, with slightly more detractors than promoters.</p>\\r\\n<p>Among detractors and passives, half identified the ear fit as the opportunity for improvement, not the software or functionality.</p>\\r\\n<p>&ldquo;AirPods <a href=\\\"https://www.benzinga.com/top-stories/16/09/8456778/tim-cook-swats-at-apple-airpods-concerns\\\">may not be perfect</a>, but they&rsquo;ll get better, smarter, and easier to use. They are just the beginning for hearables and a new wave of computing,&rdquo; Murphy added.</p>\\r\\n<p><em>Related:</em></p>\\r\\n<p><em><a href=\\\"https://www.benzinga.com/trading-ideas/long-ideas/17/03/9165497/why-apple-is-the-biggest-winner-of-trumps-infrastructure-plan\\\">Why Apple Is The Biggest Winner Of Trump&#39;s Infrastructure Plan</a></em></p>\\r\\n<p><em><a href=\\\"https://www.benzinga.com/analyst-ratings/analyst-color/17/03/9163979/why-apple-needs-china-growth-to-strengthen-this-year\\\">Why Apple Needs China Growth To Strengthen This Year</a></em></p>\\r\\n<p>Image:<a href=\\\"https://www.flickr.com/photos/92414546@N04/31716040566/in/photolist-6a7MjQ-LCgYNb-QjCZTC-65uYwS-6Kv79n-6KzekQ-6Kvcxv-6Kvaz6-6Kzjy1-6Kvbda-6KvanK-6KziNN-6KuBHn-6Kzi9C-6Kzaoj-6Kv6Yv-6KvaeD-6Kv76T-6KzeuW-6KzjNu-6KzesS-6KvkQK-5z5eDE-6Kzj9J-6KvaUZ-L7D6nA-L7D2Tm-L7D33Q-6KvkxR-6Kzeo9-6KuEdt-6Kv7cK-6KuDu8-L7D6d7-LWNYiK-6Kzjj9-6KyMUb-6KyKgW-6Kv7aV-6KyN4L-L7D651-6KyLnN-6KvmtD-L7PY3T-LWNYop-6Kv3gz-6KyNdC-6KyMpJ-L7PYE4-LChf1A\\\"> Dave Doe, Flickr</a></p>\\r\\n\",\n",
      "        \"created_at\": \"2017-03-15T15:45:20Z\",\n",
      "        \"headline\": \"Apple's Airpods Are The First Mass Market 'Hearable'\",\n",
      "        \"id\": 9174931,\n",
      "        \"images\": [],\n",
      "        \"source\": \"\",\n",
      "        \"summary\": \"\",\n",
      "        \"symbols\": [\n",
      "            \"AAPL\"\n",
      "        ],\n",
      "        \"updated_at\": \"2017-03-15T15:45:20Z\",\n",
      "        \"url\": \"https://www.benzinga.com/node/9174931\"\n",
      "    },\n",
      "    {\n",
      "        \"author\": \"Benzinga\",\n",
      "        \"content\": \"\",\n",
      "        \"created_at\": \"2017-03-15T16:27:21Z\",\n",
      "        \"headline\": \"Hearing Goldman Sachs Out Positive On Apple\",\n",
      "        \"id\": 9175651,\n",
      "        \"images\": [],\n",
      "        \"source\": \"\",\n",
      "        \"summary\": \"\",\n",
      "        \"symbols\": [\n",
      "            \"AAPL\"\n",
      "        ],\n",
      "        \"updated_at\": \"2017-03-15T16:27:23Z\",\n",
      "        \"url\": \"https://www.benzinga.com/node/9175651\"\n",
      "    },\n",
      "    {\n",
      "        \"author\": \"Benzinga\",\n",
      "        \"content\": \"\",\n",
      "        \"created_at\": \"2017-03-15T17:37:20Z\",\n",
      "        \"headline\": \"Hearing Goldman Out Positive On Apple, Citing Positive iPhone Datapoints From Taiwan And China\",\n",
      "        \"id\": 9176056,\n",
      "        \"images\": [],\n",
      "        \"source\": \"\",\n",
      "        \"summary\": \"\",\n",
      "        \"symbols\": [\n",
      "            \"AAPL\"\n",
      "        ],\n",
      "        \"updated_at\": \"2017-03-15T17:37:21Z\",\n",
      "        \"url\": \"https://www.benzinga.com/node/9176056\"\n",
      "    },\n",
      "    {\n",
      "        \"author\": \"Benzinga\",\n",
      "        \"content\": \"<p><b>Apple Inc.</b> (NASDAQ:<a class=\\\"ticker\\\" href=\\\"/stock/AAPL#NASDAQ\\\">AAPL</a>) was <a href=\\\"https://www.benzinga.com/stock/aapl\\\">trading</a> at its highest levels ever on Wednesday after analysts at Goldman Sachs came out with a positive report on the company&#39;s outlook.</p>\\r\\n<p>Goldman Sachs&#39; analyst <a href=\\\"http://www.benzinga.com/topic/simona-jankowski\\\">Simona Jankowski</a> said in a report checks from Apple&#39;s supply chain bode well for iPhone sales in the quarter. Analysts typically examine Apple&#39;s supply chain for any sort of signs that can lead to a conclusion on iPhone sales.</p>\\r\\n<p>For example, if companies within Apple&#39;s supply chain - which is said to be the <a href=\\\"http://www.recode.net/2016/8/30/12700248/apple-success-secret-supply-chain-manufacturing-tim-cook\\\">most efficient</a> in the world - report higher revenue then it&#39;s logical to conclude the companies were busy fulfilling incremental products for Apple.This happened to be case, according to Jankowski, as the simple average of quarterly year-over-year growth of six of Apple&#39;s biggest suppliers in China and Taiwan were indeed higher in the first quarter.</p>\\r\\n<p>Jankowski did note this methodology is more of a &quot;directional guide&quot; and not a precise forecast.</p>\\r\\n<h3>\\r\\n\\tStrong Seasonality In February</h3>\\r\\n<p>The six suppliers the analyst tracks reported sales were high by 27 percent year-over-year in February and down 18 percent month-over-month versus a three-year average month-over-month seasonality of down 34 percent.</p>\\r\\n<p>Moreover, the trailing two-month sales period for January and February were 16 percent higher on a year-over-year basis.</p>\\r\\n<h3>\\r\\n\\tChina&#39;s MIIT</h3>\\r\\n<p>Finally, the analyst noted that based on China&#39;s Ministry of Industry and Information Technology&#39;s (MIIT) monthly data report, smartphone shipments in China rose 12 percent on a year-over-year basis during the first two months of 2017 to 72.8 million.</p>\\r\\n<p>The reports also stated Android shipments rose just 5 percent to 58.3 million and non-Android shipments soared 50 percent to 14.5 million.</p>\\r\\n<p>This could point to a rebound in iPhone shipments in China, as iPhones comprise the majority of non Android shipments; however, the data-set can be volatile,&quot; the analyst concluded.</p>\\r\\n<p>The stock traded recently above $140.</p>\\r\\n<p><em>See Also:</em></p>\\r\\n<p><em><a href=\\\"https://www.benzinga.com/analyst-ratings/analyst-color/17/03/9174931/apples-airpods-are-the-first-mass-market-hearable\\\">Apple&#39;s Airpods Are The First Mass Market &#39;Hearable&#39;</a></em></p>\\r\\n<p><em><a href=\\\"https://www.benzinga.com/trading-ideas/long-ideas/17/03/9165497/why-apple-is-the-biggest-winner-of-trumps-infrastructure-plan\\\">Why Apple Is The Biggest Winner Of Trump&#39;s Infrastructure Plan</a></em></p>\",\n",
      "        \"created_at\": \"2017-03-15T18:47:20Z\",\n",
      "        \"headline\": \"Apple Hits New All-Time High As Goldman Highlights Positive iPhone Data Out of China, Taiwan\",\n",
      "        \"id\": 9176315,\n",
      "        \"images\": [],\n",
      "        \"source\": \"\",\n",
      "        \"summary\": \"\",\n",
      "        \"symbols\": [\n",
      "            \"AAPL\"\n",
      "        ],\n",
      "        \"updated_at\": \"2017-03-15T18:47:20Z\",\n",
      "        \"url\": \"https://www.benzinga.com/node/9176315\"\n",
      "    },\n",
      "    {\n",
      "        \"author\": \"Benzinga\",\n",
      "        \"content\": \"\",\n",
      "        \"created_at\": \"2017-03-15T19:31:43Z\",\n",
      "        \"headline\": \"Apple Shares Make New 52-Week High Of $140.68\",\n",
      "        \"id\": 9176808,\n",
      "        \"images\": [],\n",
      "        \"source\": \"\",\n",
      "        \"summary\": \"\",\n",
      "        \"symbols\": [\n",
      "            \"AAPL\"\n",
      "        ],\n",
      "        \"updated_at\": \"2017-03-15T19:31:43Z\",\n",
      "        \"url\": \"https://www.benzinga.com/node/9176808\"\n",
      "    },\n",
      "    {\n",
      "        \"author\": \"Benzinga\",\n",
      "        \"content\": \"<p><strong>Apple Inc.</strong> (NASDAQ:<a class=\\\"ticker\\\" href=\\\"/stock/AAPL#NASDAQ\\\">AAPL</a>) shares closed higher by $1.47 at $140.46 in Wednesday&#39;s session.</p>\\r\\n<p>Along with a strong rally in the broad market, positive comments from Goldman Sachs helped propel the issue to a new all-time high.</p>\\r\\n<p><em>See Also: <a href=\\\"https://www.benzinga.com/analyst-ratings/analyst-color/17/03/9176315/apple-hits-new-all-time-high-as-goldman-highlights-posit\\\">Apple Hits New All-Time High As Goldman Highlights Positive iPhone Data Out of China, Taiwan</a></em></p>\\r\\n<p>Following a higher open, Apple&#39;s stock retreated and found support just ahead of Tuesday&#39;s close ($138.99) at $139.02 and began to move higher. The ensuing rally surpassed its former all-time high of $140.28.</p>\\r\\n<p>In order to post all new all-time closing, it needed to end the session above $139.78.</p>\",\n",
      "        \"created_at\": \"2017-03-15T20:08:28Z\",\n",
      "        \"headline\": \"Apple Closes Above $140, New All-Time High\",\n",
      "        \"id\": 9176551,\n",
      "        \"images\": [],\n",
      "        \"source\": \"\",\n",
      "        \"summary\": \"\",\n",
      "        \"symbols\": [\n",
      "            \"AAPL\"\n",
      "        ],\n",
      "        \"updated_at\": \"2017-03-15T20:08:29Z\",\n",
      "        \"url\": \"https://www.benzinga.com/node/9176551\"\n",
      "    }\n",
      "]\n"
     ]
    }
   ],
   "source": [
    "import json\n",
    "\n",
    "print(json.dumps(real_news, indent=4))"
   ]
  }
 ],
 "metadata": {
  "kernelspec": {
   "display_name": "stocks_stats",
   "language": "python",
   "name": "python3"
  },
  "language_info": {
   "codemirror_mode": {
    "name": "ipython",
    "version": 3
   },
   "file_extension": ".py",
   "mimetype": "text/x-python",
   "name": "python",
   "nbconvert_exporter": "python",
   "pygments_lexer": "ipython3",
   "version": "3.8.19"
  }
 },
 "nbformat": 4,
 "nbformat_minor": 2
}
