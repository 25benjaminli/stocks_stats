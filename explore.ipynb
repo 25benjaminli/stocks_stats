{
 "cells": [
  {
   "cell_type": "code",
   "execution_count": 1,
   "metadata": {},
   "outputs": [],
   "source": [
    "import yfinance as yf\n",
    "import pandas as pd\n",
    "from pygooglenews import GoogleNews\n",
    "# https://github.com/kotartemiy/pygooglenews?tab=readme-ov-file\n",
    "# tickers.tickers['AAPL'].news[0]"
   ]
  },
  {
   "cell_type": "code",
   "execution_count": 2,
   "metadata": {},
   "outputs": [
    {
     "name": "stdout",
     "output_type": "stream",
     "text": [
      "Collecting pygooglenews\n",
      "  Downloading pygooglenews-0.1.2-py3-none-any.whl.metadata (19 kB)\n",
      "Requirement already satisfied: beautifulsoup4<5.0.0,>=4.9.1 in /Users/benjaminli/opt/miniconda3/envs/stocks_stats/lib/python3.10/site-packages (from pygooglenews) (4.12.3)\n",
      "Collecting dateparser<0.8.0,>=0.7.6 (from pygooglenews)\n",
      "  Downloading dateparser-0.7.6-py2.py3-none-any.whl.metadata (26 kB)\n",
      "Collecting feedparser<6.0.0,>=5.2.1 (from pygooglenews)\n",
      "  Using cached feedparser-5.2.1-py3-none-any.whl\n",
      "Requirement already satisfied: requests<3.0.0,>=2.24.0 in /Users/benjaminli/opt/miniconda3/envs/stocks_stats/lib/python3.10/site-packages (from pygooglenews) (2.31.0)\n",
      "Requirement already satisfied: soupsieve>1.2 in /Users/benjaminli/opt/miniconda3/envs/stocks_stats/lib/python3.10/site-packages (from beautifulsoup4<5.0.0,>=4.9.1->pygooglenews) (2.5)\n",
      "Requirement already satisfied: python-dateutil in /Users/benjaminli/opt/miniconda3/envs/stocks_stats/lib/python3.10/site-packages (from dateparser<0.8.0,>=0.7.6->pygooglenews) (2.9.0)\n",
      "Requirement already satisfied: pytz in /Users/benjaminli/opt/miniconda3/envs/stocks_stats/lib/python3.10/site-packages (from dateparser<0.8.0,>=0.7.6->pygooglenews) (2024.1)\n",
      "Requirement already satisfied: regex!=2019.02.19 in /Users/benjaminli/opt/miniconda3/envs/stocks_stats/lib/python3.10/site-packages (from dateparser<0.8.0,>=0.7.6->pygooglenews) (2024.4.16)\n",
      "Collecting tzlocal (from dateparser<0.8.0,>=0.7.6->pygooglenews)\n",
      "  Downloading tzlocal-5.2-py3-none-any.whl.metadata (7.8 kB)\n",
      "Requirement already satisfied: charset-normalizer<4,>=2 in /Users/benjaminli/opt/miniconda3/envs/stocks_stats/lib/python3.10/site-packages (from requests<3.0.0,>=2.24.0->pygooglenews) (3.3.2)\n",
      "Requirement already satisfied: idna<4,>=2.5 in /Users/benjaminli/opt/miniconda3/envs/stocks_stats/lib/python3.10/site-packages (from requests<3.0.0,>=2.24.0->pygooglenews) (3.7)\n",
      "Requirement already satisfied: urllib3<3,>=1.21.1 in /Users/benjaminli/opt/miniconda3/envs/stocks_stats/lib/python3.10/site-packages (from requests<3.0.0,>=2.24.0->pygooglenews) (2.2.1)\n",
      "Requirement already satisfied: certifi>=2017.4.17 in /Users/benjaminli/opt/miniconda3/envs/stocks_stats/lib/python3.10/site-packages (from requests<3.0.0,>=2.24.0->pygooglenews) (2024.2.2)\n",
      "Requirement already satisfied: six>=1.5 in /Users/benjaminli/opt/miniconda3/envs/stocks_stats/lib/python3.10/site-packages (from python-dateutil->dateparser<0.8.0,>=0.7.6->pygooglenews) (1.16.0)\n",
      "Downloading pygooglenews-0.1.2-py3-none-any.whl (10 kB)\n",
      "Downloading dateparser-0.7.6-py2.py3-none-any.whl (362 kB)\n",
      "\u001b[2K   \u001b[90m━━━━━━━━━━━━━━━━━━━━━━━━━━━━━━━━━━━━━━━━\u001b[0m \u001b[32m362.0/362.0 kB\u001b[0m \u001b[31m5.6 MB/s\u001b[0m eta \u001b[36m0:00:00\u001b[0ma \u001b[36m0:00:01\u001b[0m\n",
      "\u001b[?25hDownloading tzlocal-5.2-py3-none-any.whl (17 kB)\n",
      "Installing collected packages: feedparser, tzlocal, dateparser, pygooglenews\n",
      "Successfully installed dateparser-0.7.6 feedparser-5.2.1 pygooglenews-0.1.2 tzlocal-5.2\n"
     ]
    }
   ],
   "source": [
    "!pip install pygooglenews"
   ]
  },
  {
   "cell_type": "code",
   "execution_count": null,
   "metadata": {},
   "outputs": [],
   "source": [
    "msft = yf.Ticker(\"MSFT\")\n",
    "hist = msft.history(period=\"1mo\")\n",
    "msft.history_metadata"
   ]
  },
  {
   "cell_type": "code",
   "execution_count": 3,
   "metadata": {},
   "outputs": [],
   "source": [
    "# use yfinance\n",
    "tickers = yf.Tickers('msft aapl goog')"
   ]
  },
  {
   "cell_type": "code",
   "execution_count": 4,
   "metadata": {},
   "outputs": [
    {
     "name": "stdout",
     "output_type": "stream",
     "text": [
      "8\n",
      "25.04.2024\n"
     ]
    }
   ],
   "source": [
    "from datetime import datetime\n",
    "timestamp = tickers.tickers['AAPL'].news[0]['providerPublishTime']\n",
    "# timestamp = article['providerPublishTime']\n",
    "print(len(tickers.tickers['AAPL'].news[0]))\n",
    "date = datetime.fromtimestamp(timestamp)\n",
    "formatted_date = date.strftime(\"%d.%m.%Y\")\n",
    "print(formatted_date)"
   ]
  }
 ],
 "metadata": {
  "kernelspec": {
   "display_name": "stocks_stats",
   "language": "python",
   "name": "python3"
  },
  "language_info": {
   "codemirror_mode": {
    "name": "ipython",
    "version": 3
   },
   "file_extension": ".py",
   "mimetype": "text/x-python",
   "name": "python",
   "nbconvert_exporter": "python",
   "pygments_lexer": "ipython3",
   "version": "3.8.19"
  }
 },
 "nbformat": 4,
 "nbformat_minor": 2
}
