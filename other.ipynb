{
 "cells": [
  {
   "cell_type": "code",
   "execution_count": 1,
   "metadata": {},
   "outputs": [],
   "source": [
    "from openai import OpenAI\n",
    "import os"
   ]
  },
  {
   "cell_type": "code",
   "execution_count": 2,
   "metadata": {},
   "outputs": [],
   "source": [
    "openai = OpenAI(\n",
    "    api_key=os.environ.get(\"OPENAI_API_KEY\"),\n",
    "    base_url=\"https://api.deepinfra.com/v1/openai\",\n",
    ")"
   ]
  },
  {
   "cell_type": "code",
   "execution_count": 16,
   "metadata": {},
   "outputs": [
    {
     "name": "stdout",
     "output_type": "stream",
     "text": [
      "{}\n"
     ]
    }
   ],
   "source": [
    "for \n",
    "\n",
    "prompt = \"\"\"\n",
    "Task: Identify Company Tickers and Sentiments\n",
    "\n",
    "Instructions:\n",
    "1. Given the header provided, identify the names of the companies explicitly mentioned.\n",
    "2. Determine the corresponding ticker symbols for each identified company.\n",
    "3. Assess the sentiment associated with each company (buying or not buying the stock) mentioned in the header (positive, neutral, negative).\n",
    "4. Return the results in JSON format with each company's ticker symbol mapped to its sentiment. Do not include any details beyond this. \n",
    "\n",
    "Do not assume the names of any companies in the header. Only include companies that are explicitly mentioned and exclude all else.\n",
    "\n",
    "Example Input:\n",
    "Header: \"Analysts predict positive outlook for Apple Inc. (AAPL) and minimal growth for Tesla (TSLA).\"\n",
    "\n",
    "Example Output:\n",
    "{\"AAPL\": \"positive\", \"TSLA\": \"negative\"}\n",
    "\n",
    "Header: [OpenAI could launch new AI search engine on Monday: Reuters]\n",
    "\n",
    "Only print the json. \n",
    "\n",
    "\"\"\".strip()\n",
    "\n",
    "chat_completion = openai.chat.completions.create(\n",
    "    model=\"meta-llama/Meta-Llama-3-70B-Instruct\",\n",
    "    messages=[{\"role\": \"user\", \"content\": prompt}],\n",
    "    max_tokens=200\n",
    ")\n",
    "# chat_completion = openai.chat.completions.create(\n",
    "#     model=\"meta-llama/Meta-Llama-3-8B-Instruct\",\n",
    "#     messages=[{\"role\": \"user\", \"content\": prompt}],\n",
    "# )\n",
    "\n",
    "print(chat_completion.choices[0].message.content)"
   ]
  },
  {
   "cell_type": "code",
   "execution_count": null,
   "metadata": {},
   "outputs": [],
   "source": []
  }
 ],
 "metadata": {
  "kernelspec": {
   "display_name": "stocks_stats_3.8",
   "language": "python",
   "name": "python3"
  },
  "language_info": {
   "codemirror_mode": {
    "name": "ipython",
    "version": 3
   },
   "file_extension": ".py",
   "mimetype": "text/x-python",
   "name": "python",
   "nbconvert_exporter": "python",
   "pygments_lexer": "ipython3",
   "version": "3.8.19"
  }
 },
 "nbformat": 4,
 "nbformat_minor": 2
}
