{
 "cells": [
  {
   "cell_type": "code",
   "execution_count": 8,
   "metadata": {},
   "outputs": [
    {
     "name": "stdout",
     "output_type": "stream",
     "text": [
      "The autoreload extension is already loaded. To reload it, use:\n",
      "  %reload_ext autoreload\n"
     ]
    }
   ],
   "source": [
    "from stocksent import Sentiment\n",
    "import yfinance as yf\n",
    "import pandas as pd\n",
    "%load_ext autoreload\n",
    "%autoreload 2\n",
    "\n",
    "days_back = 730"
   ]
  },
  {
   "cell_type": "code",
   "execution_count": 5,
   "metadata": {},
   "outputs": [
    {
     "name": "stderr",
     "output_type": "stream",
     "text": [
      "[*********************100%%**********************]  1 of 1 completed\n"
     ]
    }
   ],
   "source": [
    "from pandas_datareader import data as pdr\n",
    "\n",
    "import yfinance as yf\n",
    "yf.pdr_override() # <== that's all it takes :-)\n",
    "\n",
    "# download dataframe\n",
    "data = pdr.get_data_yahoo(\"SPY\", start=\"2015-01-01\", end=\"2024-04-30\")\n"
   ]
  },
  {
   "cell_type": "code",
   "execution_count": 9,
   "metadata": {},
   "outputs": [
    {
     "name": "stdout",
     "output_type": "stream",
     "text": [
      "503\n"
     ]
    }
   ],
   "source": [
    "ticker_list = pd.read_csv(\"s&p.csv\")[\"Symbol\"].tolist()\n",
    "print(len(ticker_list))\n",
    "tickers = yf.Tickers(\" \".join(ticker_list))"
   ]
  },
  {
   "cell_type": "code",
   "execution_count": 14,
   "metadata": {},
   "outputs": [
    {
     "name": "stdout",
     "output_type": "stream",
     "text": [
      "MSFT\n",
      "{'address1': 'One Microsoft Way', 'city': 'Redmond', 'state': 'WA', 'zip': '98052-6399', 'country': 'United States', 'phone': '425 882 8080', 'website': 'https://www.microsoft.com', 'industry': 'Software - Infrastructure', 'industryKey': 'software-infrastructure', 'industryDisp': 'Software - Infrastructure', 'sector': 'Technology', 'sectorKey': 'technology', 'sectorDisp': 'Technology', 'longBusinessSummary': 'Microsoft Corporation develops and supports software, services, devices and solutions worldwide. The Productivity and Business Processes segment offers office, exchange, SharePoint, Microsoft Teams, office 365 Security and Compliance, Microsoft viva, and Microsoft 365 copilot; and office consumer services, such as Microsoft 365 consumer subscriptions, Office licensed on-premises, and other office services. This segment also provides LinkedIn; and dynamics business solutions, including Dynamics 365, a set of intelligent, cloud-based applications across ERP, CRM, power apps, and power automate; and on-premises ERP and CRM applications. The Intelligent Cloud segment offers server products and cloud services, such as azure and other cloud services; SQL and windows server, visual studio, system center, and related client access licenses, as well as nuance and GitHub; and enterprise services including enterprise support services, industry solutions, and nuance professional services. The More Personal Computing segment offers Windows, including windows OEM licensing and other non-volume licensing of the Windows operating system; Windows commercial comprising volume licensing of the Windows operating system, windows cloud services, and other Windows commercial offerings; patent licensing; and windows Internet of Things; and devices, such as surface, HoloLens, and PC accessories. Additionally, this segment provides gaming, which includes Xbox hardware and content, and first- and third-party content; Xbox game pass and other subscriptions, cloud gaming, advertising, third-party disc royalties, and other cloud services; and search and news advertising, which includes Bing, Microsoft News and Edge, and third-party affiliates. The company sells its products through OEMs, distributors, and resellers; and directly through digital marketplaces, online, and retail stores. The company was founded in 1975 and is headquartered in Redmond, Washington.', 'fullTimeEmployees': 221000, 'companyOfficers': [{'maxAge': 1, 'name': 'Mr. Satya  Nadella', 'age': 56, 'title': 'Chairman & CEO', 'yearBorn': 1967, 'fiscalYear': 2023, 'totalPay': 9276400, 'exercisedValue': 0, 'unexercisedValue': 0}, {'maxAge': 1, 'name': 'Mr. Bradford L. Smith LCA', 'age': 64, 'title': 'President & Vice Chairman', 'yearBorn': 1959, 'fiscalYear': 2023, 'totalPay': 3591277, 'exercisedValue': 0, 'unexercisedValue': 0}, {'maxAge': 1, 'name': 'Ms. Amy E. Hood', 'age': 51, 'title': 'Executive VP & CFO', 'yearBorn': 1972, 'fiscalYear': 2023, 'totalPay': 3452196, 'exercisedValue': 0, 'unexercisedValue': 0}, {'maxAge': 1, 'name': 'Mr. Judson B. Althoff', 'age': 49, 'title': 'Executive VP & Chief Commercial Officer', 'yearBorn': 1974, 'fiscalYear': 2023, 'totalPay': 3355797, 'exercisedValue': 0, 'unexercisedValue': 0}, {'maxAge': 1, 'name': 'Mr. Christopher David Young', 'age': 51, 'title': 'Executive Vice President of Business Development, Strategy & Ventures', 'yearBorn': 1972, 'fiscalYear': 2023, 'totalPay': 2460507, 'exercisedValue': 0, 'unexercisedValue': 0}, {'maxAge': 1, 'name': 'Ms. Alice L. Jolla', 'age': 56, 'title': 'Corporate VP & Chief Accounting Officer', 'yearBorn': 1967, 'fiscalYear': 2023, 'exercisedValue': 0, 'unexercisedValue': 0}, {'maxAge': 1, 'name': 'Mr. James Kevin Scott', 'age': 51, 'title': 'Executive VP of AI & CTO', 'yearBorn': 1972, 'fiscalYear': 2023, 'exercisedValue': 0, 'unexercisedValue': 0}, {'maxAge': 1, 'name': 'Brett  Iversen', 'title': 'Vice President of Investor Relations', 'fiscalYear': 2023, 'exercisedValue': 0, 'unexercisedValue': 0}, {'maxAge': 1, 'name': 'Mr. Hossein  Nowbar', 'title': 'Chief Legal Officer', 'fiscalYear': 2023, 'exercisedValue': 0, 'unexercisedValue': 0}, {'maxAge': 1, 'name': 'Mr. Frank X. Shaw', 'title': 'Chief Communications Officer', 'fiscalYear': 2023, 'exercisedValue': 0, 'unexercisedValue': 0}], 'auditRisk': 3, 'boardRisk': 5, 'compensationRisk': 2, 'shareHolderRightsRisk': 2, 'overallRisk': 1, 'governanceEpochDate': 1714521600, 'compensationAsOfEpochDate': 1703980800, 'irWebsite': 'http://www.microsoft.com/investor/default.aspx', 'maxAge': 86400, 'priceHint': 2, 'previousClose': 427.0, 'open': 427.21, 'dayLow': 424.41, 'dayHigh': 431.055, 'regularMarketPreviousClose': 427.0, 'regularMarketOpen': 427.21, 'regularMarketDayLow': 424.41, 'regularMarketDayHigh': 431.055, 'dividendRate': 3.0, 'dividendYield': 0.0069999998, 'exDividendDate': 1715731200, 'payoutRatio': 0.24780001, 'fiveYearAvgDividendYield': 0.94, 'beta': 0.893, 'trailingPE': 37.30789, 'forwardPE': 32.440422, 'volume': 11855285, 'regularMarketVolume': 11855285, 'averageVolume': 19757708, 'averageVolume10days': 17052790, 'averageDailyVolume10Day': 17052790, 'marketCap': 3197082271744, 'fiftyTwoWeekLow': 309.45, 'fiftyTwoWeekHigh': 433.6, 'priceToSalesTrailing12Months': 13.513519, 'fiftyDayAverage': 416.2698, 'twoHundredDayAverage': 376.96725, 'trailingAnnualDividendRate': 2.93, 'trailingAnnualDividendYield': 0.006861827, 'currency': 'USD', 'enterpriseValue': 3223296671744, 'profitMargins': 0.36426997, 'floatShares': 7421528951, 'sharesOutstanding': 7432309760, 'sharesShort': 49773013, 'sharesShortPriorMonth': 55771473, 'sharesShortPreviousMonthDate': 1711584000, 'dateShortInterest': 1714435200, 'sharesPercentSharesOut': 0.0067000003, 'heldPercentInsiders': 0.00054000004, 'heldPercentInstitutions': 0.73667, 'shortRatio': 2.48, 'shortPercentOfFloat': 0.0067000003, 'impliedSharesOutstanding': 7493570048, 'bookValue': 34.058, 'priceToBook': 12.630219, 'lastFiscalYearEnd': 1688083200, 'nextFiscalYearEnd': 1719705600, 'mostRecentQuarter': 1711843200, 'earningsQuarterlyGrowth': 0.199, 'netIncomeToCommon': 86181003264, 'trailingEps': 11.53, 'forwardEps': 13.26, 'pegRatio': 2.25, 'lastSplitFactor': '2:1', 'lastSplitDate': 1045526400, 'enterpriseToRevenue': 13.624, 'enterpriseToEbitda': 25.749, '52WeekChange': 0.29875302, 'SandP52WeekChange': 0.26137078, 'lastDividendValue': 0.75, 'lastDividendDate': 1715731200, 'exchange': 'NMS', 'quoteType': 'EQUITY', 'symbol': 'MSFT', 'underlyingSymbol': 'MSFT', 'shortName': 'Microsoft Corporation', 'longName': 'Microsoft Corporation', 'firstTradeDateEpochUtc': 511108200, 'timeZoneFullName': 'America/New_York', 'timeZoneShortName': 'EDT', 'uuid': 'b004b3ec-de24-385e-b2c1-923f10d3fb62', 'messageBoardId': 'finmb_21835', 'gmtOffSetMilliseconds': -14400000, 'currentPrice': 430.16, 'targetHighPrice': 600.0, 'targetLowPrice': 397.92, 'targetMeanPrice': 481.74, 'targetMedianPrice': 477.33, 'recommendationMean': 1.7, 'recommendationKey': 'buy', 'numberOfAnalystOpinions': 47, 'totalCash': 80013000704, 'totalCashPerShare': 10.766, 'ebitda': 125182001152, 'totalDebt': 106228998144, 'quickRatio': 1.132, 'currentRatio': 1.242, 'totalRevenue': 236583993344, 'debtToEquity': 41.963, 'revenuePerShare': 31.834, 'returnOnAssets': 0.15295, 'returnOnEquity': 0.38487998, 'freeCashflow': 61497999360, 'operatingCashflow': 110122999808, 'earningsGrowth': 0.2, 'revenueGrowth': 0.17, 'grossMargins': 0.69894, 'ebitdaMargins': 0.52911997, 'operatingMargins': 0.44588003, 'financialCurrency': 'USD', 'trailingPegRatio': 2.1289}\n"
     ]
    }
   ],
   "source": [
    "for ticker in tickers.tickers.keys():\n",
    "    print(ticker)\n",
    "    print(tickers.tickers[ticker].info)\n",
    "    break"
   ]
  },
  {
   "cell_type": "code",
   "execution_count": 18,
   "metadata": {},
   "outputs": [
    {
     "name": "stderr",
     "output_type": "stream",
     "text": [
      "[*********************100%%**********************]  503 of 503 completed\n"
     ]
    }
   ],
   "source": [
    "# data = yf.download(\" \".join(ticker_list), period=\"5y\")\n",
    "data = yf.download(\" \".join(ticker_list), start=\"2015-01-01\", end=\"2024-04-30\")"
   ]
  },
  {
   "cell_type": "code",
   "execution_count": 19,
   "metadata": {},
   "outputs": [
    {
     "data": {
      "text/html": [
       "<div>\n",
       "<style scoped>\n",
       "    .dataframe tbody tr th:only-of-type {\n",
       "        vertical-align: middle;\n",
       "    }\n",
       "\n",
       "    .dataframe tbody tr th {\n",
       "        vertical-align: top;\n",
       "    }\n",
       "\n",
       "    .dataframe thead tr th {\n",
       "        text-align: left;\n",
       "    }\n",
       "\n",
       "    .dataframe thead tr:last-of-type th {\n",
       "        text-align: right;\n",
       "    }\n",
       "</style>\n",
       "<table border=\"1\" class=\"dataframe\">\n",
       "  <thead>\n",
       "    <tr>\n",
       "      <th>Price</th>\n",
       "      <th colspan=\"10\" halign=\"left\">Adj Close</th>\n",
       "      <th>...</th>\n",
       "      <th colspan=\"10\" halign=\"left\">Volume</th>\n",
       "    </tr>\n",
       "    <tr>\n",
       "      <th>Ticker</th>\n",
       "      <th>A</th>\n",
       "      <th>AAL</th>\n",
       "      <th>AAPL</th>\n",
       "      <th>ABBV</th>\n",
       "      <th>ABNB</th>\n",
       "      <th>ABT</th>\n",
       "      <th>ACGL</th>\n",
       "      <th>ACN</th>\n",
       "      <th>ADBE</th>\n",
       "      <th>ADI</th>\n",
       "      <th>...</th>\n",
       "      <th>WTW</th>\n",
       "      <th>WY</th>\n",
       "      <th>WYNN</th>\n",
       "      <th>XEL</th>\n",
       "      <th>XOM</th>\n",
       "      <th>XYL</th>\n",
       "      <th>YUM</th>\n",
       "      <th>ZBH</th>\n",
       "      <th>ZBRA</th>\n",
       "      <th>ZTS</th>\n",
       "    </tr>\n",
       "    <tr>\n",
       "      <th>Date</th>\n",
       "      <th></th>\n",
       "      <th></th>\n",
       "      <th></th>\n",
       "      <th></th>\n",
       "      <th></th>\n",
       "      <th></th>\n",
       "      <th></th>\n",
       "      <th></th>\n",
       "      <th></th>\n",
       "      <th></th>\n",
       "      <th></th>\n",
       "      <th></th>\n",
       "      <th></th>\n",
       "      <th></th>\n",
       "      <th></th>\n",
       "      <th></th>\n",
       "      <th></th>\n",
       "      <th></th>\n",
       "      <th></th>\n",
       "      <th></th>\n",
       "      <th></th>\n",
       "    </tr>\n",
       "  </thead>\n",
       "  <tbody>\n",
       "    <tr>\n",
       "      <th>2015-01-02</th>\n",
       "      <td>37.551193</td>\n",
       "      <td>51.079910</td>\n",
       "      <td>24.402172</td>\n",
       "      <td>44.314426</td>\n",
       "      <td>NaN</td>\n",
       "      <td>37.481438</td>\n",
       "      <td>19.496668</td>\n",
       "      <td>75.950935</td>\n",
       "      <td>72.339996</td>\n",
       "      <td>45.635735</td>\n",
       "      <td>...</td>\n",
       "      <td>209022</td>\n",
       "      <td>2426600</td>\n",
       "      <td>2228900</td>\n",
       "      <td>2534900</td>\n",
       "      <td>10220400</td>\n",
       "      <td>605900</td>\n",
       "      <td>2283466</td>\n",
       "      <td>936579</td>\n",
       "      <td>411800</td>\n",
       "      <td>1784200</td>\n",
       "    </tr>\n",
       "    <tr>\n",
       "      <th>2015-01-05</th>\n",
       "      <td>36.847561</td>\n",
       "      <td>51.051495</td>\n",
       "      <td>23.714724</td>\n",
       "      <td>43.480469</td>\n",
       "      <td>NaN</td>\n",
       "      <td>37.489784</td>\n",
       "      <td>19.379999</td>\n",
       "      <td>74.668556</td>\n",
       "      <td>71.980003</td>\n",
       "      <td>44.805843</td>\n",
       "      <td>...</td>\n",
       "      <td>343789</td>\n",
       "      <td>2385400</td>\n",
       "      <td>1695100</td>\n",
       "      <td>3107200</td>\n",
       "      <td>18502400</td>\n",
       "      <td>1369900</td>\n",
       "      <td>4418651</td>\n",
       "      <td>2223873</td>\n",
       "      <td>420300</td>\n",
       "      <td>3112100</td>\n",
       "    </tr>\n",
       "    <tr>\n",
       "      <th>2015-01-06</th>\n",
       "      <td>36.273560</td>\n",
       "      <td>50.255585</td>\n",
       "      <td>23.716959</td>\n",
       "      <td>43.265251</td>\n",
       "      <td>NaN</td>\n",
       "      <td>37.064041</td>\n",
       "      <td>19.423332</td>\n",
       "      <td>74.129921</td>\n",
       "      <td>70.529999</td>\n",
       "      <td>43.754105</td>\n",
       "      <td>...</td>\n",
       "      <td>347338</td>\n",
       "      <td>3405900</td>\n",
       "      <td>1975800</td>\n",
       "      <td>4749600</td>\n",
       "      <td>16670700</td>\n",
       "      <td>1333200</td>\n",
       "      <td>5004401</td>\n",
       "      <td>1835563</td>\n",
       "      <td>527500</td>\n",
       "      <td>3977200</td>\n",
       "    </tr>\n",
       "    <tr>\n",
       "      <th>2015-01-07</th>\n",
       "      <td>36.754982</td>\n",
       "      <td>50.227154</td>\n",
       "      <td>24.049517</td>\n",
       "      <td>45.013901</td>\n",
       "      <td>NaN</td>\n",
       "      <td>37.364567</td>\n",
       "      <td>19.536667</td>\n",
       "      <td>75.685883</td>\n",
       "      <td>71.110001</td>\n",
       "      <td>44.214241</td>\n",
       "      <td>...</td>\n",
       "      <td>348357</td>\n",
       "      <td>2872700</td>\n",
       "      <td>1472000</td>\n",
       "      <td>2833400</td>\n",
       "      <td>13590700</td>\n",
       "      <td>1038600</td>\n",
       "      <td>4554134</td>\n",
       "      <td>1505860</td>\n",
       "      <td>467800</td>\n",
       "      <td>2481800</td>\n",
       "    </tr>\n",
       "    <tr>\n",
       "      <th>2015-01-08</th>\n",
       "      <td>37.856712</td>\n",
       "      <td>50.843037</td>\n",
       "      <td>24.973560</td>\n",
       "      <td>45.484673</td>\n",
       "      <td>NaN</td>\n",
       "      <td>38.132553</td>\n",
       "      <td>19.876667</td>\n",
       "      <td>76.840042</td>\n",
       "      <td>72.919998</td>\n",
       "      <td>44.994820</td>\n",
       "      <td>...</td>\n",
       "      <td>343147</td>\n",
       "      <td>3004500</td>\n",
       "      <td>1676600</td>\n",
       "      <td>2516800</td>\n",
       "      <td>15487500</td>\n",
       "      <td>821800</td>\n",
       "      <td>4258268</td>\n",
       "      <td>1449004</td>\n",
       "      <td>324400</td>\n",
       "      <td>3121300</td>\n",
       "    </tr>\n",
       "  </tbody>\n",
       "</table>\n",
       "<p>5 rows × 3018 columns</p>\n",
       "</div>"
      ],
      "text/plain": [
       "Price       Adj Close                                                   \\\n",
       "Ticker              A        AAL       AAPL       ABBV ABNB        ABT   \n",
       "Date                                                                     \n",
       "2015-01-02  37.551193  51.079910  24.402172  44.314426  NaN  37.481438   \n",
       "2015-01-05  36.847561  51.051495  23.714724  43.480469  NaN  37.489784   \n",
       "2015-01-06  36.273560  50.255585  23.716959  43.265251  NaN  37.064041   \n",
       "2015-01-07  36.754982  50.227154  24.049517  45.013901  NaN  37.364567   \n",
       "2015-01-08  37.856712  50.843037  24.973560  45.484673  NaN  38.132553   \n",
       "\n",
       "Price                                                   ...  Volume           \\\n",
       "Ticker           ACGL        ACN       ADBE        ADI  ...     WTW       WY   \n",
       "Date                                                    ...                    \n",
       "2015-01-02  19.496668  75.950935  72.339996  45.635735  ...  209022  2426600   \n",
       "2015-01-05  19.379999  74.668556  71.980003  44.805843  ...  343789  2385400   \n",
       "2015-01-06  19.423332  74.129921  70.529999  43.754105  ...  347338  3405900   \n",
       "2015-01-07  19.536667  75.685883  71.110001  44.214241  ...  348357  2872700   \n",
       "2015-01-08  19.876667  76.840042  72.919998  44.994820  ...  343147  3004500   \n",
       "\n",
       "Price                                                                      \\\n",
       "Ticker         WYNN      XEL       XOM      XYL      YUM      ZBH    ZBRA   \n",
       "Date                                                                        \n",
       "2015-01-02  2228900  2534900  10220400   605900  2283466   936579  411800   \n",
       "2015-01-05  1695100  3107200  18502400  1369900  4418651  2223873  420300   \n",
       "2015-01-06  1975800  4749600  16670700  1333200  5004401  1835563  527500   \n",
       "2015-01-07  1472000  2833400  13590700  1038600  4554134  1505860  467800   \n",
       "2015-01-08  1676600  2516800  15487500   821800  4258268  1449004  324400   \n",
       "\n",
       "Price                \n",
       "Ticker          ZTS  \n",
       "Date                 \n",
       "2015-01-02  1784200  \n",
       "2015-01-05  3112100  \n",
       "2015-01-06  3977200  \n",
       "2015-01-07  2481800  \n",
       "2015-01-08  3121300  \n",
       "\n",
       "[5 rows x 3018 columns]"
      ]
     },
     "execution_count": 19,
     "metadata": {},
     "output_type": "execute_result"
    }
   ],
   "source": [
    "data.head()"
   ]
  },
  {
   "cell_type": "code",
   "execution_count": 21,
   "metadata": {},
   "outputs": [],
   "source": [
    "# save data\n",
    "data.to_csv(\"s&p_data.csv\")"
   ]
  },
  {
   "cell_type": "code",
   "execution_count": 17,
   "metadata": {},
   "outputs": [
    {
     "data": {
      "text/plain": [
       "MultiIndex([('Adj Close',    'A'),\n",
       "            ('Adj Close',  'AAL'),\n",
       "            ('Adj Close', 'AAPL'),\n",
       "            ('Adj Close', 'ABBV'),\n",
       "            ('Adj Close', 'ABNB'),\n",
       "            ('Adj Close',  'ABT'),\n",
       "            ('Adj Close', 'ACGL'),\n",
       "            ('Adj Close',  'ACN'),\n",
       "            ('Adj Close', 'ADBE'),\n",
       "            ('Adj Close',  'ADI'),\n",
       "            ...\n",
       "            (   'Volume',  'WTW'),\n",
       "            (   'Volume',   'WY'),\n",
       "            (   'Volume', 'WYNN'),\n",
       "            (   'Volume',  'XEL'),\n",
       "            (   'Volume',  'XOM'),\n",
       "            (   'Volume',  'XYL'),\n",
       "            (   'Volume',  'YUM'),\n",
       "            (   'Volume',  'ZBH'),\n",
       "            (   'Volume', 'ZBRA'),\n",
       "            (   'Volume',  'ZTS')],\n",
       "           names=['Price', 'Ticker'], length=3018)"
      ]
     },
     "execution_count": 17,
     "metadata": {},
     "output_type": "execute_result"
    }
   ],
   "source": [
    "data.columns"
   ]
  },
  {
   "cell_type": "code",
   "execution_count": null,
   "metadata": {},
   "outputs": [],
   "source": []
  },
  {
   "cell_type": "code",
   "execution_count": 27,
   "metadata": {},
   "outputs": [
    {
     "name": "stdout",
     "output_type": "stream",
     "text": [
      "0.0938\n"
     ]
    }
   ],
   "source": [
    "stock = Sentiment('MSFT')\n",
    "sentiment_score = stock.get_sentiment(days=days_back)\n",
    "print(sentiment_score)  # Returns a float with the sentiment score."
   ]
  },
  {
   "cell_type": "code",
   "execution_count": 28,
   "metadata": {},
   "outputs": [
    {
     "name": "stdout",
     "output_type": "stream",
     "text": [
      "   ticker        date     time            source  \\\n",
      "0    MSFT  2024-05-02  08:50PM      (TechCrunch)   \n",
      "1    MSFT  2024-05-02  07:38PM       (Bloomberg)   \n",
      "2    MSFT  2024-05-02  05:47PM   (Yahoo Finance)   \n",
      "3    MSFT  2024-05-02  05:15PM  (Insider Monkey)   \n",
      "4    MSFT  2024-05-02  04:43PM        (Benzinga)   \n",
      "..    ...         ...      ...               ...   \n",
      "95   MSFT  2024-05-01  12:17AM         (Reuters)   \n",
      "96   MSFT  2024-05-01  12:16AM         (Reuters)   \n",
      "97   MSFT  2024-05-01  12:12AM         (Reuters)   \n",
      "98   MSFT  2024-04-30  11:56PM       (Bloomberg)   \n",
      "99   MSFT  2024-04-30  09:34PM    (Investopedia)   \n",
      "\n",
      "                                             headline  Negative  Neutral  \\\n",
      "0   Microsoft bans US police departments from usin...     0.000    1.000   \n",
      "1   Microsoft Adds Security Chiefs to Product Grou...     0.190    0.654   \n",
      "2   Apple CEO Tim Cook boasts of future AI plans a...     0.000    1.000   \n",
      "3   Bitbot's Presale Passes $3M After AI Developme...     0.000    1.000   \n",
      "4   Microsoft's $75B Acquisition of Activision Cle...     0.000    0.887   \n",
      "..                                                ...       ...      ...   \n",
      "95  RPT-Microsoft to open first regional data cent...     0.000    1.000   \n",
      "96  Microsoft to open first regional data centre i...     0.000    1.000   \n",
      "97  Microsoft to power data centres with Brookfiel...     0.000    1.000   \n",
      "98  Microsofts CEO Adds AI for Thailand on Southea...     0.000    1.000   \n",
      "99  AMD Stock Tumbles as Full-Year Data Center Out...     0.245    0.755   \n",
      "\n",
      "    Positive  Overall  \n",
      "0      0.000   0.0000  \n",
      "1      0.157  -0.1280  \n",
      "2      0.000   0.0000  \n",
      "3      0.000   0.0000  \n",
      "4      0.113   0.1027  \n",
      "..       ...      ...  \n",
      "95     0.000   0.0000  \n",
      "96     0.000   0.0000  \n",
      "97     0.000   0.0000  \n",
      "98     0.000   0.0000  \n",
      "99     0.000  -0.3818  \n",
      "\n",
      "[100 rows x 9 columns]\n"
     ]
    }
   ],
   "source": [
    "# from stocksent import Sentiment\n",
    "stock = Sentiment('MSFT')\n",
    "sentiment_score = stock.get_dataframe(days=days_back)\n",
    "print(sentiment_score)  # Returns a float with the sentiment score."
   ]
  },
  {
   "cell_type": "code",
   "execution_count": 21,
   "metadata": {},
   "outputs": [
    {
     "name": "stdout",
     "output_type": "stream",
     "text": [
      "100\n"
     ]
    }
   ],
   "source": [
    "print(len(sentiment_score))"
   ]
  },
  {
   "cell_type": "code",
   "execution_count": 23,
   "metadata": {},
   "outputs": [],
   "source": [
    "# filter sentiment score based on if the time of the article was before the market open (column is named time)\n",
    "sentiment_score = sentiment_score[sentiment_score['time'] < '09:30:00'] # ???"
   ]
  },
  {
   "cell_type": "code",
   "execution_count": 24,
   "metadata": {},
   "outputs": [
    {
     "name": "stdout",
     "output_type": "stream",
     "text": [
      "70\n"
     ]
    }
   ],
   "source": [
    "print(len(sentiment_score))"
   ]
  },
  {
   "cell_type": "code",
   "execution_count": 25,
   "metadata": {},
   "outputs": [
    {
     "name": "stdout",
     "output_type": "stream",
     "text": [
      "   ticker        date     time                       source  \\\n",
      "8    MSFT  2024-05-01  08:03AM               (MT Newswires)   \n",
      "9    MSFT  2024-05-01  07:30AM                (Motley Fool)   \n",
      "10   MSFT  2024-05-01  07:30AM              (InvestorPlace)   \n",
      "11   MSFT  2024-05-01  07:30AM                (Motley Fool)   \n",
      "12   MSFT  2024-05-01  06:54AM               (MT Newswires)   \n",
      "..    ...         ...      ...                          ...   \n",
      "95   MSFT  2024-04-29  05:21PM                (Barrons.com)   \n",
      "96   MSFT  2024-04-29  04:53PM        (Yahoo Finance Video)   \n",
      "97   MSFT  2024-04-29  04:30PM              (InvestorPlace)   \n",
      "98   MSFT  2024-04-29  04:14PM                    (CNBC TV)   \n",
      "99   MSFT  2024-04-29  04:09PM  (Investor's Business Daily)   \n",
      "\n",
      "                                             headline  Negative  Neutral  \\\n",
      "8   Microsoft Strikes Deal With Brookfield to Back...     0.160    0.705   \n",
      "9   Microsoft's Earnings Results Show It's Deliver...     0.000    0.714   \n",
      "10  3 Spatial Computing Stocks That Will Dominate ...     0.143    0.857   \n",
      "11       2 Dominant AI Companies to Buy and 1 to Sell     0.000    1.000   \n",
      "12  Brookfield Up 1% in U.S. Premarket After Renew...     0.000    0.775   \n",
      "..                                                ...       ...      ...   \n",
      "95  Arista Stock Has Been Under Pressure. Why an A...     0.145    0.855   \n",
      "96  AI tech battle: Pick Microsoft over Meta, anal...     0.245    0.755   \n",
      "97  AI Jackpot: 7 Machine Learning Stocks to Doubl...     0.000    1.000   \n",
      "98  Microsoft and Alphabet demonstrated the curren...     0.000    0.833   \n",
      "99  Amazon Earnings Preview: Investors Watching AW...     0.000    0.677   \n",
      "\n",
      "    Positive  Overall  \n",
      "8      0.135  -0.1027  \n",
      "9      0.286   0.7003  \n",
      "10     0.000  -0.1280  \n",
      "11     0.000   0.0000  \n",
      "12     0.225   0.4939  \n",
      "..       ...      ...  \n",
      "95     0.000  -0.2960  \n",
      "96     0.000  -0.3818  \n",
      "97     0.000   0.0000  \n",
      "98     0.167   0.3818  \n",
      "99     0.323   0.5106  \n",
      "\n",
      "[70 rows x 9 columns]\n"
     ]
    }
   ],
   "source": [
    "print(sentiment_score)"
   ]
  },
  {
   "cell_type": "code",
   "execution_count": 15,
   "metadata": {},
   "outputs": [],
   "source": [
    "# select historical ranges of dates\n",
    "msft = yf.Ticker(\"MSFT\")\n",
    "hist = msft.history(period=\"2y\") # 5 years of data\n",
    "# msft.history_metadata"
   ]
  },
  {
   "cell_type": "code",
   "execution_count": 16,
   "metadata": {},
   "outputs": [
    {
     "data": {
      "text/html": [
       "<div>\n",
       "<style scoped>\n",
       "    .dataframe tbody tr th:only-of-type {\n",
       "        vertical-align: middle;\n",
       "    }\n",
       "\n",
       "    .dataframe tbody tr th {\n",
       "        vertical-align: top;\n",
       "    }\n",
       "\n",
       "    .dataframe thead th {\n",
       "        text-align: right;\n",
       "    }\n",
       "</style>\n",
       "<table border=\"1\" class=\"dataframe\">\n",
       "  <thead>\n",
       "    <tr style=\"text-align: right;\">\n",
       "      <th></th>\n",
       "      <th>Open</th>\n",
       "      <th>High</th>\n",
       "      <th>Low</th>\n",
       "      <th>Close</th>\n",
       "      <th>Volume</th>\n",
       "      <th>Dividends</th>\n",
       "      <th>Stock Splits</th>\n",
       "    </tr>\n",
       "    <tr>\n",
       "      <th>Date</th>\n",
       "      <th></th>\n",
       "      <th></th>\n",
       "      <th></th>\n",
       "      <th></th>\n",
       "      <th></th>\n",
       "      <th></th>\n",
       "      <th></th>\n",
       "    </tr>\n",
       "  </thead>\n",
       "  <tbody>\n",
       "    <tr>\n",
       "      <th>2019-05-01 00:00:00-04:00</th>\n",
       "      <td>124.250505</td>\n",
       "      <td>124.364728</td>\n",
       "      <td>121.556648</td>\n",
       "      <td>121.727989</td>\n",
       "      <td>26821700</td>\n",
       "      <td>0.0</td>\n",
       "      <td>0.0</td>\n",
       "    </tr>\n",
       "    <tr>\n",
       "      <th>2019-05-02 00:00:00-04:00</th>\n",
       "      <td>121.823182</td>\n",
       "      <td>121.842217</td>\n",
       "      <td>119.481521</td>\n",
       "      <td>120.138329</td>\n",
       "      <td>27350200</td>\n",
       "      <td>0.0</td>\n",
       "      <td>0.0</td>\n",
       "    </tr>\n",
       "    <tr>\n",
       "      <th>2019-05-03 00:00:00-04:00</th>\n",
       "      <td>121.233013</td>\n",
       "      <td>123.203423</td>\n",
       "      <td>121.128305</td>\n",
       "      <td>122.698921</td>\n",
       "      <td>24911100</td>\n",
       "      <td>0.0</td>\n",
       "      <td>0.0</td>\n",
       "    </tr>\n",
       "    <tr>\n",
       "      <th>2019-05-06 00:00:00-04:00</th>\n",
       "      <td>120.309660</td>\n",
       "      <td>122.375265</td>\n",
       "      <td>120.043132</td>\n",
       "      <td>121.984985</td>\n",
       "      <td>24239800</td>\n",
       "      <td>0.0</td>\n",
       "      <td>0.0</td>\n",
       "    </tr>\n",
       "    <tr>\n",
       "      <th>2019-05-07 00:00:00-04:00</th>\n",
       "      <td>120.376310</td>\n",
       "      <td>121.061674</td>\n",
       "      <td>118.244073</td>\n",
       "      <td>119.481529</td>\n",
       "      <td>36017700</td>\n",
       "      <td>0.0</td>\n",
       "      <td>0.0</td>\n",
       "    </tr>\n",
       "  </tbody>\n",
       "</table>\n",
       "</div>"
      ],
      "text/plain": [
       "                                 Open        High         Low       Close  \\\n",
       "Date                                                                        \n",
       "2019-05-01 00:00:00-04:00  124.250505  124.364728  121.556648  121.727989   \n",
       "2019-05-02 00:00:00-04:00  121.823182  121.842217  119.481521  120.138329   \n",
       "2019-05-03 00:00:00-04:00  121.233013  123.203423  121.128305  122.698921   \n",
       "2019-05-06 00:00:00-04:00  120.309660  122.375265  120.043132  121.984985   \n",
       "2019-05-07 00:00:00-04:00  120.376310  121.061674  118.244073  119.481529   \n",
       "\n",
       "                             Volume  Dividends  Stock Splits  \n",
       "Date                                                          \n",
       "2019-05-01 00:00:00-04:00  26821700        0.0           0.0  \n",
       "2019-05-02 00:00:00-04:00  27350200        0.0           0.0  \n",
       "2019-05-03 00:00:00-04:00  24911100        0.0           0.0  \n",
       "2019-05-06 00:00:00-04:00  24239800        0.0           0.0  \n",
       "2019-05-07 00:00:00-04:00  36017700        0.0           0.0  "
      ]
     },
     "execution_count": 16,
     "metadata": {},
     "output_type": "execute_result"
    }
   ],
   "source": [
    "hist.head()"
   ]
  },
  {
   "cell_type": "code",
   "execution_count": 17,
   "metadata": {},
   "outputs": [
    {
     "data": {
      "text/plain": [
       "array([Timestamp('2019-05-20 00:00:00-0400', tz='America/New_York'),\n",
       "       Timestamp('2019-07-15 00:00:00-0400', tz='America/New_York'),\n",
       "       Timestamp('2019-07-18 00:00:00-0400', tz='America/New_York'),\n",
       "       Timestamp('2019-07-29 00:00:00-0400', tz='America/New_York'),\n",
       "       Timestamp('2019-08-02 00:00:00-0400', tz='America/New_York'),\n",
       "       Timestamp('2020-01-14 00:00:00-0500', tz='America/New_York'),\n",
       "       Timestamp('2020-02-03 00:00:00-0500', tz='America/New_York'),\n",
       "       Timestamp('2020-02-28 00:00:00-0500', tz='America/New_York'),\n",
       "       Timestamp('2020-03-26 00:00:00-0400', tz='America/New_York'),\n",
       "       Timestamp('2020-06-17 00:00:00-0400', tz='America/New_York'),\n",
       "       Timestamp('2020-08-14 00:00:00-0400', tz='America/New_York'),\n",
       "       Timestamp('2020-12-09 00:00:00-0500', tz='America/New_York'),\n",
       "       Timestamp('2021-02-08 00:00:00-0500', tz='America/New_York'),\n",
       "       Timestamp('2021-02-12 00:00:00-0500', tz='America/New_York'),\n",
       "       Timestamp('2021-02-23 00:00:00-0500', tz='America/New_York'),\n",
       "       Timestamp('2021-03-22 00:00:00-0400', tz='America/New_York'),\n",
       "       Timestamp('2021-04-27 00:00:00-0400', tz='America/New_York'),\n",
       "       Timestamp('2021-07-26 00:00:00-0400', tz='America/New_York'),\n",
       "       Timestamp('2021-08-03 00:00:00-0400', tz='America/New_York'),\n",
       "       Timestamp('2022-02-02 00:00:00-0500', tz='America/New_York'),\n",
       "       Timestamp('2022-09-27 00:00:00-0400', tz='America/New_York'),\n",
       "       Timestamp('2022-10-04 00:00:00-0400', tz='America/New_York'),\n",
       "       Timestamp('2022-10-05 00:00:00-0400', tz='America/New_York'),\n",
       "       Timestamp('2022-12-21 00:00:00-0500', tz='America/New_York'),\n",
       "       Timestamp('2023-06-08 00:00:00-0400', tz='America/New_York'),\n",
       "       Timestamp('2023-10-05 00:00:00-0400', tz='America/New_York'),\n",
       "       Timestamp('2023-11-21 00:00:00-0500', tz='America/New_York'),\n",
       "       Timestamp('2024-02-14 00:00:00-0500', tz='America/New_York'),\n",
       "       Timestamp('2024-02-20 00:00:00-0500', tz='America/New_York'),\n",
       "       Timestamp('2024-03-22 00:00:00-0400', tz='America/New_York')],\n",
       "      dtype=object)"
      ]
     },
     "execution_count": 17,
     "metadata": {},
     "output_type": "execute_result"
    }
   ],
   "source": [
    "# randomly select 30 days of data\n",
    "import random\n",
    "import numpy as np\n",
    "\n",
    "random.seed(42)\n",
    "random_dates = random.sample(list(hist.index), 30)\n",
    "random_dates = np.sort(random_dates)\n",
    "random_dates"
   ]
  },
  {
   "cell_type": "code",
   "execution_count": null,
   "metadata": {},
   "outputs": [],
   "source": []
  }
 ],
 "metadata": {
  "kernelspec": {
   "display_name": "stocks_stats_3.8",
   "language": "python",
   "name": "python3"
  },
  "language_info": {
   "codemirror_mode": {
    "name": "ipython",
    "version": 3
   },
   "file_extension": ".py",
   "mimetype": "text/x-python",
   "name": "python",
   "nbconvert_exporter": "python",
   "pygments_lexer": "ipython3",
   "version": "3.8.19"
  }
 },
 "nbformat": 4,
 "nbformat_minor": 2
}
