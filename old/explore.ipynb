{
 "cells": [
  {
   "cell_type": "code",
   "execution_count": 1,
   "metadata": {},
   "outputs": [],
   "source": [
    "import yfinance as yf\n",
    "import pandas as pd\n",
    "from pygooglenews import GoogleNews\n",
    "# https://github.com/kotartemiy/pygooglenews?tab=readme-ov-file\n",
    "# tickers.tickers['AAPL'].news[0]"
   ]
  },
  {
   "cell_type": "code",
   "execution_count": 2,
   "metadata": {},
   "outputs": [],
   "source": [
    "# read all tickers from s&p_constituents.csv\n",
    "csv = pd.read_csv('s&p_constituents.csv')\n",
    "tickers = csv['Symbol']"
   ]
  },
  {
   "cell_type": "code",
   "execution_count": 3,
   "metadata": {},
   "outputs": [
    {
     "name": "stdout",
     "output_type": "stream",
     "text": [
      "503\n"
     ]
    }
   ],
   "source": [
    "print(len(tickers)) # 503 from 500 companies"
   ]
  },
  {
   "cell_type": "code",
   "execution_count": null,
   "metadata": {},
   "outputs": [],
   "source": [
    "msft = yf.Ticker(\"MSFT\")\n",
    "hist = msft.history(period=\"1mo\")\n",
    "msft.history_metadata"
   ]
  },
  {
   "cell_type": "code",
   "execution_count": 3,
   "metadata": {},
   "outputs": [],
   "source": [
    "# use yfinance\n",
    "tickers = yf.Tickers('msft aapl goog')"
   ]
  },
  {
   "cell_type": "code",
   "execution_count": 4,
   "metadata": {},
   "outputs": [
    {
     "name": "stdout",
     "output_type": "stream",
     "text": [
      "8\n",
      "25.04.2024\n"
     ]
    }
   ],
   "source": [
    "from datetime import datetime\n",
    "timestamp = tickers.tickers['AAPL'].news[0]['providerPublishTime']\n",
    "# timestamp = article['providerPublishTime']\n",
    "print(len(tickers.tickers['AAPL'].news[0]))\n",
    "date = datetime.fromtimestamp(timestamp)\n",
    "formatted_date = date.strftime(\"%d.%m.%Y\")\n",
    "print(formatted_date)"
   ]
  },
  {
   "cell_type": "code",
   "execution_count": 6,
   "metadata": {},
   "outputs": [
    {
     "name": "stdout",
     "output_type": "stream",
     "text": [
      "dict_keys(['feed', 'entries'])\n"
     ]
    }
   ],
   "source": []
  },
  {
   "cell_type": "code",
   "execution_count": 11,
   "metadata": {},
   "outputs": [
    {
     "name": "stdout",
     "output_type": "stream",
     "text": [
      "dict_keys(['title', 'title_detail', 'links', 'link', 'id', 'guidislink', 'published', 'published_parsed', 'summary', 'summary_detail', 'source', 'sub_articles'])\n"
     ]
    }
   ],
   "source": [
    "# print(top.keys())\n",
    "# dict_keys(['title', 'title_detail', 'links', 'link', 'id', 'guidislink', 'published',\n",
    "# 'published_parsed', 'summary', 'summary_detail', 'source', 'sub_articles'])\n",
    "# print(top['entries'][0].keys())\n",
    "\n",
    "print(top['entries'][0].keys())"
   ]
  },
  {
   "cell_type": "code",
   "execution_count": 10,
   "metadata": {},
   "outputs": [],
   "source": [
    "from_date = '2021-01-01'\n",
    "to_date = '2021-01-02'\n",
    "\n",
    "gn = GoogleNews()\n",
    "# gn.search('AAPL', from_=date_range, to_=date_range)\n",
    "top = gn.top_news()\n",
    "search = gn.search('MSFT', from_=from_date, to_=to_date)\n"
   ]
  },
  {
   "cell_type": "code",
   "execution_count": 11,
   "metadata": {},
   "outputs": [
    {
     "name": "stdout",
     "output_type": "stream",
     "text": [
      "{'title': 'Stock Price Analysis with Pandas and Altair | by Soner Yıldırım - Towards Data Science', 'title_detail': {'type': 'text/plain', 'language': None, 'base': '', 'value': 'Stock Price Analysis with Pandas and Altair | by Soner Yıldırım - Towards Data Science'}, 'links': [{'rel': 'alternate', 'type': 'text/html', 'href': 'https://news.google.com/rss/articles/CBMiV2h0dHBzOi8vdG93YXJkc2RhdGFzY2llbmNlLmNvbS9zdG9jay1wcmljZS1hbmFseXNpcy13aXRoLXBhbmRhcy1hbmQtYWx0YWlyLWVmMWUxNzhjYzc0NNIBAA?oc=5'}], 'link': 'https://news.google.com/rss/articles/CBMiV2h0dHBzOi8vdG93YXJkc2RhdGFzY2llbmNlLmNvbS9zdG9jay1wcmljZS1hbmFseXNpcy13aXRoLXBhbmRhcy1hbmQtYWx0YWlyLWVmMWUxNzhjYzc0NNIBAA?oc=5', 'id': 'CBMiV2h0dHBzOi8vdG93YXJkc2RhdGFzY2llbmNlLmNvbS9zdG9jay1wcmljZS1hbmFseXNpcy13aXRoLXBhbmRhcy1hbmQtYWx0YWlyLWVmMWUxNzhjYzc0NNIBAA', 'guidislink': False, 'published': 'Fri, 01 Jan 2021 08:00:00 GMT', 'published_parsed': time.struct_time(tm_year=2021, tm_mon=1, tm_mday=1, tm_hour=8, tm_min=0, tm_sec=0, tm_wday=4, tm_yday=1, tm_isdst=0), 'summary': '<a href=\"https://news.google.com/rss/articles/CBMiV2h0dHBzOi8vdG93YXJkc2RhdGFzY2llbmNlLmNvbS9zdG9jay1wcmljZS1hbmFseXNpcy13aXRoLXBhbmRhcy1hbmQtYWx0YWlyLWVmMWUxNzhjYzc0NNIBAA?oc=5\" target=\"_blank\">Stock Price Analysis with Pandas and Altair | by Soner Yıldırım</a>&nbsp;&nbsp;<font color=\"#6f6f6f\">Towards Data Science</font>', 'summary_detail': {'type': 'text/html', 'language': None, 'base': '', 'value': '<a href=\"https://news.google.com/rss/articles/CBMiV2h0dHBzOi8vdG93YXJkc2RhdGFzY2llbmNlLmNvbS9zdG9jay1wcmljZS1hbmFseXNpcy13aXRoLXBhbmRhcy1hbmQtYWx0YWlyLWVmMWUxNzhjYzc0NNIBAA?oc=5\" target=\"_blank\">Stock Price Analysis with Pandas and Altair | by Soner Yıldırım</a>&nbsp;&nbsp;<font color=\"#6f6f6f\">Towards Data Science</font>'}, 'source': {'href': 'https://towardsdatascience.com', 'title': 'Towards Data Science'}, 'sub_articles': []}\n"
     ]
    }
   ],
   "source": [
    "print(search['entries'][0])"
   ]
  }
 ],
 "metadata": {
  "kernelspec": {
   "display_name": "stocks_stats",
   "language": "python",
   "name": "python3"
  },
  "language_info": {
   "codemirror_mode": {
    "name": "ipython",
    "version": 3
   },
   "file_extension": ".py",
   "mimetype": "text/x-python",
   "name": "python",
   "nbconvert_exporter": "python",
   "pygments_lexer": "ipython3",
   "version": "3.8.19"
  }
 },
 "nbformat": 4,
 "nbformat_minor": 2
}
