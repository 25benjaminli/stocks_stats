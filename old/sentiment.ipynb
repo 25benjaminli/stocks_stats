{
 "cells": [
  {
   "cell_type": "code",
   "execution_count": 26,
   "metadata": {},
   "outputs": [
    {
     "name": "stdout",
     "output_type": "stream",
     "text": [
      "The autoreload extension is already loaded. To reload it, use:\n",
      "  %reload_ext autoreload\n"
     ]
    }
   ],
   "source": [
    "from stocksent import Sentiment\n",
    "import yfinance as yf\n",
    "%load_ext autoreload\n",
    "%autoreload 2\n",
    "\n",
    "days_back = 730"
   ]
  },
  {
   "cell_type": "code",
   "execution_count": 1,
   "metadata": {},
   "outputs": [
    {
     "name": "stderr",
     "output_type": "stream",
     "text": [
      "[*********************100%%**********************]  1 of 1 completed\n"
     ]
    }
   ],
   "source": [
    "from pandas_datareader import data as pdr\n",
    "\n",
    "import yfinance as yf\n",
    "yf.pdr_override() # <== that's all it takes :-)\n",
    "\n",
    "# download dataframe\n",
    "data = pdr.get_data_yahoo(\"SPY\", start=\"2017-01-01\", end=\"2017-04-30\")\n"
   ]
  },
  {
   "cell_type": "code",
   "execution_count": 2,
   "metadata": {},
   "outputs": [
    {
     "data": {
      "text/html": [
       "<div>\n",
       "<style scoped>\n",
       "    .dataframe tbody tr th:only-of-type {\n",
       "        vertical-align: middle;\n",
       "    }\n",
       "\n",
       "    .dataframe tbody tr th {\n",
       "        vertical-align: top;\n",
       "    }\n",
       "\n",
       "    .dataframe thead th {\n",
       "        text-align: right;\n",
       "    }\n",
       "</style>\n",
       "<table border=\"1\" class=\"dataframe\">\n",
       "  <thead>\n",
       "    <tr style=\"text-align: right;\">\n",
       "      <th></th>\n",
       "      <th>Open</th>\n",
       "      <th>High</th>\n",
       "      <th>Low</th>\n",
       "      <th>Close</th>\n",
       "      <th>Adj Close</th>\n",
       "      <th>Volume</th>\n",
       "    </tr>\n",
       "    <tr>\n",
       "      <th>Date</th>\n",
       "      <th></th>\n",
       "      <th></th>\n",
       "      <th></th>\n",
       "      <th></th>\n",
       "      <th></th>\n",
       "      <th></th>\n",
       "    </tr>\n",
       "  </thead>\n",
       "  <tbody>\n",
       "    <tr>\n",
       "      <th>2017-01-03</th>\n",
       "      <td>225.039993</td>\n",
       "      <td>225.830002</td>\n",
       "      <td>223.880005</td>\n",
       "      <td>225.240005</td>\n",
       "      <td>199.200638</td>\n",
       "      <td>91366500</td>\n",
       "    </tr>\n",
       "    <tr>\n",
       "      <th>2017-01-04</th>\n",
       "      <td>225.619995</td>\n",
       "      <td>226.750000</td>\n",
       "      <td>225.610001</td>\n",
       "      <td>226.580002</td>\n",
       "      <td>200.385757</td>\n",
       "      <td>78744400</td>\n",
       "    </tr>\n",
       "    <tr>\n",
       "      <th>2017-01-05</th>\n",
       "      <td>226.270004</td>\n",
       "      <td>226.580002</td>\n",
       "      <td>225.479996</td>\n",
       "      <td>226.399994</td>\n",
       "      <td>200.226501</td>\n",
       "      <td>78379000</td>\n",
       "    </tr>\n",
       "    <tr>\n",
       "      <th>2017-01-06</th>\n",
       "      <td>226.529999</td>\n",
       "      <td>227.750000</td>\n",
       "      <td>225.899994</td>\n",
       "      <td>227.210007</td>\n",
       "      <td>200.942856</td>\n",
       "      <td>71559900</td>\n",
       "    </tr>\n",
       "    <tr>\n",
       "      <th>2017-01-09</th>\n",
       "      <td>226.910004</td>\n",
       "      <td>227.070007</td>\n",
       "      <td>226.419998</td>\n",
       "      <td>226.460007</td>\n",
       "      <td>200.279572</td>\n",
       "      <td>46939700</td>\n",
       "    </tr>\n",
       "  </tbody>\n",
       "</table>\n",
       "</div>"
      ],
      "text/plain": [
       "                  Open        High         Low       Close   Adj Close  \\\n",
       "Date                                                                     \n",
       "2017-01-03  225.039993  225.830002  223.880005  225.240005  199.200638   \n",
       "2017-01-04  225.619995  226.750000  225.610001  226.580002  200.385757   \n",
       "2017-01-05  226.270004  226.580002  225.479996  226.399994  200.226501   \n",
       "2017-01-06  226.529999  227.750000  225.899994  227.210007  200.942856   \n",
       "2017-01-09  226.910004  227.070007  226.419998  226.460007  200.279572   \n",
       "\n",
       "              Volume  \n",
       "Date                  \n",
       "2017-01-03  91366500  \n",
       "2017-01-04  78744400  \n",
       "2017-01-05  78379000  \n",
       "2017-01-06  71559900  \n",
       "2017-01-09  46939700  "
      ]
     },
     "execution_count": 2,
     "metadata": {},
     "output_type": "execute_result"
    }
   ],
   "source": [
    "data.head()"
   ]
  },
  {
   "cell_type": "code",
   "execution_count": 27,
   "metadata": {},
   "outputs": [
    {
     "name": "stdout",
     "output_type": "stream",
     "text": [
      "0.0938\n"
     ]
    }
   ],
   "source": [
    "stock = Sentiment('MSFT')\n",
    "sentiment_score = stock.get_sentiment(days=days_back)\n",
    "print(sentiment_score)  # Returns a float with the sentiment score."
   ]
  },
  {
   "cell_type": "code",
   "execution_count": 28,
   "metadata": {},
   "outputs": [
    {
     "name": "stdout",
     "output_type": "stream",
     "text": [
      "   ticker        date     time            source  \\\n",
      "0    MSFT  2024-05-02  08:50PM      (TechCrunch)   \n",
      "1    MSFT  2024-05-02  07:38PM       (Bloomberg)   \n",
      "2    MSFT  2024-05-02  05:47PM   (Yahoo Finance)   \n",
      "3    MSFT  2024-05-02  05:15PM  (Insider Monkey)   \n",
      "4    MSFT  2024-05-02  04:43PM        (Benzinga)   \n",
      "..    ...         ...      ...               ...   \n",
      "95   MSFT  2024-05-01  12:17AM         (Reuters)   \n",
      "96   MSFT  2024-05-01  12:16AM         (Reuters)   \n",
      "97   MSFT  2024-05-01  12:12AM         (Reuters)   \n",
      "98   MSFT  2024-04-30  11:56PM       (Bloomberg)   \n",
      "99   MSFT  2024-04-30  09:34PM    (Investopedia)   \n",
      "\n",
      "                                             headline  Negative  Neutral  \\\n",
      "0   Microsoft bans US police departments from usin...     0.000    1.000   \n",
      "1   Microsoft Adds Security Chiefs to Product Grou...     0.190    0.654   \n",
      "2   Apple CEO Tim Cook boasts of future AI plans a...     0.000    1.000   \n",
      "3   Bitbot's Presale Passes $3M After AI Developme...     0.000    1.000   \n",
      "4   Microsoft's $75B Acquisition of Activision Cle...     0.000    0.887   \n",
      "..                                                ...       ...      ...   \n",
      "95  RPT-Microsoft to open first regional data cent...     0.000    1.000   \n",
      "96  Microsoft to open first regional data centre i...     0.000    1.000   \n",
      "97  Microsoft to power data centres with Brookfiel...     0.000    1.000   \n",
      "98  Microsofts CEO Adds AI for Thailand on Southea...     0.000    1.000   \n",
      "99  AMD Stock Tumbles as Full-Year Data Center Out...     0.245    0.755   \n",
      "\n",
      "    Positive  Overall  \n",
      "0      0.000   0.0000  \n",
      "1      0.157  -0.1280  \n",
      "2      0.000   0.0000  \n",
      "3      0.000   0.0000  \n",
      "4      0.113   0.1027  \n",
      "..       ...      ...  \n",
      "95     0.000   0.0000  \n",
      "96     0.000   0.0000  \n",
      "97     0.000   0.0000  \n",
      "98     0.000   0.0000  \n",
      "99     0.000  -0.3818  \n",
      "\n",
      "[100 rows x 9 columns]\n"
     ]
    }
   ],
   "source": [
    "# from stocksent import Sentiment\n",
    "stock = Sentiment('MSFT')\n",
    "sentiment_score = stock.get_dataframe(days=days_back)\n",
    "print(sentiment_score)  # Returns a float with the sentiment score."
   ]
  },
  {
   "cell_type": "code",
   "execution_count": 21,
   "metadata": {},
   "outputs": [
    {
     "name": "stdout",
     "output_type": "stream",
     "text": [
      "100\n"
     ]
    }
   ],
   "source": [
    "print(len(sentiment_score))"
   ]
  },
  {
   "cell_type": "code",
   "execution_count": 23,
   "metadata": {},
   "outputs": [],
   "source": [
    "# filter sentiment score based on if the time of the article was before the market open (column is named time)\n",
    "sentiment_score = sentiment_score[sentiment_score['time'] < '09:30:00'] # ???"
   ]
  },
  {
   "cell_type": "code",
   "execution_count": 24,
   "metadata": {},
   "outputs": [
    {
     "name": "stdout",
     "output_type": "stream",
     "text": [
      "70\n"
     ]
    }
   ],
   "source": [
    "print(len(sentiment_score))"
   ]
  },
  {
   "cell_type": "code",
   "execution_count": 25,
   "metadata": {},
   "outputs": [
    {
     "name": "stdout",
     "output_type": "stream",
     "text": [
      "   ticker        date     time                       source  \\\n",
      "8    MSFT  2024-05-01  08:03AM               (MT Newswires)   \n",
      "9    MSFT  2024-05-01  07:30AM                (Motley Fool)   \n",
      "10   MSFT  2024-05-01  07:30AM              (InvestorPlace)   \n",
      "11   MSFT  2024-05-01  07:30AM                (Motley Fool)   \n",
      "12   MSFT  2024-05-01  06:54AM               (MT Newswires)   \n",
      "..    ...         ...      ...                          ...   \n",
      "95   MSFT  2024-04-29  05:21PM                (Barrons.com)   \n",
      "96   MSFT  2024-04-29  04:53PM        (Yahoo Finance Video)   \n",
      "97   MSFT  2024-04-29  04:30PM              (InvestorPlace)   \n",
      "98   MSFT  2024-04-29  04:14PM                    (CNBC TV)   \n",
      "99   MSFT  2024-04-29  04:09PM  (Investor's Business Daily)   \n",
      "\n",
      "                                             headline  Negative  Neutral  \\\n",
      "8   Microsoft Strikes Deal With Brookfield to Back...     0.160    0.705   \n",
      "9   Microsoft's Earnings Results Show It's Deliver...     0.000    0.714   \n",
      "10  3 Spatial Computing Stocks That Will Dominate ...     0.143    0.857   \n",
      "11       2 Dominant AI Companies to Buy and 1 to Sell     0.000    1.000   \n",
      "12  Brookfield Up 1% in U.S. Premarket After Renew...     0.000    0.775   \n",
      "..                                                ...       ...      ...   \n",
      "95  Arista Stock Has Been Under Pressure. Why an A...     0.145    0.855   \n",
      "96  AI tech battle: Pick Microsoft over Meta, anal...     0.245    0.755   \n",
      "97  AI Jackpot: 7 Machine Learning Stocks to Doubl...     0.000    1.000   \n",
      "98  Microsoft and Alphabet demonstrated the curren...     0.000    0.833   \n",
      "99  Amazon Earnings Preview: Investors Watching AW...     0.000    0.677   \n",
      "\n",
      "    Positive  Overall  \n",
      "8      0.135  -0.1027  \n",
      "9      0.286   0.7003  \n",
      "10     0.000  -0.1280  \n",
      "11     0.000   0.0000  \n",
      "12     0.225   0.4939  \n",
      "..       ...      ...  \n",
      "95     0.000  -0.2960  \n",
      "96     0.000  -0.3818  \n",
      "97     0.000   0.0000  \n",
      "98     0.167   0.3818  \n",
      "99     0.323   0.5106  \n",
      "\n",
      "[70 rows x 9 columns]\n"
     ]
    }
   ],
   "source": [
    "print(sentiment_score)"
   ]
  },
  {
   "cell_type": "code",
   "execution_count": 15,
   "metadata": {},
   "outputs": [],
   "source": [
    "# select historical ranges of dates\n",
    "msft = yf.Ticker(\"MSFT\")\n",
    "hist = msft.history(period=\"2y\") # 5 years of data\n",
    "# msft.history_metadata"
   ]
  },
  {
   "cell_type": "code",
   "execution_count": 16,
   "metadata": {},
   "outputs": [
    {
     "data": {
      "text/html": [
       "<div>\n",
       "<style scoped>\n",
       "    .dataframe tbody tr th:only-of-type {\n",
       "        vertical-align: middle;\n",
       "    }\n",
       "\n",
       "    .dataframe tbody tr th {\n",
       "        vertical-align: top;\n",
       "    }\n",
       "\n",
       "    .dataframe thead th {\n",
       "        text-align: right;\n",
       "    }\n",
       "</style>\n",
       "<table border=\"1\" class=\"dataframe\">\n",
       "  <thead>\n",
       "    <tr style=\"text-align: right;\">\n",
       "      <th></th>\n",
       "      <th>Open</th>\n",
       "      <th>High</th>\n",
       "      <th>Low</th>\n",
       "      <th>Close</th>\n",
       "      <th>Volume</th>\n",
       "      <th>Dividends</th>\n",
       "      <th>Stock Splits</th>\n",
       "    </tr>\n",
       "    <tr>\n",
       "      <th>Date</th>\n",
       "      <th></th>\n",
       "      <th></th>\n",
       "      <th></th>\n",
       "      <th></th>\n",
       "      <th></th>\n",
       "      <th></th>\n",
       "      <th></th>\n",
       "    </tr>\n",
       "  </thead>\n",
       "  <tbody>\n",
       "    <tr>\n",
       "      <th>2019-05-01 00:00:00-04:00</th>\n",
       "      <td>124.250505</td>\n",
       "      <td>124.364728</td>\n",
       "      <td>121.556648</td>\n",
       "      <td>121.727989</td>\n",
       "      <td>26821700</td>\n",
       "      <td>0.0</td>\n",
       "      <td>0.0</td>\n",
       "    </tr>\n",
       "    <tr>\n",
       "      <th>2019-05-02 00:00:00-04:00</th>\n",
       "      <td>121.823182</td>\n",
       "      <td>121.842217</td>\n",
       "      <td>119.481521</td>\n",
       "      <td>120.138329</td>\n",
       "      <td>27350200</td>\n",
       "      <td>0.0</td>\n",
       "      <td>0.0</td>\n",
       "    </tr>\n",
       "    <tr>\n",
       "      <th>2019-05-03 00:00:00-04:00</th>\n",
       "      <td>121.233013</td>\n",
       "      <td>123.203423</td>\n",
       "      <td>121.128305</td>\n",
       "      <td>122.698921</td>\n",
       "      <td>24911100</td>\n",
       "      <td>0.0</td>\n",
       "      <td>0.0</td>\n",
       "    </tr>\n",
       "    <tr>\n",
       "      <th>2019-05-06 00:00:00-04:00</th>\n",
       "      <td>120.309660</td>\n",
       "      <td>122.375265</td>\n",
       "      <td>120.043132</td>\n",
       "      <td>121.984985</td>\n",
       "      <td>24239800</td>\n",
       "      <td>0.0</td>\n",
       "      <td>0.0</td>\n",
       "    </tr>\n",
       "    <tr>\n",
       "      <th>2019-05-07 00:00:00-04:00</th>\n",
       "      <td>120.376310</td>\n",
       "      <td>121.061674</td>\n",
       "      <td>118.244073</td>\n",
       "      <td>119.481529</td>\n",
       "      <td>36017700</td>\n",
       "      <td>0.0</td>\n",
       "      <td>0.0</td>\n",
       "    </tr>\n",
       "  </tbody>\n",
       "</table>\n",
       "</div>"
      ],
      "text/plain": [
       "                                 Open        High         Low       Close  \\\n",
       "Date                                                                        \n",
       "2019-05-01 00:00:00-04:00  124.250505  124.364728  121.556648  121.727989   \n",
       "2019-05-02 00:00:00-04:00  121.823182  121.842217  119.481521  120.138329   \n",
       "2019-05-03 00:00:00-04:00  121.233013  123.203423  121.128305  122.698921   \n",
       "2019-05-06 00:00:00-04:00  120.309660  122.375265  120.043132  121.984985   \n",
       "2019-05-07 00:00:00-04:00  120.376310  121.061674  118.244073  119.481529   \n",
       "\n",
       "                             Volume  Dividends  Stock Splits  \n",
       "Date                                                          \n",
       "2019-05-01 00:00:00-04:00  26821700        0.0           0.0  \n",
       "2019-05-02 00:00:00-04:00  27350200        0.0           0.0  \n",
       "2019-05-03 00:00:00-04:00  24911100        0.0           0.0  \n",
       "2019-05-06 00:00:00-04:00  24239800        0.0           0.0  \n",
       "2019-05-07 00:00:00-04:00  36017700        0.0           0.0  "
      ]
     },
     "execution_count": 16,
     "metadata": {},
     "output_type": "execute_result"
    }
   ],
   "source": [
    "hist.head()"
   ]
  },
  {
   "cell_type": "code",
   "execution_count": 17,
   "metadata": {},
   "outputs": [
    {
     "data": {
      "text/plain": [
       "array([Timestamp('2019-05-20 00:00:00-0400', tz='America/New_York'),\n",
       "       Timestamp('2019-07-15 00:00:00-0400', tz='America/New_York'),\n",
       "       Timestamp('2019-07-18 00:00:00-0400', tz='America/New_York'),\n",
       "       Timestamp('2019-07-29 00:00:00-0400', tz='America/New_York'),\n",
       "       Timestamp('2019-08-02 00:00:00-0400', tz='America/New_York'),\n",
       "       Timestamp('2020-01-14 00:00:00-0500', tz='America/New_York'),\n",
       "       Timestamp('2020-02-03 00:00:00-0500', tz='America/New_York'),\n",
       "       Timestamp('2020-02-28 00:00:00-0500', tz='America/New_York'),\n",
       "       Timestamp('2020-03-26 00:00:00-0400', tz='America/New_York'),\n",
       "       Timestamp('2020-06-17 00:00:00-0400', tz='America/New_York'),\n",
       "       Timestamp('2020-08-14 00:00:00-0400', tz='America/New_York'),\n",
       "       Timestamp('2020-12-09 00:00:00-0500', tz='America/New_York'),\n",
       "       Timestamp('2021-02-08 00:00:00-0500', tz='America/New_York'),\n",
       "       Timestamp('2021-02-12 00:00:00-0500', tz='America/New_York'),\n",
       "       Timestamp('2021-02-23 00:00:00-0500', tz='America/New_York'),\n",
       "       Timestamp('2021-03-22 00:00:00-0400', tz='America/New_York'),\n",
       "       Timestamp('2021-04-27 00:00:00-0400', tz='America/New_York'),\n",
       "       Timestamp('2021-07-26 00:00:00-0400', tz='America/New_York'),\n",
       "       Timestamp('2021-08-03 00:00:00-0400', tz='America/New_York'),\n",
       "       Timestamp('2022-02-02 00:00:00-0500', tz='America/New_York'),\n",
       "       Timestamp('2022-09-27 00:00:00-0400', tz='America/New_York'),\n",
       "       Timestamp('2022-10-04 00:00:00-0400', tz='America/New_York'),\n",
       "       Timestamp('2022-10-05 00:00:00-0400', tz='America/New_York'),\n",
       "       Timestamp('2022-12-21 00:00:00-0500', tz='America/New_York'),\n",
       "       Timestamp('2023-06-08 00:00:00-0400', tz='America/New_York'),\n",
       "       Timestamp('2023-10-05 00:00:00-0400', tz='America/New_York'),\n",
       "       Timestamp('2023-11-21 00:00:00-0500', tz='America/New_York'),\n",
       "       Timestamp('2024-02-14 00:00:00-0500', tz='America/New_York'),\n",
       "       Timestamp('2024-02-20 00:00:00-0500', tz='America/New_York'),\n",
       "       Timestamp('2024-03-22 00:00:00-0400', tz='America/New_York')],\n",
       "      dtype=object)"
      ]
     },
     "execution_count": 17,
     "metadata": {},
     "output_type": "execute_result"
    }
   ],
   "source": [
    "# randomly select 30 days of data\n",
    "import random\n",
    "import numpy as np\n",
    "\n",
    "random.seed(42)\n",
    "random_dates = random.sample(list(hist.index), 30)\n",
    "random_dates = np.sort(random_dates)\n",
    "random_dates"
   ]
  },
  {
   "cell_type": "code",
   "execution_count": null,
   "metadata": {},
   "outputs": [],
   "source": []
  }
 ],
 "metadata": {
  "kernelspec": {
   "display_name": "stocks_stats_3.8",
   "language": "python",
   "name": "python3"
  },
  "language_info": {
   "codemirror_mode": {
    "name": "ipython",
    "version": 3
   },
   "file_extension": ".py",
   "mimetype": "text/x-python",
   "name": "python",
   "nbconvert_exporter": "python",
   "pygments_lexer": "ipython3",
   "version": "3.8.19"
  }
 },
 "nbformat": 4,
 "nbformat_minor": 2
}
